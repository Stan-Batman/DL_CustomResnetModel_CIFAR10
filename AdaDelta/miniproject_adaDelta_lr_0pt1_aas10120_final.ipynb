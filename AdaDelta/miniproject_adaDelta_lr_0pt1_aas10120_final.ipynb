{
  "nbformat": 4,
  "nbformat_minor": 0,
  "metadata": {
    "colab": {
      "provenance": []
    },
    "kernelspec": {
      "name": "python3",
      "display_name": "Python 3"
    },
    "language_info": {
      "name": "python"
    },
    "accelerator": "GPU",
    "gpuClass": "standard"
  },
  "cells": [
    {
      "cell_type": "markdown",
      "source": [
        "To prepare our CIFAR10 dataset for training, we apply data augmentation techniques and transforms. Specifically, we use the following techniques:\n",
        "\n",
        "Random Crop: This technique creates a random subset of an original image. We use this to randomly crop 32x32-pixel patches from the original images, which helps our model learn to recognize objects that might appear anywhere in the image.\n",
        "\n",
        "Random Horizontal Flip: This technique flips an image horizontally with a probability p. We use this to further augment our dataset and make our model more robust to variations in the orientation of objects.\n",
        "\n",
        "To Tensor: We use the To Tensor transform to convert our images to PyTorch tensors and scale the pixel values by 255.\n",
        "\n",
        "Normalize: We apply the Normalize transform to the tensor images so that their values have a mean of 0.0 and a standard deviation of 1.0. This helps our model learn from the input data more effectively.\n",
        "\n",
        "We download the CIFAR10 dataset to the root directory ./data. To ensure that we get the same validation set each time we run the code, we set PyTorch's random number generator to a seed value of 17. We also import the datasets and convert the images into PyTorch tensors.\n"
      ],
      "metadata": {
        "id": "NXcbERti-5V2"
      }
    },
    {
      "cell_type": "code",
      "execution_count": null,
      "metadata": {
        "colab": {
          "base_uri": "https://localhost:8080/"
        },
        "id": "z13JhFe5Uv7U",
        "outputId": "b7287b27-7c19-48b2-b9ea-1dbbca520935"
      },
      "outputs": [
        {
          "output_type": "stream",
          "name": "stdout",
          "text": [
            "Initializing fetching CIFAR10 dataset using torchvision\n",
            "Downloading https://www.cs.toronto.edu/~kriz/cifar-10-python.tar.gz to ./data/cifar-10-python.tar.gz\n"
          ]
        },
        {
          "output_type": "stream",
          "name": "stderr",
          "text": [
            "100%|██████████| 170498071/170498071 [00:21<00:00, 8043368.25it/s] \n"
          ]
        },
        {
          "output_type": "stream",
          "name": "stdout",
          "text": [
            "Extracting ./data/cifar-10-python.tar.gz to ./data\n",
            "Files already downloaded and verified\n",
            "Files already downloaded and verified\n"
          ]
        }
      ],
      "source": [
        "import multiprocessing\n",
        "import torchvision\n",
        "import torchvision.transforms as transforms\n",
        "import numpy as np\n",
        "from torch.utils.data import DataLoader\n",
        "import torch\n",
        "torch.manual_seed(17)\n",
        "\n",
        "from torchsummary import summary\n",
        "from tqdm import tqdm\n",
        "import matplotlib.pyplot as plt\n",
        "\n",
        "class FetchDataset:\n",
        "\n",
        "    def __init__(self, dataset=\"CIFAR10\", batch_size=64):\n",
        "        print(\"Initializing fetching %s dataset using torchvision\"%(dataset))\n",
        "        # check if the dataset exists in torchvision\n",
        "        self.datasetObject = torchvision.datasets.__dict__.get(dataset, None)\n",
        "        if self.datasetObject == None:\n",
        "            raise Exception(\"Dataset %s might not be in torchvision.\"%(dataset))\n",
        "        self.batch_size = batch_size\n",
        "        self.transformers_training = []\n",
        "        self.transformers_testing = []\n",
        "        # set number of workers available for multiprocessing\n",
        "        self.workersAvailable = min(multiprocessing.cpu_count(), 14)\n",
        "      \n",
        "    def dataAugmentation(self, size=32, padding=3):\n",
        "        # add data augmentation transforms to the training set\n",
        "        self.transformers_training.append(transforms.RandomHorizontalFlip())\n",
        "        self.transformers_training.append(transforms.RandomCrop(size=size, padding=padding))\n",
        "        self.transformers_training.append(transforms.functional.equalize)\n",
        "        self.transformers_testing.append(transforms.functional.equalize)\n",
        "\n",
        "    def __addToTensor(self):\n",
        "        # add ToTensor transform to the training and testing sets\n",
        "        self.transformers_training.append(transforms.ToTensor())\n",
        "        self.transformers_testing.append(transforms.ToTensor())\n",
        "\n",
        "    def addNormalizer(self):\n",
        "        self.__addToTensor()\n",
        "        # load training set to compute mean and standard deviation\n",
        "        dataset_training = self.datasetObject(root=\"./data\", train=True, download=True)\n",
        "        data_train = dataset_training.data/255.0\n",
        "        mean = data_train.mean(axis=(0, 1, 2))\n",
        "        std = data_train.std(axis=(0, 1, 2))\n",
        "        # add Normalize transform to the training and testing sets\n",
        "        self.transformers_training.append(transforms.Normalize(mean=mean, std=std))\n",
        "        self.transformers_testing.append(transforms.Normalize(mean=mean, std=std))\n",
        "        \n",
        "\n",
        "    def getLoaders(self):\n",
        "        if len(self.transformers_training) == 0:\n",
        "            self.__addToTensor()\n",
        "        # create data loaders with the defined batch size, transformers and number of workers\n",
        "        dataset_training = self.datasetObject(root=\"./data\", train=True, download=True, transform=transforms.Compose(self.transformers_training))\n",
        "        dataset_testing = self.datasetObject(root=\"./data\", train=False, download=True, transform=transforms.Compose(self.transformers_testing))\n",
        "        load_train = DataLoader(dataset_training, batch_size=self.batch_size, shuffle=True, num_workers=self.workersAvailable)\n",
        "        load_test = DataLoader(dataset_testing, batch_size=self.batch_size, shuffle=False, num_workers=self.workersAvailable)\n",
        "        # return the training and testing data loaders\n",
        "        return load_train, load_test\n",
        "    \n",
        "# create a new instance of FetchDataset for the CIFAR10 dataset with batch size of 128\n",
        "df = FetchDataset(dataset=\"CIFAR10\", batch_size=128)\n",
        "# add data augmentation transforms to the training set with size 32 and padding 4\n",
        "df.dataAugmentation(size=32, padding=4)\n",
        "# add normalizing transforms to the training and testing sets\n",
        "df.addNormalizer()\n",
        "# get the training and testing data loaders\n",
        "trainLoader, testLoader = df.getLoaders()\n"
      ]
    },
    {
      "cell_type": "markdown",
      "source": [
        "Modified the basic resnet model from https://github.com/kuangliu/pytorch-cifar/blob/master/models/resnet.py \n",
        "\n",
        "• Ci, the number of channels in the ith layer.\n",
        "• Fi, the filter size in the ith layer\n",
        "• Ki, the kernel size in the ith skip connection\n",
        "• P, the pool size in the average pool laye\n",
        "\n",
        "Using the following values for the Hyperparameters (design variables) in our architectures : \n",
        "\n",
        "    C=[64,128,128,256]\n",
        "    F=[3,3,3,3]\n",
        "    K=[1,1,1,1]  \n",
        "    P=4\n",
        "\n"
      ],
      "metadata": {
        "id": "ecFhnfbS3yTe"
      }
    },
    {
      "cell_type": "code",
      "source": [
        "# Import necessary PyTorch modules\n",
        "import torch.nn as nn\n",
        "import torch.nn.functional as F\n",
        "\n",
        "# Define the BasicBlock class, which is used to construct the layers in the ResNet architecture\n",
        "class BasicBlock(nn.Module):\n",
        "\n",
        "    # Initialize the BasicBlock class\n",
        "    def __init__(self, in_planes, planes, kernel_size, skip_kernel, stride=1):\n",
        "        super(BasicBlock, self).__init__()\n",
        "\n",
        "        # Define the first convolutional layer\n",
        "        self.conv1 = nn.Conv2d(in_planes, planes, kernel_size=kernel_size, stride=stride, padding=1, bias=False)\n",
        "        self.bn1 = nn.BatchNorm2d(planes)\n",
        "\n",
        "        # Define the second convolutional layer\n",
        "        self.conv2 = nn.Conv2d(planes, planes, kernel_size=kernel_size, stride=1, padding=1, bias=False)\n",
        "        self.bn2 = nn.BatchNorm2d(planes)\n",
        "\n",
        "        # Define the shortcut connection, which is used to add the output of the convolutional layers to the input\n",
        "        self.shortcut = nn.Sequential()\n",
        "\n",
        "        # If the stride is not 1 or the number of input planes is not equal to the number of output planes, \n",
        "        # define a convolutional layer and a batch normalization layer for the shortcut connection\n",
        "        if stride != 1 or in_planes != planes:\n",
        "            self.shortcut = nn.Sequential(\n",
        "                nn.Conv2d(in_planes, planes, kernel_size=skip_kernel, stride=stride, bias=False),\n",
        "                nn.BatchNorm2d(planes)\n",
        "            )\n",
        "\n",
        "    # Define the forward pass for the BasicBlock class\n",
        "    def forward(self, x):\n",
        "        # Apply the first convolutional layer, batch normalization, and ReLU activation\n",
        "        out = F.relu(self.bn1(self.conv1(x)))\n",
        "\n",
        "        # Apply the second convolutional layer and batch normalization\n",
        "        out = self.bn2(self.conv2(out))\n",
        "\n",
        "        # Add the shortcut connection to the output of the convolutional layers\n",
        "        out += self.shortcut(x)\n",
        "\n",
        "        # Apply the ReLU activation\n",
        "        out = F.relu(out)\n",
        "\n",
        "        return out\n",
        "\n",
        "# Define the ResNet class, which is used to construct the ResNet architecture\n",
        "class ResNet(nn.Module):\n",
        "\n",
        "      # Initialize the ResNet class\n",
        "      def __init__(self,N:int, B:list, C:list, F:list, K:list, P:int, num_classes=10):\n",
        "          super(ResNet, self).__init__()\n",
        "\n",
        "          # Initialize the number of input planes\n",
        "          self.in_planes = C[0]\n",
        "\n",
        "          # Set the block to the BasicBlock class\n",
        "          self.block = BasicBlock\n",
        "\n",
        "          # Store the values of N, B, C, F, K, and P\n",
        "          self.N, self.B, self.C, self.F, self.K, self.P= N, B, C, F, K, P\n",
        "\n",
        "          # Initialize a container for the layers\n",
        "          self.layers = []\n",
        "\n",
        "          # Set the stride for each layer\n",
        "          self.S = [2] * N\n",
        "          self.S[0] = 1\n",
        "\n",
        "          # Calculate the input dimension for the output linear layer\n",
        "          self.outLayerInSize = C[N-1]*(32//(P*2**(N-1)))*(32//(P*2**(N-1)))\n",
        "\n",
        "\n",
        "          # Print Model Config\n",
        "          print(\"\\n\\nModel Config: \"\n",
        "              \"\\n-------------------------------------\"\n",
        "              \"\\nN (# Layers)\\t:\",self.N,\n",
        "              \"\\nB (# Blocks)\\t:\",self.B,\n",
        "              \"\\nC (# Channels)\\t:\",C,\n",
        "              \"\\nF (Conv Kernel)\\t:\",F,\n",
        "              \"\\nK (Skip Kernel)\\t:\",K,\n",
        "              \"\\nP (Pool Kernel)\\t:\",P,)\n",
        "\n",
        "          # Define the first convolution layer with 3 input channels, C[0] output channels, F[0] kernel size,\n",
        "          # stride of 1, padding of 1, and no bias\n",
        "\n",
        "          self.conv1 = nn.Conv2d(3, C[0], kernel_size=F[0], stride=1, padding=1, bias=False)\n",
        "          # Define a batch normalization layer with C[0] channels\n",
        "\n",
        "          self.bn1 = nn.BatchNorm2d(C[0])\n",
        "                  # Define N residual blocks\n",
        "\n",
        "          for i in range(N): \n",
        "              # Dynamically create variable names for each residual block using the exec() function\n",
        "\n",
        "              exec(\"self.layer{} = self._make_layer(self.block, self.C[{}], self.B[{}], self.F[{}], self.K[{}], self.S[{}])\"\\\n",
        "                  .format(i+1,i,i,i,i,i))\n",
        "              # Append the residual block to the layers ModuleList\n",
        "              exec(\"self.layers.append(self.layer{})\".format(i+1))\n",
        "                    # Define the final linear layer with input size of outLayerInSize and output size of num_classes\n",
        "    \n",
        "          self.linear = nn.Linear(self.outLayerInSize, num_classes)\n",
        "          \n",
        "\n",
        "      def _make_layer(self, block, planes, num_blocks, kernel_size, skip_kernel, stride):\n",
        "          # Set stride for each block in the layer\n",
        "          strides = [stride] + [1]*(num_blocks-1)\n",
        "          layers = []\n",
        "          for stride in strides:\n",
        "              # Append each block to the layer with given arguments\n",
        "              layers.append(block(self.in_planes, planes, kernel_size, skip_kernel, stride))\n",
        "              # Update the number of input planes for the next block\n",
        "              self.in_planes = planes\n",
        "          # Return a sequential module containing all the blocks in the layer\n",
        "          return nn.Sequential(*layers)\n",
        "\n",
        "\n",
        "      def forward(self, x):\n",
        "          # Apply the first convolutional layer followed by batch normalization and ReLU activation\n",
        "          out = F.relu(self.bn1(self.conv1(x)))\n",
        "          # Apply all the blocks in the layer\n",
        "          for layer in self.layers:\n",
        "              out = layer(out)\n",
        "          # Apply average pooling with kernel size self.P\n",
        "          out = F.avg_pool2d(out, self.P)\n",
        "          # Flatten the output tensor\n",
        "          out = out.view(out.size(0), -1)\n",
        "          # Apply the fully connected linear layer\n",
        "          out = self.linear(out)\n",
        "          # Return the final output\n",
        "          return out\n",
        "\n",
        "def resnet_model():\n",
        "        # Define the parameters for the ResNet architecture\n",
        "        B=[3,3,2,3]  # number of blocks in each layer\n",
        "        C=[64,128,128,256]  # number of output channels in each layer\n",
        "        F=[3,3,3,3]  # kernel size for each layer\n",
        "        K=[1,1,1,1]  # skip kernel size for each layer\n",
        "        P=4  # average pooling kernel size\n",
        "        N=len(B)  # number of layers in the network\n",
        "        # Return a new ResNet model with the defined parameters\n",
        "        return ResNet(N, B, C, F, K, P)\n"
      ],
      "metadata": {
        "id": "gvavgWjOUwjk"
      },
      "execution_count": null,
      "outputs": []
    },
    {
      "cell_type": "markdown",
      "source": [
        "Checking Device - If GPU is available, GPU will be used."
      ],
      "metadata": {
        "id": "eBO9x9w7dpnR"
      }
    },
    {
      "cell_type": "code",
      "source": [
        "device = torch.device(\"cuda\" if torch.cuda.is_available() else \"cpu\")\n",
        "print(device)"
      ],
      "metadata": {
        "colab": {
          "base_uri": "https://localhost:8080/"
        },
        "id": "R2V6SO6-VAw4",
        "outputId": "d80f579b-1e03-4021-94db-821c80b39bd1"
      },
      "execution_count": null,
      "outputs": [
        {
          "output_type": "stream",
          "name": "stdout",
          "text": [
            "cuda\n"
          ]
        }
      ]
    },
    {
      "cell_type": "code",
      "source": [
        "model = resnet_model()\n",
        "model = model.to(device)"
      ],
      "metadata": {
        "colab": {
          "base_uri": "https://localhost:8080/"
        },
        "id": "cwUOZ6TAVRcc",
        "outputId": "6be71321-9092-4345-df47-933d304c636b"
      },
      "execution_count": null,
      "outputs": [
        {
          "output_type": "stream",
          "name": "stdout",
          "text": [
            "\n",
            "\n",
            "Model Config: \n",
            "-------------------------------------\n",
            "N (# Layers)\t: 4 \n",
            "B (# Blocks)\t: [3, 3, 2, 3] \n",
            "C (# Channels)\t: [64, 128, 128, 256] \n",
            "F (Conv Kernel)\t: [3, 3, 3, 3] \n",
            "K (Skip Kernel)\t: [1, 1, 1, 1] \n",
            "P (Pool Kernel)\t: 4\n"
          ]
        }
      ]
    },
    {
      "cell_type": "markdown",
      "source": [
        "We run our model for 300 epochs, to find out the best possible accuracy. The accuracy becomes near about constant after it. We define our:\n",
        "\n",
        "learning rate, weightDecay, type of optimizer to be used (we tried with Adam, Adagrad, AdaDelta), with Adadelta giving out the best accuracy.\n",
        "\n",
        "The scheduler set the learning rate of each parameter group using a cosine annealing schedule\n"
      ],
      "metadata": {
        "id": "ZwbaYnn_45P1"
      }
    },
    {
      "cell_type": "code",
      "source": [
        "EPOCHS=300\n",
        "globalBestAccuracy = 0.0  # initialize the global best accuracy to 0.0\n",
        "train_loss = []  # list to store train loss\n",
        "test_loss = []  # list to store test loss\n",
        "train_accuracy = []  # list to store train accuracy\n",
        "test_accuracy = []  # list to store test accuracy\n",
        "\n",
        "# define the loss function as Cross Entropy Loss with sum reduction\n",
        "loss_function = torch.nn.CrossEntropyLoss(reduction='sum')\n",
        "\n",
        "learningRate = 0.1  # set the learning rate to 0.1\n",
        "weightDecay = 0.0001  # set the weight decay to 0.0001\n",
        "\n",
        "# define the optimizer as Adadelta with the above defined learning rate and weight decay\n",
        "optimizer = torch.optim.Adadelta(model.parameters(), lr=learningRate, weight_decay=weightDecay)\n",
        "\n",
        "# define the learning rate scheduler as Cosine Annealing LR with the above defined optimizer, number of epochs, and minimum learning rate\n",
        "scheduler = torch.optim.lr_scheduler.CosineAnnealingLR(optimizer, EPOCHS, eta_min=learningRate/10.0)\n",
        "\n",
        "# print the model's evaluation mode\n",
        "print(model.eval())\n",
        "\n",
        "# calculate and print the total trainable parameters of the model\n",
        "trainable_parameters = sum(p.numel() for p in model.parameters() if p.requires_grad)\n",
        "print(\"Total Trainable Parameters : %s\"%(trainable_parameters))\n",
        "\n",
        "# if the total number of trainable parameters exceeds 5 million, raise an exception\n",
        "if trainable_parameters > 5*(10**6):\n",
        "    raise Exception(\"The total number of parameters exceeds 5 million\")\n"
      ],
      "metadata": {
        "colab": {
          "base_uri": "https://localhost:8080/"
        },
        "id": "iDgGEj7_VaJg",
        "outputId": "92b04ea4-e48a-4a5c-fff3-86d8b9f85d9a"
      },
      "execution_count": null,
      "outputs": [
        {
          "output_type": "stream",
          "name": "stdout",
          "text": [
            "ResNet(\n",
            "  (conv1): Conv2d(3, 64, kernel_size=(3, 3), stride=(1, 1), padding=(1, 1), bias=False)\n",
            "  (bn1): BatchNorm2d(64, eps=1e-05, momentum=0.1, affine=True, track_running_stats=True)\n",
            "  (layer1): Sequential(\n",
            "    (0): BasicBlock(\n",
            "      (conv1): Conv2d(64, 64, kernel_size=(3, 3), stride=(1, 1), padding=(1, 1), bias=False)\n",
            "      (bn1): BatchNorm2d(64, eps=1e-05, momentum=0.1, affine=True, track_running_stats=True)\n",
            "      (conv2): Conv2d(64, 64, kernel_size=(3, 3), stride=(1, 1), padding=(1, 1), bias=False)\n",
            "      (bn2): BatchNorm2d(64, eps=1e-05, momentum=0.1, affine=True, track_running_stats=True)\n",
            "      (shortcut): Sequential()\n",
            "    )\n",
            "    (1): BasicBlock(\n",
            "      (conv1): Conv2d(64, 64, kernel_size=(3, 3), stride=(1, 1), padding=(1, 1), bias=False)\n",
            "      (bn1): BatchNorm2d(64, eps=1e-05, momentum=0.1, affine=True, track_running_stats=True)\n",
            "      (conv2): Conv2d(64, 64, kernel_size=(3, 3), stride=(1, 1), padding=(1, 1), bias=False)\n",
            "      (bn2): BatchNorm2d(64, eps=1e-05, momentum=0.1, affine=True, track_running_stats=True)\n",
            "      (shortcut): Sequential()\n",
            "    )\n",
            "    (2): BasicBlock(\n",
            "      (conv1): Conv2d(64, 64, kernel_size=(3, 3), stride=(1, 1), padding=(1, 1), bias=False)\n",
            "      (bn1): BatchNorm2d(64, eps=1e-05, momentum=0.1, affine=True, track_running_stats=True)\n",
            "      (conv2): Conv2d(64, 64, kernel_size=(3, 3), stride=(1, 1), padding=(1, 1), bias=False)\n",
            "      (bn2): BatchNorm2d(64, eps=1e-05, momentum=0.1, affine=True, track_running_stats=True)\n",
            "      (shortcut): Sequential()\n",
            "    )\n",
            "  )\n",
            "  (layer2): Sequential(\n",
            "    (0): BasicBlock(\n",
            "      (conv1): Conv2d(64, 128, kernel_size=(3, 3), stride=(2, 2), padding=(1, 1), bias=False)\n",
            "      (bn1): BatchNorm2d(128, eps=1e-05, momentum=0.1, affine=True, track_running_stats=True)\n",
            "      (conv2): Conv2d(128, 128, kernel_size=(3, 3), stride=(1, 1), padding=(1, 1), bias=False)\n",
            "      (bn2): BatchNorm2d(128, eps=1e-05, momentum=0.1, affine=True, track_running_stats=True)\n",
            "      (shortcut): Sequential(\n",
            "        (0): Conv2d(64, 128, kernel_size=(1, 1), stride=(2, 2), bias=False)\n",
            "        (1): BatchNorm2d(128, eps=1e-05, momentum=0.1, affine=True, track_running_stats=True)\n",
            "      )\n",
            "    )\n",
            "    (1): BasicBlock(\n",
            "      (conv1): Conv2d(128, 128, kernel_size=(3, 3), stride=(1, 1), padding=(1, 1), bias=False)\n",
            "      (bn1): BatchNorm2d(128, eps=1e-05, momentum=0.1, affine=True, track_running_stats=True)\n",
            "      (conv2): Conv2d(128, 128, kernel_size=(3, 3), stride=(1, 1), padding=(1, 1), bias=False)\n",
            "      (bn2): BatchNorm2d(128, eps=1e-05, momentum=0.1, affine=True, track_running_stats=True)\n",
            "      (shortcut): Sequential()\n",
            "    )\n",
            "    (2): BasicBlock(\n",
            "      (conv1): Conv2d(128, 128, kernel_size=(3, 3), stride=(1, 1), padding=(1, 1), bias=False)\n",
            "      (bn1): BatchNorm2d(128, eps=1e-05, momentum=0.1, affine=True, track_running_stats=True)\n",
            "      (conv2): Conv2d(128, 128, kernel_size=(3, 3), stride=(1, 1), padding=(1, 1), bias=False)\n",
            "      (bn2): BatchNorm2d(128, eps=1e-05, momentum=0.1, affine=True, track_running_stats=True)\n",
            "      (shortcut): Sequential()\n",
            "    )\n",
            "  )\n",
            "  (layer3): Sequential(\n",
            "    (0): BasicBlock(\n",
            "      (conv1): Conv2d(128, 128, kernel_size=(3, 3), stride=(2, 2), padding=(1, 1), bias=False)\n",
            "      (bn1): BatchNorm2d(128, eps=1e-05, momentum=0.1, affine=True, track_running_stats=True)\n",
            "      (conv2): Conv2d(128, 128, kernel_size=(3, 3), stride=(1, 1), padding=(1, 1), bias=False)\n",
            "      (bn2): BatchNorm2d(128, eps=1e-05, momentum=0.1, affine=True, track_running_stats=True)\n",
            "      (shortcut): Sequential(\n",
            "        (0): Conv2d(128, 128, kernel_size=(1, 1), stride=(2, 2), bias=False)\n",
            "        (1): BatchNorm2d(128, eps=1e-05, momentum=0.1, affine=True, track_running_stats=True)\n",
            "      )\n",
            "    )\n",
            "    (1): BasicBlock(\n",
            "      (conv1): Conv2d(128, 128, kernel_size=(3, 3), stride=(1, 1), padding=(1, 1), bias=False)\n",
            "      (bn1): BatchNorm2d(128, eps=1e-05, momentum=0.1, affine=True, track_running_stats=True)\n",
            "      (conv2): Conv2d(128, 128, kernel_size=(3, 3), stride=(1, 1), padding=(1, 1), bias=False)\n",
            "      (bn2): BatchNorm2d(128, eps=1e-05, momentum=0.1, affine=True, track_running_stats=True)\n",
            "      (shortcut): Sequential()\n",
            "    )\n",
            "  )\n",
            "  (layer4): Sequential(\n",
            "    (0): BasicBlock(\n",
            "      (conv1): Conv2d(128, 256, kernel_size=(3, 3), stride=(2, 2), padding=(1, 1), bias=False)\n",
            "      (bn1): BatchNorm2d(256, eps=1e-05, momentum=0.1, affine=True, track_running_stats=True)\n",
            "      (conv2): Conv2d(256, 256, kernel_size=(3, 3), stride=(1, 1), padding=(1, 1), bias=False)\n",
            "      (bn2): BatchNorm2d(256, eps=1e-05, momentum=0.1, affine=True, track_running_stats=True)\n",
            "      (shortcut): Sequential(\n",
            "        (0): Conv2d(128, 256, kernel_size=(1, 1), stride=(2, 2), bias=False)\n",
            "        (1): BatchNorm2d(256, eps=1e-05, momentum=0.1, affine=True, track_running_stats=True)\n",
            "      )\n",
            "    )\n",
            "    (1): BasicBlock(\n",
            "      (conv1): Conv2d(256, 256, kernel_size=(3, 3), stride=(1, 1), padding=(1, 1), bias=False)\n",
            "      (bn1): BatchNorm2d(256, eps=1e-05, momentum=0.1, affine=True, track_running_stats=True)\n",
            "      (conv2): Conv2d(256, 256, kernel_size=(3, 3), stride=(1, 1), padding=(1, 1), bias=False)\n",
            "      (bn2): BatchNorm2d(256, eps=1e-05, momentum=0.1, affine=True, track_running_stats=True)\n",
            "      (shortcut): Sequential()\n",
            "    )\n",
            "    (2): BasicBlock(\n",
            "      (conv1): Conv2d(256, 256, kernel_size=(3, 3), stride=(1, 1), padding=(1, 1), bias=False)\n",
            "      (bn1): BatchNorm2d(256, eps=1e-05, momentum=0.1, affine=True, track_running_stats=True)\n",
            "      (conv2): Conv2d(256, 256, kernel_size=(3, 3), stride=(1, 1), padding=(1, 1), bias=False)\n",
            "      (bn2): BatchNorm2d(256, eps=1e-05, momentum=0.1, affine=True, track_running_stats=True)\n",
            "      (shortcut): Sequential()\n",
            "    )\n",
            "  )\n",
            "  (linear): Linear(in_features=256, out_features=10, bias=True)\n",
            ")\n",
            "Total Trainable Parameters : 4935242\n"
          ]
        }
      ]
    },
    {
      "cell_type": "markdown",
      "source": [
        "Model Training and Testing.\n",
        "Here we are training our model over 300 epochs and trying to find out the best accuracy our model provides for the CIFAR dataset."
      ],
      "metadata": {
        "id": "QOH5C5_g5oG8"
      }
    },
    {
      "cell_type": "code",
      "source": [
        "# Define the function to train the model and return the updated model and optimizer\n",
        "def train(model, loader, optimizer):\n",
        "    # Set the model to train mode\n",
        "    model.train()\n",
        "    # Clear the gradients of the optimizer\n",
        "    optimizer.zero_grad()\n",
        "    # Return the updated model and optimizer\n",
        "    return model, optimizer\n",
        "\n",
        "# Define the function to evaluate the model on the test set\n",
        "def test(model, loader):\n",
        "    # Set the model to evaluation mode\n",
        "    return model.eval()\n",
        "\n",
        "# Define the function to calculate the loss and accuracy for a given loader and model\n",
        "def getLoss(loader, model, optimizer, phase):\n",
        "    # Initialize the running loss and correct count\n",
        "    running_loss = 0.0\n",
        "    running_correct = 0\n",
        "    # Iterate through the loader\n",
        "    for images, labels in loader:\n",
        "        # Move the images and labels to the device\n",
        "        images = images.to(device)\n",
        "        labels = labels.to(device)\n",
        "        # Forward pass\n",
        "        output = model(images)\n",
        "        # Calculate the loss\n",
        "        loss = loss_function(output, labels)\n",
        "        # Calculate the predicted labels\n",
        "        predicted_labels = torch.argmax(output, dim=1)\n",
        "        # Update the running loss and correct count\n",
        "        running_loss += loss.item()\n",
        "        running_correct += torch.sum(predicted_labels == labels).float().item()\n",
        "        # If the phase is \"train\", backpropagate the loss and update the optimizer\n",
        "        if phase == \"train\":\n",
        "            loss.backward()\n",
        "            optimizer.step()\n",
        "            optimizer.zero_grad()\n",
        "    # Calculate the epoch loss and accuracy\n",
        "    epoch_loss = running_loss / len(loader.dataset)\n",
        "    epoch_acc = running_correct / len(loader.dataset)\n",
        "    # Return the epoch loss and accuracy\n",
        "    return epoch_loss, epoch_acc\n",
        "\n",
        "# Iterate through the epochs\n",
        "for i in tqdm(range(EPOCHS)):\n",
        "    # Iterate through the phases (train and test)\n",
        "    for phase in ['train', 'test']:\n",
        "        # If the phase is \"train\", set the loader and call the train function\n",
        "        if phase == \"train\":\n",
        "            loader = trainLoader\n",
        "            model, optimizer = train(model, loader, optimizer)\n",
        "        # If the phase is \"test\", set the loader and call the test function\n",
        "        else:\n",
        "            loader = testLoader\n",
        "            model = test(model, loader)\n",
        "        # Calculate the loss and accuracy for the current phase\n",
        "        epoch_loss, epoch_acc = getLoss(loader, model, optimizer, phase)\n",
        "        # If the phase is \"train\", update the scheduler and append the results to the train lists\n",
        "        if phase == \"train\":\n",
        "            scheduler.step()\n",
        "            train_loss.append(epoch_loss)\n",
        "            train_accuracy.append(epoch_acc)\n",
        "        # If the phase is \"test\", append the results to the test lists and update the global best accuracy\n",
        "        else:\n",
        "            test_loss.append(epoch_loss)\n",
        "            test_accuracy.append(epoch_acc)\n",
        "            globalBestAccuracy = max(globalBestAccuracy, epoch_acc)\n",
        "    # Print the results for the current epoch\n",
        "    print(\"Training Loss : %s, Testing Loss : %s, Training Accuracy : %s, Testing Accuracy : %s\" \\\n",
        "          % (train_loss[-1], test_loss[-1], train_accuracy[-1], test_accuracy[-1]))\n"
      ],
      "metadata": {
        "colab": {
          "base_uri": "https://localhost:8080/"
        },
        "id": "2OVbcif7VmJQ",
        "outputId": "9838bb02-d6ff-4cd7-b634-250bcacddcad"
      },
      "execution_count": null,
      "outputs": [
        {
          "output_type": "stream",
          "name": "stderr",
          "text": [
            "  0%|          | 1/300 [00:57<4:45:32, 57.30s/it]"
          ]
        },
        {
          "output_type": "stream",
          "name": "stdout",
          "text": [
            "Training Loss : 1.5321812477111816, Testing Loss : 1.38441522731781, Training Accuracy : 0.45114, Testing Accuracy : 0.5425\n"
          ]
        },
        {
          "output_type": "stream",
          "name": "stderr",
          "text": [
            "\r  1%|          | 2/300 [01:47<4:24:59, 53.35s/it]"
          ]
        },
        {
          "output_type": "stream",
          "name": "stdout",
          "text": [
            "Training Loss : 0.9913743310546875, Testing Loss : 1.0104526123046875, Training Accuracy : 0.64922, Testing Accuracy : 0.6513\n"
          ]
        },
        {
          "output_type": "stream",
          "name": "stderr",
          "text": [
            "\r  1%|          | 3/300 [02:38<4:18:47, 52.28s/it]"
          ]
        },
        {
          "output_type": "stream",
          "name": "stdout",
          "text": [
            "Training Loss : 0.7940330379486084, Testing Loss : 0.9900145526885986, Training Accuracy : 0.72356, Testing Accuracy : 0.6657\n"
          ]
        },
        {
          "output_type": "stream",
          "name": "stderr",
          "text": [
            "\r  1%|▏         | 4/300 [03:29<4:15:11, 51.73s/it]"
          ]
        },
        {
          "output_type": "stream",
          "name": "stdout",
          "text": [
            "Training Loss : 0.6825790651702881, Testing Loss : 0.8113426049232483, Training Accuracy : 0.76248, Testing Accuracy : 0.7288\n"
          ]
        },
        {
          "output_type": "stream",
          "name": "stderr",
          "text": [
            "\r  2%|▏         | 5/300 [04:20<4:13:13, 51.50s/it]"
          ]
        },
        {
          "output_type": "stream",
          "name": "stdout",
          "text": [
            "Training Loss : 0.6143196478271484, Testing Loss : 0.7914480124950409, Training Accuracy : 0.7885, Testing Accuracy : 0.7411\n"
          ]
        },
        {
          "output_type": "stream",
          "name": "stderr",
          "text": [
            "\r  2%|▏         | 6/300 [05:12<4:11:46, 51.38s/it]"
          ]
        },
        {
          "output_type": "stream",
          "name": "stdout",
          "text": [
            "Training Loss : 0.5602758818817138, Testing Loss : 0.6864444598674774, Training Accuracy : 0.80654, Testing Accuracy : 0.7731\n"
          ]
        },
        {
          "output_type": "stream",
          "name": "stderr",
          "text": [
            "\r  2%|▏         | 7/300 [06:03<4:10:48, 51.36s/it]"
          ]
        },
        {
          "output_type": "stream",
          "name": "stdout",
          "text": [
            "Training Loss : 0.5087110773849487, Testing Loss : 0.6567102580070495, Training Accuracy : 0.82434, Testing Accuracy : 0.7834\n"
          ]
        },
        {
          "output_type": "stream",
          "name": "stderr",
          "text": [
            "\r  3%|▎         | 8/300 [06:54<4:10:05, 51.39s/it]"
          ]
        },
        {
          "output_type": "stream",
          "name": "stdout",
          "text": [
            "Training Loss : 0.4722833909606934, Testing Loss : 0.6502844595909119, Training Accuracy : 0.83584, Testing Accuracy : 0.7821\n"
          ]
        },
        {
          "output_type": "stream",
          "name": "stderr",
          "text": [
            "\r  3%|▎         | 9/300 [07:46<4:09:16, 51.40s/it]"
          ]
        },
        {
          "output_type": "stream",
          "name": "stdout",
          "text": [
            "Training Loss : 0.44495972106933596, Testing Loss : 0.6790051836490631, Training Accuracy : 0.84568, Testing Accuracy : 0.775\n"
          ]
        },
        {
          "output_type": "stream",
          "name": "stderr",
          "text": [
            "\r  3%|▎         | 10/300 [08:37<4:08:30, 51.41s/it]"
          ]
        },
        {
          "output_type": "stream",
          "name": "stdout",
          "text": [
            "Training Loss : 0.41485365539550784, Testing Loss : 0.6545009528160095, Training Accuracy : 0.85712, Testing Accuracy : 0.7821\n"
          ]
        },
        {
          "output_type": "stream",
          "name": "stderr",
          "text": [
            "\r  4%|▎         | 11/300 [09:29<4:07:46, 51.44s/it]"
          ]
        },
        {
          "output_type": "stream",
          "name": "stdout",
          "text": [
            "Training Loss : 0.38772287948608397, Testing Loss : 0.5817032989501953, Training Accuracy : 0.86472, Testing Accuracy : 0.8161\n"
          ]
        },
        {
          "output_type": "stream",
          "name": "stderr",
          "text": [
            "\r  4%|▍         | 12/300 [10:20<4:06:54, 51.44s/it]"
          ]
        },
        {
          "output_type": "stream",
          "name": "stdout",
          "text": [
            "Training Loss : 0.36930232139587404, Testing Loss : 0.6278904083251953, Training Accuracy : 0.87098, Testing Accuracy : 0.7996\n"
          ]
        },
        {
          "output_type": "stream",
          "name": "stderr",
          "text": [
            "\r  4%|▍         | 13/300 [11:12<4:06:11, 51.47s/it]"
          ]
        },
        {
          "output_type": "stream",
          "name": "stdout",
          "text": [
            "Training Loss : 0.3444925454711914, Testing Loss : 0.5530678780555726, Training Accuracy : 0.88016, Testing Accuracy : 0.8263\n"
          ]
        },
        {
          "output_type": "stream",
          "name": "stderr",
          "text": [
            "\r  5%|▍         | 14/300 [12:03<4:05:11, 51.44s/it]"
          ]
        },
        {
          "output_type": "stream",
          "name": "stdout",
          "text": [
            "Training Loss : 0.3219567440032959, Testing Loss : 0.5989711959123611, Training Accuracy : 0.8886, Testing Accuracy : 0.8067\n"
          ]
        },
        {
          "output_type": "stream",
          "name": "stderr",
          "text": [
            "\r  5%|▌         | 15/300 [12:54<4:04:06, 51.39s/it]"
          ]
        },
        {
          "output_type": "stream",
          "name": "stdout",
          "text": [
            "Training Loss : 0.31022959285736085, Testing Loss : 0.6582690554618835, Training Accuracy : 0.8918, Testing Accuracy : 0.7909\n"
          ]
        },
        {
          "output_type": "stream",
          "name": "stderr",
          "text": [
            "\r  5%|▌         | 16/300 [13:46<4:03:12, 51.38s/it]"
          ]
        },
        {
          "output_type": "stream",
          "name": "stdout",
          "text": [
            "Training Loss : 0.29201185642242433, Testing Loss : 0.5166320552110673, Training Accuracy : 0.89712, Testing Accuracy : 0.8397\n"
          ]
        },
        {
          "output_type": "stream",
          "name": "stderr",
          "text": [
            "\r  6%|▌         | 17/300 [14:37<4:02:32, 51.42s/it]"
          ]
        },
        {
          "output_type": "stream",
          "name": "stdout",
          "text": [
            "Training Loss : 0.2796937840270996, Testing Loss : 0.4549471567630768, Training Accuracy : 0.90244, Testing Accuracy : 0.8553\n"
          ]
        },
        {
          "output_type": "stream",
          "name": "stderr",
          "text": [
            "\r  6%|▌         | 18/300 [15:29<4:01:41, 51.43s/it]"
          ]
        },
        {
          "output_type": "stream",
          "name": "stdout",
          "text": [
            "Training Loss : 0.2629735727119446, Testing Loss : 0.5896089834213257, Training Accuracy : 0.90672, Testing Accuracy : 0.8215\n"
          ]
        },
        {
          "output_type": "stream",
          "name": "stderr",
          "text": [
            "\r  6%|▋         | 19/300 [16:20<4:00:49, 51.42s/it]"
          ]
        },
        {
          "output_type": "stream",
          "name": "stdout",
          "text": [
            "Training Loss : 0.25026196002960205, Testing Loss : 0.5668065811634063, Training Accuracy : 0.91248, Testing Accuracy : 0.8235\n"
          ]
        },
        {
          "output_type": "stream",
          "name": "stderr",
          "text": [
            "\r  7%|▋         | 20/300 [17:11<3:59:56, 51.42s/it]"
          ]
        },
        {
          "output_type": "stream",
          "name": "stdout",
          "text": [
            "Training Loss : 0.23946592039108278, Testing Loss : 0.5190220224380493, Training Accuracy : 0.91546, Testing Accuracy : 0.8472\n"
          ]
        },
        {
          "output_type": "stream",
          "name": "stderr",
          "text": [
            "\r  7%|▋         | 21/300 [18:03<3:59:27, 51.50s/it]"
          ]
        },
        {
          "output_type": "stream",
          "name": "stdout",
          "text": [
            "Training Loss : 0.22477199588775634, Testing Loss : 0.43867022666931155, Training Accuracy : 0.921, Testing Accuracy : 0.8635\n"
          ]
        },
        {
          "output_type": "stream",
          "name": "stderr",
          "text": [
            "\r  7%|▋         | 22/300 [18:55<3:58:56, 51.57s/it]"
          ]
        },
        {
          "output_type": "stream",
          "name": "stdout",
          "text": [
            "Training Loss : 0.21641054517745972, Testing Loss : 0.47793544130325316, Training Accuracy : 0.92588, Testing Accuracy : 0.8571\n"
          ]
        },
        {
          "output_type": "stream",
          "name": "stderr",
          "text": [
            "\r  8%|▊         | 23/300 [19:47<3:58:16, 51.61s/it]"
          ]
        },
        {
          "output_type": "stream",
          "name": "stdout",
          "text": [
            "Training Loss : 0.21038138185501098, Testing Loss : 0.4781536428451538, Training Accuracy : 0.9261, Testing Accuracy : 0.8577\n"
          ]
        },
        {
          "output_type": "stream",
          "name": "stderr",
          "text": [
            "\r  8%|▊         | 24/300 [20:38<3:57:35, 51.65s/it]"
          ]
        },
        {
          "output_type": "stream",
          "name": "stdout",
          "text": [
            "Training Loss : 0.19590554439544677, Testing Loss : 0.47503332624435424, Training Accuracy : 0.93102, Testing Accuracy : 0.8602\n"
          ]
        },
        {
          "output_type": "stream",
          "name": "stderr",
          "text": [
            "\r  8%|▊         | 25/300 [21:30<3:56:24, 51.58s/it]"
          ]
        },
        {
          "output_type": "stream",
          "name": "stdout",
          "text": [
            "Training Loss : 0.18744171758651734, Testing Loss : 0.4973634225845337, Training Accuracy : 0.9345, Testing Accuracy : 0.8518\n"
          ]
        },
        {
          "output_type": "stream",
          "name": "stderr",
          "text": [
            "\r  9%|▊         | 26/300 [22:21<3:55:16, 51.52s/it]"
          ]
        },
        {
          "output_type": "stream",
          "name": "stdout",
          "text": [
            "Training Loss : 0.18231419946670532, Testing Loss : 0.46851616430282594, Training Accuracy : 0.9362, Testing Accuracy : 0.8608\n"
          ]
        },
        {
          "output_type": "stream",
          "name": "stderr",
          "text": [
            "\r  9%|▉         | 27/300 [23:12<3:54:03, 51.44s/it]"
          ]
        },
        {
          "output_type": "stream",
          "name": "stdout",
          "text": [
            "Training Loss : 0.16980959353923797, Testing Loss : 0.47615689296722413, Training Accuracy : 0.94048, Testing Accuracy : 0.8609\n"
          ]
        },
        {
          "output_type": "stream",
          "name": "stderr",
          "text": [
            "\r  9%|▉         | 28/300 [24:04<3:52:55, 51.38s/it]"
          ]
        },
        {
          "output_type": "stream",
          "name": "stdout",
          "text": [
            "Training Loss : 0.16180518572807312, Testing Loss : 0.5090831837654114, Training Accuracy : 0.9415, Testing Accuracy : 0.8586\n"
          ]
        },
        {
          "output_type": "stream",
          "name": "stderr",
          "text": [
            "\r 10%|▉         | 29/300 [24:55<3:51:52, 51.34s/it]"
          ]
        },
        {
          "output_type": "stream",
          "name": "stdout",
          "text": [
            "Training Loss : 0.15665493733406066, Testing Loss : 0.5665778273820877, Training Accuracy : 0.94514, Testing Accuracy : 0.8514\n"
          ]
        },
        {
          "output_type": "stream",
          "name": "stderr",
          "text": [
            "\r 10%|█         | 30/300 [25:46<3:50:28, 51.22s/it]"
          ]
        },
        {
          "output_type": "stream",
          "name": "stdout",
          "text": [
            "Training Loss : 0.14826128638267516, Testing Loss : 0.482275698184967, Training Accuracy : 0.94756, Testing Accuracy : 0.8686\n"
          ]
        },
        {
          "output_type": "stream",
          "name": "stderr",
          "text": [
            "\r 10%|█         | 31/300 [26:37<3:50:02, 51.31s/it]"
          ]
        },
        {
          "output_type": "stream",
          "name": "stdout",
          "text": [
            "Training Loss : 0.1399690029525757, Testing Loss : 0.5048041082382202, Training Accuracy : 0.95122, Testing Accuracy : 0.8559\n"
          ]
        },
        {
          "output_type": "stream",
          "name": "stderr",
          "text": [
            "\r 11%|█         | 32/300 [27:28<3:48:35, 51.18s/it]"
          ]
        },
        {
          "output_type": "stream",
          "name": "stdout",
          "text": [
            "Training Loss : 0.13616144538402558, Testing Loss : 0.5042014767169952, Training Accuracy : 0.951, Testing Accuracy : 0.8623\n"
          ]
        },
        {
          "output_type": "stream",
          "name": "stderr",
          "text": [
            "\r 11%|█         | 33/300 [28:19<3:47:52, 51.21s/it]"
          ]
        },
        {
          "output_type": "stream",
          "name": "stdout",
          "text": [
            "Training Loss : 0.12876773893356322, Testing Loss : 0.5634690524101257, Training Accuracy : 0.9551, Testing Accuracy : 0.8625\n"
          ]
        },
        {
          "output_type": "stream",
          "name": "stderr",
          "text": [
            "\r 11%|█▏        | 34/300 [29:10<3:46:49, 51.16s/it]"
          ]
        },
        {
          "output_type": "stream",
          "name": "stdout",
          "text": [
            "Training Loss : 0.12625204139709473, Testing Loss : 0.47628097219467164, Training Accuracy : 0.95562, Testing Accuracy : 0.8712\n"
          ]
        },
        {
          "output_type": "stream",
          "name": "stderr",
          "text": [
            "\r 12%|█▏        | 35/300 [30:02<3:45:49, 51.13s/it]"
          ]
        },
        {
          "output_type": "stream",
          "name": "stdout",
          "text": [
            "Training Loss : 0.1223305892276764, Testing Loss : 0.47546088724136354, Training Accuracy : 0.95712, Testing Accuracy : 0.8738\n"
          ]
        },
        {
          "output_type": "stream",
          "name": "stderr",
          "text": [
            "\r 12%|█▏        | 36/300 [30:53<3:44:58, 51.13s/it]"
          ]
        },
        {
          "output_type": "stream",
          "name": "stdout",
          "text": [
            "Training Loss : 0.11742690576553345, Testing Loss : 0.5249898477554321, Training Accuracy : 0.95862, Testing Accuracy : 0.8673\n"
          ]
        },
        {
          "output_type": "stream",
          "name": "stderr",
          "text": [
            "\r 12%|█▏        | 37/300 [31:44<3:44:13, 51.15s/it]"
          ]
        },
        {
          "output_type": "stream",
          "name": "stdout",
          "text": [
            "Training Loss : 0.10897887698411941, Testing Loss : 0.5401241346359253, Training Accuracy : 0.9617, Testing Accuracy : 0.869\n"
          ]
        },
        {
          "output_type": "stream",
          "name": "stderr",
          "text": [
            "\r 13%|█▎        | 38/300 [32:35<3:43:30, 51.18s/it]"
          ]
        },
        {
          "output_type": "stream",
          "name": "stdout",
          "text": [
            "Training Loss : 0.10530381396770477, Testing Loss : 0.46932416791915893, Training Accuracy : 0.96216, Testing Accuracy : 0.8789\n"
          ]
        },
        {
          "output_type": "stream",
          "name": "stderr",
          "text": [
            "\r 13%|█▎        | 39/300 [33:26<3:42:30, 51.15s/it]"
          ]
        },
        {
          "output_type": "stream",
          "name": "stdout",
          "text": [
            "Training Loss : 0.10499712850093841, Testing Loss : 0.5165596014022827, Training Accuracy : 0.9623, Testing Accuracy : 0.869\n"
          ]
        },
        {
          "output_type": "stream",
          "name": "stderr",
          "text": [
            "\r 13%|█▎        | 40/300 [34:17<3:41:43, 51.17s/it]"
          ]
        },
        {
          "output_type": "stream",
          "name": "stdout",
          "text": [
            "Training Loss : 0.10090051799297332, Testing Loss : 0.544973289346695, Training Accuracy : 0.96466, Testing Accuracy : 0.8683\n"
          ]
        },
        {
          "output_type": "stream",
          "name": "stderr",
          "text": [
            "\r 14%|█▎        | 41/300 [35:08<3:40:09, 51.00s/it]"
          ]
        },
        {
          "output_type": "stream",
          "name": "stdout",
          "text": [
            "Training Loss : 0.09585958884000778, Testing Loss : 0.5151421879768372, Training Accuracy : 0.96616, Testing Accuracy : 0.8721\n"
          ]
        },
        {
          "output_type": "stream",
          "name": "stderr",
          "text": [
            "\r 14%|█▍        | 42/300 [35:59<3:39:22, 51.02s/it]"
          ]
        },
        {
          "output_type": "stream",
          "name": "stdout",
          "text": [
            "Training Loss : 0.09135445573806762, Testing Loss : 0.5187268095493317, Training Accuracy : 0.96794, Testing Accuracy : 0.8713\n"
          ]
        },
        {
          "output_type": "stream",
          "name": "stderr",
          "text": [
            "\r 14%|█▍        | 43/300 [36:50<3:38:28, 51.01s/it]"
          ]
        },
        {
          "output_type": "stream",
          "name": "stdout",
          "text": [
            "Training Loss : 0.08644772215843201, Testing Loss : 0.5170773961544037, Training Accuracy : 0.96934, Testing Accuracy : 0.8767\n"
          ]
        },
        {
          "output_type": "stream",
          "name": "stderr",
          "text": [
            "\r 15%|█▍        | 44/300 [37:41<3:37:23, 50.95s/it]"
          ]
        },
        {
          "output_type": "stream",
          "name": "stdout",
          "text": [
            "Training Loss : 0.0836797123336792, Testing Loss : 0.48963731780052183, Training Accuracy : 0.97028, Testing Accuracy : 0.8812\n"
          ]
        },
        {
          "output_type": "stream",
          "name": "stderr",
          "text": [
            "\r 15%|█▌        | 45/300 [38:32<3:36:45, 51.00s/it]"
          ]
        },
        {
          "output_type": "stream",
          "name": "stdout",
          "text": [
            "Training Loss : 0.08034440512418747, Testing Loss : 0.526244846868515, Training Accuracy : 0.97148, Testing Accuracy : 0.8784\n"
          ]
        },
        {
          "output_type": "stream",
          "name": "stderr",
          "text": [
            "\r 15%|█▌        | 46/300 [39:23<3:35:55, 51.01s/it]"
          ]
        },
        {
          "output_type": "stream",
          "name": "stdout",
          "text": [
            "Training Loss : 0.0775559540963173, Testing Loss : 0.5231988222122193, Training Accuracy : 0.97246, Testing Accuracy : 0.8821\n"
          ]
        },
        {
          "output_type": "stream",
          "name": "stderr",
          "text": [
            "\r 16%|█▌        | 47/300 [40:14<3:34:42, 50.92s/it]"
          ]
        },
        {
          "output_type": "stream",
          "name": "stdout",
          "text": [
            "Training Loss : 0.07830288128137589, Testing Loss : 0.5736048476219178, Training Accuracy : 0.9718, Testing Accuracy : 0.8759\n"
          ]
        },
        {
          "output_type": "stream",
          "name": "stderr",
          "text": [
            "\r 16%|█▌        | 48/300 [41:04<3:33:37, 50.86s/it]"
          ]
        },
        {
          "output_type": "stream",
          "name": "stdout",
          "text": [
            "Training Loss : 0.07907370038986206, Testing Loss : 0.5330638222694397, Training Accuracy : 0.9714, Testing Accuracy : 0.877\n"
          ]
        },
        {
          "output_type": "stream",
          "name": "stderr",
          "text": [
            "\r 16%|█▋        | 49/300 [41:56<3:33:15, 50.98s/it]"
          ]
        },
        {
          "output_type": "stream",
          "name": "stdout",
          "text": [
            "Training Loss : 0.0697736975312233, Testing Loss : 0.5991611444711685, Training Accuracy : 0.97462, Testing Accuracy : 0.8694\n"
          ]
        },
        {
          "output_type": "stream",
          "name": "stderr",
          "text": [
            "\r 17%|█▋        | 50/300 [42:47<3:32:17, 50.95s/it]"
          ]
        },
        {
          "output_type": "stream",
          "name": "stdout",
          "text": [
            "Training Loss : 0.06936438469409943, Testing Loss : 0.5504249582052231, Training Accuracy : 0.97538, Testing Accuracy : 0.88\n"
          ]
        },
        {
          "output_type": "stream",
          "name": "stderr",
          "text": [
            "\r 17%|█▋        | 51/300 [43:37<3:31:17, 50.91s/it]"
          ]
        },
        {
          "output_type": "stream",
          "name": "stdout",
          "text": [
            "Training Loss : 0.0668135494542122, Testing Loss : 0.5346528522491455, Training Accuracy : 0.97654, Testing Accuracy : 0.8764\n"
          ]
        },
        {
          "output_type": "stream",
          "name": "stderr",
          "text": [
            "\r 17%|█▋        | 52/300 [44:28<3:30:09, 50.85s/it]"
          ]
        },
        {
          "output_type": "stream",
          "name": "stdout",
          "text": [
            "Training Loss : 0.06483776148438454, Testing Loss : 0.5993085133552551, Training Accuracy : 0.97768, Testing Accuracy : 0.8725\n"
          ]
        },
        {
          "output_type": "stream",
          "name": "stderr",
          "text": [
            "\r 18%|█▊        | 53/300 [45:19<3:29:30, 50.89s/it]"
          ]
        },
        {
          "output_type": "stream",
          "name": "stdout",
          "text": [
            "Training Loss : 0.06255664771318435, Testing Loss : 0.601748046207428, Training Accuracy : 0.97808, Testing Accuracy : 0.8716\n"
          ]
        },
        {
          "output_type": "stream",
          "name": "stderr",
          "text": [
            "\r 18%|█▊        | 54/300 [46:10<3:28:48, 50.93s/it]"
          ]
        },
        {
          "output_type": "stream",
          "name": "stdout",
          "text": [
            "Training Loss : 0.0614415113568306, Testing Loss : 0.5875978476524353, Training Accuracy : 0.97902, Testing Accuracy : 0.8799\n"
          ]
        },
        {
          "output_type": "stream",
          "name": "stderr",
          "text": [
            "\r 18%|█▊        | 55/300 [47:01<3:28:26, 51.05s/it]"
          ]
        },
        {
          "output_type": "stream",
          "name": "stdout",
          "text": [
            "Training Loss : 0.05940215361833572, Testing Loss : 0.5431055638313294, Training Accuracy : 0.9788, Testing Accuracy : 0.888\n"
          ]
        },
        {
          "output_type": "stream",
          "name": "stderr",
          "text": [
            "\r 19%|█▊        | 56/300 [47:52<3:27:31, 51.03s/it]"
          ]
        },
        {
          "output_type": "stream",
          "name": "stdout",
          "text": [
            "Training Loss : 0.05887268106818199, Testing Loss : 0.5098847833633423, Training Accuracy : 0.97894, Testing Accuracy : 0.8861\n"
          ]
        },
        {
          "output_type": "stream",
          "name": "stderr",
          "text": [
            "\r 19%|█▉        | 57/300 [48:43<3:26:30, 50.99s/it]"
          ]
        },
        {
          "output_type": "stream",
          "name": "stdout",
          "text": [
            "Training Loss : 0.054779763225317, Testing Loss : 0.5350673515319824, Training Accuracy : 0.98086, Testing Accuracy : 0.8834\n"
          ]
        },
        {
          "output_type": "stream",
          "name": "stderr",
          "text": [
            "\r 19%|█▉        | 58/300 [49:34<3:25:45, 51.01s/it]"
          ]
        },
        {
          "output_type": "stream",
          "name": "stdout",
          "text": [
            "Training Loss : 0.05469132903814316, Testing Loss : 0.5574260381698608, Training Accuracy : 0.98042, Testing Accuracy : 0.8819\n"
          ]
        },
        {
          "output_type": "stream",
          "name": "stderr",
          "text": [
            "\r 20%|█▉        | 59/300 [50:25<3:24:36, 50.94s/it]"
          ]
        },
        {
          "output_type": "stream",
          "name": "stdout",
          "text": [
            "Training Loss : 0.05161130867958069, Testing Loss : 0.5983942405700684, Training Accuracy : 0.98176, Testing Accuracy : 0.8791\n"
          ]
        },
        {
          "output_type": "stream",
          "name": "stderr",
          "text": [
            "\r 20%|██        | 60/300 [51:16<3:23:39, 50.92s/it]"
          ]
        },
        {
          "output_type": "stream",
          "name": "stdout",
          "text": [
            "Training Loss : 0.050522313548326495, Testing Loss : 0.6057796353340149, Training Accuracy : 0.98206, Testing Accuracy : 0.8832\n"
          ]
        },
        {
          "output_type": "stream",
          "name": "stderr",
          "text": [
            "\r 20%|██        | 61/300 [52:07<3:22:25, 50.82s/it]"
          ]
        },
        {
          "output_type": "stream",
          "name": "stdout",
          "text": [
            "Training Loss : 0.05120078508496285, Testing Loss : 0.5315001607656479, Training Accuracy : 0.98184, Testing Accuracy : 0.8884\n"
          ]
        },
        {
          "output_type": "stream",
          "name": "stderr",
          "text": [
            "\r 21%|██        | 62/300 [52:57<3:21:21, 50.76s/it]"
          ]
        },
        {
          "output_type": "stream",
          "name": "stdout",
          "text": [
            "Training Loss : 0.04869477096438408, Testing Loss : 0.6838070251464844, Training Accuracy : 0.98312, Testing Accuracy : 0.8725\n"
          ]
        },
        {
          "output_type": "stream",
          "name": "stderr",
          "text": [
            "\r 21%|██        | 63/300 [53:48<3:20:44, 50.82s/it]"
          ]
        },
        {
          "output_type": "stream",
          "name": "stdout",
          "text": [
            "Training Loss : 0.04561827613472939, Testing Loss : 0.6109756366729736, Training Accuracy : 0.98426, Testing Accuracy : 0.8819\n"
          ]
        },
        {
          "output_type": "stream",
          "name": "stderr",
          "text": [
            "\r 21%|██▏       | 64/300 [54:39<3:20:20, 50.93s/it]"
          ]
        },
        {
          "output_type": "stream",
          "name": "stdout",
          "text": [
            "Training Loss : 0.04492497940421104, Testing Loss : 0.60906331615448, Training Accuracy : 0.98396, Testing Accuracy : 0.8801\n"
          ]
        },
        {
          "output_type": "stream",
          "name": "stderr",
          "text": [
            "\r 22%|██▏       | 65/300 [55:30<3:19:36, 50.96s/it]"
          ]
        },
        {
          "output_type": "stream",
          "name": "stdout",
          "text": [
            "Training Loss : 0.04396965974330902, Testing Loss : 0.6459773015022278, Training Accuracy : 0.98448, Testing Accuracy : 0.8811\n"
          ]
        },
        {
          "output_type": "stream",
          "name": "stderr",
          "text": [
            "\r 22%|██▏       | 66/300 [56:22<3:18:57, 51.02s/it]"
          ]
        },
        {
          "output_type": "stream",
          "name": "stdout",
          "text": [
            "Training Loss : 0.04622341087460518, Testing Loss : 0.6066991604566574, Training Accuracy : 0.98354, Testing Accuracy : 0.8802\n"
          ]
        },
        {
          "output_type": "stream",
          "name": "stderr",
          "text": [
            "\r 22%|██▏       | 67/300 [57:13<3:18:30, 51.12s/it]"
          ]
        },
        {
          "output_type": "stream",
          "name": "stdout",
          "text": [
            "Training Loss : 0.040036254731416705, Testing Loss : 0.5541158459663391, Training Accuracy : 0.98616, Testing Accuracy : 0.8837\n"
          ]
        },
        {
          "output_type": "stream",
          "name": "stderr",
          "text": [
            "\r 23%|██▎       | 68/300 [58:04<3:17:17, 51.02s/it]"
          ]
        },
        {
          "output_type": "stream",
          "name": "stdout",
          "text": [
            "Training Loss : 0.04162170440196991, Testing Loss : 0.6012771626472473, Training Accuracy : 0.98534, Testing Accuracy : 0.8846\n"
          ]
        },
        {
          "output_type": "stream",
          "name": "stderr",
          "text": [
            "\r 23%|██▎       | 69/300 [58:55<3:16:39, 51.08s/it]"
          ]
        },
        {
          "output_type": "stream",
          "name": "stdout",
          "text": [
            "Training Loss : 0.03891427711725235, Testing Loss : 0.5820833311080933, Training Accuracy : 0.9864, Testing Accuracy : 0.8916\n"
          ]
        },
        {
          "output_type": "stream",
          "name": "stderr",
          "text": [
            "\r 23%|██▎       | 70/300 [59:46<3:15:42, 51.05s/it]"
          ]
        },
        {
          "output_type": "stream",
          "name": "stdout",
          "text": [
            "Training Loss : 0.03874125699937343, Testing Loss : 0.6168948073387146, Training Accuracy : 0.98632, Testing Accuracy : 0.8844\n"
          ]
        },
        {
          "output_type": "stream",
          "name": "stderr",
          "text": [
            "\r 24%|██▎       | 71/300 [1:00:37<3:14:58, 51.09s/it]"
          ]
        },
        {
          "output_type": "stream",
          "name": "stdout",
          "text": [
            "Training Loss : 0.03998308353543282, Testing Loss : 0.6238294616937637, Training Accuracy : 0.98576, Testing Accuracy : 0.8846\n"
          ]
        },
        {
          "output_type": "stream",
          "name": "stderr",
          "text": [
            "\r 24%|██▍       | 72/300 [1:01:28<3:14:04, 51.07s/it]"
          ]
        },
        {
          "output_type": "stream",
          "name": "stdout",
          "text": [
            "Training Loss : 0.03519811057507992, Testing Loss : 0.6130645434975625, Training Accuracy : 0.98788, Testing Accuracy : 0.8874\n"
          ]
        },
        {
          "output_type": "stream",
          "name": "stderr",
          "text": [
            "\r 24%|██▍       | 73/300 [1:02:19<3:13:22, 51.11s/it]"
          ]
        },
        {
          "output_type": "stream",
          "name": "stdout",
          "text": [
            "Training Loss : 0.03664382406115532, Testing Loss : 0.5919793818473816, Training Accuracy : 0.98716, Testing Accuracy : 0.8863\n"
          ]
        },
        {
          "output_type": "stream",
          "name": "stderr",
          "text": [
            "\r 25%|██▍       | 74/300 [1:03:10<3:12:31, 51.11s/it]"
          ]
        },
        {
          "output_type": "stream",
          "name": "stdout",
          "text": [
            "Training Loss : 0.036306137529611586, Testing Loss : 0.6424818083524704, Training Accuracy : 0.98726, Testing Accuracy : 0.8875\n"
          ]
        },
        {
          "output_type": "stream",
          "name": "stderr",
          "text": [
            "\r 25%|██▌       | 75/300 [1:04:02<3:11:56, 51.19s/it]"
          ]
        },
        {
          "output_type": "stream",
          "name": "stdout",
          "text": [
            "Training Loss : 0.035782348347902296, Testing Loss : 0.5946098744392395, Training Accuracy : 0.98756, Testing Accuracy : 0.8909\n"
          ]
        },
        {
          "output_type": "stream",
          "name": "stderr",
          "text": [
            "\r 25%|██▌       | 76/300 [1:04:53<3:10:59, 51.16s/it]"
          ]
        },
        {
          "output_type": "stream",
          "name": "stdout",
          "text": [
            "Training Loss : 0.03339342588916421, Testing Loss : 0.6215399408340454, Training Accuracy : 0.98798, Testing Accuracy : 0.8891\n"
          ]
        },
        {
          "output_type": "stream",
          "name": "stderr",
          "text": [
            "\r 26%|██▌       | 77/300 [1:05:44<3:09:47, 51.07s/it]"
          ]
        },
        {
          "output_type": "stream",
          "name": "stdout",
          "text": [
            "Training Loss : 0.033018950677812096, Testing Loss : 0.5916770663261414, Training Accuracy : 0.98858, Testing Accuracy : 0.8903\n"
          ]
        },
        {
          "output_type": "stream",
          "name": "stderr",
          "text": [
            "\r 26%|██▌       | 78/300 [1:06:34<3:08:32, 50.96s/it]"
          ]
        },
        {
          "output_type": "stream",
          "name": "stdout",
          "text": [
            "Training Loss : 0.030297233997434378, Testing Loss : 0.6655219058513642, Training Accuracy : 0.98946, Testing Accuracy : 0.8866\n"
          ]
        },
        {
          "output_type": "stream",
          "name": "stderr",
          "text": [
            "\r 26%|██▋       | 79/300 [1:07:25<3:07:30, 50.91s/it]"
          ]
        },
        {
          "output_type": "stream",
          "name": "stdout",
          "text": [
            "Training Loss : 0.03229361725360155, Testing Loss : 0.6601486651420593, Training Accuracy : 0.98818, Testing Accuracy : 0.8841\n"
          ]
        },
        {
          "output_type": "stream",
          "name": "stderr",
          "text": [
            "\r 27%|██▋       | 80/300 [1:08:16<3:06:34, 50.88s/it]"
          ]
        },
        {
          "output_type": "stream",
          "name": "stdout",
          "text": [
            "Training Loss : 0.02954849617779255, Testing Loss : 0.624935177898407, Training Accuracy : 0.9897, Testing Accuracy : 0.889\n"
          ]
        },
        {
          "output_type": "stream",
          "name": "stderr",
          "text": [
            "\r 27%|██▋       | 81/300 [1:09:07<3:06:04, 50.98s/it]"
          ]
        },
        {
          "output_type": "stream",
          "name": "stdout",
          "text": [
            "Training Loss : 0.030063651885390282, Testing Loss : 0.6015191900253296, Training Accuracy : 0.98974, Testing Accuracy : 0.8915\n"
          ]
        },
        {
          "output_type": "stream",
          "name": "stderr",
          "text": [
            "\r 27%|██▋       | 82/300 [1:09:58<3:05:05, 50.94s/it]"
          ]
        },
        {
          "output_type": "stream",
          "name": "stdout",
          "text": [
            "Training Loss : 0.02913548004254699, Testing Loss : 0.6416658411026, Training Accuracy : 0.99026, Testing Accuracy : 0.8853\n"
          ]
        },
        {
          "output_type": "stream",
          "name": "stderr",
          "text": [
            "\r 28%|██▊       | 83/300 [1:10:49<3:04:01, 50.88s/it]"
          ]
        },
        {
          "output_type": "stream",
          "name": "stdout",
          "text": [
            "Training Loss : 0.027899765347242356, Testing Loss : 0.7227521136283874, Training Accuracy : 0.99028, Testing Accuracy : 0.8803\n"
          ]
        },
        {
          "output_type": "stream",
          "name": "stderr",
          "text": [
            "\r 28%|██▊       | 84/300 [1:11:40<3:03:21, 50.93s/it]"
          ]
        },
        {
          "output_type": "stream",
          "name": "stdout",
          "text": [
            "Training Loss : 0.027907102071791888, Testing Loss : 0.6354302892684937, Training Accuracy : 0.9903, Testing Accuracy : 0.894\n"
          ]
        },
        {
          "output_type": "stream",
          "name": "stderr",
          "text": [
            "\r 28%|██▊       | 85/300 [1:12:31<3:03:00, 51.07s/it]"
          ]
        },
        {
          "output_type": "stream",
          "name": "stdout",
          "text": [
            "Training Loss : 0.026656615850180386, Testing Loss : 0.7068797983169556, Training Accuracy : 0.99122, Testing Accuracy : 0.8869\n"
          ]
        },
        {
          "output_type": "stream",
          "name": "stderr",
          "text": [
            "\r 29%|██▊       | 86/300 [1:13:23<3:02:24, 51.14s/it]"
          ]
        },
        {
          "output_type": "stream",
          "name": "stdout",
          "text": [
            "Training Loss : 0.027655742506831886, Testing Loss : 0.6311942403793335, Training Accuracy : 0.99032, Testing Accuracy : 0.8933\n"
          ]
        },
        {
          "output_type": "stream",
          "name": "stderr",
          "text": [
            "\r 29%|██▉       | 87/300 [1:14:14<3:01:53, 51.24s/it]"
          ]
        },
        {
          "output_type": "stream",
          "name": "stdout",
          "text": [
            "Training Loss : 0.025520560839176178, Testing Loss : 0.642461139011383, Training Accuracy : 0.99104, Testing Accuracy : 0.8887\n"
          ]
        },
        {
          "output_type": "stream",
          "name": "stderr",
          "text": [
            "\r 29%|██▉       | 88/300 [1:15:06<3:01:25, 51.35s/it]"
          ]
        },
        {
          "output_type": "stream",
          "name": "stdout",
          "text": [
            "Training Loss : 0.02504539775788784, Testing Loss : 0.6327558838844299, Training Accuracy : 0.99178, Testing Accuracy : 0.8927\n"
          ]
        },
        {
          "output_type": "stream",
          "name": "stderr",
          "text": [
            "\r 30%|██▉       | 89/300 [1:15:57<3:00:27, 51.32s/it]"
          ]
        },
        {
          "output_type": "stream",
          "name": "stdout",
          "text": [
            "Training Loss : 0.025186175532191993, Testing Loss : 0.6500242281913757, Training Accuracy : 0.99122, Testing Accuracy : 0.8939\n"
          ]
        },
        {
          "output_type": "stream",
          "name": "stderr",
          "text": [
            "\r 30%|███       | 90/300 [1:16:48<2:59:33, 51.30s/it]"
          ]
        },
        {
          "output_type": "stream",
          "name": "stdout",
          "text": [
            "Training Loss : 0.022120399484932423, Testing Loss : 0.694081125164032, Training Accuracy : 0.99274, Testing Accuracy : 0.8889\n"
          ]
        },
        {
          "output_type": "stream",
          "name": "stderr",
          "text": [
            "\r 30%|███       | 91/300 [1:17:39<2:58:35, 51.27s/it]"
          ]
        },
        {
          "output_type": "stream",
          "name": "stdout",
          "text": [
            "Training Loss : 0.023210414481163025, Testing Loss : 0.6673750095367431, Training Accuracy : 0.9919, Testing Accuracy : 0.8901\n"
          ]
        },
        {
          "output_type": "stream",
          "name": "stderr",
          "text": [
            "\r 31%|███       | 92/300 [1:18:30<2:57:28, 51.19s/it]"
          ]
        },
        {
          "output_type": "stream",
          "name": "stdout",
          "text": [
            "Training Loss : 0.021341568420007825, Testing Loss : 0.7494588317871094, Training Accuracy : 0.99238, Testing Accuracy : 0.8805\n"
          ]
        },
        {
          "output_type": "stream",
          "name": "stderr",
          "text": [
            "\r 31%|███       | 93/300 [1:19:22<2:56:32, 51.17s/it]"
          ]
        },
        {
          "output_type": "stream",
          "name": "stdout",
          "text": [
            "Training Loss : 0.023550153890699147, Testing Loss : 0.6312136264801025, Training Accuracy : 0.99194, Testing Accuracy : 0.8907\n"
          ]
        },
        {
          "output_type": "stream",
          "name": "stderr",
          "text": [
            "\r 31%|███▏      | 94/300 [1:20:13<2:56:07, 51.30s/it]"
          ]
        },
        {
          "output_type": "stream",
          "name": "stdout",
          "text": [
            "Training Loss : 0.022505708359330894, Testing Loss : 0.6552283744812012, Training Accuracy : 0.99242, Testing Accuracy : 0.8919\n"
          ]
        },
        {
          "output_type": "stream",
          "name": "stderr",
          "text": [
            "\r 32%|███▏      | 95/300 [1:21:05<2:55:34, 51.39s/it]"
          ]
        },
        {
          "output_type": "stream",
          "name": "stdout",
          "text": [
            "Training Loss : 0.021241019246578216, Testing Loss : 0.6432226828575134, Training Accuracy : 0.9926, Testing Accuracy : 0.8936\n"
          ]
        },
        {
          "output_type": "stream",
          "name": "stderr",
          "text": [
            "\r 32%|███▏      | 96/300 [1:21:56<2:54:52, 51.43s/it]"
          ]
        },
        {
          "output_type": "stream",
          "name": "stdout",
          "text": [
            "Training Loss : 0.02124142828643322, Testing Loss : 0.7040673019409179, Training Accuracy : 0.99278, Testing Accuracy : 0.8894\n"
          ]
        },
        {
          "output_type": "stream",
          "name": "stderr",
          "text": [
            "\r 32%|███▏      | 97/300 [1:22:48<2:53:49, 51.38s/it]"
          ]
        },
        {
          "output_type": "stream",
          "name": "stdout",
          "text": [
            "Training Loss : 0.020744068436473608, Testing Loss : 0.6977302017211914, Training Accuracy : 0.9931, Testing Accuracy : 0.8882\n"
          ]
        },
        {
          "output_type": "stream",
          "name": "stderr",
          "text": [
            "\r 33%|███▎      | 98/300 [1:23:39<2:53:03, 51.40s/it]"
          ]
        },
        {
          "output_type": "stream",
          "name": "stdout",
          "text": [
            "Training Loss : 0.01981533726274967, Testing Loss : 0.6784332486152649, Training Accuracy : 0.9933, Testing Accuracy : 0.8962\n"
          ]
        },
        {
          "output_type": "stream",
          "name": "stderr",
          "text": [
            "\r 33%|███▎      | 99/300 [1:24:30<2:52:17, 51.43s/it]"
          ]
        },
        {
          "output_type": "stream",
          "name": "stdout",
          "text": [
            "Training Loss : 0.019809285411685706, Testing Loss : 0.6621306781768799, Training Accuracy : 0.99342, Testing Accuracy : 0.894\n"
          ]
        },
        {
          "output_type": "stream",
          "name": "stderr",
          "text": [
            "\r 33%|███▎      | 100/300 [1:25:22<2:51:25, 51.43s/it]"
          ]
        },
        {
          "output_type": "stream",
          "name": "stdout",
          "text": [
            "Training Loss : 0.018913502119630575, Testing Loss : 0.6390115888595581, Training Accuracy : 0.99322, Testing Accuracy : 0.8986\n"
          ]
        },
        {
          "output_type": "stream",
          "name": "stderr",
          "text": [
            "\r 34%|███▎      | 101/300 [1:26:14<2:50:59, 51.55s/it]"
          ]
        },
        {
          "output_type": "stream",
          "name": "stdout",
          "text": [
            "Training Loss : 0.019806862883865833, Testing Loss : 0.6841381505966186, Training Accuracy : 0.99268, Testing Accuracy : 0.885\n"
          ]
        },
        {
          "output_type": "stream",
          "name": "stderr",
          "text": [
            "\r 34%|███▍      | 102/300 [1:27:05<2:50:06, 51.55s/it]"
          ]
        },
        {
          "output_type": "stream",
          "name": "stdout",
          "text": [
            "Training Loss : 0.01710481799520552, Testing Loss : 0.693592649936676, Training Accuracy : 0.99438, Testing Accuracy : 0.8914\n"
          ]
        },
        {
          "output_type": "stream",
          "name": "stderr",
          "text": [
            "\r 34%|███▍      | 103/300 [1:27:57<2:49:07, 51.51s/it]"
          ]
        },
        {
          "output_type": "stream",
          "name": "stdout",
          "text": [
            "Training Loss : 0.01934551066875458, Testing Loss : 0.6657918717384338, Training Accuracy : 0.9928, Testing Accuracy : 0.8933\n"
          ]
        },
        {
          "output_type": "stream",
          "name": "stderr",
          "text": [
            "\r 35%|███▍      | 104/300 [1:28:48<2:48:07, 51.47s/it]"
          ]
        },
        {
          "output_type": "stream",
          "name": "stdout",
          "text": [
            "Training Loss : 0.01862752145305276, Testing Loss : 0.7028424716949463, Training Accuracy : 0.99354, Testing Accuracy : 0.8911\n"
          ]
        },
        {
          "output_type": "stream",
          "name": "stderr",
          "text": [
            "\r 35%|███▌      | 105/300 [1:29:39<2:47:06, 51.42s/it]"
          ]
        },
        {
          "output_type": "stream",
          "name": "stdout",
          "text": [
            "Training Loss : 0.016462598825842143, Testing Loss : 0.6749847858428956, Training Accuracy : 0.9942, Testing Accuracy : 0.895\n"
          ]
        },
        {
          "output_type": "stream",
          "name": "stderr",
          "text": [
            "\r 35%|███▌      | 106/300 [1:30:31<2:46:19, 51.44s/it]"
          ]
        },
        {
          "output_type": "stream",
          "name": "stdout",
          "text": [
            "Training Loss : 0.015820494390279053, Testing Loss : 0.7084124086380005, Training Accuracy : 0.99428, Testing Accuracy : 0.8921\n"
          ]
        },
        {
          "output_type": "stream",
          "name": "stderr",
          "text": [
            "\r 36%|███▌      | 107/300 [1:31:22<2:45:34, 51.48s/it]"
          ]
        },
        {
          "output_type": "stream",
          "name": "stdout",
          "text": [
            "Training Loss : 0.01635224557802081, Testing Loss : 0.6685559185028076, Training Accuracy : 0.9942, Testing Accuracy : 0.8939\n"
          ]
        },
        {
          "output_type": "stream",
          "name": "stderr",
          "text": [
            "\r 36%|███▌      | 108/300 [1:32:14<2:44:31, 51.41s/it]"
          ]
        },
        {
          "output_type": "stream",
          "name": "stdout",
          "text": [
            "Training Loss : 0.014290878760293125, Testing Loss : 0.6709833000183105, Training Accuracy : 0.99526, Testing Accuracy : 0.8964\n"
          ]
        },
        {
          "output_type": "stream",
          "name": "stderr",
          "text": [
            "\r 36%|███▋      | 109/300 [1:33:05<2:43:31, 51.37s/it]"
          ]
        },
        {
          "output_type": "stream",
          "name": "stdout",
          "text": [
            "Training Loss : 0.015262826588451862, Testing Loss : 0.7103044346809387, Training Accuracy : 0.99468, Testing Accuracy : 0.8947\n"
          ]
        },
        {
          "output_type": "stream",
          "name": "stderr",
          "text": [
            "\r 37%|███▋      | 110/300 [1:33:56<2:42:44, 51.39s/it]"
          ]
        },
        {
          "output_type": "stream",
          "name": "stdout",
          "text": [
            "Training Loss : 0.01619615377187729, Testing Loss : 0.659954830646515, Training Accuracy : 0.994, Testing Accuracy : 0.8988\n"
          ]
        },
        {
          "output_type": "stream",
          "name": "stderr",
          "text": [
            "\r 37%|███▋      | 111/300 [1:34:48<2:41:43, 51.34s/it]"
          ]
        },
        {
          "output_type": "stream",
          "name": "stdout",
          "text": [
            "Training Loss : 0.015300929630622268, Testing Loss : 0.675855784034729, Training Accuracy : 0.99494, Testing Accuracy : 0.8975\n"
          ]
        },
        {
          "output_type": "stream",
          "name": "stderr",
          "text": [
            "\r 37%|███▋      | 112/300 [1:35:39<2:40:56, 51.37s/it]"
          ]
        },
        {
          "output_type": "stream",
          "name": "stdout",
          "text": [
            "Training Loss : 0.0148716811574623, Testing Loss : 0.6914717533111572, Training Accuracy : 0.99492, Testing Accuracy : 0.8962\n"
          ]
        },
        {
          "output_type": "stream",
          "name": "stderr",
          "text": [
            "\r 38%|███▊      | 113/300 [1:36:30<2:39:55, 51.31s/it]"
          ]
        },
        {
          "output_type": "stream",
          "name": "stdout",
          "text": [
            "Training Loss : 0.012505830047205091, Testing Loss : 0.6687726564407349, Training Accuracy : 0.99592, Testing Accuracy : 0.8985\n"
          ]
        },
        {
          "output_type": "stream",
          "name": "stderr",
          "text": [
            "\r 38%|███▊      | 114/300 [1:37:21<2:39:00, 51.29s/it]"
          ]
        },
        {
          "output_type": "stream",
          "name": "stdout",
          "text": [
            "Training Loss : 0.01472342040386051, Testing Loss : 0.7094142702102662, Training Accuracy : 0.99486, Testing Accuracy : 0.8949\n"
          ]
        },
        {
          "output_type": "stream",
          "name": "stderr",
          "text": [
            "\r 38%|███▊      | 115/300 [1:38:13<2:38:11, 51.30s/it]"
          ]
        },
        {
          "output_type": "stream",
          "name": "stdout",
          "text": [
            "Training Loss : 0.014375252198278904, Testing Loss : 0.7139181502342224, Training Accuracy : 0.99498, Testing Accuracy : 0.8964\n"
          ]
        },
        {
          "output_type": "stream",
          "name": "stderr",
          "text": [
            "\r 39%|███▊      | 116/300 [1:39:04<2:37:20, 51.31s/it]"
          ]
        },
        {
          "output_type": "stream",
          "name": "stdout",
          "text": [
            "Training Loss : 0.013073755031302571, Testing Loss : 0.7192343861579895, Training Accuracy : 0.99556, Testing Accuracy : 0.8944\n"
          ]
        },
        {
          "output_type": "stream",
          "name": "stderr",
          "text": [
            "\r 39%|███▉      | 117/300 [1:39:55<2:36:29, 51.31s/it]"
          ]
        },
        {
          "output_type": "stream",
          "name": "stdout",
          "text": [
            "Training Loss : 0.012833371850550175, Testing Loss : 0.7262699529647827, Training Accuracy : 0.9957, Testing Accuracy : 0.8942\n"
          ]
        },
        {
          "output_type": "stream",
          "name": "stderr",
          "text": [
            "\r 39%|███▉      | 118/300 [1:40:47<2:35:44, 51.34s/it]"
          ]
        },
        {
          "output_type": "stream",
          "name": "stdout",
          "text": [
            "Training Loss : 0.011781303316075355, Testing Loss : 0.7031216184616089, Training Accuracy : 0.99586, Testing Accuracy : 0.8958\n"
          ]
        },
        {
          "output_type": "stream",
          "name": "stderr",
          "text": [
            "\r 40%|███▉      | 119/300 [1:41:38<2:34:52, 51.34s/it]"
          ]
        },
        {
          "output_type": "stream",
          "name": "stdout",
          "text": [
            "Training Loss : 0.011999808100312948, Testing Loss : 0.7440444101333619, Training Accuracy : 0.99602, Testing Accuracy : 0.8937\n"
          ]
        },
        {
          "output_type": "stream",
          "name": "stderr",
          "text": [
            "\r 40%|████      | 120/300 [1:42:29<2:33:45, 51.25s/it]"
          ]
        },
        {
          "output_type": "stream",
          "name": "stdout",
          "text": [
            "Training Loss : 0.012691735240407289, Testing Loss : 0.7091971855163575, Training Accuracy : 0.99572, Testing Accuracy : 0.8968\n"
          ]
        },
        {
          "output_type": "stream",
          "name": "stderr",
          "text": [
            "\r 40%|████      | 121/300 [1:43:21<2:33:12, 51.35s/it]"
          ]
        },
        {
          "output_type": "stream",
          "name": "stdout",
          "text": [
            "Training Loss : 0.012490525835305452, Testing Loss : 0.7245451713562012, Training Accuracy : 0.9956, Testing Accuracy : 0.9\n"
          ]
        },
        {
          "output_type": "stream",
          "name": "stderr",
          "text": [
            "\r 41%|████      | 122/300 [1:44:12<2:32:20, 51.35s/it]"
          ]
        },
        {
          "output_type": "stream",
          "name": "stdout",
          "text": [
            "Training Loss : 0.011437707177195697, Testing Loss : 0.7302606099128723, Training Accuracy : 0.99608, Testing Accuracy : 0.8972\n"
          ]
        },
        {
          "output_type": "stream",
          "name": "stderr",
          "text": [
            "\r 41%|████      | 123/300 [1:45:04<2:31:30, 51.36s/it]"
          ]
        },
        {
          "output_type": "stream",
          "name": "stdout",
          "text": [
            "Training Loss : 0.01141612109899521, Testing Loss : 0.7116207488059998, Training Accuracy : 0.99592, Testing Accuracy : 0.8968\n"
          ]
        },
        {
          "output_type": "stream",
          "name": "stderr",
          "text": [
            "\r 41%|████▏     | 124/300 [1:45:55<2:30:41, 51.37s/it]"
          ]
        },
        {
          "output_type": "stream",
          "name": "stdout",
          "text": [
            "Training Loss : 0.011794934658035636, Testing Loss : 0.7538925006866455, Training Accuracy : 0.99608, Testing Accuracy : 0.8965\n"
          ]
        },
        {
          "output_type": "stream",
          "name": "stderr",
          "text": [
            "\r 42%|████▏     | 125/300 [1:46:46<2:29:47, 51.36s/it]"
          ]
        },
        {
          "output_type": "stream",
          "name": "stdout",
          "text": [
            "Training Loss : 0.010175582160707563, Testing Loss : 0.7295643619537353, Training Accuracy : 0.99658, Testing Accuracy : 0.8982\n"
          ]
        },
        {
          "output_type": "stream",
          "name": "stderr",
          "text": [
            "\r 42%|████▏     | 126/300 [1:47:38<2:28:50, 51.32s/it]"
          ]
        },
        {
          "output_type": "stream",
          "name": "stdout",
          "text": [
            "Training Loss : 0.011119909168425948, Testing Loss : 0.73951548204422, Training Accuracy : 0.99638, Testing Accuracy : 0.8952\n"
          ]
        },
        {
          "output_type": "stream",
          "name": "stderr",
          "text": [
            "\r 42%|████▏     | 127/300 [1:48:29<2:28:08, 51.38s/it]"
          ]
        },
        {
          "output_type": "stream",
          "name": "stdout",
          "text": [
            "Training Loss : 0.009329862243458628, Testing Loss : 0.7186466941833496, Training Accuracy : 0.99676, Testing Accuracy : 0.8964\n"
          ]
        },
        {
          "output_type": "stream",
          "name": "stderr",
          "text": [
            "\r 43%|████▎     | 128/300 [1:49:20<2:27:20, 51.40s/it]"
          ]
        },
        {
          "output_type": "stream",
          "name": "stdout",
          "text": [
            "Training Loss : 0.009924960723239928, Testing Loss : 0.7661976564407349, Training Accuracy : 0.9968, Testing Accuracy : 0.8945\n"
          ]
        },
        {
          "output_type": "stream",
          "name": "stderr",
          "text": [
            "\r 43%|████▎     | 129/300 [1:50:12<2:26:24, 51.37s/it]"
          ]
        },
        {
          "output_type": "stream",
          "name": "stdout",
          "text": [
            "Training Loss : 0.008861438830215484, Testing Loss : 0.7364922894477844, Training Accuracy : 0.99692, Testing Accuracy : 0.9002\n"
          ]
        },
        {
          "output_type": "stream",
          "name": "stderr",
          "text": [
            "\r 43%|████▎     | 130/300 [1:51:03<2:25:31, 51.36s/it]"
          ]
        },
        {
          "output_type": "stream",
          "name": "stdout",
          "text": [
            "Training Loss : 0.00948290684564039, Testing Loss : 0.7402029082298279, Training Accuracy : 0.99654, Testing Accuracy : 0.8974\n"
          ]
        },
        {
          "output_type": "stream",
          "name": "stderr",
          "text": [
            "\r 44%|████▎     | 131/300 [1:51:54<2:24:34, 51.33s/it]"
          ]
        },
        {
          "output_type": "stream",
          "name": "stdout",
          "text": [
            "Training Loss : 0.009070487888762727, Testing Loss : 0.7340672541618347, Training Accuracy : 0.99692, Testing Accuracy : 0.902\n"
          ]
        },
        {
          "output_type": "stream",
          "name": "stderr",
          "text": [
            "\r 44%|████▍     | 132/300 [1:52:46<2:23:32, 51.27s/it]"
          ]
        },
        {
          "output_type": "stream",
          "name": "stdout",
          "text": [
            "Training Loss : 0.009885746127828025, Testing Loss : 0.7396088474273682, Training Accuracy : 0.99656, Testing Accuracy : 0.8981\n"
          ]
        },
        {
          "output_type": "stream",
          "name": "stderr",
          "text": [
            "\r 44%|████▍     | 133/300 [1:53:37<2:22:31, 51.21s/it]"
          ]
        },
        {
          "output_type": "stream",
          "name": "stdout",
          "text": [
            "Training Loss : 0.009256349740289152, Testing Loss : 0.7218270693778992, Training Accuracy : 0.99684, Testing Accuracy : 0.8993\n"
          ]
        },
        {
          "output_type": "stream",
          "name": "stderr",
          "text": [
            "\r 45%|████▍     | 134/300 [1:54:27<2:21:14, 51.05s/it]"
          ]
        },
        {
          "output_type": "stream",
          "name": "stdout",
          "text": [
            "Training Loss : 0.008545328094270081, Testing Loss : 0.7842230464816093, Training Accuracy : 0.99688, Testing Accuracy : 0.8981\n"
          ]
        },
        {
          "output_type": "stream",
          "name": "stderr",
          "text": [
            "\r 45%|████▌     | 135/300 [1:55:18<2:20:28, 51.08s/it]"
          ]
        },
        {
          "output_type": "stream",
          "name": "stdout",
          "text": [
            "Training Loss : 0.008301653313562274, Testing Loss : 0.750996826505661, Training Accuracy : 0.99708, Testing Accuracy : 0.8994\n"
          ]
        },
        {
          "output_type": "stream",
          "name": "stderr",
          "text": [
            "\r 45%|████▌     | 136/300 [1:56:09<2:19:31, 51.04s/it]"
          ]
        },
        {
          "output_type": "stream",
          "name": "stdout",
          "text": [
            "Training Loss : 0.008654076178632676, Testing Loss : 0.7622821130752564, Training Accuracy : 0.99692, Testing Accuracy : 0.8986\n"
          ]
        },
        {
          "output_type": "stream",
          "name": "stderr",
          "text": [
            "\r 46%|████▌     | 137/300 [1:57:00<2:18:35, 51.01s/it]"
          ]
        },
        {
          "output_type": "stream",
          "name": "stdout",
          "text": [
            "Training Loss : 0.007975111678787507, Testing Loss : 0.7335576042175292, Training Accuracy : 0.99736, Testing Accuracy : 0.8988\n"
          ]
        },
        {
          "output_type": "stream",
          "name": "stderr",
          "text": [
            "\r 46%|████▌     | 138/300 [1:57:51<2:17:34, 50.95s/it]"
          ]
        },
        {
          "output_type": "stream",
          "name": "stdout",
          "text": [
            "Training Loss : 0.007238348477855325, Testing Loss : 0.762246012210846, Training Accuracy : 0.9974, Testing Accuracy : 0.8983\n"
          ]
        },
        {
          "output_type": "stream",
          "name": "stderr",
          "text": [
            "\r 46%|████▋     | 139/300 [1:58:42<2:16:41, 50.94s/it]"
          ]
        },
        {
          "output_type": "stream",
          "name": "stdout",
          "text": [
            "Training Loss : 0.0071514416081644595, Testing Loss : 0.7603213632583619, Training Accuracy : 0.99746, Testing Accuracy : 0.9007\n"
          ]
        },
        {
          "output_type": "stream",
          "name": "stderr",
          "text": [
            "\r 47%|████▋     | 140/300 [1:59:33<2:15:52, 50.95s/it]"
          ]
        },
        {
          "output_type": "stream",
          "name": "stdout",
          "text": [
            "Training Loss : 0.007535243830606341, Testing Loss : 0.7677506605148315, Training Accuracy : 0.9975, Testing Accuracy : 0.8989\n"
          ]
        },
        {
          "output_type": "stream",
          "name": "stderr",
          "text": [
            "\r 47%|████▋     | 141/300 [2:00:24<2:14:58, 50.93s/it]"
          ]
        },
        {
          "output_type": "stream",
          "name": "stdout",
          "text": [
            "Training Loss : 0.007638416074737906, Testing Loss : 0.71813586063385, Training Accuracy : 0.9973, Testing Accuracy : 0.9\n"
          ]
        },
        {
          "output_type": "stream",
          "name": "stderr",
          "text": [
            "\r 47%|████▋     | 142/300 [2:01:15<2:14:01, 50.90s/it]"
          ]
        },
        {
          "output_type": "stream",
          "name": "stdout",
          "text": [
            "Training Loss : 0.006648691984014586, Testing Loss : 0.7541157403945923, Training Accuracy : 0.99766, Testing Accuracy : 0.9014\n"
          ]
        },
        {
          "output_type": "stream",
          "name": "stderr",
          "text": [
            "\r 48%|████▊     | 143/300 [2:02:06<2:13:10, 50.89s/it]"
          ]
        },
        {
          "output_type": "stream",
          "name": "stdout",
          "text": [
            "Training Loss : 0.007045125340907834, Testing Loss : 0.778240612411499, Training Accuracy : 0.9977, Testing Accuracy : 0.8971\n"
          ]
        },
        {
          "output_type": "stream",
          "name": "stderr",
          "text": [
            "\r 48%|████▊     | 144/300 [2:02:57<2:12:21, 50.91s/it]"
          ]
        },
        {
          "output_type": "stream",
          "name": "stdout",
          "text": [
            "Training Loss : 0.006536999885104596, Testing Loss : 0.7660483654022217, Training Accuracy : 0.9977, Testing Accuracy : 0.8989\n"
          ]
        },
        {
          "output_type": "stream",
          "name": "stderr",
          "text": [
            "\r 48%|████▊     | 145/300 [2:03:48<2:11:35, 50.94s/it]"
          ]
        },
        {
          "output_type": "stream",
          "name": "stdout",
          "text": [
            "Training Loss : 0.006557570331888273, Testing Loss : 0.8366389339447021, Training Accuracy : 0.9977, Testing Accuracy : 0.8955\n"
          ]
        },
        {
          "output_type": "stream",
          "name": "stderr",
          "text": [
            "\r 49%|████▊     | 146/300 [2:04:39<2:10:51, 50.98s/it]"
          ]
        },
        {
          "output_type": "stream",
          "name": "stdout",
          "text": [
            "Training Loss : 0.005721345570315607, Testing Loss : 0.7738912120819091, Training Accuracy : 0.9982, Testing Accuracy : 0.9023\n"
          ]
        },
        {
          "output_type": "stream",
          "name": "stderr",
          "text": [
            "\r 49%|████▉     | 147/300 [2:05:30<2:10:18, 51.10s/it]"
          ]
        },
        {
          "output_type": "stream",
          "name": "stdout",
          "text": [
            "Training Loss : 0.0052745569428475575, Testing Loss : 0.7922752582550049, Training Accuracy : 0.99818, Testing Accuracy : 0.8967\n"
          ]
        },
        {
          "output_type": "stream",
          "name": "stderr",
          "text": [
            "\r 49%|████▉     | 148/300 [2:06:21<2:09:19, 51.05s/it]"
          ]
        },
        {
          "output_type": "stream",
          "name": "stdout",
          "text": [
            "Training Loss : 0.004822353251469322, Testing Loss : 0.8123661096572876, Training Accuracy : 0.99838, Testing Accuracy : 0.8997\n"
          ]
        },
        {
          "output_type": "stream",
          "name": "stderr",
          "text": [
            "\r 50%|████▉     | 149/300 [2:07:12<2:08:36, 51.10s/it]"
          ]
        },
        {
          "output_type": "stream",
          "name": "stdout",
          "text": [
            "Training Loss : 0.005985525365942158, Testing Loss : 0.7832311052322388, Training Accuracy : 0.99816, Testing Accuracy : 0.9026\n"
          ]
        },
        {
          "output_type": "stream",
          "name": "stderr",
          "text": [
            "\r 50%|█████     | 150/300 [2:08:03<2:07:35, 51.04s/it]"
          ]
        },
        {
          "output_type": "stream",
          "name": "stdout",
          "text": [
            "Training Loss : 0.005310409227909986, Testing Loss : 0.7843945171356201, Training Accuracy : 0.99808, Testing Accuracy : 0.8996\n"
          ]
        },
        {
          "output_type": "stream",
          "name": "stderr",
          "text": [
            "\r 50%|█████     | 151/300 [2:08:54<2:06:49, 51.07s/it]"
          ]
        },
        {
          "output_type": "stream",
          "name": "stdout",
          "text": [
            "Training Loss : 0.005569782283506356, Testing Loss : 0.7602889671325683, Training Accuracy : 0.99822, Testing Accuracy : 0.9022\n"
          ]
        },
        {
          "output_type": "stream",
          "name": "stderr",
          "text": [
            "\r 51%|█████     | 152/300 [2:09:45<2:05:57, 51.06s/it]"
          ]
        },
        {
          "output_type": "stream",
          "name": "stdout",
          "text": [
            "Training Loss : 0.005463294614632614, Testing Loss : 0.7895027269363404, Training Accuracy : 0.9981, Testing Accuracy : 0.9012\n"
          ]
        },
        {
          "output_type": "stream",
          "name": "stderr",
          "text": [
            "\r 51%|█████     | 153/300 [2:10:36<2:05:03, 51.04s/it]"
          ]
        },
        {
          "output_type": "stream",
          "name": "stdout",
          "text": [
            "Training Loss : 0.005012550362194888, Testing Loss : 0.8083988697052001, Training Accuracy : 0.99832, Testing Accuracy : 0.8993\n"
          ]
        },
        {
          "output_type": "stream",
          "name": "stderr",
          "text": [
            "\r 51%|█████▏    | 154/300 [2:11:27<2:04:08, 51.02s/it]"
          ]
        },
        {
          "output_type": "stream",
          "name": "stdout",
          "text": [
            "Training Loss : 0.00502632760839304, Testing Loss : 0.7963323894500732, Training Accuracy : 0.99832, Testing Accuracy : 0.9033\n"
          ]
        },
        {
          "output_type": "stream",
          "name": "stderr",
          "text": [
            "\r 52%|█████▏    | 155/300 [2:12:18<2:03:07, 50.95s/it]"
          ]
        },
        {
          "output_type": "stream",
          "name": "stdout",
          "text": [
            "Training Loss : 0.005798228752934374, Testing Loss : 0.7966297534942627, Training Accuracy : 0.99824, Testing Accuracy : 0.901\n"
          ]
        },
        {
          "output_type": "stream",
          "name": "stderr",
          "text": [
            "\r 52%|█████▏    | 156/300 [2:13:09<2:02:12, 50.92s/it]"
          ]
        },
        {
          "output_type": "stream",
          "name": "stdout",
          "text": [
            "Training Loss : 0.004722984798866092, Testing Loss : 0.795755913734436, Training Accuracy : 0.99844, Testing Accuracy : 0.902\n"
          ]
        },
        {
          "output_type": "stream",
          "name": "stderr",
          "text": [
            "\r 52%|█████▏    | 157/300 [2:14:00<2:01:20, 50.92s/it]"
          ]
        },
        {
          "output_type": "stream",
          "name": "stdout",
          "text": [
            "Training Loss : 0.00498528031625785, Testing Loss : 0.8178332298278809, Training Accuracy : 0.99824, Testing Accuracy : 0.9001\n"
          ]
        },
        {
          "output_type": "stream",
          "name": "stderr",
          "text": [
            "\r 53%|█████▎    | 158/300 [2:14:51<2:00:31, 50.93s/it]"
          ]
        },
        {
          "output_type": "stream",
          "name": "stdout",
          "text": [
            "Training Loss : 0.003918500004427042, Testing Loss : 0.8089822244644165, Training Accuracy : 0.99866, Testing Accuracy : 0.9017\n"
          ]
        },
        {
          "output_type": "stream",
          "name": "stderr",
          "text": [
            "\r 53%|█████▎    | 159/300 [2:15:42<1:59:36, 50.90s/it]"
          ]
        },
        {
          "output_type": "stream",
          "name": "stdout",
          "text": [
            "Training Loss : 0.00477141812969232, Testing Loss : 0.8031827348709106, Training Accuracy : 0.99852, Testing Accuracy : 0.9022\n"
          ]
        },
        {
          "output_type": "stream",
          "name": "stderr",
          "text": [
            "\r 53%|█████▎    | 160/300 [2:16:33<1:58:49, 50.93s/it]"
          ]
        },
        {
          "output_type": "stream",
          "name": "stdout",
          "text": [
            "Training Loss : 0.0038386171166808346, Testing Loss : 0.8071995328903199, Training Accuracy : 0.99858, Testing Accuracy : 0.9033\n"
          ]
        },
        {
          "output_type": "stream",
          "name": "stderr",
          "text": [
            "\r 54%|█████▎    | 161/300 [2:17:24<1:58:07, 50.99s/it]"
          ]
        },
        {
          "output_type": "stream",
          "name": "stdout",
          "text": [
            "Training Loss : 0.0032164782875822857, Testing Loss : 0.7878219114303588, Training Accuracy : 0.99886, Testing Accuracy : 0.8997\n"
          ]
        },
        {
          "output_type": "stream",
          "name": "stderr",
          "text": [
            "\r 54%|█████▍    | 162/300 [2:18:15<1:57:16, 50.99s/it]"
          ]
        },
        {
          "output_type": "stream",
          "name": "stdout",
          "text": [
            "Training Loss : 0.0030464987052371724, Testing Loss : 0.823957995223999, Training Accuracy : 0.99906, Testing Accuracy : 0.9005\n"
          ]
        },
        {
          "output_type": "stream",
          "name": "stderr",
          "text": [
            "\r 54%|█████▍    | 163/300 [2:19:06<1:56:34, 51.05s/it]"
          ]
        },
        {
          "output_type": "stream",
          "name": "stdout",
          "text": [
            "Training Loss : 0.0033836057395429816, Testing Loss : 0.8014932064056397, Training Accuracy : 0.99882, Testing Accuracy : 0.9009\n"
          ]
        },
        {
          "output_type": "stream",
          "name": "stderr",
          "text": [
            "\r 55%|█████▍    | 164/300 [2:19:57<1:55:44, 51.06s/it]"
          ]
        },
        {
          "output_type": "stream",
          "name": "stdout",
          "text": [
            "Training Loss : 0.0032618047516507795, Testing Loss : 0.8112586256027222, Training Accuracy : 0.9988, Testing Accuracy : 0.9022\n"
          ]
        },
        {
          "output_type": "stream",
          "name": "stderr",
          "text": [
            "\r 55%|█████▌    | 165/300 [2:20:48<1:54:47, 51.02s/it]"
          ]
        },
        {
          "output_type": "stream",
          "name": "stdout",
          "text": [
            "Training Loss : 0.003548431966792559, Testing Loss : 0.7818201166152954, Training Accuracy : 0.9987, Testing Accuracy : 0.9046\n"
          ]
        },
        {
          "output_type": "stream",
          "name": "stderr",
          "text": [
            "\r 55%|█████▌    | 166/300 [2:21:39<1:53:59, 51.04s/it]"
          ]
        },
        {
          "output_type": "stream",
          "name": "stdout",
          "text": [
            "Training Loss : 0.0041181645238783674, Testing Loss : 0.8446761102676391, Training Accuracy : 0.99866, Testing Accuracy : 0.9014\n"
          ]
        },
        {
          "output_type": "stream",
          "name": "stderr",
          "text": [
            "\r 56%|█████▌    | 167/300 [2:22:30<1:53:00, 50.98s/it]"
          ]
        },
        {
          "output_type": "stream",
          "name": "stdout",
          "text": [
            "Training Loss : 0.002983610574924387, Testing Loss : 0.8195399427413941, Training Accuracy : 0.99906, Testing Accuracy : 0.9054\n"
          ]
        },
        {
          "output_type": "stream",
          "name": "stderr",
          "text": [
            "\r 56%|█████▌    | 168/300 [2:23:21<1:52:15, 51.03s/it]"
          ]
        },
        {
          "output_type": "stream",
          "name": "stdout",
          "text": [
            "Training Loss : 0.003153784282951383, Testing Loss : 0.8170462337493897, Training Accuracy : 0.99896, Testing Accuracy : 0.9045\n"
          ]
        },
        {
          "output_type": "stream",
          "name": "stderr",
          "text": [
            "\r 56%|█████▋    | 169/300 [2:24:12<1:51:19, 50.99s/it]"
          ]
        },
        {
          "output_type": "stream",
          "name": "stdout",
          "text": [
            "Training Loss : 0.002136486003516475, Testing Loss : 0.8091119619369507, Training Accuracy : 0.99928, Testing Accuracy : 0.904\n"
          ]
        },
        {
          "output_type": "stream",
          "name": "stderr",
          "text": [
            "\r 57%|█████▋    | 170/300 [2:25:03<1:50:17, 50.90s/it]"
          ]
        },
        {
          "output_type": "stream",
          "name": "stdout",
          "text": [
            "Training Loss : 0.0028767390765447637, Testing Loss : 0.8156860592842102, Training Accuracy : 0.99904, Testing Accuracy : 0.9047\n"
          ]
        },
        {
          "output_type": "stream",
          "name": "stderr",
          "text": [
            "\r 57%|█████▋    | 171/300 [2:25:53<1:49:22, 50.87s/it]"
          ]
        },
        {
          "output_type": "stream",
          "name": "stdout",
          "text": [
            "Training Loss : 0.002559233480351977, Testing Loss : 0.8492470369338989, Training Accuracy : 0.99902, Testing Accuracy : 0.9026\n"
          ]
        },
        {
          "output_type": "stream",
          "name": "stderr",
          "text": [
            "\r 57%|█████▋    | 172/300 [2:26:44<1:48:39, 50.93s/it]"
          ]
        },
        {
          "output_type": "stream",
          "name": "stdout",
          "text": [
            "Training Loss : 0.003418964117845171, Testing Loss : 0.8522388998031616, Training Accuracy : 0.9988, Testing Accuracy : 0.9021\n"
          ]
        },
        {
          "output_type": "stream",
          "name": "stderr",
          "text": [
            "\r 58%|█████▊    | 173/300 [2:27:35<1:47:41, 50.88s/it]"
          ]
        },
        {
          "output_type": "stream",
          "name": "stdout",
          "text": [
            "Training Loss : 0.0022764653942803853, Testing Loss : 0.8427023044586182, Training Accuracy : 0.99916, Testing Accuracy : 0.9054\n"
          ]
        },
        {
          "output_type": "stream",
          "name": "stderr",
          "text": [
            "\r 58%|█████▊    | 174/300 [2:28:26<1:46:52, 50.90s/it]"
          ]
        },
        {
          "output_type": "stream",
          "name": "stdout",
          "text": [
            "Training Loss : 0.002499260561071569, Testing Loss : 0.8500173004150391, Training Accuracy : 0.99922, Testing Accuracy : 0.9058\n"
          ]
        },
        {
          "output_type": "stream",
          "name": "stderr",
          "text": [
            "\r 58%|█████▊    | 175/300 [2:29:17<1:45:53, 50.83s/it]"
          ]
        },
        {
          "output_type": "stream",
          "name": "stdout",
          "text": [
            "Training Loss : 0.002477884211888304, Testing Loss : 0.8653850040435791, Training Accuracy : 0.99918, Testing Accuracy : 0.9029\n"
          ]
        },
        {
          "output_type": "stream",
          "name": "stderr",
          "text": [
            "\r 59%|█████▊    | 176/300 [2:30:07<1:44:53, 50.75s/it]"
          ]
        },
        {
          "output_type": "stream",
          "name": "stdout",
          "text": [
            "Training Loss : 0.003174857552264002, Testing Loss : 0.8308139001846313, Training Accuracy : 0.99876, Testing Accuracy : 0.9044\n"
          ]
        },
        {
          "output_type": "stream",
          "name": "stderr",
          "text": [
            "\r 59%|█████▉    | 177/300 [2:30:58<1:43:55, 50.70s/it]"
          ]
        },
        {
          "output_type": "stream",
          "name": "stdout",
          "text": [
            "Training Loss : 0.0025976306420675247, Testing Loss : 0.8470906871795655, Training Accuracy : 0.99902, Testing Accuracy : 0.9049\n"
          ]
        },
        {
          "output_type": "stream",
          "name": "stderr",
          "text": [
            "\r 59%|█████▉    | 178/300 [2:31:48<1:42:58, 50.64s/it]"
          ]
        },
        {
          "output_type": "stream",
          "name": "stdout",
          "text": [
            "Training Loss : 0.00231049285216548, Testing Loss : 0.8276982587814331, Training Accuracy : 0.99934, Testing Accuracy : 0.9033\n"
          ]
        },
        {
          "output_type": "stream",
          "name": "stderr",
          "text": [
            "\r 60%|█████▉    | 179/300 [2:32:39<1:42:06, 50.63s/it]"
          ]
        },
        {
          "output_type": "stream",
          "name": "stdout",
          "text": [
            "Training Loss : 0.002491321845506318, Testing Loss : 0.8444987884521484, Training Accuracy : 0.9991, Testing Accuracy : 0.9023\n"
          ]
        },
        {
          "output_type": "stream",
          "name": "stderr",
          "text": [
            "\r 60%|██████    | 180/300 [2:33:30<1:41:23, 50.69s/it]"
          ]
        },
        {
          "output_type": "stream",
          "name": "stdout",
          "text": [
            "Training Loss : 0.002201857864788035, Testing Loss : 0.8339889083862305, Training Accuracy : 0.99924, Testing Accuracy : 0.9033\n"
          ]
        },
        {
          "output_type": "stream",
          "name": "stderr",
          "text": [
            "\r 60%|██████    | 181/300 [2:34:21<1:40:40, 50.76s/it]"
          ]
        },
        {
          "output_type": "stream",
          "name": "stdout",
          "text": [
            "Training Loss : 0.0022242462680040626, Testing Loss : 0.8469061563491821, Training Accuracy : 0.99926, Testing Accuracy : 0.9017\n"
          ]
        },
        {
          "output_type": "stream",
          "name": "stderr",
          "text": [
            "\r 61%|██████    | 182/300 [2:35:11<1:39:46, 50.73s/it]"
          ]
        },
        {
          "output_type": "stream",
          "name": "stdout",
          "text": [
            "Training Loss : 0.0021404362852440683, Testing Loss : 0.8639230482101441, Training Accuracy : 0.99936, Testing Accuracy : 0.9005\n"
          ]
        },
        {
          "output_type": "stream",
          "name": "stderr",
          "text": [
            "\r 61%|██████    | 183/300 [2:36:02<1:39:00, 50.78s/it]"
          ]
        },
        {
          "output_type": "stream",
          "name": "stdout",
          "text": [
            "Training Loss : 0.0017831492005850305, Testing Loss : 0.8616066614151001, Training Accuracy : 0.99948, Testing Accuracy : 0.9016\n"
          ]
        },
        {
          "output_type": "stream",
          "name": "stderr",
          "text": [
            "\r 61%|██████▏   | 184/300 [2:36:54<1:38:24, 50.90s/it]"
          ]
        },
        {
          "output_type": "stream",
          "name": "stdout",
          "text": [
            "Training Loss : 0.0019615114069943956, Testing Loss : 0.8470353394508362, Training Accuracy : 0.9993, Testing Accuracy : 0.9025\n"
          ]
        },
        {
          "output_type": "stream",
          "name": "stderr",
          "text": [
            "\r 62%|██████▏   | 185/300 [2:37:44<1:37:32, 50.89s/it]"
          ]
        },
        {
          "output_type": "stream",
          "name": "stdout",
          "text": [
            "Training Loss : 0.0012707646010955795, Testing Loss : 0.8535498532295227, Training Accuracy : 0.9996, Testing Accuracy : 0.9031\n"
          ]
        },
        {
          "output_type": "stream",
          "name": "stderr",
          "text": [
            "\r 62%|██████▏   | 186/300 [2:38:35<1:36:47, 50.94s/it]"
          ]
        },
        {
          "output_type": "stream",
          "name": "stdout",
          "text": [
            "Training Loss : 0.0016926959101803368, Testing Loss : 0.8697939449310302, Training Accuracy : 0.99946, Testing Accuracy : 0.9028\n"
          ]
        },
        {
          "output_type": "stream",
          "name": "stderr",
          "text": [
            "\r 62%|██████▏   | 187/300 [2:39:26<1:35:59, 50.97s/it]"
          ]
        },
        {
          "output_type": "stream",
          "name": "stdout",
          "text": [
            "Training Loss : 0.0015276374933397164, Testing Loss : 0.854123497581482, Training Accuracy : 0.99944, Testing Accuracy : 0.9018\n"
          ]
        },
        {
          "output_type": "stream",
          "name": "stderr",
          "text": [
            "\r 63%|██████▎   | 188/300 [2:40:18<1:35:13, 51.01s/it]"
          ]
        },
        {
          "output_type": "stream",
          "name": "stdout",
          "text": [
            "Training Loss : 0.0013817401086476456, Testing Loss : 0.8619166292190552, Training Accuracy : 0.99958, Testing Accuracy : 0.9033\n"
          ]
        },
        {
          "output_type": "stream",
          "name": "stderr",
          "text": [
            "\r 63%|██████▎   | 189/300 [2:41:09<1:34:29, 51.08s/it]"
          ]
        },
        {
          "output_type": "stream",
          "name": "stdout",
          "text": [
            "Training Loss : 0.0014668849312787643, Testing Loss : 0.8878795812606811, Training Accuracy : 0.99952, Testing Accuracy : 0.9029\n"
          ]
        },
        {
          "output_type": "stream",
          "name": "stderr",
          "text": [
            "\r 63%|██████▎   | 190/300 [2:42:00<1:33:40, 51.09s/it]"
          ]
        },
        {
          "output_type": "stream",
          "name": "stdout",
          "text": [
            "Training Loss : 0.001603145031001186, Testing Loss : 0.8870611333847046, Training Accuracy : 0.99936, Testing Accuracy : 0.9019\n"
          ]
        },
        {
          "output_type": "stream",
          "name": "stderr",
          "text": [
            "\r 64%|██████▎   | 191/300 [2:42:51<1:32:36, 50.98s/it]"
          ]
        },
        {
          "output_type": "stream",
          "name": "stdout",
          "text": [
            "Training Loss : 0.0012872944354329957, Testing Loss : 0.8706885913848877, Training Accuracy : 0.99954, Testing Accuracy : 0.9046\n"
          ]
        },
        {
          "output_type": "stream",
          "name": "stderr",
          "text": [
            "\r 64%|██████▍   | 192/300 [2:43:41<1:31:38, 50.91s/it]"
          ]
        },
        {
          "output_type": "stream",
          "name": "stdout",
          "text": [
            "Training Loss : 0.0011527497309463798, Testing Loss : 0.8908356689453125, Training Accuracy : 0.99956, Testing Accuracy : 0.9015\n"
          ]
        },
        {
          "output_type": "stream",
          "name": "stderr",
          "text": [
            "\r 64%|██████▍   | 193/300 [2:44:32<1:30:42, 50.86s/it]"
          ]
        },
        {
          "output_type": "stream",
          "name": "stdout",
          "text": [
            "Training Loss : 0.001552067307835241, Testing Loss : 0.9000921714782715, Training Accuracy : 0.99938, Testing Accuracy : 0.9017\n"
          ]
        },
        {
          "output_type": "stream",
          "name": "stderr",
          "text": [
            "\r 65%|██████▍   | 194/300 [2:45:23<1:29:43, 50.79s/it]"
          ]
        },
        {
          "output_type": "stream",
          "name": "stdout",
          "text": [
            "Training Loss : 0.0014868620837514754, Testing Loss : 0.8858149404525757, Training Accuracy : 0.99954, Testing Accuracy : 0.9025\n"
          ]
        },
        {
          "output_type": "stream",
          "name": "stderr",
          "text": [
            "\r 65%|██████▌   | 195/300 [2:46:14<1:29:00, 50.86s/it]"
          ]
        },
        {
          "output_type": "stream",
          "name": "stdout",
          "text": [
            "Training Loss : 0.0013772405012429227, Testing Loss : 0.8823462217330933, Training Accuracy : 0.99958, Testing Accuracy : 0.9033\n"
          ]
        },
        {
          "output_type": "stream",
          "name": "stderr",
          "text": [
            "\r 65%|██████▌   | 196/300 [2:47:05<1:28:11, 50.88s/it]"
          ]
        },
        {
          "output_type": "stream",
          "name": "stdout",
          "text": [
            "Training Loss : 0.0014457776544109947, Testing Loss : 0.8940965169906616, Training Accuracy : 0.99942, Testing Accuracy : 0.9038\n"
          ]
        },
        {
          "output_type": "stream",
          "name": "stderr",
          "text": [
            "\r 66%|██████▌   | 197/300 [2:47:56<1:27:22, 50.90s/it]"
          ]
        },
        {
          "output_type": "stream",
          "name": "stdout",
          "text": [
            "Training Loss : 0.0011373009935196023, Testing Loss : 0.900211085319519, Training Accuracy : 0.99966, Testing Accuracy : 0.9011\n"
          ]
        },
        {
          "output_type": "stream",
          "name": "stderr",
          "text": [
            "\r 66%|██████▌   | 198/300 [2:48:49<1:27:42, 51.60s/it]"
          ]
        },
        {
          "output_type": "stream",
          "name": "stdout",
          "text": [
            "Training Loss : 0.002050926998260402, Testing Loss : 0.8836528495788574, Training Accuracy : 0.9994, Testing Accuracy : 0.9035\n"
          ]
        },
        {
          "output_type": "stream",
          "name": "stderr",
          "text": [
            "\r 66%|██████▋   | 199/300 [2:49:48<1:30:50, 53.96s/it]"
          ]
        },
        {
          "output_type": "stream",
          "name": "stdout",
          "text": [
            "Training Loss : 0.0011143070919612365, Testing Loss : 0.8816720867156982, Training Accuracy : 0.99962, Testing Accuracy : 0.9046\n"
          ]
        },
        {
          "output_type": "stream",
          "name": "stderr",
          "text": [
            "\r 67%|██████▋   | 200/300 [2:50:40<1:28:36, 53.16s/it]"
          ]
        },
        {
          "output_type": "stream",
          "name": "stdout",
          "text": [
            "Training Loss : 0.0007448410855572001, Testing Loss : 0.881587327003479, Training Accuracy : 0.9998, Testing Accuracy : 0.9059\n"
          ]
        },
        {
          "output_type": "stream",
          "name": "stderr",
          "text": [
            "\r 67%|██████▋   | 201/300 [2:51:31<1:26:42, 52.55s/it]"
          ]
        },
        {
          "output_type": "stream",
          "name": "stdout",
          "text": [
            "Training Loss : 0.0008048689009636291, Testing Loss : 0.8906183671951294, Training Accuracy : 0.99974, Testing Accuracy : 0.9031\n"
          ]
        },
        {
          "output_type": "stream",
          "name": "stderr",
          "text": [
            "\r 67%|██████▋   | 202/300 [2:52:22<1:25:02, 52.06s/it]"
          ]
        },
        {
          "output_type": "stream",
          "name": "stdout",
          "text": [
            "Training Loss : 0.001035868179868412, Testing Loss : 0.8893550983428955, Training Accuracy : 0.99974, Testing Accuracy : 0.9057\n"
          ]
        },
        {
          "output_type": "stream",
          "name": "stderr",
          "text": [
            "\r 68%|██████▊   | 203/300 [2:53:13<1:23:39, 51.75s/it]"
          ]
        },
        {
          "output_type": "stream",
          "name": "stdout",
          "text": [
            "Training Loss : 0.0009396091673980118, Testing Loss : 0.8847817403793335, Training Accuracy : 0.99966, Testing Accuracy : 0.9054\n"
          ]
        },
        {
          "output_type": "stream",
          "name": "stderr",
          "text": [
            "\r 68%|██████▊   | 204/300 [2:54:04<1:22:23, 51.50s/it]"
          ]
        },
        {
          "output_type": "stream",
          "name": "stdout",
          "text": [
            "Training Loss : 0.0008993289570731576, Testing Loss : 0.8899982124328614, Training Accuracy : 0.99976, Testing Accuracy : 0.9057\n"
          ]
        },
        {
          "output_type": "stream",
          "name": "stderr",
          "text": [
            "\r 68%|██████▊   | 205/300 [2:54:55<1:21:19, 51.37s/it]"
          ]
        },
        {
          "output_type": "stream",
          "name": "stdout",
          "text": [
            "Training Loss : 0.0008991531142067106, Testing Loss : 0.8877524303436279, Training Accuracy : 0.9997, Testing Accuracy : 0.9066\n"
          ]
        },
        {
          "output_type": "stream",
          "name": "stderr",
          "text": [
            "\r 69%|██████▊   | 206/300 [2:55:46<1:20:29, 51.38s/it]"
          ]
        },
        {
          "output_type": "stream",
          "name": "stdout",
          "text": [
            "Training Loss : 0.0009551707641070243, Testing Loss : 0.8858672128677368, Training Accuracy : 0.99976, Testing Accuracy : 0.9058\n"
          ]
        },
        {
          "output_type": "stream",
          "name": "stderr",
          "text": [
            "\r 69%|██████▉   | 207/300 [2:56:38<1:19:38, 51.38s/it]"
          ]
        },
        {
          "output_type": "stream",
          "name": "stdout",
          "text": [
            "Training Loss : 0.0006348084736864985, Testing Loss : 0.8917285196304321, Training Accuracy : 0.9998, Testing Accuracy : 0.9052\n"
          ]
        },
        {
          "output_type": "stream",
          "name": "stderr",
          "text": [
            "\r 69%|██████▉   | 208/300 [2:57:29<1:18:47, 51.39s/it]"
          ]
        },
        {
          "output_type": "stream",
          "name": "stdout",
          "text": [
            "Training Loss : 0.0007802345749520464, Testing Loss : 0.8947995538711548, Training Accuracy : 0.99978, Testing Accuracy : 0.9059\n"
          ]
        },
        {
          "output_type": "stream",
          "name": "stderr",
          "text": [
            "\r 70%|██████▉   | 209/300 [2:58:20<1:17:51, 51.34s/it]"
          ]
        },
        {
          "output_type": "stream",
          "name": "stdout",
          "text": [
            "Training Loss : 0.0005782808246492642, Testing Loss : 0.8881461557388306, Training Accuracy : 0.99988, Testing Accuracy : 0.9074\n"
          ]
        },
        {
          "output_type": "stream",
          "name": "stderr",
          "text": [
            "\r 70%|███████   | 210/300 [2:59:11<1:16:59, 51.33s/it]"
          ]
        },
        {
          "output_type": "stream",
          "name": "stdout",
          "text": [
            "Training Loss : 0.0006288890600615378, Testing Loss : 0.9109743284225464, Training Accuracy : 0.9998, Testing Accuracy : 0.9062\n"
          ]
        },
        {
          "output_type": "stream",
          "name": "stderr",
          "text": [
            "\r 70%|███████   | 211/300 [3:00:03<1:16:06, 51.31s/it]"
          ]
        },
        {
          "output_type": "stream",
          "name": "stdout",
          "text": [
            "Training Loss : 0.0006402160031773019, Testing Loss : 0.9021716806411744, Training Accuracy : 0.99984, Testing Accuracy : 0.9061\n"
          ]
        },
        {
          "output_type": "stream",
          "name": "stderr",
          "text": [
            "\r 71%|███████   | 212/300 [3:00:54<1:15:17, 51.33s/it]"
          ]
        },
        {
          "output_type": "stream",
          "name": "stdout",
          "text": [
            "Training Loss : 0.0007016081201886118, Testing Loss : 0.885417834854126, Training Accuracy : 0.99978, Testing Accuracy : 0.9046\n"
          ]
        },
        {
          "output_type": "stream",
          "name": "stderr",
          "text": [
            "\r 71%|███████   | 213/300 [3:01:45<1:14:19, 51.26s/it]"
          ]
        },
        {
          "output_type": "stream",
          "name": "stdout",
          "text": [
            "Training Loss : 0.0004082954041505218, Testing Loss : 0.8956965250015259, Training Accuracy : 0.99992, Testing Accuracy : 0.903\n"
          ]
        },
        {
          "output_type": "stream",
          "name": "stderr",
          "text": [
            "\r 71%|███████▏  | 214/300 [3:02:37<1:13:33, 51.32s/it]"
          ]
        },
        {
          "output_type": "stream",
          "name": "stdout",
          "text": [
            "Training Loss : 0.0006002946882021206, Testing Loss : 0.8842525207519532, Training Accuracy : 0.99984, Testing Accuracy : 0.9073\n"
          ]
        },
        {
          "output_type": "stream",
          "name": "stderr",
          "text": [
            "\r 72%|███████▏  | 215/300 [3:03:28<1:12:42, 51.33s/it]"
          ]
        },
        {
          "output_type": "stream",
          "name": "stdout",
          "text": [
            "Training Loss : 0.0004938728427952446, Testing Loss : 0.8913155504226684, Training Accuracy : 0.99986, Testing Accuracy : 0.9071\n"
          ]
        },
        {
          "output_type": "stream",
          "name": "stderr",
          "text": [
            "\r 72%|███████▏  | 216/300 [3:04:20<1:11:58, 51.41s/it]"
          ]
        },
        {
          "output_type": "stream",
          "name": "stdout",
          "text": [
            "Training Loss : 0.0007424291462257679, Testing Loss : 0.8803761440277099, Training Accuracy : 0.99982, Testing Accuracy : 0.908\n"
          ]
        },
        {
          "output_type": "stream",
          "name": "stderr",
          "text": [
            "\r 72%|███████▏  | 217/300 [3:05:11<1:10:59, 51.32s/it]"
          ]
        },
        {
          "output_type": "stream",
          "name": "stdout",
          "text": [
            "Training Loss : 0.0005144968446737767, Testing Loss : 0.8815626829147339, Training Accuracy : 0.99984, Testing Accuracy : 0.9076\n"
          ]
        },
        {
          "output_type": "stream",
          "name": "stderr",
          "text": [
            "\r 73%|███████▎  | 218/300 [3:06:02<1:10:13, 51.38s/it]"
          ]
        },
        {
          "output_type": "stream",
          "name": "stdout",
          "text": [
            "Training Loss : 0.0005941037845230312, Testing Loss : 0.8948750741958618, Training Accuracy : 0.99982, Testing Accuracy : 0.9068\n"
          ]
        },
        {
          "output_type": "stream",
          "name": "stderr",
          "text": [
            "\r 73%|███████▎  | 219/300 [3:06:53<1:09:13, 51.28s/it]"
          ]
        },
        {
          "output_type": "stream",
          "name": "stdout",
          "text": [
            "Training Loss : 0.0006246755056586699, Testing Loss : 0.9044326845169067, Training Accuracy : 0.99978, Testing Accuracy : 0.9058\n"
          ]
        },
        {
          "output_type": "stream",
          "name": "stderr",
          "text": [
            "\r 73%|███████▎  | 220/300 [3:07:45<1:08:21, 51.27s/it]"
          ]
        },
        {
          "output_type": "stream",
          "name": "stdout",
          "text": [
            "Training Loss : 0.0004459401000583603, Testing Loss : 0.9088032415390015, Training Accuracy : 0.99988, Testing Accuracy : 0.9059\n"
          ]
        },
        {
          "output_type": "stream",
          "name": "stderr",
          "text": [
            "\r 74%|███████▎  | 221/300 [3:08:36<1:07:25, 51.21s/it]"
          ]
        },
        {
          "output_type": "stream",
          "name": "stdout",
          "text": [
            "Training Loss : 0.0007110616277246663, Testing Loss : 0.8970952592849731, Training Accuracy : 0.9998, Testing Accuracy : 0.9045\n"
          ]
        },
        {
          "output_type": "stream",
          "name": "stderr",
          "text": [
            "\r 74%|███████▍  | 222/300 [3:09:27<1:06:35, 51.23s/it]"
          ]
        },
        {
          "output_type": "stream",
          "name": "stdout",
          "text": [
            "Training Loss : 0.00025482240501994963, Testing Loss : 0.8970874322891236, Training Accuracy : 0.99992, Testing Accuracy : 0.907\n"
          ]
        },
        {
          "output_type": "stream",
          "name": "stderr",
          "text": [
            "\r 74%|███████▍  | 223/300 [3:10:18<1:05:39, 51.16s/it]"
          ]
        },
        {
          "output_type": "stream",
          "name": "stdout",
          "text": [
            "Training Loss : 0.0003585912481438936, Testing Loss : 0.9028159708023071, Training Accuracy : 0.99988, Testing Accuracy : 0.9058\n"
          ]
        },
        {
          "output_type": "stream",
          "name": "stderr",
          "text": [
            "\r 75%|███████▍  | 224/300 [3:11:09<1:04:46, 51.14s/it]"
          ]
        },
        {
          "output_type": "stream",
          "name": "stdout",
          "text": [
            "Training Loss : 0.00034702125511736087, Testing Loss : 0.8870800918579101, Training Accuracy : 0.99982, Testing Accuracy : 0.9077\n"
          ]
        },
        {
          "output_type": "stream",
          "name": "stderr",
          "text": [
            "\r 75%|███████▌  | 225/300 [3:12:00<1:03:52, 51.10s/it]"
          ]
        },
        {
          "output_type": "stream",
          "name": "stdout",
          "text": [
            "Training Loss : 0.0006089687250959832, Testing Loss : 0.8993916067123413, Training Accuracy : 0.99978, Testing Accuracy : 0.9066\n"
          ]
        },
        {
          "output_type": "stream",
          "name": "stderr",
          "text": [
            "\r 75%|███████▌  | 226/300 [3:12:51<1:03:02, 51.12s/it]"
          ]
        },
        {
          "output_type": "stream",
          "name": "stdout",
          "text": [
            "Training Loss : 0.0004178913993193783, Testing Loss : 0.9015969837188721, Training Accuracy : 0.99988, Testing Accuracy : 0.908\n"
          ]
        },
        {
          "output_type": "stream",
          "name": "stderr",
          "text": [
            "\r 76%|███████▌  | 227/300 [3:13:42<1:02:10, 51.10s/it]"
          ]
        },
        {
          "output_type": "stream",
          "name": "stdout",
          "text": [
            "Training Loss : 0.00048263626122679854, Testing Loss : 0.9069729877471924, Training Accuracy : 0.99982, Testing Accuracy : 0.9085\n"
          ]
        },
        {
          "output_type": "stream",
          "name": "stderr",
          "text": [
            "\r 76%|███████▌  | 228/300 [3:14:33<1:01:17, 51.07s/it]"
          ]
        },
        {
          "output_type": "stream",
          "name": "stdout",
          "text": [
            "Training Loss : 0.00046590026175457753, Testing Loss : 0.9066013118743896, Training Accuracy : 0.99984, Testing Accuracy : 0.9077\n"
          ]
        },
        {
          "output_type": "stream",
          "name": "stderr",
          "text": [
            "\r 76%|███████▋  | 229/300 [3:15:24<1:00:26, 51.08s/it]"
          ]
        },
        {
          "output_type": "stream",
          "name": "stdout",
          "text": [
            "Training Loss : 0.0007368614208076542, Testing Loss : 0.895356967163086, Training Accuracy : 0.99982, Testing Accuracy : 0.9085\n"
          ]
        },
        {
          "output_type": "stream",
          "name": "stderr",
          "text": [
            "\r 77%|███████▋  | 230/300 [3:16:15<59:37, 51.11s/it]  "
          ]
        },
        {
          "output_type": "stream",
          "name": "stdout",
          "text": [
            "Training Loss : 0.00046476834930899715, Testing Loss : 0.9011243082046508, Training Accuracy : 0.99986, Testing Accuracy : 0.9086\n"
          ]
        },
        {
          "output_type": "stream",
          "name": "stderr",
          "text": [
            "\r 77%|███████▋  | 231/300 [3:17:07<58:48, 51.14s/it]"
          ]
        },
        {
          "output_type": "stream",
          "name": "stdout",
          "text": [
            "Training Loss : 0.000445351462991639, Testing Loss : 0.9009127960205078, Training Accuracy : 0.99978, Testing Accuracy : 0.9073\n"
          ]
        },
        {
          "output_type": "stream",
          "name": "stderr",
          "text": [
            "\r 77%|███████▋  | 232/300 [3:17:58<57:57, 51.14s/it]"
          ]
        },
        {
          "output_type": "stream",
          "name": "stdout",
          "text": [
            "Training Loss : 0.0005127643899441319, Testing Loss : 0.9054116865158081, Training Accuracy : 0.99984, Testing Accuracy : 0.9077\n"
          ]
        },
        {
          "output_type": "stream",
          "name": "stderr",
          "text": [
            "\r 78%|███████▊  | 233/300 [3:18:49<57:04, 51.10s/it]"
          ]
        },
        {
          "output_type": "stream",
          "name": "stdout",
          "text": [
            "Training Loss : 0.00031126609182589166, Testing Loss : 0.9031611358642578, Training Accuracy : 0.9999, Testing Accuracy : 0.9055\n"
          ]
        },
        {
          "output_type": "stream",
          "name": "stderr",
          "text": [
            "\r 78%|███████▊  | 234/300 [3:19:40<56:12, 51.09s/it]"
          ]
        },
        {
          "output_type": "stream",
          "name": "stdout",
          "text": [
            "Training Loss : 0.0002684750138757772, Testing Loss : 0.9028611837387085, Training Accuracy : 0.99998, Testing Accuracy : 0.9072\n"
          ]
        },
        {
          "output_type": "stream",
          "name": "stderr",
          "text": [
            "\r 78%|███████▊  | 235/300 [3:20:31<55:13, 50.97s/it]"
          ]
        },
        {
          "output_type": "stream",
          "name": "stdout",
          "text": [
            "Training Loss : 0.0003302029976220092, Testing Loss : 0.9077067028045654, Training Accuracy : 0.9999, Testing Accuracy : 0.907\n"
          ]
        },
        {
          "output_type": "stream",
          "name": "stderr",
          "text": [
            "\r 79%|███████▊  | 236/300 [3:21:21<54:18, 50.91s/it]"
          ]
        },
        {
          "output_type": "stream",
          "name": "stdout",
          "text": [
            "Training Loss : 0.00026065792688819784, Testing Loss : 0.905486516571045, Training Accuracy : 0.99998, Testing Accuracy : 0.9072\n"
          ]
        },
        {
          "output_type": "stream",
          "name": "stderr",
          "text": [
            "\r 79%|███████▉  | 237/300 [3:22:12<53:29, 50.95s/it]"
          ]
        },
        {
          "output_type": "stream",
          "name": "stdout",
          "text": [
            "Training Loss : 0.00025933491974818935, Testing Loss : 0.9028813423156739, Training Accuracy : 0.99992, Testing Accuracy : 0.9081\n"
          ]
        },
        {
          "output_type": "stream",
          "name": "stderr",
          "text": [
            "\r 79%|███████▉  | 238/300 [3:23:04<52:41, 51.00s/it]"
          ]
        },
        {
          "output_type": "stream",
          "name": "stdout",
          "text": [
            "Training Loss : 0.00024412092545997438, Testing Loss : 0.9020314725875854, Training Accuracy : 0.99992, Testing Accuracy : 0.9073\n"
          ]
        },
        {
          "output_type": "stream",
          "name": "stderr",
          "text": [
            "\r 80%|███████▉  | 239/300 [3:23:55<51:51, 51.02s/it]"
          ]
        },
        {
          "output_type": "stream",
          "name": "stdout",
          "text": [
            "Training Loss : 0.00028539183095314914, Testing Loss : 0.8932269176483154, Training Accuracy : 0.99992, Testing Accuracy : 0.9087\n"
          ]
        },
        {
          "output_type": "stream",
          "name": "stderr",
          "text": [
            "\r 80%|████████  | 240/300 [3:24:46<51:06, 51.10s/it]"
          ]
        },
        {
          "output_type": "stream",
          "name": "stdout",
          "text": [
            "Training Loss : 0.000284489125268301, Testing Loss : 0.8857171108245849, Training Accuracy : 0.99992, Testing Accuracy : 0.9092\n"
          ]
        },
        {
          "output_type": "stream",
          "name": "stderr",
          "text": [
            "\r 80%|████████  | 241/300 [3:25:37<50:14, 51.10s/it]"
          ]
        },
        {
          "output_type": "stream",
          "name": "stdout",
          "text": [
            "Training Loss : 0.0001923778518077961, Testing Loss : 0.8871955110549927, Training Accuracy : 0.99994, Testing Accuracy : 0.9091\n"
          ]
        },
        {
          "output_type": "stream",
          "name": "stderr",
          "text": [
            "\r 81%|████████  | 242/300 [3:26:28<49:18, 51.00s/it]"
          ]
        },
        {
          "output_type": "stream",
          "name": "stdout",
          "text": [
            "Training Loss : 9.266969063664874e-05, Testing Loss : 0.9012803981781006, Training Accuracy : 1.0, Testing Accuracy : 0.9087\n"
          ]
        },
        {
          "output_type": "stream",
          "name": "stderr",
          "text": [
            "\r 81%|████████  | 243/300 [3:27:19<48:27, 51.02s/it]"
          ]
        },
        {
          "output_type": "stream",
          "name": "stdout",
          "text": [
            "Training Loss : 0.0003472817742087682, Testing Loss : 0.9031142080307006, Training Accuracy : 0.99992, Testing Accuracy : 0.9086\n"
          ]
        },
        {
          "output_type": "stream",
          "name": "stderr",
          "text": [
            "\r 81%|████████▏ | 244/300 [3:28:10<47:34, 50.98s/it]"
          ]
        },
        {
          "output_type": "stream",
          "name": "stdout",
          "text": [
            "Training Loss : 0.00033432609525962107, Testing Loss : 0.9093371629714966, Training Accuracy : 0.99992, Testing Accuracy : 0.9087\n"
          ]
        },
        {
          "output_type": "stream",
          "name": "stderr",
          "text": [
            "\r 82%|████████▏ | 245/300 [3:29:01<46:43, 50.97s/it]"
          ]
        },
        {
          "output_type": "stream",
          "name": "stdout",
          "text": [
            "Training Loss : 0.00024230618792236782, Testing Loss : 0.9136047626495362, Training Accuracy : 0.9999, Testing Accuracy : 0.9084\n"
          ]
        },
        {
          "output_type": "stream",
          "name": "stderr",
          "text": [
            "\r 82%|████████▏ | 246/300 [3:29:51<45:47, 50.89s/it]"
          ]
        },
        {
          "output_type": "stream",
          "name": "stdout",
          "text": [
            "Training Loss : 7.413080795477982e-05, Testing Loss : 0.9056895925521851, Training Accuracy : 1.0, Testing Accuracy : 0.9073\n"
          ]
        },
        {
          "output_type": "stream",
          "name": "stderr",
          "text": [
            "\r 82%|████████▏ | 247/300 [3:30:42<44:54, 50.84s/it]"
          ]
        },
        {
          "output_type": "stream",
          "name": "stdout",
          "text": [
            "Training Loss : 0.00017540839177658199, Testing Loss : 0.8986705682754517, Training Accuracy : 0.99994, Testing Accuracy : 0.9081\n"
          ]
        },
        {
          "output_type": "stream",
          "name": "stderr",
          "text": [
            "\r 83%|████████▎ | 248/300 [3:31:33<44:02, 50.82s/it]"
          ]
        },
        {
          "output_type": "stream",
          "name": "stdout",
          "text": [
            "Training Loss : 0.00011798388695808171, Testing Loss : 0.9016917812347413, Training Accuracy : 0.99996, Testing Accuracy : 0.908\n"
          ]
        },
        {
          "output_type": "stream",
          "name": "stderr",
          "text": [
            "\r 83%|████████▎ | 249/300 [3:32:24<43:14, 50.88s/it]"
          ]
        },
        {
          "output_type": "stream",
          "name": "stdout",
          "text": [
            "Training Loss : 9.785386035913689e-05, Testing Loss : 0.8848627403259277, Training Accuracy : 0.99998, Testing Accuracy : 0.9095\n"
          ]
        },
        {
          "output_type": "stream",
          "name": "stderr",
          "text": [
            "\r 83%|████████▎ | 250/300 [3:33:15<42:24, 50.89s/it]"
          ]
        },
        {
          "output_type": "stream",
          "name": "stdout",
          "text": [
            "Training Loss : 0.00013232295248157244, Testing Loss : 0.8962960311889648, Training Accuracy : 0.99998, Testing Accuracy : 0.9088\n"
          ]
        },
        {
          "output_type": "stream",
          "name": "stderr",
          "text": [
            "\r 84%|████████▎ | 251/300 [3:34:06<41:35, 50.92s/it]"
          ]
        },
        {
          "output_type": "stream",
          "name": "stdout",
          "text": [
            "Training Loss : 0.00016686588698647028, Testing Loss : 0.9010891695022583, Training Accuracy : 0.99996, Testing Accuracy : 0.9092\n"
          ]
        },
        {
          "output_type": "stream",
          "name": "stderr",
          "text": [
            "\r 84%|████████▍ | 252/300 [3:34:57<40:45, 50.95s/it]"
          ]
        },
        {
          "output_type": "stream",
          "name": "stdout",
          "text": [
            "Training Loss : 0.00013017456238248996, Testing Loss : 0.8924423376083374, Training Accuracy : 0.99996, Testing Accuracy : 0.9098\n"
          ]
        },
        {
          "output_type": "stream",
          "name": "stderr",
          "text": [
            "\r 84%|████████▍ | 253/300 [3:35:48<39:56, 50.99s/it]"
          ]
        },
        {
          "output_type": "stream",
          "name": "stdout",
          "text": [
            "Training Loss : 8.11861441588917e-05, Testing Loss : 0.900041445350647, Training Accuracy : 0.99998, Testing Accuracy : 0.909\n"
          ]
        },
        {
          "output_type": "stream",
          "name": "stderr",
          "text": [
            "\r 85%|████████▍ | 254/300 [3:36:39<39:06, 51.01s/it]"
          ]
        },
        {
          "output_type": "stream",
          "name": "stdout",
          "text": [
            "Training Loss : 6.433800255985262e-05, Testing Loss : 0.9025978561401368, Training Accuracy : 1.0, Testing Accuracy : 0.91\n"
          ]
        },
        {
          "output_type": "stream",
          "name": "stderr",
          "text": [
            "\r 85%|████████▌ | 255/300 [3:37:30<38:10, 50.90s/it]"
          ]
        },
        {
          "output_type": "stream",
          "name": "stdout",
          "text": [
            "Training Loss : 0.0001880900415128599, Testing Loss : 0.8977223369598388, Training Accuracy : 0.99994, Testing Accuracy : 0.9091\n"
          ]
        },
        {
          "output_type": "stream",
          "name": "stderr",
          "text": [
            "\r 85%|████████▌ | 256/300 [3:38:20<37:19, 50.89s/it]"
          ]
        },
        {
          "output_type": "stream",
          "name": "stdout",
          "text": [
            "Training Loss : 0.0003528121132853994, Testing Loss : 0.8843817012786865, Training Accuracy : 0.99994, Testing Accuracy : 0.9086\n"
          ]
        },
        {
          "output_type": "stream",
          "name": "stderr",
          "text": [
            "\r 86%|████████▌ | 257/300 [3:39:11<36:29, 50.92s/it]"
          ]
        },
        {
          "output_type": "stream",
          "name": "stdout",
          "text": [
            "Training Loss : 8.38282883031843e-05, Testing Loss : 0.8836763265609742, Training Accuracy : 1.0, Testing Accuracy : 0.9093\n"
          ]
        },
        {
          "output_type": "stream",
          "name": "stderr",
          "text": [
            "\r 86%|████████▌ | 258/300 [3:40:02<35:35, 50.84s/it]"
          ]
        },
        {
          "output_type": "stream",
          "name": "stdout",
          "text": [
            "Training Loss : 8.564110123630599e-05, Testing Loss : 0.8847475196838379, Training Accuracy : 0.99996, Testing Accuracy : 0.9092\n"
          ]
        },
        {
          "output_type": "stream",
          "name": "stderr",
          "text": [
            "\r 86%|████████▋ | 259/300 [3:40:53<34:43, 50.81s/it]"
          ]
        },
        {
          "output_type": "stream",
          "name": "stdout",
          "text": [
            "Training Loss : 0.00015333330261881203, Testing Loss : 0.8974042242050171, Training Accuracy : 0.99996, Testing Accuracy : 0.908\n"
          ]
        },
        {
          "output_type": "stream",
          "name": "stderr",
          "text": [
            "\r 87%|████████▋ | 260/300 [3:41:43<33:49, 50.74s/it]"
          ]
        },
        {
          "output_type": "stream",
          "name": "stdout",
          "text": [
            "Training Loss : 0.0001611334771888687, Testing Loss : 0.8933354608535766, Training Accuracy : 0.99992, Testing Accuracy : 0.9081\n"
          ]
        },
        {
          "output_type": "stream",
          "name": "stderr",
          "text": [
            "\r 87%|████████▋ | 261/300 [3:42:34<32:56, 50.68s/it]"
          ]
        },
        {
          "output_type": "stream",
          "name": "stdout",
          "text": [
            "Training Loss : 0.00015963064575724275, Testing Loss : 0.8880355043411254, Training Accuracy : 0.99994, Testing Accuracy : 0.9083\n"
          ]
        },
        {
          "output_type": "stream",
          "name": "stderr",
          "text": [
            "\r 87%|████████▋ | 262/300 [3:43:25<32:07, 50.72s/it]"
          ]
        },
        {
          "output_type": "stream",
          "name": "stdout",
          "text": [
            "Training Loss : 8.828595508399303e-05, Testing Loss : 0.8960384475708008, Training Accuracy : 0.99998, Testing Accuracy : 0.9077\n"
          ]
        },
        {
          "output_type": "stream",
          "name": "stderr",
          "text": [
            "\r 88%|████████▊ | 263/300 [3:44:15<31:16, 50.71s/it]"
          ]
        },
        {
          "output_type": "stream",
          "name": "stdout",
          "text": [
            "Training Loss : 7.426386086227467e-05, Testing Loss : 0.9049221477508544, Training Accuracy : 1.0, Testing Accuracy : 0.9081\n"
          ]
        },
        {
          "output_type": "stream",
          "name": "stderr",
          "text": [
            "\r 88%|████████▊ | 264/300 [3:45:06<30:26, 50.73s/it]"
          ]
        },
        {
          "output_type": "stream",
          "name": "stdout",
          "text": [
            "Training Loss : 4.167718523266558e-05, Testing Loss : 0.9002041599273681, Training Accuracy : 1.0, Testing Accuracy : 0.9076\n"
          ]
        },
        {
          "output_type": "stream",
          "name": "stderr",
          "text": [
            "\r 88%|████████▊ | 265/300 [3:45:57<29:34, 50.71s/it]"
          ]
        },
        {
          "output_type": "stream",
          "name": "stdout",
          "text": [
            "Training Loss : 0.0001488295212648518, Testing Loss : 0.9009486927032471, Training Accuracy : 0.99992, Testing Accuracy : 0.9094\n"
          ]
        },
        {
          "output_type": "stream",
          "name": "stderr",
          "text": [
            "\r 89%|████████▊ | 266/300 [3:46:48<28:44, 50.73s/it]"
          ]
        },
        {
          "output_type": "stream",
          "name": "stdout",
          "text": [
            "Training Loss : 0.00016064454841876796, Testing Loss : 0.8936187274932861, Training Accuracy : 0.99996, Testing Accuracy : 0.9078\n"
          ]
        },
        {
          "output_type": "stream",
          "name": "stderr",
          "text": [
            "\r 89%|████████▉ | 267/300 [3:47:38<27:54, 50.75s/it]"
          ]
        },
        {
          "output_type": "stream",
          "name": "stdout",
          "text": [
            "Training Loss : 0.00026320853857683685, Testing Loss : 0.8961486850738526, Training Accuracy : 0.99994, Testing Accuracy : 0.9076\n"
          ]
        },
        {
          "output_type": "stream",
          "name": "stderr",
          "text": [
            "\r 89%|████████▉ | 268/300 [3:48:29<27:03, 50.73s/it]"
          ]
        },
        {
          "output_type": "stream",
          "name": "stdout",
          "text": [
            "Training Loss : 0.00015724864671870818, Testing Loss : 0.8952534183502198, Training Accuracy : 0.99992, Testing Accuracy : 0.9069\n"
          ]
        },
        {
          "output_type": "stream",
          "name": "stderr",
          "text": [
            "\r 90%|████████▉ | 269/300 [3:49:20<26:10, 50.67s/it]"
          ]
        },
        {
          "output_type": "stream",
          "name": "stdout",
          "text": [
            "Training Loss : 0.00020258985132941233, Testing Loss : 0.9011320625305176, Training Accuracy : 0.9999, Testing Accuracy : 0.9077\n"
          ]
        },
        {
          "output_type": "stream",
          "name": "stderr",
          "text": [
            "\r 90%|█████████ | 270/300 [3:50:11<25:21, 50.73s/it]"
          ]
        },
        {
          "output_type": "stream",
          "name": "stdout",
          "text": [
            "Training Loss : 0.0001555970762873767, Testing Loss : 0.8970725683212281, Training Accuracy : 0.99994, Testing Accuracy : 0.9062\n"
          ]
        },
        {
          "output_type": "stream",
          "name": "stderr",
          "text": [
            "\r 90%|█████████ | 271/300 [3:51:01<24:33, 50.80s/it]"
          ]
        },
        {
          "output_type": "stream",
          "name": "stdout",
          "text": [
            "Training Loss : 8.992030086203158e-05, Testing Loss : 0.9001034774780273, Training Accuracy : 0.99996, Testing Accuracy : 0.9076\n"
          ]
        },
        {
          "output_type": "stream",
          "name": "stderr",
          "text": [
            "\r 91%|█████████ | 272/300 [3:51:52<23:41, 50.78s/it]"
          ]
        },
        {
          "output_type": "stream",
          "name": "stdout",
          "text": [
            "Training Loss : 8.086783804639709e-05, Testing Loss : 0.8991886541366577, Training Accuracy : 0.99998, Testing Accuracy : 0.9058\n"
          ]
        },
        {
          "output_type": "stream",
          "name": "stderr",
          "text": [
            "\r 91%|█████████ | 273/300 [3:52:43<22:50, 50.76s/it]"
          ]
        },
        {
          "output_type": "stream",
          "name": "stdout",
          "text": [
            "Training Loss : 8.895734931990774e-05, Testing Loss : 0.8972369703292846, Training Accuracy : 0.99998, Testing Accuracy : 0.9069\n"
          ]
        },
        {
          "output_type": "stream",
          "name": "stderr",
          "text": [
            "\r 91%|█████████▏| 274/300 [3:53:33<21:57, 50.67s/it]"
          ]
        },
        {
          "output_type": "stream",
          "name": "stdout",
          "text": [
            "Training Loss : 0.0001062703420744765, Testing Loss : 0.8977965608596802, Training Accuracy : 0.99996, Testing Accuracy : 0.9066\n"
          ]
        },
        {
          "output_type": "stream",
          "name": "stderr",
          "text": [
            "\r 92%|█████████▏| 275/300 [3:54:24<21:09, 50.78s/it]"
          ]
        },
        {
          "output_type": "stream",
          "name": "stdout",
          "text": [
            "Training Loss : 7.35212997106646e-05, Testing Loss : 0.903005383682251, Training Accuracy : 1.0, Testing Accuracy : 0.9081\n"
          ]
        },
        {
          "output_type": "stream",
          "name": "stderr",
          "text": [
            "\r 92%|█████████▏| 276/300 [3:55:15<20:18, 50.78s/it]"
          ]
        },
        {
          "output_type": "stream",
          "name": "stdout",
          "text": [
            "Training Loss : 0.00010086078776652357, Testing Loss : 0.8910212690353394, Training Accuracy : 0.99998, Testing Accuracy : 0.9091\n"
          ]
        },
        {
          "output_type": "stream",
          "name": "stderr",
          "text": [
            "\r 92%|█████████▏| 277/300 [3:56:06<19:27, 50.78s/it]"
          ]
        },
        {
          "output_type": "stream",
          "name": "stdout",
          "text": [
            "Training Loss : 6.345088668364042e-05, Testing Loss : 0.8948294485092163, Training Accuracy : 1.0, Testing Accuracy : 0.9083\n"
          ]
        },
        {
          "output_type": "stream",
          "name": "stderr",
          "text": [
            "\r 93%|█████████▎| 278/300 [3:56:57<18:36, 50.76s/it]"
          ]
        },
        {
          "output_type": "stream",
          "name": "stdout",
          "text": [
            "Training Loss : 3.79780849277995e-05, Testing Loss : 0.8953192672729492, Training Accuracy : 1.0, Testing Accuracy : 0.9086\n"
          ]
        },
        {
          "output_type": "stream",
          "name": "stderr",
          "text": [
            "\r 93%|█████████▎| 279/300 [3:57:48<17:46, 50.79s/it]"
          ]
        },
        {
          "output_type": "stream",
          "name": "stdout",
          "text": [
            "Training Loss : 6.0222824082648e-05, Testing Loss : 0.8913285987854004, Training Accuracy : 1.0, Testing Accuracy : 0.9085\n"
          ]
        },
        {
          "output_type": "stream",
          "name": "stderr",
          "text": [
            "\r 93%|█████████▎| 280/300 [3:58:39<16:57, 50.87s/it]"
          ]
        },
        {
          "output_type": "stream",
          "name": "stdout",
          "text": [
            "Training Loss : 0.0001339137397097784, Testing Loss : 0.898799319267273, Training Accuracy : 0.99996, Testing Accuracy : 0.9073\n"
          ]
        },
        {
          "output_type": "stream",
          "name": "stderr",
          "text": [
            "\r 94%|█████████▎| 281/300 [3:59:29<16:04, 50.74s/it]"
          ]
        },
        {
          "output_type": "stream",
          "name": "stdout",
          "text": [
            "Training Loss : 5.675085882240637e-05, Testing Loss : 0.8998699432373047, Training Accuracy : 0.99998, Testing Accuracy : 0.9091\n"
          ]
        },
        {
          "output_type": "stream",
          "name": "stderr",
          "text": [
            "\r 94%|█████████▍| 282/300 [4:00:20<15:14, 50.78s/it]"
          ]
        },
        {
          "output_type": "stream",
          "name": "stdout",
          "text": [
            "Training Loss : 0.00017403147531562353, Testing Loss : 0.8963168973922729, Training Accuracy : 0.99996, Testing Accuracy : 0.9083\n"
          ]
        },
        {
          "output_type": "stream",
          "name": "stderr",
          "text": [
            "\r 94%|█████████▍| 283/300 [4:01:11<14:25, 50.92s/it]"
          ]
        },
        {
          "output_type": "stream",
          "name": "stdout",
          "text": [
            "Training Loss : 7.690858631136508e-05, Testing Loss : 0.8903482683181763, Training Accuracy : 0.99998, Testing Accuracy : 0.9084\n"
          ]
        },
        {
          "output_type": "stream",
          "name": "stderr",
          "text": [
            "\r 95%|█████████▍| 284/300 [4:02:03<13:38, 51.15s/it]"
          ]
        },
        {
          "output_type": "stream",
          "name": "stdout",
          "text": [
            "Training Loss : 5.6995820398824435e-05, Testing Loss : 0.8989663415908814, Training Accuracy : 0.99998, Testing Accuracy : 0.908\n"
          ]
        },
        {
          "output_type": "stream",
          "name": "stderr",
          "text": [
            "\r 95%|█████████▌| 285/300 [4:02:54<12:48, 51.27s/it]"
          ]
        },
        {
          "output_type": "stream",
          "name": "stdout",
          "text": [
            "Training Loss : 0.00015025897333011018, Testing Loss : 0.8906532461166382, Training Accuracy : 0.99992, Testing Accuracy : 0.9082\n"
          ]
        },
        {
          "output_type": "stream",
          "name": "stderr",
          "text": [
            "\r 95%|█████████▌| 286/300 [4:03:46<11:59, 51.40s/it]"
          ]
        },
        {
          "output_type": "stream",
          "name": "stdout",
          "text": [
            "Training Loss : 9.792858137820076e-05, Testing Loss : 0.8862478288650513, Training Accuracy : 0.99996, Testing Accuracy : 0.9091\n"
          ]
        },
        {
          "output_type": "stream",
          "name": "stderr",
          "text": [
            "\r 96%|█████████▌| 287/300 [4:04:38<11:10, 51.59s/it]"
          ]
        },
        {
          "output_type": "stream",
          "name": "stdout",
          "text": [
            "Training Loss : 0.0001875969904307476, Testing Loss : 0.8913717193603515, Training Accuracy : 0.99994, Testing Accuracy : 0.9099\n"
          ]
        },
        {
          "output_type": "stream",
          "name": "stderr",
          "text": [
            "\r 96%|█████████▌| 288/300 [4:05:30<10:18, 51.54s/it]"
          ]
        },
        {
          "output_type": "stream",
          "name": "stdout",
          "text": [
            "Training Loss : 6.713005687173791e-05, Testing Loss : 0.8928942699432373, Training Accuracy : 0.99996, Testing Accuracy : 0.9096\n"
          ]
        },
        {
          "output_type": "stream",
          "name": "stderr",
          "text": [
            "\r 96%|█████████▋| 289/300 [4:06:22<09:28, 51.69s/it]"
          ]
        },
        {
          "output_type": "stream",
          "name": "stdout",
          "text": [
            "Training Loss : 7.681953863211674e-05, Testing Loss : 0.8867801252365113, Training Accuracy : 0.99998, Testing Accuracy : 0.9094\n"
          ]
        },
        {
          "output_type": "stream",
          "name": "stderr",
          "text": [
            "\r 97%|█████████▋| 290/300 [4:07:13<08:35, 51.58s/it]"
          ]
        },
        {
          "output_type": "stream",
          "name": "stdout",
          "text": [
            "Training Loss : 0.00010515581149370519, Testing Loss : 0.8936367736816406, Training Accuracy : 0.99998, Testing Accuracy : 0.9098\n"
          ]
        },
        {
          "output_type": "stream",
          "name": "stderr",
          "text": [
            "\r 97%|█████████▋| 291/300 [4:08:04<07:42, 51.37s/it]"
          ]
        },
        {
          "output_type": "stream",
          "name": "stdout",
          "text": [
            "Training Loss : 5.34507504199064e-05, Testing Loss : 0.9020443077087402, Training Accuracy : 1.0, Testing Accuracy : 0.9094\n"
          ]
        },
        {
          "output_type": "stream",
          "name": "stderr",
          "text": [
            "\r 97%|█████████▋| 292/300 [4:08:55<06:49, 51.23s/it]"
          ]
        },
        {
          "output_type": "stream",
          "name": "stdout",
          "text": [
            "Training Loss : 4.531724847141049e-05, Testing Loss : 0.893029552268982, Training Accuracy : 1.0, Testing Accuracy : 0.9091\n"
          ]
        },
        {
          "output_type": "stream",
          "name": "stderr",
          "text": [
            "\r 98%|█████████▊| 293/300 [4:09:46<05:57, 51.12s/it]"
          ]
        },
        {
          "output_type": "stream",
          "name": "stdout",
          "text": [
            "Training Loss : 7.499904556716956e-05, Testing Loss : 0.8911246658325195, Training Accuracy : 0.99998, Testing Accuracy : 0.9103\n"
          ]
        },
        {
          "output_type": "stream",
          "name": "stderr",
          "text": [
            "\r 98%|█████████▊| 294/300 [4:10:37<05:06, 51.07s/it]"
          ]
        },
        {
          "output_type": "stream",
          "name": "stdout",
          "text": [
            "Training Loss : 0.000151848534910132, Testing Loss : 0.8883499725341797, Training Accuracy : 0.99996, Testing Accuracy : 0.9094\n"
          ]
        },
        {
          "output_type": "stream",
          "name": "stderr",
          "text": [
            "\r 98%|█████████▊| 295/300 [4:11:28<04:15, 51.04s/it]"
          ]
        },
        {
          "output_type": "stream",
          "name": "stdout",
          "text": [
            "Training Loss : 9.402232863081736e-05, Testing Loss : 0.893212726020813, Training Accuracy : 0.99996, Testing Accuracy : 0.909\n"
          ]
        },
        {
          "output_type": "stream",
          "name": "stderr",
          "text": [
            "\r 99%|█████████▊| 296/300 [4:12:18<03:24, 51.00s/it]"
          ]
        },
        {
          "output_type": "stream",
          "name": "stdout",
          "text": [
            "Training Loss : 0.00011274880523808861, Testing Loss : 0.8893809450149536, Training Accuracy : 0.99996, Testing Accuracy : 0.9093\n"
          ]
        },
        {
          "output_type": "stream",
          "name": "stderr",
          "text": [
            "\r 99%|█████████▉| 297/300 [4:13:10<02:33, 51.07s/it]"
          ]
        },
        {
          "output_type": "stream",
          "name": "stdout",
          "text": [
            "Training Loss : 4.8712326661543556e-05, Testing Loss : 0.8950667188644409, Training Accuracy : 1.0, Testing Accuracy : 0.9097\n"
          ]
        },
        {
          "output_type": "stream",
          "name": "stderr",
          "text": [
            "\r 99%|█████████▉| 298/300 [4:14:01<01:42, 51.09s/it]"
          ]
        },
        {
          "output_type": "stream",
          "name": "stdout",
          "text": [
            "Training Loss : 4.7734787972403866e-05, Testing Loss : 0.8879029741287231, Training Accuracy : 0.99998, Testing Accuracy : 0.9097\n"
          ]
        },
        {
          "output_type": "stream",
          "name": "stderr",
          "text": [
            "\r100%|█████████▉| 299/300 [4:14:52<00:51, 51.17s/it]"
          ]
        },
        {
          "output_type": "stream",
          "name": "stdout",
          "text": [
            "Training Loss : 6.081132718552908e-05, Testing Loss : 0.8918021245956421, Training Accuracy : 1.0, Testing Accuracy : 0.9093\n"
          ]
        },
        {
          "output_type": "stream",
          "name": "stderr",
          "text": [
            "100%|██████████| 300/300 [4:15:43<00:00, 51.15s/it]"
          ]
        },
        {
          "output_type": "stream",
          "name": "stdout",
          "text": [
            "Training Loss : 5.994382976879024e-05, Testing Loss : 0.8847070940017701, Training Accuracy : 0.99998, Testing Accuracy : 0.9091\n"
          ]
        },
        {
          "output_type": "stream",
          "name": "stderr",
          "text": [
            "\n"
          ]
        }
      ]
    },
    {
      "cell_type": "code",
      "source": [
        "print(\"Maximum Testing Accuracy: %s\"%(max(test_accuracy)))\n",
        "xmax = np.argmax(test_accuracy)\n",
        "ymax = max(test_accuracy)"
      ],
      "metadata": {
        "id": "1_YJ9MmRgS1C",
        "colab": {
          "base_uri": "https://localhost:8080/"
        },
        "outputId": "a6eb8b91-8670-465f-aa32-ef293ff6f114"
      },
      "execution_count": null,
      "outputs": [
        {
          "output_type": "stream",
          "name": "stdout",
          "text": [
            "Maximum Testing Accuracy: 0.9103\n"
          ]
        }
      ]
    },
    {
      "cell_type": "markdown",
      "source": [
        "Plotting the graph for train loss vs test loss and also for train accuracy vs test accuracy.\n",
        "\n"
      ],
      "metadata": {
        "id": "sfs_D1c-6jnP"
      }
    },
    {
      "cell_type": "code",
      "source": [
        "# Create a figure object with two subplots, with a size of 20 by 10.\n",
        "f, (fig1, fig2) = plt.subplots(1, 2, figsize=(20, 10))\n",
        "\n",
        "# Set the number of data points in the training data to n.\n",
        "n = len(train_loss)\n",
        "\n",
        "# Plot the training loss and testing loss against the number of epochs on the first subplot.\n",
        "fig1.plot(range(n), train_loss, '-', linewidth='3', label='Train Error')\n",
        "fig1.plot(range(n), test_loss, '-', linewidth='3', label='Test Error')\n",
        "\n",
        "# Plot the training accuracy and testing accuracy against the number of epochs on the second subplot.\n",
        "fig2.plot(range(n), train_accuracy, '-', linewidth='3', label='Train Accuracy')\n",
        "fig2.plot(range(n), test_accuracy, '-', linewidth='3', label='Test Acuracy')\n",
        "\n",
        "# Annotate the maximum accuracy achieved with an arrow on the second subplot.\n",
        "fig2.annotate('max accuracy = %s'%(ymax), xy=(xmax, ymax), xytext=(xmax, ymax+0.15), arrowprops=dict(facecolor='black', shrink=0.05))\n",
        "\n",
        "# Turn on the grid lines for both subplots.\n",
        "fig1.grid(True)\n",
        "fig2.grid(True)\n",
        "\n",
        "# Add legends to both subplots.\n",
        "fig1.legend()\n",
        "fig2.legend()\n",
        "\n",
        "# Save the figure to a file named \"trainTestCurve.png\".\n",
        "f.savefig(\"./trainTestCurve.png\")\n"
      ],
      "metadata": {
        "id": "HtXDsqAXWwjc",
        "colab": {
          "base_uri": "https://localhost:8080/",
          "height": 729
        },
        "outputId": "f3179da9-0a46-41da-a16e-2c4ebd248a59"
      },
      "execution_count": null,
      "outputs": [
        {
          "output_type": "display_data",
          "data": {
            "text/plain": [
              "<Figure size 2000x1000 with 2 Axes>"
            ],
            "image/png": "[encoded data removed]"
          },
          "metadata": {}
        }
      ]
    },
    {
      "cell_type": "code",
      "source": [
        "torch.save(model.state_dict(), '/content/model1.pt')"
      ],
      "metadata": {
        "id": "MgbpPmj8gwyN"
      },
      "execution_count": null,
      "outputs": []
    },
    {
      "cell_type": "markdown",
      "source": [
        "Below we are just converting our pt model into onnx format to build the Resnet Architecture diagram"
      ],
      "metadata": {
        "id": "cynnRRrVpW_k"
      }
    },
    {
      "cell_type": "code",
      "source": [
        "pip install onnx\n"
      ],
      "metadata": {
        "id": "EGVaYDpshUCL",
        "colab": {
          "base_uri": "https://localhost:8080/"
        },
        "outputId": "d48ef40f-e550-460e-fe9b-d18f173b0060"
      },
      "execution_count": null,
      "outputs": [
        {
          "output_type": "stream",
          "name": "stdout",
          "text": [
            "Looking in indexes: https://pypi.org/simple, https://us-python.pkg.dev/colab-wheels/public/simple/\n",
            "Collecting onnx\n",
            "  Downloading onnx-1.13.1-cp39-cp39-manylinux_2_17_x86_64.manylinux2014_x86_64.whl (13.5 MB)\n",
            "\u001b[2K     \u001b[90m━━━━━━━━━━━━━━━━━━━━━━━━━━━━━━━━━━━━━━━━\u001b[0m \u001b[32m13.5/13.5 MB\u001b[0m \u001b[31m89.7 MB/s\u001b[0m eta \u001b[36m0:00:00\u001b[0m\n",
            "\u001b[?25hRequirement already satisfied: typing-extensions>=3.6.2.1 in /usr/local/lib/python3.9/dist-packages (from onnx) (4.5.0)\n",
            "Requirement already satisfied: numpy>=1.16.6 in /usr/local/lib/python3.9/dist-packages (from onnx) (1.22.4)\n",
            "Requirement already satisfied: protobuf<4,>=3.20.2 in /usr/local/lib/python3.9/dist-packages (from onnx) (3.20.3)\n",
            "Installing collected packages: onnx\n",
            "Successfully installed onnx-1.13.1\n"
          ]
        }
      ]
    },
    {
      "cell_type": "code",
      "source": [
        "model = resnet_model()\n",
        "model.load_state_dict(torch.load('/content/model1.pt'))\n",
        "# set the model to inference mode\n",
        "model.eval()\n",
        "\n",
        "# Let's create a dummy input tensor  \n",
        "dummy_input = torch.randn(4, 3, 32, 32)\n",
        "# torch.onnx.export(model, dummy_input, \"final_model.onnx\")\n",
        "\n",
        "# Export the model  \n",
        "torch.onnx.export(model,         # model being run\n",
        "      dummy_input,       # model input (or a tuple for multiple inputs)\n",
        "      \"final_model1_0pt1.onnx\",       # where to save the model  \n",
        "      export_params=True,  # store the trained parameter weights inside the model file\n",
        "      opset_version=13,    # the ONNX version to export the model to\n",
        "      do_constant_folding=True,  # whether to execute constant folding for optimization\n",
        "      input_names = ['modelInput'],   # the model's input names\n",
        "      output_names = ['modelOutput'],# the model's output names\n",
        ")\n",
        "\n",
        "torch.save(model.state_dict(), 'final_model1_0pt1.pt')\n"
      ],
      "metadata": {
        "id": "WaCk7KjhyXxX",
        "colab": {
          "base_uri": "https://localhost:8080/"
        },
        "outputId": "b33b1fba-2b0f-4c2c-dffe-b1ac4412efbf"
      },
      "execution_count": null,
      "outputs": [
        {
          "output_type": "stream",
          "name": "stdout",
          "text": [
            "\n",
            "\n",
            "Model Config: \n",
            "-------------------------------------\n",
            "N (# Layers)\t: 4 \n",
            "B (# Blocks)\t: [3, 3, 2, 3] \n",
            "C (# Channels)\t: [64, 128, 128, 256] \n",
            "F (Conv Kernel)\t: [3, 3, 3, 3] \n",
            "K (Skip Kernel)\t: [1, 1, 1, 1] \n",
            "P (Pool Kernel)\t: 4\n",
            "============= Diagnostic Run torch.onnx.export version 2.0.0+cu118 =============\n",
            "verbose: False, log level: Level.ERROR\n",
            "======================= 0 NONE 0 NOTE 0 WARNING 0 ERROR ========================\n",
            "\n"
          ]
        }
      ]
    },
    {
      "cell_type": "code",
      "source": [
        "from google.colab import files\n",
        "files.download('final_model1_0pt1.onnx')\n"
      ],
      "metadata": {
        "id": "P6KVliuakCNt",
        "colab": {
          "base_uri": "https://localhost:8080/",
          "height": 17
        },
        "outputId": "7cdabd93-84dd-48a7-d7c5-855b3517bc23"
      },
      "execution_count": null,
      "outputs": [
        {
          "output_type": "display_data",
          "data": {
            "text/plain": [
              "<IPython.core.display.Javascript object>"
            ],
            "application/javascript": [
              "\n",
              "    async function download(id, filename, size) {\n",
              "      if (!google.colab.kernel.accessAllowed) {\n",
              "        return;\n",
              "      }\n",
              "      const div = document.createElement('div');\n",
              "      const label = document.createElement('label');\n",
              "      label.textContent = `Downloading \"${filename}\": `;\n",
              "      div.appendChild(label);\n",
              "      const progress = document.createElement('progress');\n",
              "      progress.max = size;\n",
              "      div.appendChild(progress);\n",
              "      document.body.appendChild(div);\n",
              "\n",
              "      const buffers = [];\n",
              "      let downloaded = 0;\n",
              "\n",
              "      const channel = await google.colab.kernel.comms.open(id);\n",
              "      // Send a message to notify the kernel that we're ready.\n",
              "      channel.send({})\n",
              "\n",
              "      for await (const message of channel.messages) {\n",
              "        // Send a message to notify the kernel that we're ready.\n",
              "        channel.send({})\n",
              "        if (message.buffers) {\n",
              "          for (const buffer of message.buffers) {\n",
              "            buffers.push(buffer);\n",
              "            downloaded += buffer.byteLength;\n",
              "            progress.value = downloaded;\n",
              "          }\n",
              "        }\n",
              "      }\n",
              "      const blob = new Blob(buffers, {type: 'application/binary'});\n",
              "      const a = document.createElement('a');\n",
              "      a.href = window.URL.createObjectURL(blob);\n",
              "      a.download = filename;\n",
              "      div.appendChild(a);\n",
              "      a.click();\n",
              "      div.remove();\n",
              "    }\n",
              "  "
            ]
          },
          "metadata": {}
        },
        {
          "output_type": "display_data",
          "data": {
            "text/plain": [
              "<IPython.core.display.Javascript object>"
            ],
            "application/javascript": [
              "download(\"download_a9c6a741-6f37-4708-8822-2b88f9254961\", \"final_model1_0pt1.onnx\", 19738165)"
            ]
          },
          "metadata": {}
        }
      ]
    },
    {
      "cell_type": "code",
      "source": [
        "import urllib.request\n",
        "from IPython.display import SVG, display\n",
        "\n",
        "# URL of the SVG image we are downloading\n",
        "url = \"https://svgshare.com/i/s0w.svg\"\n",
        "\n",
        "# Download the SVG image\n",
        "svg_data = urllib.request.urlopen(url).read()\n",
        "\n",
        "# Display the SVG image in Colab\n",
        "display(SVG(svg_data))\n"
      ],
      "metadata": {
        "id": "cMPfoaI6lwOL",
        "colab": {
          "base_uri": "https://localhost:8080/",
          "height": 312
        },
        "outputId": "98ceb92a-9377-4581-88d7-3985912ef8cc"
      },
      "execution_count": null,
      "outputs": [
        {
          "output_type": "display_data",
          "data": {
            "text/plain": [
              "<IPython.core.display.SVG object>"
            ],
            "image/svg+xml": "<svg xmlns=\"http://www.w3.org/2000/svg\" id=\"export\" class=\"canvas\" preserveAspectRatio=\"xMidYMid meet\" style=\"\" width=\"18648\" height=\"271\"><rect id=\"background\" fill=\"#fff\" pointer-events=\"all\" width=\"18648\" height=\"271\"/><g id=\"origin\" transform=\"translate(12.3, 12.3) scale(1)\"><g id=\"clusters\" class=\"clusters\"/><g id=\"edge-paths\" class=\"edge-paths\"><defs><marker id=\"arrowhead-vee\" viewBox=\"0 0 10 10\" refX=\"9\" refY=\"5\" markerUnits=\"strokeWidth\" markerWidth=\"8\" markerHeight=\"6\" orient=\"auto\" style=\"fill: rgb(0, 0, 0);\"><path d=\"M 0 0 L 10 5 L 0 10 L 4 5 z\" style=\"stroke-width: 1;\"/></marker><marker id=\"arrowhead-vee-select\" viewBox=\"0 0 10 10\" refX=\"9\" refY=\"5\" markerUnits=\"strokeWidth\" markerWidth=\"8\" markerHeight=\"6\" orient=\"auto\" style=\"fill: rgb(238, 0, 0);\"><path d=\"M 0 0 L 10 5 L 0 10 L 4 5 z\" style=\"stroke-width: 1;\"/></marker></defs><path id=\"edge-modelInput\" class=\"edge-path\" d=\"M70.658203125,123L72.32486979166667,123C73.99153645833333,123,77.32486979166667,123,84.98079427083333,123C92.63671875,123,104.615234375,123,116.59375,123C128.572265625,123,140.55078125,123,148.20670572916666,123C155.86263020833334,123,159.19596354166666,123,160.86263020833334,123L162.529296875,123\" style=\"stroke: rgb(0, 0, 0); stroke-width: 1px; fill: none; marker-end: url(&quot;#arrowhead-vee&quot;);\"/><path id=\"edge-/conv1/Conv_output_0\" class=\"edge-path\" d=\"M251.400390625,123L261.5458984375,123C271.69140625,123,291.982421875,123,312.2734375,123C332.564453125,123,352.85546875,123,363.0009765625,123L373.146484375,123\" style=\"stroke: rgb(0, 0, 0); stroke-width: 1px; fill: none; marker-end: url(&quot;#arrowhead-vee&quot;);\"/><path id=\"edge-/Relu_output_0\" class=\"edge-path\" d=\"M412.51480162377453,134.5L419.9871882021038,138.95833333333334C427.459574780433,143.41666666666666,442.4043479370915,152.33333333333334,457.2125906352124,156.79166666666666C472.0208333333333,161.25,486.6925455729167,161.25,494.0284016927083,161.25L501.3642578125,161.25\" style=\"stroke: rgb(0, 0, 0); stroke-width: 1px; fill: none; marker-end: url(&quot;#arrowhead-vee&quot;);\"/><path id=\"edge-/Relu_output_0\" class=\"edge-path\" d=\"M412.51480162377453,111.5L419.9871882021038,107.04166666666667C427.459574780433,102.58333333333333,442.4043479370915,93.66666666666667,469.96840932010826,89.20833333333333C497.532470703125,84.75,537.7158203125,84.75,586.3956705729166,84.75C635.0755208333334,84.75,692.2518717447916,84.75,746.2778727213541,84.75C800.3038736979166,84.75,851.1795247395834,84.75,899.2455240885416,84.75C947.3115234375,84.75,992.56787109375,84.75,1040.9745686848958,84.75C1089.3812662760417,84.75,1140.9383138020833,84.75,1195.3050130208333,84.75C1249.6717122395833,84.75,1306.8480631510417,84.75,1353.1760070401858,89.20833333333333C1399.5039509293301,93.66666666666667,1434.9834877961603,102.58333333333333,1452.723256229575,107.04166666666667L1470.4630246629902,111.5\" style=\"stroke: rgb(0, 0, 0); stroke-width: 1px; fill: none; marker-end: url(&quot;#arrowhead-vee&quot;);\"/><path id=\"edge-/layer1/layer1.0/conv1/Conv_output_0\" class=\"edge-path\" d=\"M654.43408203125,161.25L670.2664388020834,161.25C686.0987955729166,161.25,717.7635091145834,161.25,749.42822265625,161.25C781.0929361979166,161.25,812.7576497395834,161.25,828.5900065104166,161.25L844.42236328125,161.25\" style=\"stroke: rgb(0, 0, 0); stroke-width: 1px; fill: none; marker-end: url(&quot;#arrowhead-vee&quot;);\"/><path id=\"edge-/layer1/layer1.0/Relu_output_0\" class=\"edge-path\" d=\"M959.68798828125,161.25L972.710693359375,161.25C985.7333984375,161.25,1011.77880859375,161.25,1037.82421875,161.25C1063.86962890625,161.25,1089.9150390625,161.25,1102.937744140625,161.25L1115.96044921875,161.25\" style=\"stroke: rgb(0, 0, 0); stroke-width: 1px; fill: none; marker-end: url(&quot;#arrowhead-vee&quot;);\"/><path id=\"edge-/layer1/layer1.0/conv2/Conv_output_0\" class=\"edge-path\" d=\"M1269.0302734375,161.25L1284.8626302083333,161.25C1300.6949869791667,161.25,1332.3597005208333,161.25,1365.9318257250816,156.79166666666666C1399.5039509293301,152.33333333333334,1434.9834877961603,143.41666666666666,1452.723256229575,138.95833333333334L1470.4630246629902,134.5\" style=\"stroke: rgb(0, 0, 0); stroke-width: 1px; fill: none; marker-end: url(&quot;#arrowhead-vee&quot;);\"/><path id=\"edge-/layer1/layer1.0/Add_output_0\" class=\"edge-path\" d=\"M1573.4248046875,123L1586.3832194010417,123C1599.3416341145833,123,1625.2584635416667,123,1651.17529296875,123C1677.0921223958333,123,1703.0089518229167,123,1715.9673665364583,123L1728.92578125,123\" style=\"stroke: rgb(0, 0, 0); stroke-width: 1px; fill: none; marker-end: url(&quot;#arrowhead-vee&quot;);\"/><path id=\"edge-/layer1/layer1.0/Relu_1_output_0\" class=\"edge-path\" d=\"M1835.6305849162582,134.5L1852.6225740187567,138.95833333333334C1869.6145631212555,143.41666666666666,1903.5985413262526,152.33333333333334,1934.408320142293,156.79166666666666C1965.2180989583333,161.25,1992.8536783854167,161.25,2006.6714680989583,161.25L2020.4892578125,161.25\" style=\"stroke: rgb(0, 0, 0); stroke-width: 1px; fill: none; marker-end: url(&quot;#arrowhead-vee&quot;);\"/><path id=\"edge-/layer1/layer1.0/Relu_1_output_0\" class=\"edge-path\" d=\"M1835.6305849162582,111.5L1852.6225740187567,107.04166666666667C1869.6145631212555,102.58333333333333,1903.5985413262526,93.66666666666667,1947.164138827189,89.20833333333333C1990.729736328125,84.75,2043.876953125,84.75,2099.0387369791665,84.75C2154.2005208333335,84.75,2211.3768717447915,84.75,2267.948527018229,84.75C2324.5201822916665,84.75,2380.4871419270835,84.75,2433.6444498697915,84.75C2486.8017578125,84.75,2537.1494140625,84.75,2588.101765950521,84.75C2639.0541178385415,84.75,2690.6111653645835,84.75,2744.9778645833335,84.75C2799.3445638020835,84.75,2856.5209147135415,84.75,2902.8488586026856,89.20833333333333C2949.1768024918297,93.66666666666667,2984.6563393586603,102.58333333333333,3002.3961077920753,107.04166666666667L3020.1358762254904,111.5\" style=\"stroke: rgb(0, 0, 0); stroke-width: 1px; fill: none; marker-end: url(&quot;#arrowhead-vee&quot;);\"/><path id=\"edge-/layer1/layer1.1/conv1/Conv_output_0\" class=\"edge-path\" d=\"M2173.55908203125,161.25L2189.3914388020835,161.25C2205.2237955729165,161.25,2236.8885091145835,161.25,2271.098876953125,161.25C2305.3092447916665,161.25,2342.0652669270835,161.25,2360.4432779947915,161.25L2378.8212890625,161.25\" style=\"stroke: rgb(0, 0, 0); stroke-width: 1px; fill: none; marker-end: url(&quot;#arrowhead-vee&quot;);\"/><path id=\"edge-/layer1/layer1.1/Relu_output_0\" class=\"edge-path\" d=\"M2494.0869140625,161.25L2509.6552734375,161.25C2525.2236328125,161.25,2556.3603515625,161.25,2584.951416015625,161.25C2613.54248046875,161.25,2639.587890625,161.25,2652.610595703125,161.25L2665.63330078125,161.25\" style=\"stroke: rgb(0, 0, 0); stroke-width: 1px; fill: none; marker-end: url(&quot;#arrowhead-vee&quot;);\"/><path id=\"edge-/layer1/layer1.1/conv2/Conv_output_0\" class=\"edge-path\" d=\"M2818.703125,161.25L2834.5354817708335,161.25C2850.3678385416665,161.25,2882.0325520833335,161.25,2915.6046772875816,156.79166666666666C2949.1768024918297,152.33333333333334,2984.6563393586603,143.41666666666666,3002.3961077920753,138.95833333333334L3020.1358762254904,134.5\" style=\"stroke: rgb(0, 0, 0); stroke-width: 1px; fill: none; marker-end: url(&quot;#arrowhead-vee&quot;);\"/><path id=\"edge-/layer1/layer1.1/Add_output_0\" class=\"edge-path\" d=\"M3123.09765625,123L3136.0560709635415,123C3149.0144856770835,123,3174.9313151041665,123,3200.84814453125,123C3226.7649739583335,123,3252.6818033854165,123,3265.6402180989585,123L3278.5986328125,123\" style=\"stroke: rgb(0, 0, 0); stroke-width: 1px; fill: none; marker-end: url(&quot;#arrowhead-vee&quot;);\"/><path id=\"edge-/layer1/layer1.1/Relu_1_output_0\" class=\"edge-path\" d=\"M3385.303436478758,134.5L3402.295425581257,138.95833333333334C3419.2874146837553,143.41666666666666,3453.271392888753,152.33333333333334,3484.081171704793,156.79166666666666C3514.8909505208335,161.25,3542.5265299479165,161.25,3556.3443196614585,161.25L3570.162109375,161.25\" style=\"stroke: rgb(0, 0, 0); stroke-width: 1px; fill: none; marker-end: url(&quot;#arrowhead-vee&quot;);\"/><path id=\"edge-/layer1/layer1.1/Relu_1_output_0\" class=\"edge-path\" d=\"M3385.303436478758,111.5L3402.295425581257,107.04166666666667C3419.2874146837553,102.58333333333333,3453.271392888753,93.66666666666667,3496.836990389689,89.20833333333333C3540.402587890625,84.75,3593.5498046875,84.75,3648.7115885416665,84.75C3703.8733723958335,84.75,3761.0497233072915,84.75,3817.621378580729,84.75C3874.1930338541665,84.75,3930.1599934895835,84.75,3983.3173014322915,84.75C4036.474609375,84.75,4086.822265625,84.75,4137.7746175130205,84.75C4188.726969401042,84.75,4240.284016927083,84.75,4294.650716145833,84.75C4349.017415364583,84.75,4406.193766276042,84.75,4452.521710165186,89.20833333333333C4498.84965405433,93.66666666666667,4534.32919092116,102.58333333333333,4552.068959354575,107.04166666666667L4569.80872778799,111.5\" style=\"stroke: rgb(0, 0, 0); stroke-width: 1px; fill: none; marker-end: url(&quot;#arrowhead-vee&quot;);\"/><path id=\"edge-/layer1/layer1.2/conv1/Conv_output_0\" class=\"edge-path\" d=\"M3723.23193359375,161.25L3739.0642903645835,161.25C3754.8966471354165,161.25,3786.5613606770835,161.25,3820.771728515625,161.25C3854.9820963541665,161.25,3891.7381184895835,161.25,3910.1161295572915,161.25L3928.494140625,161.25\" style=\"stroke: rgb(0, 0, 0); stroke-width: 1px; fill: none; marker-end: url(&quot;#arrowhead-vee&quot;);\"/><path id=\"edge-/layer1/layer1.2/Relu_output_0\" class=\"edge-path\" d=\"M4043.759765625,161.25L4059.328125,161.25C4074.896484375,161.25,4106.033203125,161.25,4134.624267578125,161.25C4163.21533203125,161.25,4189.2607421875,161.25,4202.283447265625,161.25L4215.30615234375,161.25\" style=\"stroke: rgb(0, 0, 0); stroke-width: 1px; fill: none; marker-end: url(&quot;#arrowhead-vee&quot;);\"/><path id=\"edge-/layer1/layer1.2/conv2/Conv_output_0\" class=\"edge-path\" d=\"M4368.3759765625,161.25L4384.208333333333,161.25C4400.040690104167,161.25,4431.705403645833,161.25,4465.277528850082,156.79166666666666C4498.84965405433,152.33333333333334,4534.32919092116,143.41666666666666,4552.068959354575,138.95833333333334L4569.80872778799,134.5\" style=\"stroke: rgb(0, 0, 0); stroke-width: 1px; fill: none; marker-end: url(&quot;#arrowhead-vee&quot;);\"/><path id=\"edge-/layer1/layer1.2/Add_output_0\" class=\"edge-path\" d=\"M4672.7705078125,123L4685.728922526042,123C4698.687337239583,123,4724.604166666667,123,4750.52099609375,123C4776.437825520833,123,4802.354654947917,123,4815.313069661458,123L4828.271484375,123\" style=\"stroke: rgb(0, 0, 0); stroke-width: 1px; fill: none; marker-end: url(&quot;#arrowhead-vee&quot;);\"/><path id=\"edge-/layer1/layer1.2/Relu_1_output_0\" class=\"edge-path\" d=\"M4916.356860167998,111.5L4936.452087249373,102.33333333333333C4956.547314330749,93.16666666666667,4996.737768493499,74.83333333333333,5030.650785288416,65.66666666666667C5064.563802083333,56.5,5092.199381510417,56.5,5106.017171223958,56.5L5119.8349609375,56.5\" style=\"stroke: rgb(0, 0, 0); stroke-width: 1px; fill: none; marker-end: url(&quot;#arrowhead-vee&quot;);\"/><path id=\"edge-/layer1/layer1.2/Relu_1_output_0\" class=\"edge-path\" d=\"M4916.356860167998,134.5L4936.452087249373,143.66666666666666C4956.547314330749,152.83333333333334,4996.737768493499,171.16666666666666,5043.4066039733125,180.33333333333334C5090.075439453125,189.5,5143.22265625,189.5,5198.384440104167,189.5C5253.546223958333,189.5,5310.722574869792,189.5,5364.7485758463545,189.5C5418.774576822917,189.5,5469.650227864583,189.5,5517.716227213542,189.5C5565.7822265625,189.5,5611.03857421875,189.5,5646.689453125,189.5C5682.34033203125,189.5,5708.3857421875,189.5,5721.408447265625,189.5L5734.43115234375,189.5\" style=\"stroke: rgb(0, 0, 0); stroke-width: 1px; fill: none; marker-end: url(&quot;#arrowhead-vee&quot;);\"/><path id=\"edge-/layer2/layer2.0/conv1/Conv_output_0\" class=\"edge-path\" d=\"M5272.90478515625,56.5L5288.737141927083,56.5C5304.569498697917,56.5,5336.234212239583,56.5,5367.89892578125,56.5C5399.563639322917,56.5,5431.228352864583,56.5,5447.060709635417,56.5L5462.89306640625,56.5\" style=\"stroke: rgb(0, 0, 0); stroke-width: 1px; fill: none; marker-end: url(&quot;#arrowhead-vee&quot;);\"/><path id=\"edge-/layer2/layer2.0/Relu_output_0\" class=\"edge-path\" d=\"M5578.15869140625,56.5L5591.181396484375,56.5C5604.2041015625,56.5,5630.24951171875,56.5,5661.586344401042,56.5C5692.923177083333,56.5,5729.551432291667,56.5,5747.865559895833,56.5L5766.1796875,56.5\" style=\"stroke: rgb(0, 0, 0); stroke-width: 1px; fill: none; marker-end: url(&quot;#arrowhead-vee&quot;);\"/><path id=\"edge-/layer2/layer2.0/conv2/Conv_output_0\" class=\"edge-path\" d=\"M5919.24951171875,56.5L5945.183675130208,56.5C5971.117838541667,56.5,6022.986165364583,56.5,6073.8784149093435,65.66666666666667C6124.770664454104,74.83333333333333,6174.686836720709,93.16666666666667,6199.6449228540105,102.33333333333333L6224.603008987312,111.5\" style=\"stroke: rgb(0, 0, 0); stroke-width: 1px; fill: none; marker-end: url(&quot;#arrowhead-vee&quot;);\"/><path id=\"edge-/layer2/layer2.0/shortcut/shortcut.0/Conv_output_0\" class=\"edge-path\" d=\"M5950.998046875,189.5L5971.640787760417,189.5C5992.283528645833,189.5,6033.569010416667,189.5,6079.169837435385,180.33333333333334C6124.770664454104,171.16666666666666,6174.686836720709,152.83333333333334,6199.6449228540105,143.66666666666666L6224.603008987312,134.5\" style=\"stroke: rgb(0, 0, 0); stroke-width: 1px; fill: none; marker-end: url(&quot;#arrowhead-vee&quot;);\"/><path id=\"edge-/layer2/layer2.0/Add_output_0\" class=\"edge-path\" d=\"M6313.1171875,123L6326.075602213542,123C6339.034016927083,123,6364.950846354167,123,6390.86767578125,123C6416.784505208333,123,6442.701334635417,123,6455.659749348958,123L6468.6181640625,123\" style=\"stroke: rgb(0, 0, 0); stroke-width: 1px; fill: none; marker-end: url(&quot;#arrowhead-vee&quot;);\"/><path id=\"edge-/layer2/layer2.0/Relu_1_output_0\" class=\"edge-path\" d=\"M6575.322967728758,134.5L6592.314956831257,138.95833333333334C6609.306945933756,143.41666666666666,6643.290924138753,152.33333333333334,6674.100702954794,156.79166666666666C6704.910481770833,161.25,6732.546061197917,161.25,6746.363850911458,161.25L6760.181640625,161.25\" style=\"stroke: rgb(0, 0, 0); stroke-width: 1px; fill: none; marker-end: url(&quot;#arrowhead-vee&quot;);\"/><path id=\"edge-/layer2/layer2.0/Relu_1_output_0\" class=\"edge-path\" d=\"M6575.322967728758,111.5L6592.314956831257,107.04166666666667C6609.306945933756,102.58333333333333,6643.290924138753,93.66666666666667,6686.856521639689,89.20833333333333C6730.422119140625,84.75,6783.5693359375,84.75,6838.731119791667,84.75C6893.892903645833,84.75,6951.069254557292,84.75,7007.6409098307295,84.75C7064.212565104167,84.75,7120.179524739583,84.75,7173.336832682292,84.75C7226.494140625,84.75,7276.841796875,84.75,7327.7941487630205,84.75C7378.746500651042,84.75,7430.303548177083,84.75,7484.670247395833,84.75C7539.036946614583,84.75,7596.213297526042,84.75,7642.541241415186,89.20833333333333C7688.86918530433,93.66666666666667,7724.348722171159,102.58333333333333,7742.088490604575,107.04166666666667L7759.82825903799,111.5\" style=\"stroke: rgb(0, 0, 0); stroke-width: 1px; fill: none; marker-end: url(&quot;#arrowhead-vee&quot;);\"/><path id=\"edge-/layer2/layer2.1/conv1/Conv_output_0\" class=\"edge-path\" d=\"M6913.25146484375,161.25L6929.083821614583,161.25C6944.916178385417,161.25,6976.580891927083,161.25,7010.791259765625,161.25C7045.001627604167,161.25,7081.757649739583,161.25,7100.135660807292,161.25L7118.513671875,161.25\" style=\"stroke: rgb(0, 0, 0); stroke-width: 1px; fill: none; marker-end: url(&quot;#arrowhead-vee&quot;);\"/><path id=\"edge-/layer2/layer2.1/Relu_output_0\" class=\"edge-path\" d=\"M7233.779296875,161.25L7249.34765625,161.25C7264.916015625,161.25,7296.052734375,161.25,7324.643798828125,161.25C7353.23486328125,161.25,7379.2802734375,161.25,7392.302978515625,161.25L7405.32568359375,161.25\" style=\"stroke: rgb(0, 0, 0); stroke-width: 1px; fill: none; marker-end: url(&quot;#arrowhead-vee&quot;);\"/><path id=\"edge-/layer2/layer2.1/conv2/Conv_output_0\" class=\"edge-path\" d=\"M7558.3955078125,161.25L7574.227864583333,161.25C7590.060221354167,161.25,7621.724934895833,161.25,7655.297060100082,156.79166666666666C7688.86918530433,152.33333333333334,7724.348722171159,143.41666666666666,7742.088490604575,138.95833333333334L7759.82825903799,134.5\" style=\"stroke: rgb(0, 0, 0); stroke-width: 1px; fill: none; marker-end: url(&quot;#arrowhead-vee&quot;);\"/><path id=\"edge-/layer2/layer2.1/Add_output_0\" class=\"edge-path\" d=\"M7862.7900390625,123L7875.748453776042,123C7888.706868489583,123,7914.623697916667,123,7940.54052734375,123C7966.457356770833,123,7992.374186197917,123,8005.332600911458,123L8018.291015625,123\" style=\"stroke: rgb(0, 0, 0); stroke-width: 1px; fill: none; marker-end: url(&quot;#arrowhead-vee&quot;);\"/><path id=\"edge-/layer2/layer2.1/Relu_1_output_0\" class=\"edge-path\" d=\"M8124.995819291258,134.5L8141.987808393757,138.95833333333334C8158.979797496256,143.41666666666666,8192.963775701253,152.33333333333334,8223.773554517293,156.79166666666666C8254.583333333334,161.25,8282.218912760416,161.25,8296.036702473959,161.25L8309.8544921875,161.25\" style=\"stroke: rgb(0, 0, 0); stroke-width: 1px; fill: none; marker-end: url(&quot;#arrowhead-vee&quot;);\"/><path id=\"edge-/layer2/layer2.1/Relu_1_output_0\" class=\"edge-path\" d=\"M8124.995819291258,111.5L8141.987808393757,107.04166666666667C8158.979797496256,102.58333333333333,8192.963775701253,93.66666666666667,8236.52937320219,89.20833333333333C8280.094970703125,84.75,8333.2421875,84.75,8388.403971354166,84.75C8443.565755208334,84.75,8500.742106119791,84.75,8557.313761393229,84.75C8613.885416666666,84.75,8669.852376302084,84.75,8723.009684244791,84.75C8776.1669921875,84.75,8826.5146484375,84.75,8877.467000325521,84.75C8928.419352213541,84.75,8979.976399739584,84.75,9034.343098958334,84.75C9088.709798177084,84.75,9145.886149088541,84.75,9192.214092977685,89.20833333333333C9238.54203686683,93.66666666666667,9274.02157373366,102.58333333333333,9291.761342167074,107.04166666666667L9309.50111060049,111.5\" style=\"stroke: rgb(0, 0, 0); stroke-width: 1px; fill: none; marker-end: url(&quot;#arrowhead-vee&quot;);\"/><path id=\"edge-/layer2/layer2.2/conv1/Conv_output_0\" class=\"edge-path\" d=\"M8462.92431640625,161.25L8478.756673177084,161.25C8494.589029947916,161.25,8526.253743489584,161.25,8560.464111328125,161.25C8594.674479166666,161.25,8631.430501302084,161.25,8649.808512369791,161.25L8668.1865234375,161.25\" style=\"stroke: rgb(0, 0, 0); stroke-width: 1px; fill: none; marker-end: url(&quot;#arrowhead-vee&quot;);\"/><path id=\"edge-/layer2/layer2.2/Relu_output_0\" class=\"edge-path\" d=\"M8783.4521484375,161.25L8799.0205078125,161.25C8814.5888671875,161.25,8845.7255859375,161.25,8874.316650390625,161.25C8902.90771484375,161.25,8928.953125,161.25,8941.975830078125,161.25L8954.99853515625,161.25\" style=\"stroke: rgb(0, 0, 0); stroke-width: 1px; fill: none; marker-end: url(&quot;#arrowhead-vee&quot;);\"/><path id=\"edge-/layer2/layer2.2/conv2/Conv_output_0\" class=\"edge-path\" d=\"M9108.068359375,161.25L9123.900716145834,161.25C9139.733072916666,161.25,9171.397786458334,161.25,9204.969911662582,156.79166666666666C9238.54203686683,152.33333333333334,9274.02157373366,143.41666666666666,9291.761342167074,138.95833333333334L9309.50111060049,134.5\" style=\"stroke: rgb(0, 0, 0); stroke-width: 1px; fill: none; marker-end: url(&quot;#arrowhead-vee&quot;);\"/><path id=\"edge-/layer2/layer2.2/Add_output_0\" class=\"edge-path\" d=\"M9412.462890625,123L9425.421305338541,123C9438.379720052084,123,9464.296549479166,123,9490.21337890625,123C9516.130208333334,123,9542.047037760416,123,9555.005452473959,123L9567.9638671875,123\" style=\"stroke: rgb(0, 0, 0); stroke-width: 1px; fill: none; marker-end: url(&quot;#arrowhead-vee&quot;);\"/><path id=\"edge-/layer2/layer2.2/Relu_1_output_0\" class=\"edge-path\" d=\"M9656.049242980498,111.5L9676.144470061874,102.33333333333333C9696.239697143248,93.16666666666667,9736.430151306,74.83333333333333,9770.343168100917,65.66666666666667C9804.256184895834,56.5,9831.891764322916,56.5,9845.709554036459,56.5L9859.52734375,56.5\" style=\"stroke: rgb(0, 0, 0); stroke-width: 1px; fill: none; marker-end: url(&quot;#arrowhead-vee&quot;);\"/><path id=\"edge-/layer2/layer2.2/Relu_1_output_0\" class=\"edge-path\" d=\"M9656.049242980498,134.5L9676.144470061874,143.66666666666666C9696.239697143248,152.83333333333334,9736.430151306,171.16666666666666,9783.098986785813,180.33333333333334C9829.767822265625,189.5,9882.9150390625,189.5,9938.076822916666,189.5C9993.238606770834,189.5,10050.414957682291,189.5,10104.440958658854,189.5C10158.466959635416,189.5,10209.342610677084,189.5,10257.408610026041,189.5C10305.474609375,189.5,10350.73095703125,189.5,10386.3818359375,189.5C10422.03271484375,189.5,10448.078125,189.5,10461.100830078125,189.5L10474.12353515625,189.5\" style=\"stroke: rgb(0, 0, 0); stroke-width: 1px; fill: none; marker-end: url(&quot;#arrowhead-vee&quot;);\"/><path id=\"edge-/layer3/layer3.0/conv1/Conv_output_0\" class=\"edge-path\" d=\"M10012.59716796875,56.5L10028.429524739584,56.5C10044.261881510416,56.5,10075.926595052084,56.5,10107.59130859375,56.5C10139.256022135416,56.5,10170.920735677084,56.5,10186.753092447916,56.5L10202.58544921875,56.5\" style=\"stroke: rgb(0, 0, 0); stroke-width: 1px; fill: none; marker-end: url(&quot;#arrowhead-vee&quot;);\"/><path id=\"edge-/layer3/layer3.0/Relu_output_0\" class=\"edge-path\" d=\"M10317.85107421875,56.5L10330.873779296875,56.5C10343.896484375,56.5,10369.94189453125,56.5,10401.278727213541,56.5C10432.615559895834,56.5,10469.243815104166,56.5,10487.557942708334,56.5L10505.8720703125,56.5\" style=\"stroke: rgb(0, 0, 0); stroke-width: 1px; fill: none; marker-end: url(&quot;#arrowhead-vee&quot;);\"/><path id=\"edge-/layer3/layer3.0/conv2/Conv_output_0\" class=\"edge-path\" d=\"M10658.94189453125,56.5L10684.876057942709,56.5C10710.810221354166,56.5,10762.678548177084,56.5,10813.570797721843,65.66666666666667C10864.463047266605,74.83333333333333,10914.379219533208,93.16666666666667,10939.33730566651,102.33333333333333L10964.295391799813,111.5\" style=\"stroke: rgb(0, 0, 0); stroke-width: 1px; fill: none; marker-end: url(&quot;#arrowhead-vee&quot;);\"/><path id=\"edge-/layer3/layer3.0/shortcut/shortcut.0/Conv_output_0\" class=\"edge-path\" d=\"M10690.6904296875,189.5L10711.333170572916,189.5C10731.975911458334,189.5,10773.261393229166,189.5,10818.862220247885,180.33333333333334C10864.463047266605,171.16666666666666,10914.379219533208,152.83333333333334,10939.33730566651,143.66666666666666L10964.295391799813,134.5\" style=\"stroke: rgb(0, 0, 0); stroke-width: 1px; fill: none; marker-end: url(&quot;#arrowhead-vee&quot;);\"/><path id=\"edge-/layer3/layer3.0/Add_output_0\" class=\"edge-path\" d=\"M11052.8095703125,123L11065.767985026041,123C11078.726399739584,123,11104.643229166666,123,11130.56005859375,123C11156.476888020834,123,11182.393717447916,123,11195.352132161459,123L11208.310546875,123\" style=\"stroke: rgb(0, 0, 0); stroke-width: 1px; fill: none; marker-end: url(&quot;#arrowhead-vee&quot;);\"/><path id=\"edge-/layer3/layer3.0/Relu_1_output_0\" class=\"edge-path\" d=\"M11315.015350541258,134.5L11332.007339643756,138.95833333333334C11348.999328746257,143.41666666666666,11382.983306951253,152.33333333333334,11413.793085767293,156.79166666666666C11444.602864583334,161.25,11472.238444010416,161.25,11486.056233723959,161.25L11499.8740234375,161.25\" style=\"stroke: rgb(0, 0, 0); stroke-width: 1px; fill: none; marker-end: url(&quot;#arrowhead-vee&quot;);\"/><path id=\"edge-/layer3/layer3.0/Relu_1_output_0\" class=\"edge-path\" d=\"M11315.015350541258,111.5L11332.007339643756,107.04166666666667C11348.999328746257,102.58333333333333,11382.983306951253,93.66666666666667,11426.54890445219,89.20833333333333C11470.114501953125,84.75,11523.26171875,84.75,11578.423502604166,84.75C11633.585286458334,84.75,11690.761637369791,84.75,11747.333292643229,84.75C11803.904947916666,84.75,11859.871907552084,84.75,11913.029215494791,84.75C11966.1865234375,84.75,12016.5341796875,84.75,12067.486531575521,84.75C12118.438883463541,84.75,12169.995930989584,84.75,12224.362630208334,84.75C12278.729329427084,84.75,12335.905680338541,84.75,12382.233624227685,89.20833333333333C12428.56156811683,93.66666666666667,12464.04110498366,102.58333333333333,12481.780873417074,107.04166666666667L12499.52064185049,111.5\" style=\"stroke: rgb(0, 0, 0); stroke-width: 1px; fill: none; marker-end: url(&quot;#arrowhead-vee&quot;);\"/><path id=\"edge-/layer3/layer3.1/conv1/Conv_output_0\" class=\"edge-path\" d=\"M11652.94384765625,161.25L11668.776204427084,161.25C11684.608561197916,161.25,11716.273274739584,161.25,11750.483642578125,161.25C11784.694010416666,161.25,11821.450032552084,161.25,11839.828043619791,161.25L11858.2060546875,161.25\" style=\"stroke: rgb(0, 0, 0); stroke-width: 1px; fill: none; marker-end: url(&quot;#arrowhead-vee&quot;);\"/><path id=\"edge-/layer3/layer3.1/Relu_output_0\" class=\"edge-path\" d=\"M11973.4716796875,161.25L11989.0400390625,161.25C12004.6083984375,161.25,12035.7451171875,161.25,12064.336181640625,161.25C12092.92724609375,161.25,12118.97265625,161.25,12131.995361328125,161.25L12145.01806640625,161.25\" style=\"stroke: rgb(0, 0, 0); stroke-width: 1px; fill: none; marker-end: url(&quot;#arrowhead-vee&quot;);\"/><path id=\"edge-/layer3/layer3.1/conv2/Conv_output_0\" class=\"edge-path\" d=\"M12298.087890625,161.25L12313.920247395834,161.25C12329.752604166666,161.25,12361.417317708334,161.25,12394.98944291258,156.79166666666666C12428.56156811683,152.33333333333334,12464.04110498366,143.41666666666666,12481.780873417074,138.95833333333334L12499.52064185049,134.5\" style=\"stroke: rgb(0, 0, 0); stroke-width: 1px; fill: none; marker-end: url(&quot;#arrowhead-vee&quot;);\"/><path id=\"edge-/layer3/layer3.1/Add_output_0\" class=\"edge-path\" d=\"M12602.482421875,123L12615.440836588541,123C12628.399251302084,123,12654.316080729166,123,12680.23291015625,123C12706.149739583334,123,12732.066569010416,123,12745.024983723959,123L12757.9833984375,123\" style=\"stroke: rgb(0, 0, 0); stroke-width: 1px; fill: none; marker-end: url(&quot;#arrowhead-vee&quot;);\"/><path id=\"edge-/layer3/layer3.1/Relu_1_output_0\" class=\"edge-path\" d=\"M12846.068774230498,111.5L12866.164001311874,102.33333333333333C12886.259228393248,93.16666666666667,12926.449682556,74.83333333333333,12960.362699350917,65.66666666666667C12994.275716145834,56.5,13021.911295572916,56.5,13035.729085286459,56.5L13049.546875,56.5\" style=\"stroke: rgb(0, 0, 0); stroke-width: 1px; fill: none; marker-end: url(&quot;#arrowhead-vee&quot;);\"/><path id=\"edge-/layer3/layer3.1/Relu_1_output_0\" class=\"edge-path\" d=\"M12846.068774230498,134.5L12866.164001311874,143.66666666666666C12886.259228393248,152.83333333333334,12926.449682556,171.16666666666666,12973.118518035813,180.33333333333334C13019.787353515625,189.5,13072.9345703125,189.5,13128.096354166666,189.5C13183.258138020834,189.5,13240.434488932291,189.5,13294.460489908854,189.5C13348.486490885416,189.5,13399.362141927084,189.5,13447.428141276041,189.5C13495.494140625,189.5,13540.75048828125,189.5,13576.4013671875,189.5C13612.05224609375,189.5,13638.09765625,189.5,13651.120361328125,189.5L13664.14306640625,189.5\" style=\"stroke: rgb(0, 0, 0); stroke-width: 1px; fill: none; marker-end: url(&quot;#arrowhead-vee&quot;);\"/><path id=\"edge-/layer4/layer4.0/conv1/Conv_output_0\" class=\"edge-path\" d=\"M13202.61669921875,56.5L13218.449055989584,56.5C13234.281412760416,56.5,13265.946126302084,56.5,13297.61083984375,56.5C13329.275553385416,56.5,13360.940266927084,56.5,13376.772623697916,56.5L13392.60498046875,56.5\" style=\"stroke: rgb(0, 0, 0); stroke-width: 1px; fill: none; marker-end: url(&quot;#arrowhead-vee&quot;);\"/><path id=\"edge-/layer4/layer4.0/Relu_output_0\" class=\"edge-path\" d=\"M13507.87060546875,56.5L13520.893310546875,56.5C13533.916015625,56.5,13559.96142578125,56.5,13591.298258463541,56.5C13622.635091145834,56.5,13659.263346354166,56.5,13677.577473958334,56.5L13695.8916015625,56.5\" style=\"stroke: rgb(0, 0, 0); stroke-width: 1px; fill: none; marker-end: url(&quot;#arrowhead-vee&quot;);\"/><path id=\"edge-/layer4/layer4.0/conv2/Conv_output_0\" class=\"edge-path\" d=\"M13848.96142578125,56.5L13874.895589192709,56.5C13900.829752604166,56.5,13952.698079427084,56.5,14003.590328971843,65.66666666666667C14054.482578516603,74.83333333333333,14104.398750783208,93.16666666666667,14129.35683691651,102.33333333333333L14154.314923049813,111.5\" style=\"stroke: rgb(0, 0, 0); stroke-width: 1px; fill: none; marker-end: url(&quot;#arrowhead-vee&quot;);\"/><path id=\"edge-/layer4/layer4.0/shortcut/shortcut.0/Conv_output_0\" class=\"edge-path\" d=\"M13880.7099609375,189.5L13901.352701822916,189.5C13921.995442708334,189.5,13963.280924479166,189.5,14008.881751497885,180.33333333333334C14054.482578516603,171.16666666666666,14104.398750783208,152.83333333333334,14129.35683691651,143.66666666666666L14154.314923049813,134.5\" style=\"stroke: rgb(0, 0, 0); stroke-width: 1px; fill: none; marker-end: url(&quot;#arrowhead-vee&quot;);\"/><path id=\"edge-/layer4/layer4.0/Add_output_0\" class=\"edge-path\" d=\"M14242.8291015625,123L14255.787516276041,123C14268.745930989584,123,14294.662760416666,123,14320.57958984375,123C14346.496419270834,123,14372.413248697916,123,14385.371663411459,123L14398.330078125,123\" style=\"stroke: rgb(0, 0, 0); stroke-width: 1px; fill: none; marker-end: url(&quot;#arrowhead-vee&quot;);\"/><path id=\"edge-/layer4/layer4.0/Relu_1_output_0\" class=\"edge-path\" d=\"M14505.034881791258,134.5L14522.026870893756,138.95833333333334C14539.018859996257,143.41666666666666,14573.002838201253,152.33333333333334,14603.812617017293,156.79166666666666C14634.622395833334,161.25,14662.257975260416,161.25,14676.075764973959,161.25L14689.8935546875,161.25\" style=\"stroke: rgb(0, 0, 0); stroke-width: 1px; fill: none; marker-end: url(&quot;#arrowhead-vee&quot;);\"/><path id=\"edge-/layer4/layer4.0/Relu_1_output_0\" class=\"edge-path\" d=\"M14505.034881791258,111.5L14522.026870893756,107.04166666666667C14539.018859996257,102.58333333333333,14573.002838201253,93.66666666666667,14616.56843570219,89.20833333333333C14660.134033203125,84.75,14713.28125,84.75,14768.443033854166,84.75C14823.604817708334,84.75,14880.781168619791,84.75,14937.352823893229,84.75C14993.924479166666,84.75,15049.891438802084,84.75,15103.048746744791,84.75C15156.2060546875,84.75,15206.5537109375,84.75,15257.506062825521,84.75C15308.458414713541,84.75,15360.015462239584,84.75,15414.382161458334,84.75C15468.748860677084,84.75,15525.925211588541,84.75,15572.253155477685,89.20833333333333C15618.58109936683,93.66666666666667,15654.06063623366,102.58333333333333,15671.800404667074,107.04166666666667L15689.54017310049,111.5\" style=\"stroke: rgb(0, 0, 0); stroke-width: 1px; fill: none; marker-end: url(&quot;#arrowhead-vee&quot;);\"/><path id=\"edge-/layer4/layer4.1/conv1/Conv_output_0\" class=\"edge-path\" d=\"M14842.96337890625,161.25L14858.795735677084,161.25C14874.628092447916,161.25,14906.292805989584,161.25,14940.503173828125,161.25C14974.713541666666,161.25,15011.469563802084,161.25,15029.847574869791,161.25L15048.2255859375,161.25\" style=\"stroke: rgb(0, 0, 0); stroke-width: 1px; fill: none; marker-end: url(&quot;#arrowhead-vee&quot;);\"/><path id=\"edge-/layer4/layer4.1/Relu_output_0\" class=\"edge-path\" d=\"M15163.4912109375,161.25L15179.0595703125,161.25C15194.6279296875,161.25,15225.7646484375,161.25,15254.355712890625,161.25C15282.94677734375,161.25,15308.9921875,161.25,15322.014892578125,161.25L15335.03759765625,161.25\" style=\"stroke: rgb(0, 0, 0); stroke-width: 1px; fill: none; marker-end: url(&quot;#arrowhead-vee&quot;);\"/><path id=\"edge-/layer4/layer4.1/conv2/Conv_output_0\" class=\"edge-path\" d=\"M15488.107421875,161.25L15503.939778645834,161.25C15519.772135416666,161.25,15551.436848958334,161.25,15585.00897416258,156.79166666666666C15618.58109936683,152.33333333333334,15654.06063623366,143.41666666666666,15671.800404667074,138.95833333333334L15689.54017310049,134.5\" style=\"stroke: rgb(0, 0, 0); stroke-width: 1px; fill: none; marker-end: url(&quot;#arrowhead-vee&quot;);\"/><path id=\"edge-/layer4/layer4.1/Add_output_0\" class=\"edge-path\" d=\"M15792.501953125,123L15805.460367838541,123C15818.418782552084,123,15844.335611979166,123,15870.25244140625,123C15896.169270833334,123,15922.086100260416,123,15935.044514973959,123L15948.0029296875,123\" style=\"stroke: rgb(0, 0, 0); stroke-width: 1px; fill: none; marker-end: url(&quot;#arrowhead-vee&quot;);\"/><path id=\"edge-/layer4/layer4.1/Relu_1_output_0\" class=\"edge-path\" d=\"M16054.707733353758,134.5L16071.699722456256,138.95833333333334C16088.691711558757,143.41666666666666,16122.675689763753,152.33333333333334,16153.485468579793,156.79166666666666C16184.295247395834,161.25,16211.930826822916,161.25,16225.748616536459,161.25L16239.56640625,161.25\" style=\"stroke: rgb(0, 0, 0); stroke-width: 1px; fill: none; marker-end: url(&quot;#arrowhead-vee&quot;);\"/><path id=\"edge-/layer4/layer4.1/Relu_1_output_0\" class=\"edge-path\" d=\"M16054.707733353758,111.5L16071.699722456256,107.04166666666667C16088.691711558757,102.58333333333333,16122.675689763753,93.66666666666667,16166.24128726469,89.20833333333333C16209.806884765625,84.75,16262.9541015625,84.75,16318.115885416666,84.75C16373.277669270834,84.75,16430.454020182293,84.75,16487.02567545573,84.75C16543.597330729168,84.75,16599.564290364582,84.75,16652.721598307293,84.75C16705.87890625,84.75,16756.2265625,84.75,16807.17891438802,84.75C16858.131266276043,84.75,16909.688313802082,84.75,16964.055013020832,84.75C17018.421712239582,84.75,17075.598063151043,84.75,17121.926007040183,89.20833333333333C17168.25395092933,93.66666666666667,17203.73348779616,102.58333333333333,17221.473256229572,107.04166666666667L17239.21302466299,111.5\" style=\"stroke: rgb(0, 0, 0); stroke-width: 1px; fill: none; marker-end: url(&quot;#arrowhead-vee&quot;);\"/><path id=\"edge-/layer4/layer4.2/conv1/Conv_output_0\" class=\"edge-path\" d=\"M16392.63623046875,161.25L16408.468587239582,161.25C16424.300944010418,161.25,16455.965657552082,161.25,16490.176025390625,161.25C16524.386393229168,161.25,16561.142415364582,161.25,16579.520426432293,161.25L16597.8984375,161.25\" style=\"stroke: rgb(0, 0, 0); stroke-width: 1px; fill: none; marker-end: url(&quot;#arrowhead-vee&quot;);\"/><path id=\"edge-/layer4/layer4.2/Relu_output_0\" class=\"edge-path\" d=\"M16713.1640625,161.25L16728.732421875,161.25C16744.30078125,161.25,16775.4375,161.25,16804.028564453125,161.25C16832.61962890625,161.25,16858.6650390625,161.25,16871.687744140625,161.25L16884.71044921875,161.25\" style=\"stroke: rgb(0, 0, 0); stroke-width: 1px; fill: none; marker-end: url(&quot;#arrowhead-vee&quot;);\"/><path id=\"edge-/layer4/layer4.2/conv2/Conv_output_0\" class=\"edge-path\" d=\"M17037.7802734375,161.25L17053.612630208332,161.25C17069.444986979168,161.25,17101.109700520832,161.25,17134.68182572508,156.79166666666666C17168.25395092933,152.33333333333334,17203.73348779616,143.41666666666666,17221.473256229572,138.95833333333334L17239.21302466299,134.5\" style=\"stroke: rgb(0, 0, 0); stroke-width: 1px; fill: none; marker-end: url(&quot;#arrowhead-vee&quot;);\"/><path id=\"edge-/layer4/layer4.2/Add_output_0\" class=\"edge-path\" d=\"M17342.1748046875,123L17355.133219401043,123C17368.091634114582,123,17394.008463541668,123,17419.92529296875,123C17445.842122395832,123,17471.758951822918,123,17484.717366536457,123L17497.67578125,123\" style=\"stroke: rgb(0, 0, 0); stroke-width: 1px; fill: none; marker-end: url(&quot;#arrowhead-vee&quot;);\"/><path id=\"edge-/layer4/layer4.2/Relu_1_output_0\" class=\"edge-path\" d=\"M17623.42578125,123L17637.243570963543,123C17651.061360677082,123,17678.696940104168,123,17706.33251953125,123C17733.968098958332,123,17761.603678385418,123,17775.421468098957,123L17789.2392578125,123\" style=\"stroke: rgb(0, 0, 0); stroke-width: 1px; fill: none; marker-end: url(&quot;#arrowhead-vee&quot;);\"/><path id=\"edge-/Pad_output_0\" class=\"edge-path\" d=\"M17901.203132629395,123L17908.3086827596,123C17915.414232889812,123,17929.625333150227,123,17943.836433410645,123C17958.047533671062,123,17972.258633931477,123,17979.364184061687,123L17986.469734191895,123\" style=\"stroke: rgb(0, 0, 0); stroke-width: 1px; fill: none; marker-end: url(&quot;#arrowhead-vee&quot;);\"/><path id=\"edge-/AveragePool_output_0\" class=\"edge-path\" d=\"M18075.340827941895,123L18085.704027811687,123C18096.067227681477,123,18116.793627421062,123,18137.520027160645,123C18158.246426900227,123,18178.972826639812,123,18189.3360265096,123L18199.699226379395,123\" style=\"stroke: rgb(0, 0, 0); stroke-width: 1px; fill: none; marker-end: url(&quot;#arrowhead-vee&quot;);\"/><path id=\"edge-/Reshape_output_0\" class=\"edge-path\" d=\"M18274.699226379395,123L18283.536547342937,123C18292.373868306477,123,18310.048510233562,123,18327.723152160645,123C18345.397794087727,123,18363.072436014812,123,18371.90975697835,123L18380.747077941895,123\" style=\"stroke: rgb(0, 0, 0); stroke-width: 1px; fill: none; marker-end: url(&quot;#arrowhead-vee&quot;);\"/><path id=\"edge-modelOutput\" class=\"edge-path\" d=\"M18463.293952941895,123L18469.972094217937,123C18476.650235493977,123,18490.006518046062,123,18503.362800598145,123C18516.719083150227,123,18530.075365702312,123,18536.75350697835,123L18543.431648254395,123\" style=\"stroke: rgb(0, 0, 0); stroke-width: 1px; fill: none; marker-end: url(&quot;#arrowhead-vee&quot;);\"/></g><g id=\"edge-labels\" class=\"edge-labels\"><text class=\"edge-label\" id=\"edge-label-edge-modelInput\" transform=\"translate(90.658203125,133)\" style=\"opacity: 1; font-family: -apple-system, BlinkMacSystemFont, &quot;Segoe WPC&quot;, &quot;Segoe UI&quot;, Ubuntu, &quot;Droid Sans&quot;, sans-serif, &quot;PingFang SC&quot;; font-size: 10px;\"><tspan xml:space=\"preserve\" dy=\"1em\" x=\"1\">modelInput</tspan></text><text class=\"edge-label\" id=\"edge-label-edge-/conv1/Conv_output_0\" transform=\"translate(261.400390625,133)\" style=\"opacity: 1; font-family: -apple-system, BlinkMacSystemFont, &quot;Segoe WPC&quot;, &quot;Segoe UI&quot;, Ubuntu, &quot;Droid Sans&quot;, sans-serif, &quot;PingFang SC&quot;; font-size: 10px;\"><tspan xml:space=\"preserve\" dy=\"1em\" x=\"1\">/conv1/Conv_output_0</tspan></text><text class=\"edge-label\" id=\"edge-label-edge-/Relu_output_0\" transform=\"translate(423.333984375,171.25)\" style=\"opacity: 1; font-family: -apple-system, BlinkMacSystemFont, &quot;Segoe WPC&quot;, &quot;Segoe UI&quot;, Ubuntu, &quot;Droid Sans&quot;, sans-serif, &quot;PingFang SC&quot;; font-size: 10px;\"><tspan xml:space=\"preserve\" dy=\"1em\" x=\"1\">/Relu_output_0</tspan></text><text class=\"edge-label\" id=\"edge-label-edge-/Relu_output_0\" transform=\"translate(868.0400390625,94.75)\" style=\"opacity: 1; font-family: -apple-system, BlinkMacSystemFont, &quot;Segoe WPC&quot;, &quot;Segoe UI&quot;, Ubuntu, &quot;Droid Sans&quot;, sans-serif, &quot;PingFang SC&quot;; font-size: 10px;\"><tspan xml:space=\"preserve\" dy=\"1em\" x=\"1\">/Relu_output_0</tspan></text><text class=\"edge-label\" id=\"edge-label-edge-/layer1/layer1.0/conv1/Conv_output_0\" transform=\"translate(664.43408203125,171.25)\" style=\"opacity: 1; font-family: -apple-system, BlinkMacSystemFont, &quot;Segoe WPC&quot;, &quot;Segoe UI&quot;, Ubuntu, &quot;Droid Sans&quot;, sans-serif, &quot;PingFang SC&quot;; font-size: 10px;\"><tspan xml:space=\"preserve\" dy=\"1em\" x=\"1\">/layer1/layer1.0/conv1/Conv_output_0</tspan></text><text class=\"edge-label\" id=\"edge-label-edge-/layer1/layer1.0/Relu_output_0\" transform=\"translate(969.68798828125,171.25)\" style=\"opacity: 1; font-family: -apple-system, BlinkMacSystemFont, &quot;Segoe WPC&quot;, &quot;Segoe UI&quot;, Ubuntu, &quot;Droid Sans&quot;, sans-serif, &quot;PingFang SC&quot;; font-size: 10px;\"><tspan xml:space=\"preserve\" dy=\"1em\" x=\"1\">/layer1/layer1.0/Relu_output_0</tspan></text><text class=\"edge-label\" id=\"edge-label-edge-/layer1/layer1.0/conv2/Conv_output_0\" transform=\"translate(1279.0302734375,171.25)\" style=\"opacity: 1; font-family: -apple-system, BlinkMacSystemFont, &quot;Segoe WPC&quot;, &quot;Segoe UI&quot;, Ubuntu, &quot;Droid Sans&quot;, sans-serif, &quot;PingFang SC&quot;; font-size: 10px;\"><tspan xml:space=\"preserve\" dy=\"1em\" x=\"1\">/layer1/layer1.0/conv2/Conv_output_0</tspan></text><text class=\"edge-label\" id=\"edge-label-edge-/layer1/layer1.0/Add_output_0\" transform=\"translate(1583.4248046875,133)\" style=\"opacity: 1; font-family: -apple-system, BlinkMacSystemFont, &quot;Segoe WPC&quot;, &quot;Segoe UI&quot;, Ubuntu, &quot;Droid Sans&quot;, sans-serif, &quot;PingFang SC&quot;; font-size: 10px;\"><tspan xml:space=\"preserve\" dy=\"1em\" x=\"1\">/layer1/layer1.0/Add_output_0</tspan></text><text class=\"edge-label\" id=\"edge-label-edge-/layer1/layer1.0/Relu_1_output_0\" transform=\"translate(1864.67578125,171.25)\" style=\"opacity: 1; font-family: -apple-system, BlinkMacSystemFont, &quot;Segoe WPC&quot;, &quot;Segoe UI&quot;, Ubuntu, &quot;Droid Sans&quot;, sans-serif, &quot;PingFang SC&quot;; font-size: 10px;\"><tspan xml:space=\"preserve\" dy=\"1em\" x=\"1\">/layer1/layer1.0/Relu_1_output_0</tspan></text><text class=\"edge-label\" id=\"edge-label-edge-/layer1/layer1.0/Relu_1_output_0\" transform=\"translate(2363.54736328125,94.75)\" style=\"opacity: 1; font-family: -apple-system, BlinkMacSystemFont, &quot;Segoe WPC&quot;, &quot;Segoe UI&quot;, Ubuntu, &quot;Droid Sans&quot;, sans-serif, &quot;PingFang SC&quot;; font-size: 10px;\"><tspan xml:space=\"preserve\" dy=\"1em\" x=\"1\">/layer1/layer1.0/Relu_1_output_0</tspan></text><text class=\"edge-label\" id=\"edge-label-edge-/layer1/layer1.1/conv1/Conv_output_0\" transform=\"translate(2183.55908203125,171.25)\" style=\"opacity: 1; font-family: -apple-system, BlinkMacSystemFont, &quot;Segoe WPC&quot;, &quot;Segoe UI&quot;, Ubuntu, &quot;Droid Sans&quot;, sans-serif, &quot;PingFang SC&quot;; font-size: 10px;\"><tspan xml:space=\"preserve\" dy=\"1em\" x=\"1\">/layer1/layer1.1/conv1/Conv_output_0</tspan></text><text class=\"edge-label\" id=\"edge-label-edge-/layer1/layer1.1/Relu_output_0\" transform=\"translate(2519.36083984375,171.25)\" style=\"opacity: 1; font-family: -apple-system, BlinkMacSystemFont, &quot;Segoe WPC&quot;, &quot;Segoe UI&quot;, Ubuntu, &quot;Droid Sans&quot;, sans-serif, &quot;PingFang SC&quot;; font-size: 10px;\"><tspan xml:space=\"preserve\" dy=\"1em\" x=\"1\">/layer1/layer1.1/Relu_output_0</tspan></text><text class=\"edge-label\" id=\"edge-label-edge-/layer1/layer1.1/conv2/Conv_output_0\" transform=\"translate(2828.703125,171.25)\" style=\"opacity: 1; font-family: -apple-system, BlinkMacSystemFont, &quot;Segoe WPC&quot;, &quot;Segoe UI&quot;, Ubuntu, &quot;Droid Sans&quot;, sans-serif, &quot;PingFang SC&quot;; font-size: 10px;\"><tspan xml:space=\"preserve\" dy=\"1em\" x=\"1\">/layer1/layer1.1/conv2/Conv_output_0</tspan></text><text class=\"edge-label\" id=\"edge-label-edge-/layer1/layer1.1/Add_output_0\" transform=\"translate(3133.09765625,133)\" style=\"opacity: 1; font-family: -apple-system, BlinkMacSystemFont, &quot;Segoe WPC&quot;, &quot;Segoe UI&quot;, Ubuntu, &quot;Droid Sans&quot;, sans-serif, &quot;PingFang SC&quot;; font-size: 10px;\"><tspan xml:space=\"preserve\" dy=\"1em\" x=\"1\">/layer1/layer1.1/Add_output_0</tspan></text><text class=\"edge-label\" id=\"edge-label-edge-/layer1/layer1.1/Relu_1_output_0\" transform=\"translate(3414.3486328125,171.25)\" style=\"opacity: 1; font-family: -apple-system, BlinkMacSystemFont, &quot;Segoe WPC&quot;, &quot;Segoe UI&quot;, Ubuntu, &quot;Droid Sans&quot;, sans-serif, &quot;PingFang SC&quot;; font-size: 10px;\"><tspan xml:space=\"preserve\" dy=\"1em\" x=\"1\">/layer1/layer1.1/Relu_1_output_0</tspan></text><text class=\"edge-label\" id=\"edge-label-edge-/layer1/layer1.1/Relu_1_output_0\" transform=\"translate(3913.22021484375,94.75)\" style=\"opacity: 1; font-family: -apple-system, BlinkMacSystemFont, &quot;Segoe WPC&quot;, &quot;Segoe UI&quot;, Ubuntu, &quot;Droid Sans&quot;, sans-serif, &quot;PingFang SC&quot;; font-size: 10px;\"><tspan xml:space=\"preserve\" dy=\"1em\" x=\"1\">/layer1/layer1.1/Relu_1_output_0</tspan></text><text class=\"edge-label\" id=\"edge-label-edge-/layer1/layer1.2/conv1/Conv_output_0\" transform=\"translate(3733.23193359375,171.25)\" style=\"opacity: 1; font-family: -apple-system, BlinkMacSystemFont, &quot;Segoe WPC&quot;, &quot;Segoe UI&quot;, Ubuntu, &quot;Droid Sans&quot;, sans-serif, &quot;PingFang SC&quot;; font-size: 10px;\"><tspan xml:space=\"preserve\" dy=\"1em\" x=\"1\">/layer1/layer1.2/conv1/Conv_output_0</tspan></text><text class=\"edge-label\" id=\"edge-label-edge-/layer1/layer1.2/Relu_output_0\" transform=\"translate(4069.03369140625,171.25)\" style=\"opacity: 1; font-family: -apple-system, BlinkMacSystemFont, &quot;Segoe WPC&quot;, &quot;Segoe UI&quot;, Ubuntu, &quot;Droid Sans&quot;, sans-serif, &quot;PingFang SC&quot;; font-size: 10px;\"><tspan xml:space=\"preserve\" dy=\"1em\" x=\"1\">/layer1/layer1.2/Relu_output_0</tspan></text><text class=\"edge-label\" id=\"edge-label-edge-/layer1/layer1.2/conv2/Conv_output_0\" transform=\"translate(4378.3759765625,171.25)\" style=\"opacity: 1; font-family: -apple-system, BlinkMacSystemFont, &quot;Segoe WPC&quot;, &quot;Segoe UI&quot;, Ubuntu, &quot;Droid Sans&quot;, sans-serif, &quot;PingFang SC&quot;; font-size: 10px;\"><tspan xml:space=\"preserve\" dy=\"1em\" x=\"1\">/layer1/layer1.2/conv2/Conv_output_0</tspan></text><text class=\"edge-label\" id=\"edge-label-edge-/layer1/layer1.2/Add_output_0\" transform=\"translate(4682.7705078125,133)\" style=\"opacity: 1; font-family: -apple-system, BlinkMacSystemFont, &quot;Segoe WPC&quot;, &quot;Segoe UI&quot;, Ubuntu, &quot;Droid Sans&quot;, sans-serif, &quot;PingFang SC&quot;; font-size: 10px;\"><tspan xml:space=\"preserve\" dy=\"1em\" x=\"1\">/layer1/layer1.2/Add_output_0</tspan></text><text class=\"edge-label\" id=\"edge-label-edge-/layer1/layer1.2/Relu_1_output_0\" transform=\"translate(4964.021484375,66.5)\" style=\"opacity: 1; font-family: -apple-system, BlinkMacSystemFont, &quot;Segoe WPC&quot;, &quot;Segoe UI&quot;, Ubuntu, &quot;Droid Sans&quot;, sans-serif, &quot;PingFang SC&quot;; font-size: 10px;\"><tspan xml:space=\"preserve\" dy=\"1em\" x=\"1\">/layer1/layer1.2/Relu_1_output_0</tspan></text><text class=\"edge-label\" id=\"edge-label-edge-/layer1/layer1.2/Relu_1_output_0\" transform=\"translate(5294.9921875,199.5)\" style=\"opacity: 1; font-family: -apple-system, BlinkMacSystemFont, &quot;Segoe WPC&quot;, &quot;Segoe UI&quot;, Ubuntu, &quot;Droid Sans&quot;, sans-serif, &quot;PingFang SC&quot;; font-size: 10px;\"><tspan xml:space=\"preserve\" dy=\"1em\" x=\"1\">/layer1/layer1.2/Relu_1_output_0</tspan></text><text class=\"edge-label\" id=\"edge-label-edge-/layer2/layer2.0/conv1/Conv_output_0\" transform=\"translate(5282.90478515625,66.5)\" style=\"opacity: 1; font-family: -apple-system, BlinkMacSystemFont, &quot;Segoe WPC&quot;, &quot;Segoe UI&quot;, Ubuntu, &quot;Droid Sans&quot;, sans-serif, &quot;PingFang SC&quot;; font-size: 10px;\"><tspan xml:space=\"preserve\" dy=\"1em\" x=\"1\">/layer2/layer2.0/conv1/Conv_output_0</tspan></text><text class=\"edge-label\" id=\"edge-label-edge-/layer2/layer2.0/Relu_output_0\" transform=\"translate(5588.15869140625,66.5)\" style=\"opacity: 1; font-family: -apple-system, BlinkMacSystemFont, &quot;Segoe WPC&quot;, &quot;Segoe UI&quot;, Ubuntu, &quot;Droid Sans&quot;, sans-serif, &quot;PingFang SC&quot;; font-size: 10px;\"><tspan xml:space=\"preserve\" dy=\"1em\" x=\"1\">/layer2/layer2.0/Relu_output_0</tspan></text><text class=\"edge-label\" id=\"edge-label-edge-/layer2/layer2.0/conv2/Conv_output_0\" transform=\"translate(5989.8603515625,66.5)\" style=\"opacity: 1; font-family: -apple-system, BlinkMacSystemFont, &quot;Segoe WPC&quot;, &quot;Segoe UI&quot;, Ubuntu, &quot;Droid Sans&quot;, sans-serif, &quot;PingFang SC&quot;; font-size: 10px;\"><tspan xml:space=\"preserve\" dy=\"1em\" x=\"1\">/layer2/layer2.0/conv2/Conv_output_0</tspan></text><text class=\"edge-label\" id=\"edge-label-edge-/layer2/layer2.0/shortcut/shortcut.0/Conv_output_0\" transform=\"translate(5960.998046875,199.5)\" style=\"opacity: 1; font-family: -apple-system, BlinkMacSystemFont, &quot;Segoe WPC&quot;, &quot;Segoe UI&quot;, Ubuntu, &quot;Droid Sans&quot;, sans-serif, &quot;PingFang SC&quot;; font-size: 10px;\"><tspan xml:space=\"preserve\" dy=\"1em\" x=\"1\">/layer2/layer2.0/shortcut/shortcut.0/Conv_output_0</tspan></text><text class=\"edge-label\" id=\"edge-label-edge-/layer2/layer2.0/Add_output_0\" transform=\"translate(6323.1171875,133)\" style=\"opacity: 1; font-family: -apple-system, BlinkMacSystemFont, &quot;Segoe WPC&quot;, &quot;Segoe UI&quot;, Ubuntu, &quot;Droid Sans&quot;, sans-serif, &quot;PingFang SC&quot;; font-size: 10px;\"><tspan xml:space=\"preserve\" dy=\"1em\" x=\"1\">/layer2/layer2.0/Add_output_0</tspan></text><text class=\"edge-label\" id=\"edge-label-edge-/layer2/layer2.0/Relu_1_output_0\" transform=\"translate(6604.3681640625,171.25)\" style=\"opacity: 1; font-family: -apple-system, BlinkMacSystemFont, &quot;Segoe WPC&quot;, &quot;Segoe UI&quot;, Ubuntu, &quot;Droid Sans&quot;, sans-serif, &quot;PingFang SC&quot;; font-size: 10px;\"><tspan xml:space=\"preserve\" dy=\"1em\" x=\"1\">/layer2/layer2.0/Relu_1_output_0</tspan></text><text class=\"edge-label\" id=\"edge-label-edge-/layer2/layer2.0/Relu_1_output_0\" transform=\"translate(7103.23974609375,94.75)\" style=\"opacity: 1; font-family: -apple-system, BlinkMacSystemFont, &quot;Segoe WPC&quot;, &quot;Segoe UI&quot;, Ubuntu, &quot;Droid Sans&quot;, sans-serif, &quot;PingFang SC&quot;; font-size: 10px;\"><tspan xml:space=\"preserve\" dy=\"1em\" x=\"1\">/layer2/layer2.0/Relu_1_output_0</tspan></text><text class=\"edge-label\" id=\"edge-label-edge-/layer2/layer2.1/conv1/Conv_output_0\" transform=\"translate(6923.25146484375,171.25)\" style=\"opacity: 1; font-family: -apple-system, BlinkMacSystemFont, &quot;Segoe WPC&quot;, &quot;Segoe UI&quot;, Ubuntu, &quot;Droid Sans&quot;, sans-serif, &quot;PingFang SC&quot;; font-size: 10px;\"><tspan xml:space=\"preserve\" dy=\"1em\" x=\"1\">/layer2/layer2.1/conv1/Conv_output_0</tspan></text><text class=\"edge-label\" id=\"edge-label-edge-/layer2/layer2.1/Relu_output_0\" transform=\"translate(7259.05322265625,171.25)\" style=\"opacity: 1; font-family: -apple-system, BlinkMacSystemFont, &quot;Segoe WPC&quot;, &quot;Segoe UI&quot;, Ubuntu, &quot;Droid Sans&quot;, sans-serif, &quot;PingFang SC&quot;; font-size: 10px;\"><tspan xml:space=\"preserve\" dy=\"1em\" x=\"1\">/layer2/layer2.1/Relu_output_0</tspan></text><text class=\"edge-label\" id=\"edge-label-edge-/layer2/layer2.1/conv2/Conv_output_0\" transform=\"translate(7568.3955078125,171.25)\" style=\"opacity: 1; font-family: -apple-system, BlinkMacSystemFont, &quot;Segoe WPC&quot;, &quot;Segoe UI&quot;, Ubuntu, &quot;Droid Sans&quot;, sans-serif, &quot;PingFang SC&quot;; font-size: 10px;\"><tspan xml:space=\"preserve\" dy=\"1em\" x=\"1\">/layer2/layer2.1/conv2/Conv_output_0</tspan></text><text class=\"edge-label\" id=\"edge-label-edge-/layer2/layer2.1/Add_output_0\" transform=\"translate(7872.7900390625,133)\" style=\"opacity: 1; font-family: -apple-system, BlinkMacSystemFont, &quot;Segoe WPC&quot;, &quot;Segoe UI&quot;, Ubuntu, &quot;Droid Sans&quot;, sans-serif, &quot;PingFang SC&quot;; font-size: 10px;\"><tspan xml:space=\"preserve\" dy=\"1em\" x=\"1\">/layer2/layer2.1/Add_output_0</tspan></text><text class=\"edge-label\" id=\"edge-label-edge-/layer2/layer2.1/Relu_1_output_0\" transform=\"translate(8154.041015625,171.25)\" style=\"opacity: 1; font-family: -apple-system, BlinkMacSystemFont, &quot;Segoe WPC&quot;, &quot;Segoe UI&quot;, Ubuntu, &quot;Droid Sans&quot;, sans-serif, &quot;PingFang SC&quot;; font-size: 10px;\"><tspan xml:space=\"preserve\" dy=\"1em\" x=\"1\">/layer2/layer2.1/Relu_1_output_0</tspan></text><text class=\"edge-label\" id=\"edge-label-edge-/layer2/layer2.1/Relu_1_output_0\" transform=\"translate(8652.91259765625,94.75)\" style=\"opacity: 1; font-family: -apple-system, BlinkMacSystemFont, &quot;Segoe WPC&quot;, &quot;Segoe UI&quot;, Ubuntu, &quot;Droid Sans&quot;, sans-serif, &quot;PingFang SC&quot;; font-size: 10px;\"><tspan xml:space=\"preserve\" dy=\"1em\" x=\"1\">/layer2/layer2.1/Relu_1_output_0</tspan></text><text class=\"edge-label\" id=\"edge-label-edge-/layer2/layer2.2/conv1/Conv_output_0\" transform=\"translate(8472.92431640625,171.25)\" style=\"opacity: 1; font-family: -apple-system, BlinkMacSystemFont, &quot;Segoe WPC&quot;, &quot;Segoe UI&quot;, Ubuntu, &quot;Droid Sans&quot;, sans-serif, &quot;PingFang SC&quot;; font-size: 10px;\"><tspan xml:space=\"preserve\" dy=\"1em\" x=\"1\">/layer2/layer2.2/conv1/Conv_output_0</tspan></text><text class=\"edge-label\" id=\"edge-label-edge-/layer2/layer2.2/Relu_output_0\" transform=\"translate(8808.72607421875,171.25)\" style=\"opacity: 1; font-family: -apple-system, BlinkMacSystemFont, &quot;Segoe WPC&quot;, &quot;Segoe UI&quot;, Ubuntu, &quot;Droid Sans&quot;, sans-serif, &quot;PingFang SC&quot;; font-size: 10px;\"><tspan xml:space=\"preserve\" dy=\"1em\" x=\"1\">/layer2/layer2.2/Relu_output_0</tspan></text><text class=\"edge-label\" id=\"edge-label-edge-/layer2/layer2.2/conv2/Conv_output_0\" transform=\"translate(9118.068359375,171.25)\" style=\"opacity: 1; font-family: -apple-system, BlinkMacSystemFont, &quot;Segoe WPC&quot;, &quot;Segoe UI&quot;, Ubuntu, &quot;Droid Sans&quot;, sans-serif, &quot;PingFang SC&quot;; font-size: 10px;\"><tspan xml:space=\"preserve\" dy=\"1em\" x=\"1\">/layer2/layer2.2/conv2/Conv_output_0</tspan></text><text class=\"edge-label\" id=\"edge-label-edge-/layer2/layer2.2/Add_output_0\" transform=\"translate(9422.462890625,133)\" style=\"opacity: 1; font-family: -apple-system, BlinkMacSystemFont, &quot;Segoe WPC&quot;, &quot;Segoe UI&quot;, Ubuntu, &quot;Droid Sans&quot;, sans-serif, &quot;PingFang SC&quot;; font-size: 10px;\"><tspan xml:space=\"preserve\" dy=\"1em\" x=\"1\">/layer2/layer2.2/Add_output_0</tspan></text><text class=\"edge-label\" id=\"edge-label-edge-/layer2/layer2.2/Relu_1_output_0\" transform=\"translate(9703.7138671875,66.5)\" style=\"opacity: 1; font-family: -apple-system, BlinkMacSystemFont, &quot;Segoe WPC&quot;, &quot;Segoe UI&quot;, Ubuntu, &quot;Droid Sans&quot;, sans-serif, &quot;PingFang SC&quot;; font-size: 10px;\"><tspan xml:space=\"preserve\" dy=\"1em\" x=\"1\">/layer2/layer2.2/Relu_1_output_0</tspan></text><text class=\"edge-label\" id=\"edge-label-edge-/layer2/layer2.2/Relu_1_output_0\" transform=\"translate(10034.6845703125,199.5)\" style=\"opacity: 1; font-family: -apple-system, BlinkMacSystemFont, &quot;Segoe WPC&quot;, &quot;Segoe UI&quot;, Ubuntu, &quot;Droid Sans&quot;, sans-serif, &quot;PingFang SC&quot;; font-size: 10px;\"><tspan xml:space=\"preserve\" dy=\"1em\" x=\"1\">/layer2/layer2.2/Relu_1_output_0</tspan></text><text class=\"edge-label\" id=\"edge-label-edge-/layer3/layer3.0/conv1/Conv_output_0\" transform=\"translate(10022.59716796875,66.5)\" style=\"opacity: 1; font-family: -apple-system, BlinkMacSystemFont, &quot;Segoe WPC&quot;, &quot;Segoe UI&quot;, Ubuntu, &quot;Droid Sans&quot;, sans-serif, &quot;PingFang SC&quot;; font-size: 10px;\"><tspan xml:space=\"preserve\" dy=\"1em\" x=\"1\">/layer3/layer3.0/conv1/Conv_output_0</tspan></text><text class=\"edge-label\" id=\"edge-label-edge-/layer3/layer3.0/Relu_output_0\" transform=\"translate(10327.85107421875,66.5)\" style=\"opacity: 1; font-family: -apple-system, BlinkMacSystemFont, &quot;Segoe WPC&quot;, &quot;Segoe UI&quot;, Ubuntu, &quot;Droid Sans&quot;, sans-serif, &quot;PingFang SC&quot;; font-size: 10px;\"><tspan xml:space=\"preserve\" dy=\"1em\" x=\"1\">/layer3/layer3.0/Relu_output_0</tspan></text><text class=\"edge-label\" id=\"edge-label-edge-/layer3/layer3.0/conv2/Conv_output_0\" transform=\"translate(10729.552734375,66.5)\" style=\"opacity: 1; font-family: -apple-system, BlinkMacSystemFont, &quot;Segoe WPC&quot;, &quot;Segoe UI&quot;, Ubuntu, &quot;Droid Sans&quot;, sans-serif, &quot;PingFang SC&quot;; font-size: 10px;\"><tspan xml:space=\"preserve\" dy=\"1em\" x=\"1\">/layer3/layer3.0/conv2/Conv_output_0</tspan></text><text class=\"edge-label\" id=\"edge-label-edge-/layer3/layer3.0/shortcut/shortcut.0/Conv_output_0\" transform=\"translate(10700.6904296875,199.5)\" style=\"opacity: 1; font-family: -apple-system, BlinkMacSystemFont, &quot;Segoe WPC&quot;, &quot;Segoe UI&quot;, Ubuntu, &quot;Droid Sans&quot;, sans-serif, &quot;PingFang SC&quot;; font-size: 10px;\"><tspan xml:space=\"preserve\" dy=\"1em\" x=\"1\">/layer3/layer3.0/shortcut/shortcut.0/Conv_output_0</tspan></text><text class=\"edge-label\" id=\"edge-label-edge-/layer3/layer3.0/Add_output_0\" transform=\"translate(11062.8095703125,133)\" style=\"opacity: 1; font-family: -apple-system, BlinkMacSystemFont, &quot;Segoe WPC&quot;, &quot;Segoe UI&quot;, Ubuntu, &quot;Droid Sans&quot;, sans-serif, &quot;PingFang SC&quot;; font-size: 10px;\"><tspan xml:space=\"preserve\" dy=\"1em\" x=\"1\">/layer3/layer3.0/Add_output_0</tspan></text><text class=\"edge-label\" id=\"edge-label-edge-/layer3/layer3.0/Relu_1_output_0\" transform=\"translate(11344.060546875,171.25)\" style=\"opacity: 1; font-family: -apple-system, BlinkMacSystemFont, &quot;Segoe WPC&quot;, &quot;Segoe UI&quot;, Ubuntu, &quot;Droid Sans&quot;, sans-serif, &quot;PingFang SC&quot;; font-size: 10px;\"><tspan xml:space=\"preserve\" dy=\"1em\" x=\"1\">/layer3/layer3.0/Relu_1_output_0</tspan></text><text class=\"edge-label\" id=\"edge-label-edge-/layer3/layer3.0/Relu_1_output_0\" transform=\"translate(11842.93212890625,94.75)\" style=\"opacity: 1; font-family: -apple-system, BlinkMacSystemFont, &quot;Segoe WPC&quot;, &quot;Segoe UI&quot;, Ubuntu, &quot;Droid Sans&quot;, sans-serif, &quot;PingFang SC&quot;; font-size: 10px;\"><tspan xml:space=\"preserve\" dy=\"1em\" x=\"1\">/layer3/layer3.0/Relu_1_output_0</tspan></text><text class=\"edge-label\" id=\"edge-label-edge-/layer3/layer3.1/conv1/Conv_output_0\" transform=\"translate(11662.94384765625,171.25)\" style=\"opacity: 1; font-family: -apple-system, BlinkMacSystemFont, &quot;Segoe WPC&quot;, &quot;Segoe UI&quot;, Ubuntu, &quot;Droid Sans&quot;, sans-serif, &quot;PingFang SC&quot;; font-size: 10px;\"><tspan xml:space=\"preserve\" dy=\"1em\" x=\"1\">/layer3/layer3.1/conv1/Conv_output_0</tspan></text><text class=\"edge-label\" id=\"edge-label-edge-/layer3/layer3.1/Relu_output_0\" transform=\"translate(11998.74560546875,171.25)\" style=\"opacity: 1; font-family: -apple-system, BlinkMacSystemFont, &quot;Segoe WPC&quot;, &quot;Segoe UI&quot;, Ubuntu, &quot;Droid Sans&quot;, sans-serif, &quot;PingFang SC&quot;; font-size: 10px;\"><tspan xml:space=\"preserve\" dy=\"1em\" x=\"1\">/layer3/layer3.1/Relu_output_0</tspan></text><text class=\"edge-label\" id=\"edge-label-edge-/layer3/layer3.1/conv2/Conv_output_0\" transform=\"translate(12308.087890625,171.25)\" style=\"opacity: 1; font-family: -apple-system, BlinkMacSystemFont, &quot;Segoe WPC&quot;, &quot;Segoe UI&quot;, Ubuntu, &quot;Droid Sans&quot;, sans-serif, &quot;PingFang SC&quot;; font-size: 10px;\"><tspan xml:space=\"preserve\" dy=\"1em\" x=\"1\">/layer3/layer3.1/conv2/Conv_output_0</tspan></text><text class=\"edge-label\" id=\"edge-label-edge-/layer3/layer3.1/Add_output_0\" transform=\"translate(12612.482421875,133)\" style=\"opacity: 1; font-family: -apple-system, BlinkMacSystemFont, &quot;Segoe WPC&quot;, &quot;Segoe UI&quot;, Ubuntu, &quot;Droid Sans&quot;, sans-serif, &quot;PingFang SC&quot;; font-size: 10px;\"><tspan xml:space=\"preserve\" dy=\"1em\" x=\"1\">/layer3/layer3.1/Add_output_0</tspan></text><text class=\"edge-label\" id=\"edge-label-edge-/layer3/layer3.1/Relu_1_output_0\" transform=\"translate(12893.7333984375,66.5)\" style=\"opacity: 1; font-family: -apple-system, BlinkMacSystemFont, &quot;Segoe WPC&quot;, &quot;Segoe UI&quot;, Ubuntu, &quot;Droid Sans&quot;, sans-serif, &quot;PingFang SC&quot;; font-size: 10px;\"><tspan xml:space=\"preserve\" dy=\"1em\" x=\"1\">/layer3/layer3.1/Relu_1_output_0</tspan></text><text class=\"edge-label\" id=\"edge-label-edge-/layer3/layer3.1/Relu_1_output_0\" transform=\"translate(13224.7041015625,199.5)\" style=\"opacity: 1; font-family: -apple-system, BlinkMacSystemFont, &quot;Segoe WPC&quot;, &quot;Segoe UI&quot;, Ubuntu, &quot;Droid Sans&quot;, sans-serif, &quot;PingFang SC&quot;; font-size: 10px;\"><tspan xml:space=\"preserve\" dy=\"1em\" x=\"1\">/layer3/layer3.1/Relu_1_output_0</tspan></text><text class=\"edge-label\" id=\"edge-label-edge-/layer4/layer4.0/conv1/Conv_output_0\" transform=\"translate(13212.61669921875,66.5)\" style=\"opacity: 1; font-family: -apple-system, BlinkMacSystemFont, &quot;Segoe WPC&quot;, &quot;Segoe UI&quot;, Ubuntu, &quot;Droid Sans&quot;, sans-serif, &quot;PingFang SC&quot;; font-size: 10px;\"><tspan xml:space=\"preserve\" dy=\"1em\" x=\"1\">/layer4/layer4.0/conv1/Conv_output_0</tspan></text><text class=\"edge-label\" id=\"edge-label-edge-/layer4/layer4.0/Relu_output_0\" transform=\"translate(13517.87060546875,66.5)\" style=\"opacity: 1; font-family: -apple-system, BlinkMacSystemFont, &quot;Segoe WPC&quot;, &quot;Segoe UI&quot;, Ubuntu, &quot;Droid Sans&quot;, sans-serif, &quot;PingFang SC&quot;; font-size: 10px;\"><tspan xml:space=\"preserve\" dy=\"1em\" x=\"1\">/layer4/layer4.0/Relu_output_0</tspan></text><text class=\"edge-label\" id=\"edge-label-edge-/layer4/layer4.0/conv2/Conv_output_0\" transform=\"translate(13919.572265625,66.5)\" style=\"opacity: 1; font-family: -apple-system, BlinkMacSystemFont, &quot;Segoe WPC&quot;, &quot;Segoe UI&quot;, Ubuntu, &quot;Droid Sans&quot;, sans-serif, &quot;PingFang SC&quot;; font-size: 10px;\"><tspan xml:space=\"preserve\" dy=\"1em\" x=\"1\">/layer4/layer4.0/conv2/Conv_output_0</tspan></text><text class=\"edge-label\" id=\"edge-label-edge-/layer4/layer4.0/shortcut/shortcut.0/Conv_output_0\" transform=\"translate(13890.7099609375,199.5)\" style=\"opacity: 1; font-family: -apple-system, BlinkMacSystemFont, &quot;Segoe WPC&quot;, &quot;Segoe UI&quot;, Ubuntu, &quot;Droid Sans&quot;, sans-serif, &quot;PingFang SC&quot;; font-size: 10px;\"><tspan xml:space=\"preserve\" dy=\"1em\" x=\"1\">/layer4/layer4.0/shortcut/shortcut.0/Conv_output_0</tspan></text><text class=\"edge-label\" id=\"edge-label-edge-/layer4/layer4.0/Add_output_0\" transform=\"translate(14252.8291015625,133)\" style=\"opacity: 1; font-family: -apple-system, BlinkMacSystemFont, &quot;Segoe WPC&quot;, &quot;Segoe UI&quot;, Ubuntu, &quot;Droid Sans&quot;, sans-serif, &quot;PingFang SC&quot;; font-size: 10px;\"><tspan xml:space=\"preserve\" dy=\"1em\" x=\"1\">/layer4/layer4.0/Add_output_0</tspan></text><text class=\"edge-label\" id=\"edge-label-edge-/layer4/layer4.0/Relu_1_output_0\" transform=\"translate(14534.080078125,171.25)\" style=\"opacity: 1; font-family: -apple-system, BlinkMacSystemFont, &quot;Segoe WPC&quot;, &quot;Segoe UI&quot;, Ubuntu, &quot;Droid Sans&quot;, sans-serif, &quot;PingFang SC&quot;; font-size: 10px;\"><tspan xml:space=\"preserve\" dy=\"1em\" x=\"1\">/layer4/layer4.0/Relu_1_output_0</tspan></text><text class=\"edge-label\" id=\"edge-label-edge-/layer4/layer4.0/Relu_1_output_0\" transform=\"translate(15032.95166015625,94.75)\" style=\"opacity: 1; font-family: -apple-system, BlinkMacSystemFont, &quot;Segoe WPC&quot;, &quot;Segoe UI&quot;, Ubuntu, &quot;Droid Sans&quot;, sans-serif, &quot;PingFang SC&quot;; font-size: 10px;\"><tspan xml:space=\"preserve\" dy=\"1em\" x=\"1\">/layer4/layer4.0/Relu_1_output_0</tspan></text><text class=\"edge-label\" id=\"edge-label-edge-/layer4/layer4.1/conv1/Conv_output_0\" transform=\"translate(14852.96337890625,171.25)\" style=\"opacity: 1; font-family: -apple-system, BlinkMacSystemFont, &quot;Segoe WPC&quot;, &quot;Segoe UI&quot;, Ubuntu, &quot;Droid Sans&quot;, sans-serif, &quot;PingFang SC&quot;; font-size: 10px;\"><tspan xml:space=\"preserve\" dy=\"1em\" x=\"1\">/layer4/layer4.1/conv1/Conv_output_0</tspan></text><text class=\"edge-label\" id=\"edge-label-edge-/layer4/layer4.1/Relu_output_0\" transform=\"translate(15188.76513671875,171.25)\" style=\"opacity: 1; font-family: -apple-system, BlinkMacSystemFont, &quot;Segoe WPC&quot;, &quot;Segoe UI&quot;, Ubuntu, &quot;Droid Sans&quot;, sans-serif, &quot;PingFang SC&quot;; font-size: 10px;\"><tspan xml:space=\"preserve\" dy=\"1em\" x=\"1\">/layer4/layer4.1/Relu_output_0</tspan></text><text class=\"edge-label\" id=\"edge-label-edge-/layer4/layer4.1/conv2/Conv_output_0\" transform=\"translate(15498.107421875,171.25)\" style=\"opacity: 1; font-family: -apple-system, BlinkMacSystemFont, &quot;Segoe WPC&quot;, &quot;Segoe UI&quot;, Ubuntu, &quot;Droid Sans&quot;, sans-serif, &quot;PingFang SC&quot;; font-size: 10px;\"><tspan xml:space=\"preserve\" dy=\"1em\" x=\"1\">/layer4/layer4.1/conv2/Conv_output_0</tspan></text><text class=\"edge-label\" id=\"edge-label-edge-/layer4/layer4.1/Add_output_0\" transform=\"translate(15802.501953125,133)\" style=\"opacity: 1; font-family: -apple-system, BlinkMacSystemFont, &quot;Segoe WPC&quot;, &quot;Segoe UI&quot;, Ubuntu, &quot;Droid Sans&quot;, sans-serif, &quot;PingFang SC&quot;; font-size: 10px;\"><tspan xml:space=\"preserve\" dy=\"1em\" x=\"1\">/layer4/layer4.1/Add_output_0</tspan></text><text class=\"edge-label\" id=\"edge-label-edge-/layer4/layer4.1/Relu_1_output_0\" transform=\"translate(16083.7529296875,171.25)\" style=\"opacity: 1; font-family: -apple-system, BlinkMacSystemFont, &quot;Segoe WPC&quot;, &quot;Segoe UI&quot;, Ubuntu, &quot;Droid Sans&quot;, sans-serif, &quot;PingFang SC&quot;; font-size: 10px;\"><tspan xml:space=\"preserve\" dy=\"1em\" x=\"1\">/layer4/layer4.1/Relu_1_output_0</tspan></text><text class=\"edge-label\" id=\"edge-label-edge-/layer4/layer4.1/Relu_1_output_0\" transform=\"translate(16582.62451171875,94.75)\" style=\"opacity: 1; font-family: -apple-system, BlinkMacSystemFont, &quot;Segoe WPC&quot;, &quot;Segoe UI&quot;, Ubuntu, &quot;Droid Sans&quot;, sans-serif, &quot;PingFang SC&quot;; font-size: 10px;\"><tspan xml:space=\"preserve\" dy=\"1em\" x=\"1\">/layer4/layer4.1/Relu_1_output_0</tspan></text><text class=\"edge-label\" id=\"edge-label-edge-/layer4/layer4.2/conv1/Conv_output_0\" transform=\"translate(16402.63623046875,171.25)\" style=\"opacity: 1; font-family: -apple-system, BlinkMacSystemFont, &quot;Segoe WPC&quot;, &quot;Segoe UI&quot;, Ubuntu, &quot;Droid Sans&quot;, sans-serif, &quot;PingFang SC&quot;; font-size: 10px;\"><tspan xml:space=\"preserve\" dy=\"1em\" x=\"1\">/layer4/layer4.2/conv1/Conv_output_0</tspan></text><text class=\"edge-label\" id=\"edge-label-edge-/layer4/layer4.2/Relu_output_0\" transform=\"translate(16738.43798828125,171.25)\" style=\"opacity: 1; font-family: -apple-system, BlinkMacSystemFont, &quot;Segoe WPC&quot;, &quot;Segoe UI&quot;, Ubuntu, &quot;Droid Sans&quot;, sans-serif, &quot;PingFang SC&quot;; font-size: 10px;\"><tspan xml:space=\"preserve\" dy=\"1em\" x=\"1\">/layer4/layer4.2/Relu_output_0</tspan></text><text class=\"edge-label\" id=\"edge-label-edge-/layer4/layer4.2/conv2/Conv_output_0\" transform=\"translate(17047.7802734375,171.25)\" style=\"opacity: 1; font-family: -apple-system, BlinkMacSystemFont, &quot;Segoe WPC&quot;, &quot;Segoe UI&quot;, Ubuntu, &quot;Droid Sans&quot;, sans-serif, &quot;PingFang SC&quot;; font-size: 10px;\"><tspan xml:space=\"preserve\" dy=\"1em\" x=\"1\">/layer4/layer4.2/conv2/Conv_output_0</tspan></text><text class=\"edge-label\" id=\"edge-label-edge-/layer4/layer4.2/Add_output_0\" transform=\"translate(17352.1748046875,133)\" style=\"opacity: 1; font-family: -apple-system, BlinkMacSystemFont, &quot;Segoe WPC&quot;, &quot;Segoe UI&quot;, Ubuntu, &quot;Droid Sans&quot;, sans-serif, &quot;PingFang SC&quot;; font-size: 10px;\"><tspan xml:space=\"preserve\" dy=\"1em\" x=\"1\">/layer4/layer4.2/Add_output_0</tspan></text><text class=\"edge-label\" id=\"edge-label-edge-/layer4/layer4.2/Relu_1_output_0\" transform=\"translate(17633.42578125,133)\" style=\"opacity: 1; font-family: -apple-system, BlinkMacSystemFont, &quot;Segoe WPC&quot;, &quot;Segoe UI&quot;, Ubuntu, &quot;Droid Sans&quot;, sans-serif, &quot;PingFang SC&quot;; font-size: 10px;\"><tspan xml:space=\"preserve\" dy=\"1em\" x=\"1\">/layer4/layer4.2/Relu_1_output_0</tspan></text><text class=\"edge-label\" id=\"edge-label-edge-/Pad_output_0\" transform=\"translate(17911.203132629395,133)\" style=\"opacity: 1; font-family: -apple-system, BlinkMacSystemFont, &quot;Segoe WPC&quot;, &quot;Segoe UI&quot;, Ubuntu, &quot;Droid Sans&quot;, sans-serif, &quot;PingFang SC&quot;; font-size: 10px;\"><tspan xml:space=\"preserve\" dy=\"1em\" x=\"1\">/Pad_output_0</tspan></text><text class=\"edge-label\" id=\"edge-label-edge-/AveragePool_output_0\" transform=\"translate(18085.340827941895,133)\" style=\"opacity: 1; font-family: -apple-system, BlinkMacSystemFont, &quot;Segoe WPC&quot;, &quot;Segoe UI&quot;, Ubuntu, &quot;Droid Sans&quot;, sans-serif, &quot;PingFang SC&quot;; font-size: 10px;\"><tspan xml:space=\"preserve\" dy=\"1em\" x=\"1\">/AveragePool_output_0</tspan></text><text class=\"edge-label\" id=\"edge-label-edge-/Reshape_output_0\" transform=\"translate(18284.699226379395,133)\" style=\"opacity: 1; font-family: -apple-system, BlinkMacSystemFont, &quot;Segoe WPC&quot;, &quot;Segoe UI&quot;, Ubuntu, &quot;Droid Sans&quot;, sans-serif, &quot;PingFang SC&quot;; font-size: 10px;\"><tspan xml:space=\"preserve\" dy=\"1em\" x=\"1\">/Reshape_output_0</tspan></text><text class=\"edge-label\" id=\"edge-label-edge-modelOutput\" transform=\"translate(18473.293952941895,133)\" style=\"opacity: 1; font-family: -apple-system, BlinkMacSystemFont, &quot;Segoe WPC&quot;, &quot;Segoe UI&quot;, Ubuntu, &quot;Droid Sans&quot;, sans-serif, &quot;PingFang SC&quot;; font-size: 10px;\"><tspan xml:space=\"preserve\" dy=\"1em\" x=\"1\">modelOutput</tspan></text></g><g id=\"nodes\" class=\"nodes\"><g id=\"input-name-modelInput\" class=\"node graph-input\" transform=\"translate(0,111.5)\" style=\"opacity: 1;\"><g class=\"node-item graph-item-input\" transform=\"translate(0,0)\"><path d=\"M5,0h60.658203125a5,5 0 0 1 5,5v13a5,5 0 0 1 -5,5h-60.658203125a5,5 0 0 1 -5,-5v-13a5,5 0 0 1 5,-5z\" style=\"stroke: rgb(0, 0, 0); fill: rgb(238, 238, 238); stroke-width: 0;\"/><text x=\"6\" y=\"16\" style=\"font-family: -apple-system, BlinkMacSystemFont, &quot;Segoe WPC&quot;, &quot;Segoe UI&quot;, Ubuntu, &quot;Droid Sans&quot;, sans-serif, &quot;PingFang SC&quot;; font-size: 11px; text-rendering: geometricprecision;\">modelInput</text><title>float32[4,3,32,32]</title></g><path class=\"node border\" d=\"M5,0h60.658203125a5,5 0 0 1 5,5v13a5,5 0 0 1 -5,5h-60.658203125a5,5 0 0 1 -5,-5v-13a5,5 0 0 1 5,-5z\" style=\"stroke: rgb(51, 51, 51); fill: none; stroke-width: 1px;\"/></g><g id=\"node-name-/conv1/Conv\" class=\"node graph-node\" transform=\"translate(162.529296875,66.5)\" style=\"opacity: 1;\"><g class=\"node-item node-item-type node-item-type-layer\" transform=\"translate(0,0)\"><path d=\"M5,0h78.87109375a5,5 0 0 1 5,5v18a0,0 0 0 1 0,0h-88.87109375a0,0 0 0 1 0,0v-18a5,5 0 0 1 5,-5z\" style=\"stroke: rgb(0, 0, 0); fill: rgb(51, 85, 136); stroke-width: 0;\"/><text x=\"6\" y=\"16\" style=\"font-family: -apple-system, BlinkMacSystemFont, &quot;Segoe WPC&quot;, &quot;Segoe UI&quot;, Ubuntu, &quot;Droid Sans&quot;, sans-serif, &quot;PingFang SC&quot;; font-size: 11px; text-rendering: geometricprecision; fill: rgb(255, 255, 255);\">/conv1/Conv</text><title>Conv</title></g><g class=\"node-attribute\" transform=\"translate(0,23)\"><path d=\"M0,0h88.87109375a0,0 0 0 1 0,0v85a5,5 0 0 1 -5,5h-78.87109375a5,5 0 0 1 -5,-5v-85a0,0 0 0 1 0,0z\" style=\"stroke: rgb(0, 0, 0); fill: rgb(255, 255, 255); stroke-width: 0;\"/><text id=\"initializer-onnx::Conv_255\" xml:space=\"preserve\" x=\"6\" y=\"14\" style=\"font-family: -apple-system, BlinkMacSystemFont, &quot;Segoe WPC&quot;, &quot;Segoe UI&quot;, Ubuntu, &quot;Droid Sans&quot;, sans-serif, &quot;PingFang SC&quot;; font-size: 9px; font-weight: normal; text-rendering: geometricprecision;\"><title>float32[64,3,3,3]</title><tspan style=\"font-weight: bold;\">W</tspan><tspan>〈64×3×3×3〉</tspan></text><text id=\"initializer-onnx::Conv_256\" xml:space=\"preserve\" x=\"6\" y=\"28\" style=\"font-family: -apple-system, BlinkMacSystemFont, &quot;Segoe WPC&quot;, &quot;Segoe UI&quot;, Ubuntu, &quot;Droid Sans&quot;, sans-serif, &quot;PingFang SC&quot;; font-size: 9px; font-weight: normal; text-rendering: geometricprecision;\"><title>float32[64]</title><tspan style=\"font-weight: bold;\">B</tspan><tspan>〈64〉</tspan></text><text xml:space=\"preserve\" x=\"6\" y=\"42\" style=\"font-family: -apple-system, BlinkMacSystemFont, &quot;Segoe WPC&quot;, &quot;Segoe UI&quot;, Ubuntu, &quot;Droid Sans&quot;, sans-serif, &quot;PingFang SC&quot;; font-size: 9px; font-weight: normal; text-rendering: geometricprecision;\"><title>int64[]</title><tspan>dilations</tspan><tspan> = 1, 1</tspan></text><text xml:space=\"preserve\" x=\"6\" y=\"56\" style=\"font-family: -apple-system, BlinkMacSystemFont, &quot;Segoe WPC&quot;, &quot;Segoe UI&quot;, Ubuntu, &quot;Droid Sans&quot;, sans-serif, &quot;PingFang SC&quot;; font-size: 9px; font-weight: normal; text-rendering: geometricprecision;\"><title>int64[]</title><tspan>kernel_shape</tspan><tspan> = 3, 3</tspan></text><text xml:space=\"preserve\" x=\"6\" y=\"70\" style=\"font-family: -apple-system, BlinkMacSystemFont, &quot;Segoe WPC&quot;, &quot;Segoe UI&quot;, Ubuntu, &quot;Droid Sans&quot;, sans-serif, &quot;PingFang SC&quot;; font-size: 9px; font-weight: normal; text-rendering: geometricprecision;\"><title>int64[]</title><tspan>pads</tspan><tspan> = 1, 1, 1, 1</tspan></text><text xml:space=\"preserve\" x=\"6\" y=\"84\" style=\"font-family: -apple-system, BlinkMacSystemFont, &quot;Segoe WPC&quot;, &quot;Segoe UI&quot;, Ubuntu, &quot;Droid Sans&quot;, sans-serif, &quot;PingFang SC&quot;; font-size: 9px; font-weight: normal; text-rendering: geometricprecision;\"><title>int64[]</title><tspan>strides</tspan><tspan> = 1, 1</tspan></text><line class=\"node\" x1=\"0\" x2=\"88.87109375\" y1=\"0\" y2=\"0\" style=\"stroke: rgb(51, 51, 51); fill: none; stroke-width: 1px;\"/></g><path class=\"node border\" d=\"M5,0h78.87109375a5,5 0 0 1 5,5v103a5,5 0 0 1 -5,5h-78.87109375a5,5 0 0 1 -5,-5v-103a5,5 0 0 1 5,-5z\" style=\"stroke: rgb(51, 51, 51); fill: none; stroke-width: 1px;\"/></g><g id=\"node-name-/Relu\" class=\"node graph-node\" transform=\"translate(373.146484375,111.5)\" style=\"opacity: 1;\"><g class=\"node-item node-item-type node-item-type-activation\" transform=\"translate(0,0)\"><path d=\"M5,0h30.1875a5,5 0 0 1 5,5v13a5,5 0 0 1 -5,5h-30.1875a5,5 0 0 1 -5,-5v-13a5,5 0 0 1 5,-5z\" style=\"stroke: rgb(0, 0, 0); fill: rgb(112, 41, 33); stroke-width: 0;\"/><text x=\"6\" y=\"16\" style=\"font-family: -apple-system, BlinkMacSystemFont, &quot;Segoe WPC&quot;, &quot;Segoe UI&quot;, Ubuntu, &quot;Droid Sans&quot;, sans-serif, &quot;PingFang SC&quot;; font-size: 11px; text-rendering: geometricprecision; fill: rgb(255, 255, 255);\">/Relu</text><title>Relu</title></g><path class=\"node border\" d=\"M5,0h30.1875a5,5 0 0 1 5,5v13a5,5 0 0 1 -5,5h-30.1875a5,5 0 0 1 -5,-5v-13a5,5 0 0 1 5,-5z\" style=\"stroke: rgb(51, 51, 51); fill: none; stroke-width: 1px;\"/></g><g id=\"node-name-/layer1/layer1.0/conv1/Conv\" class=\"node graph-node\" transform=\"translate(501.3642578125,104.75)\" style=\"opacity: 1;\"><g class=\"node-item node-item-type node-item-type-layer\" transform=\"translate(0,0)\"><path d=\"M5,0h143.06982421875a5,5 0 0 1 5,5v18a0,0 0 0 1 0,0h-153.06982421875a0,0 0 0 1 0,0v-18a5,5 0 0 1 5,-5z\" style=\"stroke: rgb(0, 0, 0); fill: rgb(51, 85, 136); stroke-width: 0;\"/><text x=\"6\" y=\"16\" style=\"font-family: -apple-system, BlinkMacSystemFont, &quot;Segoe WPC&quot;, &quot;Segoe UI&quot;, Ubuntu, &quot;Droid Sans&quot;, sans-serif, &quot;PingFang SC&quot;; font-size: 11px; text-rendering: geometricprecision; fill: rgb(255, 255, 255);\">/layer1/layer1.0/conv1/Conv</text><title>Conv</title></g><g class=\"node-attribute\" transform=\"translate(0,23)\"><path d=\"M0,0h153.06982421875a0,0 0 0 1 0,0v85a5,5 0 0 1 -5,5h-143.06982421875a5,5 0 0 1 -5,-5v-85a0,0 0 0 1 0,0z\" style=\"stroke: rgb(0, 0, 0); fill: rgb(255, 255, 255); stroke-width: 0;\"/><text id=\"initializer-onnx::Conv_258\" xml:space=\"preserve\" x=\"6\" y=\"14\" style=\"font-family: -apple-system, BlinkMacSystemFont, &quot;Segoe WPC&quot;, &quot;Segoe UI&quot;, Ubuntu, &quot;Droid Sans&quot;, sans-serif, &quot;PingFang SC&quot;; font-size: 9px; font-weight: normal; text-rendering: geometricprecision;\"><title>float32[64,64,3,3]</title><tspan style=\"font-weight: bold;\">W</tspan><tspan>〈64×64×3×3〉</tspan></text><text id=\"initializer-onnx::Conv_259\" xml:space=\"preserve\" x=\"6\" y=\"28\" style=\"font-family: -apple-system, BlinkMacSystemFont, &quot;Segoe WPC&quot;, &quot;Segoe UI&quot;, Ubuntu, &quot;Droid Sans&quot;, sans-serif, &quot;PingFang SC&quot;; font-size: 9px; font-weight: normal; text-rendering: geometricprecision;\"><title>float32[64]</title><tspan style=\"font-weight: bold;\">B</tspan><tspan>〈64〉</tspan></text><text xml:space=\"preserve\" x=\"6\" y=\"42\" style=\"font-family: -apple-system, BlinkMacSystemFont, &quot;Segoe WPC&quot;, &quot;Segoe UI&quot;, Ubuntu, &quot;Droid Sans&quot;, sans-serif, &quot;PingFang SC&quot;; font-size: 9px; font-weight: normal; text-rendering: geometricprecision;\"><title>int64[]</title><tspan>dilations</tspan><tspan> = 1, 1</tspan></text><text xml:space=\"preserve\" x=\"6\" y=\"56\" style=\"font-family: -apple-system, BlinkMacSystemFont, &quot;Segoe WPC&quot;, &quot;Segoe UI&quot;, Ubuntu, &quot;Droid Sans&quot;, sans-serif, &quot;PingFang SC&quot;; font-size: 9px; font-weight: normal; text-rendering: geometricprecision;\"><title>int64[]</title><tspan>kernel_shape</tspan><tspan> = 3, 3</tspan></text><text xml:space=\"preserve\" x=\"6\" y=\"70\" style=\"font-family: -apple-system, BlinkMacSystemFont, &quot;Segoe WPC&quot;, &quot;Segoe UI&quot;, Ubuntu, &quot;Droid Sans&quot;, sans-serif, &quot;PingFang SC&quot;; font-size: 9px; font-weight: normal; text-rendering: geometricprecision;\"><title>int64[]</title><tspan>pads</tspan><tspan> = 1, 1, 1, 1</tspan></text><text xml:space=\"preserve\" x=\"6\" y=\"84\" style=\"font-family: -apple-system, BlinkMacSystemFont, &quot;Segoe WPC&quot;, &quot;Segoe UI&quot;, Ubuntu, &quot;Droid Sans&quot;, sans-serif, &quot;PingFang SC&quot;; font-size: 9px; font-weight: normal; text-rendering: geometricprecision;\"><title>int64[]</title><tspan>strides</tspan><tspan> = 1, 1</tspan></text><line class=\"node\" x1=\"0\" x2=\"153.06982421875\" y1=\"0\" y2=\"0\" style=\"stroke: rgb(51, 51, 51); fill: none; stroke-width: 1px;\"/></g><path class=\"node border\" d=\"M5,0h143.06982421875a5,5 0 0 1 5,5v103a5,5 0 0 1 -5,5h-143.06982421875a5,5 0 0 1 -5,-5v-103a5,5 0 0 1 5,-5z\" style=\"stroke: rgb(51, 51, 51); fill: none; stroke-width: 1px;\"/></g><g id=\"node-name-/layer1/layer1.0/Relu\" class=\"node graph-node\" transform=\"translate(844.42236328125,149.75)\" style=\"opacity: 1;\"><g class=\"node-item node-item-type node-item-type-activation\" transform=\"translate(0,0)\"><path d=\"M5,0h105.265625a5,5 0 0 1 5,5v13a5,5 0 0 1 -5,5h-105.265625a5,5 0 0 1 -5,-5v-13a5,5 0 0 1 5,-5z\" style=\"stroke: rgb(0, 0, 0); fill: rgb(112, 41, 33); stroke-width: 0;\"/><text x=\"6\" y=\"16\" style=\"font-family: -apple-system, BlinkMacSystemFont, &quot;Segoe WPC&quot;, &quot;Segoe UI&quot;, Ubuntu, &quot;Droid Sans&quot;, sans-serif, &quot;PingFang SC&quot;; font-size: 11px; text-rendering: geometricprecision; fill: rgb(255, 255, 255);\">/layer1/layer1.0/Relu</text><title>Relu</title></g><path class=\"node border\" d=\"M5,0h105.265625a5,5 0 0 1 5,5v13a5,5 0 0 1 -5,5h-105.265625a5,5 0 0 1 -5,-5v-13a5,5 0 0 1 5,-5z\" style=\"stroke: rgb(51, 51, 51); fill: none; stroke-width: 1px;\"/></g><g id=\"node-name-/layer1/layer1.0/conv2/Conv\" class=\"node graph-node\" transform=\"translate(1115.96044921875,104.75)\" style=\"opacity: 1;\"><g class=\"node-item node-item-type node-item-type-layer\" transform=\"translate(0,0)\"><path d=\"M5,0h143.06982421875a5,5 0 0 1 5,5v18a0,0 0 0 1 0,0h-153.06982421875a0,0 0 0 1 0,0v-18a5,5 0 0 1 5,-5z\" style=\"stroke: rgb(0, 0, 0); fill: rgb(51, 85, 136); stroke-width: 0;\"/><text x=\"6\" y=\"16\" style=\"font-family: -apple-system, BlinkMacSystemFont, &quot;Segoe WPC&quot;, &quot;Segoe UI&quot;, Ubuntu, &quot;Droid Sans&quot;, sans-serif, &quot;PingFang SC&quot;; font-size: 11px; text-rendering: geometricprecision; fill: rgb(255, 255, 255);\">/layer1/layer1.0/conv2/Conv</text><title>Conv</title></g><g class=\"node-attribute\" transform=\"translate(0,23)\"><path d=\"M0,0h153.06982421875a0,0 0 0 1 0,0v85a5,5 0 0 1 -5,5h-143.06982421875a5,5 0 0 1 -5,-5v-85a0,0 0 0 1 0,0z\" style=\"stroke: rgb(0, 0, 0); fill: rgb(255, 255, 255); stroke-width: 0;\"/><text id=\"initializer-onnx::Conv_261\" xml:space=\"preserve\" x=\"6\" y=\"14\" style=\"font-family: -apple-system, BlinkMacSystemFont, &quot;Segoe WPC&quot;, &quot;Segoe UI&quot;, Ubuntu, &quot;Droid Sans&quot;, sans-serif, &quot;PingFang SC&quot;; font-size: 9px; font-weight: normal; text-rendering: geometricprecision;\"><title>float32[64,64,3,3]</title><tspan style=\"font-weight: bold;\">W</tspan><tspan>〈64×64×3×3〉</tspan></text><text id=\"initializer-onnx::Conv_262\" xml:space=\"preserve\" x=\"6\" y=\"28\" style=\"font-family: -apple-system, BlinkMacSystemFont, &quot;Segoe WPC&quot;, &quot;Segoe UI&quot;, Ubuntu, &quot;Droid Sans&quot;, sans-serif, &quot;PingFang SC&quot;; font-size: 9px; font-weight: normal; text-rendering: geometricprecision;\"><title>float32[64]</title><tspan style=\"font-weight: bold;\">B</tspan><tspan>〈64〉</tspan></text><text xml:space=\"preserve\" x=\"6\" y=\"42\" style=\"font-family: -apple-system, BlinkMacSystemFont, &quot;Segoe WPC&quot;, &quot;Segoe UI&quot;, Ubuntu, &quot;Droid Sans&quot;, sans-serif, &quot;PingFang SC&quot;; font-size: 9px; font-weight: normal; text-rendering: geometricprecision;\"><title>int64[]</title><tspan>dilations</tspan><tspan> = 1, 1</tspan></text><text xml:space=\"preserve\" x=\"6\" y=\"56\" style=\"font-family: -apple-system, BlinkMacSystemFont, &quot;Segoe WPC&quot;, &quot;Segoe UI&quot;, Ubuntu, &quot;Droid Sans&quot;, sans-serif, &quot;PingFang SC&quot;; font-size: 9px; font-weight: normal; text-rendering: geometricprecision;\"><title>int64[]</title><tspan>kernel_shape</tspan><tspan> = 3, 3</tspan></text><text xml:space=\"preserve\" x=\"6\" y=\"70\" style=\"font-family: -apple-system, BlinkMacSystemFont, &quot;Segoe WPC&quot;, &quot;Segoe UI&quot;, Ubuntu, &quot;Droid Sans&quot;, sans-serif, &quot;PingFang SC&quot;; font-size: 9px; font-weight: normal; text-rendering: geometricprecision;\"><title>int64[]</title><tspan>pads</tspan><tspan> = 1, 1, 1, 1</tspan></text><text xml:space=\"preserve\" x=\"6\" y=\"84\" style=\"font-family: -apple-system, BlinkMacSystemFont, &quot;Segoe WPC&quot;, &quot;Segoe UI&quot;, Ubuntu, &quot;Droid Sans&quot;, sans-serif, &quot;PingFang SC&quot;; font-size: 9px; font-weight: normal; text-rendering: geometricprecision;\"><title>int64[]</title><tspan>strides</tspan><tspan> = 1, 1</tspan></text><line class=\"node\" x1=\"0\" x2=\"153.06982421875\" y1=\"0\" y2=\"0\" style=\"stroke: rgb(51, 51, 51); fill: none; stroke-width: 1px;\"/></g><path class=\"node border\" d=\"M5,0h143.06982421875a5,5 0 0 1 5,5v103a5,5 0 0 1 -5,5h-143.06982421875a5,5 0 0 1 -5,-5v-103a5,5 0 0 1 5,-5z\" style=\"stroke: rgb(51, 51, 51); fill: none; stroke-width: 1px;\"/></g><g id=\"node-name-/layer1/layer1.0/Add\" class=\"node graph-node\" transform=\"translate(1459.0185546875,111.5)\" style=\"opacity: 1;\"><g class=\"node-item node-item-type\" transform=\"translate(0,0)\"><path d=\"M5,0h104.40625a5,5 0 0 1 5,5v13a5,5 0 0 1 -5,5h-104.40625a5,5 0 0 1 -5,-5v-13a5,5 0 0 1 5,-5z\" style=\"stroke: rgb(0, 0, 0); fill: rgb(0, 0, 0); stroke-width: 0;\"/><text x=\"6\" y=\"16\" style=\"font-family: -apple-system, BlinkMacSystemFont, &quot;Segoe WPC&quot;, &quot;Segoe UI&quot;, Ubuntu, &quot;Droid Sans&quot;, sans-serif, &quot;PingFang SC&quot;; font-size: 11px; text-rendering: geometricprecision; fill: rgb(255, 255, 255);\">/layer1/layer1.0/Add</text><title>Add</title></g><path class=\"node border\" d=\"M5,0h104.40625a5,5 0 0 1 5,5v13a5,5 0 0 1 -5,5h-104.40625a5,5 0 0 1 -5,-5v-13a5,5 0 0 1 5,-5z\" style=\"stroke: rgb(51, 51, 51); fill: none; stroke-width: 1px;\"/></g><g id=\"node-name-/layer1/layer1.0/Relu_1\" class=\"node graph-node\" transform=\"translate(1728.92578125,111.5)\" style=\"opacity: 1;\"><g class=\"node-item node-item-type node-item-type-activation\" transform=\"translate(0,0)\"><path d=\"M5,0h115.75a5,5 0 0 1 5,5v13a5,5 0 0 1 -5,5h-115.75a5,5 0 0 1 -5,-5v-13a5,5 0 0 1 5,-5z\" style=\"stroke: rgb(0, 0, 0); fill: rgb(112, 41, 33); stroke-width: 0;\"/><text x=\"6\" y=\"16\" style=\"font-family: -apple-system, BlinkMacSystemFont, &quot;Segoe WPC&quot;, &quot;Segoe UI&quot;, Ubuntu, &quot;Droid Sans&quot;, sans-serif, &quot;PingFang SC&quot;; font-size: 11px; text-rendering: geometricprecision; fill: rgb(255, 255, 255);\">/layer1/layer1.0/Relu_1</text><title>Relu</title></g><path class=\"node border\" d=\"M5,0h115.75a5,5 0 0 1 5,5v13a5,5 0 0 1 -5,5h-115.75a5,5 0 0 1 -5,-5v-13a5,5 0 0 1 5,-5z\" style=\"stroke: rgb(51, 51, 51); fill: none; stroke-width: 1px;\"/></g><g id=\"node-name-/layer1/layer1.1/conv1/Conv\" class=\"node graph-node\" transform=\"translate(2020.4892578125,104.75)\" style=\"opacity: 1;\"><g class=\"node-item node-item-type node-item-type-layer\" transform=\"translate(0,0)\"><path d=\"M5,0h143.06982421875a5,5 0 0 1 5,5v18a0,0 0 0 1 0,0h-153.06982421875a0,0 0 0 1 0,0v-18a5,5 0 0 1 5,-5z\" style=\"stroke: rgb(0, 0, 0); fill: rgb(51, 85, 136); stroke-width: 0;\"/><text x=\"6\" y=\"16\" style=\"font-family: -apple-system, BlinkMacSystemFont, &quot;Segoe WPC&quot;, &quot;Segoe UI&quot;, Ubuntu, &quot;Droid Sans&quot;, sans-serif, &quot;PingFang SC&quot;; font-size: 11px; text-rendering: geometricprecision; fill: rgb(255, 255, 255);\">/layer1/layer1.1/conv1/Conv</text><title>Conv</title></g><g class=\"node-attribute\" transform=\"translate(0,23)\"><path d=\"M0,0h153.06982421875a0,0 0 0 1 0,0v85a5,5 0 0 1 -5,5h-143.06982421875a5,5 0 0 1 -5,-5v-85a0,0 0 0 1 0,0z\" style=\"stroke: rgb(0, 0, 0); fill: rgb(255, 255, 255); stroke-width: 0;\"/><text id=\"initializer-onnx::Conv_264\" xml:space=\"preserve\" x=\"6\" y=\"14\" style=\"font-family: -apple-system, BlinkMacSystemFont, &quot;Segoe WPC&quot;, &quot;Segoe UI&quot;, Ubuntu, &quot;Droid Sans&quot;, sans-serif, &quot;PingFang SC&quot;; font-size: 9px; font-weight: normal; text-rendering: geometricprecision;\"><title>float32[64,64,3,3]</title><tspan style=\"font-weight: bold;\">W</tspan><tspan>〈64×64×3×3〉</tspan></text><text id=\"initializer-onnx::Conv_265\" xml:space=\"preserve\" x=\"6\" y=\"28\" style=\"font-family: -apple-system, BlinkMacSystemFont, &quot;Segoe WPC&quot;, &quot;Segoe UI&quot;, Ubuntu, &quot;Droid Sans&quot;, sans-serif, &quot;PingFang SC&quot;; font-size: 9px; font-weight: normal; text-rendering: geometricprecision;\"><title>float32[64]</title><tspan style=\"font-weight: bold;\">B</tspan><tspan>〈64〉</tspan></text><text xml:space=\"preserve\" x=\"6\" y=\"42\" style=\"font-family: -apple-system, BlinkMacSystemFont, &quot;Segoe WPC&quot;, &quot;Segoe UI&quot;, Ubuntu, &quot;Droid Sans&quot;, sans-serif, &quot;PingFang SC&quot;; font-size: 9px; font-weight: normal; text-rendering: geometricprecision;\"><title>int64[]</title><tspan>dilations</tspan><tspan> = 1, 1</tspan></text><text xml:space=\"preserve\" x=\"6\" y=\"56\" style=\"font-family: -apple-system, BlinkMacSystemFont, &quot;Segoe WPC&quot;, &quot;Segoe UI&quot;, Ubuntu, &quot;Droid Sans&quot;, sans-serif, &quot;PingFang SC&quot;; font-size: 9px; font-weight: normal; text-rendering: geometricprecision;\"><title>int64[]</title><tspan>kernel_shape</tspan><tspan> = 3, 3</tspan></text><text xml:space=\"preserve\" x=\"6\" y=\"70\" style=\"font-family: -apple-system, BlinkMacSystemFont, &quot;Segoe WPC&quot;, &quot;Segoe UI&quot;, Ubuntu, &quot;Droid Sans&quot;, sans-serif, &quot;PingFang SC&quot;; font-size: 9px; font-weight: normal; text-rendering: geometricprecision;\"><title>int64[]</title><tspan>pads</tspan><tspan> = 1, 1, 1, 1</tspan></text><text xml:space=\"preserve\" x=\"6\" y=\"84\" style=\"font-family: -apple-system, BlinkMacSystemFont, &quot;Segoe WPC&quot;, &quot;Segoe UI&quot;, Ubuntu, &quot;Droid Sans&quot;, sans-serif, &quot;PingFang SC&quot;; font-size: 9px; font-weight: normal; text-rendering: geometricprecision;\"><title>int64[]</title><tspan>strides</tspan><tspan> = 1, 1</tspan></text><line class=\"node\" x1=\"0\" x2=\"153.06982421875\" y1=\"0\" y2=\"0\" style=\"stroke: rgb(51, 51, 51); fill: none; stroke-width: 1px;\"/></g><path class=\"node border\" d=\"M5,0h143.06982421875a5,5 0 0 1 5,5v103a5,5 0 0 1 -5,5h-143.06982421875a5,5 0 0 1 -5,-5v-103a5,5 0 0 1 5,-5z\" style=\"stroke: rgb(51, 51, 51); fill: none; stroke-width: 1px;\"/></g><g id=\"node-name-/layer1/layer1.1/Relu\" class=\"node graph-node\" transform=\"translate(2378.8212890625,149.75)\" style=\"opacity: 1;\"><g class=\"node-item node-item-type node-item-type-activation\" transform=\"translate(0,0)\"><path d=\"M5,0h105.265625a5,5 0 0 1 5,5v13a5,5 0 0 1 -5,5h-105.265625a5,5 0 0 1 -5,-5v-13a5,5 0 0 1 5,-5z\" style=\"stroke: rgb(0, 0, 0); fill: rgb(112, 41, 33); stroke-width: 0;\"/><text x=\"6\" y=\"16\" style=\"font-family: -apple-system, BlinkMacSystemFont, &quot;Segoe WPC&quot;, &quot;Segoe UI&quot;, Ubuntu, &quot;Droid Sans&quot;, sans-serif, &quot;PingFang SC&quot;; font-size: 11px; text-rendering: geometricprecision; fill: rgb(255, 255, 255);\">/layer1/layer1.1/Relu</text><title>Relu</title></g><path class=\"node border\" d=\"M5,0h105.265625a5,5 0 0 1 5,5v13a5,5 0 0 1 -5,5h-105.265625a5,5 0 0 1 -5,-5v-13a5,5 0 0 1 5,-5z\" style=\"stroke: rgb(51, 51, 51); fill: none; stroke-width: 1px;\"/></g><g id=\"node-name-/layer1/layer1.1/conv2/Conv\" class=\"node graph-node\" transform=\"translate(2665.63330078125,104.75)\" style=\"opacity: 1;\"><g class=\"node-item node-item-type node-item-type-layer\" transform=\"translate(0,0)\"><path d=\"M5,0h143.06982421875a5,5 0 0 1 5,5v18a0,0 0 0 1 0,0h-153.06982421875a0,0 0 0 1 0,0v-18a5,5 0 0 1 5,-5z\" style=\"stroke: rgb(0, 0, 0); fill: rgb(51, 85, 136); stroke-width: 0;\"/><text x=\"6\" y=\"16\" style=\"font-family: -apple-system, BlinkMacSystemFont, &quot;Segoe WPC&quot;, &quot;Segoe UI&quot;, Ubuntu, &quot;Droid Sans&quot;, sans-serif, &quot;PingFang SC&quot;; font-size: 11px; text-rendering: geometricprecision; fill: rgb(255, 255, 255);\">/layer1/layer1.1/conv2/Conv</text><title>Conv</title></g><g class=\"node-attribute\" transform=\"translate(0,23)\"><path d=\"M0,0h153.06982421875a0,0 0 0 1 0,0v85a5,5 0 0 1 -5,5h-143.06982421875a5,5 0 0 1 -5,-5v-85a0,0 0 0 1 0,0z\" style=\"stroke: rgb(0, 0, 0); fill: rgb(255, 255, 255); stroke-width: 0;\"/><text id=\"initializer-onnx::Conv_267\" xml:space=\"preserve\" x=\"6\" y=\"14\" style=\"font-family: -apple-system, BlinkMacSystemFont, &quot;Segoe WPC&quot;, &quot;Segoe UI&quot;, Ubuntu, &quot;Droid Sans&quot;, sans-serif, &quot;PingFang SC&quot;; font-size: 9px; font-weight: normal; text-rendering: geometricprecision;\"><title>float32[64,64,3,3]</title><tspan style=\"font-weight: bold;\">W</tspan><tspan>〈64×64×3×3〉</tspan></text><text id=\"initializer-onnx::Conv_268\" xml:space=\"preserve\" x=\"6\" y=\"28\" style=\"font-family: -apple-system, BlinkMacSystemFont, &quot;Segoe WPC&quot;, &quot;Segoe UI&quot;, Ubuntu, &quot;Droid Sans&quot;, sans-serif, &quot;PingFang SC&quot;; font-size: 9px; font-weight: normal; text-rendering: geometricprecision;\"><title>float32[64]</title><tspan style=\"font-weight: bold;\">B</tspan><tspan>〈64〉</tspan></text><text xml:space=\"preserve\" x=\"6\" y=\"42\" style=\"font-family: -apple-system, BlinkMacSystemFont, &quot;Segoe WPC&quot;, &quot;Segoe UI&quot;, Ubuntu, &quot;Droid Sans&quot;, sans-serif, &quot;PingFang SC&quot;; font-size: 9px; font-weight: normal; text-rendering: geometricprecision;\"><title>int64[]</title><tspan>dilations</tspan><tspan> = 1, 1</tspan></text><text xml:space=\"preserve\" x=\"6\" y=\"56\" style=\"font-family: -apple-system, BlinkMacSystemFont, &quot;Segoe WPC&quot;, &quot;Segoe UI&quot;, Ubuntu, &quot;Droid Sans&quot;, sans-serif, &quot;PingFang SC&quot;; font-size: 9px; font-weight: normal; text-rendering: geometricprecision;\"><title>int64[]</title><tspan>kernel_shape</tspan><tspan> = 3, 3</tspan></text><text xml:space=\"preserve\" x=\"6\" y=\"70\" style=\"font-family: -apple-system, BlinkMacSystemFont, &quot;Segoe WPC&quot;, &quot;Segoe UI&quot;, Ubuntu, &quot;Droid Sans&quot;, sans-serif, &quot;PingFang SC&quot;; font-size: 9px; font-weight: normal; text-rendering: geometricprecision;\"><title>int64[]</title><tspan>pads</tspan><tspan> = 1, 1, 1, 1</tspan></text><text xml:space=\"preserve\" x=\"6\" y=\"84\" style=\"font-family: -apple-system, BlinkMacSystemFont, &quot;Segoe WPC&quot;, &quot;Segoe UI&quot;, Ubuntu, &quot;Droid Sans&quot;, sans-serif, &quot;PingFang SC&quot;; font-size: 9px; font-weight: normal; text-rendering: geometricprecision;\"><title>int64[]</title><tspan>strides</tspan><tspan> = 1, 1</tspan></text><line class=\"node\" x1=\"0\" x2=\"153.06982421875\" y1=\"0\" y2=\"0\" style=\"stroke: rgb(51, 51, 51); fill: none; stroke-width: 1px;\"/></g><path class=\"node border\" d=\"M5,0h143.06982421875a5,5 0 0 1 5,5v103a5,5 0 0 1 -5,5h-143.06982421875a5,5 0 0 1 -5,-5v-103a5,5 0 0 1 5,-5z\" style=\"stroke: rgb(51, 51, 51); fill: none; stroke-width: 1px;\"/></g><g id=\"node-name-/layer1/layer1.1/Add\" class=\"node graph-node\" transform=\"translate(3008.69140625,111.5)\" style=\"opacity: 1;\"><g class=\"node-item node-item-type\" transform=\"translate(0,0)\"><path d=\"M5,0h104.40625a5,5 0 0 1 5,5v13a5,5 0 0 1 -5,5h-104.40625a5,5 0 0 1 -5,-5v-13a5,5 0 0 1 5,-5z\" style=\"stroke: rgb(0, 0, 0); fill: rgb(0, 0, 0); stroke-width: 0;\"/><text x=\"6\" y=\"16\" style=\"font-family: -apple-system, BlinkMacSystemFont, &quot;Segoe WPC&quot;, &quot;Segoe UI&quot;, Ubuntu, &quot;Droid Sans&quot;, sans-serif, &quot;PingFang SC&quot;; font-size: 11px; text-rendering: geometricprecision; fill: rgb(255, 255, 255);\">/layer1/layer1.1/Add</text><title>Add</title></g><path class=\"node border\" d=\"M5,0h104.40625a5,5 0 0 1 5,5v13a5,5 0 0 1 -5,5h-104.40625a5,5 0 0 1 -5,-5v-13a5,5 0 0 1 5,-5z\" style=\"stroke: rgb(51, 51, 51); fill: none; stroke-width: 1px;\"/></g><g id=\"node-name-/layer1/layer1.1/Relu_1\" class=\"node graph-node\" transform=\"translate(3278.5986328125,111.5)\" style=\"opacity: 1;\"><g class=\"node-item node-item-type node-item-type-activation\" transform=\"translate(0,0)\"><path d=\"M5,0h115.75a5,5 0 0 1 5,5v13a5,5 0 0 1 -5,5h-115.75a5,5 0 0 1 -5,-5v-13a5,5 0 0 1 5,-5z\" style=\"stroke: rgb(0, 0, 0); fill: rgb(112, 41, 33); stroke-width: 0;\"/><text x=\"6\" y=\"16\" style=\"font-family: -apple-system, BlinkMacSystemFont, &quot;Segoe WPC&quot;, &quot;Segoe UI&quot;, Ubuntu, &quot;Droid Sans&quot;, sans-serif, &quot;PingFang SC&quot;; font-size: 11px; text-rendering: geometricprecision; fill: rgb(255, 255, 255);\">/layer1/layer1.1/Relu_1</text><title>Relu</title></g><path class=\"node border\" d=\"M5,0h115.75a5,5 0 0 1 5,5v13a5,5 0 0 1 -5,5h-115.75a5,5 0 0 1 -5,-5v-13a5,5 0 0 1 5,-5z\" style=\"stroke: rgb(51, 51, 51); fill: none; stroke-width: 1px;\"/></g><g id=\"node-name-/layer1/layer1.2/conv1/Conv\" class=\"node graph-node\" transform=\"translate(3570.162109375,104.75)\" style=\"opacity: 1;\"><g class=\"node-item node-item-type node-item-type-layer\" transform=\"translate(0,0)\"><path d=\"M5,0h143.06982421875a5,5 0 0 1 5,5v18a0,0 0 0 1 0,0h-153.06982421875a0,0 0 0 1 0,0v-18a5,5 0 0 1 5,-5z\" style=\"stroke: rgb(0, 0, 0); fill: rgb(51, 85, 136); stroke-width: 0;\"/><text x=\"6\" y=\"16\" style=\"font-family: -apple-system, BlinkMacSystemFont, &quot;Segoe WPC&quot;, &quot;Segoe UI&quot;, Ubuntu, &quot;Droid Sans&quot;, sans-serif, &quot;PingFang SC&quot;; font-size: 11px; text-rendering: geometricprecision; fill: rgb(255, 255, 255);\">/layer1/layer1.2/conv1/Conv</text><title>Conv</title></g><g class=\"node-attribute\" transform=\"translate(0,23)\"><path d=\"M0,0h153.06982421875a0,0 0 0 1 0,0v85a5,5 0 0 1 -5,5h-143.06982421875a5,5 0 0 1 -5,-5v-85a0,0 0 0 1 0,0z\" style=\"stroke: rgb(0, 0, 0); fill: rgb(255, 255, 255); stroke-width: 0;\"/><text id=\"initializer-onnx::Conv_270\" xml:space=\"preserve\" x=\"6\" y=\"14\" style=\"font-family: -apple-system, BlinkMacSystemFont, &quot;Segoe WPC&quot;, &quot;Segoe UI&quot;, Ubuntu, &quot;Droid Sans&quot;, sans-serif, &quot;PingFang SC&quot;; font-size: 9px; font-weight: normal; text-rendering: geometricprecision;\"><title>float32[64,64,3,3]</title><tspan style=\"font-weight: bold;\">W</tspan><tspan>〈64×64×3×3〉</tspan></text><text id=\"initializer-onnx::Conv_271\" xml:space=\"preserve\" x=\"6\" y=\"28\" style=\"font-family: -apple-system, BlinkMacSystemFont, &quot;Segoe WPC&quot;, &quot;Segoe UI&quot;, Ubuntu, &quot;Droid Sans&quot;, sans-serif, &quot;PingFang SC&quot;; font-size: 9px; font-weight: normal; text-rendering: geometricprecision;\"><title>float32[64]</title><tspan style=\"font-weight: bold;\">B</tspan><tspan>〈64〉</tspan></text><text xml:space=\"preserve\" x=\"6\" y=\"42\" style=\"font-family: -apple-system, BlinkMacSystemFont, &quot;Segoe WPC&quot;, &quot;Segoe UI&quot;, Ubuntu, &quot;Droid Sans&quot;, sans-serif, &quot;PingFang SC&quot;; font-size: 9px; font-weight: normal; text-rendering: geometricprecision;\"><title>int64[]</title><tspan>dilations</tspan><tspan> = 1, 1</tspan></text><text xml:space=\"preserve\" x=\"6\" y=\"56\" style=\"font-family: -apple-system, BlinkMacSystemFont, &quot;Segoe WPC&quot;, &quot;Segoe UI&quot;, Ubuntu, &quot;Droid Sans&quot;, sans-serif, &quot;PingFang SC&quot;; font-size: 9px; font-weight: normal; text-rendering: geometricprecision;\"><title>int64[]</title><tspan>kernel_shape</tspan><tspan> = 3, 3</tspan></text><text xml:space=\"preserve\" x=\"6\" y=\"70\" style=\"font-family: -apple-system, BlinkMacSystemFont, &quot;Segoe WPC&quot;, &quot;Segoe UI&quot;, Ubuntu, &quot;Droid Sans&quot;, sans-serif, &quot;PingFang SC&quot;; font-size: 9px; font-weight: normal; text-rendering: geometricprecision;\"><title>int64[]</title><tspan>pads</tspan><tspan> = 1, 1, 1, 1</tspan></text><text xml:space=\"preserve\" x=\"6\" y=\"84\" style=\"font-family: -apple-system, BlinkMacSystemFont, &quot;Segoe WPC&quot;, &quot;Segoe UI&quot;, Ubuntu, &quot;Droid Sans&quot;, sans-serif, &quot;PingFang SC&quot;; font-size: 9px; font-weight: normal; text-rendering: geometricprecision;\"><title>int64[]</title><tspan>strides</tspan><tspan> = 1, 1</tspan></text><line class=\"node\" x1=\"0\" x2=\"153.06982421875\" y1=\"0\" y2=\"0\" style=\"stroke: rgb(51, 51, 51); fill: none; stroke-width: 1px;\"/></g><path class=\"node border\" d=\"M5,0h143.06982421875a5,5 0 0 1 5,5v103a5,5 0 0 1 -5,5h-143.06982421875a5,5 0 0 1 -5,-5v-103a5,5 0 0 1 5,-5z\" style=\"stroke: rgb(51, 51, 51); fill: none; stroke-width: 1px;\"/></g><g id=\"node-name-/layer1/layer1.2/Relu\" class=\"node graph-node\" transform=\"translate(3928.494140625,149.75)\" style=\"opacity: 1;\"><g class=\"node-item node-item-type node-item-type-activation\" transform=\"translate(0,0)\"><path d=\"M5,0h105.265625a5,5 0 0 1 5,5v13a5,5 0 0 1 -5,5h-105.265625a5,5 0 0 1 -5,-5v-13a5,5 0 0 1 5,-5z\" style=\"stroke: rgb(0, 0, 0); fill: rgb(112, 41, 33); stroke-width: 0;\"/><text x=\"6\" y=\"16\" style=\"font-family: -apple-system, BlinkMacSystemFont, &quot;Segoe WPC&quot;, &quot;Segoe UI&quot;, Ubuntu, &quot;Droid Sans&quot;, sans-serif, &quot;PingFang SC&quot;; font-size: 11px; text-rendering: geometricprecision; fill: rgb(255, 255, 255);\">/layer1/layer1.2/Relu</text><title>Relu</title></g><path class=\"node border\" d=\"M5,0h105.265625a5,5 0 0 1 5,5v13a5,5 0 0 1 -5,5h-105.265625a5,5 0 0 1 -5,-5v-13a5,5 0 0 1 5,-5z\" style=\"stroke: rgb(51, 51, 51); fill: none; stroke-width: 1px;\"/></g><g id=\"node-name-/layer1/layer1.2/conv2/Conv\" class=\"node graph-node\" transform=\"translate(4215.30615234375,104.75)\" style=\"opacity: 1;\"><g class=\"node-item node-item-type node-item-type-layer\" transform=\"translate(0,0)\"><path d=\"M5,0h143.06982421875a5,5 0 0 1 5,5v18a0,0 0 0 1 0,0h-153.06982421875a0,0 0 0 1 0,0v-18a5,5 0 0 1 5,-5z\" style=\"stroke: rgb(0, 0, 0); fill: rgb(51, 85, 136); stroke-width: 0;\"/><text x=\"6\" y=\"16\" style=\"font-family: -apple-system, BlinkMacSystemFont, &quot;Segoe WPC&quot;, &quot;Segoe UI&quot;, Ubuntu, &quot;Droid Sans&quot;, sans-serif, &quot;PingFang SC&quot;; font-size: 11px; text-rendering: geometricprecision; fill: rgb(255, 255, 255);\">/layer1/layer1.2/conv2/Conv</text><title>Conv</title></g><g class=\"node-attribute\" transform=\"translate(0,23)\"><path d=\"M0,0h153.06982421875a0,0 0 0 1 0,0v85a5,5 0 0 1 -5,5h-143.06982421875a5,5 0 0 1 -5,-5v-85a0,0 0 0 1 0,0z\" style=\"stroke: rgb(0, 0, 0); fill: rgb(255, 255, 255); stroke-width: 0;\"/><text id=\"initializer-onnx::Conv_273\" xml:space=\"preserve\" x=\"6\" y=\"14\" style=\"font-family: -apple-system, BlinkMacSystemFont, &quot;Segoe WPC&quot;, &quot;Segoe UI&quot;, Ubuntu, &quot;Droid Sans&quot;, sans-serif, &quot;PingFang SC&quot;; font-size: 9px; font-weight: normal; text-rendering: geometricprecision;\"><title>float32[64,64,3,3]</title><tspan style=\"font-weight: bold;\">W</tspan><tspan>〈64×64×3×3〉</tspan></text><text id=\"initializer-onnx::Conv_274\" xml:space=\"preserve\" x=\"6\" y=\"28\" style=\"font-family: -apple-system, BlinkMacSystemFont, &quot;Segoe WPC&quot;, &quot;Segoe UI&quot;, Ubuntu, &quot;Droid Sans&quot;, sans-serif, &quot;PingFang SC&quot;; font-size: 9px; font-weight: normal; text-rendering: geometricprecision;\"><title>float32[64]</title><tspan style=\"font-weight: bold;\">B</tspan><tspan>〈64〉</tspan></text><text xml:space=\"preserve\" x=\"6\" y=\"42\" style=\"font-family: -apple-system, BlinkMacSystemFont, &quot;Segoe WPC&quot;, &quot;Segoe UI&quot;, Ubuntu, &quot;Droid Sans&quot;, sans-serif, &quot;PingFang SC&quot;; font-size: 9px; font-weight: normal; text-rendering: geometricprecision;\"><title>int64[]</title><tspan>dilations</tspan><tspan> = 1, 1</tspan></text><text xml:space=\"preserve\" x=\"6\" y=\"56\" style=\"font-family: -apple-system, BlinkMacSystemFont, &quot;Segoe WPC&quot;, &quot;Segoe UI&quot;, Ubuntu, &quot;Droid Sans&quot;, sans-serif, &quot;PingFang SC&quot;; font-size: 9px; font-weight: normal; text-rendering: geometricprecision;\"><title>int64[]</title><tspan>kernel_shape</tspan><tspan> = 3, 3</tspan></text><text xml:space=\"preserve\" x=\"6\" y=\"70\" style=\"font-family: -apple-system, BlinkMacSystemFont, &quot;Segoe WPC&quot;, &quot;Segoe UI&quot;, Ubuntu, &quot;Droid Sans&quot;, sans-serif, &quot;PingFang SC&quot;; font-size: 9px; font-weight: normal; text-rendering: geometricprecision;\"><title>int64[]</title><tspan>pads</tspan><tspan> = 1, 1, 1, 1</tspan></text><text xml:space=\"preserve\" x=\"6\" y=\"84\" style=\"font-family: -apple-system, BlinkMacSystemFont, &quot;Segoe WPC&quot;, &quot;Segoe UI&quot;, Ubuntu, &quot;Droid Sans&quot;, sans-serif, &quot;PingFang SC&quot;; font-size: 9px; font-weight: normal; text-rendering: geometricprecision;\"><title>int64[]</title><tspan>strides</tspan><tspan> = 1, 1</tspan></text><line class=\"node\" x1=\"0\" x2=\"153.06982421875\" y1=\"0\" y2=\"0\" style=\"stroke: rgb(51, 51, 51); fill: none; stroke-width: 1px;\"/></g><path class=\"node border\" d=\"M5,0h143.06982421875a5,5 0 0 1 5,5v103a5,5 0 0 1 -5,5h-143.06982421875a5,5 0 0 1 -5,-5v-103a5,5 0 0 1 5,-5z\" style=\"stroke: rgb(51, 51, 51); fill: none; stroke-width: 1px;\"/></g><g id=\"node-name-/layer1/layer1.2/Add\" class=\"node graph-node\" transform=\"translate(4558.3642578125,111.5)\" style=\"opacity: 1;\"><g class=\"node-item node-item-type\" transform=\"translate(0,0)\"><path d=\"M5,0h104.40625a5,5 0 0 1 5,5v13a5,5 0 0 1 -5,5h-104.40625a5,5 0 0 1 -5,-5v-13a5,5 0 0 1 5,-5z\" style=\"stroke: rgb(0, 0, 0); fill: rgb(0, 0, 0); stroke-width: 0;\"/><text x=\"6\" y=\"16\" style=\"font-family: -apple-system, BlinkMacSystemFont, &quot;Segoe WPC&quot;, &quot;Segoe UI&quot;, Ubuntu, &quot;Droid Sans&quot;, sans-serif, &quot;PingFang SC&quot;; font-size: 11px; text-rendering: geometricprecision; fill: rgb(255, 255, 255);\">/layer1/layer1.2/Add</text><title>Add</title></g><path class=\"node border\" d=\"M5,0h104.40625a5,5 0 0 1 5,5v13a5,5 0 0 1 -5,5h-104.40625a5,5 0 0 1 -5,-5v-13a5,5 0 0 1 5,-5z\" style=\"stroke: rgb(51, 51, 51); fill: none; stroke-width: 1px;\"/></g><g id=\"node-name-/layer1/layer1.2/Relu_1\" class=\"node graph-node\" transform=\"translate(4828.271484375,111.5)\" style=\"opacity: 1;\"><g class=\"node-item node-item-type node-item-type-activation\" transform=\"translate(0,0)\"><path d=\"M5,0h115.75a5,5 0 0 1 5,5v13a5,5 0 0 1 -5,5h-115.75a5,5 0 0 1 -5,-5v-13a5,5 0 0 1 5,-5z\" style=\"stroke: rgb(0, 0, 0); fill: rgb(112, 41, 33); stroke-width: 0;\"/><text x=\"6\" y=\"16\" style=\"font-family: -apple-system, BlinkMacSystemFont, &quot;Segoe WPC&quot;, &quot;Segoe UI&quot;, Ubuntu, &quot;Droid Sans&quot;, sans-serif, &quot;PingFang SC&quot;; font-size: 11px; text-rendering: geometricprecision; fill: rgb(255, 255, 255);\">/layer1/layer1.2/Relu_1</text><title>Relu</title></g><path class=\"node border\" d=\"M5,0h115.75a5,5 0 0 1 5,5v13a5,5 0 0 1 -5,5h-115.75a5,5 0 0 1 -5,-5v-13a5,5 0 0 1 5,-5z\" style=\"stroke: rgb(51, 51, 51); fill: none; stroke-width: 1px;\"/></g><g id=\"node-name-/layer2/layer2.0/conv1/Conv\" class=\"node graph-node\" transform=\"translate(5119.8349609375,0)\" style=\"opacity: 1;\"><g class=\"node-item node-item-type node-item-type-layer\" transform=\"translate(0,0)\"><path d=\"M5,0h143.06982421875a5,5 0 0 1 5,5v18a0,0 0 0 1 0,0h-153.06982421875a0,0 0 0 1 0,0v-18a5,5 0 0 1 5,-5z\" style=\"stroke: rgb(0, 0, 0); fill: rgb(51, 85, 136); stroke-width: 0;\"/><text x=\"6\" y=\"16\" style=\"font-family: -apple-system, BlinkMacSystemFont, &quot;Segoe WPC&quot;, &quot;Segoe UI&quot;, Ubuntu, &quot;Droid Sans&quot;, sans-serif, &quot;PingFang SC&quot;; font-size: 11px; text-rendering: geometricprecision; fill: rgb(255, 255, 255);\">/layer2/layer2.0/conv1/Conv</text><title>Conv</title></g><g class=\"node-attribute\" transform=\"translate(0,23)\"><path d=\"M0,0h153.06982421875a0,0 0 0 1 0,0v85a5,5 0 0 1 -5,5h-143.06982421875a5,5 0 0 1 -5,-5v-85a0,0 0 0 1 0,0z\" style=\"stroke: rgb(0, 0, 0); fill: rgb(255, 255, 255); stroke-width: 0;\"/><text id=\"initializer-onnx::Conv_276\" xml:space=\"preserve\" x=\"6\" y=\"14\" style=\"font-family: -apple-system, BlinkMacSystemFont, &quot;Segoe WPC&quot;, &quot;Segoe UI&quot;, Ubuntu, &quot;Droid Sans&quot;, sans-serif, &quot;PingFang SC&quot;; font-size: 9px; font-weight: normal; text-rendering: geometricprecision;\"><title>float32[128,64,3,3]</title><tspan style=\"font-weight: bold;\">W</tspan><tspan>〈128×64×3×3〉</tspan></text><text id=\"initializer-onnx::Conv_277\" xml:space=\"preserve\" x=\"6\" y=\"28\" style=\"font-family: -apple-system, BlinkMacSystemFont, &quot;Segoe WPC&quot;, &quot;Segoe UI&quot;, Ubuntu, &quot;Droid Sans&quot;, sans-serif, &quot;PingFang SC&quot;; font-size: 9px; font-weight: normal; text-rendering: geometricprecision;\"><title>float32[128]</title><tspan style=\"font-weight: bold;\">B</tspan><tspan>〈128〉</tspan></text><text xml:space=\"preserve\" x=\"6\" y=\"42\" style=\"font-family: -apple-system, BlinkMacSystemFont, &quot;Segoe WPC&quot;, &quot;Segoe UI&quot;, Ubuntu, &quot;Droid Sans&quot;, sans-serif, &quot;PingFang SC&quot;; font-size: 9px; font-weight: normal; text-rendering: geometricprecision;\"><title>int64[]</title><tspan>dilations</tspan><tspan> = 1, 1</tspan></text><text xml:space=\"preserve\" x=\"6\" y=\"56\" style=\"font-family: -apple-system, BlinkMacSystemFont, &quot;Segoe WPC&quot;, &quot;Segoe UI&quot;, Ubuntu, &quot;Droid Sans&quot;, sans-serif, &quot;PingFang SC&quot;; font-size: 9px; font-weight: normal; text-rendering: geometricprecision;\"><title>int64[]</title><tspan>kernel_shape</tspan><tspan> = 3, 3</tspan></text><text xml:space=\"preserve\" x=\"6\" y=\"70\" style=\"font-family: -apple-system, BlinkMacSystemFont, &quot;Segoe WPC&quot;, &quot;Segoe UI&quot;, Ubuntu, &quot;Droid Sans&quot;, sans-serif, &quot;PingFang SC&quot;; font-size: 9px; font-weight: normal; text-rendering: geometricprecision;\"><title>int64[]</title><tspan>pads</tspan><tspan> = 1, 1, 1, 1</tspan></text><text xml:space=\"preserve\" x=\"6\" y=\"84\" style=\"font-family: -apple-system, BlinkMacSystemFont, &quot;Segoe WPC&quot;, &quot;Segoe UI&quot;, Ubuntu, &quot;Droid Sans&quot;, sans-serif, &quot;PingFang SC&quot;; font-size: 9px; font-weight: normal; text-rendering: geometricprecision;\"><title>int64[]</title><tspan>strides</tspan><tspan> = 2, 2</tspan></text><line class=\"node\" x1=\"0\" x2=\"153.06982421875\" y1=\"0\" y2=\"0\" style=\"stroke: rgb(51, 51, 51); fill: none; stroke-width: 1px;\"/></g><path class=\"node border\" d=\"M5,0h143.06982421875a5,5 0 0 1 5,5v103a5,5 0 0 1 -5,5h-143.06982421875a5,5 0 0 1 -5,-5v-103a5,5 0 0 1 5,-5z\" style=\"stroke: rgb(51, 51, 51); fill: none; stroke-width: 1px;\"/></g><g id=\"node-name-/layer2/layer2.0/Relu\" class=\"node graph-node\" transform=\"translate(5462.89306640625,45)\" style=\"opacity: 1;\"><g class=\"node-item node-item-type node-item-type-activation\" transform=\"translate(0,0)\"><path d=\"M5,0h105.265625a5,5 0 0 1 5,5v13a5,5 0 0 1 -5,5h-105.265625a5,5 0 0 1 -5,-5v-13a5,5 0 0 1 5,-5z\" style=\"stroke: rgb(0, 0, 0); fill: rgb(112, 41, 33); stroke-width: 0;\"/><text x=\"6\" y=\"16\" style=\"font-family: -apple-system, BlinkMacSystemFont, &quot;Segoe WPC&quot;, &quot;Segoe UI&quot;, Ubuntu, &quot;Droid Sans&quot;, sans-serif, &quot;PingFang SC&quot;; font-size: 11px; text-rendering: geometricprecision; fill: rgb(255, 255, 255);\">/layer2/layer2.0/Relu</text><title>Relu</title></g><path class=\"node border\" d=\"M5,0h105.265625a5,5 0 0 1 5,5v13a5,5 0 0 1 -5,5h-105.265625a5,5 0 0 1 -5,-5v-13a5,5 0 0 1 5,-5z\" style=\"stroke: rgb(51, 51, 51); fill: none; stroke-width: 1px;\"/></g><g id=\"node-name-/layer2/layer2.0/conv2/Conv\" class=\"node graph-node\" transform=\"translate(5766.1796875,0)\" style=\"opacity: 1;\"><g class=\"node-item node-item-type node-item-type-layer\" transform=\"translate(0,0)\"><path d=\"M5,0h143.06982421875a5,5 0 0 1 5,5v18a0,0 0 0 1 0,0h-153.06982421875a0,0 0 0 1 0,0v-18a5,5 0 0 1 5,-5z\" style=\"stroke: rgb(0, 0, 0); fill: rgb(51, 85, 136); stroke-width: 0;\"/><text x=\"6\" y=\"16\" style=\"font-family: -apple-system, BlinkMacSystemFont, &quot;Segoe WPC&quot;, &quot;Segoe UI&quot;, Ubuntu, &quot;Droid Sans&quot;, sans-serif, &quot;PingFang SC&quot;; font-size: 11px; text-rendering: geometricprecision; fill: rgb(255, 255, 255);\">/layer2/layer2.0/conv2/Conv</text><title>Conv</title></g><g class=\"node-attribute\" transform=\"translate(0,23)\"><path d=\"M0,0h153.06982421875a0,0 0 0 1 0,0v85a5,5 0 0 1 -5,5h-143.06982421875a5,5 0 0 1 -5,-5v-85a0,0 0 0 1 0,0z\" style=\"stroke: rgb(0, 0, 0); fill: rgb(255, 255, 255); stroke-width: 0;\"/><text id=\"initializer-onnx::Conv_279\" xml:space=\"preserve\" x=\"6\" y=\"14\" style=\"font-family: -apple-system, BlinkMacSystemFont, &quot;Segoe WPC&quot;, &quot;Segoe UI&quot;, Ubuntu, &quot;Droid Sans&quot;, sans-serif, &quot;PingFang SC&quot;; font-size: 9px; font-weight: normal; text-rendering: geometricprecision;\"><title>float32[128,128,3,3]</title><tspan style=\"font-weight: bold;\">W</tspan><tspan>〈128×128×3×3〉</tspan></text><text id=\"initializer-onnx::Conv_280\" xml:space=\"preserve\" x=\"6\" y=\"28\" style=\"font-family: -apple-system, BlinkMacSystemFont, &quot;Segoe WPC&quot;, &quot;Segoe UI&quot;, Ubuntu, &quot;Droid Sans&quot;, sans-serif, &quot;PingFang SC&quot;; font-size: 9px; font-weight: normal; text-rendering: geometricprecision;\"><title>float32[128]</title><tspan style=\"font-weight: bold;\">B</tspan><tspan>〈128〉</tspan></text><text xml:space=\"preserve\" x=\"6\" y=\"42\" style=\"font-family: -apple-system, BlinkMacSystemFont, &quot;Segoe WPC&quot;, &quot;Segoe UI&quot;, Ubuntu, &quot;Droid Sans&quot;, sans-serif, &quot;PingFang SC&quot;; font-size: 9px; font-weight: normal; text-rendering: geometricprecision;\"><title>int64[]</title><tspan>dilations</tspan><tspan> = 1, 1</tspan></text><text xml:space=\"preserve\" x=\"6\" y=\"56\" style=\"font-family: -apple-system, BlinkMacSystemFont, &quot;Segoe WPC&quot;, &quot;Segoe UI&quot;, Ubuntu, &quot;Droid Sans&quot;, sans-serif, &quot;PingFang SC&quot;; font-size: 9px; font-weight: normal; text-rendering: geometricprecision;\"><title>int64[]</title><tspan>kernel_shape</tspan><tspan> = 3, 3</tspan></text><text xml:space=\"preserve\" x=\"6\" y=\"70\" style=\"font-family: -apple-system, BlinkMacSystemFont, &quot;Segoe WPC&quot;, &quot;Segoe UI&quot;, Ubuntu, &quot;Droid Sans&quot;, sans-serif, &quot;PingFang SC&quot;; font-size: 9px; font-weight: normal; text-rendering: geometricprecision;\"><title>int64[]</title><tspan>pads</tspan><tspan> = 1, 1, 1, 1</tspan></text><text xml:space=\"preserve\" x=\"6\" y=\"84\" style=\"font-family: -apple-system, BlinkMacSystemFont, &quot;Segoe WPC&quot;, &quot;Segoe UI&quot;, Ubuntu, &quot;Droid Sans&quot;, sans-serif, &quot;PingFang SC&quot;; font-size: 9px; font-weight: normal; text-rendering: geometricprecision;\"><title>int64[]</title><tspan>strides</tspan><tspan> = 1, 1</tspan></text><line class=\"node\" x1=\"0\" x2=\"153.06982421875\" y1=\"0\" y2=\"0\" style=\"stroke: rgb(51, 51, 51); fill: none; stroke-width: 1px;\"/></g><path class=\"node border\" d=\"M5,0h143.06982421875a5,5 0 0 1 5,5v103a5,5 0 0 1 -5,5h-143.06982421875a5,5 0 0 1 -5,-5v-103a5,5 0 0 1 5,-5z\" style=\"stroke: rgb(51, 51, 51); fill: none; stroke-width: 1px;\"/></g><g id=\"node-name-/layer2/layer2.0/shortcut/shortcut.0/Conv\" class=\"node graph-node\" transform=\"translate(5734.43115234375,133)\" style=\"opacity: 1;\"><g class=\"node-item node-item-type node-item-type-layer\" transform=\"translate(0,0)\"><path d=\"M5,0h206.56689453125a5,5 0 0 1 5,5v18a0,0 0 0 1 0,0h-216.56689453125a0,0 0 0 1 0,0v-18a5,5 0 0 1 5,-5z\" style=\"stroke: rgb(0, 0, 0); fill: rgb(51, 85, 136); stroke-width: 0;\"/><text x=\"6\" y=\"16\" style=\"font-family: -apple-system, BlinkMacSystemFont, &quot;Segoe WPC&quot;, &quot;Segoe UI&quot;, Ubuntu, &quot;Droid Sans&quot;, sans-serif, &quot;PingFang SC&quot;; font-size: 11px; text-rendering: geometricprecision; fill: rgb(255, 255, 255);\">/layer2/layer2.0/shortcut/shortcut.0/Conv</text><title>Conv</title></g><g class=\"node-attribute\" transform=\"translate(0,23)\"><path d=\"M0,0h216.56689453125a0,0 0 0 1 0,0v85a5,5 0 0 1 -5,5h-206.56689453125a5,5 0 0 1 -5,-5v-85a0,0 0 0 1 0,0z\" style=\"stroke: rgb(0, 0, 0); fill: rgb(255, 255, 255); stroke-width: 0;\"/><text id=\"initializer-onnx::Conv_282\" xml:space=\"preserve\" x=\"6\" y=\"14\" style=\"font-family: -apple-system, BlinkMacSystemFont, &quot;Segoe WPC&quot;, &quot;Segoe UI&quot;, Ubuntu, &quot;Droid Sans&quot;, sans-serif, &quot;PingFang SC&quot;; font-size: 9px; font-weight: normal; text-rendering: geometricprecision;\"><title>float32[128,64,1,1]</title><tspan style=\"font-weight: bold;\">W</tspan><tspan>〈128×64×1×1〉</tspan></text><text id=\"initializer-onnx::Conv_283\" xml:space=\"preserve\" x=\"6\" y=\"28\" style=\"font-family: -apple-system, BlinkMacSystemFont, &quot;Segoe WPC&quot;, &quot;Segoe UI&quot;, Ubuntu, &quot;Droid Sans&quot;, sans-serif, &quot;PingFang SC&quot;; font-size: 9px; font-weight: normal; text-rendering: geometricprecision;\"><title>float32[128]</title><tspan style=\"font-weight: bold;\">B</tspan><tspan>〈128〉</tspan></text><text xml:space=\"preserve\" x=\"6\" y=\"42\" style=\"font-family: -apple-system, BlinkMacSystemFont, &quot;Segoe WPC&quot;, &quot;Segoe UI&quot;, Ubuntu, &quot;Droid Sans&quot;, sans-serif, &quot;PingFang SC&quot;; font-size: 9px; font-weight: normal; text-rendering: geometricprecision;\"><title>int64[]</title><tspan>dilations</tspan><tspan> = 1, 1</tspan></text><text xml:space=\"preserve\" x=\"6\" y=\"56\" style=\"font-family: -apple-system, BlinkMacSystemFont, &quot;Segoe WPC&quot;, &quot;Segoe UI&quot;, Ubuntu, &quot;Droid Sans&quot;, sans-serif, &quot;PingFang SC&quot;; font-size: 9px; font-weight: normal; text-rendering: geometricprecision;\"><title>int64[]</title><tspan>kernel_shape</tspan><tspan> = 1, 1</tspan></text><text xml:space=\"preserve\" x=\"6\" y=\"70\" style=\"font-family: -apple-system, BlinkMacSystemFont, &quot;Segoe WPC&quot;, &quot;Segoe UI&quot;, Ubuntu, &quot;Droid Sans&quot;, sans-serif, &quot;PingFang SC&quot;; font-size: 9px; font-weight: normal; text-rendering: geometricprecision;\"><title>int64[]</title><tspan>pads</tspan><tspan> = 0, 0, 0, 0</tspan></text><text xml:space=\"preserve\" x=\"6\" y=\"84\" style=\"font-family: -apple-system, BlinkMacSystemFont, &quot;Segoe WPC&quot;, &quot;Segoe UI&quot;, Ubuntu, &quot;Droid Sans&quot;, sans-serif, &quot;PingFang SC&quot;; font-size: 9px; font-weight: normal; text-rendering: geometricprecision;\"><title>int64[]</title><tspan>strides</tspan><tspan> = 2, 2</tspan></text><line class=\"node\" x1=\"0\" x2=\"216.56689453125\" y1=\"0\" y2=\"0\" style=\"stroke: rgb(51, 51, 51); fill: none; stroke-width: 1px;\"/></g><path class=\"node border\" d=\"M5,0h206.56689453125a5,5 0 0 1 5,5v103a5,5 0 0 1 -5,5h-206.56689453125a5,5 0 0 1 -5,-5v-103a5,5 0 0 1 5,-5z\" style=\"stroke: rgb(51, 51, 51); fill: none; stroke-width: 1px;\"/></g><g id=\"node-name-/layer2/layer2.0/Add\" class=\"node graph-node\" transform=\"translate(6198.7109375,111.5)\" style=\"opacity: 1;\"><g class=\"node-item node-item-type\" transform=\"translate(0,0)\"><path d=\"M5,0h104.40625a5,5 0 0 1 5,5v13a5,5 0 0 1 -5,5h-104.40625a5,5 0 0 1 -5,-5v-13a5,5 0 0 1 5,-5z\" style=\"stroke: rgb(0, 0, 0); fill: rgb(0, 0, 0); stroke-width: 0;\"/><text x=\"6\" y=\"16\" style=\"font-family: -apple-system, BlinkMacSystemFont, &quot;Segoe WPC&quot;, &quot;Segoe UI&quot;, Ubuntu, &quot;Droid Sans&quot;, sans-serif, &quot;PingFang SC&quot;; font-size: 11px; text-rendering: geometricprecision; fill: rgb(255, 255, 255);\">/layer2/layer2.0/Add</text><title>Add</title></g><path class=\"node border\" d=\"M5,0h104.40625a5,5 0 0 1 5,5v13a5,5 0 0 1 -5,5h-104.40625a5,5 0 0 1 -5,-5v-13a5,5 0 0 1 5,-5z\" style=\"stroke: rgb(51, 51, 51); fill: none; stroke-width: 1px;\"/></g><g id=\"node-name-/layer2/layer2.0/Relu_1\" class=\"node graph-node\" transform=\"translate(6468.6181640625,111.5)\" style=\"opacity: 1;\"><g class=\"node-item node-item-type node-item-type-activation\" transform=\"translate(0,0)\"><path d=\"M5,0h115.75a5,5 0 0 1 5,5v13a5,5 0 0 1 -5,5h-115.75a5,5 0 0 1 -5,-5v-13a5,5 0 0 1 5,-5z\" style=\"stroke: rgb(0, 0, 0); fill: rgb(112, 41, 33); stroke-width: 0;\"/><text x=\"6\" y=\"16\" style=\"font-family: -apple-system, BlinkMacSystemFont, &quot;Segoe WPC&quot;, &quot;Segoe UI&quot;, Ubuntu, &quot;Droid Sans&quot;, sans-serif, &quot;PingFang SC&quot;; font-size: 11px; text-rendering: geometricprecision; fill: rgb(255, 255, 255);\">/layer2/layer2.0/Relu_1</text><title>Relu</title></g><path class=\"node border\" d=\"M5,0h115.75a5,5 0 0 1 5,5v13a5,5 0 0 1 -5,5h-115.75a5,5 0 0 1 -5,-5v-13a5,5 0 0 1 5,-5z\" style=\"stroke: rgb(51, 51, 51); fill: none; stroke-width: 1px;\"/></g><g id=\"node-name-/layer2/layer2.1/conv1/Conv\" class=\"node graph-node\" transform=\"translate(6760.181640625,104.75)\" style=\"opacity: 1;\"><g class=\"node-item node-item-type node-item-type-layer\" transform=\"translate(0,0)\"><path d=\"M5,0h143.06982421875a5,5 0 0 1 5,5v18a0,0 0 0 1 0,0h-153.06982421875a0,0 0 0 1 0,0v-18a5,5 0 0 1 5,-5z\" style=\"stroke: rgb(0, 0, 0); fill: rgb(51, 85, 136); stroke-width: 0;\"/><text x=\"6\" y=\"16\" style=\"font-family: -apple-system, BlinkMacSystemFont, &quot;Segoe WPC&quot;, &quot;Segoe UI&quot;, Ubuntu, &quot;Droid Sans&quot;, sans-serif, &quot;PingFang SC&quot;; font-size: 11px; text-rendering: geometricprecision; fill: rgb(255, 255, 255);\">/layer2/layer2.1/conv1/Conv</text><title>Conv</title></g><g class=\"node-attribute\" transform=\"translate(0,23)\"><path d=\"M0,0h153.06982421875a0,0 0 0 1 0,0v85a5,5 0 0 1 -5,5h-143.06982421875a5,5 0 0 1 -5,-5v-85a0,0 0 0 1 0,0z\" style=\"stroke: rgb(0, 0, 0); fill: rgb(255, 255, 255); stroke-width: 0;\"/><text id=\"initializer-onnx::Conv_285\" xml:space=\"preserve\" x=\"6\" y=\"14\" style=\"font-family: -apple-system, BlinkMacSystemFont, &quot;Segoe WPC&quot;, &quot;Segoe UI&quot;, Ubuntu, &quot;Droid Sans&quot;, sans-serif, &quot;PingFang SC&quot;; font-size: 9px; font-weight: normal; text-rendering: geometricprecision;\"><title>float32[128,128,3,3]</title><tspan style=\"font-weight: bold;\">W</tspan><tspan>〈128×128×3×3〉</tspan></text><text id=\"initializer-onnx::Conv_286\" xml:space=\"preserve\" x=\"6\" y=\"28\" style=\"font-family: -apple-system, BlinkMacSystemFont, &quot;Segoe WPC&quot;, &quot;Segoe UI&quot;, Ubuntu, &quot;Droid Sans&quot;, sans-serif, &quot;PingFang SC&quot;; font-size: 9px; font-weight: normal; text-rendering: geometricprecision;\"><title>float32[128]</title><tspan style=\"font-weight: bold;\">B</tspan><tspan>〈128〉</tspan></text><text xml:space=\"preserve\" x=\"6\" y=\"42\" style=\"font-family: -apple-system, BlinkMacSystemFont, &quot;Segoe WPC&quot;, &quot;Segoe UI&quot;, Ubuntu, &quot;Droid Sans&quot;, sans-serif, &quot;PingFang SC&quot;; font-size: 9px; font-weight: normal; text-rendering: geometricprecision;\"><title>int64[]</title><tspan>dilations</tspan><tspan> = 1, 1</tspan></text><text xml:space=\"preserve\" x=\"6\" y=\"56\" style=\"font-family: -apple-system, BlinkMacSystemFont, &quot;Segoe WPC&quot;, &quot;Segoe UI&quot;, Ubuntu, &quot;Droid Sans&quot;, sans-serif, &quot;PingFang SC&quot;; font-size: 9px; font-weight: normal; text-rendering: geometricprecision;\"><title>int64[]</title><tspan>kernel_shape</tspan><tspan> = 3, 3</tspan></text><text xml:space=\"preserve\" x=\"6\" y=\"70\" style=\"font-family: -apple-system, BlinkMacSystemFont, &quot;Segoe WPC&quot;, &quot;Segoe UI&quot;, Ubuntu, &quot;Droid Sans&quot;, sans-serif, &quot;PingFang SC&quot;; font-size: 9px; font-weight: normal; text-rendering: geometricprecision;\"><title>int64[]</title><tspan>pads</tspan><tspan> = 1, 1, 1, 1</tspan></text><text xml:space=\"preserve\" x=\"6\" y=\"84\" style=\"font-family: -apple-system, BlinkMacSystemFont, &quot;Segoe WPC&quot;, &quot;Segoe UI&quot;, Ubuntu, &quot;Droid Sans&quot;, sans-serif, &quot;PingFang SC&quot;; font-size: 9px; font-weight: normal; text-rendering: geometricprecision;\"><title>int64[]</title><tspan>strides</tspan><tspan> = 1, 1</tspan></text><line class=\"node\" x1=\"0\" x2=\"153.06982421875\" y1=\"0\" y2=\"0\" style=\"stroke: rgb(51, 51, 51); fill: none; stroke-width: 1px;\"/></g><path class=\"node border\" d=\"M5,0h143.06982421875a5,5 0 0 1 5,5v103a5,5 0 0 1 -5,5h-143.06982421875a5,5 0 0 1 -5,-5v-103a5,5 0 0 1 5,-5z\" style=\"stroke: rgb(51, 51, 51); fill: none; stroke-width: 1px;\"/></g><g id=\"node-name-/layer2/layer2.1/Relu\" class=\"node graph-node\" transform=\"translate(7118.513671875,149.75)\" style=\"opacity: 1;\"><g class=\"node-item node-item-type node-item-type-activation\" transform=\"translate(0,0)\"><path d=\"M5,0h105.265625a5,5 0 0 1 5,5v13a5,5 0 0 1 -5,5h-105.265625a5,5 0 0 1 -5,-5v-13a5,5 0 0 1 5,-5z\" style=\"stroke: rgb(0, 0, 0); fill: rgb(112, 41, 33); stroke-width: 0;\"/><text x=\"6\" y=\"16\" style=\"font-family: -apple-system, BlinkMacSystemFont, &quot;Segoe WPC&quot;, &quot;Segoe UI&quot;, Ubuntu, &quot;Droid Sans&quot;, sans-serif, &quot;PingFang SC&quot;; font-size: 11px; text-rendering: geometricprecision; fill: rgb(255, 255, 255);\">/layer2/layer2.1/Relu</text><title>Relu</title></g><path class=\"node border\" d=\"M5,0h105.265625a5,5 0 0 1 5,5v13a5,5 0 0 1 -5,5h-105.265625a5,5 0 0 1 -5,-5v-13a5,5 0 0 1 5,-5z\" style=\"stroke: rgb(51, 51, 51); fill: none; stroke-width: 1px;\"/></g><g id=\"node-name-/layer2/layer2.1/conv2/Conv\" class=\"node graph-node\" transform=\"translate(7405.32568359375,104.75)\" style=\"opacity: 1;\"><g class=\"node-item node-item-type node-item-type-layer\" transform=\"translate(0,0)\"><path d=\"M5,0h143.06982421875a5,5 0 0 1 5,5v18a0,0 0 0 1 0,0h-153.06982421875a0,0 0 0 1 0,0v-18a5,5 0 0 1 5,-5z\" style=\"stroke: rgb(0, 0, 0); fill: rgb(51, 85, 136); stroke-width: 0;\"/><text x=\"6\" y=\"16\" style=\"font-family: -apple-system, BlinkMacSystemFont, &quot;Segoe WPC&quot;, &quot;Segoe UI&quot;, Ubuntu, &quot;Droid Sans&quot;, sans-serif, &quot;PingFang SC&quot;; font-size: 11px; text-rendering: geometricprecision; fill: rgb(255, 255, 255);\">/layer2/layer2.1/conv2/Conv</text><title>Conv</title></g><g class=\"node-attribute\" transform=\"translate(0,23)\"><path d=\"M0,0h153.06982421875a0,0 0 0 1 0,0v85a5,5 0 0 1 -5,5h-143.06982421875a5,5 0 0 1 -5,-5v-85a0,0 0 0 1 0,0z\" style=\"stroke: rgb(0, 0, 0); fill: rgb(255, 255, 255); stroke-width: 0;\"/><text id=\"initializer-onnx::Conv_288\" xml:space=\"preserve\" x=\"6\" y=\"14\" style=\"font-family: -apple-system, BlinkMacSystemFont, &quot;Segoe WPC&quot;, &quot;Segoe UI&quot;, Ubuntu, &quot;Droid Sans&quot;, sans-serif, &quot;PingFang SC&quot;; font-size: 9px; font-weight: normal; text-rendering: geometricprecision;\"><title>float32[128,128,3,3]</title><tspan style=\"font-weight: bold;\">W</tspan><tspan>〈128×128×3×3〉</tspan></text><text id=\"initializer-onnx::Conv_289\" xml:space=\"preserve\" x=\"6\" y=\"28\" style=\"font-family: -apple-system, BlinkMacSystemFont, &quot;Segoe WPC&quot;, &quot;Segoe UI&quot;, Ubuntu, &quot;Droid Sans&quot;, sans-serif, &quot;PingFang SC&quot;; font-size: 9px; font-weight: normal; text-rendering: geometricprecision;\"><title>float32[128]</title><tspan style=\"font-weight: bold;\">B</tspan><tspan>〈128〉</tspan></text><text xml:space=\"preserve\" x=\"6\" y=\"42\" style=\"font-family: -apple-system, BlinkMacSystemFont, &quot;Segoe WPC&quot;, &quot;Segoe UI&quot;, Ubuntu, &quot;Droid Sans&quot;, sans-serif, &quot;PingFang SC&quot;; font-size: 9px; font-weight: normal; text-rendering: geometricprecision;\"><title>int64[]</title><tspan>dilations</tspan><tspan> = 1, 1</tspan></text><text xml:space=\"preserve\" x=\"6\" y=\"56\" style=\"font-family: -apple-system, BlinkMacSystemFont, &quot;Segoe WPC&quot;, &quot;Segoe UI&quot;, Ubuntu, &quot;Droid Sans&quot;, sans-serif, &quot;PingFang SC&quot;; font-size: 9px; font-weight: normal; text-rendering: geometricprecision;\"><title>int64[]</title><tspan>kernel_shape</tspan><tspan> = 3, 3</tspan></text><text xml:space=\"preserve\" x=\"6\" y=\"70\" style=\"font-family: -apple-system, BlinkMacSystemFont, &quot;Segoe WPC&quot;, &quot;Segoe UI&quot;, Ubuntu, &quot;Droid Sans&quot;, sans-serif, &quot;PingFang SC&quot;; font-size: 9px; font-weight: normal; text-rendering: geometricprecision;\"><title>int64[]</title><tspan>pads</tspan><tspan> = 1, 1, 1, 1</tspan></text><text xml:space=\"preserve\" x=\"6\" y=\"84\" style=\"font-family: -apple-system, BlinkMacSystemFont, &quot;Segoe WPC&quot;, &quot;Segoe UI&quot;, Ubuntu, &quot;Droid Sans&quot;, sans-serif, &quot;PingFang SC&quot;; font-size: 9px; font-weight: normal; text-rendering: geometricprecision;\"><title>int64[]</title><tspan>strides</tspan><tspan> = 1, 1</tspan></text><line class=\"node\" x1=\"0\" x2=\"153.06982421875\" y1=\"0\" y2=\"0\" style=\"stroke: rgb(51, 51, 51); fill: none; stroke-width: 1px;\"/></g><path class=\"node border\" d=\"M5,0h143.06982421875a5,5 0 0 1 5,5v103a5,5 0 0 1 -5,5h-143.06982421875a5,5 0 0 1 -5,-5v-103a5,5 0 0 1 5,-5z\" style=\"stroke: rgb(51, 51, 51); fill: none; stroke-width: 1px;\"/></g><g id=\"node-name-/layer2/layer2.1/Add\" class=\"node graph-node\" transform=\"translate(7748.3837890625,111.5)\" style=\"opacity: 1;\"><g class=\"node-item node-item-type\" transform=\"translate(0,0)\"><path d=\"M5,0h104.40625a5,5 0 0 1 5,5v13a5,5 0 0 1 -5,5h-104.40625a5,5 0 0 1 -5,-5v-13a5,5 0 0 1 5,-5z\" style=\"stroke: rgb(0, 0, 0); fill: rgb(0, 0, 0); stroke-width: 0;\"/><text x=\"6\" y=\"16\" style=\"font-family: -apple-system, BlinkMacSystemFont, &quot;Segoe WPC&quot;, &quot;Segoe UI&quot;, Ubuntu, &quot;Droid Sans&quot;, sans-serif, &quot;PingFang SC&quot;; font-size: 11px; text-rendering: geometricprecision; fill: rgb(255, 255, 255);\">/layer2/layer2.1/Add</text><title>Add</title></g><path class=\"node border\" d=\"M5,0h104.40625a5,5 0 0 1 5,5v13a5,5 0 0 1 -5,5h-104.40625a5,5 0 0 1 -5,-5v-13a5,5 0 0 1 5,-5z\" style=\"stroke: rgb(51, 51, 51); fill: none; stroke-width: 1px;\"/></g><g id=\"node-name-/layer2/layer2.1/Relu_1\" class=\"node graph-node\" transform=\"translate(8018.291015625,111.5)\" style=\"opacity: 1;\"><g class=\"node-item node-item-type node-item-type-activation\" transform=\"translate(0,0)\"><path d=\"M5,0h115.75a5,5 0 0 1 5,5v13a5,5 0 0 1 -5,5h-115.75a5,5 0 0 1 -5,-5v-13a5,5 0 0 1 5,-5z\" style=\"stroke: rgb(0, 0, 0); fill: rgb(112, 41, 33); stroke-width: 0;\"/><text x=\"6\" y=\"16\" style=\"font-family: -apple-system, BlinkMacSystemFont, &quot;Segoe WPC&quot;, &quot;Segoe UI&quot;, Ubuntu, &quot;Droid Sans&quot;, sans-serif, &quot;PingFang SC&quot;; font-size: 11px; text-rendering: geometricprecision; fill: rgb(255, 255, 255);\">/layer2/layer2.1/Relu_1</text><title>Relu</title></g><path class=\"node border\" d=\"M5,0h115.75a5,5 0 0 1 5,5v13a5,5 0 0 1 -5,5h-115.75a5,5 0 0 1 -5,-5v-13a5,5 0 0 1 5,-5z\" style=\"stroke: rgb(51, 51, 51); fill: none; stroke-width: 1px;\"/></g><g id=\"node-name-/layer2/layer2.2/conv1/Conv\" class=\"node graph-node\" transform=\"translate(8309.8544921875,104.75)\" style=\"opacity: 1;\"><g class=\"node-item node-item-type node-item-type-layer\" transform=\"translate(0,0)\"><path d=\"M5,0h143.06982421875a5,5 0 0 1 5,5v18a0,0 0 0 1 0,0h-153.06982421875a0,0 0 0 1 0,0v-18a5,5 0 0 1 5,-5z\" style=\"stroke: rgb(0, 0, 0); fill: rgb(51, 85, 136); stroke-width: 0;\"/><text x=\"6\" y=\"16\" style=\"font-family: -apple-system, BlinkMacSystemFont, &quot;Segoe WPC&quot;, &quot;Segoe UI&quot;, Ubuntu, &quot;Droid Sans&quot;, sans-serif, &quot;PingFang SC&quot;; font-size: 11px; text-rendering: geometricprecision; fill: rgb(255, 255, 255);\">/layer2/layer2.2/conv1/Conv</text><title>Conv</title></g><g class=\"node-attribute\" transform=\"translate(0,23)\"><path d=\"M0,0h153.06982421875a0,0 0 0 1 0,0v85a5,5 0 0 1 -5,5h-143.06982421875a5,5 0 0 1 -5,-5v-85a0,0 0 0 1 0,0z\" style=\"stroke: rgb(0, 0, 0); fill: rgb(255, 255, 255); stroke-width: 0;\"/><text id=\"initializer-onnx::Conv_291\" xml:space=\"preserve\" x=\"6\" y=\"14\" style=\"font-family: -apple-system, BlinkMacSystemFont, &quot;Segoe WPC&quot;, &quot;Segoe UI&quot;, Ubuntu, &quot;Droid Sans&quot;, sans-serif, &quot;PingFang SC&quot;; font-size: 9px; font-weight: normal; text-rendering: geometricprecision;\"><title>float32[128,128,3,3]</title><tspan style=\"font-weight: bold;\">W</tspan><tspan>〈128×128×3×3〉</tspan></text><text id=\"initializer-onnx::Conv_292\" xml:space=\"preserve\" x=\"6\" y=\"28\" style=\"font-family: -apple-system, BlinkMacSystemFont, &quot;Segoe WPC&quot;, &quot;Segoe UI&quot;, Ubuntu, &quot;Droid Sans&quot;, sans-serif, &quot;PingFang SC&quot;; font-size: 9px; font-weight: normal; text-rendering: geometricprecision;\"><title>float32[128]</title><tspan style=\"font-weight: bold;\">B</tspan><tspan>〈128〉</tspan></text><text xml:space=\"preserve\" x=\"6\" y=\"42\" style=\"font-family: -apple-system, BlinkMacSystemFont, &quot;Segoe WPC&quot;, &quot;Segoe UI&quot;, Ubuntu, &quot;Droid Sans&quot;, sans-serif, &quot;PingFang SC&quot;; font-size: 9px; font-weight: normal; text-rendering: geometricprecision;\"><title>int64[]</title><tspan>dilations</tspan><tspan> = 1, 1</tspan></text><text xml:space=\"preserve\" x=\"6\" y=\"56\" style=\"font-family: -apple-system, BlinkMacSystemFont, &quot;Segoe WPC&quot;, &quot;Segoe UI&quot;, Ubuntu, &quot;Droid Sans&quot;, sans-serif, &quot;PingFang SC&quot;; font-size: 9px; font-weight: normal; text-rendering: geometricprecision;\"><title>int64[]</title><tspan>kernel_shape</tspan><tspan> = 3, 3</tspan></text><text xml:space=\"preserve\" x=\"6\" y=\"70\" style=\"font-family: -apple-system, BlinkMacSystemFont, &quot;Segoe WPC&quot;, &quot;Segoe UI&quot;, Ubuntu, &quot;Droid Sans&quot;, sans-serif, &quot;PingFang SC&quot;; font-size: 9px; font-weight: normal; text-rendering: geometricprecision;\"><title>int64[]</title><tspan>pads</tspan><tspan> = 1, 1, 1, 1</tspan></text><text xml:space=\"preserve\" x=\"6\" y=\"84\" style=\"font-family: -apple-system, BlinkMacSystemFont, &quot;Segoe WPC&quot;, &quot;Segoe UI&quot;, Ubuntu, &quot;Droid Sans&quot;, sans-serif, &quot;PingFang SC&quot;; font-size: 9px; font-weight: normal; text-rendering: geometricprecision;\"><title>int64[]</title><tspan>strides</tspan><tspan> = 1, 1</tspan></text><line class=\"node\" x1=\"0\" x2=\"153.06982421875\" y1=\"0\" y2=\"0\" style=\"stroke: rgb(51, 51, 51); fill: none; stroke-width: 1px;\"/></g><path class=\"node border\" d=\"M5,0h143.06982421875a5,5 0 0 1 5,5v103a5,5 0 0 1 -5,5h-143.06982421875a5,5 0 0 1 -5,-5v-103a5,5 0 0 1 5,-5z\" style=\"stroke: rgb(51, 51, 51); fill: none; stroke-width: 1px;\"/></g><g id=\"node-name-/layer2/layer2.2/Relu\" class=\"node graph-node\" transform=\"translate(8668.1865234375,149.75)\" style=\"opacity: 1;\"><g class=\"node-item node-item-type node-item-type-activation\" transform=\"translate(0,0)\"><path d=\"M5,0h105.265625a5,5 0 0 1 5,5v13a5,5 0 0 1 -5,5h-105.265625a5,5 0 0 1 -5,-5v-13a5,5 0 0 1 5,-5z\" style=\"stroke: rgb(0, 0, 0); fill: rgb(112, 41, 33); stroke-width: 0;\"/><text x=\"6\" y=\"16\" style=\"font-family: -apple-system, BlinkMacSystemFont, &quot;Segoe WPC&quot;, &quot;Segoe UI&quot;, Ubuntu, &quot;Droid Sans&quot;, sans-serif, &quot;PingFang SC&quot;; font-size: 11px; text-rendering: geometricprecision; fill: rgb(255, 255, 255);\">/layer2/layer2.2/Relu</text><title>Relu</title></g><path class=\"node border\" d=\"M5,0h105.265625a5,5 0 0 1 5,5v13a5,5 0 0 1 -5,5h-105.265625a5,5 0 0 1 -5,-5v-13a5,5 0 0 1 5,-5z\" style=\"stroke: rgb(51, 51, 51); fill: none; stroke-width: 1px;\"/></g><g id=\"node-name-/layer2/layer2.2/conv2/Conv\" class=\"node graph-node\" transform=\"translate(8954.99853515625,104.75)\" style=\"opacity: 1;\"><g class=\"node-item node-item-type node-item-type-layer\" transform=\"translate(0,0)\"><path d=\"M5,0h143.06982421875a5,5 0 0 1 5,5v18a0,0 0 0 1 0,0h-153.06982421875a0,0 0 0 1 0,0v-18a5,5 0 0 1 5,-5z\" style=\"stroke: rgb(0, 0, 0); fill: rgb(51, 85, 136); stroke-width: 0;\"/><text x=\"6\" y=\"16\" style=\"font-family: -apple-system, BlinkMacSystemFont, &quot;Segoe WPC&quot;, &quot;Segoe UI&quot;, Ubuntu, &quot;Droid Sans&quot;, sans-serif, &quot;PingFang SC&quot;; font-size: 11px; text-rendering: geometricprecision; fill: rgb(255, 255, 255);\">/layer2/layer2.2/conv2/Conv</text><title>Conv</title></g><g class=\"node-attribute\" transform=\"translate(0,23)\"><path d=\"M0,0h153.06982421875a0,0 0 0 1 0,0v85a5,5 0 0 1 -5,5h-143.06982421875a5,5 0 0 1 -5,-5v-85a0,0 0 0 1 0,0z\" style=\"stroke: rgb(0, 0, 0); fill: rgb(255, 255, 255); stroke-width: 0;\"/><text id=\"initializer-onnx::Conv_294\" xml:space=\"preserve\" x=\"6\" y=\"14\" style=\"font-family: -apple-system, BlinkMacSystemFont, &quot;Segoe WPC&quot;, &quot;Segoe UI&quot;, Ubuntu, &quot;Droid Sans&quot;, sans-serif, &quot;PingFang SC&quot;; font-size: 9px; font-weight: normal; text-rendering: geometricprecision;\"><title>float32[128,128,3,3]</title><tspan style=\"font-weight: bold;\">W</tspan><tspan>〈128×128×3×3〉</tspan></text><text id=\"initializer-onnx::Conv_295\" xml:space=\"preserve\" x=\"6\" y=\"28\" style=\"font-family: -apple-system, BlinkMacSystemFont, &quot;Segoe WPC&quot;, &quot;Segoe UI&quot;, Ubuntu, &quot;Droid Sans&quot;, sans-serif, &quot;PingFang SC&quot;; font-size: 9px; font-weight: normal; text-rendering: geometricprecision;\"><title>float32[128]</title><tspan style=\"font-weight: bold;\">B</tspan><tspan>〈128〉</tspan></text><text xml:space=\"preserve\" x=\"6\" y=\"42\" style=\"font-family: -apple-system, BlinkMacSystemFont, &quot;Segoe WPC&quot;, &quot;Segoe UI&quot;, Ubuntu, &quot;Droid Sans&quot;, sans-serif, &quot;PingFang SC&quot;; font-size: 9px; font-weight: normal; text-rendering: geometricprecision;\"><title>int64[]</title><tspan>dilations</tspan><tspan> = 1, 1</tspan></text><text xml:space=\"preserve\" x=\"6\" y=\"56\" style=\"font-family: -apple-system, BlinkMacSystemFont, &quot;Segoe WPC&quot;, &quot;Segoe UI&quot;, Ubuntu, &quot;Droid Sans&quot;, sans-serif, &quot;PingFang SC&quot;; font-size: 9px; font-weight: normal; text-rendering: geometricprecision;\"><title>int64[]</title><tspan>kernel_shape</tspan><tspan> = 3, 3</tspan></text><text xml:space=\"preserve\" x=\"6\" y=\"70\" style=\"font-family: -apple-system, BlinkMacSystemFont, &quot;Segoe WPC&quot;, &quot;Segoe UI&quot;, Ubuntu, &quot;Droid Sans&quot;, sans-serif, &quot;PingFang SC&quot;; font-size: 9px; font-weight: normal; text-rendering: geometricprecision;\"><title>int64[]</title><tspan>pads</tspan><tspan> = 1, 1, 1, 1</tspan></text><text xml:space=\"preserve\" x=\"6\" y=\"84\" style=\"font-family: -apple-system, BlinkMacSystemFont, &quot;Segoe WPC&quot;, &quot;Segoe UI&quot;, Ubuntu, &quot;Droid Sans&quot;, sans-serif, &quot;PingFang SC&quot;; font-size: 9px; font-weight: normal; text-rendering: geometricprecision;\"><title>int64[]</title><tspan>strides</tspan><tspan> = 1, 1</tspan></text><line class=\"node\" x1=\"0\" x2=\"153.06982421875\" y1=\"0\" y2=\"0\" style=\"stroke: rgb(51, 51, 51); fill: none; stroke-width: 1px;\"/></g><path class=\"node border\" d=\"M5,0h143.06982421875a5,5 0 0 1 5,5v103a5,5 0 0 1 -5,5h-143.06982421875a5,5 0 0 1 -5,-5v-103a5,5 0 0 1 5,-5z\" style=\"stroke: rgb(51, 51, 51); fill: none; stroke-width: 1px;\"/></g><g id=\"node-name-/layer2/layer2.2/Add\" class=\"node graph-node\" transform=\"translate(9298.056640625,111.5)\" style=\"opacity: 1;\"><g class=\"node-item node-item-type\" transform=\"translate(0,0)\"><path d=\"M5,0h104.40625a5,5 0 0 1 5,5v13a5,5 0 0 1 -5,5h-104.40625a5,5 0 0 1 -5,-5v-13a5,5 0 0 1 5,-5z\" style=\"stroke: rgb(0, 0, 0); fill: rgb(0, 0, 0); stroke-width: 0;\"/><text x=\"6\" y=\"16\" style=\"font-family: -apple-system, BlinkMacSystemFont, &quot;Segoe WPC&quot;, &quot;Segoe UI&quot;, Ubuntu, &quot;Droid Sans&quot;, sans-serif, &quot;PingFang SC&quot;; font-size: 11px; text-rendering: geometricprecision; fill: rgb(255, 255, 255);\">/layer2/layer2.2/Add</text><title>Add</title></g><path class=\"node border\" d=\"M5,0h104.40625a5,5 0 0 1 5,5v13a5,5 0 0 1 -5,5h-104.40625a5,5 0 0 1 -5,-5v-13a5,5 0 0 1 5,-5z\" style=\"stroke: rgb(51, 51, 51); fill: none; stroke-width: 1px;\"/></g><g id=\"node-name-/layer2/layer2.2/Relu_1\" class=\"node graph-node\" transform=\"translate(9567.9638671875,111.5)\" style=\"opacity: 1;\"><g class=\"node-item node-item-type node-item-type-activation\" transform=\"translate(0,0)\"><path d=\"M5,0h115.75a5,5 0 0 1 5,5v13a5,5 0 0 1 -5,5h-115.75a5,5 0 0 1 -5,-5v-13a5,5 0 0 1 5,-5z\" style=\"stroke: rgb(0, 0, 0); fill: rgb(112, 41, 33); stroke-width: 0;\"/><text x=\"6\" y=\"16\" style=\"font-family: -apple-system, BlinkMacSystemFont, &quot;Segoe WPC&quot;, &quot;Segoe UI&quot;, Ubuntu, &quot;Droid Sans&quot;, sans-serif, &quot;PingFang SC&quot;; font-size: 11px; text-rendering: geometricprecision; fill: rgb(255, 255, 255);\">/layer2/layer2.2/Relu_1</text><title>Relu</title></g><path class=\"node border\" d=\"M5,0h115.75a5,5 0 0 1 5,5v13a5,5 0 0 1 -5,5h-115.75a5,5 0 0 1 -5,-5v-13a5,5 0 0 1 5,-5z\" style=\"stroke: rgb(51, 51, 51); fill: none; stroke-width: 1px;\"/></g><g id=\"node-name-/layer3/layer3.0/conv1/Conv\" class=\"node graph-node\" transform=\"translate(9859.52734375,0)\" style=\"opacity: 1;\"><g class=\"node-item node-item-type node-item-type-layer\" transform=\"translate(0,0)\"><path d=\"M5,0h143.06982421875a5,5 0 0 1 5,5v18a0,0 0 0 1 0,0h-153.06982421875a0,0 0 0 1 0,0v-18a5,5 0 0 1 5,-5z\" style=\"stroke: rgb(0, 0, 0); fill: rgb(51, 85, 136); stroke-width: 0;\"/><text x=\"6\" y=\"16\" style=\"font-family: -apple-system, BlinkMacSystemFont, &quot;Segoe WPC&quot;, &quot;Segoe UI&quot;, Ubuntu, &quot;Droid Sans&quot;, sans-serif, &quot;PingFang SC&quot;; font-size: 11px; text-rendering: geometricprecision; fill: rgb(255, 255, 255);\">/layer3/layer3.0/conv1/Conv</text><title>Conv</title></g><g class=\"node-attribute\" transform=\"translate(0,23)\"><path d=\"M0,0h153.06982421875a0,0 0 0 1 0,0v85a5,5 0 0 1 -5,5h-143.06982421875a5,5 0 0 1 -5,-5v-85a0,0 0 0 1 0,0z\" style=\"stroke: rgb(0, 0, 0); fill: rgb(255, 255, 255); stroke-width: 0;\"/><text id=\"initializer-onnx::Conv_297\" xml:space=\"preserve\" x=\"6\" y=\"14\" style=\"font-family: -apple-system, BlinkMacSystemFont, &quot;Segoe WPC&quot;, &quot;Segoe UI&quot;, Ubuntu, &quot;Droid Sans&quot;, sans-serif, &quot;PingFang SC&quot;; font-size: 9px; font-weight: normal; text-rendering: geometricprecision;\"><title>float32[128,128,3,3]</title><tspan style=\"font-weight: bold;\">W</tspan><tspan>〈128×128×3×3〉</tspan></text><text id=\"initializer-onnx::Conv_298\" xml:space=\"preserve\" x=\"6\" y=\"28\" style=\"font-family: -apple-system, BlinkMacSystemFont, &quot;Segoe WPC&quot;, &quot;Segoe UI&quot;, Ubuntu, &quot;Droid Sans&quot;, sans-serif, &quot;PingFang SC&quot;; font-size: 9px; font-weight: normal; text-rendering: geometricprecision;\"><title>float32[128]</title><tspan style=\"font-weight: bold;\">B</tspan><tspan>〈128〉</tspan></text><text xml:space=\"preserve\" x=\"6\" y=\"42\" style=\"font-family: -apple-system, BlinkMacSystemFont, &quot;Segoe WPC&quot;, &quot;Segoe UI&quot;, Ubuntu, &quot;Droid Sans&quot;, sans-serif, &quot;PingFang SC&quot;; font-size: 9px; font-weight: normal; text-rendering: geometricprecision;\"><title>int64[]</title><tspan>dilations</tspan><tspan> = 1, 1</tspan></text><text xml:space=\"preserve\" x=\"6\" y=\"56\" style=\"font-family: -apple-system, BlinkMacSystemFont, &quot;Segoe WPC&quot;, &quot;Segoe UI&quot;, Ubuntu, &quot;Droid Sans&quot;, sans-serif, &quot;PingFang SC&quot;; font-size: 9px; font-weight: normal; text-rendering: geometricprecision;\"><title>int64[]</title><tspan>kernel_shape</tspan><tspan> = 3, 3</tspan></text><text xml:space=\"preserve\" x=\"6\" y=\"70\" style=\"font-family: -apple-system, BlinkMacSystemFont, &quot;Segoe WPC&quot;, &quot;Segoe UI&quot;, Ubuntu, &quot;Droid Sans&quot;, sans-serif, &quot;PingFang SC&quot;; font-size: 9px; font-weight: normal; text-rendering: geometricprecision;\"><title>int64[]</title><tspan>pads</tspan><tspan> = 1, 1, 1, 1</tspan></text><text xml:space=\"preserve\" x=\"6\" y=\"84\" style=\"font-family: -apple-system, BlinkMacSystemFont, &quot;Segoe WPC&quot;, &quot;Segoe UI&quot;, Ubuntu, &quot;Droid Sans&quot;, sans-serif, &quot;PingFang SC&quot;; font-size: 9px; font-weight: normal; text-rendering: geometricprecision;\"><title>int64[]</title><tspan>strides</tspan><tspan> = 2, 2</tspan></text><line class=\"node\" x1=\"0\" x2=\"153.06982421875\" y1=\"0\" y2=\"0\" style=\"stroke: rgb(51, 51, 51); fill: none; stroke-width: 1px;\"/></g><path class=\"node border\" d=\"M5,0h143.06982421875a5,5 0 0 1 5,5v103a5,5 0 0 1 -5,5h-143.06982421875a5,5 0 0 1 -5,-5v-103a5,5 0 0 1 5,-5z\" style=\"stroke: rgb(51, 51, 51); fill: none; stroke-width: 1px;\"/></g><g id=\"node-name-/layer3/layer3.0/Relu\" class=\"node graph-node\" transform=\"translate(10202.58544921875,45)\" style=\"opacity: 1;\"><g class=\"node-item node-item-type node-item-type-activation\" transform=\"translate(0,0)\"><path d=\"M5,0h105.265625a5,5 0 0 1 5,5v13a5,5 0 0 1 -5,5h-105.265625a5,5 0 0 1 -5,-5v-13a5,5 0 0 1 5,-5z\" style=\"stroke: rgb(0, 0, 0); fill: rgb(112, 41, 33); stroke-width: 0;\"/><text x=\"6\" y=\"16\" style=\"font-family: -apple-system, BlinkMacSystemFont, &quot;Segoe WPC&quot;, &quot;Segoe UI&quot;, Ubuntu, &quot;Droid Sans&quot;, sans-serif, &quot;PingFang SC&quot;; font-size: 11px; text-rendering: geometricprecision; fill: rgb(255, 255, 255);\">/layer3/layer3.0/Relu</text><title>Relu</title></g><path class=\"node border\" d=\"M5,0h105.265625a5,5 0 0 1 5,5v13a5,5 0 0 1 -5,5h-105.265625a5,5 0 0 1 -5,-5v-13a5,5 0 0 1 5,-5z\" style=\"stroke: rgb(51, 51, 51); fill: none; stroke-width: 1px;\"/></g><g id=\"node-name-/layer3/layer3.0/conv2/Conv\" class=\"node graph-node\" transform=\"translate(10505.8720703125,0)\" style=\"opacity: 1;\"><g class=\"node-item node-item-type node-item-type-layer\" transform=\"translate(0,0)\"><path d=\"M5,0h143.06982421875a5,5 0 0 1 5,5v18a0,0 0 0 1 0,0h-153.06982421875a0,0 0 0 1 0,0v-18a5,5 0 0 1 5,-5z\" style=\"stroke: rgb(0, 0, 0); fill: rgb(51, 85, 136); stroke-width: 0;\"/><text x=\"6\" y=\"16\" style=\"font-family: -apple-system, BlinkMacSystemFont, &quot;Segoe WPC&quot;, &quot;Segoe UI&quot;, Ubuntu, &quot;Droid Sans&quot;, sans-serif, &quot;PingFang SC&quot;; font-size: 11px; text-rendering: geometricprecision; fill: rgb(255, 255, 255);\">/layer3/layer3.0/conv2/Conv</text><title>Conv</title></g><g class=\"node-attribute\" transform=\"translate(0,23)\"><path d=\"M0,0h153.06982421875a0,0 0 0 1 0,0v85a5,5 0 0 1 -5,5h-143.06982421875a5,5 0 0 1 -5,-5v-85a0,0 0 0 1 0,0z\" style=\"stroke: rgb(0, 0, 0); fill: rgb(255, 255, 255); stroke-width: 0;\"/><text id=\"initializer-onnx::Conv_300\" xml:space=\"preserve\" x=\"6\" y=\"14\" style=\"font-family: -apple-system, BlinkMacSystemFont, &quot;Segoe WPC&quot;, &quot;Segoe UI&quot;, Ubuntu, &quot;Droid Sans&quot;, sans-serif, &quot;PingFang SC&quot;; font-size: 9px; font-weight: normal; text-rendering: geometricprecision;\"><title>float32[128,128,3,3]</title><tspan style=\"font-weight: bold;\">W</tspan><tspan>〈128×128×3×3〉</tspan></text><text id=\"initializer-onnx::Conv_301\" xml:space=\"preserve\" x=\"6\" y=\"28\" style=\"font-family: -apple-system, BlinkMacSystemFont, &quot;Segoe WPC&quot;, &quot;Segoe UI&quot;, Ubuntu, &quot;Droid Sans&quot;, sans-serif, &quot;PingFang SC&quot;; font-size: 9px; font-weight: normal; text-rendering: geometricprecision;\"><title>float32[128]</title><tspan style=\"font-weight: bold;\">B</tspan><tspan>〈128〉</tspan></text><text xml:space=\"preserve\" x=\"6\" y=\"42\" style=\"font-family: -apple-system, BlinkMacSystemFont, &quot;Segoe WPC&quot;, &quot;Segoe UI&quot;, Ubuntu, &quot;Droid Sans&quot;, sans-serif, &quot;PingFang SC&quot;; font-size: 9px; font-weight: normal; text-rendering: geometricprecision;\"><title>int64[]</title><tspan>dilations</tspan><tspan> = 1, 1</tspan></text><text xml:space=\"preserve\" x=\"6\" y=\"56\" style=\"font-family: -apple-system, BlinkMacSystemFont, &quot;Segoe WPC&quot;, &quot;Segoe UI&quot;, Ubuntu, &quot;Droid Sans&quot;, sans-serif, &quot;PingFang SC&quot;; font-size: 9px; font-weight: normal; text-rendering: geometricprecision;\"><title>int64[]</title><tspan>kernel_shape</tspan><tspan> = 3, 3</tspan></text><text xml:space=\"preserve\" x=\"6\" y=\"70\" style=\"font-family: -apple-system, BlinkMacSystemFont, &quot;Segoe WPC&quot;, &quot;Segoe UI&quot;, Ubuntu, &quot;Droid Sans&quot;, sans-serif, &quot;PingFang SC&quot;; font-size: 9px; font-weight: normal; text-rendering: geometricprecision;\"><title>int64[]</title><tspan>pads</tspan><tspan> = 1, 1, 1, 1</tspan></text><text xml:space=\"preserve\" x=\"6\" y=\"84\" style=\"font-family: -apple-system, BlinkMacSystemFont, &quot;Segoe WPC&quot;, &quot;Segoe UI&quot;, Ubuntu, &quot;Droid Sans&quot;, sans-serif, &quot;PingFang SC&quot;; font-size: 9px; font-weight: normal; text-rendering: geometricprecision;\"><title>int64[]</title><tspan>strides</tspan><tspan> = 1, 1</tspan></text><line class=\"node\" x1=\"0\" x2=\"153.06982421875\" y1=\"0\" y2=\"0\" style=\"stroke: rgb(51, 51, 51); fill: none; stroke-width: 1px;\"/></g><path class=\"node border\" d=\"M5,0h143.06982421875a5,5 0 0 1 5,5v103a5,5 0 0 1 -5,5h-143.06982421875a5,5 0 0 1 -5,-5v-103a5,5 0 0 1 5,-5z\" style=\"stroke: rgb(51, 51, 51); fill: none; stroke-width: 1px;\"/></g><g id=\"node-name-/layer3/layer3.0/shortcut/shortcut.0/Conv\" class=\"node graph-node\" transform=\"translate(10474.12353515625,133)\" style=\"opacity: 1;\"><g class=\"node-item node-item-type node-item-type-layer\" transform=\"translate(0,0)\"><path d=\"M5,0h206.56689453125a5,5 0 0 1 5,5v18a0,0 0 0 1 0,0h-216.56689453125a0,0 0 0 1 0,0v-18a5,5 0 0 1 5,-5z\" style=\"stroke: rgb(0, 0, 0); fill: rgb(51, 85, 136); stroke-width: 0;\"/><text x=\"6\" y=\"16\" style=\"font-family: -apple-system, BlinkMacSystemFont, &quot;Segoe WPC&quot;, &quot;Segoe UI&quot;, Ubuntu, &quot;Droid Sans&quot;, sans-serif, &quot;PingFang SC&quot;; font-size: 11px; text-rendering: geometricprecision; fill: rgb(255, 255, 255);\">/layer3/layer3.0/shortcut/shortcut.0/Conv</text><title>Conv</title></g><g class=\"node-attribute\" transform=\"translate(0,23)\"><path d=\"M0,0h216.56689453125a0,0 0 0 1 0,0v85a5,5 0 0 1 -5,5h-206.56689453125a5,5 0 0 1 -5,-5v-85a0,0 0 0 1 0,0z\" style=\"stroke: rgb(0, 0, 0); fill: rgb(255, 255, 255); stroke-width: 0;\"/><text id=\"initializer-onnx::Conv_303\" xml:space=\"preserve\" x=\"6\" y=\"14\" style=\"font-family: -apple-system, BlinkMacSystemFont, &quot;Segoe WPC&quot;, &quot;Segoe UI&quot;, Ubuntu, &quot;Droid Sans&quot;, sans-serif, &quot;PingFang SC&quot;; font-size: 9px; font-weight: normal; text-rendering: geometricprecision;\"><title>float32[128,128,1,1]</title><tspan style=\"font-weight: bold;\">W</tspan><tspan>〈128×128×1×1〉</tspan></text><text id=\"initializer-onnx::Conv_304\" xml:space=\"preserve\" x=\"6\" y=\"28\" style=\"font-family: -apple-system, BlinkMacSystemFont, &quot;Segoe WPC&quot;, &quot;Segoe UI&quot;, Ubuntu, &quot;Droid Sans&quot;, sans-serif, &quot;PingFang SC&quot;; font-size: 9px; font-weight: normal; text-rendering: geometricprecision;\"><title>float32[128]</title><tspan style=\"font-weight: bold;\">B</tspan><tspan>〈128〉</tspan></text><text xml:space=\"preserve\" x=\"6\" y=\"42\" style=\"font-family: -apple-system, BlinkMacSystemFont, &quot;Segoe WPC&quot;, &quot;Segoe UI&quot;, Ubuntu, &quot;Droid Sans&quot;, sans-serif, &quot;PingFang SC&quot;; font-size: 9px; font-weight: normal; text-rendering: geometricprecision;\"><title>int64[]</title><tspan>dilations</tspan><tspan> = 1, 1</tspan></text><text xml:space=\"preserve\" x=\"6\" y=\"56\" style=\"font-family: -apple-system, BlinkMacSystemFont, &quot;Segoe WPC&quot;, &quot;Segoe UI&quot;, Ubuntu, &quot;Droid Sans&quot;, sans-serif, &quot;PingFang SC&quot;; font-size: 9px; font-weight: normal; text-rendering: geometricprecision;\"><title>int64[]</title><tspan>kernel_shape</tspan><tspan> = 1, 1</tspan></text><text xml:space=\"preserve\" x=\"6\" y=\"70\" style=\"font-family: -apple-system, BlinkMacSystemFont, &quot;Segoe WPC&quot;, &quot;Segoe UI&quot;, Ubuntu, &quot;Droid Sans&quot;, sans-serif, &quot;PingFang SC&quot;; font-size: 9px; font-weight: normal; text-rendering: geometricprecision;\"><title>int64[]</title><tspan>pads</tspan><tspan> = 0, 0, 0, 0</tspan></text><text xml:space=\"preserve\" x=\"6\" y=\"84\" style=\"font-family: -apple-system, BlinkMacSystemFont, &quot;Segoe WPC&quot;, &quot;Segoe UI&quot;, Ubuntu, &quot;Droid Sans&quot;, sans-serif, &quot;PingFang SC&quot;; font-size: 9px; font-weight: normal; text-rendering: geometricprecision;\"><title>int64[]</title><tspan>strides</tspan><tspan> = 2, 2</tspan></text><line class=\"node\" x1=\"0\" x2=\"216.56689453125\" y1=\"0\" y2=\"0\" style=\"stroke: rgb(51, 51, 51); fill: none; stroke-width: 1px;\"/></g><path class=\"node border\" d=\"M5,0h206.56689453125a5,5 0 0 1 5,5v103a5,5 0 0 1 -5,5h-206.56689453125a5,5 0 0 1 -5,-5v-103a5,5 0 0 1 5,-5z\" style=\"stroke: rgb(51, 51, 51); fill: none; stroke-width: 1px;\"/></g><g id=\"node-name-/layer3/layer3.0/Add\" class=\"node graph-node\" transform=\"translate(10938.4033203125,111.5)\" style=\"opacity: 1;\"><g class=\"node-item node-item-type\" transform=\"translate(0,0)\"><path d=\"M5,0h104.40625a5,5 0 0 1 5,5v13a5,5 0 0 1 -5,5h-104.40625a5,5 0 0 1 -5,-5v-13a5,5 0 0 1 5,-5z\" style=\"stroke: rgb(0, 0, 0); fill: rgb(0, 0, 0); stroke-width: 0;\"/><text x=\"6\" y=\"16\" style=\"font-family: -apple-system, BlinkMacSystemFont, &quot;Segoe WPC&quot;, &quot;Segoe UI&quot;, Ubuntu, &quot;Droid Sans&quot;, sans-serif, &quot;PingFang SC&quot;; font-size: 11px; text-rendering: geometricprecision; fill: rgb(255, 255, 255);\">/layer3/layer3.0/Add</text><title>Add</title></g><path class=\"node border\" d=\"M5,0h104.40625a5,5 0 0 1 5,5v13a5,5 0 0 1 -5,5h-104.40625a5,5 0 0 1 -5,-5v-13a5,5 0 0 1 5,-5z\" style=\"stroke: rgb(51, 51, 51); fill: none; stroke-width: 1px;\"/></g><g id=\"node-name-/layer3/layer3.0/Relu_1\" class=\"node graph-node\" transform=\"translate(11208.310546875,111.5)\" style=\"opacity: 1;\"><g class=\"node-item node-item-type node-item-type-activation\" transform=\"translate(0,0)\"><path d=\"M5,0h115.75a5,5 0 0 1 5,5v13a5,5 0 0 1 -5,5h-115.75a5,5 0 0 1 -5,-5v-13a5,5 0 0 1 5,-5z\" style=\"stroke: rgb(0, 0, 0); fill: rgb(112, 41, 33); stroke-width: 0;\"/><text x=\"6\" y=\"16\" style=\"font-family: -apple-system, BlinkMacSystemFont, &quot;Segoe WPC&quot;, &quot;Segoe UI&quot;, Ubuntu, &quot;Droid Sans&quot;, sans-serif, &quot;PingFang SC&quot;; font-size: 11px; text-rendering: geometricprecision; fill: rgb(255, 255, 255);\">/layer3/layer3.0/Relu_1</text><title>Relu</title></g><path class=\"node border\" d=\"M5,0h115.75a5,5 0 0 1 5,5v13a5,5 0 0 1 -5,5h-115.75a5,5 0 0 1 -5,-5v-13a5,5 0 0 1 5,-5z\" style=\"stroke: rgb(51, 51, 51); fill: none; stroke-width: 1px;\"/></g><g id=\"node-name-/layer3/layer3.1/conv1/Conv\" class=\"node graph-node\" transform=\"translate(11499.8740234375,104.75)\" style=\"opacity: 1;\"><g class=\"node-item node-item-type node-item-type-layer\" transform=\"translate(0,0)\"><path d=\"M5,0h143.06982421875a5,5 0 0 1 5,5v18a0,0 0 0 1 0,0h-153.06982421875a0,0 0 0 1 0,0v-18a5,5 0 0 1 5,-5z\" style=\"stroke: rgb(0, 0, 0); fill: rgb(51, 85, 136); stroke-width: 0;\"/><text x=\"6\" y=\"16\" style=\"font-family: -apple-system, BlinkMacSystemFont, &quot;Segoe WPC&quot;, &quot;Segoe UI&quot;, Ubuntu, &quot;Droid Sans&quot;, sans-serif, &quot;PingFang SC&quot;; font-size: 11px; text-rendering: geometricprecision; fill: rgb(255, 255, 255);\">/layer3/layer3.1/conv1/Conv</text><title>Conv</title></g><g class=\"node-attribute\" transform=\"translate(0,23)\"><path d=\"M0,0h153.06982421875a0,0 0 0 1 0,0v85a5,5 0 0 1 -5,5h-143.06982421875a5,5 0 0 1 -5,-5v-85a0,0 0 0 1 0,0z\" style=\"stroke: rgb(0, 0, 0); fill: rgb(255, 255, 255); stroke-width: 0;\"/><text id=\"initializer-onnx::Conv_306\" xml:space=\"preserve\" x=\"6\" y=\"14\" style=\"font-family: -apple-system, BlinkMacSystemFont, &quot;Segoe WPC&quot;, &quot;Segoe UI&quot;, Ubuntu, &quot;Droid Sans&quot;, sans-serif, &quot;PingFang SC&quot;; font-size: 9px; font-weight: normal; text-rendering: geometricprecision;\"><title>float32[128,128,3,3]</title><tspan style=\"font-weight: bold;\">W</tspan><tspan>〈128×128×3×3〉</tspan></text><text id=\"initializer-onnx::Conv_307\" xml:space=\"preserve\" x=\"6\" y=\"28\" style=\"font-family: -apple-system, BlinkMacSystemFont, &quot;Segoe WPC&quot;, &quot;Segoe UI&quot;, Ubuntu, &quot;Droid Sans&quot;, sans-serif, &quot;PingFang SC&quot;; font-size: 9px; font-weight: normal; text-rendering: geometricprecision;\"><title>float32[128]</title><tspan style=\"font-weight: bold;\">B</tspan><tspan>〈128〉</tspan></text><text xml:space=\"preserve\" x=\"6\" y=\"42\" style=\"font-family: -apple-system, BlinkMacSystemFont, &quot;Segoe WPC&quot;, &quot;Segoe UI&quot;, Ubuntu, &quot;Droid Sans&quot;, sans-serif, &quot;PingFang SC&quot;; font-size: 9px; font-weight: normal; text-rendering: geometricprecision;\"><title>int64[]</title><tspan>dilations</tspan><tspan> = 1, 1</tspan></text><text xml:space=\"preserve\" x=\"6\" y=\"56\" style=\"font-family: -apple-system, BlinkMacSystemFont, &quot;Segoe WPC&quot;, &quot;Segoe UI&quot;, Ubuntu, &quot;Droid Sans&quot;, sans-serif, &quot;PingFang SC&quot;; font-size: 9px; font-weight: normal; text-rendering: geometricprecision;\"><title>int64[]</title><tspan>kernel_shape</tspan><tspan> = 3, 3</tspan></text><text xml:space=\"preserve\" x=\"6\" y=\"70\" style=\"font-family: -apple-system, BlinkMacSystemFont, &quot;Segoe WPC&quot;, &quot;Segoe UI&quot;, Ubuntu, &quot;Droid Sans&quot;, sans-serif, &quot;PingFang SC&quot;; font-size: 9px; font-weight: normal; text-rendering: geometricprecision;\"><title>int64[]</title><tspan>pads</tspan><tspan> = 1, 1, 1, 1</tspan></text><text xml:space=\"preserve\" x=\"6\" y=\"84\" style=\"font-family: -apple-system, BlinkMacSystemFont, &quot;Segoe WPC&quot;, &quot;Segoe UI&quot;, Ubuntu, &quot;Droid Sans&quot;, sans-serif, &quot;PingFang SC&quot;; font-size: 9px; font-weight: normal; text-rendering: geometricprecision;\"><title>int64[]</title><tspan>strides</tspan><tspan> = 1, 1</tspan></text><line class=\"node\" x1=\"0\" x2=\"153.06982421875\" y1=\"0\" y2=\"0\" style=\"stroke: rgb(51, 51, 51); fill: none; stroke-width: 1px;\"/></g><path class=\"node border\" d=\"M5,0h143.06982421875a5,5 0 0 1 5,5v103a5,5 0 0 1 -5,5h-143.06982421875a5,5 0 0 1 -5,-5v-103a5,5 0 0 1 5,-5z\" style=\"stroke: rgb(51, 51, 51); fill: none; stroke-width: 1px;\"/></g><g id=\"node-name-/layer3/layer3.1/Relu\" class=\"node graph-node\" transform=\"translate(11858.2060546875,149.75)\" style=\"opacity: 1;\"><g class=\"node-item node-item-type node-item-type-activation\" transform=\"translate(0,0)\"><path d=\"M5,0h105.265625a5,5 0 0 1 5,5v13a5,5 0 0 1 -5,5h-105.265625a5,5 0 0 1 -5,-5v-13a5,5 0 0 1 5,-5z\" style=\"stroke: rgb(0, 0, 0); fill: rgb(112, 41, 33); stroke-width: 0;\"/><text x=\"6\" y=\"16\" style=\"font-family: -apple-system, BlinkMacSystemFont, &quot;Segoe WPC&quot;, &quot;Segoe UI&quot;, Ubuntu, &quot;Droid Sans&quot;, sans-serif, &quot;PingFang SC&quot;; font-size: 11px; text-rendering: geometricprecision; fill: rgb(255, 255, 255);\">/layer3/layer3.1/Relu</text><title>Relu</title></g><path class=\"node border\" d=\"M5,0h105.265625a5,5 0 0 1 5,5v13a5,5 0 0 1 -5,5h-105.265625a5,5 0 0 1 -5,-5v-13a5,5 0 0 1 5,-5z\" style=\"stroke: rgb(51, 51, 51); fill: none; stroke-width: 1px;\"/></g><g id=\"node-name-/layer3/layer3.1/conv2/Conv\" class=\"node graph-node\" transform=\"translate(12145.01806640625,104.75)\" style=\"opacity: 1;\"><g class=\"node-item node-item-type node-item-type-layer\" transform=\"translate(0,0)\"><path d=\"M5,0h143.06982421875a5,5 0 0 1 5,5v18a0,0 0 0 1 0,0h-153.06982421875a0,0 0 0 1 0,0v-18a5,5 0 0 1 5,-5z\" style=\"stroke: rgb(0, 0, 0); fill: rgb(51, 85, 136); stroke-width: 0;\"/><text x=\"6\" y=\"16\" style=\"font-family: -apple-system, BlinkMacSystemFont, &quot;Segoe WPC&quot;, &quot;Segoe UI&quot;, Ubuntu, &quot;Droid Sans&quot;, sans-serif, &quot;PingFang SC&quot;; font-size: 11px; text-rendering: geometricprecision; fill: rgb(255, 255, 255);\">/layer3/layer3.1/conv2/Conv</text><title>Conv</title></g><g class=\"node-attribute\" transform=\"translate(0,23)\"><path d=\"M0,0h153.06982421875a0,0 0 0 1 0,0v85a5,5 0 0 1 -5,5h-143.06982421875a5,5 0 0 1 -5,-5v-85a0,0 0 0 1 0,0z\" style=\"stroke: rgb(0, 0, 0); fill: rgb(255, 255, 255); stroke-width: 0;\"/><text id=\"initializer-onnx::Conv_309\" xml:space=\"preserve\" x=\"6\" y=\"14\" style=\"font-family: -apple-system, BlinkMacSystemFont, &quot;Segoe WPC&quot;, &quot;Segoe UI&quot;, Ubuntu, &quot;Droid Sans&quot;, sans-serif, &quot;PingFang SC&quot;; font-size: 9px; font-weight: normal; text-rendering: geometricprecision;\"><title>float32[128,128,3,3]</title><tspan style=\"font-weight: bold;\">W</tspan><tspan>〈128×128×3×3〉</tspan></text><text id=\"initializer-onnx::Conv_310\" xml:space=\"preserve\" x=\"6\" y=\"28\" style=\"font-family: -apple-system, BlinkMacSystemFont, &quot;Segoe WPC&quot;, &quot;Segoe UI&quot;, Ubuntu, &quot;Droid Sans&quot;, sans-serif, &quot;PingFang SC&quot;; font-size: 9px; font-weight: normal; text-rendering: geometricprecision;\"><title>float32[128]</title><tspan style=\"font-weight: bold;\">B</tspan><tspan>〈128〉</tspan></text><text xml:space=\"preserve\" x=\"6\" y=\"42\" style=\"font-family: -apple-system, BlinkMacSystemFont, &quot;Segoe WPC&quot;, &quot;Segoe UI&quot;, Ubuntu, &quot;Droid Sans&quot;, sans-serif, &quot;PingFang SC&quot;; font-size: 9px; font-weight: normal; text-rendering: geometricprecision;\"><title>int64[]</title><tspan>dilations</tspan><tspan> = 1, 1</tspan></text><text xml:space=\"preserve\" x=\"6\" y=\"56\" style=\"font-family: -apple-system, BlinkMacSystemFont, &quot;Segoe WPC&quot;, &quot;Segoe UI&quot;, Ubuntu, &quot;Droid Sans&quot;, sans-serif, &quot;PingFang SC&quot;; font-size: 9px; font-weight: normal; text-rendering: geometricprecision;\"><title>int64[]</title><tspan>kernel_shape</tspan><tspan> = 3, 3</tspan></text><text xml:space=\"preserve\" x=\"6\" y=\"70\" style=\"font-family: -apple-system, BlinkMacSystemFont, &quot;Segoe WPC&quot;, &quot;Segoe UI&quot;, Ubuntu, &quot;Droid Sans&quot;, sans-serif, &quot;PingFang SC&quot;; font-size: 9px; font-weight: normal; text-rendering: geometricprecision;\"><title>int64[]</title><tspan>pads</tspan><tspan> = 1, 1, 1, 1</tspan></text><text xml:space=\"preserve\" x=\"6\" y=\"84\" style=\"font-family: -apple-system, BlinkMacSystemFont, &quot;Segoe WPC&quot;, &quot;Segoe UI&quot;, Ubuntu, &quot;Droid Sans&quot;, sans-serif, &quot;PingFang SC&quot;; font-size: 9px; font-weight: normal; text-rendering: geometricprecision;\"><title>int64[]</title><tspan>strides</tspan><tspan> = 1, 1</tspan></text><line class=\"node\" x1=\"0\" x2=\"153.06982421875\" y1=\"0\" y2=\"0\" style=\"stroke: rgb(51, 51, 51); fill: none; stroke-width: 1px;\"/></g><path class=\"node border\" d=\"M5,0h143.06982421875a5,5 0 0 1 5,5v103a5,5 0 0 1 -5,5h-143.06982421875a5,5 0 0 1 -5,-5v-103a5,5 0 0 1 5,-5z\" style=\"stroke: rgb(51, 51, 51); fill: none; stroke-width: 1px;\"/></g><g id=\"node-name-/layer3/layer3.1/Add\" class=\"node graph-node\" transform=\"translate(12488.076171875,111.5)\" style=\"opacity: 1;\"><g class=\"node-item node-item-type\" transform=\"translate(0,0)\"><path d=\"M5,0h104.40625a5,5 0 0 1 5,5v13a5,5 0 0 1 -5,5h-104.40625a5,5 0 0 1 -5,-5v-13a5,5 0 0 1 5,-5z\" style=\"stroke: rgb(0, 0, 0); fill: rgb(0, 0, 0); stroke-width: 0;\"/><text x=\"6\" y=\"16\" style=\"font-family: -apple-system, BlinkMacSystemFont, &quot;Segoe WPC&quot;, &quot;Segoe UI&quot;, Ubuntu, &quot;Droid Sans&quot;, sans-serif, &quot;PingFang SC&quot;; font-size: 11px; text-rendering: geometricprecision; fill: rgb(255, 255, 255);\">/layer3/layer3.1/Add</text><title>Add</title></g><path class=\"node border\" d=\"M5,0h104.40625a5,5 0 0 1 5,5v13a5,5 0 0 1 -5,5h-104.40625a5,5 0 0 1 -5,-5v-13a5,5 0 0 1 5,-5z\" style=\"stroke: rgb(51, 51, 51); fill: none; stroke-width: 1px;\"/></g><g id=\"node-name-/layer3/layer3.1/Relu_1\" class=\"node graph-node\" transform=\"translate(12757.9833984375,111.5)\" style=\"opacity: 1;\"><g class=\"node-item node-item-type node-item-type-activation\" transform=\"translate(0,0)\"><path d=\"M5,0h115.75a5,5 0 0 1 5,5v13a5,5 0 0 1 -5,5h-115.75a5,5 0 0 1 -5,-5v-13a5,5 0 0 1 5,-5z\" style=\"stroke: rgb(0, 0, 0); fill: rgb(112, 41, 33); stroke-width: 0;\"/><text x=\"6\" y=\"16\" style=\"font-family: -apple-system, BlinkMacSystemFont, &quot;Segoe WPC&quot;, &quot;Segoe UI&quot;, Ubuntu, &quot;Droid Sans&quot;, sans-serif, &quot;PingFang SC&quot;; font-size: 11px; text-rendering: geometricprecision; fill: rgb(255, 255, 255);\">/layer3/layer3.1/Relu_1</text><title>Relu</title></g><path class=\"node border\" d=\"M5,0h115.75a5,5 0 0 1 5,5v13a5,5 0 0 1 -5,5h-115.75a5,5 0 0 1 -5,-5v-13a5,5 0 0 1 5,-5z\" style=\"stroke: rgb(51, 51, 51); fill: none; stroke-width: 1px;\"/></g><g id=\"node-name-/layer4/layer4.0/conv1/Conv\" class=\"node graph-node\" transform=\"translate(13049.546875,0)\" style=\"opacity: 1;\"><g class=\"node-item node-item-type node-item-type-layer\" transform=\"translate(0,0)\"><path d=\"M5,0h143.06982421875a5,5 0 0 1 5,5v18a0,0 0 0 1 0,0h-153.06982421875a0,0 0 0 1 0,0v-18a5,5 0 0 1 5,-5z\" style=\"stroke: rgb(0, 0, 0); fill: rgb(51, 85, 136); stroke-width: 0;\"/><text x=\"6\" y=\"16\" style=\"font-family: -apple-system, BlinkMacSystemFont, &quot;Segoe WPC&quot;, &quot;Segoe UI&quot;, Ubuntu, &quot;Droid Sans&quot;, sans-serif, &quot;PingFang SC&quot;; font-size: 11px; text-rendering: geometricprecision; fill: rgb(255, 255, 255);\">/layer4/layer4.0/conv1/Conv</text><title>Conv</title></g><g class=\"node-attribute\" transform=\"translate(0,23)\"><path d=\"M0,0h153.06982421875a0,0 0 0 1 0,0v85a5,5 0 0 1 -5,5h-143.06982421875a5,5 0 0 1 -5,-5v-85a0,0 0 0 1 0,0z\" style=\"stroke: rgb(0, 0, 0); fill: rgb(255, 255, 255); stroke-width: 0;\"/><text id=\"initializer-onnx::Conv_312\" xml:space=\"preserve\" x=\"6\" y=\"14\" style=\"font-family: -apple-system, BlinkMacSystemFont, &quot;Segoe WPC&quot;, &quot;Segoe UI&quot;, Ubuntu, &quot;Droid Sans&quot;, sans-serif, &quot;PingFang SC&quot;; font-size: 9px; font-weight: normal; text-rendering: geometricprecision;\"><title>float32[256,128,3,3]</title><tspan style=\"font-weight: bold;\">W</tspan><tspan>〈256×128×3×3〉</tspan></text><text id=\"initializer-onnx::Conv_313\" xml:space=\"preserve\" x=\"6\" y=\"28\" style=\"font-family: -apple-system, BlinkMacSystemFont, &quot;Segoe WPC&quot;, &quot;Segoe UI&quot;, Ubuntu, &quot;Droid Sans&quot;, sans-serif, &quot;PingFang SC&quot;; font-size: 9px; font-weight: normal; text-rendering: geometricprecision;\"><title>float32[256]</title><tspan style=\"font-weight: bold;\">B</tspan><tspan>〈256〉</tspan></text><text xml:space=\"preserve\" x=\"6\" y=\"42\" style=\"font-family: -apple-system, BlinkMacSystemFont, &quot;Segoe WPC&quot;, &quot;Segoe UI&quot;, Ubuntu, &quot;Droid Sans&quot;, sans-serif, &quot;PingFang SC&quot;; font-size: 9px; font-weight: normal; text-rendering: geometricprecision;\"><title>int64[]</title><tspan>dilations</tspan><tspan> = 1, 1</tspan></text><text xml:space=\"preserve\" x=\"6\" y=\"56\" style=\"font-family: -apple-system, BlinkMacSystemFont, &quot;Segoe WPC&quot;, &quot;Segoe UI&quot;, Ubuntu, &quot;Droid Sans&quot;, sans-serif, &quot;PingFang SC&quot;; font-size: 9px; font-weight: normal; text-rendering: geometricprecision;\"><title>int64[]</title><tspan>kernel_shape</tspan><tspan> = 3, 3</tspan></text><text xml:space=\"preserve\" x=\"6\" y=\"70\" style=\"font-family: -apple-system, BlinkMacSystemFont, &quot;Segoe WPC&quot;, &quot;Segoe UI&quot;, Ubuntu, &quot;Droid Sans&quot;, sans-serif, &quot;PingFang SC&quot;; font-size: 9px; font-weight: normal; text-rendering: geometricprecision;\"><title>int64[]</title><tspan>pads</tspan><tspan> = 1, 1, 1, 1</tspan></text><text xml:space=\"preserve\" x=\"6\" y=\"84\" style=\"font-family: -apple-system, BlinkMacSystemFont, &quot;Segoe WPC&quot;, &quot;Segoe UI&quot;, Ubuntu, &quot;Droid Sans&quot;, sans-serif, &quot;PingFang SC&quot;; font-size: 9px; font-weight: normal; text-rendering: geometricprecision;\"><title>int64[]</title><tspan>strides</tspan><tspan> = 2, 2</tspan></text><line class=\"node\" x1=\"0\" x2=\"153.06982421875\" y1=\"0\" y2=\"0\" style=\"stroke: rgb(51, 51, 51); fill: none; stroke-width: 1px;\"/></g><path class=\"node border\" d=\"M5,0h143.06982421875a5,5 0 0 1 5,5v103a5,5 0 0 1 -5,5h-143.06982421875a5,5 0 0 1 -5,-5v-103a5,5 0 0 1 5,-5z\" style=\"stroke: rgb(51, 51, 51); fill: none; stroke-width: 1px;\"/></g><g id=\"node-name-/layer4/layer4.0/Relu\" class=\"node graph-node\" transform=\"translate(13392.60498046875,45)\" style=\"opacity: 1;\"><g class=\"node-item node-item-type node-item-type-activation\" transform=\"translate(0,0)\"><path d=\"M5,0h105.265625a5,5 0 0 1 5,5v13a5,5 0 0 1 -5,5h-105.265625a5,5 0 0 1 -5,-5v-13a5,5 0 0 1 5,-5z\" style=\"stroke: rgb(0, 0, 0); fill: rgb(112, 41, 33); stroke-width: 0;\"/><text x=\"6\" y=\"16\" style=\"font-family: -apple-system, BlinkMacSystemFont, &quot;Segoe WPC&quot;, &quot;Segoe UI&quot;, Ubuntu, &quot;Droid Sans&quot;, sans-serif, &quot;PingFang SC&quot;; font-size: 11px; text-rendering: geometricprecision; fill: rgb(255, 255, 255);\">/layer4/layer4.0/Relu</text><title>Relu</title></g><path class=\"node border\" d=\"M5,0h105.265625a5,5 0 0 1 5,5v13a5,5 0 0 1 -5,5h-105.265625a5,5 0 0 1 -5,-5v-13a5,5 0 0 1 5,-5z\" style=\"stroke: rgb(51, 51, 51); fill: none; stroke-width: 1px;\"/></g><g id=\"node-name-/layer4/layer4.0/conv2/Conv\" class=\"node graph-node\" transform=\"translate(13695.8916015625,0)\" style=\"opacity: 1;\"><g class=\"node-item node-item-type node-item-type-layer\" transform=\"translate(0,0)\"><path d=\"M5,0h143.06982421875a5,5 0 0 1 5,5v18a0,0 0 0 1 0,0h-153.06982421875a0,0 0 0 1 0,0v-18a5,5 0 0 1 5,-5z\" style=\"stroke: rgb(0, 0, 0); fill: rgb(51, 85, 136); stroke-width: 0;\"/><text x=\"6\" y=\"16\" style=\"font-family: -apple-system, BlinkMacSystemFont, &quot;Segoe WPC&quot;, &quot;Segoe UI&quot;, Ubuntu, &quot;Droid Sans&quot;, sans-serif, &quot;PingFang SC&quot;; font-size: 11px; text-rendering: geometricprecision; fill: rgb(255, 255, 255);\">/layer4/layer4.0/conv2/Conv</text><title>Conv</title></g><g class=\"node-attribute\" transform=\"translate(0,23)\"><path d=\"M0,0h153.06982421875a0,0 0 0 1 0,0v85a5,5 0 0 1 -5,5h-143.06982421875a5,5 0 0 1 -5,-5v-85a0,0 0 0 1 0,0z\" style=\"stroke: rgb(0, 0, 0); fill: rgb(255, 255, 255); stroke-width: 0;\"/><text id=\"initializer-onnx::Conv_315\" xml:space=\"preserve\" x=\"6\" y=\"14\" style=\"font-family: -apple-system, BlinkMacSystemFont, &quot;Segoe WPC&quot;, &quot;Segoe UI&quot;, Ubuntu, &quot;Droid Sans&quot;, sans-serif, &quot;PingFang SC&quot;; font-size: 9px; font-weight: normal; text-rendering: geometricprecision;\"><title>float32[256,256,3,3]</title><tspan style=\"font-weight: bold;\">W</tspan><tspan>〈256×256×3×3〉</tspan></text><text id=\"initializer-onnx::Conv_316\" xml:space=\"preserve\" x=\"6\" y=\"28\" style=\"font-family: -apple-system, BlinkMacSystemFont, &quot;Segoe WPC&quot;, &quot;Segoe UI&quot;, Ubuntu, &quot;Droid Sans&quot;, sans-serif, &quot;PingFang SC&quot;; font-size: 9px; font-weight: normal; text-rendering: geometricprecision;\"><title>float32[256]</title><tspan style=\"font-weight: bold;\">B</tspan><tspan>〈256〉</tspan></text><text xml:space=\"preserve\" x=\"6\" y=\"42\" style=\"font-family: -apple-system, BlinkMacSystemFont, &quot;Segoe WPC&quot;, &quot;Segoe UI&quot;, Ubuntu, &quot;Droid Sans&quot;, sans-serif, &quot;PingFang SC&quot;; font-size: 9px; font-weight: normal; text-rendering: geometricprecision;\"><title>int64[]</title><tspan>dilations</tspan><tspan> = 1, 1</tspan></text><text xml:space=\"preserve\" x=\"6\" y=\"56\" style=\"font-family: -apple-system, BlinkMacSystemFont, &quot;Segoe WPC&quot;, &quot;Segoe UI&quot;, Ubuntu, &quot;Droid Sans&quot;, sans-serif, &quot;PingFang SC&quot;; font-size: 9px; font-weight: normal; text-rendering: geometricprecision;\"><title>int64[]</title><tspan>kernel_shape</tspan><tspan> = 3, 3</tspan></text><text xml:space=\"preserve\" x=\"6\" y=\"70\" style=\"font-family: -apple-system, BlinkMacSystemFont, &quot;Segoe WPC&quot;, &quot;Segoe UI&quot;, Ubuntu, &quot;Droid Sans&quot;, sans-serif, &quot;PingFang SC&quot;; font-size: 9px; font-weight: normal; text-rendering: geometricprecision;\"><title>int64[]</title><tspan>pads</tspan><tspan> = 1, 1, 1, 1</tspan></text><text xml:space=\"preserve\" x=\"6\" y=\"84\" style=\"font-family: -apple-system, BlinkMacSystemFont, &quot;Segoe WPC&quot;, &quot;Segoe UI&quot;, Ubuntu, &quot;Droid Sans&quot;, sans-serif, &quot;PingFang SC&quot;; font-size: 9px; font-weight: normal; text-rendering: geometricprecision;\"><title>int64[]</title><tspan>strides</tspan><tspan> = 1, 1</tspan></text><line class=\"node\" x1=\"0\" x2=\"153.06982421875\" y1=\"0\" y2=\"0\" style=\"stroke: rgb(51, 51, 51); fill: none; stroke-width: 1px;\"/></g><path class=\"node border\" d=\"M5,0h143.06982421875a5,5 0 0 1 5,5v103a5,5 0 0 1 -5,5h-143.06982421875a5,5 0 0 1 -5,-5v-103a5,5 0 0 1 5,-5z\" style=\"stroke: rgb(51, 51, 51); fill: none; stroke-width: 1px;\"/></g><g id=\"node-name-/layer4/layer4.0/shortcut/shortcut.0/Conv\" class=\"node graph-node\" transform=\"translate(13664.14306640625,133)\" style=\"opacity: 1;\"><g class=\"node-item node-item-type node-item-type-layer\" transform=\"translate(0,0)\"><path d=\"M5,0h206.56689453125a5,5 0 0 1 5,5v18a0,0 0 0 1 0,0h-216.56689453125a0,0 0 0 1 0,0v-18a5,5 0 0 1 5,-5z\" style=\"stroke: rgb(0, 0, 0); fill: rgb(51, 85, 136); stroke-width: 0;\"/><text x=\"6\" y=\"16\" style=\"font-family: -apple-system, BlinkMacSystemFont, &quot;Segoe WPC&quot;, &quot;Segoe UI&quot;, Ubuntu, &quot;Droid Sans&quot;, sans-serif, &quot;PingFang SC&quot;; font-size: 11px; text-rendering: geometricprecision; fill: rgb(255, 255, 255);\">/layer4/layer4.0/shortcut/shortcut.0/Conv</text><title>Conv</title></g><g class=\"node-attribute\" transform=\"translate(0,23)\"><path d=\"M0,0h216.56689453125a0,0 0 0 1 0,0v85a5,5 0 0 1 -5,5h-206.56689453125a5,5 0 0 1 -5,-5v-85a0,0 0 0 1 0,0z\" style=\"stroke: rgb(0, 0, 0); fill: rgb(255, 255, 255); stroke-width: 0;\"/><text id=\"initializer-onnx::Conv_318\" xml:space=\"preserve\" x=\"6\" y=\"14\" style=\"font-family: -apple-system, BlinkMacSystemFont, &quot;Segoe WPC&quot;, &quot;Segoe UI&quot;, Ubuntu, &quot;Droid Sans&quot;, sans-serif, &quot;PingFang SC&quot;; font-size: 9px; font-weight: normal; text-rendering: geometricprecision;\"><title>float32[256,128,1,1]</title><tspan style=\"font-weight: bold;\">W</tspan><tspan>〈256×128×1×1〉</tspan></text><text id=\"initializer-onnx::Conv_319\" xml:space=\"preserve\" x=\"6\" y=\"28\" style=\"font-family: -apple-system, BlinkMacSystemFont, &quot;Segoe WPC&quot;, &quot;Segoe UI&quot;, Ubuntu, &quot;Droid Sans&quot;, sans-serif, &quot;PingFang SC&quot;; font-size: 9px; font-weight: normal; text-rendering: geometricprecision;\"><title>float32[256]</title><tspan style=\"font-weight: bold;\">B</tspan><tspan>〈256〉</tspan></text><text xml:space=\"preserve\" x=\"6\" y=\"42\" style=\"font-family: -apple-system, BlinkMacSystemFont, &quot;Segoe WPC&quot;, &quot;Segoe UI&quot;, Ubuntu, &quot;Droid Sans&quot;, sans-serif, &quot;PingFang SC&quot;; font-size: 9px; font-weight: normal; text-rendering: geometricprecision;\"><title>int64[]</title><tspan>dilations</tspan><tspan> = 1, 1</tspan></text><text xml:space=\"preserve\" x=\"6\" y=\"56\" style=\"font-family: -apple-system, BlinkMacSystemFont, &quot;Segoe WPC&quot;, &quot;Segoe UI&quot;, Ubuntu, &quot;Droid Sans&quot;, sans-serif, &quot;PingFang SC&quot;; font-size: 9px; font-weight: normal; text-rendering: geometricprecision;\"><title>int64[]</title><tspan>kernel_shape</tspan><tspan> = 1, 1</tspan></text><text xml:space=\"preserve\" x=\"6\" y=\"70\" style=\"font-family: -apple-system, BlinkMacSystemFont, &quot;Segoe WPC&quot;, &quot;Segoe UI&quot;, Ubuntu, &quot;Droid Sans&quot;, sans-serif, &quot;PingFang SC&quot;; font-size: 9px; font-weight: normal; text-rendering: geometricprecision;\"><title>int64[]</title><tspan>pads</tspan><tspan> = 0, 0, 0, 0</tspan></text><text xml:space=\"preserve\" x=\"6\" y=\"84\" style=\"font-family: -apple-system, BlinkMacSystemFont, &quot;Segoe WPC&quot;, &quot;Segoe UI&quot;, Ubuntu, &quot;Droid Sans&quot;, sans-serif, &quot;PingFang SC&quot;; font-size: 9px; font-weight: normal; text-rendering: geometricprecision;\"><title>int64[]</title><tspan>strides</tspan><tspan> = 2, 2</tspan></text><line class=\"node\" x1=\"0\" x2=\"216.56689453125\" y1=\"0\" y2=\"0\" style=\"stroke: rgb(51, 51, 51); fill: none; stroke-width: 1px;\"/></g><path class=\"node border\" d=\"M5,0h206.56689453125a5,5 0 0 1 5,5v103a5,5 0 0 1 -5,5h-206.56689453125a5,5 0 0 1 -5,-5v-103a5,5 0 0 1 5,-5z\" style=\"stroke: rgb(51, 51, 51); fill: none; stroke-width: 1px;\"/></g><g id=\"node-name-/layer4/layer4.0/Add\" class=\"node graph-node\" transform=\"translate(14128.4228515625,111.5)\" style=\"opacity: 1;\"><g class=\"node-item node-item-type\" transform=\"translate(0,0)\"><path d=\"M5,0h104.40625a5,5 0 0 1 5,5v13a5,5 0 0 1 -5,5h-104.40625a5,5 0 0 1 -5,-5v-13a5,5 0 0 1 5,-5z\" style=\"stroke: rgb(0, 0, 0); fill: rgb(0, 0, 0); stroke-width: 0;\"/><text x=\"6\" y=\"16\" style=\"font-family: -apple-system, BlinkMacSystemFont, &quot;Segoe WPC&quot;, &quot;Segoe UI&quot;, Ubuntu, &quot;Droid Sans&quot;, sans-serif, &quot;PingFang SC&quot;; font-size: 11px; text-rendering: geometricprecision; fill: rgb(255, 255, 255);\">/layer4/layer4.0/Add</text><title>Add</title></g><path class=\"node border\" d=\"M5,0h104.40625a5,5 0 0 1 5,5v13a5,5 0 0 1 -5,5h-104.40625a5,5 0 0 1 -5,-5v-13a5,5 0 0 1 5,-5z\" style=\"stroke: rgb(51, 51, 51); fill: none; stroke-width: 1px;\"/></g><g id=\"node-name-/layer4/layer4.0/Relu_1\" class=\"node graph-node\" transform=\"translate(14398.330078125,111.5)\" style=\"opacity: 1;\"><g class=\"node-item node-item-type node-item-type-activation\" transform=\"translate(0,0)\"><path d=\"M5,0h115.75a5,5 0 0 1 5,5v13a5,5 0 0 1 -5,5h-115.75a5,5 0 0 1 -5,-5v-13a5,5 0 0 1 5,-5z\" style=\"stroke: rgb(0, 0, 0); fill: rgb(112, 41, 33); stroke-width: 0;\"/><text x=\"6\" y=\"16\" style=\"font-family: -apple-system, BlinkMacSystemFont, &quot;Segoe WPC&quot;, &quot;Segoe UI&quot;, Ubuntu, &quot;Droid Sans&quot;, sans-serif, &quot;PingFang SC&quot;; font-size: 11px; text-rendering: geometricprecision; fill: rgb(255, 255, 255);\">/layer4/layer4.0/Relu_1</text><title>Relu</title></g><path class=\"node border\" d=\"M5,0h115.75a5,5 0 0 1 5,5v13a5,5 0 0 1 -5,5h-115.75a5,5 0 0 1 -5,-5v-13a5,5 0 0 1 5,-5z\" style=\"stroke: rgb(51, 51, 51); fill: none; stroke-width: 1px;\"/></g><g id=\"node-name-/layer4/layer4.1/conv1/Conv\" class=\"node graph-node\" transform=\"translate(14689.8935546875,104.75)\" style=\"opacity: 1;\"><g class=\"node-item node-item-type node-item-type-layer\" transform=\"translate(0,0)\"><path d=\"M5,0h143.06982421875a5,5 0 0 1 5,5v18a0,0 0 0 1 0,0h-153.06982421875a0,0 0 0 1 0,0v-18a5,5 0 0 1 5,-5z\" style=\"stroke: rgb(0, 0, 0); fill: rgb(51, 85, 136); stroke-width: 0;\"/><text x=\"6\" y=\"16\" style=\"font-family: -apple-system, BlinkMacSystemFont, &quot;Segoe WPC&quot;, &quot;Segoe UI&quot;, Ubuntu, &quot;Droid Sans&quot;, sans-serif, &quot;PingFang SC&quot;; font-size: 11px; text-rendering: geometricprecision; fill: rgb(255, 255, 255);\">/layer4/layer4.1/conv1/Conv</text><title>Conv</title></g><g class=\"node-attribute\" transform=\"translate(0,23)\"><path d=\"M0,0h153.06982421875a0,0 0 0 1 0,0v85a5,5 0 0 1 -5,5h-143.06982421875a5,5 0 0 1 -5,-5v-85a0,0 0 0 1 0,0z\" style=\"stroke: rgb(0, 0, 0); fill: rgb(255, 255, 255); stroke-width: 0;\"/><text id=\"initializer-onnx::Conv_321\" xml:space=\"preserve\" x=\"6\" y=\"14\" style=\"font-family: -apple-system, BlinkMacSystemFont, &quot;Segoe WPC&quot;, &quot;Segoe UI&quot;, Ubuntu, &quot;Droid Sans&quot;, sans-serif, &quot;PingFang SC&quot;; font-size: 9px; font-weight: normal; text-rendering: geometricprecision;\"><title>float32[256,256,3,3]</title><tspan style=\"font-weight: bold;\">W</tspan><tspan>〈256×256×3×3〉</tspan></text><text id=\"initializer-onnx::Conv_322\" xml:space=\"preserve\" x=\"6\" y=\"28\" style=\"font-family: -apple-system, BlinkMacSystemFont, &quot;Segoe WPC&quot;, &quot;Segoe UI&quot;, Ubuntu, &quot;Droid Sans&quot;, sans-serif, &quot;PingFang SC&quot;; font-size: 9px; font-weight: normal; text-rendering: geometricprecision;\"><title>float32[256]</title><tspan style=\"font-weight: bold;\">B</tspan><tspan>〈256〉</tspan></text><text xml:space=\"preserve\" x=\"6\" y=\"42\" style=\"font-family: -apple-system, BlinkMacSystemFont, &quot;Segoe WPC&quot;, &quot;Segoe UI&quot;, Ubuntu, &quot;Droid Sans&quot;, sans-serif, &quot;PingFang SC&quot;; font-size: 9px; font-weight: normal; text-rendering: geometricprecision;\"><title>int64[]</title><tspan>dilations</tspan><tspan> = 1, 1</tspan></text><text xml:space=\"preserve\" x=\"6\" y=\"56\" style=\"font-family: -apple-system, BlinkMacSystemFont, &quot;Segoe WPC&quot;, &quot;Segoe UI&quot;, Ubuntu, &quot;Droid Sans&quot;, sans-serif, &quot;PingFang SC&quot;; font-size: 9px; font-weight: normal; text-rendering: geometricprecision;\"><title>int64[]</title><tspan>kernel_shape</tspan><tspan> = 3, 3</tspan></text><text xml:space=\"preserve\" x=\"6\" y=\"70\" style=\"font-family: -apple-system, BlinkMacSystemFont, &quot;Segoe WPC&quot;, &quot;Segoe UI&quot;, Ubuntu, &quot;Droid Sans&quot;, sans-serif, &quot;PingFang SC&quot;; font-size: 9px; font-weight: normal; text-rendering: geometricprecision;\"><title>int64[]</title><tspan>pads</tspan><tspan> = 1, 1, 1, 1</tspan></text><text xml:space=\"preserve\" x=\"6\" y=\"84\" style=\"font-family: -apple-system, BlinkMacSystemFont, &quot;Segoe WPC&quot;, &quot;Segoe UI&quot;, Ubuntu, &quot;Droid Sans&quot;, sans-serif, &quot;PingFang SC&quot;; font-size: 9px; font-weight: normal; text-rendering: geometricprecision;\"><title>int64[]</title><tspan>strides</tspan><tspan> = 1, 1</tspan></text><line class=\"node\" x1=\"0\" x2=\"153.06982421875\" y1=\"0\" y2=\"0\" style=\"stroke: rgb(51, 51, 51); fill: none; stroke-width: 1px;\"/></g><path class=\"node border\" d=\"M5,0h143.06982421875a5,5 0 0 1 5,5v103a5,5 0 0 1 -5,5h-143.06982421875a5,5 0 0 1 -5,-5v-103a5,5 0 0 1 5,-5z\" style=\"stroke: rgb(51, 51, 51); fill: none; stroke-width: 1px;\"/></g><g id=\"node-name-/layer4/layer4.1/Relu\" class=\"node graph-node\" transform=\"translate(15048.2255859375,149.75)\" style=\"opacity: 1;\"><g class=\"node-item node-item-type node-item-type-activation\" transform=\"translate(0,0)\"><path d=\"M5,0h105.265625a5,5 0 0 1 5,5v13a5,5 0 0 1 -5,5h-105.265625a5,5 0 0 1 -5,-5v-13a5,5 0 0 1 5,-5z\" style=\"stroke: rgb(0, 0, 0); fill: rgb(112, 41, 33); stroke-width: 0;\"/><text x=\"6\" y=\"16\" style=\"font-family: -apple-system, BlinkMacSystemFont, &quot;Segoe WPC&quot;, &quot;Segoe UI&quot;, Ubuntu, &quot;Droid Sans&quot;, sans-serif, &quot;PingFang SC&quot;; font-size: 11px; text-rendering: geometricprecision; fill: rgb(255, 255, 255);\">/layer4/layer4.1/Relu</text><title>Relu</title></g><path class=\"node border\" d=\"M5,0h105.265625a5,5 0 0 1 5,5v13a5,5 0 0 1 -5,5h-105.265625a5,5 0 0 1 -5,-5v-13a5,5 0 0 1 5,-5z\" style=\"stroke: rgb(51, 51, 51); fill: none; stroke-width: 1px;\"/></g><g id=\"node-name-/layer4/layer4.1/conv2/Conv\" class=\"node graph-node\" transform=\"translate(15335.03759765625,104.75)\" style=\"opacity: 1;\"><g class=\"node-item node-item-type node-item-type-layer\" transform=\"translate(0,0)\"><path d=\"M5,0h143.06982421875a5,5 0 0 1 5,5v18a0,0 0 0 1 0,0h-153.06982421875a0,0 0 0 1 0,0v-18a5,5 0 0 1 5,-5z\" style=\"stroke: rgb(0, 0, 0); fill: rgb(51, 85, 136); stroke-width: 0;\"/><text x=\"6\" y=\"16\" style=\"font-family: -apple-system, BlinkMacSystemFont, &quot;Segoe WPC&quot;, &quot;Segoe UI&quot;, Ubuntu, &quot;Droid Sans&quot;, sans-serif, &quot;PingFang SC&quot;; font-size: 11px; text-rendering: geometricprecision; fill: rgb(255, 255, 255);\">/layer4/layer4.1/conv2/Conv</text><title>Conv</title></g><g class=\"node-attribute\" transform=\"translate(0,23)\"><path d=\"M0,0h153.06982421875a0,0 0 0 1 0,0v85a5,5 0 0 1 -5,5h-143.06982421875a5,5 0 0 1 -5,-5v-85a0,0 0 0 1 0,0z\" style=\"stroke: rgb(0, 0, 0); fill: rgb(255, 255, 255); stroke-width: 0;\"/><text id=\"initializer-onnx::Conv_324\" xml:space=\"preserve\" x=\"6\" y=\"14\" style=\"font-family: -apple-system, BlinkMacSystemFont, &quot;Segoe WPC&quot;, &quot;Segoe UI&quot;, Ubuntu, &quot;Droid Sans&quot;, sans-serif, &quot;PingFang SC&quot;; font-size: 9px; font-weight: normal; text-rendering: geometricprecision;\"><title>float32[256,256,3,3]</title><tspan style=\"font-weight: bold;\">W</tspan><tspan>〈256×256×3×3〉</tspan></text><text id=\"initializer-onnx::Conv_325\" xml:space=\"preserve\" x=\"6\" y=\"28\" style=\"font-family: -apple-system, BlinkMacSystemFont, &quot;Segoe WPC&quot;, &quot;Segoe UI&quot;, Ubuntu, &quot;Droid Sans&quot;, sans-serif, &quot;PingFang SC&quot;; font-size: 9px; font-weight: normal; text-rendering: geometricprecision;\"><title>float32[256]</title><tspan style=\"font-weight: bold;\">B</tspan><tspan>〈256〉</tspan></text><text xml:space=\"preserve\" x=\"6\" y=\"42\" style=\"font-family: -apple-system, BlinkMacSystemFont, &quot;Segoe WPC&quot;, &quot;Segoe UI&quot;, Ubuntu, &quot;Droid Sans&quot;, sans-serif, &quot;PingFang SC&quot;; font-size: 9px; font-weight: normal; text-rendering: geometricprecision;\"><title>int64[]</title><tspan>dilations</tspan><tspan> = 1, 1</tspan></text><text xml:space=\"preserve\" x=\"6\" y=\"56\" style=\"font-family: -apple-system, BlinkMacSystemFont, &quot;Segoe WPC&quot;, &quot;Segoe UI&quot;, Ubuntu, &quot;Droid Sans&quot;, sans-serif, &quot;PingFang SC&quot;; font-size: 9px; font-weight: normal; text-rendering: geometricprecision;\"><title>int64[]</title><tspan>kernel_shape</tspan><tspan> = 3, 3</tspan></text><text xml:space=\"preserve\" x=\"6\" y=\"70\" style=\"font-family: -apple-system, BlinkMacSystemFont, &quot;Segoe WPC&quot;, &quot;Segoe UI&quot;, Ubuntu, &quot;Droid Sans&quot;, sans-serif, &quot;PingFang SC&quot;; font-size: 9px; font-weight: normal; text-rendering: geometricprecision;\"><title>int64[]</title><tspan>pads</tspan><tspan> = 1, 1, 1, 1</tspan></text><text xml:space=\"preserve\" x=\"6\" y=\"84\" style=\"font-family: -apple-system, BlinkMacSystemFont, &quot;Segoe WPC&quot;, &quot;Segoe UI&quot;, Ubuntu, &quot;Droid Sans&quot;, sans-serif, &quot;PingFang SC&quot;; font-size: 9px; font-weight: normal; text-rendering: geometricprecision;\"><title>int64[]</title><tspan>strides</tspan><tspan> = 1, 1</tspan></text><line class=\"node\" x1=\"0\" x2=\"153.06982421875\" y1=\"0\" y2=\"0\" style=\"stroke: rgb(51, 51, 51); fill: none; stroke-width: 1px;\"/></g><path class=\"node border\" d=\"M5,0h143.06982421875a5,5 0 0 1 5,5v103a5,5 0 0 1 -5,5h-143.06982421875a5,5 0 0 1 -5,-5v-103a5,5 0 0 1 5,-5z\" style=\"stroke: rgb(51, 51, 51); fill: none; stroke-width: 1px;\"/></g><g id=\"node-name-/layer4/layer4.1/Add\" class=\"node graph-node\" transform=\"translate(15678.095703125,111.5)\" style=\"opacity: 1;\"><g class=\"node-item node-item-type\" transform=\"translate(0,0)\"><path d=\"M5,0h104.40625a5,5 0 0 1 5,5v13a5,5 0 0 1 -5,5h-104.40625a5,5 0 0 1 -5,-5v-13a5,5 0 0 1 5,-5z\" style=\"stroke: rgb(0, 0, 0); fill: rgb(0, 0, 0); stroke-width: 0;\"/><text x=\"6\" y=\"16\" style=\"font-family: -apple-system, BlinkMacSystemFont, &quot;Segoe WPC&quot;, &quot;Segoe UI&quot;, Ubuntu, &quot;Droid Sans&quot;, sans-serif, &quot;PingFang SC&quot;; font-size: 11px; text-rendering: geometricprecision; fill: rgb(255, 255, 255);\">/layer4/layer4.1/Add</text><title>Add</title></g><path class=\"node border\" d=\"M5,0h104.40625a5,5 0 0 1 5,5v13a5,5 0 0 1 -5,5h-104.40625a5,5 0 0 1 -5,-5v-13a5,5 0 0 1 5,-5z\" style=\"stroke: rgb(51, 51, 51); fill: none; stroke-width: 1px;\"/></g><g id=\"node-name-/layer4/layer4.1/Relu_1\" class=\"node graph-node\" transform=\"translate(15948.0029296875,111.5)\" style=\"opacity: 1;\"><g class=\"node-item node-item-type node-item-type-activation\" transform=\"translate(0,0)\"><path d=\"M5,0h115.75a5,5 0 0 1 5,5v13a5,5 0 0 1 -5,5h-115.75a5,5 0 0 1 -5,-5v-13a5,5 0 0 1 5,-5z\" style=\"stroke: rgb(0, 0, 0); fill: rgb(112, 41, 33); stroke-width: 0;\"/><text x=\"6\" y=\"16\" style=\"font-family: -apple-system, BlinkMacSystemFont, &quot;Segoe WPC&quot;, &quot;Segoe UI&quot;, Ubuntu, &quot;Droid Sans&quot;, sans-serif, &quot;PingFang SC&quot;; font-size: 11px; text-rendering: geometricprecision; fill: rgb(255, 255, 255);\">/layer4/layer4.1/Relu_1</text><title>Relu</title></g><path class=\"node border\" d=\"M5,0h115.75a5,5 0 0 1 5,5v13a5,5 0 0 1 -5,5h-115.75a5,5 0 0 1 -5,-5v-13a5,5 0 0 1 5,-5z\" style=\"stroke: rgb(51, 51, 51); fill: none; stroke-width: 1px;\"/></g><g id=\"node-name-/layer4/layer4.2/conv1/Conv\" class=\"node graph-node\" transform=\"translate(16239.56640625,104.75)\" style=\"opacity: 1;\"><g class=\"node-item node-item-type node-item-type-layer\" transform=\"translate(0,0)\"><path d=\"M5,0h143.06982421875a5,5 0 0 1 5,5v18a0,0 0 0 1 0,0h-153.06982421875a0,0 0 0 1 0,0v-18a5,5 0 0 1 5,-5z\" style=\"stroke: rgb(0, 0, 0); fill: rgb(51, 85, 136); stroke-width: 0;\"/><text x=\"6\" y=\"16\" style=\"font-family: -apple-system, BlinkMacSystemFont, &quot;Segoe WPC&quot;, &quot;Segoe UI&quot;, Ubuntu, &quot;Droid Sans&quot;, sans-serif, &quot;PingFang SC&quot;; font-size: 11px; text-rendering: geometricprecision; fill: rgb(255, 255, 255);\">/layer4/layer4.2/conv1/Conv</text><title>Conv</title></g><g class=\"node-attribute\" transform=\"translate(0,23)\"><path d=\"M0,0h153.06982421875a0,0 0 0 1 0,0v85a5,5 0 0 1 -5,5h-143.06982421875a5,5 0 0 1 -5,-5v-85a0,0 0 0 1 0,0z\" style=\"stroke: rgb(0, 0, 0); fill: rgb(255, 255, 255); stroke-width: 0;\"/><text id=\"initializer-onnx::Conv_327\" xml:space=\"preserve\" x=\"6\" y=\"14\" style=\"font-family: -apple-system, BlinkMacSystemFont, &quot;Segoe WPC&quot;, &quot;Segoe UI&quot;, Ubuntu, &quot;Droid Sans&quot;, sans-serif, &quot;PingFang SC&quot;; font-size: 9px; font-weight: normal; text-rendering: geometricprecision;\"><title>float32[256,256,3,3]</title><tspan style=\"font-weight: bold;\">W</tspan><tspan>〈256×256×3×3〉</tspan></text><text id=\"initializer-onnx::Conv_328\" xml:space=\"preserve\" x=\"6\" y=\"28\" style=\"font-family: -apple-system, BlinkMacSystemFont, &quot;Segoe WPC&quot;, &quot;Segoe UI&quot;, Ubuntu, &quot;Droid Sans&quot;, sans-serif, &quot;PingFang SC&quot;; font-size: 9px; font-weight: normal; text-rendering: geometricprecision;\"><title>float32[256]</title><tspan style=\"font-weight: bold;\">B</tspan><tspan>〈256〉</tspan></text><text xml:space=\"preserve\" x=\"6\" y=\"42\" style=\"font-family: -apple-system, BlinkMacSystemFont, &quot;Segoe WPC&quot;, &quot;Segoe UI&quot;, Ubuntu, &quot;Droid Sans&quot;, sans-serif, &quot;PingFang SC&quot;; font-size: 9px; font-weight: normal; text-rendering: geometricprecision;\"><title>int64[]</title><tspan>dilations</tspan><tspan> = 1, 1</tspan></text><text xml:space=\"preserve\" x=\"6\" y=\"56\" style=\"font-family: -apple-system, BlinkMacSystemFont, &quot;Segoe WPC&quot;, &quot;Segoe UI&quot;, Ubuntu, &quot;Droid Sans&quot;, sans-serif, &quot;PingFang SC&quot;; font-size: 9px; font-weight: normal; text-rendering: geometricprecision;\"><title>int64[]</title><tspan>kernel_shape</tspan><tspan> = 3, 3</tspan></text><text xml:space=\"preserve\" x=\"6\" y=\"70\" style=\"font-family: -apple-system, BlinkMacSystemFont, &quot;Segoe WPC&quot;, &quot;Segoe UI&quot;, Ubuntu, &quot;Droid Sans&quot;, sans-serif, &quot;PingFang SC&quot;; font-size: 9px; font-weight: normal; text-rendering: geometricprecision;\"><title>int64[]</title><tspan>pads</tspan><tspan> = 1, 1, 1, 1</tspan></text><text xml:space=\"preserve\" x=\"6\" y=\"84\" style=\"font-family: -apple-system, BlinkMacSystemFont, &quot;Segoe WPC&quot;, &quot;Segoe UI&quot;, Ubuntu, &quot;Droid Sans&quot;, sans-serif, &quot;PingFang SC&quot;; font-size: 9px; font-weight: normal; text-rendering: geometricprecision;\"><title>int64[]</title><tspan>strides</tspan><tspan> = 1, 1</tspan></text><line class=\"node\" x1=\"0\" x2=\"153.06982421875\" y1=\"0\" y2=\"0\" style=\"stroke: rgb(51, 51, 51); fill: none; stroke-width: 1px;\"/></g><path class=\"node border\" d=\"M5,0h143.06982421875a5,5 0 0 1 5,5v103a5,5 0 0 1 -5,5h-143.06982421875a5,5 0 0 1 -5,-5v-103a5,5 0 0 1 5,-5z\" style=\"stroke: rgb(51, 51, 51); fill: none; stroke-width: 1px;\"/></g><g id=\"node-name-/layer4/layer4.2/Relu\" class=\"node graph-node\" transform=\"translate(16597.8984375,149.75)\" style=\"opacity: 1;\"><g class=\"node-item node-item-type node-item-type-activation\" transform=\"translate(0,0)\"><path d=\"M5,0h105.265625a5,5 0 0 1 5,5v13a5,5 0 0 1 -5,5h-105.265625a5,5 0 0 1 -5,-5v-13a5,5 0 0 1 5,-5z\" style=\"stroke: rgb(0, 0, 0); fill: rgb(112, 41, 33); stroke-width: 0;\"/><text x=\"6\" y=\"16\" style=\"font-family: -apple-system, BlinkMacSystemFont, &quot;Segoe WPC&quot;, &quot;Segoe UI&quot;, Ubuntu, &quot;Droid Sans&quot;, sans-serif, &quot;PingFang SC&quot;; font-size: 11px; text-rendering: geometricprecision; fill: rgb(255, 255, 255);\">/layer4/layer4.2/Relu</text><title>Relu</title></g><path class=\"node border\" d=\"M5,0h105.265625a5,5 0 0 1 5,5v13a5,5 0 0 1 -5,5h-105.265625a5,5 0 0 1 -5,-5v-13a5,5 0 0 1 5,-5z\" style=\"stroke: rgb(51, 51, 51); fill: none; stroke-width: 1px;\"/></g><g id=\"node-name-/layer4/layer4.2/conv2/Conv\" class=\"node graph-node\" transform=\"translate(16884.71044921875,104.75)\" style=\"opacity: 1;\"><g class=\"node-item node-item-type node-item-type-layer\" transform=\"translate(0,0)\"><path d=\"M5,0h143.06982421875a5,5 0 0 1 5,5v18a0,0 0 0 1 0,0h-153.06982421875a0,0 0 0 1 0,0v-18a5,5 0 0 1 5,-5z\" style=\"stroke: rgb(0, 0, 0); fill: rgb(51, 85, 136); stroke-width: 0;\"/><text x=\"6\" y=\"16\" style=\"font-family: -apple-system, BlinkMacSystemFont, &quot;Segoe WPC&quot;, &quot;Segoe UI&quot;, Ubuntu, &quot;Droid Sans&quot;, sans-serif, &quot;PingFang SC&quot;; font-size: 11px; text-rendering: geometricprecision; fill: rgb(255, 255, 255);\">/layer4/layer4.2/conv2/Conv</text><title>Conv</title></g><g class=\"node-attribute\" transform=\"translate(0,23)\"><path d=\"M0,0h153.06982421875a0,0 0 0 1 0,0v85a5,5 0 0 1 -5,5h-143.06982421875a5,5 0 0 1 -5,-5v-85a0,0 0 0 1 0,0z\" style=\"stroke: rgb(0, 0, 0); fill: rgb(255, 255, 255); stroke-width: 0;\"/><text id=\"initializer-onnx::Conv_330\" xml:space=\"preserve\" x=\"6\" y=\"14\" style=\"font-family: -apple-system, BlinkMacSystemFont, &quot;Segoe WPC&quot;, &quot;Segoe UI&quot;, Ubuntu, &quot;Droid Sans&quot;, sans-serif, &quot;PingFang SC&quot;; font-size: 9px; font-weight: normal; text-rendering: geometricprecision;\"><title>float32[256,256,3,3]</title><tspan style=\"font-weight: bold;\">W</tspan><tspan>〈256×256×3×3〉</tspan></text><text id=\"initializer-onnx::Conv_331\" xml:space=\"preserve\" x=\"6\" y=\"28\" style=\"font-family: -apple-system, BlinkMacSystemFont, &quot;Segoe WPC&quot;, &quot;Segoe UI&quot;, Ubuntu, &quot;Droid Sans&quot;, sans-serif, &quot;PingFang SC&quot;; font-size: 9px; font-weight: normal; text-rendering: geometricprecision;\"><title>float32[256]</title><tspan style=\"font-weight: bold;\">B</tspan><tspan>〈256〉</tspan></text><text xml:space=\"preserve\" x=\"6\" y=\"42\" style=\"font-family: -apple-system, BlinkMacSystemFont, &quot;Segoe WPC&quot;, &quot;Segoe UI&quot;, Ubuntu, &quot;Droid Sans&quot;, sans-serif, &quot;PingFang SC&quot;; font-size: 9px; font-weight: normal; text-rendering: geometricprecision;\"><title>int64[]</title><tspan>dilations</tspan><tspan> = 1, 1</tspan></text><text xml:space=\"preserve\" x=\"6\" y=\"56\" style=\"font-family: -apple-system, BlinkMacSystemFont, &quot;Segoe WPC&quot;, &quot;Segoe UI&quot;, Ubuntu, &quot;Droid Sans&quot;, sans-serif, &quot;PingFang SC&quot;; font-size: 9px; font-weight: normal; text-rendering: geometricprecision;\"><title>int64[]</title><tspan>kernel_shape</tspan><tspan> = 3, 3</tspan></text><text xml:space=\"preserve\" x=\"6\" y=\"70\" style=\"font-family: -apple-system, BlinkMacSystemFont, &quot;Segoe WPC&quot;, &quot;Segoe UI&quot;, Ubuntu, &quot;Droid Sans&quot;, sans-serif, &quot;PingFang SC&quot;; font-size: 9px; font-weight: normal; text-rendering: geometricprecision;\"><title>int64[]</title><tspan>pads</tspan><tspan> = 1, 1, 1, 1</tspan></text><text xml:space=\"preserve\" x=\"6\" y=\"84\" style=\"font-family: -apple-system, BlinkMacSystemFont, &quot;Segoe WPC&quot;, &quot;Segoe UI&quot;, Ubuntu, &quot;Droid Sans&quot;, sans-serif, &quot;PingFang SC&quot;; font-size: 9px; font-weight: normal; text-rendering: geometricprecision;\"><title>int64[]</title><tspan>strides</tspan><tspan> = 1, 1</tspan></text><line class=\"node\" x1=\"0\" x2=\"153.06982421875\" y1=\"0\" y2=\"0\" style=\"stroke: rgb(51, 51, 51); fill: none; stroke-width: 1px;\"/></g><path class=\"node border\" d=\"M5,0h143.06982421875a5,5 0 0 1 5,5v103a5,5 0 0 1 -5,5h-143.06982421875a5,5 0 0 1 -5,-5v-103a5,5 0 0 1 5,-5z\" style=\"stroke: rgb(51, 51, 51); fill: none; stroke-width: 1px;\"/></g><g id=\"node-name-/layer4/layer4.2/Add\" class=\"node graph-node\" transform=\"translate(17227.7685546875,111.5)\" style=\"opacity: 1;\"><g class=\"node-item node-item-type\" transform=\"translate(0,0)\"><path d=\"M5,0h104.40625a5,5 0 0 1 5,5v13a5,5 0 0 1 -5,5h-104.40625a5,5 0 0 1 -5,-5v-13a5,5 0 0 1 5,-5z\" style=\"stroke: rgb(0, 0, 0); fill: rgb(0, 0, 0); stroke-width: 0;\"/><text x=\"6\" y=\"16\" style=\"font-family: -apple-system, BlinkMacSystemFont, &quot;Segoe WPC&quot;, &quot;Segoe UI&quot;, Ubuntu, &quot;Droid Sans&quot;, sans-serif, &quot;PingFang SC&quot;; font-size: 11px; text-rendering: geometricprecision; fill: rgb(255, 255, 255);\">/layer4/layer4.2/Add</text><title>Add</title></g><path class=\"node border\" d=\"M5,0h104.40625a5,5 0 0 1 5,5v13a5,5 0 0 1 -5,5h-104.40625a5,5 0 0 1 -5,-5v-13a5,5 0 0 1 5,-5z\" style=\"stroke: rgb(51, 51, 51); fill: none; stroke-width: 1px;\"/></g><g id=\"node-name-/layer4/layer4.2/Relu_1\" class=\"node graph-node\" transform=\"translate(17497.67578125,111.5)\" style=\"opacity: 1;\"><g class=\"node-item node-item-type node-item-type-activation\" transform=\"translate(0,0)\"><path d=\"M5,0h115.75a5,5 0 0 1 5,5v13a5,5 0 0 1 -5,5h-115.75a5,5 0 0 1 -5,-5v-13a5,5 0 0 1 5,-5z\" style=\"stroke: rgb(0, 0, 0); fill: rgb(112, 41, 33); stroke-width: 0;\"/><text x=\"6\" y=\"16\" style=\"font-family: -apple-system, BlinkMacSystemFont, &quot;Segoe WPC&quot;, &quot;Segoe UI&quot;, Ubuntu, &quot;Droid Sans&quot;, sans-serif, &quot;PingFang SC&quot;; font-size: 11px; text-rendering: geometricprecision; fill: rgb(255, 255, 255);\">/layer4/layer4.2/Relu_1</text><title>Relu</title></g><path class=\"node border\" d=\"M5,0h115.75a5,5 0 0 1 5,5v13a5,5 0 0 1 -5,5h-115.75a5,5 0 0 1 -5,-5v-13a5,5 0 0 1 5,-5z\" style=\"stroke: rgb(51, 51, 51); fill: none; stroke-width: 1px;\"/></g><g id=\"node-name-/Pad\" class=\"node graph-node\" transform=\"translate(17789.2392578125,94.5)\" style=\"opacity: 1;\"><g class=\"node-item node-item-type node-item-type-tensor\" transform=\"translate(0,0)\"><path d=\"M5,0h101.9638671875a5,5 0 0 1 5,5v18a0,0 0 0 1 0,0h-111.9638671875a0,0 0 0 1 0,0v-18a5,5 0 0 1 5,-5z\" style=\"stroke: rgb(0, 0, 0); fill: rgb(89, 66, 59); stroke-width: 0;\"/><text x=\"6\" y=\"16\" style=\"font-family: -apple-system, BlinkMacSystemFont, &quot;Segoe WPC&quot;, &quot;Segoe UI&quot;, Ubuntu, &quot;Droid Sans&quot;, sans-serif, &quot;PingFang SC&quot;; font-size: 11px; text-rendering: geometricprecision; fill: rgb(255, 255, 255);\">/Pad</text><title>Pad</title></g><g class=\"node-attribute\" transform=\"translate(0,23)\"><path d=\"M0,0h111.9638671875a0,0 0 0 1 0,0v29a5,5 0 0 1 -5,5h-101.9638671875a5,5 0 0 1 -5,-5v-29a0,0 0 0 1 0,0z\" style=\"stroke: rgb(0, 0, 0); fill: rgb(255, 255, 255); stroke-width: 0;\"/><text xml:space=\"preserve\" x=\"6\" y=\"14\" style=\"font-family: -apple-system, BlinkMacSystemFont, &quot;Segoe WPC&quot;, &quot;Segoe UI&quot;, Ubuntu, &quot;Droid Sans&quot;, sans-serif, &quot;PingFang SC&quot;; font-size: 9px; font-weight: normal; text-rendering: geometricprecision;\"><title>int64[]</title><tspan>pads</tspan><tspan> = 0, 0, 0, 0, 0, 0, 0, 0</tspan></text><text xml:space=\"preserve\" x=\"6\" y=\"28\" style=\"font-family: -apple-system, BlinkMacSystemFont, &quot;Segoe WPC&quot;, &quot;Segoe UI&quot;, Ubuntu, &quot;Droid Sans&quot;, sans-serif, &quot;PingFang SC&quot;; font-size: 9px; font-weight: normal; text-rendering: geometricprecision;\"><title>float32</title><tspan>value</tspan><tspan> = 0</tspan></text><line class=\"node\" x1=\"0\" x2=\"111.9638671875\" y1=\"0\" y2=\"0\" style=\"stroke: rgb(51, 51, 51); fill: none; stroke-width: 1px;\"/></g><path class=\"node border\" d=\"M5,0h101.9638671875a5,5 0 0 1 5,5v47a5,5 0 0 1 -5,5h-101.9638671875a5,5 0 0 1 -5,-5v-47a5,5 0 0 1 5,-5z\" style=\"stroke: rgb(51, 51, 51); fill: none; stroke-width: 1px;\"/></g><g id=\"node-name-/AveragePool\" class=\"node graph-node\" transform=\"translate(17986.469734191895,87.5)\" style=\"opacity: 1;\"><g class=\"node-item node-item-type node-item-type-pool\" transform=\"translate(0,0)\"><path d=\"M5,0h78.87109375a5,5 0 0 1 5,5v18a0,0 0 0 1 0,0h-88.87109375a0,0 0 0 1 0,0v-18a5,5 0 0 1 5,-5z\" style=\"stroke: rgb(0, 0, 0); fill: rgb(51, 85, 51); stroke-width: 0;\"/><text x=\"6\" y=\"16\" style=\"font-family: -apple-system, BlinkMacSystemFont, &quot;Segoe WPC&quot;, &quot;Segoe UI&quot;, Ubuntu, &quot;Droid Sans&quot;, sans-serif, &quot;PingFang SC&quot;; font-size: 11px; text-rendering: geometricprecision; fill: rgb(255, 255, 255);\">/AveragePool</text><title>AveragePool</title></g><g class=\"node-attribute\" transform=\"translate(0,23)\"><path d=\"M0,0h88.87109375a0,0 0 0 1 0,0v43a5,5 0 0 1 -5,5h-78.87109375a5,5 0 0 1 -5,-5v-43a0,0 0 0 1 0,0z\" style=\"stroke: rgb(0, 0, 0); fill: rgb(255, 255, 255); stroke-width: 0;\"/><text xml:space=\"preserve\" x=\"6\" y=\"14\" style=\"font-family: -apple-system, BlinkMacSystemFont, &quot;Segoe WPC&quot;, &quot;Segoe UI&quot;, Ubuntu, &quot;Droid Sans&quot;, sans-serif, &quot;PingFang SC&quot;; font-size: 9px; font-weight: normal; text-rendering: geometricprecision;\"><title>int64[]</title><tspan>kernel_shape</tspan><tspan> = 4, 4</tspan></text><text xml:space=\"preserve\" x=\"6\" y=\"28\" style=\"font-family: -apple-system, BlinkMacSystemFont, &quot;Segoe WPC&quot;, &quot;Segoe UI&quot;, Ubuntu, &quot;Droid Sans&quot;, sans-serif, &quot;PingFang SC&quot;; font-size: 9px; font-weight: normal; text-rendering: geometricprecision;\"><title>int64[]</title><tspan>pads</tspan><tspan> = 0, 0, 0, 0</tspan></text><text xml:space=\"preserve\" x=\"6\" y=\"42\" style=\"font-family: -apple-system, BlinkMacSystemFont, &quot;Segoe WPC&quot;, &quot;Segoe UI&quot;, Ubuntu, &quot;Droid Sans&quot;, sans-serif, &quot;PingFang SC&quot;; font-size: 9px; font-weight: normal; text-rendering: geometricprecision;\"><title>int64[]</title><tspan>strides</tspan><tspan> = 4, 4</tspan></text><line class=\"node\" x1=\"0\" x2=\"88.87109375\" y1=\"0\" y2=\"0\" style=\"stroke: rgb(51, 51, 51); fill: none; stroke-width: 1px;\"/></g><path class=\"node border\" d=\"M5,0h78.87109375a5,5 0 0 1 5,5v61a5,5 0 0 1 -5,5h-78.87109375a5,5 0 0 1 -5,-5v-61a5,5 0 0 1 5,-5z\" style=\"stroke: rgb(51, 51, 51); fill: none; stroke-width: 1px;\"/></g><g id=\"node-name-/Reshape\" class=\"node graph-node\" transform=\"translate(18199.699226379395,101.5)\" style=\"opacity: 1;\"><g class=\"node-item node-item-type node-item-type-shape\" transform=\"translate(0,0)\"><path d=\"M5,0h65a5,5 0 0 1 5,5v18a0,0 0 0 1 0,0h-75a0,0 0 0 1 0,0v-18a5,5 0 0 1 5,-5z\" style=\"stroke: rgb(0, 0, 0); fill: rgb(108, 79, 71); stroke-width: 0;\"/><text x=\"6\" y=\"16\" style=\"font-family: -apple-system, BlinkMacSystemFont, &quot;Segoe WPC&quot;, &quot;Segoe UI&quot;, Ubuntu, &quot;Droid Sans&quot;, sans-serif, &quot;PingFang SC&quot;; font-size: 11px; text-rendering: geometricprecision; fill: rgb(255, 255, 255);\">/Reshape</text><title>Reshape</title></g><g class=\"node-attribute\" transform=\"translate(0,23)\"><path d=\"M0,0h75a0,0 0 0 1 0,0v15a5,5 0 0 1 -5,5h-65a5,5 0 0 1 -5,-5v-15a0,0 0 0 1 0,0z\" style=\"stroke: rgb(0, 0, 0); fill: rgb(255, 255, 255); stroke-width: 0;\"/><text id=\"initializer-/Constant_output_0\" xml:space=\"preserve\" x=\"6\" y=\"14\" style=\"font-family: -apple-system, BlinkMacSystemFont, &quot;Segoe WPC&quot;, &quot;Segoe UI&quot;, Ubuntu, &quot;Droid Sans&quot;, sans-serif, &quot;PingFang SC&quot;; font-size: 9px; font-weight: normal; text-rendering: geometricprecision;\"><title>int64[2]</title><tspan style=\"font-weight: bold;\">shape</tspan><tspan>〈2〉</tspan></text><line class=\"node\" x1=\"0\" x2=\"75\" y1=\"0\" y2=\"0\" style=\"stroke: rgb(51, 51, 51); fill: none; stroke-width: 1px;\"/></g><path class=\"node border\" d=\"M5,0h65a5,5 0 0 1 5,5v33a5,5 0 0 1 -5,5h-65a5,5 0 0 1 -5,-5v-33a5,5 0 0 1 5,-5z\" style=\"stroke: rgb(51, 51, 51); fill: none; stroke-width: 1px;\"/></g><g id=\"node-name-/linear/Gemm\" class=\"node graph-node\" transform=\"translate(18380.747077941895,87.5)\" style=\"opacity: 1;\"><g class=\"node-item node-item-type node-item-type-layer\" transform=\"translate(0,0)\"><path d=\"M5,0h72.546875a5,5 0 0 1 5,5v18a0,0 0 0 1 0,0h-82.546875a0,0 0 0 1 0,0v-18a5,5 0 0 1 5,-5z\" style=\"stroke: rgb(0, 0, 0); fill: rgb(51, 85, 136); stroke-width: 0;\"/><text x=\"6\" y=\"16\" style=\"font-family: -apple-system, BlinkMacSystemFont, &quot;Segoe WPC&quot;, &quot;Segoe UI&quot;, Ubuntu, &quot;Droid Sans&quot;, sans-serif, &quot;PingFang SC&quot;; font-size: 11px; text-rendering: geometricprecision; fill: rgb(255, 255, 255);\">/linear/Gemm</text><title>Gemm</title></g><g class=\"node-attribute\" transform=\"translate(0,23)\"><path d=\"M0,0h82.546875a0,0 0 0 1 0,0v43a5,5 0 0 1 -5,5h-72.546875a5,5 0 0 1 -5,-5v-43a0,0 0 0 1 0,0z\" style=\"stroke: rgb(0, 0, 0); fill: rgb(255, 255, 255); stroke-width: 0;\"/><text id=\"initializer-linear.weight\" xml:space=\"preserve\" x=\"6\" y=\"14\" style=\"font-family: -apple-system, BlinkMacSystemFont, &quot;Segoe WPC&quot;, &quot;Segoe UI&quot;, Ubuntu, &quot;Droid Sans&quot;, sans-serif, &quot;PingFang SC&quot;; font-size: 9px; font-weight: normal; text-rendering: geometricprecision;\"><title>float32[10,256]</title><tspan style=\"font-weight: bold;\">B</tspan><tspan>〈10×256〉</tspan></text><text id=\"initializer-linear.bias\" xml:space=\"preserve\" x=\"6\" y=\"28\" style=\"font-family: -apple-system, BlinkMacSystemFont, &quot;Segoe WPC&quot;, &quot;Segoe UI&quot;, Ubuntu, &quot;Droid Sans&quot;, sans-serif, &quot;PingFang SC&quot;; font-size: 9px; font-weight: normal; text-rendering: geometricprecision;\"><title>float32[10]</title><tspan style=\"font-weight: bold;\">C</tspan><tspan>〈10〉</tspan></text><text xml:space=\"preserve\" x=\"6\" y=\"42\" style=\"font-family: -apple-system, BlinkMacSystemFont, &quot;Segoe WPC&quot;, &quot;Segoe UI&quot;, Ubuntu, &quot;Droid Sans&quot;, sans-serif, &quot;PingFang SC&quot;; font-size: 9px; font-weight: normal; text-rendering: geometricprecision;\"><title>int64</title><tspan>transB</tspan><tspan> = 1</tspan></text><line class=\"node\" x1=\"0\" x2=\"82.546875\" y1=\"0\" y2=\"0\" style=\"stroke: rgb(51, 51, 51); fill: none; stroke-width: 1px;\"/></g><path class=\"node border\" d=\"M5,0h72.546875a5,5 0 0 1 5,5v61a5,5 0 0 1 -5,5h-72.546875a5,5 0 0 1 -5,-5v-61a5,5 0 0 1 5,-5z\" style=\"stroke: rgb(51, 51, 51); fill: none; stroke-width: 1px;\"/></g><g class=\"node\" transform=\"translate(18543.431648254395,111.5)\" style=\"opacity: 1;\"><g class=\"node-item graph-item-output\" transform=\"translate(0,0)\"><path d=\"M5,0h69.75146484375a5,5 0 0 1 5,5v13a5,5 0 0 1 -5,5h-69.75146484375a5,5 0 0 1 -5,-5v-13a5,5 0 0 1 5,-5z\" style=\"stroke: rgb(0, 0, 0); fill: rgb(238, 238, 238); stroke-width: 0;\"/><text x=\"6\" y=\"16\" style=\"font-family: -apple-system, BlinkMacSystemFont, &quot;Segoe WPC&quot;, &quot;Segoe UI&quot;, Ubuntu, &quot;Droid Sans&quot;, sans-serif, &quot;PingFang SC&quot;; font-size: 11px; text-rendering: geometricprecision;\">modelOutput</text><title>float32[4,10]</title></g><path class=\"node border\" d=\"M5,0h69.75146484375a5,5 0 0 1 5,5v13a5,5 0 0 1 -5,5h-69.75146484375a5,5 0 0 1 -5,-5v-13a5,5 0 0 1 5,-5z\" style=\"stroke: rgb(51, 51, 51); fill: none; stroke-width: 1px;\"/></g></g></g></svg>"
          },
          "metadata": {}
        }
      ]
    }
  ]
}