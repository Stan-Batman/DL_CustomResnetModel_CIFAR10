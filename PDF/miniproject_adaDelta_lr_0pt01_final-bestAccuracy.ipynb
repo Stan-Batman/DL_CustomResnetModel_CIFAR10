{
  "nbformat": 4,
  "nbformat_minor": 0,
  "metadata": {
    "colab": {
      "provenance": []
    },
    "kernelspec": {
      "name": "python3",
      "display_name": "Python 3"
    },
    "language_info": {
      "name": "python"
    },
    "accelerator": "GPU",
    "gpuClass": "standard"
  },
  "cells": [
    {
      "cell_type": "markdown",
      "source": [
        "To prepare our CIFAR10 dataset for training, we apply data augmentation techniques and transforms. Specifically, we use the following techniques:\n",
        "\n",
        "Random Crop: This technique creates a random subset of an original image. We use this to randomly crop 32x32-pixel patches from the original images, which helps our model learn to recognize objects that might appear anywhere in the image.\n",
        "\n",
        "Random Horizontal Flip: This technique flips an image horizontally with a probability p. We use this to further augment our dataset and make our model more robust to variations in the orientation of objects.\n",
        "\n",
        "To Tensor: We use the To Tensor transform to convert our images to PyTorch tensors and scale the pixel values by 255.\n",
        "\n",
        "Normalize: We apply the Normalize transform to the tensor images so that their values have a mean of 0.0 and a standard deviation of 1.0. This helps our model learn from the input data more effectively.\n",
        "\n",
        "We download the CIFAR10 dataset to the root directory ./data. To ensure that we get the same validation set each time we run the code, we set PyTorch's random number generator to a seed value of 17. We also import the datasets and convert the images into PyTorch tensors.\n"
      ],
      "metadata": {
        "id": "NXcbERti-5V2"
      }
    },
    {
      "cell_type": "code",
      "execution_count": null,
      "metadata": {
        "colab": {
          "base_uri": "https://localhost:8080/"
        },
        "id": "z13JhFe5Uv7U",
        "outputId": "675cf3cc-d753-41b0-fd9e-14fea11f8dc2"
      },
      "outputs": [
        {
          "output_type": "stream",
          "name": "stdout",
          "text": [
            "Initializing fetching CIFAR10 dataset using torchvision\n",
            "Downloading https://www.cs.toronto.edu/~kriz/cifar-10-python.tar.gz to ./data/cifar-10-python.tar.gz\n"
          ]
        },
        {
          "output_type": "stream",
          "name": "stderr",
          "text": [
            "100%|██████████| 170498071/170498071 [00:04<00:00, 39962218.40it/s]\n"
          ]
        },
        {
          "output_type": "stream",
          "name": "stdout",
          "text": [
            "Extracting ./data/cifar-10-python.tar.gz to ./data\n",
            "Files already downloaded and verified\n",
            "Files already downloaded and verified\n"
          ]
        }
      ],
      "source": [
        "import multiprocessing\n",
        "import torchvision\n",
        "import torchvision.transforms as transforms\n",
        "import numpy as np\n",
        "from torch.utils.data import DataLoader\n",
        "import torch\n",
        "torch.manual_seed(17)\n",
        "\n",
        "from torchsummary import summary\n",
        "from tqdm import tqdm\n",
        "import matplotlib.pyplot as plt\n",
        "\n",
        "class FetchDataset:\n",
        "\n",
        "    def __init__(self, dataset=\"CIFAR10\", batch_size=64):\n",
        "        print(\"Initializing fetching %s dataset using torchvision\"%(dataset))\n",
        "        # check if the dataset exists in torchvision\n",
        "        self.datasetObject = torchvision.datasets.__dict__.get(dataset, None)\n",
        "        if self.datasetObject == None:\n",
        "            raise Exception(\"Dataset %s might not be in torchvision.\"%(dataset))\n",
        "        self.batch_size = batch_size\n",
        "        self.transformers_training = []\n",
        "        self.transformers_testing = []\n",
        "        # set number of workers available for multiprocessing\n",
        "        self.workersAvailable = min(multiprocessing.cpu_count(), 14)\n",
        "      \n",
        "    def dataAugmentation(self, size=32, padding=3):\n",
        "        # add data augmentation transforms to the training set\n",
        "        self.transformers_training.append(transforms.RandomHorizontalFlip())\n",
        "        self.transformers_training.append(transforms.RandomCrop(size=size, padding=padding))\n",
        "        self.transformers_training.append(transforms.functional.equalize)\n",
        "        self.transformers_testing.append(transforms.functional.equalize)\n",
        "\n",
        "    def __addToTensor(self):\n",
        "        # add ToTensor transform to the training and testing sets\n",
        "        self.transformers_training.append(transforms.ToTensor())\n",
        "        self.transformers_testing.append(transforms.ToTensor())\n",
        "\n",
        "    def addNormalizer(self):\n",
        "        self.__addToTensor()\n",
        "        # load training set to compute mean and standard deviation\n",
        "        dataset_training = self.datasetObject(root=\"./data\", train=True, download=True)\n",
        "        data_train = dataset_training.data/255.0\n",
        "        mean = data_train.mean(axis=(0, 1, 2))\n",
        "        std = data_train.std(axis=(0, 1, 2))\n",
        "        # add Normalize transform to the training and testing sets\n",
        "        self.transformers_training.append(transforms.Normalize(mean=mean, std=std))\n",
        "        self.transformers_testing.append(transforms.Normalize(mean=mean, std=std))\n",
        "        \n",
        "\n",
        "    def getLoaders(self):\n",
        "        if len(self.transformers_training) == 0:\n",
        "            self.__addToTensor()\n",
        "        # create data loaders with the defined batch size, transformers and number of workers\n",
        "        dataset_training = self.datasetObject(root=\"./data\", train=True, download=True, transform=transforms.Compose(self.transformers_training))\n",
        "        dataset_testing = self.datasetObject(root=\"./data\", train=False, download=True, transform=transforms.Compose(self.transformers_testing))\n",
        "        load_train = DataLoader(dataset_training, batch_size=self.batch_size, shuffle=True, num_workers=self.workersAvailable)\n",
        "        load_test = DataLoader(dataset_testing, batch_size=self.batch_size, shuffle=False, num_workers=self.workersAvailable)\n",
        "        # return the training and testing data loaders\n",
        "        return load_train, load_test\n",
        "    \n",
        "# create a new instance of FetchDataset for the CIFAR10 dataset with batch size of 128\n",
        "df = FetchDataset(dataset=\"CIFAR10\", batch_size=128)\n",
        "# add data augmentation transforms to the training set with size 32 and padding 4\n",
        "df.dataAugmentation(size=32, padding=4)\n",
        "# add normalizing transforms to the training and testing sets\n",
        "df.addNormalizer()\n",
        "# get the training and testing data loaders\n",
        "trainLoader, testLoader = df.getLoaders()\n"
      ]
    },
    {
      "cell_type": "markdown",
      "source": [
        "Modified the basic resnet model from https://github.com/kuangliu/pytorch-cifar/blob/master/models/resnet.py \n",
        "\n",
        "• Ci, the number of channels in the ith layer.\n",
        "• Fi, the filter size in the ith layer\n",
        "• Ki, the kernel size in the ith skip connection\n",
        "• P, the pool size in the average pool laye\n",
        "\n",
        "Using the following values for the Hyperparameters (design variables) in our architectures : \n",
        "\n",
        "    C=[64,128,128,256]\n",
        "    F=[3,3,3,3]\n",
        "    K=[1,1,1,1]  \n",
        "    P=4\n",
        "\n"
      ],
      "metadata": {
        "id": "ecFhnfbS3yTe"
      }
    },
    {
      "cell_type": "code",
      "source": [
        "# Import necessary PyTorch modules\n",
        "import torch.nn as nn\n",
        "import torch.nn.functional as F\n",
        "\n",
        "# Define the BasicBlock class, which is used to construct the layers in the ResNet architecture\n",
        "class BasicBlock(nn.Module):\n",
        "\n",
        "    # Initialize the BasicBlock class\n",
        "    def __init__(self, in_planes, planes, kernel_size, skip_kernel, stride=1):\n",
        "        super(BasicBlock, self).__init__()\n",
        "\n",
        "        # Define the first convolutional layer\n",
        "        self.conv1 = nn.Conv2d(in_planes, planes, kernel_size=kernel_size, stride=stride, padding=1, bias=False)\n",
        "        self.bn1 = nn.BatchNorm2d(planes)\n",
        "\n",
        "        # Define the second convolutional layer\n",
        "        self.conv2 = nn.Conv2d(planes, planes, kernel_size=kernel_size, stride=1, padding=1, bias=False)\n",
        "        self.bn2 = nn.BatchNorm2d(planes)\n",
        "\n",
        "        # Define the shortcut connection, which is used to add the output of the convolutional layers to the input\n",
        "        self.shortcut = nn.Sequential()\n",
        "\n",
        "        # If the stride is not 1 or the number of input planes is not equal to the number of output planes, \n",
        "        # define a convolutional layer and a batch normalization layer for the shortcut connection\n",
        "        if stride != 1 or in_planes != planes:\n",
        "            self.shortcut = nn.Sequential(\n",
        "                nn.Conv2d(in_planes, planes, kernel_size=skip_kernel, stride=stride, bias=False),\n",
        "                nn.BatchNorm2d(planes)\n",
        "            )\n",
        "\n",
        "    # Define the forward pass for the BasicBlock class\n",
        "    def forward(self, x):\n",
        "        # Apply the first convolutional layer, batch normalization, and ReLU activation\n",
        "        out = F.relu(self.bn1(self.conv1(x)))\n",
        "\n",
        "        # Apply the second convolutional layer and batch normalization\n",
        "        out = self.bn2(self.conv2(out))\n",
        "\n",
        "        # Add the shortcut connection to the output of the convolutional layers\n",
        "        out += self.shortcut(x)\n",
        "\n",
        "        # Apply the ReLU activation\n",
        "        out = F.relu(out)\n",
        "\n",
        "        return out\n",
        "\n",
        "# Define the ResNet class, which is used to construct the ResNet architecture\n",
        "class ResNet(nn.Module):\n",
        "\n",
        "      # Initialize the ResNet class\n",
        "      def __init__(self,N:int, B:list, C:list, F:list, K:list, P:int, num_classes=10):\n",
        "          super(ResNet, self).__init__()\n",
        "\n",
        "          # Initialize the number of input planes\n",
        "          self.in_planes = C[0]\n",
        "\n",
        "          # Set the block to the BasicBlock class\n",
        "          self.block = BasicBlock\n",
        "\n",
        "          # Store the values of N, B, C, F, K, and P\n",
        "          self.N, self.B, self.C, self.F, self.K, self.P= N, B, C, F, K, P\n",
        "\n",
        "          # Initialize a container for the layers\n",
        "          self.layers = []\n",
        "\n",
        "          # Set the stride for each layer\n",
        "          self.S = [2] * N\n",
        "          self.S[0] = 1\n",
        "\n",
        "          # Calculate the input dimension for the output linear layer\n",
        "          self.outLayerInSize = C[N-1]*(32//(P*2**(N-1)))*(32//(P*2**(N-1)))\n",
        "\n",
        "\n",
        "          # Print Model Config\n",
        "          print(\"\\n\\nModel Config: \"\n",
        "              \"\\n-------------------------------------\"\n",
        "              \"\\nN (# Layers)\\t:\",self.N,\n",
        "              \"\\nB (# Blocks)\\t:\",self.B,\n",
        "              \"\\nC (# Channels)\\t:\",C,\n",
        "              \"\\nF (Conv Kernel)\\t:\",F,\n",
        "              \"\\nK (Skip Kernel)\\t:\",K,\n",
        "              \"\\nP (Pool Kernel)\\t:\",P,)\n",
        "\n",
        "          # Define the first convolution layer with 3 input channels, C[0] output channels, F[0] kernel size,\n",
        "          # stride of 1, padding of 1, and no bias\n",
        "\n",
        "          self.conv1 = nn.Conv2d(3, C[0], kernel_size=F[0], stride=1, padding=1, bias=False)\n",
        "          # Define a batch normalization layer with C[0] channels\n",
        "\n",
        "          self.bn1 = nn.BatchNorm2d(C[0])\n",
        "                  # Define N residual blocks\n",
        "\n",
        "          for i in range(N): \n",
        "              # Dynamically create variable names for each residual block using the exec() function\n",
        "\n",
        "              exec(\"self.layer{} = self._make_layer(self.block, self.C[{}], self.B[{}], self.F[{}], self.K[{}], self.S[{}])\"\\\n",
        "                  .format(i+1,i,i,i,i,i))\n",
        "              # Append the residual block to the layers ModuleList\n",
        "              exec(\"self.layers.append(self.layer{})\".format(i+1))\n",
        "                    # Define the final linear layer with input size of outLayerInSize and output size of num_classes\n",
        "    \n",
        "          self.linear = nn.Linear(self.outLayerInSize, num_classes)\n",
        "          \n",
        "\n",
        "      def _make_layer(self, block, planes, num_blocks, kernel_size, skip_kernel, stride):\n",
        "          # Set stride for each block in the layer\n",
        "          strides = [stride] + [1]*(num_blocks-1)\n",
        "          layers = []\n",
        "          for stride in strides:\n",
        "              # Append each block to the layer with given arguments\n",
        "              layers.append(block(self.in_planes, planes, kernel_size, skip_kernel, stride))\n",
        "              # Update the number of input planes for the next block\n",
        "              self.in_planes = planes\n",
        "          # Return a sequential module containing all the blocks in the layer\n",
        "          return nn.Sequential(*layers)\n",
        "\n",
        "\n",
        "      def forward(self, x):\n",
        "          # Apply the first convolutional layer followed by batch normalization and ReLU activation\n",
        "          out = F.relu(self.bn1(self.conv1(x)))\n",
        "          # Apply all the blocks in the layer\n",
        "          for layer in self.layers:\n",
        "              out = layer(out)\n",
        "          # Apply average pooling with kernel size self.P\n",
        "          out = F.avg_pool2d(out, self.P)\n",
        "          # Flatten the output tensor\n",
        "          out = out.view(out.size(0), -1)\n",
        "          # Apply the fully connected linear layer\n",
        "          out = self.linear(out)\n",
        "          # Return the final output\n",
        "          return out\n",
        "\n",
        "def resnet_model():\n",
        "        # Define the parameters for the ResNet architecture\n",
        "        B=[3,3,2,3]  # number of blocks in each layer\n",
        "        C=[64,128,128,256]  # number of output channels in each layer\n",
        "        F=[3,3,3,3]  # kernel size for each layer\n",
        "        K=[1,1,1,1]  # skip kernel size for each layer\n",
        "        P=4  # average pooling kernel size\n",
        "        N=len(B)  # number of layers in the network\n",
        "        # Return a new ResNet model with the defined parameters\n",
        "        return ResNet(N, B, C, F, K, P)\n"
      ],
      "metadata": {
        "id": "gvavgWjOUwjk"
      },
      "execution_count": null,
      "outputs": []
    },
    {
      "cell_type": "markdown",
      "source": [
        "Checking Device - If GPU is available, GPU will be used."
      ],
      "metadata": {
        "id": "eBO9x9w7dpnR"
      }
    },
    {
      "cell_type": "code",
      "source": [
        "device = torch.device(\"cuda\" if torch.cuda.is_available() else \"cpu\")\n",
        "print(device)"
      ],
      "metadata": {
        "colab": {
          "base_uri": "https://localhost:8080/"
        },
        "id": "R2V6SO6-VAw4",
        "outputId": "a3697af0-9805-4f89-dcc5-7c397fcdcc7c"
      },
      "execution_count": null,
      "outputs": [
        {
          "output_type": "stream",
          "name": "stdout",
          "text": [
            "cuda\n"
          ]
        }
      ]
    },
    {
      "cell_type": "code",
      "source": [
        "model = resnet_model()\n",
        "model = model.to(device)"
      ],
      "metadata": {
        "colab": {
          "base_uri": "https://localhost:8080/"
        },
        "id": "cwUOZ6TAVRcc",
        "outputId": "4739da42-8078-4dc1-c446-07493fd71213"
      },
      "execution_count": null,
      "outputs": [
        {
          "output_type": "stream",
          "name": "stdout",
          "text": [
            "\n",
            "\n",
            "Model Config: \n",
            "-------------------------------------\n",
            "N (# Layers)\t: 4 \n",
            "B (# Blocks)\t: [3, 3, 2, 3] \n",
            "C (# Channels)\t: [64, 128, 128, 256] \n",
            "F (Conv Kernel)\t: [3, 3, 3, 3] \n",
            "K (Skip Kernel)\t: [1, 1, 1, 1] \n",
            "P (Pool Kernel)\t: 4\n"
          ]
        }
      ]
    },
    {
      "cell_type": "markdown",
      "source": [
        "We run our model for 300 epochs, to find out the best possible accuracy. The accuracy becomes near about constant after it. We define our:\n",
        "\n",
        "learning rate, weightDecay, type of optimizer to be used (we tried with Adam, Adagrad, AdaDelta), with Adadelta giving out the best accuracy.\n",
        "\n",
        "The scheduler set the learning rate of each parameter group using a cosine annealing schedule\n"
      ],
      "metadata": {
        "id": "ZwbaYnn_45P1"
      }
    },
    {
      "cell_type": "code",
      "source": [
        "EPOCHS=300\n",
        "globalBestAccuracy = 0.0  # initialize the global best accuracy to 0.0\n",
        "train_loss = []  # list to store train loss\n",
        "test_loss = []  # list to store test loss\n",
        "train_accuracy = []  # list to store train accuracy\n",
        "test_accuracy = []  # list to store test accuracy\n",
        "\n",
        "# define the loss function as Cross Entropy Loss with sum reduction\n",
        "loss_function = torch.nn.CrossEntropyLoss(reduction='sum')\n",
        "\n",
        "learningRate = 0.01  # set the learning rate to 0.01\n",
        "weightDecay = 0.0001  # set the weight decay to 0.0001\n",
        "\n",
        "# define the optimizer as Adadelta with the above defined learning rate and weight decay\n",
        "optimizer = torch.optim.Adadelta(model.parameters(), lr=learningRate, weight_decay=weightDecay)\n",
        "\n",
        "# define the learning rate scheduler as Cosine Annealing LR with the above defined optimizer, number of epochs, and minimum learning rate\n",
        "scheduler = torch.optim.lr_scheduler.CosineAnnealingLR(optimizer, EPOCHS, eta_min=learningRate/10.0)\n",
        "\n",
        "# print the model's evaluation mode\n",
        "print(model.eval())\n",
        "\n",
        "# calculate and print the total trainable parameters of the model\n",
        "trainable_parameters = sum(p.numel() for p in model.parameters() if p.requires_grad)\n",
        "print(\"Total Trainable Parameters : %s\"%(trainable_parameters))\n",
        "\n",
        "# if the total number of trainable parameters exceeds 5 million, raise an exception\n",
        "if trainable_parameters > 5*(10**6):\n",
        "    raise Exception(\"The total number of parameters exceeds 5 million\")\n"
      ],
      "metadata": {
        "colab": {
          "base_uri": "https://localhost:8080/"
        },
        "id": "iDgGEj7_VaJg",
        "outputId": "0149d45f-447f-4299-8b64-afe43ccf6197"
      },
      "execution_count": null,
      "outputs": [
        {
          "output_type": "stream",
          "name": "stdout",
          "text": [
            "ResNet(\n",
            "  (conv1): Conv2d(3, 64, kernel_size=(3, 3), stride=(1, 1), padding=(1, 1), bias=False)\n",
            "  (bn1): BatchNorm2d(64, eps=1e-05, momentum=0.1, affine=True, track_running_stats=True)\n",
            "  (layer1): Sequential(\n",
            "    (0): BasicBlock(\n",
            "      (conv1): Conv2d(64, 64, kernel_size=(3, 3), stride=(1, 1), padding=(1, 1), bias=False)\n",
            "      (bn1): BatchNorm2d(64, eps=1e-05, momentum=0.1, affine=True, track_running_stats=True)\n",
            "      (conv2): Conv2d(64, 64, kernel_size=(3, 3), stride=(1, 1), padding=(1, 1), bias=False)\n",
            "      (bn2): BatchNorm2d(64, eps=1e-05, momentum=0.1, affine=True, track_running_stats=True)\n",
            "      (shortcut): Sequential()\n",
            "    )\n",
            "    (1): BasicBlock(\n",
            "      (conv1): Conv2d(64, 64, kernel_size=(3, 3), stride=(1, 1), padding=(1, 1), bias=False)\n",
            "      (bn1): BatchNorm2d(64, eps=1e-05, momentum=0.1, affine=True, track_running_stats=True)\n",
            "      (conv2): Conv2d(64, 64, kernel_size=(3, 3), stride=(1, 1), padding=(1, 1), bias=False)\n",
            "      (bn2): BatchNorm2d(64, eps=1e-05, momentum=0.1, affine=True, track_running_stats=True)\n",
            "      (shortcut): Sequential()\n",
            "    )\n",
            "    (2): BasicBlock(\n",
            "      (conv1): Conv2d(64, 64, kernel_size=(3, 3), stride=(1, 1), padding=(1, 1), bias=False)\n",
            "      (bn1): BatchNorm2d(64, eps=1e-05, momentum=0.1, affine=True, track_running_stats=True)\n",
            "      (conv2): Conv2d(64, 64, kernel_size=(3, 3), stride=(1, 1), padding=(1, 1), bias=False)\n",
            "      (bn2): BatchNorm2d(64, eps=1e-05, momentum=0.1, affine=True, track_running_stats=True)\n",
            "      (shortcut): Sequential()\n",
            "    )\n",
            "  )\n",
            "  (layer2): Sequential(\n",
            "    (0): BasicBlock(\n",
            "      (conv1): Conv2d(64, 128, kernel_size=(3, 3), stride=(2, 2), padding=(1, 1), bias=False)\n",
            "      (bn1): BatchNorm2d(128, eps=1e-05, momentum=0.1, affine=True, track_running_stats=True)\n",
            "      (conv2): Conv2d(128, 128, kernel_size=(3, 3), stride=(1, 1), padding=(1, 1), bias=False)\n",
            "      (bn2): BatchNorm2d(128, eps=1e-05, momentum=0.1, affine=True, track_running_stats=True)\n",
            "      (shortcut): Sequential(\n",
            "        (0): Conv2d(64, 128, kernel_size=(1, 1), stride=(2, 2), bias=False)\n",
            "        (1): BatchNorm2d(128, eps=1e-05, momentum=0.1, affine=True, track_running_stats=True)\n",
            "      )\n",
            "    )\n",
            "    (1): BasicBlock(\n",
            "      (conv1): Conv2d(128, 128, kernel_size=(3, 3), stride=(1, 1), padding=(1, 1), bias=False)\n",
            "      (bn1): BatchNorm2d(128, eps=1e-05, momentum=0.1, affine=True, track_running_stats=True)\n",
            "      (conv2): Conv2d(128, 128, kernel_size=(3, 3), stride=(1, 1), padding=(1, 1), bias=False)\n",
            "      (bn2): BatchNorm2d(128, eps=1e-05, momentum=0.1, affine=True, track_running_stats=True)\n",
            "      (shortcut): Sequential()\n",
            "    )\n",
            "    (2): BasicBlock(\n",
            "      (conv1): Conv2d(128, 128, kernel_size=(3, 3), stride=(1, 1), padding=(1, 1), bias=False)\n",
            "      (bn1): BatchNorm2d(128, eps=1e-05, momentum=0.1, affine=True, track_running_stats=True)\n",
            "      (conv2): Conv2d(128, 128, kernel_size=(3, 3), stride=(1, 1), padding=(1, 1), bias=False)\n",
            "      (bn2): BatchNorm2d(128, eps=1e-05, momentum=0.1, affine=True, track_running_stats=True)\n",
            "      (shortcut): Sequential()\n",
            "    )\n",
            "  )\n",
            "  (layer3): Sequential(\n",
            "    (0): BasicBlock(\n",
            "      (conv1): Conv2d(128, 128, kernel_size=(3, 3), stride=(2, 2), padding=(1, 1), bias=False)\n",
            "      (bn1): BatchNorm2d(128, eps=1e-05, momentum=0.1, affine=True, track_running_stats=True)\n",
            "      (conv2): Conv2d(128, 128, kernel_size=(3, 3), stride=(1, 1), padding=(1, 1), bias=False)\n",
            "      (bn2): BatchNorm2d(128, eps=1e-05, momentum=0.1, affine=True, track_running_stats=True)\n",
            "      (shortcut): Sequential(\n",
            "        (0): Conv2d(128, 128, kernel_size=(1, 1), stride=(2, 2), bias=False)\n",
            "        (1): BatchNorm2d(128, eps=1e-05, momentum=0.1, affine=True, track_running_stats=True)\n",
            "      )\n",
            "    )\n",
            "    (1): BasicBlock(\n",
            "      (conv1): Conv2d(128, 128, kernel_size=(3, 3), stride=(1, 1), padding=(1, 1), bias=False)\n",
            "      (bn1): BatchNorm2d(128, eps=1e-05, momentum=0.1, affine=True, track_running_stats=True)\n",
            "      (conv2): Conv2d(128, 128, kernel_size=(3, 3), stride=(1, 1), padding=(1, 1), bias=False)\n",
            "      (bn2): BatchNorm2d(128, eps=1e-05, momentum=0.1, affine=True, track_running_stats=True)\n",
            "      (shortcut): Sequential()\n",
            "    )\n",
            "  )\n",
            "  (layer4): Sequential(\n",
            "    (0): BasicBlock(\n",
            "      (conv1): Conv2d(128, 256, kernel_size=(3, 3), stride=(2, 2), padding=(1, 1), bias=False)\n",
            "      (bn1): BatchNorm2d(256, eps=1e-05, momentum=0.1, affine=True, track_running_stats=True)\n",
            "      (conv2): Conv2d(256, 256, kernel_size=(3, 3), stride=(1, 1), padding=(1, 1), bias=False)\n",
            "      (bn2): BatchNorm2d(256, eps=1e-05, momentum=0.1, affine=True, track_running_stats=True)\n",
            "      (shortcut): Sequential(\n",
            "        (0): Conv2d(128, 256, kernel_size=(1, 1), stride=(2, 2), bias=False)\n",
            "        (1): BatchNorm2d(256, eps=1e-05, momentum=0.1, affine=True, track_running_stats=True)\n",
            "      )\n",
            "    )\n",
            "    (1): BasicBlock(\n",
            "      (conv1): Conv2d(256, 256, kernel_size=(3, 3), stride=(1, 1), padding=(1, 1), bias=False)\n",
            "      (bn1): BatchNorm2d(256, eps=1e-05, momentum=0.1, affine=True, track_running_stats=True)\n",
            "      (conv2): Conv2d(256, 256, kernel_size=(3, 3), stride=(1, 1), padding=(1, 1), bias=False)\n",
            "      (bn2): BatchNorm2d(256, eps=1e-05, momentum=0.1, affine=True, track_running_stats=True)\n",
            "      (shortcut): Sequential()\n",
            "    )\n",
            "    (2): BasicBlock(\n",
            "      (conv1): Conv2d(256, 256, kernel_size=(3, 3), stride=(1, 1), padding=(1, 1), bias=False)\n",
            "      (bn1): BatchNorm2d(256, eps=1e-05, momentum=0.1, affine=True, track_running_stats=True)\n",
            "      (conv2): Conv2d(256, 256, kernel_size=(3, 3), stride=(1, 1), padding=(1, 1), bias=False)\n",
            "      (bn2): BatchNorm2d(256, eps=1e-05, momentum=0.1, affine=True, track_running_stats=True)\n",
            "      (shortcut): Sequential()\n",
            "    )\n",
            "  )\n",
            "  (linear): Linear(in_features=256, out_features=10, bias=True)\n",
            ")\n",
            "Total Trainable Parameters : 4935242\n"
          ]
        }
      ]
    },
    {
      "cell_type": "markdown",
      "source": [
        "Model Training and Testing.\n",
        "Here we are training our model over 300 epochs and trying to find out the best accuracy our model provides for the CIFAR dataset."
      ],
      "metadata": {
        "id": "QOH5C5_g5oG8"
      }
    },
    {
      "cell_type": "code",
      "source": [
        "# Define the function to train the model and return the updated model and optimizer\n",
        "def train(model, loader, optimizer):\n",
        "    # Set the model to train mode\n",
        "    model.train()\n",
        "    # Clear the gradients of the optimizer\n",
        "    optimizer.zero_grad()\n",
        "    # Return the updated model and optimizer\n",
        "    return model, optimizer\n",
        "\n",
        "# Define the function to evaluate the model on the test set\n",
        "def test(model, loader):\n",
        "    # Set the model to evaluation mode\n",
        "    return model.eval()\n",
        "\n",
        "# Define the function to calculate the loss and accuracy for a given loader and model\n",
        "def getLoss(loader, model, optimizer, phase):\n",
        "    # Initialize the running loss and correct count\n",
        "    running_loss = 0.0\n",
        "    running_correct = 0\n",
        "    # Iterate through the loader\n",
        "    for images, labels in loader:\n",
        "        # Move the images and labels to the device\n",
        "        images = images.to(device)\n",
        "        labels = labels.to(device)\n",
        "        # Forward pass\n",
        "        output = model(images)\n",
        "        # Calculate the loss\n",
        "        loss = loss_function(output, labels)\n",
        "        # Calculate the predicted labels\n",
        "        predicted_labels = torch.argmax(output, dim=1)\n",
        "        # Update the running loss and correct count\n",
        "        running_loss += loss.item()\n",
        "        running_correct += torch.sum(predicted_labels == labels).float().item()\n",
        "        # If the phase is \"train\", backpropagate the loss and update the optimizer\n",
        "        if phase == \"train\":\n",
        "            loss.backward()\n",
        "            optimizer.step()\n",
        "            optimizer.zero_grad()\n",
        "    # Calculate the epoch loss and accuracy\n",
        "    epoch_loss = running_loss / len(loader.dataset)\n",
        "    epoch_acc = running_correct / len(loader.dataset)\n",
        "    # Return the epoch loss and accuracy\n",
        "    return epoch_loss, epoch_acc\n",
        "\n",
        "# Iterate through the epochs\n",
        "for i in tqdm(range(EPOCHS)):\n",
        "    # Iterate through the phases (train and test)\n",
        "    for phase in ['train', 'test']:\n",
        "        # If the phase is \"train\", set the loader and call the train function\n",
        "        if phase == \"train\":\n",
        "            loader = trainLoader\n",
        "            model, optimizer = train(model, loader, optimizer)\n",
        "        # If the phase is \"test\", set the loader and call the test function\n",
        "        else:\n",
        "            loader = testLoader\n",
        "            model = test(model, loader)\n",
        "        # Calculate the loss and accuracy for the current phase\n",
        "        epoch_loss, epoch_acc = getLoss(loader, model, optimizer, phase)\n",
        "        # If the phase is \"train\", update the scheduler and append the results to the train lists\n",
        "        if phase == \"train\":\n",
        "            scheduler.step()\n",
        "            train_loss.append(epoch_loss)\n",
        "            train_accuracy.append(epoch_acc)\n",
        "        # If the phase is \"test\", append the results to the test lists and update the global best accuracy\n",
        "        else:\n",
        "            test_loss.append(epoch_loss)\n",
        "            test_accuracy.append(epoch_acc)\n",
        "            globalBestAccuracy = max(globalBestAccuracy, epoch_acc)\n",
        "    # Print the results for the current epoch\n",
        "    print(\"Training Loss : %s, Testing Loss : %s, Training Accuracy : %s, Testing Accuracy : %s\" \\\n",
        "          % (train_loss[-1], test_loss[-1], train_accuracy[-1], test_accuracy[-1]))\n"
      ],
      "metadata": {
        "colab": {
          "base_uri": "https://localhost:8080/"
        },
        "id": "2OVbcif7VmJQ",
        "outputId": "f303efff-0507-43b0-c0f1-66a94d67a78f"
      },
      "execution_count": null,
      "outputs": [
        {
          "output_type": "stream",
          "name": "stderr",
          "text": [
            "  0%|          | 1/300 [00:58<4:51:43, 58.54s/it]"
          ]
        },
        {
          "output_type": "stream",
          "name": "stdout",
          "text": [
            "Training Loss : 1.750513836517334, Testing Loss : 1.6276763652801514, Training Accuracy : 0.36502, Testing Accuracy : 0.4239\n"
          ]
        },
        {
          "output_type": "stream",
          "name": "stderr",
          "text": [
            "\r  1%|          | 2/300 [01:48<4:26:46, 53.71s/it]"
          ]
        },
        {
          "output_type": "stream",
          "name": "stdout",
          "text": [
            "Training Loss : 1.3847110874938964, Testing Loss : 1.3207223026275634, Training Accuracy : 0.50854, Testing Accuracy : 0.5412\n"
          ]
        },
        {
          "output_type": "stream",
          "name": "stderr",
          "text": [
            "\r  1%|          | 3/300 [02:39<4:18:14, 52.17s/it]"
          ]
        },
        {
          "output_type": "stream",
          "name": "stdout",
          "text": [
            "Training Loss : 1.2345377491760254, Testing Loss : 1.224829564857483, Training Accuracy : 0.5668, Testing Accuracy : 0.57\n"
          ]
        },
        {
          "output_type": "stream",
          "name": "stderr",
          "text": [
            "\r  1%|▏         | 4/300 [03:29<4:13:25, 51.37s/it]"
          ]
        },
        {
          "output_type": "stream",
          "name": "stdout",
          "text": [
            "Training Loss : 1.113235101928711, Testing Loss : 1.2847113328933715, Training Accuracy : 0.60824, Testing Accuracy : 0.5776\n"
          ]
        },
        {
          "output_type": "stream",
          "name": "stderr",
          "text": [
            "\r  2%|▏         | 5/300 [04:19<4:10:50, 51.02s/it]"
          ]
        },
        {
          "output_type": "stream",
          "name": "stdout",
          "text": [
            "Training Loss : 1.0122601741027832, Testing Loss : 1.0716696825027465, Training Accuracy : 0.64378, Testing Accuracy : 0.6294\n"
          ]
        },
        {
          "output_type": "stream",
          "name": "stderr",
          "text": [
            "\r  2%|▏         | 6/300 [05:10<4:09:33, 50.93s/it]"
          ]
        },
        {
          "output_type": "stream",
          "name": "stdout",
          "text": [
            "Training Loss : 0.9275491195678711, Testing Loss : 0.9625132943153382, Training Accuracy : 0.6759, Testing Accuracy : 0.6653\n"
          ]
        },
        {
          "output_type": "stream",
          "name": "stderr",
          "text": [
            "\r  2%|▏         | 7/300 [06:01<4:08:54, 50.97s/it]"
          ]
        },
        {
          "output_type": "stream",
          "name": "stdout",
          "text": [
            "Training Loss : 0.8532541835784913, Testing Loss : 0.9616029819488525, Training Accuracy : 0.70206, Testing Accuracy : 0.6814\n"
          ]
        },
        {
          "output_type": "stream",
          "name": "stderr",
          "text": [
            "\r  3%|▎         | 8/300 [06:52<4:08:33, 51.07s/it]"
          ]
        },
        {
          "output_type": "stream",
          "name": "stdout",
          "text": [
            "Training Loss : 0.7926426062011719, Testing Loss : 0.9885334470748901, Training Accuracy : 0.72542, Testing Accuracy : 0.6716\n"
          ]
        },
        {
          "output_type": "stream",
          "name": "stderr",
          "text": [
            "\r  3%|▎         | 9/300 [07:43<4:07:10, 50.96s/it]"
          ]
        },
        {
          "output_type": "stream",
          "name": "stdout",
          "text": [
            "Training Loss : 0.7574244557189942, Testing Loss : 0.9268176073074341, Training Accuracy : 0.73672, Testing Accuracy : 0.698\n"
          ]
        },
        {
          "output_type": "stream",
          "name": "stderr",
          "text": [
            "\r  3%|▎         | 10/300 [08:34<4:05:59, 50.90s/it]"
          ]
        },
        {
          "output_type": "stream",
          "name": "stdout",
          "text": [
            "Training Loss : 0.7071595803070069, Testing Loss : 0.8291011363983154, Training Accuracy : 0.75556, Testing Accuracy : 0.7223\n"
          ]
        },
        {
          "output_type": "stream",
          "name": "stderr",
          "text": [
            "\r  4%|▎         | 11/300 [09:25<4:05:24, 50.95s/it]"
          ]
        },
        {
          "output_type": "stream",
          "name": "stdout",
          "text": [
            "Training Loss : 0.6629062732696533, Testing Loss : 0.7362963767528534, Training Accuracy : 0.77008, Testing Accuracy : 0.7473\n"
          ]
        },
        {
          "output_type": "stream",
          "name": "stderr",
          "text": [
            "\r  4%|▍         | 12/300 [10:16<4:04:40, 50.97s/it]"
          ]
        },
        {
          "output_type": "stream",
          "name": "stdout",
          "text": [
            "Training Loss : 0.6248297144317627, Testing Loss : 0.7610584497451782, Training Accuracy : 0.7836, Testing Accuracy : 0.751\n"
          ]
        },
        {
          "output_type": "stream",
          "name": "stderr",
          "text": [
            "\r  4%|▍         | 13/300 [11:07<4:03:51, 50.98s/it]"
          ]
        },
        {
          "output_type": "stream",
          "name": "stdout",
          "text": [
            "Training Loss : 0.6092548852539063, Testing Loss : 0.6856428800582886, Training Accuracy : 0.78924, Testing Accuracy : 0.7674\n"
          ]
        },
        {
          "output_type": "stream",
          "name": "stderr",
          "text": [
            "\r  5%|▍         | 14/300 [11:58<4:02:59, 50.98s/it]"
          ]
        },
        {
          "output_type": "stream",
          "name": "stdout",
          "text": [
            "Training Loss : 0.5650048509216309, Testing Loss : 0.6995527620315551, Training Accuracy : 0.80508, Testing Accuracy : 0.7668\n"
          ]
        },
        {
          "output_type": "stream",
          "name": "stderr",
          "text": [
            "\r  5%|▌         | 15/300 [12:48<4:01:01, 50.74s/it]"
          ]
        },
        {
          "output_type": "stream",
          "name": "stdout",
          "text": [
            "Training Loss : 0.5498452284240722, Testing Loss : 0.6795084643363952, Training Accuracy : 0.81002, Testing Accuracy : 0.7694\n"
          ]
        },
        {
          "output_type": "stream",
          "name": "stderr",
          "text": [
            "\r  5%|▌         | 16/300 [13:38<3:58:56, 50.48s/it]"
          ]
        },
        {
          "output_type": "stream",
          "name": "stdout",
          "text": [
            "Training Loss : 0.526840435409546, Testing Loss : 0.6165720776557923, Training Accuracy : 0.81878, Testing Accuracy : 0.7894\n"
          ]
        },
        {
          "output_type": "stream",
          "name": "stderr",
          "text": [
            "\r  6%|▌         | 17/300 [14:28<3:57:44, 50.40s/it]"
          ]
        },
        {
          "output_type": "stream",
          "name": "stdout",
          "text": [
            "Training Loss : 0.4960941240692139, Testing Loss : 0.6122942449092865, Training Accuracy : 0.82982, Testing Accuracy : 0.7907\n"
          ]
        },
        {
          "output_type": "stream",
          "name": "stderr",
          "text": [
            "\r  6%|▌         | 18/300 [15:19<3:56:52, 50.40s/it]"
          ]
        },
        {
          "output_type": "stream",
          "name": "stdout",
          "text": [
            "Training Loss : 0.4880392674255371, Testing Loss : 0.6232776842594147, Training Accuracy : 0.83204, Testing Accuracy : 0.7882\n"
          ]
        },
        {
          "output_type": "stream",
          "name": "stderr",
          "text": [
            "\r  6%|▋         | 19/300 [16:09<3:55:45, 50.34s/it]"
          ]
        },
        {
          "output_type": "stream",
          "name": "stdout",
          "text": [
            "Training Loss : 0.46933479026794434, Testing Loss : 0.589550674533844, Training Accuracy : 0.83782, Testing Accuracy : 0.8038\n"
          ]
        },
        {
          "output_type": "stream",
          "name": "stderr",
          "text": [
            "\r  7%|▋         | 20/300 [17:00<3:56:34, 50.70s/it]"
          ]
        },
        {
          "output_type": "stream",
          "name": "stdout",
          "text": [
            "Training Loss : 0.4388230741882324, Testing Loss : 0.5901583492279052, Training Accuracy : 0.84762, Testing Accuracy : 0.7997\n"
          ]
        },
        {
          "output_type": "stream",
          "name": "stderr",
          "text": [
            "\r  7%|▋         | 21/300 [17:53<3:58:35, 51.31s/it]"
          ]
        },
        {
          "output_type": "stream",
          "name": "stdout",
          "text": [
            "Training Loss : 0.4277646355819702, Testing Loss : 0.6005998805999756, Training Accuracy : 0.85, Testing Accuracy : 0.7997\n"
          ]
        },
        {
          "output_type": "stream",
          "name": "stderr",
          "text": [
            "\r  7%|▋         | 22/300 [18:45<3:58:33, 51.49s/it]"
          ]
        },
        {
          "output_type": "stream",
          "name": "stdout",
          "text": [
            "Training Loss : 0.40895013946533204, Testing Loss : 0.5682986152172088, Training Accuracy : 0.85876, Testing Accuracy : 0.8125\n"
          ]
        },
        {
          "output_type": "stream",
          "name": "stderr",
          "text": [
            "\r  8%|▊         | 23/300 [19:37<3:58:45, 51.72s/it]"
          ]
        },
        {
          "output_type": "stream",
          "name": "stdout",
          "text": [
            "Training Loss : 0.3925004592895508, Testing Loss : 0.5572887885093689, Training Accuracy : 0.86442, Testing Accuracy : 0.815\n"
          ]
        },
        {
          "output_type": "stream",
          "name": "stderr",
          "text": [
            "\r  8%|▊         | 24/300 [20:29<3:57:47, 51.69s/it]"
          ]
        },
        {
          "output_type": "stream",
          "name": "stdout",
          "text": [
            "Training Loss : 0.3897362612533569, Testing Loss : 0.550638566160202, Training Accuracy : 0.86504, Testing Accuracy : 0.819\n"
          ]
        },
        {
          "output_type": "stream",
          "name": "stderr",
          "text": [
            "\r  8%|▊         | 25/300 [21:20<3:56:29, 51.60s/it]"
          ]
        },
        {
          "output_type": "stream",
          "name": "stdout",
          "text": [
            "Training Loss : 0.3708708860015869, Testing Loss : 0.5533961500644684, Training Accuracy : 0.87206, Testing Accuracy : 0.8183\n"
          ]
        },
        {
          "output_type": "stream",
          "name": "stderr",
          "text": [
            "\r  9%|▊         | 26/300 [22:12<3:55:31, 51.58s/it]"
          ]
        },
        {
          "output_type": "stream",
          "name": "stdout",
          "text": [
            "Training Loss : 0.3603032011795044, Testing Loss : 0.5702375289916992, Training Accuracy : 0.87504, Testing Accuracy : 0.8187\n"
          ]
        },
        {
          "output_type": "stream",
          "name": "stderr",
          "text": [
            "\r  9%|▉         | 27/300 [23:03<3:54:53, 51.62s/it]"
          ]
        },
        {
          "output_type": "stream",
          "name": "stdout",
          "text": [
            "Training Loss : 0.34947409618377684, Testing Loss : 0.5317544902801513, Training Accuracy : 0.87896, Testing Accuracy : 0.8247\n"
          ]
        },
        {
          "output_type": "stream",
          "name": "stderr",
          "text": [
            "\r  9%|▉         | 28/300 [23:55<3:54:05, 51.64s/it]"
          ]
        },
        {
          "output_type": "stream",
          "name": "stdout",
          "text": [
            "Training Loss : 0.333891432800293, Testing Loss : 0.5275753411293029, Training Accuracy : 0.88484, Testing Accuracy : 0.8262\n"
          ]
        },
        {
          "output_type": "stream",
          "name": "stderr",
          "text": [
            "\r 10%|▉         | 29/300 [24:46<3:51:57, 51.36s/it]"
          ]
        },
        {
          "output_type": "stream",
          "name": "stdout",
          "text": [
            "Training Loss : 0.32331400020599366, Testing Loss : 0.5458815182209015, Training Accuracy : 0.88752, Testing Accuracy : 0.8257\n"
          ]
        },
        {
          "output_type": "stream",
          "name": "stderr",
          "text": [
            "\r 10%|█         | 30/300 [25:37<3:50:27, 51.21s/it]"
          ]
        },
        {
          "output_type": "stream",
          "name": "stdout",
          "text": [
            "Training Loss : 0.30859502784729004, Testing Loss : 0.5101552649021148, Training Accuracy : 0.89292, Testing Accuracy : 0.8407\n"
          ]
        },
        {
          "output_type": "stream",
          "name": "stderr",
          "text": [
            "\r 10%|█         | 31/300 [26:28<3:49:19, 51.15s/it]"
          ]
        },
        {
          "output_type": "stream",
          "name": "stdout",
          "text": [
            "Training Loss : 0.297551895980835, Testing Loss : 0.49635938539505003, Training Accuracy : 0.8973, Testing Accuracy : 0.8433\n"
          ]
        },
        {
          "output_type": "stream",
          "name": "stderr",
          "text": [
            "\r 11%|█         | 32/300 [27:19<3:48:09, 51.08s/it]"
          ]
        },
        {
          "output_type": "stream",
          "name": "stdout",
          "text": [
            "Training Loss : 0.2895010946273804, Testing Loss : 0.49543896255493164, Training Accuracy : 0.90004, Testing Accuracy : 0.8465\n"
          ]
        },
        {
          "output_type": "stream",
          "name": "stderr",
          "text": [
            "\r 11%|█         | 33/300 [28:10<3:47:10, 51.05s/it]"
          ]
        },
        {
          "output_type": "stream",
          "name": "stdout",
          "text": [
            "Training Loss : 0.2730684278106689, Testing Loss : 0.5127138098239898, Training Accuracy : 0.90396, Testing Accuracy : 0.8434\n"
          ]
        },
        {
          "output_type": "stream",
          "name": "stderr",
          "text": [
            "\r 11%|█▏        | 34/300 [29:01<3:46:12, 51.02s/it]"
          ]
        },
        {
          "output_type": "stream",
          "name": "stdout",
          "text": [
            "Training Loss : 0.28154671871185305, Testing Loss : 0.5090762993335723, Training Accuracy : 0.90096, Testing Accuracy : 0.8393\n"
          ]
        },
        {
          "output_type": "stream",
          "name": "stderr",
          "text": [
            "\r 12%|█▏        | 35/300 [29:52<3:45:20, 51.02s/it]"
          ]
        },
        {
          "output_type": "stream",
          "name": "stdout",
          "text": [
            "Training Loss : 0.2636207542991638, Testing Loss : 0.5519791492700576, Training Accuracy : 0.90706, Testing Accuracy : 0.8379\n"
          ]
        },
        {
          "output_type": "stream",
          "name": "stderr",
          "text": [
            "\r 12%|█▏        | 36/300 [30:43<3:44:31, 51.03s/it]"
          ]
        },
        {
          "output_type": "stream",
          "name": "stdout",
          "text": [
            "Training Loss : 0.2529628660583496, Testing Loss : 0.5006317177772522, Training Accuracy : 0.91002, Testing Accuracy : 0.8452\n"
          ]
        },
        {
          "output_type": "stream",
          "name": "stderr",
          "text": [
            "\r 12%|█▏        | 37/300 [31:34<3:43:27, 50.98s/it]"
          ]
        },
        {
          "output_type": "stream",
          "name": "stdout",
          "text": [
            "Training Loss : 0.24125281942367555, Testing Loss : 0.5012982848644256, Training Accuracy : 0.9163, Testing Accuracy : 0.8479\n"
          ]
        },
        {
          "output_type": "stream",
          "name": "stderr",
          "text": [
            "\r 13%|█▎        | 38/300 [32:24<3:42:11, 50.88s/it]"
          ]
        },
        {
          "output_type": "stream",
          "name": "stdout",
          "text": [
            "Training Loss : 0.22919247676849366, Testing Loss : 0.5005824575901031, Training Accuracy : 0.91924, Testing Accuracy : 0.848\n"
          ]
        },
        {
          "output_type": "stream",
          "name": "stderr",
          "text": [
            "\r 13%|█▎        | 39/300 [33:15<3:40:46, 50.75s/it]"
          ]
        },
        {
          "output_type": "stream",
          "name": "stdout",
          "text": [
            "Training Loss : 0.23438435400009155, Testing Loss : 0.48977648552060127, Training Accuracy : 0.9179, Testing Accuracy : 0.8498\n"
          ]
        },
        {
          "output_type": "stream",
          "name": "stderr",
          "text": [
            "\r 13%|█▎        | 40/300 [34:05<3:39:16, 50.60s/it]"
          ]
        },
        {
          "output_type": "stream",
          "name": "stdout",
          "text": [
            "Training Loss : 0.22820337966918947, Testing Loss : 0.5042036104679107, Training Accuracy : 0.92088, Testing Accuracy : 0.8477\n"
          ]
        },
        {
          "output_type": "stream",
          "name": "stderr",
          "text": [
            "\r 14%|█▎        | 41/300 [34:55<3:37:50, 50.47s/it]"
          ]
        },
        {
          "output_type": "stream",
          "name": "stdout",
          "text": [
            "Training Loss : 0.2137829765892029, Testing Loss : 0.5088005113363266, Training Accuracy : 0.92422, Testing Accuracy : 0.85\n"
          ]
        },
        {
          "output_type": "stream",
          "name": "stderr",
          "text": [
            "\r 14%|█▍        | 42/300 [35:45<3:36:48, 50.42s/it]"
          ]
        },
        {
          "output_type": "stream",
          "name": "stdout",
          "text": [
            "Training Loss : 0.21980208501815796, Testing Loss : 0.520375869178772, Training Accuracy : 0.92274, Testing Accuracy : 0.8486\n"
          ]
        },
        {
          "output_type": "stream",
          "name": "stderr",
          "text": [
            "\r 14%|█▍        | 43/300 [36:35<3:35:07, 50.22s/it]"
          ]
        },
        {
          "output_type": "stream",
          "name": "stdout",
          "text": [
            "Training Loss : 0.20946749859809877, Testing Loss : 0.4966290003299713, Training Accuracy : 0.92624, Testing Accuracy : 0.8547\n"
          ]
        },
        {
          "output_type": "stream",
          "name": "stderr",
          "text": [
            "\r 15%|█▍        | 44/300 [37:25<3:34:11, 50.20s/it]"
          ]
        },
        {
          "output_type": "stream",
          "name": "stdout",
          "text": [
            "Training Loss : 0.20149297178268433, Testing Loss : 0.4952106227397919, Training Accuracy : 0.929, Testing Accuracy : 0.8534\n"
          ]
        },
        {
          "output_type": "stream",
          "name": "stderr",
          "text": [
            "\r 15%|█▌        | 45/300 [38:15<3:33:24, 50.22s/it]"
          ]
        },
        {
          "output_type": "stream",
          "name": "stdout",
          "text": [
            "Training Loss : 0.1874660747528076, Testing Loss : 0.5145988912701607, Training Accuracy : 0.93466, Testing Accuracy : 0.8498\n"
          ]
        },
        {
          "output_type": "stream",
          "name": "stderr",
          "text": [
            "\r 15%|█▌        | 46/300 [39:06<3:32:41, 50.24s/it]"
          ]
        },
        {
          "output_type": "stream",
          "name": "stdout",
          "text": [
            "Training Loss : 0.18702150880813598, Testing Loss : 0.48977670736312867, Training Accuracy : 0.93498, Testing Accuracy : 0.8598\n"
          ]
        },
        {
          "output_type": "stream",
          "name": "stderr",
          "text": [
            "\r 16%|█▌        | 47/300 [39:57<3:32:33, 50.41s/it]"
          ]
        },
        {
          "output_type": "stream",
          "name": "stdout",
          "text": [
            "Training Loss : 0.1756519944000244, Testing Loss : 0.5081418817758561, Training Accuracy : 0.9384, Testing Accuracy : 0.8542\n"
          ]
        },
        {
          "output_type": "stream",
          "name": "stderr",
          "text": [
            "\r 16%|█▌        | 48/300 [40:47<3:32:01, 50.48s/it]"
          ]
        },
        {
          "output_type": "stream",
          "name": "stdout",
          "text": [
            "Training Loss : 0.17518449808120728, Testing Loss : 0.4875015179634094, Training Accuracy : 0.93844, Testing Accuracy : 0.8612\n"
          ]
        },
        {
          "output_type": "stream",
          "name": "stderr",
          "text": [
            "\r 16%|█▋        | 49/300 [41:38<3:31:34, 50.58s/it]"
          ]
        },
        {
          "output_type": "stream",
          "name": "stdout",
          "text": [
            "Training Loss : 0.1647834421825409, Testing Loss : 0.5007857887268067, Training Accuracy : 0.9421, Testing Accuracy : 0.8646\n"
          ]
        },
        {
          "output_type": "stream",
          "name": "stderr",
          "text": [
            "\r 17%|█▋        | 50/300 [42:29<3:30:57, 50.63s/it]"
          ]
        },
        {
          "output_type": "stream",
          "name": "stdout",
          "text": [
            "Training Loss : 0.15192322627067567, Testing Loss : 0.5059191832661629, Training Accuracy : 0.94638, Testing Accuracy : 0.8671\n"
          ]
        },
        {
          "output_type": "stream",
          "name": "stderr",
          "text": [
            "\r 17%|█▋        | 51/300 [43:20<3:30:14, 50.66s/it]"
          ]
        },
        {
          "output_type": "stream",
          "name": "stdout",
          "text": [
            "Training Loss : 0.1614290971660614, Testing Loss : 0.5134654028892517, Training Accuracy : 0.94334, Testing Accuracy : 0.8573\n"
          ]
        },
        {
          "output_type": "stream",
          "name": "stderr",
          "text": [
            "\r 17%|█▋        | 52/300 [44:10<3:29:17, 50.64s/it]"
          ]
        },
        {
          "output_type": "stream",
          "name": "stdout",
          "text": [
            "Training Loss : 0.1509107339000702, Testing Loss : 0.5408123473882676, Training Accuracy : 0.94678, Testing Accuracy : 0.863\n"
          ]
        },
        {
          "output_type": "stream",
          "name": "stderr",
          "text": [
            "\r 18%|█▊        | 53/300 [45:01<3:28:15, 50.59s/it]"
          ]
        },
        {
          "output_type": "stream",
          "name": "stdout",
          "text": [
            "Training Loss : 0.15110589974403382, Testing Loss : 0.502655261874199, Training Accuracy : 0.94666, Testing Accuracy : 0.864\n"
          ]
        },
        {
          "output_type": "stream",
          "name": "stderr",
          "text": [
            "\r 18%|█▊        | 54/300 [45:50<3:26:18, 50.32s/it]"
          ]
        },
        {
          "output_type": "stream",
          "name": "stdout",
          "text": [
            "Training Loss : 0.1424460652732849, Testing Loss : 0.5382415053844452, Training Accuracy : 0.94972, Testing Accuracy : 0.861\n"
          ]
        },
        {
          "output_type": "stream",
          "name": "stderr",
          "text": [
            "\r 18%|█▊        | 55/300 [46:40<3:25:14, 50.26s/it]"
          ]
        },
        {
          "output_type": "stream",
          "name": "stdout",
          "text": [
            "Training Loss : 0.14903035126686096, Testing Loss : 0.5125958861827851, Training Accuracy : 0.94682, Testing Accuracy : 0.8617\n"
          ]
        },
        {
          "output_type": "stream",
          "name": "stderr",
          "text": [
            "\r 19%|█▊        | 56/300 [47:31<3:24:24, 50.27s/it]"
          ]
        },
        {
          "output_type": "stream",
          "name": "stdout",
          "text": [
            "Training Loss : 0.1354026707792282, Testing Loss : 0.5375495686769486, Training Accuracy : 0.95222, Testing Accuracy : 0.8659\n"
          ]
        },
        {
          "output_type": "stream",
          "name": "stderr",
          "text": [
            "\r 19%|█▉        | 57/300 [48:21<3:23:34, 50.26s/it]"
          ]
        },
        {
          "output_type": "stream",
          "name": "stdout",
          "text": [
            "Training Loss : 0.1299040067768097, Testing Loss : 0.5072418677806855, Training Accuracy : 0.95486, Testing Accuracy : 0.864\n"
          ]
        },
        {
          "output_type": "stream",
          "name": "stderr",
          "text": [
            "\r 19%|█▉        | 58/300 [49:11<3:22:50, 50.29s/it]"
          ]
        },
        {
          "output_type": "stream",
          "name": "stdout",
          "text": [
            "Training Loss : 0.123052864985466, Testing Loss : 0.5406538709163666, Training Accuracy : 0.95708, Testing Accuracy : 0.8653\n"
          ]
        },
        {
          "output_type": "stream",
          "name": "stderr",
          "text": [
            "\r 20%|█▉        | 59/300 [50:02<3:22:12, 50.34s/it]"
          ]
        },
        {
          "output_type": "stream",
          "name": "stdout",
          "text": [
            "Training Loss : 0.12305952748775482, Testing Loss : 0.5219962482571602, Training Accuracy : 0.9569, Testing Accuracy : 0.8627\n"
          ]
        },
        {
          "output_type": "stream",
          "name": "stderr",
          "text": [
            "\r 20%|██        | 60/300 [50:53<3:21:53, 50.47s/it]"
          ]
        },
        {
          "output_type": "stream",
          "name": "stdout",
          "text": [
            "Training Loss : 0.12544296966552734, Testing Loss : 0.5286253190994262, Training Accuracy : 0.95576, Testing Accuracy : 0.8656\n"
          ]
        },
        {
          "output_type": "stream",
          "name": "stderr",
          "text": [
            "\r 20%|██        | 61/300 [51:44<3:21:39, 50.63s/it]"
          ]
        },
        {
          "output_type": "stream",
          "name": "stdout",
          "text": [
            "Training Loss : 0.11940653246879578, Testing Loss : 0.5317654414653779, Training Accuracy : 0.95724, Testing Accuracy : 0.8695\n"
          ]
        },
        {
          "output_type": "stream",
          "name": "stderr",
          "text": [
            "\r 21%|██        | 62/300 [52:34<3:20:46, 50.61s/it]"
          ]
        },
        {
          "output_type": "stream",
          "name": "stdout",
          "text": [
            "Training Loss : 0.11534750086784362, Testing Loss : 0.5493746733784676, Training Accuracy : 0.9595, Testing Accuracy : 0.867\n"
          ]
        },
        {
          "output_type": "stream",
          "name": "stderr",
          "text": [
            "\r 21%|██        | 63/300 [53:25<3:20:03, 50.65s/it]"
          ]
        },
        {
          "output_type": "stream",
          "name": "stdout",
          "text": [
            "Training Loss : 0.12268669157028199, Testing Loss : 0.5562727218151092, Training Accuracy : 0.95588, Testing Accuracy : 0.8672\n"
          ]
        },
        {
          "output_type": "stream",
          "name": "stderr",
          "text": [
            "\r 21%|██▏       | 64/300 [54:16<3:19:25, 50.70s/it]"
          ]
        },
        {
          "output_type": "stream",
          "name": "stdout",
          "text": [
            "Training Loss : 0.11739386603832244, Testing Loss : 0.5565817085266114, Training Accuracy : 0.95834, Testing Accuracy : 0.864\n"
          ]
        },
        {
          "output_type": "stream",
          "name": "stderr",
          "text": [
            "\r 22%|██▏       | 65/300 [55:07<3:19:05, 50.83s/it]"
          ]
        },
        {
          "output_type": "stream",
          "name": "stdout",
          "text": [
            "Training Loss : 0.10797650592803955, Testing Loss : 0.5640563380241395, Training Accuracy : 0.9615, Testing Accuracy : 0.8725\n"
          ]
        },
        {
          "output_type": "stream",
          "name": "stderr",
          "text": [
            "\r 22%|██▏       | 66/300 [55:57<3:17:52, 50.74s/it]"
          ]
        },
        {
          "output_type": "stream",
          "name": "stdout",
          "text": [
            "Training Loss : 0.09623980707406998, Testing Loss : 0.581335001373291, Training Accuracy : 0.9665, Testing Accuracy : 0.8705\n"
          ]
        },
        {
          "output_type": "stream",
          "name": "stderr",
          "text": [
            "\r 22%|██▏       | 67/300 [56:47<3:16:05, 50.50s/it]"
          ]
        },
        {
          "output_type": "stream",
          "name": "stdout",
          "text": [
            "Training Loss : 0.10001784599542618, Testing Loss : 0.5597860471725464, Training Accuracy : 0.96398, Testing Accuracy : 0.8714\n"
          ]
        },
        {
          "output_type": "stream",
          "name": "stderr",
          "text": [
            "\r 23%|██▎       | 68/300 [57:38<3:15:07, 50.46s/it]"
          ]
        },
        {
          "output_type": "stream",
          "name": "stdout",
          "text": [
            "Training Loss : 0.09804072681903839, Testing Loss : 0.5887591630458832, Training Accuracy : 0.96564, Testing Accuracy : 0.8717\n"
          ]
        },
        {
          "output_type": "stream",
          "name": "stderr",
          "text": [
            "\r 23%|██▎       | 69/300 [58:28<3:14:02, 50.40s/it]"
          ]
        },
        {
          "output_type": "stream",
          "name": "stdout",
          "text": [
            "Training Loss : 0.10021872043132782, Testing Loss : 0.5371817745685578, Training Accuracy : 0.96488, Testing Accuracy : 0.8705\n"
          ]
        },
        {
          "output_type": "stream",
          "name": "stderr",
          "text": [
            "\r 23%|██▎       | 70/300 [59:18<3:12:53, 50.32s/it]"
          ]
        },
        {
          "output_type": "stream",
          "name": "stdout",
          "text": [
            "Training Loss : 0.0933940765953064, Testing Loss : 0.5559626825332642, Training Accuracy : 0.96692, Testing Accuracy : 0.8701\n"
          ]
        },
        {
          "output_type": "stream",
          "name": "stderr",
          "text": [
            "\r 24%|██▎       | 71/300 [1:00:08<3:11:53, 50.28s/it]"
          ]
        },
        {
          "output_type": "stream",
          "name": "stdout",
          "text": [
            "Training Loss : 0.08848387644290924, Testing Loss : 0.5610496933460236, Training Accuracy : 0.96902, Testing Accuracy : 0.8747\n"
          ]
        },
        {
          "output_type": "stream",
          "name": "stderr",
          "text": [
            "\r 24%|██▍       | 72/300 [1:00:58<3:10:40, 50.18s/it]"
          ]
        },
        {
          "output_type": "stream",
          "name": "stdout",
          "text": [
            "Training Loss : 0.09038782977581024, Testing Loss : 0.548434619140625, Training Accuracy : 0.96802, Testing Accuracy : 0.8733\n"
          ]
        },
        {
          "output_type": "stream",
          "name": "stderr",
          "text": [
            "\r 24%|██▍       | 73/300 [1:01:49<3:10:05, 50.24s/it]"
          ]
        },
        {
          "output_type": "stream",
          "name": "stdout",
          "text": [
            "Training Loss : 0.08742150916576386, Testing Loss : 0.5569589295864105, Training Accuracy : 0.96896, Testing Accuracy : 0.8735\n"
          ]
        },
        {
          "output_type": "stream",
          "name": "stderr",
          "text": [
            "\r 25%|██▍       | 74/300 [1:02:39<3:09:56, 50.43s/it]"
          ]
        },
        {
          "output_type": "stream",
          "name": "stdout",
          "text": [
            "Training Loss : 0.08520711573123932, Testing Loss : 0.5764333723068237, Training Accuracy : 0.969, Testing Accuracy : 0.8756\n"
          ]
        },
        {
          "output_type": "stream",
          "name": "stderr",
          "text": [
            "\r 25%|██▌       | 75/300 [1:03:30<3:09:22, 50.50s/it]"
          ]
        },
        {
          "output_type": "stream",
          "name": "stdout",
          "text": [
            "Training Loss : 0.08718063261508942, Testing Loss : 0.5357730390071869, Training Accuracy : 0.9685, Testing Accuracy : 0.8772\n"
          ]
        },
        {
          "output_type": "stream",
          "name": "stderr",
          "text": [
            "\r 25%|██▌       | 76/300 [1:04:21<3:08:51, 50.59s/it]"
          ]
        },
        {
          "output_type": "stream",
          "name": "stdout",
          "text": [
            "Training Loss : 0.07402051161527634, Testing Loss : 0.5692950594425201, Training Accuracy : 0.97336, Testing Accuracy : 0.8768\n"
          ]
        },
        {
          "output_type": "stream",
          "name": "stderr",
          "text": [
            "\r 26%|██▌       | 77/300 [1:05:12<3:08:19, 50.67s/it]"
          ]
        },
        {
          "output_type": "stream",
          "name": "stdout",
          "text": [
            "Training Loss : 0.0813014866566658, Testing Loss : 0.5482610456943512, Training Accuracy : 0.97154, Testing Accuracy : 0.8764\n"
          ]
        },
        {
          "output_type": "stream",
          "name": "stderr",
          "text": [
            "\r 26%|██▌       | 78/300 [1:06:02<3:07:35, 50.70s/it]"
          ]
        },
        {
          "output_type": "stream",
          "name": "stdout",
          "text": [
            "Training Loss : 0.07592426122665405, Testing Loss : 0.582771567440033, Training Accuracy : 0.97304, Testing Accuracy : 0.8717\n"
          ]
        },
        {
          "output_type": "stream",
          "name": "stderr",
          "text": [
            "\r 26%|██▋       | 79/300 [1:06:53<3:06:54, 50.74s/it]"
          ]
        },
        {
          "output_type": "stream",
          "name": "stdout",
          "text": [
            "Training Loss : 0.07549251779317856, Testing Loss : 0.5756831137657166, Training Accuracy : 0.97336, Testing Accuracy : 0.8771\n"
          ]
        },
        {
          "output_type": "stream",
          "name": "stderr",
          "text": [
            "\r 27%|██▋       | 80/300 [1:07:44<3:06:15, 50.80s/it]"
          ]
        },
        {
          "output_type": "stream",
          "name": "stdout",
          "text": [
            "Training Loss : 0.07629768316268921, Testing Loss : 0.5614856718301773, Training Accuracy : 0.9737, Testing Accuracy : 0.8762\n"
          ]
        },
        {
          "output_type": "stream",
          "name": "stderr",
          "text": [
            "\r 27%|██▋       | 81/300 [1:08:35<3:04:54, 50.66s/it]"
          ]
        },
        {
          "output_type": "stream",
          "name": "stdout",
          "text": [
            "Training Loss : 0.07474256095886231, Testing Loss : 0.5724349199593067, Training Accuracy : 0.97372, Testing Accuracy : 0.8788\n"
          ]
        },
        {
          "output_type": "stream",
          "name": "stderr",
          "text": [
            "\r 27%|██▋       | 82/300 [1:09:25<3:03:50, 50.60s/it]"
          ]
        },
        {
          "output_type": "stream",
          "name": "stdout",
          "text": [
            "Training Loss : 0.06729017317056656, Testing Loss : 0.5620022311210632, Training Accuracy : 0.97664, Testing Accuracy : 0.8782\n"
          ]
        },
        {
          "output_type": "stream",
          "name": "stderr",
          "text": [
            "\r 28%|██▊       | 83/300 [1:10:15<3:02:08, 50.36s/it]"
          ]
        },
        {
          "output_type": "stream",
          "name": "stdout",
          "text": [
            "Training Loss : 0.06492812232017517, Testing Loss : 0.5829741599559783, Training Accuracy : 0.97716, Testing Accuracy : 0.8824\n"
          ]
        },
        {
          "output_type": "stream",
          "name": "stderr",
          "text": [
            "\r 28%|██▊       | 84/300 [1:11:05<3:01:23, 50.39s/it]"
          ]
        },
        {
          "output_type": "stream",
          "name": "stdout",
          "text": [
            "Training Loss : 0.07529858441352844, Testing Loss : 0.5749461553096771, Training Accuracy : 0.97418, Testing Accuracy : 0.8746\n"
          ]
        },
        {
          "output_type": "stream",
          "name": "stderr",
          "text": [
            "\r 28%|██▊       | 85/300 [1:11:56<3:00:32, 50.38s/it]"
          ]
        },
        {
          "output_type": "stream",
          "name": "stdout",
          "text": [
            "Training Loss : 0.06917279324293137, Testing Loss : 0.5659271295070648, Training Accuracy : 0.97596, Testing Accuracy : 0.8776\n"
          ]
        },
        {
          "output_type": "stream",
          "name": "stderr",
          "text": [
            "\r 29%|██▊       | 86/300 [1:12:46<2:59:28, 50.32s/it]"
          ]
        },
        {
          "output_type": "stream",
          "name": "stdout",
          "text": [
            "Training Loss : 0.0637290560889244, Testing Loss : 0.6108410287857056, Training Accuracy : 0.97802, Testing Accuracy : 0.8719\n"
          ]
        },
        {
          "output_type": "stream",
          "name": "stderr",
          "text": [
            "\r 29%|██▉       | 87/300 [1:13:36<2:58:19, 50.23s/it]"
          ]
        },
        {
          "output_type": "stream",
          "name": "stdout",
          "text": [
            "Training Loss : 0.06488212545871734, Testing Loss : 0.5884144909307361, Training Accuracy : 0.97776, Testing Accuracy : 0.8737\n"
          ]
        },
        {
          "output_type": "stream",
          "name": "stderr",
          "text": [
            "\r 29%|██▉       | 88/300 [1:14:26<2:57:21, 50.20s/it]"
          ]
        },
        {
          "output_type": "stream",
          "name": "stdout",
          "text": [
            "Training Loss : 0.06359002823710441, Testing Loss : 0.5769033322364092, Training Accuracy : 0.97706, Testing Accuracy : 0.881\n"
          ]
        },
        {
          "output_type": "stream",
          "name": "stderr",
          "text": [
            "\r 30%|██▉       | 89/300 [1:15:17<2:57:04, 50.35s/it]"
          ]
        },
        {
          "output_type": "stream",
          "name": "stdout",
          "text": [
            "Training Loss : 0.06000076622247696, Testing Loss : 0.5617891439914703, Training Accuracy : 0.97888, Testing Accuracy : 0.8845\n"
          ]
        },
        {
          "output_type": "stream",
          "name": "stderr",
          "text": [
            "\r 30%|███       | 90/300 [1:16:07<2:56:30, 50.43s/it]"
          ]
        },
        {
          "output_type": "stream",
          "name": "stdout",
          "text": [
            "Training Loss : 0.058561078114509585, Testing Loss : 0.5760024105548859, Training Accuracy : 0.97884, Testing Accuracy : 0.8766\n"
          ]
        },
        {
          "output_type": "stream",
          "name": "stderr",
          "text": [
            "\r 30%|███       | 91/300 [1:16:58<2:55:50, 50.48s/it]"
          ]
        },
        {
          "output_type": "stream",
          "name": "stdout",
          "text": [
            "Training Loss : 0.06195082460999489, Testing Loss : 0.6081012191772461, Training Accuracy : 0.9794, Testing Accuracy : 0.8792\n"
          ]
        },
        {
          "output_type": "stream",
          "name": "stderr",
          "text": [
            "\r 31%|███       | 92/300 [1:17:49<2:55:42, 50.68s/it]"
          ]
        },
        {
          "output_type": "stream",
          "name": "stdout",
          "text": [
            "Training Loss : 0.0625661758697033, Testing Loss : 0.6041311296582222, Training Accuracy : 0.97788, Testing Accuracy : 0.8774\n"
          ]
        },
        {
          "output_type": "stream",
          "name": "stderr",
          "text": [
            "\r 31%|███       | 93/300 [1:18:40<2:54:43, 50.65s/it]"
          ]
        },
        {
          "output_type": "stream",
          "name": "stdout",
          "text": [
            "Training Loss : 0.05998767369747162, Testing Loss : 0.5954461766242981, Training Accuracy : 0.97994, Testing Accuracy : 0.8793\n"
          ]
        },
        {
          "output_type": "stream",
          "name": "stderr",
          "text": [
            "\r 31%|███▏      | 94/300 [1:19:30<2:54:00, 50.68s/it]"
          ]
        },
        {
          "output_type": "stream",
          "name": "stdout",
          "text": [
            "Training Loss : 0.05506057689547539, Testing Loss : 0.5667503011226654, Training Accuracy : 0.98052, Testing Accuracy : 0.8865\n"
          ]
        },
        {
          "output_type": "stream",
          "name": "stderr",
          "text": [
            "\r 32%|███▏      | 95/300 [1:20:22<2:53:36, 50.81s/it]"
          ]
        },
        {
          "output_type": "stream",
          "name": "stdout",
          "text": [
            "Training Loss : 0.05546341473698616, Testing Loss : 0.5873045706748963, Training Accuracy : 0.98082, Testing Accuracy : 0.8802\n"
          ]
        },
        {
          "output_type": "stream",
          "name": "stderr",
          "text": [
            "\r 32%|███▏      | 96/300 [1:21:12<2:52:29, 50.73s/it]"
          ]
        },
        {
          "output_type": "stream",
          "name": "stdout",
          "text": [
            "Training Loss : 0.052415059620141986, Testing Loss : 0.6032609618663788, Training Accuracy : 0.98164, Testing Accuracy : 0.8804\n"
          ]
        },
        {
          "output_type": "stream",
          "name": "stderr",
          "text": [
            "\r 32%|███▏      | 97/300 [1:22:03<2:51:25, 50.67s/it]"
          ]
        },
        {
          "output_type": "stream",
          "name": "stdout",
          "text": [
            "Training Loss : 0.04958389437675476, Testing Loss : 0.6128896927833557, Training Accuracy : 0.9822, Testing Accuracy : 0.8757\n"
          ]
        },
        {
          "output_type": "stream",
          "name": "stderr",
          "text": [
            "\r 33%|███▎      | 98/300 [1:22:53<2:50:18, 50.59s/it]"
          ]
        },
        {
          "output_type": "stream",
          "name": "stdout",
          "text": [
            "Training Loss : 0.0512255098426342, Testing Loss : 0.6507545437812805, Training Accuracy : 0.9819, Testing Accuracy : 0.879\n"
          ]
        },
        {
          "output_type": "stream",
          "name": "stderr",
          "text": [
            "\r 33%|███▎      | 99/300 [1:23:43<2:49:13, 50.51s/it]"
          ]
        },
        {
          "output_type": "stream",
          "name": "stdout",
          "text": [
            "Training Loss : 0.04946521449804306, Testing Loss : 0.6517802816390991, Training Accuracy : 0.98274, Testing Accuracy : 0.8811\n"
          ]
        },
        {
          "output_type": "stream",
          "name": "stderr",
          "text": [
            "\r 33%|███▎      | 100/300 [1:24:34<2:48:28, 50.54s/it]"
          ]
        },
        {
          "output_type": "stream",
          "name": "stdout",
          "text": [
            "Training Loss : 0.048657758920192716, Testing Loss : 0.6324366926670074, Training Accuracy : 0.98282, Testing Accuracy : 0.8838\n"
          ]
        },
        {
          "output_type": "stream",
          "name": "stderr",
          "text": [
            "\r 34%|███▎      | 101/300 [1:25:24<2:47:18, 50.45s/it]"
          ]
        },
        {
          "output_type": "stream",
          "name": "stdout",
          "text": [
            "Training Loss : 0.05413148109912872, Testing Loss : 0.6033781976461411, Training Accuracy : 0.98136, Testing Accuracy : 0.8803\n"
          ]
        },
        {
          "output_type": "stream",
          "name": "stderr",
          "text": [
            "\r 34%|███▍      | 102/300 [1:26:14<2:46:14, 50.38s/it]"
          ]
        },
        {
          "output_type": "stream",
          "name": "stdout",
          "text": [
            "Training Loss : 0.04958187876582146, Testing Loss : 0.6471959753990173, Training Accuracy : 0.98196, Testing Accuracy : 0.8833\n"
          ]
        },
        {
          "output_type": "stream",
          "name": "stderr",
          "text": [
            "\r 34%|███▍      | 103/300 [1:27:05<2:45:20, 50.36s/it]"
          ]
        },
        {
          "output_type": "stream",
          "name": "stdout",
          "text": [
            "Training Loss : 0.04618874662458897, Testing Loss : 0.5995940048217774, Training Accuracy : 0.98422, Testing Accuracy : 0.8856\n"
          ]
        },
        {
          "output_type": "stream",
          "name": "stderr",
          "text": [
            "\r 35%|███▍      | 104/300 [1:27:55<2:44:41, 50.41s/it]"
          ]
        },
        {
          "output_type": "stream",
          "name": "stdout",
          "text": [
            "Training Loss : 0.04736058033943176, Testing Loss : 0.6355292096138, Training Accuracy : 0.98228, Testing Accuracy : 0.881\n"
          ]
        },
        {
          "output_type": "stream",
          "name": "stderr",
          "text": [
            "\r 35%|███▌      | 105/300 [1:28:46<2:44:22, 50.58s/it]"
          ]
        },
        {
          "output_type": "stream",
          "name": "stdout",
          "text": [
            "Training Loss : 0.04387015375316143, Testing Loss : 0.6181062396049499, Training Accuracy : 0.98494, Testing Accuracy : 0.8855\n"
          ]
        },
        {
          "output_type": "stream",
          "name": "stderr",
          "text": [
            "\r 35%|███▌      | 106/300 [1:29:37<2:43:34, 50.59s/it]"
          ]
        },
        {
          "output_type": "stream",
          "name": "stdout",
          "text": [
            "Training Loss : 0.04656225181460381, Testing Loss : 0.6525047996759414, Training Accuracy : 0.9834, Testing Accuracy : 0.8798\n"
          ]
        },
        {
          "output_type": "stream",
          "name": "stderr",
          "text": [
            "\r 36%|███▌      | 107/300 [1:30:27<2:42:45, 50.60s/it]"
          ]
        },
        {
          "output_type": "stream",
          "name": "stdout",
          "text": [
            "Training Loss : 0.04644400257885456, Testing Loss : 0.6459421191215515, Training Accuracy : 0.9842, Testing Accuracy : 0.8803\n"
          ]
        },
        {
          "output_type": "stream",
          "name": "stderr",
          "text": [
            "\r 36%|███▌      | 108/300 [1:31:18<2:42:02, 50.64s/it]"
          ]
        },
        {
          "output_type": "stream",
          "name": "stdout",
          "text": [
            "Training Loss : 0.04495429239869118, Testing Loss : 0.6364593900203704, Training Accuracy : 0.98496, Testing Accuracy : 0.8796\n"
          ]
        },
        {
          "output_type": "stream",
          "name": "stderr",
          "text": [
            "\r 36%|███▋      | 109/300 [1:32:09<2:41:25, 50.71s/it]"
          ]
        },
        {
          "output_type": "stream",
          "name": "stdout",
          "text": [
            "Training Loss : 0.04425027590036392, Testing Loss : 0.5945832233428955, Training Accuracy : 0.98438, Testing Accuracy : 0.8854\n"
          ]
        },
        {
          "output_type": "stream",
          "name": "stderr",
          "text": [
            "\r 37%|███▋      | 110/300 [1:33:00<2:40:42, 50.75s/it]"
          ]
        },
        {
          "output_type": "stream",
          "name": "stdout",
          "text": [
            "Training Loss : 0.037504522157907484, Testing Loss : 0.6262766248703003, Training Accuracy : 0.98664, Testing Accuracy : 0.8867\n"
          ]
        },
        {
          "output_type": "stream",
          "name": "stderr",
          "text": [
            "\r 37%|███▋      | 111/300 [1:33:51<2:39:52, 50.75s/it]"
          ]
        },
        {
          "output_type": "stream",
          "name": "stdout",
          "text": [
            "Training Loss : 0.03700010726749897, Testing Loss : 0.6404787611007691, Training Accuracy : 0.9872, Testing Accuracy : 0.8853\n"
          ]
        },
        {
          "output_type": "stream",
          "name": "stderr",
          "text": [
            "\r 37%|███▋      | 112/300 [1:34:41<2:38:58, 50.74s/it]"
          ]
        },
        {
          "output_type": "stream",
          "name": "stdout",
          "text": [
            "Training Loss : 0.042221009444594386, Testing Loss : 0.6423442483901978, Training Accuracy : 0.98526, Testing Accuracy : 0.8866\n"
          ]
        },
        {
          "output_type": "stream",
          "name": "stderr",
          "text": [
            "\r 38%|███▊      | 113/300 [1:35:32<2:38:07, 50.74s/it]"
          ]
        },
        {
          "output_type": "stream",
          "name": "stdout",
          "text": [
            "Training Loss : 0.043882696566581725, Testing Loss : 0.6721553740501404, Training Accuracy : 0.98508, Testing Accuracy : 0.8783\n"
          ]
        },
        {
          "output_type": "stream",
          "name": "stderr",
          "text": [
            "\r 38%|███▊      | 114/300 [1:36:23<2:37:10, 50.70s/it]"
          ]
        },
        {
          "output_type": "stream",
          "name": "stdout",
          "text": [
            "Training Loss : 0.04315584982156753, Testing Loss : 0.6256549303054809, Training Accuracy : 0.98504, Testing Accuracy : 0.8826\n"
          ]
        },
        {
          "output_type": "stream",
          "name": "stderr",
          "text": [
            "\r 38%|███▊      | 115/300 [1:37:12<2:35:24, 50.40s/it]"
          ]
        },
        {
          "output_type": "stream",
          "name": "stdout",
          "text": [
            "Training Loss : 0.040865358310937884, Testing Loss : 0.6592369837760925, Training Accuracy : 0.9858, Testing Accuracy : 0.8822\n"
          ]
        },
        {
          "output_type": "stream",
          "name": "stderr",
          "text": [
            "\r 39%|███▊      | 116/300 [1:38:03<2:34:25, 50.35s/it]"
          ]
        },
        {
          "output_type": "stream",
          "name": "stdout",
          "text": [
            "Training Loss : 0.03721206472814083, Testing Loss : 0.6277361439704895, Training Accuracy : 0.98734, Testing Accuracy : 0.8835\n"
          ]
        },
        {
          "output_type": "stream",
          "name": "stderr",
          "text": [
            "\r 39%|███▉      | 117/300 [1:38:53<2:33:45, 50.42s/it]"
          ]
        },
        {
          "output_type": "stream",
          "name": "stdout",
          "text": [
            "Training Loss : 0.03624783056288958, Testing Loss : 0.6146328484535217, Training Accuracy : 0.98748, Testing Accuracy : 0.8869\n"
          ]
        },
        {
          "output_type": "stream",
          "name": "stderr",
          "text": [
            "\r 39%|███▉      | 118/300 [1:39:44<2:33:16, 50.53s/it]"
          ]
        },
        {
          "output_type": "stream",
          "name": "stdout",
          "text": [
            "Training Loss : 0.036178605889976026, Testing Loss : 0.6154830747246742, Training Accuracy : 0.98788, Testing Accuracy : 0.8855\n"
          ]
        },
        {
          "output_type": "stream",
          "name": "stderr",
          "text": [
            "\r 40%|███▉      | 119/300 [1:40:35<2:32:26, 50.53s/it]"
          ]
        },
        {
          "output_type": "stream",
          "name": "stdout",
          "text": [
            "Training Loss : 0.035617525699436665, Testing Loss : 0.6841199934959412, Training Accuracy : 0.98844, Testing Accuracy : 0.8791\n"
          ]
        },
        {
          "output_type": "stream",
          "name": "stderr",
          "text": [
            "\r 40%|████      | 120/300 [1:41:25<2:31:27, 50.49s/it]"
          ]
        },
        {
          "output_type": "stream",
          "name": "stdout",
          "text": [
            "Training Loss : 0.03496115669608116, Testing Loss : 0.6675833118438721, Training Accuracy : 0.98848, Testing Accuracy : 0.8806\n"
          ]
        },
        {
          "output_type": "stream",
          "name": "stderr",
          "text": [
            "\r 40%|████      | 121/300 [1:42:15<2:30:23, 50.41s/it]"
          ]
        },
        {
          "output_type": "stream",
          "name": "stdout",
          "text": [
            "Training Loss : 0.03739699281305075, Testing Loss : 0.659401105594635, Training Accuracy : 0.98762, Testing Accuracy : 0.8827\n"
          ]
        },
        {
          "output_type": "stream",
          "name": "stderr",
          "text": [
            "\r 41%|████      | 122/300 [1:43:06<2:29:51, 50.52s/it]"
          ]
        },
        {
          "output_type": "stream",
          "name": "stdout",
          "text": [
            "Training Loss : 0.03177539518147707, Testing Loss : 0.6374552897453308, Training Accuracy : 0.98888, Testing Accuracy : 0.8861\n"
          ]
        },
        {
          "output_type": "stream",
          "name": "stderr",
          "text": [
            "\r 41%|████      | 123/300 [1:43:57<2:29:17, 50.61s/it]"
          ]
        },
        {
          "output_type": "stream",
          "name": "stdout",
          "text": [
            "Training Loss : 0.031132422499656677, Testing Loss : 0.6537699572563171, Training Accuracy : 0.98958, Testing Accuracy : 0.8862\n"
          ]
        },
        {
          "output_type": "stream",
          "name": "stderr",
          "text": [
            "\r 41%|████▏     | 124/300 [1:44:48<2:28:58, 50.78s/it]"
          ]
        },
        {
          "output_type": "stream",
          "name": "stdout",
          "text": [
            "Training Loss : 0.03041423185825348, Testing Loss : 0.6939976770401001, Training Accuracy : 0.98924, Testing Accuracy : 0.885\n"
          ]
        },
        {
          "output_type": "stream",
          "name": "stderr",
          "text": [
            "\r 42%|████▏     | 125/300 [1:45:39<2:28:18, 50.85s/it]"
          ]
        },
        {
          "output_type": "stream",
          "name": "stdout",
          "text": [
            "Training Loss : 0.03102758801341057, Testing Loss : 0.680868739938736, Training Accuracy : 0.98898, Testing Accuracy : 0.8879\n"
          ]
        },
        {
          "output_type": "stream",
          "name": "stderr",
          "text": [
            "\r 42%|████▏     | 126/300 [1:46:30<2:27:41, 50.93s/it]"
          ]
        },
        {
          "output_type": "stream",
          "name": "stdout",
          "text": [
            "Training Loss : 0.029260787582919, Testing Loss : 0.6545189796328544, Training Accuracy : 0.9899, Testing Accuracy : 0.8868\n"
          ]
        },
        {
          "output_type": "stream",
          "name": "stderr",
          "text": [
            "\r 42%|████▏     | 127/300 [1:47:21<2:27:05, 51.01s/it]"
          ]
        },
        {
          "output_type": "stream",
          "name": "stdout",
          "text": [
            "Training Loss : 0.027937346759438514, Testing Loss : 0.6815939101815224, Training Accuracy : 0.99058, Testing Accuracy : 0.8898\n"
          ]
        },
        {
          "output_type": "stream",
          "name": "stderr",
          "text": [
            "\r 43%|████▎     | 128/300 [1:48:12<2:26:08, 50.98s/it]"
          ]
        },
        {
          "output_type": "stream",
          "name": "stdout",
          "text": [
            "Training Loss : 0.02808529759436846, Testing Loss : 0.6505299057483673, Training Accuracy : 0.99008, Testing Accuracy : 0.8881\n"
          ]
        },
        {
          "output_type": "stream",
          "name": "stderr",
          "text": [
            "\r 43%|████▎     | 129/300 [1:49:03<2:24:54, 50.84s/it]"
          ]
        },
        {
          "output_type": "stream",
          "name": "stdout",
          "text": [
            "Training Loss : 0.025972129683494567, Testing Loss : 0.639175733691454, Training Accuracy : 0.99118, Testing Accuracy : 0.891\n"
          ]
        },
        {
          "output_type": "stream",
          "name": "stderr",
          "text": [
            "\r 43%|████▎     | 130/300 [1:49:53<2:23:36, 50.69s/it]"
          ]
        },
        {
          "output_type": "stream",
          "name": "stdout",
          "text": [
            "Training Loss : 0.026400906725525856, Testing Loss : 0.6511851387500763, Training Accuracy : 0.99036, Testing Accuracy : 0.8914\n"
          ]
        },
        {
          "output_type": "stream",
          "name": "stderr",
          "text": [
            "\r 44%|████▎     | 131/300 [1:50:43<2:22:27, 50.57s/it]"
          ]
        },
        {
          "output_type": "stream",
          "name": "stdout",
          "text": [
            "Training Loss : 0.022885717538148165, Testing Loss : 0.6349695517063141, Training Accuracy : 0.99264, Testing Accuracy : 0.8956\n"
          ]
        },
        {
          "output_type": "stream",
          "name": "stderr",
          "text": [
            "\r 44%|████▍     | 132/300 [1:51:34<2:21:22, 50.49s/it]"
          ]
        },
        {
          "output_type": "stream",
          "name": "stdout",
          "text": [
            "Training Loss : 0.025500244659930466, Testing Loss : 0.6725020387470723, Training Accuracy : 0.99106, Testing Accuracy : 0.8892\n"
          ]
        },
        {
          "output_type": "stream",
          "name": "stderr",
          "text": [
            "\r 44%|████▍     | 133/300 [1:52:24<2:20:30, 50.48s/it]"
          ]
        },
        {
          "output_type": "stream",
          "name": "stdout",
          "text": [
            "Training Loss : 0.027893756040632725, Testing Loss : 0.7095812375545502, Training Accuracy : 0.9905, Testing Accuracy : 0.8838\n"
          ]
        },
        {
          "output_type": "stream",
          "name": "stderr",
          "text": [
            "\r 45%|████▍     | 134/300 [1:53:14<2:19:30, 50.42s/it]"
          ]
        },
        {
          "output_type": "stream",
          "name": "stdout",
          "text": [
            "Training Loss : 0.027228274478316307, Testing Loss : 0.634157137261331, Training Accuracy : 0.9904, Testing Accuracy : 0.8897\n"
          ]
        },
        {
          "output_type": "stream",
          "name": "stderr",
          "text": [
            "\r 45%|████▌     | 135/300 [1:54:05<2:18:50, 50.49s/it]"
          ]
        },
        {
          "output_type": "stream",
          "name": "stdout",
          "text": [
            "Training Loss : 0.030308986651003362, Testing Loss : 0.653934158372879, Training Accuracy : 0.98966, Testing Accuracy : 0.892\n"
          ]
        },
        {
          "output_type": "stream",
          "name": "stderr",
          "text": [
            "\r 45%|████▌     | 136/300 [1:54:55<2:17:41, 50.37s/it]"
          ]
        },
        {
          "output_type": "stream",
          "name": "stdout",
          "text": [
            "Training Loss : 0.024809992222487927, Testing Loss : 0.6362481813907623, Training Accuracy : 0.99106, Testing Accuracy : 0.8896\n"
          ]
        },
        {
          "output_type": "stream",
          "name": "stderr",
          "text": [
            "\r 46%|████▌     | 137/300 [1:55:45<2:16:44, 50.34s/it]"
          ]
        },
        {
          "output_type": "stream",
          "name": "stdout",
          "text": [
            "Training Loss : 0.022254395698830486, Testing Loss : 0.6826085461616516, Training Accuracy : 0.99242, Testing Accuracy : 0.8882\n"
          ]
        },
        {
          "output_type": "stream",
          "name": "stderr",
          "text": [
            "\r 46%|████▌     | 138/300 [1:56:36<2:16:04, 50.40s/it]"
          ]
        },
        {
          "output_type": "stream",
          "name": "stdout",
          "text": [
            "Training Loss : 0.025402451038211583, Testing Loss : 0.6885506557703018, Training Accuracy : 0.99128, Testing Accuracy : 0.8869\n"
          ]
        },
        {
          "output_type": "stream",
          "name": "stderr",
          "text": [
            "\r 46%|████▋     | 139/300 [1:57:26<2:15:21, 50.44s/it]"
          ]
        },
        {
          "output_type": "stream",
          "name": "stdout",
          "text": [
            "Training Loss : 0.02947509616240859, Testing Loss : 0.6615972246170044, Training Accuracy : 0.99038, Testing Accuracy : 0.8917\n"
          ]
        },
        {
          "output_type": "stream",
          "name": "stderr",
          "text": [
            "\r 47%|████▋     | 140/300 [1:58:17<2:14:40, 50.50s/it]"
          ]
        },
        {
          "output_type": "stream",
          "name": "stdout",
          "text": [
            "Training Loss : 0.026415507250279188, Testing Loss : 0.6386092526435853, Training Accuracy : 0.99128, Testing Accuracy : 0.8921\n"
          ]
        },
        {
          "output_type": "stream",
          "name": "stderr",
          "text": [
            "\r 47%|████▋     | 141/300 [1:59:08<2:14:06, 50.61s/it]"
          ]
        },
        {
          "output_type": "stream",
          "name": "stdout",
          "text": [
            "Training Loss : 0.024208767513334752, Testing Loss : 0.6778791234970093, Training Accuracy : 0.99126, Testing Accuracy : 0.8903\n"
          ]
        },
        {
          "output_type": "stream",
          "name": "stderr",
          "text": [
            "\r 47%|████▋     | 142/300 [1:59:59<2:13:31, 50.70s/it]"
          ]
        },
        {
          "output_type": "stream",
          "name": "stdout",
          "text": [
            "Training Loss : 0.02326321456357837, Testing Loss : 0.6820631877422333, Training Accuracy : 0.99144, Testing Accuracy : 0.8894\n"
          ]
        },
        {
          "output_type": "stream",
          "name": "stderr",
          "text": [
            "\r 48%|████▊     | 143/300 [2:00:50<2:12:46, 50.74s/it]"
          ]
        },
        {
          "output_type": "stream",
          "name": "stdout",
          "text": [
            "Training Loss : 0.023271476458385586, Testing Loss : 0.6661824361801147, Training Accuracy : 0.99134, Testing Accuracy : 0.8898\n"
          ]
        },
        {
          "output_type": "stream",
          "name": "stderr",
          "text": [
            "\r 48%|████▊     | 144/300 [2:01:41<2:12:00, 50.77s/it]"
          ]
        },
        {
          "output_type": "stream",
          "name": "stdout",
          "text": [
            "Training Loss : 0.023765823556035758, Testing Loss : 0.6415060368061065, Training Accuracy : 0.9915, Testing Accuracy : 0.8907\n"
          ]
        },
        {
          "output_type": "stream",
          "name": "stderr",
          "text": [
            "\r 48%|████▊     | 145/300 [2:02:31<2:10:45, 50.62s/it]"
          ]
        },
        {
          "output_type": "stream",
          "name": "stdout",
          "text": [
            "Training Loss : 0.02255005111724138, Testing Loss : 0.6534097477912902, Training Accuracy : 0.99228, Testing Accuracy : 0.8926\n"
          ]
        },
        {
          "output_type": "stream",
          "name": "stderr",
          "text": [
            "\r 49%|████▊     | 146/300 [2:03:21<2:09:19, 50.39s/it]"
          ]
        },
        {
          "output_type": "stream",
          "name": "stdout",
          "text": [
            "Training Loss : 0.022334132117033004, Testing Loss : 0.6628198947906494, Training Accuracy : 0.99234, Testing Accuracy : 0.8894\n"
          ]
        },
        {
          "output_type": "stream",
          "name": "stderr",
          "text": [
            "\r 49%|████▉     | 147/300 [2:04:11<2:08:13, 50.28s/it]"
          ]
        },
        {
          "output_type": "stream",
          "name": "stdout",
          "text": [
            "Training Loss : 0.025406835048496723, Testing Loss : 0.6226226906299591, Training Accuracy : 0.9914, Testing Accuracy : 0.8931\n"
          ]
        },
        {
          "output_type": "stream",
          "name": "stderr",
          "text": [
            "\r 49%|████▉     | 148/300 [2:05:01<2:07:06, 50.17s/it]"
          ]
        },
        {
          "output_type": "stream",
          "name": "stdout",
          "text": [
            "Training Loss : 0.01857137003861368, Testing Loss : 0.6876132871687413, Training Accuracy : 0.99344, Testing Accuracy : 0.8906\n"
          ]
        },
        {
          "output_type": "stream",
          "name": "stderr",
          "text": [
            "\r 50%|████▉     | 149/300 [2:05:50<2:06:01, 50.07s/it]"
          ]
        },
        {
          "output_type": "stream",
          "name": "stdout",
          "text": [
            "Training Loss : 0.0205702114585042, Testing Loss : 0.6596691102981568, Training Accuracy : 0.99284, Testing Accuracy : 0.894\n"
          ]
        },
        {
          "output_type": "stream",
          "name": "stderr",
          "text": [
            "\r 50%|█████     | 150/300 [2:06:41<2:05:16, 50.11s/it]"
          ]
        },
        {
          "output_type": "stream",
          "name": "stdout",
          "text": [
            "Training Loss : 0.01997320263840258, Testing Loss : 0.7110150890827179, Training Accuracy : 0.99328, Testing Accuracy : 0.8916\n"
          ]
        },
        {
          "output_type": "stream",
          "name": "stderr",
          "text": [
            "\r 50%|█████     | 151/300 [2:07:31<2:04:33, 50.15s/it]"
          ]
        },
        {
          "output_type": "stream",
          "name": "stdout",
          "text": [
            "Training Loss : 0.021204572284519673, Testing Loss : 0.6970590429902077, Training Accuracy : 0.99274, Testing Accuracy : 0.8899\n"
          ]
        },
        {
          "output_type": "stream",
          "name": "stderr",
          "text": [
            "\r 51%|█████     | 152/300 [2:08:21<2:03:56, 50.25s/it]"
          ]
        },
        {
          "output_type": "stream",
          "name": "stdout",
          "text": [
            "Training Loss : 0.022708670855164526, Testing Loss : 0.6964296731710434, Training Accuracy : 0.99198, Testing Accuracy : 0.8906\n"
          ]
        },
        {
          "output_type": "stream",
          "name": "stderr",
          "text": [
            "\r 51%|█████     | 153/300 [2:09:12<2:03:22, 50.36s/it]"
          ]
        },
        {
          "output_type": "stream",
          "name": "stdout",
          "text": [
            "Training Loss : 0.019670491465330123, Testing Loss : 0.6812108939170838, Training Accuracy : 0.99312, Testing Accuracy : 0.8922\n"
          ]
        },
        {
          "output_type": "stream",
          "name": "stderr",
          "text": [
            "\r 51%|█████▏    | 154/300 [2:10:03<2:02:53, 50.50s/it]"
          ]
        },
        {
          "output_type": "stream",
          "name": "stdout",
          "text": [
            "Training Loss : 0.019691694493480027, Testing Loss : 0.6838801940202713, Training Accuracy : 0.9932, Testing Accuracy : 0.8932\n"
          ]
        },
        {
          "output_type": "stream",
          "name": "stderr",
          "text": [
            "\r 52%|█████▏    | 155/300 [2:10:53<2:02:04, 50.52s/it]"
          ]
        },
        {
          "output_type": "stream",
          "name": "stdout",
          "text": [
            "Training Loss : 0.019691645381897688, Testing Loss : 0.6583851360082627, Training Accuracy : 0.99328, Testing Accuracy : 0.8966\n"
          ]
        },
        {
          "output_type": "stream",
          "name": "stderr",
          "text": [
            "\r 52%|█████▏    | 156/300 [2:11:44<2:01:20, 50.56s/it]"
          ]
        },
        {
          "output_type": "stream",
          "name": "stdout",
          "text": [
            "Training Loss : 0.01900144662104547, Testing Loss : 0.6989805149555206, Training Accuracy : 0.9933, Testing Accuracy : 0.8914\n"
          ]
        },
        {
          "output_type": "stream",
          "name": "stderr",
          "text": [
            "\r 52%|█████▏    | 157/300 [2:12:34<2:00:25, 50.53s/it]"
          ]
        },
        {
          "output_type": "stream",
          "name": "stdout",
          "text": [
            "Training Loss : 0.019065141580030323, Testing Loss : 0.6553405778884888, Training Accuracy : 0.99362, Testing Accuracy : 0.8944\n"
          ]
        },
        {
          "output_type": "stream",
          "name": "stderr",
          "text": [
            "\r 53%|█████▎    | 158/300 [2:13:25<1:59:28, 50.48s/it]"
          ]
        },
        {
          "output_type": "stream",
          "name": "stdout",
          "text": [
            "Training Loss : 0.017443676094934343, Testing Loss : 0.6989306135058403, Training Accuracy : 0.99416, Testing Accuracy : 0.8898\n"
          ]
        },
        {
          "output_type": "stream",
          "name": "stderr",
          "text": [
            "\r 53%|█████▎    | 159/300 [2:14:15<1:58:09, 50.28s/it]"
          ]
        },
        {
          "output_type": "stream",
          "name": "stdout",
          "text": [
            "Training Loss : 0.01686713241806254, Testing Loss : 0.6880358777999878, Training Accuracy : 0.99454, Testing Accuracy : 0.8917\n"
          ]
        },
        {
          "output_type": "stream",
          "name": "stderr",
          "text": [
            "\r 53%|█████▎    | 160/300 [2:15:05<1:57:02, 50.16s/it]"
          ]
        },
        {
          "output_type": "stream",
          "name": "stdout",
          "text": [
            "Training Loss : 0.018003944538384675, Testing Loss : 0.6992039823412896, Training Accuracy : 0.99358, Testing Accuracy : 0.8954\n"
          ]
        },
        {
          "output_type": "stream",
          "name": "stderr",
          "text": [
            "\r 54%|█████▎    | 161/300 [2:15:55<1:56:18, 50.21s/it]"
          ]
        },
        {
          "output_type": "stream",
          "name": "stdout",
          "text": [
            "Training Loss : 0.015735763298049567, Testing Loss : 0.6512037988185883, Training Accuracy : 0.9944, Testing Accuracy : 0.8966\n"
          ]
        },
        {
          "output_type": "stream",
          "name": "stderr",
          "text": [
            "\r 54%|█████▍    | 162/300 [2:16:45<1:55:35, 50.26s/it]"
          ]
        },
        {
          "output_type": "stream",
          "name": "stdout",
          "text": [
            "Training Loss : 0.0122647372803092, Testing Loss : 0.6690608282566071, Training Accuracy : 0.99574, Testing Accuracy : 0.9023\n"
          ]
        },
        {
          "output_type": "stream",
          "name": "stderr",
          "text": [
            "\r 54%|█████▍    | 163/300 [2:17:36<1:54:53, 50.32s/it]"
          ]
        },
        {
          "output_type": "stream",
          "name": "stdout",
          "text": [
            "Training Loss : 0.013052098441496492, Testing Loss : 0.6617214141368866, Training Accuracy : 0.99556, Testing Accuracy : 0.8978\n"
          ]
        },
        {
          "output_type": "stream",
          "name": "stderr",
          "text": [
            "\r 55%|█████▍    | 164/300 [2:18:26<1:54:00, 50.30s/it]"
          ]
        },
        {
          "output_type": "stream",
          "name": "stdout",
          "text": [
            "Training Loss : 0.01475037628505379, Testing Loss : 0.7328686270713806, Training Accuracy : 0.99506, Testing Accuracy : 0.8903\n"
          ]
        },
        {
          "output_type": "stream",
          "name": "stderr",
          "text": [
            "\r 55%|█████▌    | 165/300 [2:19:16<1:53:08, 50.28s/it]"
          ]
        },
        {
          "output_type": "stream",
          "name": "stdout",
          "text": [
            "Training Loss : 0.014488786079920829, Testing Loss : 0.7260583797454834, Training Accuracy : 0.9948, Testing Accuracy : 0.8919\n"
          ]
        },
        {
          "output_type": "stream",
          "name": "stderr",
          "text": [
            "\r 55%|█████▌    | 166/300 [2:20:07<1:52:31, 50.38s/it]"
          ]
        },
        {
          "output_type": "stream",
          "name": "stdout",
          "text": [
            "Training Loss : 0.015977208711206912, Testing Loss : 0.7055716282367707, Training Accuracy : 0.99462, Testing Accuracy : 0.8936\n"
          ]
        },
        {
          "output_type": "stream",
          "name": "stderr",
          "text": [
            "\r 56%|█████▌    | 167/300 [2:20:58<1:52:12, 50.62s/it]"
          ]
        },
        {
          "output_type": "stream",
          "name": "stdout",
          "text": [
            "Training Loss : 0.015117824024260044, Testing Loss : 0.7070741997599602, Training Accuracy : 0.99484, Testing Accuracy : 0.895\n"
          ]
        },
        {
          "output_type": "stream",
          "name": "stderr",
          "text": [
            "\r 56%|█████▌    | 168/300 [2:21:49<1:51:30, 50.69s/it]"
          ]
        },
        {
          "output_type": "stream",
          "name": "stdout",
          "text": [
            "Training Loss : 0.01466093176290393, Testing Loss : 0.6993438965439797, Training Accuracy : 0.99496, Testing Accuracy : 0.8946\n"
          ]
        },
        {
          "output_type": "stream",
          "name": "stderr",
          "text": [
            "\r 56%|█████▋    | 169/300 [2:22:39<1:50:37, 50.67s/it]"
          ]
        },
        {
          "output_type": "stream",
          "name": "stdout",
          "text": [
            "Training Loss : 0.013977533716969193, Testing Loss : 0.7077382449150086, Training Accuracy : 0.99504, Testing Accuracy : 0.8957\n"
          ]
        },
        {
          "output_type": "stream",
          "name": "stderr",
          "text": [
            "\r 57%|█████▋    | 170/300 [2:23:30<1:49:46, 50.66s/it]"
          ]
        },
        {
          "output_type": "stream",
          "name": "stdout",
          "text": [
            "Training Loss : 0.015194293287023902, Testing Loss : 0.7538093051910401, Training Accuracy : 0.99488, Testing Accuracy : 0.8901\n"
          ]
        },
        {
          "output_type": "stream",
          "name": "stderr",
          "text": [
            "\r 57%|█████▋    | 171/300 [2:24:21<1:48:53, 50.65s/it]"
          ]
        },
        {
          "output_type": "stream",
          "name": "stdout",
          "text": [
            "Training Loss : 0.01562893845655024, Testing Loss : 0.6973407278060914, Training Accuracy : 0.9946, Testing Accuracy : 0.896\n"
          ]
        },
        {
          "output_type": "stream",
          "name": "stderr",
          "text": [
            "\r 57%|█████▋    | 172/300 [2:25:11<1:48:06, 50.68s/it]"
          ]
        },
        {
          "output_type": "stream",
          "name": "stdout",
          "text": [
            "Training Loss : 0.01373029165148735, Testing Loss : 0.7435402807235718, Training Accuracy : 0.99534, Testing Accuracy : 0.8904\n"
          ]
        },
        {
          "output_type": "stream",
          "name": "stderr",
          "text": [
            "\r 58%|█████▊    | 173/300 [2:26:02<1:46:56, 50.53s/it]"
          ]
        },
        {
          "output_type": "stream",
          "name": "stdout",
          "text": [
            "Training Loss : 0.016721475045569242, Testing Loss : 0.6597676332473755, Training Accuracy : 0.99444, Testing Accuracy : 0.8973\n"
          ]
        },
        {
          "output_type": "stream",
          "name": "stderr",
          "text": [
            "\r 58%|█████▊    | 174/300 [2:26:52<1:46:03, 50.50s/it]"
          ]
        },
        {
          "output_type": "stream",
          "name": "stdout",
          "text": [
            "Training Loss : 0.015466195471659302, Testing Loss : 0.7163176023483276, Training Accuracy : 0.99476, Testing Accuracy : 0.8931\n"
          ]
        },
        {
          "output_type": "stream",
          "name": "stderr",
          "text": [
            "\r 58%|█████▊    | 175/300 [2:27:42<1:44:55, 50.36s/it]"
          ]
        },
        {
          "output_type": "stream",
          "name": "stdout",
          "text": [
            "Training Loss : 0.01462813229098916, Testing Loss : 0.734309476184845, Training Accuracy : 0.99516, Testing Accuracy : 0.8884\n"
          ]
        },
        {
          "output_type": "stream",
          "name": "stderr",
          "text": [
            "\r 59%|█████▊    | 176/300 [2:28:32<1:43:46, 50.21s/it]"
          ]
        },
        {
          "output_type": "stream",
          "name": "stdout",
          "text": [
            "Training Loss : 0.014668660136014222, Testing Loss : 0.70796555352211, Training Accuracy : 0.99522, Testing Accuracy : 0.8935\n"
          ]
        },
        {
          "output_type": "stream",
          "name": "stderr",
          "text": [
            "\r 59%|█████▉    | 177/300 [2:29:22<1:42:52, 50.18s/it]"
          ]
        },
        {
          "output_type": "stream",
          "name": "stdout",
          "text": [
            "Training Loss : 0.01202560352526605, Testing Loss : 0.6776410574197769, Training Accuracy : 0.99596, Testing Accuracy : 0.8988\n"
          ]
        },
        {
          "output_type": "stream",
          "name": "stderr",
          "text": [
            "\r 59%|█████▉    | 178/300 [2:30:12<1:42:00, 50.17s/it]"
          ]
        },
        {
          "output_type": "stream",
          "name": "stdout",
          "text": [
            "Training Loss : 0.011218566990830004, Testing Loss : 0.6903307695388794, Training Accuracy : 0.99636, Testing Accuracy : 0.8969\n"
          ]
        },
        {
          "output_type": "stream",
          "name": "stderr",
          "text": [
            "\r 60%|█████▉    | 179/300 [2:31:02<1:41:00, 50.09s/it]"
          ]
        },
        {
          "output_type": "stream",
          "name": "stdout",
          "text": [
            "Training Loss : 0.013758614414259792, Testing Loss : 0.7195565972805024, Training Accuracy : 0.99542, Testing Accuracy : 0.8922\n"
          ]
        },
        {
          "output_type": "stream",
          "name": "stderr",
          "text": [
            "\r 60%|██████    | 180/300 [2:31:52<1:40:19, 50.16s/it]"
          ]
        },
        {
          "output_type": "stream",
          "name": "stdout",
          "text": [
            "Training Loss : 0.012690397947467864, Testing Loss : 0.668628975391388, Training Accuracy : 0.99564, Testing Accuracy : 0.8973\n"
          ]
        },
        {
          "output_type": "stream",
          "name": "stderr",
          "text": [
            "\r 60%|██████    | 181/300 [2:32:42<1:39:24, 50.12s/it]"
          ]
        },
        {
          "output_type": "stream",
          "name": "stdout",
          "text": [
            "Training Loss : 0.011131021630465985, Testing Loss : 0.7177944608211517, Training Accuracy : 0.99602, Testing Accuracy : 0.8932\n"
          ]
        },
        {
          "output_type": "stream",
          "name": "stderr",
          "text": [
            "\r 61%|██████    | 182/300 [2:33:33<1:38:48, 50.25s/it]"
          ]
        },
        {
          "output_type": "stream",
          "name": "stdout",
          "text": [
            "Training Loss : 0.00994527231303975, Testing Loss : 0.7333163456439972, Training Accuracy : 0.99648, Testing Accuracy : 0.893\n"
          ]
        },
        {
          "output_type": "stream",
          "name": "stderr",
          "text": [
            "\r 61%|██████    | 183/300 [2:34:24<1:38:21, 50.44s/it]"
          ]
        },
        {
          "output_type": "stream",
          "name": "stdout",
          "text": [
            "Training Loss : 0.01060296529341489, Testing Loss : 0.7255939009748399, Training Accuracy : 0.99646, Testing Accuracy : 0.8984\n"
          ]
        },
        {
          "output_type": "stream",
          "name": "stderr",
          "text": [
            "\r 61%|██████▏   | 184/300 [2:35:15<1:37:45, 50.57s/it]"
          ]
        },
        {
          "output_type": "stream",
          "name": "stdout",
          "text": [
            "Training Loss : 0.009633948159497231, Testing Loss : 0.7208732516527175, Training Accuracy : 0.99672, Testing Accuracy : 0.8998\n"
          ]
        },
        {
          "output_type": "stream",
          "name": "stderr",
          "text": [
            "\r 62%|██████▏   | 185/300 [2:36:06<1:37:08, 50.69s/it]"
          ]
        },
        {
          "output_type": "stream",
          "name": "stdout",
          "text": [
            "Training Loss : 0.008420184018146247, Testing Loss : 0.7365788826584816, Training Accuracy : 0.997, Testing Accuracy : 0.8993\n"
          ]
        },
        {
          "output_type": "stream",
          "name": "stderr",
          "text": [
            "\r 62%|██████▏   | 186/300 [2:36:56<1:36:15, 50.66s/it]"
          ]
        },
        {
          "output_type": "stream",
          "name": "stdout",
          "text": [
            "Training Loss : 0.009205446767769753, Testing Loss : 0.7004448023557663, Training Accuracy : 0.99712, Testing Accuracy : 0.8985\n"
          ]
        },
        {
          "output_type": "stream",
          "name": "stderr",
          "text": [
            "\r 62%|██████▏   | 187/300 [2:37:47<1:35:31, 50.72s/it]"
          ]
        },
        {
          "output_type": "stream",
          "name": "stdout",
          "text": [
            "Training Loss : 0.009757723063994198, Testing Loss : 0.7403268857955932, Training Accuracy : 0.99666, Testing Accuracy : 0.8986\n"
          ]
        },
        {
          "output_type": "stream",
          "name": "stderr",
          "text": [
            "\r 63%|██████▎   | 188/300 [2:38:38<1:34:38, 50.70s/it]"
          ]
        },
        {
          "output_type": "stream",
          "name": "stdout",
          "text": [
            "Training Loss : 0.00878474524602294, Testing Loss : 0.7006562445700169, Training Accuracy : 0.99692, Testing Accuracy : 0.9003\n"
          ]
        },
        {
          "output_type": "stream",
          "name": "stderr",
          "text": [
            "\r 63%|██████▎   | 189/300 [2:39:28<1:33:38, 50.62s/it]"
          ]
        },
        {
          "output_type": "stream",
          "name": "stdout",
          "text": [
            "Training Loss : 0.008622655976545065, Testing Loss : 0.7350100099951029, Training Accuracy : 0.99714, Testing Accuracy : 0.9007\n"
          ]
        },
        {
          "output_type": "stream",
          "name": "stderr",
          "text": [
            "\r 63%|██████▎   | 190/300 [2:40:18<1:32:29, 50.45s/it]"
          ]
        },
        {
          "output_type": "stream",
          "name": "stdout",
          "text": [
            "Training Loss : 0.00830190166471526, Testing Loss : 0.7119323916921392, Training Accuracy : 0.9971, Testing Accuracy : 0.901\n"
          ]
        },
        {
          "output_type": "stream",
          "name": "stderr",
          "text": [
            "\r 64%|██████▎   | 191/300 [2:41:09<1:31:40, 50.47s/it]"
          ]
        },
        {
          "output_type": "stream",
          "name": "stdout",
          "text": [
            "Training Loss : 0.008356954285241663, Testing Loss : 0.74498978587389, Training Accuracy : 0.99718, Testing Accuracy : 0.8989\n"
          ]
        },
        {
          "output_type": "stream",
          "name": "stderr",
          "text": [
            "\r 64%|██████▍   | 192/300 [2:41:59<1:30:32, 50.30s/it]"
          ]
        },
        {
          "output_type": "stream",
          "name": "stdout",
          "text": [
            "Training Loss : 0.007590013332497329, Testing Loss : 0.7306645954981447, Training Accuracy : 0.99754, Testing Accuracy : 0.8993\n"
          ]
        },
        {
          "output_type": "stream",
          "name": "stderr",
          "text": [
            "\r 64%|██████▍   | 193/300 [2:42:49<1:29:51, 50.39s/it]"
          ]
        },
        {
          "output_type": "stream",
          "name": "stdout",
          "text": [
            "Training Loss : 0.0077568415182176975, Testing Loss : 0.7362108430922032, Training Accuracy : 0.9975, Testing Accuracy : 0.9001\n"
          ]
        },
        {
          "output_type": "stream",
          "name": "stderr",
          "text": [
            "\r 65%|██████▍   | 194/300 [2:43:40<1:28:54, 50.33s/it]"
          ]
        },
        {
          "output_type": "stream",
          "name": "stdout",
          "text": [
            "Training Loss : 0.006224604171682149, Testing Loss : 0.6966277525067329, Training Accuracy : 0.99792, Testing Accuracy : 0.9056\n"
          ]
        },
        {
          "output_type": "stream",
          "name": "stderr",
          "text": [
            "\r 65%|██████▌   | 195/300 [2:44:30<1:28:00, 50.29s/it]"
          ]
        },
        {
          "output_type": "stream",
          "name": "stdout",
          "text": [
            "Training Loss : 0.006820096943560057, Testing Loss : 0.7449097651228309, Training Accuracy : 0.99778, Testing Accuracy : 0.8993\n"
          ]
        },
        {
          "output_type": "stream",
          "name": "stderr",
          "text": [
            "\r 65%|██████▌   | 196/300 [2:45:20<1:27:06, 50.26s/it]"
          ]
        },
        {
          "output_type": "stream",
          "name": "stdout",
          "text": [
            "Training Loss : 0.0075996248852158894, Testing Loss : 0.7366296968936921, Training Accuracy : 0.99748, Testing Accuracy : 0.9024\n"
          ]
        },
        {
          "output_type": "stream",
          "name": "stderr",
          "text": [
            "\r 66%|██████▌   | 197/300 [2:46:10<1:26:19, 50.29s/it]"
          ]
        },
        {
          "output_type": "stream",
          "name": "stdout",
          "text": [
            "Training Loss : 0.007214325210051611, Testing Loss : 0.7027962957382202, Training Accuracy : 0.99786, Testing Accuracy : 0.9037\n"
          ]
        },
        {
          "output_type": "stream",
          "name": "stderr",
          "text": [
            "\r 66%|██████▌   | 198/300 [2:47:01<1:25:41, 50.41s/it]"
          ]
        },
        {
          "output_type": "stream",
          "name": "stdout",
          "text": [
            "Training Loss : 0.00834622794301249, Testing Loss : 0.7574301226779818, Training Accuracy : 0.99722, Testing Accuracy : 0.9006\n"
          ]
        },
        {
          "output_type": "stream",
          "name": "stderr",
          "text": [
            "\r 66%|██████▋   | 199/300 [2:47:52<1:25:01, 50.51s/it]"
          ]
        },
        {
          "output_type": "stream",
          "name": "stdout",
          "text": [
            "Training Loss : 0.009599390794876962, Testing Loss : 0.7459056294403971, Training Accuracy : 0.99698, Testing Accuracy : 0.9004\n"
          ]
        },
        {
          "output_type": "stream",
          "name": "stderr",
          "text": [
            "\r 67%|██████▋   | 200/300 [2:48:43<1:24:25, 50.66s/it]"
          ]
        },
        {
          "output_type": "stream",
          "name": "stdout",
          "text": [
            "Training Loss : 0.008272954897880554, Testing Loss : 0.720702743268013, Training Accuracy : 0.99736, Testing Accuracy : 0.899\n"
          ]
        },
        {
          "output_type": "stream",
          "name": "stderr",
          "text": [
            "\r 67%|██████▋   | 201/300 [2:49:34<1:23:44, 50.76s/it]"
          ]
        },
        {
          "output_type": "stream",
          "name": "stdout",
          "text": [
            "Training Loss : 0.007734282403010875, Testing Loss : 0.7086509774923324, Training Accuracy : 0.99728, Testing Accuracy : 0.9037\n"
          ]
        },
        {
          "output_type": "stream",
          "name": "stderr",
          "text": [
            "\r 67%|██████▋   | 202/300 [2:50:24<1:22:51, 50.73s/it]"
          ]
        },
        {
          "output_type": "stream",
          "name": "stdout",
          "text": [
            "Training Loss : 0.006486635559750721, Testing Loss : 0.7132209315240383, Training Accuracy : 0.99766, Testing Accuracy : 0.8987\n"
          ]
        },
        {
          "output_type": "stream",
          "name": "stderr",
          "text": [
            "\r 68%|██████▊   | 203/300 [2:51:15<1:21:58, 50.71s/it]"
          ]
        },
        {
          "output_type": "stream",
          "name": "stdout",
          "text": [
            "Training Loss : 0.006516806951584295, Testing Loss : 0.7345041453719139, Training Accuracy : 0.99774, Testing Accuracy : 0.9052\n"
          ]
        },
        {
          "output_type": "stream",
          "name": "stderr",
          "text": [
            "\r 68%|██████▊   | 204/300 [2:52:06<1:21:07, 50.71s/it]"
          ]
        },
        {
          "output_type": "stream",
          "name": "stdout",
          "text": [
            "Training Loss : 0.005970868375408463, Testing Loss : 0.7312974956743419, Training Accuracy : 0.99796, Testing Accuracy : 0.8992\n"
          ]
        },
        {
          "output_type": "stream",
          "name": "stderr",
          "text": [
            "\r 68%|██████▊   | 205/300 [2:52:56<1:20:08, 50.62s/it]"
          ]
        },
        {
          "output_type": "stream",
          "name": "stdout",
          "text": [
            "Training Loss : 0.006680877727754414, Testing Loss : 0.7300891924858093, Training Accuracy : 0.99782, Testing Accuracy : 0.9034\n"
          ]
        },
        {
          "output_type": "stream",
          "name": "stderr",
          "text": [
            "\r 69%|██████▊   | 206/300 [2:53:47<1:19:20, 50.64s/it]"
          ]
        },
        {
          "output_type": "stream",
          "name": "stdout",
          "text": [
            "Training Loss : 0.005604279637532308, Testing Loss : 0.7622229617458536, Training Accuracy : 0.99804, Testing Accuracy : 0.9014\n"
          ]
        },
        {
          "output_type": "stream",
          "name": "stderr",
          "text": [
            "\r 69%|██████▉   | 207/300 [2:54:37<1:18:26, 50.61s/it]"
          ]
        },
        {
          "output_type": "stream",
          "name": "stdout",
          "text": [
            "Training Loss : 0.006323175489502028, Testing Loss : 0.7770417173637078, Training Accuracy : 0.99778, Testing Accuracy : 0.9003\n"
          ]
        },
        {
          "output_type": "stream",
          "name": "stderr",
          "text": [
            "\r 69%|██████▉   | 208/300 [2:55:28<1:17:34, 50.60s/it]"
          ]
        },
        {
          "output_type": "stream",
          "name": "stdout",
          "text": [
            "Training Loss : 0.007918860203605145, Testing Loss : 0.7798761849403382, Training Accuracy : 0.99732, Testing Accuracy : 0.8978\n"
          ]
        },
        {
          "output_type": "stream",
          "name": "stderr",
          "text": [
            "\r 70%|██████▉   | 209/300 [2:56:18<1:16:42, 50.58s/it]"
          ]
        },
        {
          "output_type": "stream",
          "name": "stdout",
          "text": [
            "Training Loss : 0.006353147006202489, Testing Loss : 0.7300230010271073, Training Accuracy : 0.99782, Testing Accuracy : 0.905\n"
          ]
        },
        {
          "output_type": "stream",
          "name": "stderr",
          "text": [
            "\r 70%|███████   | 210/300 [2:57:09<1:15:47, 50.53s/it]"
          ]
        },
        {
          "output_type": "stream",
          "name": "stdout",
          "text": [
            "Training Loss : 0.0046650887339003385, Testing Loss : 0.7654248338144273, Training Accuracy : 0.9985, Testing Accuracy : 0.9\n"
          ]
        },
        {
          "output_type": "stream",
          "name": "stderr",
          "text": [
            "\r 70%|███████   | 211/300 [2:57:59<1:14:54, 50.50s/it]"
          ]
        },
        {
          "output_type": "stream",
          "name": "stdout",
          "text": [
            "Training Loss : 0.00602553690594621, Testing Loss : 0.7453021382972598, Training Accuracy : 0.99798, Testing Accuracy : 0.9046\n"
          ]
        },
        {
          "output_type": "stream",
          "name": "stderr",
          "text": [
            "\r 71%|███████   | 212/300 [2:58:50<1:14:00, 50.46s/it]"
          ]
        },
        {
          "output_type": "stream",
          "name": "stdout",
          "text": [
            "Training Loss : 0.00568577073068358, Testing Loss : 0.7650113232895732, Training Accuracy : 0.99796, Testing Accuracy : 0.9014\n"
          ]
        },
        {
          "output_type": "stream",
          "name": "stderr",
          "text": [
            "\r 71%|███████   | 213/300 [2:59:40<1:13:11, 50.48s/it]"
          ]
        },
        {
          "output_type": "stream",
          "name": "stdout",
          "text": [
            "Training Loss : 0.0035757197552500294, Testing Loss : 0.7703757662773132, Training Accuracy : 0.99876, Testing Accuracy : 0.9049\n"
          ]
        },
        {
          "output_type": "stream",
          "name": "stderr",
          "text": [
            "\r 71%|███████▏  | 214/300 [3:00:31<1:12:23, 50.51s/it]"
          ]
        },
        {
          "output_type": "stream",
          "name": "stdout",
          "text": [
            "Training Loss : 0.003905311906489078, Testing Loss : 0.7469755942314863, Training Accuracy : 0.99866, Testing Accuracy : 0.9046\n"
          ]
        },
        {
          "output_type": "stream",
          "name": "stderr",
          "text": [
            "\r 72%|███████▏  | 215/300 [3:01:22<1:11:42, 50.61s/it]"
          ]
        },
        {
          "output_type": "stream",
          "name": "stdout",
          "text": [
            "Training Loss : 0.004235129612458404, Testing Loss : 0.7840943446386373, Training Accuracy : 0.99876, Testing Accuracy : 0.9054\n"
          ]
        },
        {
          "output_type": "stream",
          "name": "stderr",
          "text": [
            "\r 72%|███████▏  | 216/300 [3:02:13<1:10:58, 50.70s/it]"
          ]
        },
        {
          "output_type": "stream",
          "name": "stdout",
          "text": [
            "Training Loss : 0.0045740750234993174, Testing Loss : 0.7386875282671302, Training Accuracy : 0.99858, Testing Accuracy : 0.9094\n"
          ]
        },
        {
          "output_type": "stream",
          "name": "stderr",
          "text": [
            "\r 72%|███████▏  | 217/300 [3:03:04<1:10:15, 50.79s/it]"
          ]
        },
        {
          "output_type": "stream",
          "name": "stdout",
          "text": [
            "Training Loss : 0.003753253328166902, Testing Loss : 0.7752503308534622, Training Accuracy : 0.99892, Testing Accuracy : 0.9059\n"
          ]
        },
        {
          "output_type": "stream",
          "name": "stderr",
          "text": [
            "\r 73%|███████▎  | 218/300 [3:03:54<1:09:25, 50.79s/it]"
          ]
        },
        {
          "output_type": "stream",
          "name": "stdout",
          "text": [
            "Training Loss : 0.004355270182173699, Testing Loss : 0.7598964664936065, Training Accuracy : 0.99862, Testing Accuracy : 0.9056\n"
          ]
        },
        {
          "output_type": "stream",
          "name": "stderr",
          "text": [
            "\r 73%|███████▎  | 219/300 [3:04:45<1:08:38, 50.84s/it]"
          ]
        },
        {
          "output_type": "stream",
          "name": "stdout",
          "text": [
            "Training Loss : 0.004397548911147751, Testing Loss : 0.795757759880647, Training Accuracy : 0.99842, Testing Accuracy : 0.9035\n"
          ]
        },
        {
          "output_type": "stream",
          "name": "stderr",
          "text": [
            "\r 73%|███████▎  | 220/300 [3:05:36<1:07:47, 50.84s/it]"
          ]
        },
        {
          "output_type": "stream",
          "name": "stdout",
          "text": [
            "Training Loss : 0.003686723817954771, Testing Loss : 0.7780941040992737, Training Accuracy : 0.99866, Testing Accuracy : 0.9062\n"
          ]
        },
        {
          "output_type": "stream",
          "name": "stderr",
          "text": [
            "\r 74%|███████▎  | 221/300 [3:06:27<1:06:55, 50.83s/it]"
          ]
        },
        {
          "output_type": "stream",
          "name": "stdout",
          "text": [
            "Training Loss : 0.0033622452633827924, Testing Loss : 0.7768267453793436, Training Accuracy : 0.99886, Testing Accuracy : 0.9029\n"
          ]
        },
        {
          "output_type": "stream",
          "name": "stderr",
          "text": [
            "\r 74%|███████▍  | 222/300 [3:07:18<1:06:02, 50.81s/it]"
          ]
        },
        {
          "output_type": "stream",
          "name": "stdout",
          "text": [
            "Training Loss : 0.003506753009986132, Testing Loss : 0.7912163743019104, Training Accuracy : 0.99864, Testing Accuracy : 0.9047\n"
          ]
        },
        {
          "output_type": "stream",
          "name": "stderr",
          "text": [
            "\r 74%|███████▍  | 223/300 [3:08:08<1:05:08, 50.76s/it]"
          ]
        },
        {
          "output_type": "stream",
          "name": "stdout",
          "text": [
            "Training Loss : 0.003620079993578838, Testing Loss : 0.7949525101661682, Training Accuracy : 0.9988, Testing Accuracy : 0.9016\n"
          ]
        },
        {
          "output_type": "stream",
          "name": "stderr",
          "text": [
            "\r 75%|███████▍  | 224/300 [3:08:58<1:04:01, 50.54s/it]"
          ]
        },
        {
          "output_type": "stream",
          "name": "stdout",
          "text": [
            "Training Loss : 0.003473418298056349, Testing Loss : 0.7913781638145447, Training Accuracy : 0.99882, Testing Accuracy : 0.9046\n"
          ]
        },
        {
          "output_type": "stream",
          "name": "stderr",
          "text": [
            "\r 75%|███████▌  | 225/300 [3:09:49<1:03:07, 50.50s/it]"
          ]
        },
        {
          "output_type": "stream",
          "name": "stdout",
          "text": [
            "Training Loss : 0.0029849347038939595, Testing Loss : 0.7910072970390319, Training Accuracy : 0.99898, Testing Accuracy : 0.9032\n"
          ]
        },
        {
          "output_type": "stream",
          "name": "stderr",
          "text": [
            "\r 75%|███████▌  | 226/300 [3:10:39<1:02:11, 50.43s/it]"
          ]
        },
        {
          "output_type": "stream",
          "name": "stdout",
          "text": [
            "Training Loss : 0.0036314157366892324, Testing Loss : 0.7846135242938995, Training Accuracy : 0.99878, Testing Accuracy : 0.9053\n"
          ]
        },
        {
          "output_type": "stream",
          "name": "stderr",
          "text": [
            "\r 76%|███████▌  | 227/300 [3:11:30<1:01:24, 50.47s/it]"
          ]
        },
        {
          "output_type": "stream",
          "name": "stdout",
          "text": [
            "Training Loss : 0.004939615928898565, Testing Loss : 0.8132630966603756, Training Accuracy : 0.99828, Testing Accuracy : 0.9018\n"
          ]
        },
        {
          "output_type": "stream",
          "name": "stderr",
          "text": [
            "\r 76%|███████▌  | 228/300 [3:12:20<1:00:31, 50.44s/it]"
          ]
        },
        {
          "output_type": "stream",
          "name": "stdout",
          "text": [
            "Training Loss : 0.004676851911157137, Testing Loss : 0.7964630191326141, Training Accuracy : 0.99854, Testing Accuracy : 0.902\n"
          ]
        },
        {
          "output_type": "stream",
          "name": "stderr",
          "text": [
            "\r 76%|███████▋  | 229/300 [3:13:10<59:37, 50.39s/it]  "
          ]
        },
        {
          "output_type": "stream",
          "name": "stdout",
          "text": [
            "Training Loss : 0.003741807332027238, Testing Loss : 0.8093729397031478, Training Accuracy : 0.99872, Testing Accuracy : 0.9024\n"
          ]
        },
        {
          "output_type": "stream",
          "name": "stderr",
          "text": [
            "\r 77%|███████▋  | 230/300 [3:14:01<58:46, 50.38s/it]"
          ]
        },
        {
          "output_type": "stream",
          "name": "stdout",
          "text": [
            "Training Loss : 0.003531383112471085, Testing Loss : 0.7580372143745422, Training Accuracy : 0.99874, Testing Accuracy : 0.9071\n"
          ]
        },
        {
          "output_type": "stream",
          "name": "stderr",
          "text": [
            "\r 77%|███████▋  | 231/300 [3:14:51<58:01, 50.46s/it]"
          ]
        },
        {
          "output_type": "stream",
          "name": "stdout",
          "text": [
            "Training Loss : 0.002879816721929237, Testing Loss : 0.8007704183644615, Training Accuracy : 0.99912, Testing Accuracy : 0.9023\n"
          ]
        },
        {
          "output_type": "stream",
          "name": "stderr",
          "text": [
            "\r 77%|███████▋  | 232/300 [3:15:42<57:21, 50.61s/it]"
          ]
        },
        {
          "output_type": "stream",
          "name": "stdout",
          "text": [
            "Training Loss : 0.004246280844022986, Testing Loss : 0.7689806571960449, Training Accuracy : 0.99868, Testing Accuracy : 0.9052\n"
          ]
        },
        {
          "output_type": "stream",
          "name": "stderr",
          "text": [
            "\r 78%|███████▊  | 233/300 [3:16:33<56:38, 50.72s/it]"
          ]
        },
        {
          "output_type": "stream",
          "name": "stdout",
          "text": [
            "Training Loss : 0.003737315776066389, Testing Loss : 0.7962198976039887, Training Accuracy : 0.9987, Testing Accuracy : 0.904\n"
          ]
        },
        {
          "output_type": "stream",
          "name": "stderr",
          "text": [
            "\r 78%|███████▊  | 234/300 [3:17:24<55:51, 50.79s/it]"
          ]
        },
        {
          "output_type": "stream",
          "name": "stdout",
          "text": [
            "Training Loss : 0.003306269658000674, Testing Loss : 0.7969719643592834, Training Accuracy : 0.99888, Testing Accuracy : 0.9045\n"
          ]
        },
        {
          "output_type": "stream",
          "name": "stderr",
          "text": [
            "\r 78%|███████▊  | 235/300 [3:18:15<55:03, 50.82s/it]"
          ]
        },
        {
          "output_type": "stream",
          "name": "stdout",
          "text": [
            "Training Loss : 0.0028271913685253823, Testing Loss : 0.8261069929096848, Training Accuracy : 0.99902, Testing Accuracy : 0.902\n"
          ]
        },
        {
          "output_type": "stream",
          "name": "stderr",
          "text": [
            "\r 79%|███████▊  | 236/300 [3:19:06<54:08, 50.76s/it]"
          ]
        },
        {
          "output_type": "stream",
          "name": "stdout",
          "text": [
            "Training Loss : 0.0033495964770019052, Testing Loss : 0.783774348282814, Training Accuracy : 0.99878, Testing Accuracy : 0.9062\n"
          ]
        },
        {
          "output_type": "stream",
          "name": "stderr",
          "text": [
            "\r 79%|███████▉  | 237/300 [3:19:56<53:18, 50.78s/it]"
          ]
        },
        {
          "output_type": "stream",
          "name": "stdout",
          "text": [
            "Training Loss : 0.004685987336416729, Testing Loss : 0.8202160791006318, Training Accuracy : 0.99842, Testing Accuracy : 0.9002\n"
          ]
        },
        {
          "output_type": "stream",
          "name": "stderr",
          "text": [
            "\r 79%|███████▉  | 238/300 [3:20:47<52:28, 50.79s/it]"
          ]
        },
        {
          "output_type": "stream",
          "name": "stdout",
          "text": [
            "Training Loss : 0.004844427455810364, Testing Loss : 0.7780877282619476, Training Accuracy : 0.9983, Testing Accuracy : 0.9072\n"
          ]
        },
        {
          "output_type": "stream",
          "name": "stderr",
          "text": [
            "\r 80%|███████▉  | 239/300 [3:21:38<51:30, 50.67s/it]"
          ]
        },
        {
          "output_type": "stream",
          "name": "stdout",
          "text": [
            "Training Loss : 0.002890996442614123, Testing Loss : 0.8030858982939971, Training Accuracy : 0.99898, Testing Accuracy : 0.9033\n"
          ]
        },
        {
          "output_type": "stream",
          "name": "stderr",
          "text": [
            "\r 80%|████████  | 240/300 [3:22:28<50:37, 50.62s/it]"
          ]
        },
        {
          "output_type": "stream",
          "name": "stdout",
          "text": [
            "Training Loss : 0.0038544360631587917, Testing Loss : 0.7792401895999909, Training Accuracy : 0.99882, Testing Accuracy : 0.9058\n"
          ]
        },
        {
          "output_type": "stream",
          "name": "stderr",
          "text": [
            "\r 80%|████████  | 241/300 [3:23:18<49:38, 50.48s/it]"
          ]
        },
        {
          "output_type": "stream",
          "name": "stdout",
          "text": [
            "Training Loss : 0.0029335718064094542, Testing Loss : 0.76960290924547, Training Accuracy : 0.999, Testing Accuracy : 0.9046\n"
          ]
        },
        {
          "output_type": "stream",
          "name": "stderr",
          "text": [
            "\r 81%|████████  | 242/300 [3:24:09<48:44, 50.42s/it]"
          ]
        },
        {
          "output_type": "stream",
          "name": "stdout",
          "text": [
            "Training Loss : 0.004098975933741312, Testing Loss : 0.7652599495887756, Training Accuracy : 0.99868, Testing Accuracy : 0.9081\n"
          ]
        },
        {
          "output_type": "stream",
          "name": "stderr",
          "text": [
            "\r 81%|████████  | 243/300 [3:24:59<47:54, 50.43s/it]"
          ]
        },
        {
          "output_type": "stream",
          "name": "stdout",
          "text": [
            "Training Loss : 0.002986559513923712, Testing Loss : 0.7666340408682824, Training Accuracy : 0.99898, Testing Accuracy : 0.9066\n"
          ]
        },
        {
          "output_type": "stream",
          "name": "stderr",
          "text": [
            "\r 81%|████████▏ | 244/300 [3:25:49<46:58, 50.34s/it]"
          ]
        },
        {
          "output_type": "stream",
          "name": "stdout",
          "text": [
            "Training Loss : 0.0025886223200405948, Testing Loss : 0.7732638213157654, Training Accuracy : 0.99914, Testing Accuracy : 0.9077\n"
          ]
        },
        {
          "output_type": "stream",
          "name": "stderr",
          "text": [
            "\r 82%|████████▏ | 245/300 [3:26:39<46:05, 50.28s/it]"
          ]
        },
        {
          "output_type": "stream",
          "name": "stdout",
          "text": [
            "Training Loss : 0.002509620467007626, Testing Loss : 0.7765979819059372, Training Accuracy : 0.99922, Testing Accuracy : 0.9054\n"
          ]
        },
        {
          "output_type": "stream",
          "name": "stderr",
          "text": [
            "\r 82%|████████▏ | 246/300 [3:27:29<45:09, 50.18s/it]"
          ]
        },
        {
          "output_type": "stream",
          "name": "stdout",
          "text": [
            "Training Loss : 0.0019124393553775734, Testing Loss : 0.7851211951971054, Training Accuracy : 0.9994, Testing Accuracy : 0.9087\n"
          ]
        },
        {
          "output_type": "stream",
          "name": "stderr",
          "text": [
            "\r 82%|████████▏ | 247/300 [3:28:20<44:21, 50.21s/it]"
          ]
        },
        {
          "output_type": "stream",
          "name": "stdout",
          "text": [
            "Training Loss : 0.0017167088804626838, Testing Loss : 0.7436692133426667, Training Accuracy : 0.99946, Testing Accuracy : 0.9071\n"
          ]
        },
        {
          "output_type": "stream",
          "name": "stderr",
          "text": [
            "\r 83%|████████▎ | 248/300 [3:29:10<43:31, 50.23s/it]"
          ]
        },
        {
          "output_type": "stream",
          "name": "stdout",
          "text": [
            "Training Loss : 0.001855282965627266, Testing Loss : 0.7800235723853112, Training Accuracy : 0.99938, Testing Accuracy : 0.9088\n"
          ]
        },
        {
          "output_type": "stream",
          "name": "stderr",
          "text": [
            "\r 83%|████████▎ | 249/300 [3:30:01<42:51, 50.43s/it]"
          ]
        },
        {
          "output_type": "stream",
          "name": "stdout",
          "text": [
            "Training Loss : 0.0021939013425959276, Testing Loss : 0.7723087565898895, Training Accuracy : 0.99934, Testing Accuracy : 0.9064\n"
          ]
        },
        {
          "output_type": "stream",
          "name": "stderr",
          "text": [
            "\r 83%|████████▎ | 250/300 [3:30:52<42:09, 50.59s/it]"
          ]
        },
        {
          "output_type": "stream",
          "name": "stdout",
          "text": [
            "Training Loss : 0.002229254486135906, Testing Loss : 0.7938468881607056, Training Accuracy : 0.99922, Testing Accuracy : 0.9071\n"
          ]
        },
        {
          "output_type": "stream",
          "name": "stderr",
          "text": [
            "\r 84%|████████▎ | 251/300 [3:31:43<41:23, 50.69s/it]"
          ]
        },
        {
          "output_type": "stream",
          "name": "stdout",
          "text": [
            "Training Loss : 0.0016865817643213086, Testing Loss : 0.7882385025024414, Training Accuracy : 0.9995, Testing Accuracy : 0.909\n"
          ]
        },
        {
          "output_type": "stream",
          "name": "stderr",
          "text": [
            "\r 84%|████████▍ | 252/300 [3:32:35<40:54, 51.13s/it]"
          ]
        },
        {
          "output_type": "stream",
          "name": "stdout",
          "text": [
            "Training Loss : 0.0020416742217564026, Testing Loss : 0.7759445066452026, Training Accuracy : 0.99928, Testing Accuracy : 0.9071\n"
          ]
        },
        {
          "output_type": "stream",
          "name": "stderr",
          "text": [
            "\r 84%|████████▍ | 253/300 [3:33:27<40:15, 51.40s/it]"
          ]
        },
        {
          "output_type": "stream",
          "name": "stdout",
          "text": [
            "Training Loss : 0.0018989222688565496, Testing Loss : 0.7955179936885833, Training Accuracy : 0.99932, Testing Accuracy : 0.9093\n"
          ]
        },
        {
          "output_type": "stream",
          "name": "stderr",
          "text": [
            "\r 85%|████████▍ | 254/300 [3:34:18<39:22, 51.37s/it]"
          ]
        },
        {
          "output_type": "stream",
          "name": "stdout",
          "text": [
            "Training Loss : 0.0019302759303583298, Testing Loss : 0.7950831510543823, Training Accuracy : 0.99932, Testing Accuracy : 0.9064\n"
          ]
        },
        {
          "output_type": "stream",
          "name": "stderr",
          "text": [
            "\r 85%|████████▌ | 255/300 [3:35:10<38:33, 51.41s/it]"
          ]
        },
        {
          "output_type": "stream",
          "name": "stdout",
          "text": [
            "Training Loss : 0.0020588851689663716, Testing Loss : 0.7866692175269127, Training Accuracy : 0.99936, Testing Accuracy : 0.9084\n"
          ]
        },
        {
          "output_type": "stream",
          "name": "stderr",
          "text": [
            "\r 85%|████████▌ | 256/300 [3:36:01<37:43, 51.44s/it]"
          ]
        },
        {
          "output_type": "stream",
          "name": "stdout",
          "text": [
            "Training Loss : 0.0015654064272413962, Testing Loss : 0.7776320552527904, Training Accuracy : 0.9995, Testing Accuracy : 0.9077\n"
          ]
        },
        {
          "output_type": "stream",
          "name": "stderr",
          "text": [
            "\r 86%|████████▌ | 257/300 [3:36:53<36:56, 51.55s/it]"
          ]
        },
        {
          "output_type": "stream",
          "name": "stdout",
          "text": [
            "Training Loss : 0.0011326909680047538, Testing Loss : 0.7898563123185187, Training Accuracy : 0.99966, Testing Accuracy : 0.9105\n"
          ]
        },
        {
          "output_type": "stream",
          "name": "stderr",
          "text": [
            "\r 86%|████████▌ | 258/300 [3:37:45<36:06, 51.58s/it]"
          ]
        },
        {
          "output_type": "stream",
          "name": "stdout",
          "text": [
            "Training Loss : 0.0009324537622410571, Testing Loss : 0.7838878400534391, Training Accuracy : 0.99976, Testing Accuracy : 0.9071\n"
          ]
        },
        {
          "output_type": "stream",
          "name": "stderr",
          "text": [
            "\r 86%|████████▋ | 259/300 [3:38:36<35:16, 51.62s/it]"
          ]
        },
        {
          "output_type": "stream",
          "name": "stdout",
          "text": [
            "Training Loss : 0.001034702947999467, Testing Loss : 0.7844615863984451, Training Accuracy : 0.9996, Testing Accuracy : 0.9095\n"
          ]
        },
        {
          "output_type": "stream",
          "name": "stderr",
          "text": [
            "\r 87%|████████▋ | 260/300 [3:39:27<34:17, 51.43s/it]"
          ]
        },
        {
          "output_type": "stream",
          "name": "stdout",
          "text": [
            "Training Loss : 0.0014537495620222762, Testing Loss : 0.7962532920300961, Training Accuracy : 0.99964, Testing Accuracy : 0.9089\n"
          ]
        },
        {
          "output_type": "stream",
          "name": "stderr",
          "text": [
            "\r 87%|████████▋ | 261/300 [3:40:17<33:09, 51.00s/it]"
          ]
        },
        {
          "output_type": "stream",
          "name": "stdout",
          "text": [
            "Training Loss : 0.0013783681384980447, Testing Loss : 0.7876159466482698, Training Accuracy : 0.99956, Testing Accuracy : 0.9096\n"
          ]
        },
        {
          "output_type": "stream",
          "name": "stderr",
          "text": [
            "\r 87%|████████▋ | 262/300 [3:41:08<32:12, 50.85s/it]"
          ]
        },
        {
          "output_type": "stream",
          "name": "stdout",
          "text": [
            "Training Loss : 0.0012738354072213405, Testing Loss : 0.7890289969205856, Training Accuracy : 0.99958, Testing Accuracy : 0.9078\n"
          ]
        },
        {
          "output_type": "stream",
          "name": "stderr",
          "text": [
            "\r 88%|████████▊ | 263/300 [3:41:58<31:18, 50.77s/it]"
          ]
        },
        {
          "output_type": "stream",
          "name": "stdout",
          "text": [
            "Training Loss : 0.0012937650906021008, Testing Loss : 0.7895704885629937, Training Accuracy : 0.99938, Testing Accuracy : 0.9094\n"
          ]
        },
        {
          "output_type": "stream",
          "name": "stderr",
          "text": [
            "\r 88%|████████▊ | 264/300 [3:42:49<30:22, 50.64s/it]"
          ]
        },
        {
          "output_type": "stream",
          "name": "stdout",
          "text": [
            "Training Loss : 0.0013945443569641793, Testing Loss : 0.7974983543254435, Training Accuracy : 0.99954, Testing Accuracy : 0.9103\n"
          ]
        },
        {
          "output_type": "stream",
          "name": "stderr",
          "text": [
            "\r 88%|████████▊ | 265/300 [3:43:39<29:25, 50.44s/it]"
          ]
        },
        {
          "output_type": "stream",
          "name": "stdout",
          "text": [
            "Training Loss : 0.0007057058783608955, Testing Loss : 0.7859823750948534, Training Accuracy : 0.99984, Testing Accuracy : 0.91\n"
          ]
        },
        {
          "output_type": "stream",
          "name": "stderr",
          "text": [
            "\r 89%|████████▊ | 266/300 [3:44:29<28:31, 50.34s/it]"
          ]
        },
        {
          "output_type": "stream",
          "name": "stdout",
          "text": [
            "Training Loss : 0.001015762667848321, Testing Loss : 0.7953340827822685, Training Accuracy : 0.99978, Testing Accuracy : 0.9108\n"
          ]
        },
        {
          "output_type": "stream",
          "name": "stderr",
          "text": [
            "\r 89%|████████▉ | 267/300 [3:45:19<27:42, 50.36s/it]"
          ]
        },
        {
          "output_type": "stream",
          "name": "stdout",
          "text": [
            "Training Loss : 0.0011850805660919286, Testing Loss : 0.8182892576366663, Training Accuracy : 0.99964, Testing Accuracy : 0.907\n"
          ]
        },
        {
          "output_type": "stream",
          "name": "stderr",
          "text": [
            "\r 89%|████████▉ | 268/300 [3:46:10<26:54, 50.44s/it]"
          ]
        },
        {
          "output_type": "stream",
          "name": "stdout",
          "text": [
            "Training Loss : 0.0011611957864169381, Testing Loss : 0.8025971207916737, Training Accuracy : 0.99958, Testing Accuracy : 0.9106\n"
          ]
        },
        {
          "output_type": "stream",
          "name": "stderr",
          "text": [
            "\r 90%|████████▉ | 269/300 [3:47:00<26:05, 50.50s/it]"
          ]
        },
        {
          "output_type": "stream",
          "name": "stdout",
          "text": [
            "Training Loss : 0.0011509560938633512, Testing Loss : 0.8312902440837352, Training Accuracy : 0.99964, Testing Accuracy : 0.9112\n"
          ]
        },
        {
          "output_type": "stream",
          "name": "stderr",
          "text": [
            "\r 90%|█████████ | 270/300 [3:47:51<25:18, 50.62s/it]"
          ]
        },
        {
          "output_type": "stream",
          "name": "stdout",
          "text": [
            "Training Loss : 0.0011922943215671694, Testing Loss : 0.8110762801946141, Training Accuracy : 0.9996, Testing Accuracy : 0.9106\n"
          ]
        },
        {
          "output_type": "stream",
          "name": "stderr",
          "text": [
            "\r 90%|█████████ | 271/300 [3:48:42<24:28, 50.65s/it]"
          ]
        },
        {
          "output_type": "stream",
          "name": "stdout",
          "text": [
            "Training Loss : 0.0011700592173519543, Testing Loss : 0.8089710786744952, Training Accuracy : 0.99952, Testing Accuracy : 0.9117\n"
          ]
        },
        {
          "output_type": "stream",
          "name": "stderr",
          "text": [
            "\r 91%|█████████ | 272/300 [3:49:33<23:37, 50.62s/it]"
          ]
        },
        {
          "output_type": "stream",
          "name": "stdout",
          "text": [
            "Training Loss : 0.0012257841811084654, Testing Loss : 0.7946078568324446, Training Accuracy : 0.99958, Testing Accuracy : 0.9121\n"
          ]
        },
        {
          "output_type": "stream",
          "name": "stderr",
          "text": [
            "\r 91%|█████████ | 273/300 [3:50:23<22:47, 50.65s/it]"
          ]
        },
        {
          "output_type": "stream",
          "name": "stdout",
          "text": [
            "Training Loss : 0.0008083832523954334, Testing Loss : 0.7955825499057769, Training Accuracy : 0.99982, Testing Accuracy : 0.9116\n"
          ]
        },
        {
          "output_type": "stream",
          "name": "stderr",
          "text": [
            "\r 91%|█████████▏| 274/300 [3:51:14<21:58, 50.71s/it]"
          ]
        },
        {
          "output_type": "stream",
          "name": "stdout",
          "text": [
            "Training Loss : 0.0009015704204631038, Testing Loss : 0.8067946028709412, Training Accuracy : 0.99978, Testing Accuracy : 0.913\n"
          ]
        },
        {
          "output_type": "stream",
          "name": "stderr",
          "text": [
            "\r 92%|█████████▏| 275/300 [3:52:05<21:07, 50.68s/it]"
          ]
        },
        {
          "output_type": "stream",
          "name": "stdout",
          "text": [
            "Training Loss : 0.0006721813988563372, Testing Loss : 0.8100527758598328, Training Accuracy : 0.99978, Testing Accuracy : 0.9133\n"
          ]
        },
        {
          "output_type": "stream",
          "name": "stderr",
          "text": [
            "\r 92%|█████████▏| 276/300 [3:52:55<20:10, 50.44s/it]"
          ]
        },
        {
          "output_type": "stream",
          "name": "stdout",
          "text": [
            "Training Loss : 0.0008692412797181168, Testing Loss : 0.8063401037454605, Training Accuracy : 0.9997, Testing Accuracy : 0.9115\n"
          ]
        },
        {
          "output_type": "stream",
          "name": "stderr",
          "text": [
            "\r 92%|█████████▏| 277/300 [3:53:44<19:15, 50.23s/it]"
          ]
        },
        {
          "output_type": "stream",
          "name": "stdout",
          "text": [
            "Training Loss : 0.0008091053482648567, Testing Loss : 0.8049347605824471, Training Accuracy : 0.9997, Testing Accuracy : 0.9145\n"
          ]
        },
        {
          "output_type": "stream",
          "name": "stderr",
          "text": [
            "\r 93%|█████████▎| 278/300 [3:54:35<18:25, 50.23s/it]"
          ]
        },
        {
          "output_type": "stream",
          "name": "stdout",
          "text": [
            "Training Loss : 0.000782790182143217, Testing Loss : 0.8162846820831299, Training Accuracy : 0.99978, Testing Accuracy : 0.9129\n"
          ]
        },
        {
          "output_type": "stream",
          "name": "stderr",
          "text": [
            "\r 93%|█████████▎| 279/300 [3:55:25<17:33, 50.18s/it]"
          ]
        },
        {
          "output_type": "stream",
          "name": "stdout",
          "text": [
            "Training Loss : 0.0006122961541143013, Testing Loss : 0.8013297542095185, Training Accuracy : 0.9998, Testing Accuracy : 0.9138\n"
          ]
        },
        {
          "output_type": "stream",
          "name": "stderr",
          "text": [
            "\r 93%|█████████▎| 280/300 [3:56:15<16:42, 50.13s/it]"
          ]
        },
        {
          "output_type": "stream",
          "name": "stdout",
          "text": [
            "Training Loss : 0.0006124635356842191, Testing Loss : 0.8078599019568413, Training Accuracy : 0.99988, Testing Accuracy : 0.9134\n"
          ]
        },
        {
          "output_type": "stream",
          "name": "stderr",
          "text": [
            "\r 94%|█████████▎| 281/300 [3:57:05<15:51, 50.07s/it]"
          ]
        },
        {
          "output_type": "stream",
          "name": "stdout",
          "text": [
            "Training Loss : 0.00047961143059961614, Testing Loss : 0.8196339421749115, Training Accuracy : 0.99988, Testing Accuracy : 0.9125\n"
          ]
        },
        {
          "output_type": "stream",
          "name": "stderr",
          "text": [
            "\r 94%|█████████▍| 282/300 [3:57:54<14:59, 49.96s/it]"
          ]
        },
        {
          "output_type": "stream",
          "name": "stdout",
          "text": [
            "Training Loss : 0.0005316249108401825, Testing Loss : 0.8333961469046771, Training Accuracy : 0.99984, Testing Accuracy : 0.9103\n"
          ]
        },
        {
          "output_type": "stream",
          "name": "stderr",
          "text": [
            "\r 94%|█████████▍| 283/300 [3:58:45<14:11, 50.10s/it]"
          ]
        },
        {
          "output_type": "stream",
          "name": "stdout",
          "text": [
            "Training Loss : 0.0007581076365476474, Testing Loss : 0.8343627868041397, Training Accuracy : 0.99976, Testing Accuracy : 0.9125\n"
          ]
        },
        {
          "output_type": "stream",
          "name": "stderr",
          "text": [
            "\r 95%|█████████▍| 284/300 [3:59:36<13:25, 50.32s/it]"
          ]
        },
        {
          "output_type": "stream",
          "name": "stdout",
          "text": [
            "Training Loss : 0.0006309304761715612, Testing Loss : 0.8095015579223633, Training Accuracy : 0.9998, Testing Accuracy : 0.913\n"
          ]
        },
        {
          "output_type": "stream",
          "name": "stderr",
          "text": [
            "\r 95%|█████████▌| 285/300 [4:00:26<12:35, 50.37s/it]"
          ]
        },
        {
          "output_type": "stream",
          "name": "stdout",
          "text": [
            "Training Loss : 0.0008398858370824018, Testing Loss : 0.7956558648586273, Training Accuracy : 0.99982, Testing Accuracy : 0.9127\n"
          ]
        },
        {
          "output_type": "stream",
          "name": "stderr",
          "text": [
            "\r 95%|█████████▌| 286/300 [4:01:17<11:46, 50.44s/it]"
          ]
        },
        {
          "output_type": "stream",
          "name": "stdout",
          "text": [
            "Training Loss : 0.0009611545232563004, Testing Loss : 0.8115390979528427, Training Accuracy : 0.99968, Testing Accuracy : 0.9124\n"
          ]
        },
        {
          "output_type": "stream",
          "name": "stderr",
          "text": [
            "\r 96%|█████████▌| 287/300 [4:02:07<10:56, 50.51s/it]"
          ]
        },
        {
          "output_type": "stream",
          "name": "stdout",
          "text": [
            "Training Loss : 0.0007984618407156086, Testing Loss : 0.8114164962649345, Training Accuracy : 0.99978, Testing Accuracy : 0.9138\n"
          ]
        },
        {
          "output_type": "stream",
          "name": "stderr",
          "text": [
            "\r 96%|█████████▌| 288/300 [4:02:58<10:06, 50.51s/it]"
          ]
        },
        {
          "output_type": "stream",
          "name": "stdout",
          "text": [
            "Training Loss : 0.0003594461986311944, Testing Loss : 0.8026020537018776, Training Accuracy : 0.99992, Testing Accuracy : 0.9135\n"
          ]
        },
        {
          "output_type": "stream",
          "name": "stderr",
          "text": [
            "\r 96%|█████████▋| 289/300 [4:03:48<09:15, 50.52s/it]"
          ]
        },
        {
          "output_type": "stream",
          "name": "stdout",
          "text": [
            "Training Loss : 0.0005283019926857378, Testing Loss : 0.8130520912915469, Training Accuracy : 0.99984, Testing Accuracy : 0.9133\n"
          ]
        },
        {
          "output_type": "stream",
          "name": "stderr",
          "text": [
            "\r 97%|█████████▋| 290/300 [4:04:39<08:24, 50.40s/it]"
          ]
        },
        {
          "output_type": "stream",
          "name": "stdout",
          "text": [
            "Training Loss : 0.0005184437754675673, Testing Loss : 0.8091183502405882, Training Accuracy : 0.99988, Testing Accuracy : 0.9129\n"
          ]
        },
        {
          "output_type": "stream",
          "name": "stderr",
          "text": [
            "\r 97%|█████████▋| 291/300 [4:05:28<07:31, 50.16s/it]"
          ]
        },
        {
          "output_type": "stream",
          "name": "stdout",
          "text": [
            "Training Loss : 0.0006878233515386819, Testing Loss : 0.815845765221119, Training Accuracy : 0.99974, Testing Accuracy : 0.9145\n"
          ]
        },
        {
          "output_type": "stream",
          "name": "stderr",
          "text": [
            "\r 97%|█████████▋| 292/300 [4:06:18<06:40, 50.09s/it]"
          ]
        },
        {
          "output_type": "stream",
          "name": "stdout",
          "text": [
            "Training Loss : 0.0005505097410898088, Testing Loss : 0.8061463927447796, Training Accuracy : 0.99982, Testing Accuracy : 0.9147\n"
          ]
        },
        {
          "output_type": "stream",
          "name": "stderr",
          "text": [
            "\r 98%|█████████▊| 293/300 [4:07:08<05:50, 50.08s/it]"
          ]
        },
        {
          "output_type": "stream",
          "name": "stdout",
          "text": [
            "Training Loss : 0.000577539607511062, Testing Loss : 0.8225913215756416, Training Accuracy : 0.99984, Testing Accuracy : 0.9138\n"
          ]
        },
        {
          "output_type": "stream",
          "name": "stderr",
          "text": [
            "\r 98%|█████████▊| 294/300 [4:07:58<05:00, 50.09s/it]"
          ]
        },
        {
          "output_type": "stream",
          "name": "stdout",
          "text": [
            "Training Loss : 0.0006447613436704705, Testing Loss : 0.803214879655838, Training Accuracy : 0.99976, Testing Accuracy : 0.9137\n"
          ]
        },
        {
          "output_type": "stream",
          "name": "stderr",
          "text": [
            "\r 98%|█████████▊| 295/300 [4:08:48<04:10, 50.02s/it]"
          ]
        },
        {
          "output_type": "stream",
          "name": "stdout",
          "text": [
            "Training Loss : 0.0007302580217964714, Testing Loss : 0.8315870573401452, Training Accuracy : 0.99986, Testing Accuracy : 0.9131\n"
          ]
        },
        {
          "output_type": "stream",
          "name": "stderr",
          "text": [
            "\r 99%|█████████▊| 296/300 [4:09:38<03:19, 49.96s/it]"
          ]
        },
        {
          "output_type": "stream",
          "name": "stdout",
          "text": [
            "Training Loss : 0.0005535173174060765, Testing Loss : 0.8339561965703964, Training Accuracy : 0.99988, Testing Accuracy : 0.9115\n"
          ]
        },
        {
          "output_type": "stream",
          "name": "stderr",
          "text": [
            "\r 99%|█████████▉| 297/300 [4:10:28<02:30, 50.03s/it]"
          ]
        },
        {
          "output_type": "stream",
          "name": "stdout",
          "text": [
            "Training Loss : 0.0008971744713751832, Testing Loss : 0.8305504644989967, Training Accuracy : 0.99976, Testing Accuracy : 0.9122\n"
          ]
        },
        {
          "output_type": "stream",
          "name": "stderr",
          "text": [
            "\r 99%|█████████▉| 298/300 [4:11:19<01:40, 50.18s/it]"
          ]
        },
        {
          "output_type": "stream",
          "name": "stdout",
          "text": [
            "Training Loss : 0.00045974665993097003, Testing Loss : 0.8331555531620979, Training Accuracy : 0.99986, Testing Accuracy : 0.9116\n"
          ]
        },
        {
          "output_type": "stream",
          "name": "stderr",
          "text": [
            "\r100%|█████████▉| 299/300 [4:12:09<00:50, 50.30s/it]"
          ]
        },
        {
          "output_type": "stream",
          "name": "stdout",
          "text": [
            "Training Loss : 0.0007625088465726003, Testing Loss : 0.8300924083888531, Training Accuracy : 0.99972, Testing Accuracy : 0.9129\n"
          ]
        },
        {
          "output_type": "stream",
          "name": "stderr",
          "text": [
            "100%|██████████| 300/300 [4:13:00<00:00, 50.60s/it]"
          ]
        },
        {
          "output_type": "stream",
          "name": "stdout",
          "text": [
            "Training Loss : 0.0005087458202104608, Testing Loss : 0.8380652027606964, Training Accuracy : 0.99988, Testing Accuracy : 0.9138\n"
          ]
        },
        {
          "output_type": "stream",
          "name": "stderr",
          "text": [
            "\n"
          ]
        }
      ]
    },
    {
      "cell_type": "code",
      "source": [
        "print(\"Max Testing Accuracy: %s\"%(max(test_accuracy)))\n",
        "xmax = np.argmax(test_accuracy)\n",
        "ymax = max(test_accuracy)"
      ],
      "metadata": {
        "id": "1_YJ9MmRgS1C",
        "colab": {
          "base_uri": "https://localhost:8080/"
        },
        "outputId": "a9074069-ebc5-41f0-c97c-65b1366f3fad"
      },
      "execution_count": null,
      "outputs": [
        {
          "output_type": "stream",
          "name": "stdout",
          "text": [
            "Max Testing Accuracy: 0.9147\n"
          ]
        }
      ]
    },
    {
      "cell_type": "markdown",
      "source": [
        "Plotting the graph for train loss vs test loss and also for train accuracy vs test accuracy.\n",
        "\n"
      ],
      "metadata": {
        "id": "sfs_D1c-6jnP"
      }
    },
    {
      "cell_type": "code",
      "source": [
        "# Create a figure object with two subplots, with a size of 20 by 10.\n",
        "f, (fig1, fig2) = plt.subplots(1, 2, figsize=(20, 10))\n",
        "\n",
        "# Set the number of data points in the training data to n.\n",
        "n = len(train_loss)\n",
        "\n",
        "# Plot the training loss and testing loss against the number of epochs on the first subplot.\n",
        "fig1.plot(range(n), train_loss, '-', linewidth='3', label='Train Error')\n",
        "fig1.plot(range(n), test_loss, '-', linewidth='3', label='Test Error')\n",
        "\n",
        "# Plot the training accuracy and testing accuracy against the number of epochs on the second subplot.\n",
        "fig2.plot(range(n), train_accuracy, '-', linewidth='3', label='Train Accuracy')\n",
        "fig2.plot(range(n), test_accuracy, '-', linewidth='3', label='Test Acuracy')\n",
        "\n",
        "# Annotate the maximum accuracy achieved with an arrow on the second subplot.\n",
        "fig2.annotate('max accuracy = %s'%(ymax), xy=(xmax, ymax), xytext=(xmax, ymax+0.15), arrowprops=dict(facecolor='black', shrink=0.05))\n",
        "\n",
        "# Turn on the grid lines for both subplots.\n",
        "fig1.grid(True)\n",
        "fig2.grid(True)\n",
        "\n",
        "# Add legends to both subplots.\n",
        "fig1.legend()\n",
        "fig2.legend()\n",
        "\n",
        "# Save the figure to a file named \"trainTestCurve.png\".\n",
        "f.savefig(\"./trainTestCurve.png\")\n"
      ],
      "metadata": {
        "id": "HtXDsqAXWwjc",
        "colab": {
          "base_uri": "https://localhost:8080/",
          "height": 722
        },
        "outputId": "af54d09f-04f6-4f7b-c01c-791c7fa61633"
      },
      "execution_count": null,
      "outputs": [
        {
          "output_type": "display_data",
          "data": {
            "text/plain": [
              "<Figure size 2000x1000 with 2 Axes>"
            ],
            "image/png": "[encoded data removed]"
          },
          "metadata": {}
        }
      ]
    },
    {
      "cell_type": "code",
      "source": [
        "torch.save(model.state_dict(), '/content/model1.pt')"
      ],
      "metadata": {
        "id": "MgbpPmj8gwyN"
      },
      "execution_count": null,
      "outputs": []
    },
    {
      "cell_type": "markdown",
      "source": [
        "We tried our model with 3 different optimizer, Adam, AdaGrad and AdaDelta, and below is the bar plot with their accuracy."
      ],
      "metadata": {
        "id": "qV7HhVN6-sZQ"
      }
    },
    {
      "cell_type": "code",
      "source": [
        "import matplotlib.pyplot as plt \n",
        "  \n",
        "# creating the dataset\n",
        "data = {'Adam':80.67, 'AdaGrad':87.23, 'AdaDelta':91.47}\n",
        "optimizer = list(data.keys())\n",
        "accuracy = list(data.values())\n",
        "  \n",
        "fig = plt.figure(figsize = (8, 5))\n",
        " \n",
        "# creating the bar plot\n",
        "plt.bar(optimizer, accuracy, color ='green',\n",
        "        width = 0.1)\n",
        " \n",
        "plt.xlabel(\"Optimizers\")\n",
        "plt.ylabel(\"Testing Accuracy\")\n",
        "plt.title(\"Model performance under different optimizer with same parameters\")\n",
        "plt.show()"
      ],
      "metadata": {
        "id": "1iIIQZBrxQv5",
        "colab": {
          "base_uri": "https://localhost:8080/",
          "height": 487
        },
        "outputId": "d163fc9e-f23b-4696-e21a-c6a89d04ca19"
      },
      "execution_count": null,
      "outputs": [
        {
          "output_type": "display_data",
          "data": {
            "text/plain": [
              "<Figure size 800x500 with 1 Axes>"
            ],
            "image/png": "[encoded data removed]"
          },
          "metadata": {}
        }
      ]
    },
    {
      "cell_type": "markdown",
      "source": [
        "Below we are just converting our pt model into onnx format to build the Resnet Architecture diagram"
      ],
      "metadata": {
        "id": "cynnRRrVpW_k"
      }
    },
    {
      "cell_type": "code",
      "source": [
        "pip install onnx\n"
      ],
      "metadata": {
        "colab": {
          "base_uri": "https://localhost:8080/"
        },
        "id": "EGVaYDpshUCL",
        "outputId": "8f294289-d2db-4500-cf9a-103bdb0dd871"
      },
      "execution_count": null,
      "outputs": [
        {
          "output_type": "stream",
          "name": "stdout",
          "text": [
            "Looking in indexes: https://pypi.org/simple, https://us-python.pkg.dev/colab-wheels/public/simple/\n",
            "Collecting onnx\n",
            "  Downloading onnx-1.13.1-cp39-cp39-manylinux_2_17_x86_64.manylinux2014_x86_64.whl (13.5 MB)\n",
            "\u001b[2K     \u001b[90m━━━━━━━━━━━━━━━━━━━━━━━━━━━━━━━━━━━━━━━━\u001b[0m \u001b[32m13.5/13.5 MB\u001b[0m \u001b[31m91.5 MB/s\u001b[0m eta \u001b[36m0:00:00\u001b[0m\n",
            "\u001b[?25hRequirement already satisfied: typing-extensions>=3.6.2.1 in /usr/local/lib/python3.9/dist-packages (from onnx) (4.5.0)\n",
            "Requirement already satisfied: protobuf<4,>=3.20.2 in /usr/local/lib/python3.9/dist-packages (from onnx) (3.20.3)\n",
            "Requirement already satisfied: numpy>=1.16.6 in /usr/local/lib/python3.9/dist-packages (from onnx) (1.22.4)\n",
            "Installing collected packages: onnx\n",
            "Successfully installed onnx-1.13.1\n"
          ]
        }
      ]
    },
    {
      "cell_type": "code",
      "source": [
        "model = resnet_model()\n",
        "model.load_state_dict(torch.load('/content/model1.pt'))\n",
        "# set the model to inference mode\n",
        "model.eval()\n",
        "\n",
        "# Let's create a dummy input tensor  \n",
        "dummy_input = torch.randn(4, 3, 32, 32)\n",
        "# torch.onnx.export(model, dummy_input, \"final_model.onnx\")\n",
        "\n",
        "# Export the model  \n",
        "torch.onnx.export(model,         # model being run\n",
        "      dummy_input,       # model input (or a tuple for multiple inputs)\n",
        "      \"final_model1.onnx\",       # where to save the model  \n",
        "      export_params=True,  # store the trained parameter weights inside the model file\n",
        "      opset_version=13,    # the ONNX version to export the model to\n",
        "      do_constant_folding=True,  # whether to execute constant folding for optimization\n",
        "      input_names = ['modelInput'],   # the model's input names\n",
        "      output_names = ['modelOutput'],# the model's output names\n",
        ")\n",
        "\n",
        "torch.save(model.state_dict(), 'final_model.pt')\n"
      ],
      "metadata": {
        "id": "WaCk7KjhyXxX",
        "colab": {
          "base_uri": "https://localhost:8080/"
        },
        "outputId": "633085b0-7b35-46f1-9eeb-d486d6234df1"
      },
      "execution_count": null,
      "outputs": [
        {
          "output_type": "stream",
          "name": "stdout",
          "text": [
            "\n",
            "\n",
            "Model Config: \n",
            "-------------------------------------\n",
            "N (# Layers)\t: 4 \n",
            "B (# Blocks)\t: [3, 3, 2, 3] \n",
            "C (# Channels)\t: [64, 128, 128, 256] \n",
            "F (Conv Kernel)\t: [3, 3, 3, 3] \n",
            "K (Skip Kernel)\t: [1, 1, 1, 1] \n",
            "P (Pool Kernel)\t: 4\n",
            "============= Diagnostic Run torch.onnx.export version 2.0.0+cu118 =============\n",
            "verbose: False, log level: Level.ERROR\n",
            "======================= 0 NONE 0 NOTE 0 WARNING 0 ERROR ========================\n",
            "\n"
          ]
        }
      ]
    },
    {
      "cell_type": "code",
      "source": [
        "from google.colab import files\n",
        "files.download('final_model1.onnx')\n"
      ],
      "metadata": {
        "colab": {
          "base_uri": "https://localhost:8080/",
          "height": 17
        },
        "id": "P6KVliuakCNt",
        "outputId": "b186fa46-1a36-4c18-8ae3-515dcea9d3ec"
      },
      "execution_count": null,
      "outputs": [
        {
          "output_type": "display_data",
          "data": {
            "text/plain": [
              "<IPython.core.display.Javascript object>"
            ],
            "application/javascript": [
              "\n",
              "    async function download(id, filename, size) {\n",
              "      if (!google.colab.kernel.accessAllowed) {\n",
              "        return;\n",
              "      }\n",
              "      const div = document.createElement('div');\n",
              "      const label = document.createElement('label');\n",
              "      label.textContent = `Downloading \"${filename}\": `;\n",
              "      div.appendChild(label);\n",
              "      const progress = document.createElement('progress');\n",
              "      progress.max = size;\n",
              "      div.appendChild(progress);\n",
              "      document.body.appendChild(div);\n",
              "\n",
              "      const buffers = [];\n",
              "      let downloaded = 0;\n",
              "\n",
              "      const channel = await google.colab.kernel.comms.open(id);\n",
              "      // Send a message to notify the kernel that we're ready.\n",
              "      channel.send({})\n",
              "\n",
              "      for await (const message of channel.messages) {\n",
              "        // Send a message to notify the kernel that we're ready.\n",
              "        channel.send({})\n",
              "        if (message.buffers) {\n",
              "          for (const buffer of message.buffers) {\n",
              "            buffers.push(buffer);\n",
              "            downloaded += buffer.byteLength;\n",
              "            progress.value = downloaded;\n",
              "          }\n",
              "        }\n",
              "      }\n",
              "      const blob = new Blob(buffers, {type: 'application/binary'});\n",
              "      const a = document.createElement('a');\n",
              "      a.href = window.URL.createObjectURL(blob);\n",
              "      a.download = filename;\n",
              "      div.appendChild(a);\n",
              "      a.click();\n",
              "      div.remove();\n",
              "    }\n",
              "  "
            ]
          },
          "metadata": {}
        },
        {
          "output_type": "display_data",
          "data": {
            "text/plain": [
              "<IPython.core.display.Javascript object>"
            ],
            "application/javascript": [
              "download(\"download_1714d079-4ad8-4bc8-81ac-217d32b4a201\", \"final_model1.onnx\", 19738165)"
            ]
          },
          "metadata": {}
        }
      ]
    },
    {
      "cell_type": "code",
      "source": [
        "import urllib.request\n",
        "from IPython.display import SVG, display\n",
        "\n",
        "# URL of the SVG image we are downloading\n",
        "url = \"https://svgshare.com/i/s0w.svg\"\n",
        "\n",
        "# Download the SVG image\n",
        "svg_data = urllib.request.urlopen(url).read()\n",
        "\n",
        "# Display the SVG image in Colab\n",
        "display(SVG(svg_data))\n"
      ],
      "metadata": {
        "colab": {
          "base_uri": "https://localhost:8080/",
          "height": 312
        },
        "id": "cMPfoaI6lwOL",
        "outputId": "9c8200de-28ac-4c87-fbc7-0fdc552f7c19"
      },
      "execution_count": null,
      "outputs": [
        {
          "output_type": "display_data",
          "data": {
            "text/plain": [
              "<IPython.core.display.SVG object>"
            ],
            "image/svg+xml": "<svg xmlns=\"http://www.w3.org/2000/svg\" id=\"export\" class=\"canvas\" preserveAspectRatio=\"xMidYMid meet\" style=\"\" width=\"18648\" height=\"271\"><rect id=\"background\" fill=\"#fff\" pointer-events=\"all\" width=\"18648\" height=\"271\"/><g id=\"origin\" transform=\"translate(12.3, 12.3) scale(1)\"><g id=\"clusters\" class=\"clusters\"/><g id=\"edge-paths\" class=\"edge-paths\"><defs><marker id=\"arrowhead-vee\" viewBox=\"0 0 10 10\" refX=\"9\" refY=\"5\" markerUnits=\"strokeWidth\" markerWidth=\"8\" markerHeight=\"6\" orient=\"auto\" style=\"fill: rgb(0, 0, 0);\"><path d=\"M 0 0 L 10 5 L 0 10 L 4 5 z\" style=\"stroke-width: 1;\"/></marker><marker id=\"arrowhead-vee-select\" viewBox=\"0 0 10 10\" refX=\"9\" refY=\"5\" markerUnits=\"strokeWidth\" markerWidth=\"8\" markerHeight=\"6\" orient=\"auto\" style=\"fill: rgb(238, 0, 0);\"><path d=\"M 0 0 L 10 5 L 0 10 L 4 5 z\" style=\"stroke-width: 1;\"/></marker></defs><path id=\"edge-modelInput\" class=\"edge-path\" d=\"M70.658203125,123L72.32486979166667,123C73.99153645833333,123,77.32486979166667,123,84.98079427083333,123C92.63671875,123,104.615234375,123,116.59375,123C128.572265625,123,140.55078125,123,148.20670572916666,123C155.86263020833334,123,159.19596354166666,123,160.86263020833334,123L162.529296875,123\" style=\"stroke: rgb(0, 0, 0); stroke-width: 1px; fill: none; marker-end: url(&quot;#arrowhead-vee&quot;);\"/><path id=\"edge-/conv1/Conv_output_0\" class=\"edge-path\" d=\"M251.400390625,123L261.5458984375,123C271.69140625,123,291.982421875,123,312.2734375,123C332.564453125,123,352.85546875,123,363.0009765625,123L373.146484375,123\" style=\"stroke: rgb(0, 0, 0); stroke-width: 1px; fill: none; marker-end: url(&quot;#arrowhead-vee&quot;);\"/><path id=\"edge-/Relu_output_0\" class=\"edge-path\" d=\"M412.51480162377453,134.5L419.9871882021038,138.95833333333334C427.459574780433,143.41666666666666,442.4043479370915,152.33333333333334,457.2125906352124,156.79166666666666C472.0208333333333,161.25,486.6925455729167,161.25,494.0284016927083,161.25L501.3642578125,161.25\" style=\"stroke: rgb(0, 0, 0); stroke-width: 1px; fill: none; marker-end: url(&quot;#arrowhead-vee&quot;);\"/><path id=\"edge-/Relu_output_0\" class=\"edge-path\" d=\"M412.51480162377453,111.5L419.9871882021038,107.04166666666667C427.459574780433,102.58333333333333,442.4043479370915,93.66666666666667,469.96840932010826,89.20833333333333C497.532470703125,84.75,537.7158203125,84.75,586.3956705729166,84.75C635.0755208333334,84.75,692.2518717447916,84.75,746.2778727213541,84.75C800.3038736979166,84.75,851.1795247395834,84.75,899.2455240885416,84.75C947.3115234375,84.75,992.56787109375,84.75,1040.9745686848958,84.75C1089.3812662760417,84.75,1140.9383138020833,84.75,1195.3050130208333,84.75C1249.6717122395833,84.75,1306.8480631510417,84.75,1353.1760070401858,89.20833333333333C1399.5039509293301,93.66666666666667,1434.9834877961603,102.58333333333333,1452.723256229575,107.04166666666667L1470.4630246629902,111.5\" style=\"stroke: rgb(0, 0, 0); stroke-width: 1px; fill: none; marker-end: url(&quot;#arrowhead-vee&quot;);\"/><path id=\"edge-/layer1/layer1.0/conv1/Conv_output_0\" class=\"edge-path\" d=\"M654.43408203125,161.25L670.2664388020834,161.25C686.0987955729166,161.25,717.7635091145834,161.25,749.42822265625,161.25C781.0929361979166,161.25,812.7576497395834,161.25,828.5900065104166,161.25L844.42236328125,161.25\" style=\"stroke: rgb(0, 0, 0); stroke-width: 1px; fill: none; marker-end: url(&quot;#arrowhead-vee&quot;);\"/><path id=\"edge-/layer1/layer1.0/Relu_output_0\" class=\"edge-path\" d=\"M959.68798828125,161.25L972.710693359375,161.25C985.7333984375,161.25,1011.77880859375,161.25,1037.82421875,161.25C1063.86962890625,161.25,1089.9150390625,161.25,1102.937744140625,161.25L1115.96044921875,161.25\" style=\"stroke: rgb(0, 0, 0); stroke-width: 1px; fill: none; marker-end: url(&quot;#arrowhead-vee&quot;);\"/><path id=\"edge-/layer1/layer1.0/conv2/Conv_output_0\" class=\"edge-path\" d=\"M1269.0302734375,161.25L1284.8626302083333,161.25C1300.6949869791667,161.25,1332.3597005208333,161.25,1365.9318257250816,156.79166666666666C1399.5039509293301,152.33333333333334,1434.9834877961603,143.41666666666666,1452.723256229575,138.95833333333334L1470.4630246629902,134.5\" style=\"stroke: rgb(0, 0, 0); stroke-width: 1px; fill: none; marker-end: url(&quot;#arrowhead-vee&quot;);\"/><path id=\"edge-/layer1/layer1.0/Add_output_0\" class=\"edge-path\" d=\"M1573.4248046875,123L1586.3832194010417,123C1599.3416341145833,123,1625.2584635416667,123,1651.17529296875,123C1677.0921223958333,123,1703.0089518229167,123,1715.9673665364583,123L1728.92578125,123\" style=\"stroke: rgb(0, 0, 0); stroke-width: 1px; fill: none; marker-end: url(&quot;#arrowhead-vee&quot;);\"/><path id=\"edge-/layer1/layer1.0/Relu_1_output_0\" class=\"edge-path\" d=\"M1835.6305849162582,134.5L1852.6225740187567,138.95833333333334C1869.6145631212555,143.41666666666666,1903.5985413262526,152.33333333333334,1934.408320142293,156.79166666666666C1965.2180989583333,161.25,1992.8536783854167,161.25,2006.6714680989583,161.25L2020.4892578125,161.25\" style=\"stroke: rgb(0, 0, 0); stroke-width: 1px; fill: none; marker-end: url(&quot;#arrowhead-vee&quot;);\"/><path id=\"edge-/layer1/layer1.0/Relu_1_output_0\" class=\"edge-path\" d=\"M1835.6305849162582,111.5L1852.6225740187567,107.04166666666667C1869.6145631212555,102.58333333333333,1903.5985413262526,93.66666666666667,1947.164138827189,89.20833333333333C1990.729736328125,84.75,2043.876953125,84.75,2099.0387369791665,84.75C2154.2005208333335,84.75,2211.3768717447915,84.75,2267.948527018229,84.75C2324.5201822916665,84.75,2380.4871419270835,84.75,2433.6444498697915,84.75C2486.8017578125,84.75,2537.1494140625,84.75,2588.101765950521,84.75C2639.0541178385415,84.75,2690.6111653645835,84.75,2744.9778645833335,84.75C2799.3445638020835,84.75,2856.5209147135415,84.75,2902.8488586026856,89.20833333333333C2949.1768024918297,93.66666666666667,2984.6563393586603,102.58333333333333,3002.3961077920753,107.04166666666667L3020.1358762254904,111.5\" style=\"stroke: rgb(0, 0, 0); stroke-width: 1px; fill: none; marker-end: url(&quot;#arrowhead-vee&quot;);\"/><path id=\"edge-/layer1/layer1.1/conv1/Conv_output_0\" class=\"edge-path\" d=\"M2173.55908203125,161.25L2189.3914388020835,161.25C2205.2237955729165,161.25,2236.8885091145835,161.25,2271.098876953125,161.25C2305.3092447916665,161.25,2342.0652669270835,161.25,2360.4432779947915,161.25L2378.8212890625,161.25\" style=\"stroke: rgb(0, 0, 0); stroke-width: 1px; fill: none; marker-end: url(&quot;#arrowhead-vee&quot;);\"/><path id=\"edge-/layer1/layer1.1/Relu_output_0\" class=\"edge-path\" d=\"M2494.0869140625,161.25L2509.6552734375,161.25C2525.2236328125,161.25,2556.3603515625,161.25,2584.951416015625,161.25C2613.54248046875,161.25,2639.587890625,161.25,2652.610595703125,161.25L2665.63330078125,161.25\" style=\"stroke: rgb(0, 0, 0); stroke-width: 1px; fill: none; marker-end: url(&quot;#arrowhead-vee&quot;);\"/><path id=\"edge-/layer1/layer1.1/conv2/Conv_output_0\" class=\"edge-path\" d=\"M2818.703125,161.25L2834.5354817708335,161.25C2850.3678385416665,161.25,2882.0325520833335,161.25,2915.6046772875816,156.79166666666666C2949.1768024918297,152.33333333333334,2984.6563393586603,143.41666666666666,3002.3961077920753,138.95833333333334L3020.1358762254904,134.5\" style=\"stroke: rgb(0, 0, 0); stroke-width: 1px; fill: none; marker-end: url(&quot;#arrowhead-vee&quot;);\"/><path id=\"edge-/layer1/layer1.1/Add_output_0\" class=\"edge-path\" d=\"M3123.09765625,123L3136.0560709635415,123C3149.0144856770835,123,3174.9313151041665,123,3200.84814453125,123C3226.7649739583335,123,3252.6818033854165,123,3265.6402180989585,123L3278.5986328125,123\" style=\"stroke: rgb(0, 0, 0); stroke-width: 1px; fill: none; marker-end: url(&quot;#arrowhead-vee&quot;);\"/><path id=\"edge-/layer1/layer1.1/Relu_1_output_0\" class=\"edge-path\" d=\"M3385.303436478758,134.5L3402.295425581257,138.95833333333334C3419.2874146837553,143.41666666666666,3453.271392888753,152.33333333333334,3484.081171704793,156.79166666666666C3514.8909505208335,161.25,3542.5265299479165,161.25,3556.3443196614585,161.25L3570.162109375,161.25\" style=\"stroke: rgb(0, 0, 0); stroke-width: 1px; fill: none; marker-end: url(&quot;#arrowhead-vee&quot;);\"/><path id=\"edge-/layer1/layer1.1/Relu_1_output_0\" class=\"edge-path\" d=\"M3385.303436478758,111.5L3402.295425581257,107.04166666666667C3419.2874146837553,102.58333333333333,3453.271392888753,93.66666666666667,3496.836990389689,89.20833333333333C3540.402587890625,84.75,3593.5498046875,84.75,3648.7115885416665,84.75C3703.8733723958335,84.75,3761.0497233072915,84.75,3817.621378580729,84.75C3874.1930338541665,84.75,3930.1599934895835,84.75,3983.3173014322915,84.75C4036.474609375,84.75,4086.822265625,84.75,4137.7746175130205,84.75C4188.726969401042,84.75,4240.284016927083,84.75,4294.650716145833,84.75C4349.017415364583,84.75,4406.193766276042,84.75,4452.521710165186,89.20833333333333C4498.84965405433,93.66666666666667,4534.32919092116,102.58333333333333,4552.068959354575,107.04166666666667L4569.80872778799,111.5\" style=\"stroke: rgb(0, 0, 0); stroke-width: 1px; fill: none; marker-end: url(&quot;#arrowhead-vee&quot;);\"/><path id=\"edge-/layer1/layer1.2/conv1/Conv_output_0\" class=\"edge-path\" d=\"M3723.23193359375,161.25L3739.0642903645835,161.25C3754.8966471354165,161.25,3786.5613606770835,161.25,3820.771728515625,161.25C3854.9820963541665,161.25,3891.7381184895835,161.25,3910.1161295572915,161.25L3928.494140625,161.25\" style=\"stroke: rgb(0, 0, 0); stroke-width: 1px; fill: none; marker-end: url(&quot;#arrowhead-vee&quot;);\"/><path id=\"edge-/layer1/layer1.2/Relu_output_0\" class=\"edge-path\" d=\"M4043.759765625,161.25L4059.328125,161.25C4074.896484375,161.25,4106.033203125,161.25,4134.624267578125,161.25C4163.21533203125,161.25,4189.2607421875,161.25,4202.283447265625,161.25L4215.30615234375,161.25\" style=\"stroke: rgb(0, 0, 0); stroke-width: 1px; fill: none; marker-end: url(&quot;#arrowhead-vee&quot;);\"/><path id=\"edge-/layer1/layer1.2/conv2/Conv_output_0\" class=\"edge-path\" d=\"M4368.3759765625,161.25L4384.208333333333,161.25C4400.040690104167,161.25,4431.705403645833,161.25,4465.277528850082,156.79166666666666C4498.84965405433,152.33333333333334,4534.32919092116,143.41666666666666,4552.068959354575,138.95833333333334L4569.80872778799,134.5\" style=\"stroke: rgb(0, 0, 0); stroke-width: 1px; fill: none; marker-end: url(&quot;#arrowhead-vee&quot;);\"/><path id=\"edge-/layer1/layer1.2/Add_output_0\" class=\"edge-path\" d=\"M4672.7705078125,123L4685.728922526042,123C4698.687337239583,123,4724.604166666667,123,4750.52099609375,123C4776.437825520833,123,4802.354654947917,123,4815.313069661458,123L4828.271484375,123\" style=\"stroke: rgb(0, 0, 0); stroke-width: 1px; fill: none; marker-end: url(&quot;#arrowhead-vee&quot;);\"/><path id=\"edge-/layer1/layer1.2/Relu_1_output_0\" class=\"edge-path\" d=\"M4916.356860167998,111.5L4936.452087249373,102.33333333333333C4956.547314330749,93.16666666666667,4996.737768493499,74.83333333333333,5030.650785288416,65.66666666666667C5064.563802083333,56.5,5092.199381510417,56.5,5106.017171223958,56.5L5119.8349609375,56.5\" style=\"stroke: rgb(0, 0, 0); stroke-width: 1px; fill: none; marker-end: url(&quot;#arrowhead-vee&quot;);\"/><path id=\"edge-/layer1/layer1.2/Relu_1_output_0\" class=\"edge-path\" d=\"M4916.356860167998,134.5L4936.452087249373,143.66666666666666C4956.547314330749,152.83333333333334,4996.737768493499,171.16666666666666,5043.4066039733125,180.33333333333334C5090.075439453125,189.5,5143.22265625,189.5,5198.384440104167,189.5C5253.546223958333,189.5,5310.722574869792,189.5,5364.7485758463545,189.5C5418.774576822917,189.5,5469.650227864583,189.5,5517.716227213542,189.5C5565.7822265625,189.5,5611.03857421875,189.5,5646.689453125,189.5C5682.34033203125,189.5,5708.3857421875,189.5,5721.408447265625,189.5L5734.43115234375,189.5\" style=\"stroke: rgb(0, 0, 0); stroke-width: 1px; fill: none; marker-end: url(&quot;#arrowhead-vee&quot;);\"/><path id=\"edge-/layer2/layer2.0/conv1/Conv_output_0\" class=\"edge-path\" d=\"M5272.90478515625,56.5L5288.737141927083,56.5C5304.569498697917,56.5,5336.234212239583,56.5,5367.89892578125,56.5C5399.563639322917,56.5,5431.228352864583,56.5,5447.060709635417,56.5L5462.89306640625,56.5\" style=\"stroke: rgb(0, 0, 0); stroke-width: 1px; fill: none; marker-end: url(&quot;#arrowhead-vee&quot;);\"/><path id=\"edge-/layer2/layer2.0/Relu_output_0\" class=\"edge-path\" d=\"M5578.15869140625,56.5L5591.181396484375,56.5C5604.2041015625,56.5,5630.24951171875,56.5,5661.586344401042,56.5C5692.923177083333,56.5,5729.551432291667,56.5,5747.865559895833,56.5L5766.1796875,56.5\" style=\"stroke: rgb(0, 0, 0); stroke-width: 1px; fill: none; marker-end: url(&quot;#arrowhead-vee&quot;);\"/><path id=\"edge-/layer2/layer2.0/conv2/Conv_output_0\" class=\"edge-path\" d=\"M5919.24951171875,56.5L5945.183675130208,56.5C5971.117838541667,56.5,6022.986165364583,56.5,6073.8784149093435,65.66666666666667C6124.770664454104,74.83333333333333,6174.686836720709,93.16666666666667,6199.6449228540105,102.33333333333333L6224.603008987312,111.5\" style=\"stroke: rgb(0, 0, 0); stroke-width: 1px; fill: none; marker-end: url(&quot;#arrowhead-vee&quot;);\"/><path id=\"edge-/layer2/layer2.0/shortcut/shortcut.0/Conv_output_0\" class=\"edge-path\" d=\"M5950.998046875,189.5L5971.640787760417,189.5C5992.283528645833,189.5,6033.569010416667,189.5,6079.169837435385,180.33333333333334C6124.770664454104,171.16666666666666,6174.686836720709,152.83333333333334,6199.6449228540105,143.66666666666666L6224.603008987312,134.5\" style=\"stroke: rgb(0, 0, 0); stroke-width: 1px; fill: none; marker-end: url(&quot;#arrowhead-vee&quot;);\"/><path id=\"edge-/layer2/layer2.0/Add_output_0\" class=\"edge-path\" d=\"M6313.1171875,123L6326.075602213542,123C6339.034016927083,123,6364.950846354167,123,6390.86767578125,123C6416.784505208333,123,6442.701334635417,123,6455.659749348958,123L6468.6181640625,123\" style=\"stroke: rgb(0, 0, 0); stroke-width: 1px; fill: none; marker-end: url(&quot;#arrowhead-vee&quot;);\"/><path id=\"edge-/layer2/layer2.0/Relu_1_output_0\" class=\"edge-path\" d=\"M6575.322967728758,134.5L6592.314956831257,138.95833333333334C6609.306945933756,143.41666666666666,6643.290924138753,152.33333333333334,6674.100702954794,156.79166666666666C6704.910481770833,161.25,6732.546061197917,161.25,6746.363850911458,161.25L6760.181640625,161.25\" style=\"stroke: rgb(0, 0, 0); stroke-width: 1px; fill: none; marker-end: url(&quot;#arrowhead-vee&quot;);\"/><path id=\"edge-/layer2/layer2.0/Relu_1_output_0\" class=\"edge-path\" d=\"M6575.322967728758,111.5L6592.314956831257,107.04166666666667C6609.306945933756,102.58333333333333,6643.290924138753,93.66666666666667,6686.856521639689,89.20833333333333C6730.422119140625,84.75,6783.5693359375,84.75,6838.731119791667,84.75C6893.892903645833,84.75,6951.069254557292,84.75,7007.6409098307295,84.75C7064.212565104167,84.75,7120.179524739583,84.75,7173.336832682292,84.75C7226.494140625,84.75,7276.841796875,84.75,7327.7941487630205,84.75C7378.746500651042,84.75,7430.303548177083,84.75,7484.670247395833,84.75C7539.036946614583,84.75,7596.213297526042,84.75,7642.541241415186,89.20833333333333C7688.86918530433,93.66666666666667,7724.348722171159,102.58333333333333,7742.088490604575,107.04166666666667L7759.82825903799,111.5\" style=\"stroke: rgb(0, 0, 0); stroke-width: 1px; fill: none; marker-end: url(&quot;#arrowhead-vee&quot;);\"/><path id=\"edge-/layer2/layer2.1/conv1/Conv_output_0\" class=\"edge-path\" d=\"M6913.25146484375,161.25L6929.083821614583,161.25C6944.916178385417,161.25,6976.580891927083,161.25,7010.791259765625,161.25C7045.001627604167,161.25,7081.757649739583,161.25,7100.135660807292,161.25L7118.513671875,161.25\" style=\"stroke: rgb(0, 0, 0); stroke-width: 1px; fill: none; marker-end: url(&quot;#arrowhead-vee&quot;);\"/><path id=\"edge-/layer2/layer2.1/Relu_output_0\" class=\"edge-path\" d=\"M7233.779296875,161.25L7249.34765625,161.25C7264.916015625,161.25,7296.052734375,161.25,7324.643798828125,161.25C7353.23486328125,161.25,7379.2802734375,161.25,7392.302978515625,161.25L7405.32568359375,161.25\" style=\"stroke: rgb(0, 0, 0); stroke-width: 1px; fill: none; marker-end: url(&quot;#arrowhead-vee&quot;);\"/><path id=\"edge-/layer2/layer2.1/conv2/Conv_output_0\" class=\"edge-path\" d=\"M7558.3955078125,161.25L7574.227864583333,161.25C7590.060221354167,161.25,7621.724934895833,161.25,7655.297060100082,156.79166666666666C7688.86918530433,152.33333333333334,7724.348722171159,143.41666666666666,7742.088490604575,138.95833333333334L7759.82825903799,134.5\" style=\"stroke: rgb(0, 0, 0); stroke-width: 1px; fill: none; marker-end: url(&quot;#arrowhead-vee&quot;);\"/><path id=\"edge-/layer2/layer2.1/Add_output_0\" class=\"edge-path\" d=\"M7862.7900390625,123L7875.748453776042,123C7888.706868489583,123,7914.623697916667,123,7940.54052734375,123C7966.457356770833,123,7992.374186197917,123,8005.332600911458,123L8018.291015625,123\" style=\"stroke: rgb(0, 0, 0); stroke-width: 1px; fill: none; marker-end: url(&quot;#arrowhead-vee&quot;);\"/><path id=\"edge-/layer2/layer2.1/Relu_1_output_0\" class=\"edge-path\" d=\"M8124.995819291258,134.5L8141.987808393757,138.95833333333334C8158.979797496256,143.41666666666666,8192.963775701253,152.33333333333334,8223.773554517293,156.79166666666666C8254.583333333334,161.25,8282.218912760416,161.25,8296.036702473959,161.25L8309.8544921875,161.25\" style=\"stroke: rgb(0, 0, 0); stroke-width: 1px; fill: none; marker-end: url(&quot;#arrowhead-vee&quot;);\"/><path id=\"edge-/layer2/layer2.1/Relu_1_output_0\" class=\"edge-path\" d=\"M8124.995819291258,111.5L8141.987808393757,107.04166666666667C8158.979797496256,102.58333333333333,8192.963775701253,93.66666666666667,8236.52937320219,89.20833333333333C8280.094970703125,84.75,8333.2421875,84.75,8388.403971354166,84.75C8443.565755208334,84.75,8500.742106119791,84.75,8557.313761393229,84.75C8613.885416666666,84.75,8669.852376302084,84.75,8723.009684244791,84.75C8776.1669921875,84.75,8826.5146484375,84.75,8877.467000325521,84.75C8928.419352213541,84.75,8979.976399739584,84.75,9034.343098958334,84.75C9088.709798177084,84.75,9145.886149088541,84.75,9192.214092977685,89.20833333333333C9238.54203686683,93.66666666666667,9274.02157373366,102.58333333333333,9291.761342167074,107.04166666666667L9309.50111060049,111.5\" style=\"stroke: rgb(0, 0, 0); stroke-width: 1px; fill: none; marker-end: url(&quot;#arrowhead-vee&quot;);\"/><path id=\"edge-/layer2/layer2.2/conv1/Conv_output_0\" class=\"edge-path\" d=\"M8462.92431640625,161.25L8478.756673177084,161.25C8494.589029947916,161.25,8526.253743489584,161.25,8560.464111328125,161.25C8594.674479166666,161.25,8631.430501302084,161.25,8649.808512369791,161.25L8668.1865234375,161.25\" style=\"stroke: rgb(0, 0, 0); stroke-width: 1px; fill: none; marker-end: url(&quot;#arrowhead-vee&quot;);\"/><path id=\"edge-/layer2/layer2.2/Relu_output_0\" class=\"edge-path\" d=\"M8783.4521484375,161.25L8799.0205078125,161.25C8814.5888671875,161.25,8845.7255859375,161.25,8874.316650390625,161.25C8902.90771484375,161.25,8928.953125,161.25,8941.975830078125,161.25L8954.99853515625,161.25\" style=\"stroke: rgb(0, 0, 0); stroke-width: 1px; fill: none; marker-end: url(&quot;#arrowhead-vee&quot;);\"/><path id=\"edge-/layer2/layer2.2/conv2/Conv_output_0\" class=\"edge-path\" d=\"M9108.068359375,161.25L9123.900716145834,161.25C9139.733072916666,161.25,9171.397786458334,161.25,9204.969911662582,156.79166666666666C9238.54203686683,152.33333333333334,9274.02157373366,143.41666666666666,9291.761342167074,138.95833333333334L9309.50111060049,134.5\" style=\"stroke: rgb(0, 0, 0); stroke-width: 1px; fill: none; marker-end: url(&quot;#arrowhead-vee&quot;);\"/><path id=\"edge-/layer2/layer2.2/Add_output_0\" class=\"edge-path\" d=\"M9412.462890625,123L9425.421305338541,123C9438.379720052084,123,9464.296549479166,123,9490.21337890625,123C9516.130208333334,123,9542.047037760416,123,9555.005452473959,123L9567.9638671875,123\" style=\"stroke: rgb(0, 0, 0); stroke-width: 1px; fill: none; marker-end: url(&quot;#arrowhead-vee&quot;);\"/><path id=\"edge-/layer2/layer2.2/Relu_1_output_0\" class=\"edge-path\" d=\"M9656.049242980498,111.5L9676.144470061874,102.33333333333333C9696.239697143248,93.16666666666667,9736.430151306,74.83333333333333,9770.343168100917,65.66666666666667C9804.256184895834,56.5,9831.891764322916,56.5,9845.709554036459,56.5L9859.52734375,56.5\" style=\"stroke: rgb(0, 0, 0); stroke-width: 1px; fill: none; marker-end: url(&quot;#arrowhead-vee&quot;);\"/><path id=\"edge-/layer2/layer2.2/Relu_1_output_0\" class=\"edge-path\" d=\"M9656.049242980498,134.5L9676.144470061874,143.66666666666666C9696.239697143248,152.83333333333334,9736.430151306,171.16666666666666,9783.098986785813,180.33333333333334C9829.767822265625,189.5,9882.9150390625,189.5,9938.076822916666,189.5C9993.238606770834,189.5,10050.414957682291,189.5,10104.440958658854,189.5C10158.466959635416,189.5,10209.342610677084,189.5,10257.408610026041,189.5C10305.474609375,189.5,10350.73095703125,189.5,10386.3818359375,189.5C10422.03271484375,189.5,10448.078125,189.5,10461.100830078125,189.5L10474.12353515625,189.5\" style=\"stroke: rgb(0, 0, 0); stroke-width: 1px; fill: none; marker-end: url(&quot;#arrowhead-vee&quot;);\"/><path id=\"edge-/layer3/layer3.0/conv1/Conv_output_0\" class=\"edge-path\" d=\"M10012.59716796875,56.5L10028.429524739584,56.5C10044.261881510416,56.5,10075.926595052084,56.5,10107.59130859375,56.5C10139.256022135416,56.5,10170.920735677084,56.5,10186.753092447916,56.5L10202.58544921875,56.5\" style=\"stroke: rgb(0, 0, 0); stroke-width: 1px; fill: none; marker-end: url(&quot;#arrowhead-vee&quot;);\"/><path id=\"edge-/layer3/layer3.0/Relu_output_0\" class=\"edge-path\" d=\"M10317.85107421875,56.5L10330.873779296875,56.5C10343.896484375,56.5,10369.94189453125,56.5,10401.278727213541,56.5C10432.615559895834,56.5,10469.243815104166,56.5,10487.557942708334,56.5L10505.8720703125,56.5\" style=\"stroke: rgb(0, 0, 0); stroke-width: 1px; fill: none; marker-end: url(&quot;#arrowhead-vee&quot;);\"/><path id=\"edge-/layer3/layer3.0/conv2/Conv_output_0\" class=\"edge-path\" d=\"M10658.94189453125,56.5L10684.876057942709,56.5C10710.810221354166,56.5,10762.678548177084,56.5,10813.570797721843,65.66666666666667C10864.463047266605,74.83333333333333,10914.379219533208,93.16666666666667,10939.33730566651,102.33333333333333L10964.295391799813,111.5\" style=\"stroke: rgb(0, 0, 0); stroke-width: 1px; fill: none; marker-end: url(&quot;#arrowhead-vee&quot;);\"/><path id=\"edge-/layer3/layer3.0/shortcut/shortcut.0/Conv_output_0\" class=\"edge-path\" d=\"M10690.6904296875,189.5L10711.333170572916,189.5C10731.975911458334,189.5,10773.261393229166,189.5,10818.862220247885,180.33333333333334C10864.463047266605,171.16666666666666,10914.379219533208,152.83333333333334,10939.33730566651,143.66666666666666L10964.295391799813,134.5\" style=\"stroke: rgb(0, 0, 0); stroke-width: 1px; fill: none; marker-end: url(&quot;#arrowhead-vee&quot;);\"/><path id=\"edge-/layer3/layer3.0/Add_output_0\" class=\"edge-path\" d=\"M11052.8095703125,123L11065.767985026041,123C11078.726399739584,123,11104.643229166666,123,11130.56005859375,123C11156.476888020834,123,11182.393717447916,123,11195.352132161459,123L11208.310546875,123\" style=\"stroke: rgb(0, 0, 0); stroke-width: 1px; fill: none; marker-end: url(&quot;#arrowhead-vee&quot;);\"/><path id=\"edge-/layer3/layer3.0/Relu_1_output_0\" class=\"edge-path\" d=\"M11315.015350541258,134.5L11332.007339643756,138.95833333333334C11348.999328746257,143.41666666666666,11382.983306951253,152.33333333333334,11413.793085767293,156.79166666666666C11444.602864583334,161.25,11472.238444010416,161.25,11486.056233723959,161.25L11499.8740234375,161.25\" style=\"stroke: rgb(0, 0, 0); stroke-width: 1px; fill: none; marker-end: url(&quot;#arrowhead-vee&quot;);\"/><path id=\"edge-/layer3/layer3.0/Relu_1_output_0\" class=\"edge-path\" d=\"M11315.015350541258,111.5L11332.007339643756,107.04166666666667C11348.999328746257,102.58333333333333,11382.983306951253,93.66666666666667,11426.54890445219,89.20833333333333C11470.114501953125,84.75,11523.26171875,84.75,11578.423502604166,84.75C11633.585286458334,84.75,11690.761637369791,84.75,11747.333292643229,84.75C11803.904947916666,84.75,11859.871907552084,84.75,11913.029215494791,84.75C11966.1865234375,84.75,12016.5341796875,84.75,12067.486531575521,84.75C12118.438883463541,84.75,12169.995930989584,84.75,12224.362630208334,84.75C12278.729329427084,84.75,12335.905680338541,84.75,12382.233624227685,89.20833333333333C12428.56156811683,93.66666666666667,12464.04110498366,102.58333333333333,12481.780873417074,107.04166666666667L12499.52064185049,111.5\" style=\"stroke: rgb(0, 0, 0); stroke-width: 1px; fill: none; marker-end: url(&quot;#arrowhead-vee&quot;);\"/><path id=\"edge-/layer3/layer3.1/conv1/Conv_output_0\" class=\"edge-path\" d=\"M11652.94384765625,161.25L11668.776204427084,161.25C11684.608561197916,161.25,11716.273274739584,161.25,11750.483642578125,161.25C11784.694010416666,161.25,11821.450032552084,161.25,11839.828043619791,161.25L11858.2060546875,161.25\" style=\"stroke: rgb(0, 0, 0); stroke-width: 1px; fill: none; marker-end: url(&quot;#arrowhead-vee&quot;);\"/><path id=\"edge-/layer3/layer3.1/Relu_output_0\" class=\"edge-path\" d=\"M11973.4716796875,161.25L11989.0400390625,161.25C12004.6083984375,161.25,12035.7451171875,161.25,12064.336181640625,161.25C12092.92724609375,161.25,12118.97265625,161.25,12131.995361328125,161.25L12145.01806640625,161.25\" style=\"stroke: rgb(0, 0, 0); stroke-width: 1px; fill: none; marker-end: url(&quot;#arrowhead-vee&quot;);\"/><path id=\"edge-/layer3/layer3.1/conv2/Conv_output_0\" class=\"edge-path\" d=\"M12298.087890625,161.25L12313.920247395834,161.25C12329.752604166666,161.25,12361.417317708334,161.25,12394.98944291258,156.79166666666666C12428.56156811683,152.33333333333334,12464.04110498366,143.41666666666666,12481.780873417074,138.95833333333334L12499.52064185049,134.5\" style=\"stroke: rgb(0, 0, 0); stroke-width: 1px; fill: none; marker-end: url(&quot;#arrowhead-vee&quot;);\"/><path id=\"edge-/layer3/layer3.1/Add_output_0\" class=\"edge-path\" d=\"M12602.482421875,123L12615.440836588541,123C12628.399251302084,123,12654.316080729166,123,12680.23291015625,123C12706.149739583334,123,12732.066569010416,123,12745.024983723959,123L12757.9833984375,123\" style=\"stroke: rgb(0, 0, 0); stroke-width: 1px; fill: none; marker-end: url(&quot;#arrowhead-vee&quot;);\"/><path id=\"edge-/layer3/layer3.1/Relu_1_output_0\" class=\"edge-path\" d=\"M12846.068774230498,111.5L12866.164001311874,102.33333333333333C12886.259228393248,93.16666666666667,12926.449682556,74.83333333333333,12960.362699350917,65.66666666666667C12994.275716145834,56.5,13021.911295572916,56.5,13035.729085286459,56.5L13049.546875,56.5\" style=\"stroke: rgb(0, 0, 0); stroke-width: 1px; fill: none; marker-end: url(&quot;#arrowhead-vee&quot;);\"/><path id=\"edge-/layer3/layer3.1/Relu_1_output_0\" class=\"edge-path\" d=\"M12846.068774230498,134.5L12866.164001311874,143.66666666666666C12886.259228393248,152.83333333333334,12926.449682556,171.16666666666666,12973.118518035813,180.33333333333334C13019.787353515625,189.5,13072.9345703125,189.5,13128.096354166666,189.5C13183.258138020834,189.5,13240.434488932291,189.5,13294.460489908854,189.5C13348.486490885416,189.5,13399.362141927084,189.5,13447.428141276041,189.5C13495.494140625,189.5,13540.75048828125,189.5,13576.4013671875,189.5C13612.05224609375,189.5,13638.09765625,189.5,13651.120361328125,189.5L13664.14306640625,189.5\" style=\"stroke: rgb(0, 0, 0); stroke-width: 1px; fill: none; marker-end: url(&quot;#arrowhead-vee&quot;);\"/><path id=\"edge-/layer4/layer4.0/conv1/Conv_output_0\" class=\"edge-path\" d=\"M13202.61669921875,56.5L13218.449055989584,56.5C13234.281412760416,56.5,13265.946126302084,56.5,13297.61083984375,56.5C13329.275553385416,56.5,13360.940266927084,56.5,13376.772623697916,56.5L13392.60498046875,56.5\" style=\"stroke: rgb(0, 0, 0); stroke-width: 1px; fill: none; marker-end: url(&quot;#arrowhead-vee&quot;);\"/><path id=\"edge-/layer4/layer4.0/Relu_output_0\" class=\"edge-path\" d=\"M13507.87060546875,56.5L13520.893310546875,56.5C13533.916015625,56.5,13559.96142578125,56.5,13591.298258463541,56.5C13622.635091145834,56.5,13659.263346354166,56.5,13677.577473958334,56.5L13695.8916015625,56.5\" style=\"stroke: rgb(0, 0, 0); stroke-width: 1px; fill: none; marker-end: url(&quot;#arrowhead-vee&quot;);\"/><path id=\"edge-/layer4/layer4.0/conv2/Conv_output_0\" class=\"edge-path\" d=\"M13848.96142578125,56.5L13874.895589192709,56.5C13900.829752604166,56.5,13952.698079427084,56.5,14003.590328971843,65.66666666666667C14054.482578516603,74.83333333333333,14104.398750783208,93.16666666666667,14129.35683691651,102.33333333333333L14154.314923049813,111.5\" style=\"stroke: rgb(0, 0, 0); stroke-width: 1px; fill: none; marker-end: url(&quot;#arrowhead-vee&quot;);\"/><path id=\"edge-/layer4/layer4.0/shortcut/shortcut.0/Conv_output_0\" class=\"edge-path\" d=\"M13880.7099609375,189.5L13901.352701822916,189.5C13921.995442708334,189.5,13963.280924479166,189.5,14008.881751497885,180.33333333333334C14054.482578516603,171.16666666666666,14104.398750783208,152.83333333333334,14129.35683691651,143.66666666666666L14154.314923049813,134.5\" style=\"stroke: rgb(0, 0, 0); stroke-width: 1px; fill: none; marker-end: url(&quot;#arrowhead-vee&quot;);\"/><path id=\"edge-/layer4/layer4.0/Add_output_0\" class=\"edge-path\" d=\"M14242.8291015625,123L14255.787516276041,123C14268.745930989584,123,14294.662760416666,123,14320.57958984375,123C14346.496419270834,123,14372.413248697916,123,14385.371663411459,123L14398.330078125,123\" style=\"stroke: rgb(0, 0, 0); stroke-width: 1px; fill: none; marker-end: url(&quot;#arrowhead-vee&quot;);\"/><path id=\"edge-/layer4/layer4.0/Relu_1_output_0\" class=\"edge-path\" d=\"M14505.034881791258,134.5L14522.026870893756,138.95833333333334C14539.018859996257,143.41666666666666,14573.002838201253,152.33333333333334,14603.812617017293,156.79166666666666C14634.622395833334,161.25,14662.257975260416,161.25,14676.075764973959,161.25L14689.8935546875,161.25\" style=\"stroke: rgb(0, 0, 0); stroke-width: 1px; fill: none; marker-end: url(&quot;#arrowhead-vee&quot;);\"/><path id=\"edge-/layer4/layer4.0/Relu_1_output_0\" class=\"edge-path\" d=\"M14505.034881791258,111.5L14522.026870893756,107.04166666666667C14539.018859996257,102.58333333333333,14573.002838201253,93.66666666666667,14616.56843570219,89.20833333333333C14660.134033203125,84.75,14713.28125,84.75,14768.443033854166,84.75C14823.604817708334,84.75,14880.781168619791,84.75,14937.352823893229,84.75C14993.924479166666,84.75,15049.891438802084,84.75,15103.048746744791,84.75C15156.2060546875,84.75,15206.5537109375,84.75,15257.506062825521,84.75C15308.458414713541,84.75,15360.015462239584,84.75,15414.382161458334,84.75C15468.748860677084,84.75,15525.925211588541,84.75,15572.253155477685,89.20833333333333C15618.58109936683,93.66666666666667,15654.06063623366,102.58333333333333,15671.800404667074,107.04166666666667L15689.54017310049,111.5\" style=\"stroke: rgb(0, 0, 0); stroke-width: 1px; fill: none; marker-end: url(&quot;#arrowhead-vee&quot;);\"/><path id=\"edge-/layer4/layer4.1/conv1/Conv_output_0\" class=\"edge-path\" d=\"M14842.96337890625,161.25L14858.795735677084,161.25C14874.628092447916,161.25,14906.292805989584,161.25,14940.503173828125,161.25C14974.713541666666,161.25,15011.469563802084,161.25,15029.847574869791,161.25L15048.2255859375,161.25\" style=\"stroke: rgb(0, 0, 0); stroke-width: 1px; fill: none; marker-end: url(&quot;#arrowhead-vee&quot;);\"/><path id=\"edge-/layer4/layer4.1/Relu_output_0\" class=\"edge-path\" d=\"M15163.4912109375,161.25L15179.0595703125,161.25C15194.6279296875,161.25,15225.7646484375,161.25,15254.355712890625,161.25C15282.94677734375,161.25,15308.9921875,161.25,15322.014892578125,161.25L15335.03759765625,161.25\" style=\"stroke: rgb(0, 0, 0); stroke-width: 1px; fill: none; marker-end: url(&quot;#arrowhead-vee&quot;);\"/><path id=\"edge-/layer4/layer4.1/conv2/Conv_output_0\" class=\"edge-path\" d=\"M15488.107421875,161.25L15503.939778645834,161.25C15519.772135416666,161.25,15551.436848958334,161.25,15585.00897416258,156.79166666666666C15618.58109936683,152.33333333333334,15654.06063623366,143.41666666666666,15671.800404667074,138.95833333333334L15689.54017310049,134.5\" style=\"stroke: rgb(0, 0, 0); stroke-width: 1px; fill: none; marker-end: url(&quot;#arrowhead-vee&quot;);\"/><path id=\"edge-/layer4/layer4.1/Add_output_0\" class=\"edge-path\" d=\"M15792.501953125,123L15805.460367838541,123C15818.418782552084,123,15844.335611979166,123,15870.25244140625,123C15896.169270833334,123,15922.086100260416,123,15935.044514973959,123L15948.0029296875,123\" style=\"stroke: rgb(0, 0, 0); stroke-width: 1px; fill: none; marker-end: url(&quot;#arrowhead-vee&quot;);\"/><path id=\"edge-/layer4/layer4.1/Relu_1_output_0\" class=\"edge-path\" d=\"M16054.707733353758,134.5L16071.699722456256,138.95833333333334C16088.691711558757,143.41666666666666,16122.675689763753,152.33333333333334,16153.485468579793,156.79166666666666C16184.295247395834,161.25,16211.930826822916,161.25,16225.748616536459,161.25L16239.56640625,161.25\" style=\"stroke: rgb(0, 0, 0); stroke-width: 1px; fill: none; marker-end: url(&quot;#arrowhead-vee&quot;);\"/><path id=\"edge-/layer4/layer4.1/Relu_1_output_0\" class=\"edge-path\" d=\"M16054.707733353758,111.5L16071.699722456256,107.04166666666667C16088.691711558757,102.58333333333333,16122.675689763753,93.66666666666667,16166.24128726469,89.20833333333333C16209.806884765625,84.75,16262.9541015625,84.75,16318.115885416666,84.75C16373.277669270834,84.75,16430.454020182293,84.75,16487.02567545573,84.75C16543.597330729168,84.75,16599.564290364582,84.75,16652.721598307293,84.75C16705.87890625,84.75,16756.2265625,84.75,16807.17891438802,84.75C16858.131266276043,84.75,16909.688313802082,84.75,16964.055013020832,84.75C17018.421712239582,84.75,17075.598063151043,84.75,17121.926007040183,89.20833333333333C17168.25395092933,93.66666666666667,17203.73348779616,102.58333333333333,17221.473256229572,107.04166666666667L17239.21302466299,111.5\" style=\"stroke: rgb(0, 0, 0); stroke-width: 1px; fill: none; marker-end: url(&quot;#arrowhead-vee&quot;);\"/><path id=\"edge-/layer4/layer4.2/conv1/Conv_output_0\" class=\"edge-path\" d=\"M16392.63623046875,161.25L16408.468587239582,161.25C16424.300944010418,161.25,16455.965657552082,161.25,16490.176025390625,161.25C16524.386393229168,161.25,16561.142415364582,161.25,16579.520426432293,161.25L16597.8984375,161.25\" style=\"stroke: rgb(0, 0, 0); stroke-width: 1px; fill: none; marker-end: url(&quot;#arrowhead-vee&quot;);\"/><path id=\"edge-/layer4/layer4.2/Relu_output_0\" class=\"edge-path\" d=\"M16713.1640625,161.25L16728.732421875,161.25C16744.30078125,161.25,16775.4375,161.25,16804.028564453125,161.25C16832.61962890625,161.25,16858.6650390625,161.25,16871.687744140625,161.25L16884.71044921875,161.25\" style=\"stroke: rgb(0, 0, 0); stroke-width: 1px; fill: none; marker-end: url(&quot;#arrowhead-vee&quot;);\"/><path id=\"edge-/layer4/layer4.2/conv2/Conv_output_0\" class=\"edge-path\" d=\"M17037.7802734375,161.25L17053.612630208332,161.25C17069.444986979168,161.25,17101.109700520832,161.25,17134.68182572508,156.79166666666666C17168.25395092933,152.33333333333334,17203.73348779616,143.41666666666666,17221.473256229572,138.95833333333334L17239.21302466299,134.5\" style=\"stroke: rgb(0, 0, 0); stroke-width: 1px; fill: none; marker-end: url(&quot;#arrowhead-vee&quot;);\"/><path id=\"edge-/layer4/layer4.2/Add_output_0\" class=\"edge-path\" d=\"M17342.1748046875,123L17355.133219401043,123C17368.091634114582,123,17394.008463541668,123,17419.92529296875,123C17445.842122395832,123,17471.758951822918,123,17484.717366536457,123L17497.67578125,123\" style=\"stroke: rgb(0, 0, 0); stroke-width: 1px; fill: none; marker-end: url(&quot;#arrowhead-vee&quot;);\"/><path id=\"edge-/layer4/layer4.2/Relu_1_output_0\" class=\"edge-path\" d=\"M17623.42578125,123L17637.243570963543,123C17651.061360677082,123,17678.696940104168,123,17706.33251953125,123C17733.968098958332,123,17761.603678385418,123,17775.421468098957,123L17789.2392578125,123\" style=\"stroke: rgb(0, 0, 0); stroke-width: 1px; fill: none; marker-end: url(&quot;#arrowhead-vee&quot;);\"/><path id=\"edge-/Pad_output_0\" class=\"edge-path\" d=\"M17901.203132629395,123L17908.3086827596,123C17915.414232889812,123,17929.625333150227,123,17943.836433410645,123C17958.047533671062,123,17972.258633931477,123,17979.364184061687,123L17986.469734191895,123\" style=\"stroke: rgb(0, 0, 0); stroke-width: 1px; fill: none; marker-end: url(&quot;#arrowhead-vee&quot;);\"/><path id=\"edge-/AveragePool_output_0\" class=\"edge-path\" d=\"M18075.340827941895,123L18085.704027811687,123C18096.067227681477,123,18116.793627421062,123,18137.520027160645,123C18158.246426900227,123,18178.972826639812,123,18189.3360265096,123L18199.699226379395,123\" style=\"stroke: rgb(0, 0, 0); stroke-width: 1px; fill: none; marker-end: url(&quot;#arrowhead-vee&quot;);\"/><path id=\"edge-/Reshape_output_0\" class=\"edge-path\" d=\"M18274.699226379395,123L18283.536547342937,123C18292.373868306477,123,18310.048510233562,123,18327.723152160645,123C18345.397794087727,123,18363.072436014812,123,18371.90975697835,123L18380.747077941895,123\" style=\"stroke: rgb(0, 0, 0); stroke-width: 1px; fill: none; marker-end: url(&quot;#arrowhead-vee&quot;);\"/><path id=\"edge-modelOutput\" class=\"edge-path\" d=\"M18463.293952941895,123L18469.972094217937,123C18476.650235493977,123,18490.006518046062,123,18503.362800598145,123C18516.719083150227,123,18530.075365702312,123,18536.75350697835,123L18543.431648254395,123\" style=\"stroke: rgb(0, 0, 0); stroke-width: 1px; fill: none; marker-end: url(&quot;#arrowhead-vee&quot;);\"/></g><g id=\"edge-labels\" class=\"edge-labels\"><text class=\"edge-label\" id=\"edge-label-edge-modelInput\" transform=\"translate(90.658203125,133)\" style=\"opacity: 1; font-family: -apple-system, BlinkMacSystemFont, &quot;Segoe WPC&quot;, &quot;Segoe UI&quot;, Ubuntu, &quot;Droid Sans&quot;, sans-serif, &quot;PingFang SC&quot;; font-size: 10px;\"><tspan xml:space=\"preserve\" dy=\"1em\" x=\"1\">modelInput</tspan></text><text class=\"edge-label\" id=\"edge-label-edge-/conv1/Conv_output_0\" transform=\"translate(261.400390625,133)\" style=\"opacity: 1; font-family: -apple-system, BlinkMacSystemFont, &quot;Segoe WPC&quot;, &quot;Segoe UI&quot;, Ubuntu, &quot;Droid Sans&quot;, sans-serif, &quot;PingFang SC&quot;; font-size: 10px;\"><tspan xml:space=\"preserve\" dy=\"1em\" x=\"1\">/conv1/Conv_output_0</tspan></text><text class=\"edge-label\" id=\"edge-label-edge-/Relu_output_0\" transform=\"translate(423.333984375,171.25)\" style=\"opacity: 1; font-family: -apple-system, BlinkMacSystemFont, &quot;Segoe WPC&quot;, &quot;Segoe UI&quot;, Ubuntu, &quot;Droid Sans&quot;, sans-serif, &quot;PingFang SC&quot;; font-size: 10px;\"><tspan xml:space=\"preserve\" dy=\"1em\" x=\"1\">/Relu_output_0</tspan></text><text class=\"edge-label\" id=\"edge-label-edge-/Relu_output_0\" transform=\"translate(868.0400390625,94.75)\" style=\"opacity: 1; font-family: -apple-system, BlinkMacSystemFont, &quot;Segoe WPC&quot;, &quot;Segoe UI&quot;, Ubuntu, &quot;Droid Sans&quot;, sans-serif, &quot;PingFang SC&quot;; font-size: 10px;\"><tspan xml:space=\"preserve\" dy=\"1em\" x=\"1\">/Relu_output_0</tspan></text><text class=\"edge-label\" id=\"edge-label-edge-/layer1/layer1.0/conv1/Conv_output_0\" transform=\"translate(664.43408203125,171.25)\" style=\"opacity: 1; font-family: -apple-system, BlinkMacSystemFont, &quot;Segoe WPC&quot;, &quot;Segoe UI&quot;, Ubuntu, &quot;Droid Sans&quot;, sans-serif, &quot;PingFang SC&quot;; font-size: 10px;\"><tspan xml:space=\"preserve\" dy=\"1em\" x=\"1\">/layer1/layer1.0/conv1/Conv_output_0</tspan></text><text class=\"edge-label\" id=\"edge-label-edge-/layer1/layer1.0/Relu_output_0\" transform=\"translate(969.68798828125,171.25)\" style=\"opacity: 1; font-family: -apple-system, BlinkMacSystemFont, &quot;Segoe WPC&quot;, &quot;Segoe UI&quot;, Ubuntu, &quot;Droid Sans&quot;, sans-serif, &quot;PingFang SC&quot;; font-size: 10px;\"><tspan xml:space=\"preserve\" dy=\"1em\" x=\"1\">/layer1/layer1.0/Relu_output_0</tspan></text><text class=\"edge-label\" id=\"edge-label-edge-/layer1/layer1.0/conv2/Conv_output_0\" transform=\"translate(1279.0302734375,171.25)\" style=\"opacity: 1; font-family: -apple-system, BlinkMacSystemFont, &quot;Segoe WPC&quot;, &quot;Segoe UI&quot;, Ubuntu, &quot;Droid Sans&quot;, sans-serif, &quot;PingFang SC&quot;; font-size: 10px;\"><tspan xml:space=\"preserve\" dy=\"1em\" x=\"1\">/layer1/layer1.0/conv2/Conv_output_0</tspan></text><text class=\"edge-label\" id=\"edge-label-edge-/layer1/layer1.0/Add_output_0\" transform=\"translate(1583.4248046875,133)\" style=\"opacity: 1; font-family: -apple-system, BlinkMacSystemFont, &quot;Segoe WPC&quot;, &quot;Segoe UI&quot;, Ubuntu, &quot;Droid Sans&quot;, sans-serif, &quot;PingFang SC&quot;; font-size: 10px;\"><tspan xml:space=\"preserve\" dy=\"1em\" x=\"1\">/layer1/layer1.0/Add_output_0</tspan></text><text class=\"edge-label\" id=\"edge-label-edge-/layer1/layer1.0/Relu_1_output_0\" transform=\"translate(1864.67578125,171.25)\" style=\"opacity: 1; font-family: -apple-system, BlinkMacSystemFont, &quot;Segoe WPC&quot;, &quot;Segoe UI&quot;, Ubuntu, &quot;Droid Sans&quot;, sans-serif, &quot;PingFang SC&quot;; font-size: 10px;\"><tspan xml:space=\"preserve\" dy=\"1em\" x=\"1\">/layer1/layer1.0/Relu_1_output_0</tspan></text><text class=\"edge-label\" id=\"edge-label-edge-/layer1/layer1.0/Relu_1_output_0\" transform=\"translate(2363.54736328125,94.75)\" style=\"opacity: 1; font-family: -apple-system, BlinkMacSystemFont, &quot;Segoe WPC&quot;, &quot;Segoe UI&quot;, Ubuntu, &quot;Droid Sans&quot;, sans-serif, &quot;PingFang SC&quot;; font-size: 10px;\"><tspan xml:space=\"preserve\" dy=\"1em\" x=\"1\">/layer1/layer1.0/Relu_1_output_0</tspan></text><text class=\"edge-label\" id=\"edge-label-edge-/layer1/layer1.1/conv1/Conv_output_0\" transform=\"translate(2183.55908203125,171.25)\" style=\"opacity: 1; font-family: -apple-system, BlinkMacSystemFont, &quot;Segoe WPC&quot;, &quot;Segoe UI&quot;, Ubuntu, &quot;Droid Sans&quot;, sans-serif, &quot;PingFang SC&quot;; font-size: 10px;\"><tspan xml:space=\"preserve\" dy=\"1em\" x=\"1\">/layer1/layer1.1/conv1/Conv_output_0</tspan></text><text class=\"edge-label\" id=\"edge-label-edge-/layer1/layer1.1/Relu_output_0\" transform=\"translate(2519.36083984375,171.25)\" style=\"opacity: 1; font-family: -apple-system, BlinkMacSystemFont, &quot;Segoe WPC&quot;, &quot;Segoe UI&quot;, Ubuntu, &quot;Droid Sans&quot;, sans-serif, &quot;PingFang SC&quot;; font-size: 10px;\"><tspan xml:space=\"preserve\" dy=\"1em\" x=\"1\">/layer1/layer1.1/Relu_output_0</tspan></text><text class=\"edge-label\" id=\"edge-label-edge-/layer1/layer1.1/conv2/Conv_output_0\" transform=\"translate(2828.703125,171.25)\" style=\"opacity: 1; font-family: -apple-system, BlinkMacSystemFont, &quot;Segoe WPC&quot;, &quot;Segoe UI&quot;, Ubuntu, &quot;Droid Sans&quot;, sans-serif, &quot;PingFang SC&quot;; font-size: 10px;\"><tspan xml:space=\"preserve\" dy=\"1em\" x=\"1\">/layer1/layer1.1/conv2/Conv_output_0</tspan></text><text class=\"edge-label\" id=\"edge-label-edge-/layer1/layer1.1/Add_output_0\" transform=\"translate(3133.09765625,133)\" style=\"opacity: 1; font-family: -apple-system, BlinkMacSystemFont, &quot;Segoe WPC&quot;, &quot;Segoe UI&quot;, Ubuntu, &quot;Droid Sans&quot;, sans-serif, &quot;PingFang SC&quot;; font-size: 10px;\"><tspan xml:space=\"preserve\" dy=\"1em\" x=\"1\">/layer1/layer1.1/Add_output_0</tspan></text><text class=\"edge-label\" id=\"edge-label-edge-/layer1/layer1.1/Relu_1_output_0\" transform=\"translate(3414.3486328125,171.25)\" style=\"opacity: 1; font-family: -apple-system, BlinkMacSystemFont, &quot;Segoe WPC&quot;, &quot;Segoe UI&quot;, Ubuntu, &quot;Droid Sans&quot;, sans-serif, &quot;PingFang SC&quot;; font-size: 10px;\"><tspan xml:space=\"preserve\" dy=\"1em\" x=\"1\">/layer1/layer1.1/Relu_1_output_0</tspan></text><text class=\"edge-label\" id=\"edge-label-edge-/layer1/layer1.1/Relu_1_output_0\" transform=\"translate(3913.22021484375,94.75)\" style=\"opacity: 1; font-family: -apple-system, BlinkMacSystemFont, &quot;Segoe WPC&quot;, &quot;Segoe UI&quot;, Ubuntu, &quot;Droid Sans&quot;, sans-serif, &quot;PingFang SC&quot;; font-size: 10px;\"><tspan xml:space=\"preserve\" dy=\"1em\" x=\"1\">/layer1/layer1.1/Relu_1_output_0</tspan></text><text class=\"edge-label\" id=\"edge-label-edge-/layer1/layer1.2/conv1/Conv_output_0\" transform=\"translate(3733.23193359375,171.25)\" style=\"opacity: 1; font-family: -apple-system, BlinkMacSystemFont, &quot;Segoe WPC&quot;, &quot;Segoe UI&quot;, Ubuntu, &quot;Droid Sans&quot;, sans-serif, &quot;PingFang SC&quot;; font-size: 10px;\"><tspan xml:space=\"preserve\" dy=\"1em\" x=\"1\">/layer1/layer1.2/conv1/Conv_output_0</tspan></text><text class=\"edge-label\" id=\"edge-label-edge-/layer1/layer1.2/Relu_output_0\" transform=\"translate(4069.03369140625,171.25)\" style=\"opacity: 1; font-family: -apple-system, BlinkMacSystemFont, &quot;Segoe WPC&quot;, &quot;Segoe UI&quot;, Ubuntu, &quot;Droid Sans&quot;, sans-serif, &quot;PingFang SC&quot;; font-size: 10px;\"><tspan xml:space=\"preserve\" dy=\"1em\" x=\"1\">/layer1/layer1.2/Relu_output_0</tspan></text><text class=\"edge-label\" id=\"edge-label-edge-/layer1/layer1.2/conv2/Conv_output_0\" transform=\"translate(4378.3759765625,171.25)\" style=\"opacity: 1; font-family: -apple-system, BlinkMacSystemFont, &quot;Segoe WPC&quot;, &quot;Segoe UI&quot;, Ubuntu, &quot;Droid Sans&quot;, sans-serif, &quot;PingFang SC&quot;; font-size: 10px;\"><tspan xml:space=\"preserve\" dy=\"1em\" x=\"1\">/layer1/layer1.2/conv2/Conv_output_0</tspan></text><text class=\"edge-label\" id=\"edge-label-edge-/layer1/layer1.2/Add_output_0\" transform=\"translate(4682.7705078125,133)\" style=\"opacity: 1; font-family: -apple-system, BlinkMacSystemFont, &quot;Segoe WPC&quot;, &quot;Segoe UI&quot;, Ubuntu, &quot;Droid Sans&quot;, sans-serif, &quot;PingFang SC&quot;; font-size: 10px;\"><tspan xml:space=\"preserve\" dy=\"1em\" x=\"1\">/layer1/layer1.2/Add_output_0</tspan></text><text class=\"edge-label\" id=\"edge-label-edge-/layer1/layer1.2/Relu_1_output_0\" transform=\"translate(4964.021484375,66.5)\" style=\"opacity: 1; font-family: -apple-system, BlinkMacSystemFont, &quot;Segoe WPC&quot;, &quot;Segoe UI&quot;, Ubuntu, &quot;Droid Sans&quot;, sans-serif, &quot;PingFang SC&quot;; font-size: 10px;\"><tspan xml:space=\"preserve\" dy=\"1em\" x=\"1\">/layer1/layer1.2/Relu_1_output_0</tspan></text><text class=\"edge-label\" id=\"edge-label-edge-/layer1/layer1.2/Relu_1_output_0\" transform=\"translate(5294.9921875,199.5)\" style=\"opacity: 1; font-family: -apple-system, BlinkMacSystemFont, &quot;Segoe WPC&quot;, &quot;Segoe UI&quot;, Ubuntu, &quot;Droid Sans&quot;, sans-serif, &quot;PingFang SC&quot;; font-size: 10px;\"><tspan xml:space=\"preserve\" dy=\"1em\" x=\"1\">/layer1/layer1.2/Relu_1_output_0</tspan></text><text class=\"edge-label\" id=\"edge-label-edge-/layer2/layer2.0/conv1/Conv_output_0\" transform=\"translate(5282.90478515625,66.5)\" style=\"opacity: 1; font-family: -apple-system, BlinkMacSystemFont, &quot;Segoe WPC&quot;, &quot;Segoe UI&quot;, Ubuntu, &quot;Droid Sans&quot;, sans-serif, &quot;PingFang SC&quot;; font-size: 10px;\"><tspan xml:space=\"preserve\" dy=\"1em\" x=\"1\">/layer2/layer2.0/conv1/Conv_output_0</tspan></text><text class=\"edge-label\" id=\"edge-label-edge-/layer2/layer2.0/Relu_output_0\" transform=\"translate(5588.15869140625,66.5)\" style=\"opacity: 1; font-family: -apple-system, BlinkMacSystemFont, &quot;Segoe WPC&quot;, &quot;Segoe UI&quot;, Ubuntu, &quot;Droid Sans&quot;, sans-serif, &quot;PingFang SC&quot;; font-size: 10px;\"><tspan xml:space=\"preserve\" dy=\"1em\" x=\"1\">/layer2/layer2.0/Relu_output_0</tspan></text><text class=\"edge-label\" id=\"edge-label-edge-/layer2/layer2.0/conv2/Conv_output_0\" transform=\"translate(5989.8603515625,66.5)\" style=\"opacity: 1; font-family: -apple-system, BlinkMacSystemFont, &quot;Segoe WPC&quot;, &quot;Segoe UI&quot;, Ubuntu, &quot;Droid Sans&quot;, sans-serif, &quot;PingFang SC&quot;; font-size: 10px;\"><tspan xml:space=\"preserve\" dy=\"1em\" x=\"1\">/layer2/layer2.0/conv2/Conv_output_0</tspan></text><text class=\"edge-label\" id=\"edge-label-edge-/layer2/layer2.0/shortcut/shortcut.0/Conv_output_0\" transform=\"translate(5960.998046875,199.5)\" style=\"opacity: 1; font-family: -apple-system, BlinkMacSystemFont, &quot;Segoe WPC&quot;, &quot;Segoe UI&quot;, Ubuntu, &quot;Droid Sans&quot;, sans-serif, &quot;PingFang SC&quot;; font-size: 10px;\"><tspan xml:space=\"preserve\" dy=\"1em\" x=\"1\">/layer2/layer2.0/shortcut/shortcut.0/Conv_output_0</tspan></text><text class=\"edge-label\" id=\"edge-label-edge-/layer2/layer2.0/Add_output_0\" transform=\"translate(6323.1171875,133)\" style=\"opacity: 1; font-family: -apple-system, BlinkMacSystemFont, &quot;Segoe WPC&quot;, &quot;Segoe UI&quot;, Ubuntu, &quot;Droid Sans&quot;, sans-serif, &quot;PingFang SC&quot;; font-size: 10px;\"><tspan xml:space=\"preserve\" dy=\"1em\" x=\"1\">/layer2/layer2.0/Add_output_0</tspan></text><text class=\"edge-label\" id=\"edge-label-edge-/layer2/layer2.0/Relu_1_output_0\" transform=\"translate(6604.3681640625,171.25)\" style=\"opacity: 1; font-family: -apple-system, BlinkMacSystemFont, &quot;Segoe WPC&quot;, &quot;Segoe UI&quot;, Ubuntu, &quot;Droid Sans&quot;, sans-serif, &quot;PingFang SC&quot;; font-size: 10px;\"><tspan xml:space=\"preserve\" dy=\"1em\" x=\"1\">/layer2/layer2.0/Relu_1_output_0</tspan></text><text class=\"edge-label\" id=\"edge-label-edge-/layer2/layer2.0/Relu_1_output_0\" transform=\"translate(7103.23974609375,94.75)\" style=\"opacity: 1; font-family: -apple-system, BlinkMacSystemFont, &quot;Segoe WPC&quot;, &quot;Segoe UI&quot;, Ubuntu, &quot;Droid Sans&quot;, sans-serif, &quot;PingFang SC&quot;; font-size: 10px;\"><tspan xml:space=\"preserve\" dy=\"1em\" x=\"1\">/layer2/layer2.0/Relu_1_output_0</tspan></text><text class=\"edge-label\" id=\"edge-label-edge-/layer2/layer2.1/conv1/Conv_output_0\" transform=\"translate(6923.25146484375,171.25)\" style=\"opacity: 1; font-family: -apple-system, BlinkMacSystemFont, &quot;Segoe WPC&quot;, &quot;Segoe UI&quot;, Ubuntu, &quot;Droid Sans&quot;, sans-serif, &quot;PingFang SC&quot;; font-size: 10px;\"><tspan xml:space=\"preserve\" dy=\"1em\" x=\"1\">/layer2/layer2.1/conv1/Conv_output_0</tspan></text><text class=\"edge-label\" id=\"edge-label-edge-/layer2/layer2.1/Relu_output_0\" transform=\"translate(7259.05322265625,171.25)\" style=\"opacity: 1; font-family: -apple-system, BlinkMacSystemFont, &quot;Segoe WPC&quot;, &quot;Segoe UI&quot;, Ubuntu, &quot;Droid Sans&quot;, sans-serif, &quot;PingFang SC&quot;; font-size: 10px;\"><tspan xml:space=\"preserve\" dy=\"1em\" x=\"1\">/layer2/layer2.1/Relu_output_0</tspan></text><text class=\"edge-label\" id=\"edge-label-edge-/layer2/layer2.1/conv2/Conv_output_0\" transform=\"translate(7568.3955078125,171.25)\" style=\"opacity: 1; font-family: -apple-system, BlinkMacSystemFont, &quot;Segoe WPC&quot;, &quot;Segoe UI&quot;, Ubuntu, &quot;Droid Sans&quot;, sans-serif, &quot;PingFang SC&quot;; font-size: 10px;\"><tspan xml:space=\"preserve\" dy=\"1em\" x=\"1\">/layer2/layer2.1/conv2/Conv_output_0</tspan></text><text class=\"edge-label\" id=\"edge-label-edge-/layer2/layer2.1/Add_output_0\" transform=\"translate(7872.7900390625,133)\" style=\"opacity: 1; font-family: -apple-system, BlinkMacSystemFont, &quot;Segoe WPC&quot;, &quot;Segoe UI&quot;, Ubuntu, &quot;Droid Sans&quot;, sans-serif, &quot;PingFang SC&quot;; font-size: 10px;\"><tspan xml:space=\"preserve\" dy=\"1em\" x=\"1\">/layer2/layer2.1/Add_output_0</tspan></text><text class=\"edge-label\" id=\"edge-label-edge-/layer2/layer2.1/Relu_1_output_0\" transform=\"translate(8154.041015625,171.25)\" style=\"opacity: 1; font-family: -apple-system, BlinkMacSystemFont, &quot;Segoe WPC&quot;, &quot;Segoe UI&quot;, Ubuntu, &quot;Droid Sans&quot;, sans-serif, &quot;PingFang SC&quot;; font-size: 10px;\"><tspan xml:space=\"preserve\" dy=\"1em\" x=\"1\">/layer2/layer2.1/Relu_1_output_0</tspan></text><text class=\"edge-label\" id=\"edge-label-edge-/layer2/layer2.1/Relu_1_output_0\" transform=\"translate(8652.91259765625,94.75)\" style=\"opacity: 1; font-family: -apple-system, BlinkMacSystemFont, &quot;Segoe WPC&quot;, &quot;Segoe UI&quot;, Ubuntu, &quot;Droid Sans&quot;, sans-serif, &quot;PingFang SC&quot;; font-size: 10px;\"><tspan xml:space=\"preserve\" dy=\"1em\" x=\"1\">/layer2/layer2.1/Relu_1_output_0</tspan></text><text class=\"edge-label\" id=\"edge-label-edge-/layer2/layer2.2/conv1/Conv_output_0\" transform=\"translate(8472.92431640625,171.25)\" style=\"opacity: 1; font-family: -apple-system, BlinkMacSystemFont, &quot;Segoe WPC&quot;, &quot;Segoe UI&quot;, Ubuntu, &quot;Droid Sans&quot;, sans-serif, &quot;PingFang SC&quot;; font-size: 10px;\"><tspan xml:space=\"preserve\" dy=\"1em\" x=\"1\">/layer2/layer2.2/conv1/Conv_output_0</tspan></text><text class=\"edge-label\" id=\"edge-label-edge-/layer2/layer2.2/Relu_output_0\" transform=\"translate(8808.72607421875,171.25)\" style=\"opacity: 1; font-family: -apple-system, BlinkMacSystemFont, &quot;Segoe WPC&quot;, &quot;Segoe UI&quot;, Ubuntu, &quot;Droid Sans&quot;, sans-serif, &quot;PingFang SC&quot;; font-size: 10px;\"><tspan xml:space=\"preserve\" dy=\"1em\" x=\"1\">/layer2/layer2.2/Relu_output_0</tspan></text><text class=\"edge-label\" id=\"edge-label-edge-/layer2/layer2.2/conv2/Conv_output_0\" transform=\"translate(9118.068359375,171.25)\" style=\"opacity: 1; font-family: -apple-system, BlinkMacSystemFont, &quot;Segoe WPC&quot;, &quot;Segoe UI&quot;, Ubuntu, &quot;Droid Sans&quot;, sans-serif, &quot;PingFang SC&quot;; font-size: 10px;\"><tspan xml:space=\"preserve\" dy=\"1em\" x=\"1\">/layer2/layer2.2/conv2/Conv_output_0</tspan></text><text class=\"edge-label\" id=\"edge-label-edge-/layer2/layer2.2/Add_output_0\" transform=\"translate(9422.462890625,133)\" style=\"opacity: 1; font-family: -apple-system, BlinkMacSystemFont, &quot;Segoe WPC&quot;, &quot;Segoe UI&quot;, Ubuntu, &quot;Droid Sans&quot;, sans-serif, &quot;PingFang SC&quot;; font-size: 10px;\"><tspan xml:space=\"preserve\" dy=\"1em\" x=\"1\">/layer2/layer2.2/Add_output_0</tspan></text><text class=\"edge-label\" id=\"edge-label-edge-/layer2/layer2.2/Relu_1_output_0\" transform=\"translate(9703.7138671875,66.5)\" style=\"opacity: 1; font-family: -apple-system, BlinkMacSystemFont, &quot;Segoe WPC&quot;, &quot;Segoe UI&quot;, Ubuntu, &quot;Droid Sans&quot;, sans-serif, &quot;PingFang SC&quot;; font-size: 10px;\"><tspan xml:space=\"preserve\" dy=\"1em\" x=\"1\">/layer2/layer2.2/Relu_1_output_0</tspan></text><text class=\"edge-label\" id=\"edge-label-edge-/layer2/layer2.2/Relu_1_output_0\" transform=\"translate(10034.6845703125,199.5)\" style=\"opacity: 1; font-family: -apple-system, BlinkMacSystemFont, &quot;Segoe WPC&quot;, &quot;Segoe UI&quot;, Ubuntu, &quot;Droid Sans&quot;, sans-serif, &quot;PingFang SC&quot;; font-size: 10px;\"><tspan xml:space=\"preserve\" dy=\"1em\" x=\"1\">/layer2/layer2.2/Relu_1_output_0</tspan></text><text class=\"edge-label\" id=\"edge-label-edge-/layer3/layer3.0/conv1/Conv_output_0\" transform=\"translate(10022.59716796875,66.5)\" style=\"opacity: 1; font-family: -apple-system, BlinkMacSystemFont, &quot;Segoe WPC&quot;, &quot;Segoe UI&quot;, Ubuntu, &quot;Droid Sans&quot;, sans-serif, &quot;PingFang SC&quot;; font-size: 10px;\"><tspan xml:space=\"preserve\" dy=\"1em\" x=\"1\">/layer3/layer3.0/conv1/Conv_output_0</tspan></text><text class=\"edge-label\" id=\"edge-label-edge-/layer3/layer3.0/Relu_output_0\" transform=\"translate(10327.85107421875,66.5)\" style=\"opacity: 1; font-family: -apple-system, BlinkMacSystemFont, &quot;Segoe WPC&quot;, &quot;Segoe UI&quot;, Ubuntu, &quot;Droid Sans&quot;, sans-serif, &quot;PingFang SC&quot;; font-size: 10px;\"><tspan xml:space=\"preserve\" dy=\"1em\" x=\"1\">/layer3/layer3.0/Relu_output_0</tspan></text><text class=\"edge-label\" id=\"edge-label-edge-/layer3/layer3.0/conv2/Conv_output_0\" transform=\"translate(10729.552734375,66.5)\" style=\"opacity: 1; font-family: -apple-system, BlinkMacSystemFont, &quot;Segoe WPC&quot;, &quot;Segoe UI&quot;, Ubuntu, &quot;Droid Sans&quot;, sans-serif, &quot;PingFang SC&quot;; font-size: 10px;\"><tspan xml:space=\"preserve\" dy=\"1em\" x=\"1\">/layer3/layer3.0/conv2/Conv_output_0</tspan></text><text class=\"edge-label\" id=\"edge-label-edge-/layer3/layer3.0/shortcut/shortcut.0/Conv_output_0\" transform=\"translate(10700.6904296875,199.5)\" style=\"opacity: 1; font-family: -apple-system, BlinkMacSystemFont, &quot;Segoe WPC&quot;, &quot;Segoe UI&quot;, Ubuntu, &quot;Droid Sans&quot;, sans-serif, &quot;PingFang SC&quot;; font-size: 10px;\"><tspan xml:space=\"preserve\" dy=\"1em\" x=\"1\">/layer3/layer3.0/shortcut/shortcut.0/Conv_output_0</tspan></text><text class=\"edge-label\" id=\"edge-label-edge-/layer3/layer3.0/Add_output_0\" transform=\"translate(11062.8095703125,133)\" style=\"opacity: 1; font-family: -apple-system, BlinkMacSystemFont, &quot;Segoe WPC&quot;, &quot;Segoe UI&quot;, Ubuntu, &quot;Droid Sans&quot;, sans-serif, &quot;PingFang SC&quot;; font-size: 10px;\"><tspan xml:space=\"preserve\" dy=\"1em\" x=\"1\">/layer3/layer3.0/Add_output_0</tspan></text><text class=\"edge-label\" id=\"edge-label-edge-/layer3/layer3.0/Relu_1_output_0\" transform=\"translate(11344.060546875,171.25)\" style=\"opacity: 1; font-family: -apple-system, BlinkMacSystemFont, &quot;Segoe WPC&quot;, &quot;Segoe UI&quot;, Ubuntu, &quot;Droid Sans&quot;, sans-serif, &quot;PingFang SC&quot;; font-size: 10px;\"><tspan xml:space=\"preserve\" dy=\"1em\" x=\"1\">/layer3/layer3.0/Relu_1_output_0</tspan></text><text class=\"edge-label\" id=\"edge-label-edge-/layer3/layer3.0/Relu_1_output_0\" transform=\"translate(11842.93212890625,94.75)\" style=\"opacity: 1; font-family: -apple-system, BlinkMacSystemFont, &quot;Segoe WPC&quot;, &quot;Segoe UI&quot;, Ubuntu, &quot;Droid Sans&quot;, sans-serif, &quot;PingFang SC&quot;; font-size: 10px;\"><tspan xml:space=\"preserve\" dy=\"1em\" x=\"1\">/layer3/layer3.0/Relu_1_output_0</tspan></text><text class=\"edge-label\" id=\"edge-label-edge-/layer3/layer3.1/conv1/Conv_output_0\" transform=\"translate(11662.94384765625,171.25)\" style=\"opacity: 1; font-family: -apple-system, BlinkMacSystemFont, &quot;Segoe WPC&quot;, &quot;Segoe UI&quot;, Ubuntu, &quot;Droid Sans&quot;, sans-serif, &quot;PingFang SC&quot;; font-size: 10px;\"><tspan xml:space=\"preserve\" dy=\"1em\" x=\"1\">/layer3/layer3.1/conv1/Conv_output_0</tspan></text><text class=\"edge-label\" id=\"edge-label-edge-/layer3/layer3.1/Relu_output_0\" transform=\"translate(11998.74560546875,171.25)\" style=\"opacity: 1; font-family: -apple-system, BlinkMacSystemFont, &quot;Segoe WPC&quot;, &quot;Segoe UI&quot;, Ubuntu, &quot;Droid Sans&quot;, sans-serif, &quot;PingFang SC&quot;; font-size: 10px;\"><tspan xml:space=\"preserve\" dy=\"1em\" x=\"1\">/layer3/layer3.1/Relu_output_0</tspan></text><text class=\"edge-label\" id=\"edge-label-edge-/layer3/layer3.1/conv2/Conv_output_0\" transform=\"translate(12308.087890625,171.25)\" style=\"opacity: 1; font-family: -apple-system, BlinkMacSystemFont, &quot;Segoe WPC&quot;, &quot;Segoe UI&quot;, Ubuntu, &quot;Droid Sans&quot;, sans-serif, &quot;PingFang SC&quot;; font-size: 10px;\"><tspan xml:space=\"preserve\" dy=\"1em\" x=\"1\">/layer3/layer3.1/conv2/Conv_output_0</tspan></text><text class=\"edge-label\" id=\"edge-label-edge-/layer3/layer3.1/Add_output_0\" transform=\"translate(12612.482421875,133)\" style=\"opacity: 1; font-family: -apple-system, BlinkMacSystemFont, &quot;Segoe WPC&quot;, &quot;Segoe UI&quot;, Ubuntu, &quot;Droid Sans&quot;, sans-serif, &quot;PingFang SC&quot;; font-size: 10px;\"><tspan xml:space=\"preserve\" dy=\"1em\" x=\"1\">/layer3/layer3.1/Add_output_0</tspan></text><text class=\"edge-label\" id=\"edge-label-edge-/layer3/layer3.1/Relu_1_output_0\" transform=\"translate(12893.7333984375,66.5)\" style=\"opacity: 1; font-family: -apple-system, BlinkMacSystemFont, &quot;Segoe WPC&quot;, &quot;Segoe UI&quot;, Ubuntu, &quot;Droid Sans&quot;, sans-serif, &quot;PingFang SC&quot;; font-size: 10px;\"><tspan xml:space=\"preserve\" dy=\"1em\" x=\"1\">/layer3/layer3.1/Relu_1_output_0</tspan></text><text class=\"edge-label\" id=\"edge-label-edge-/layer3/layer3.1/Relu_1_output_0\" transform=\"translate(13224.7041015625,199.5)\" style=\"opacity: 1; font-family: -apple-system, BlinkMacSystemFont, &quot;Segoe WPC&quot;, &quot;Segoe UI&quot;, Ubuntu, &quot;Droid Sans&quot;, sans-serif, &quot;PingFang SC&quot;; font-size: 10px;\"><tspan xml:space=\"preserve\" dy=\"1em\" x=\"1\">/layer3/layer3.1/Relu_1_output_0</tspan></text><text class=\"edge-label\" id=\"edge-label-edge-/layer4/layer4.0/conv1/Conv_output_0\" transform=\"translate(13212.61669921875,66.5)\" style=\"opacity: 1; font-family: -apple-system, BlinkMacSystemFont, &quot;Segoe WPC&quot;, &quot;Segoe UI&quot;, Ubuntu, &quot;Droid Sans&quot;, sans-serif, &quot;PingFang SC&quot;; font-size: 10px;\"><tspan xml:space=\"preserve\" dy=\"1em\" x=\"1\">/layer4/layer4.0/conv1/Conv_output_0</tspan></text><text class=\"edge-label\" id=\"edge-label-edge-/layer4/layer4.0/Relu_output_0\" transform=\"translate(13517.87060546875,66.5)\" style=\"opacity: 1; font-family: -apple-system, BlinkMacSystemFont, &quot;Segoe WPC&quot;, &quot;Segoe UI&quot;, Ubuntu, &quot;Droid Sans&quot;, sans-serif, &quot;PingFang SC&quot;; font-size: 10px;\"><tspan xml:space=\"preserve\" dy=\"1em\" x=\"1\">/layer4/layer4.0/Relu_output_0</tspan></text><text class=\"edge-label\" id=\"edge-label-edge-/layer4/layer4.0/conv2/Conv_output_0\" transform=\"translate(13919.572265625,66.5)\" style=\"opacity: 1; font-family: -apple-system, BlinkMacSystemFont, &quot;Segoe WPC&quot;, &quot;Segoe UI&quot;, Ubuntu, &quot;Droid Sans&quot;, sans-serif, &quot;PingFang SC&quot;; font-size: 10px;\"><tspan xml:space=\"preserve\" dy=\"1em\" x=\"1\">/layer4/layer4.0/conv2/Conv_output_0</tspan></text><text class=\"edge-label\" id=\"edge-label-edge-/layer4/layer4.0/shortcut/shortcut.0/Conv_output_0\" transform=\"translate(13890.7099609375,199.5)\" style=\"opacity: 1; font-family: -apple-system, BlinkMacSystemFont, &quot;Segoe WPC&quot;, &quot;Segoe UI&quot;, Ubuntu, &quot;Droid Sans&quot;, sans-serif, &quot;PingFang SC&quot;; font-size: 10px;\"><tspan xml:space=\"preserve\" dy=\"1em\" x=\"1\">/layer4/layer4.0/shortcut/shortcut.0/Conv_output_0</tspan></text><text class=\"edge-label\" id=\"edge-label-edge-/layer4/layer4.0/Add_output_0\" transform=\"translate(14252.8291015625,133)\" style=\"opacity: 1; font-family: -apple-system, BlinkMacSystemFont, &quot;Segoe WPC&quot;, &quot;Segoe UI&quot;, Ubuntu, &quot;Droid Sans&quot;, sans-serif, &quot;PingFang SC&quot;; font-size: 10px;\"><tspan xml:space=\"preserve\" dy=\"1em\" x=\"1\">/layer4/layer4.0/Add_output_0</tspan></text><text class=\"edge-label\" id=\"edge-label-edge-/layer4/layer4.0/Relu_1_output_0\" transform=\"translate(14534.080078125,171.25)\" style=\"opacity: 1; font-family: -apple-system, BlinkMacSystemFont, &quot;Segoe WPC&quot;, &quot;Segoe UI&quot;, Ubuntu, &quot;Droid Sans&quot;, sans-serif, &quot;PingFang SC&quot;; font-size: 10px;\"><tspan xml:space=\"preserve\" dy=\"1em\" x=\"1\">/layer4/layer4.0/Relu_1_output_0</tspan></text><text class=\"edge-label\" id=\"edge-label-edge-/layer4/layer4.0/Relu_1_output_0\" transform=\"translate(15032.95166015625,94.75)\" style=\"opacity: 1; font-family: -apple-system, BlinkMacSystemFont, &quot;Segoe WPC&quot;, &quot;Segoe UI&quot;, Ubuntu, &quot;Droid Sans&quot;, sans-serif, &quot;PingFang SC&quot;; font-size: 10px;\"><tspan xml:space=\"preserve\" dy=\"1em\" x=\"1\">/layer4/layer4.0/Relu_1_output_0</tspan></text><text class=\"edge-label\" id=\"edge-label-edge-/layer4/layer4.1/conv1/Conv_output_0\" transform=\"translate(14852.96337890625,171.25)\" style=\"opacity: 1; font-family: -apple-system, BlinkMacSystemFont, &quot;Segoe WPC&quot;, &quot;Segoe UI&quot;, Ubuntu, &quot;Droid Sans&quot;, sans-serif, &quot;PingFang SC&quot;; font-size: 10px;\"><tspan xml:space=\"preserve\" dy=\"1em\" x=\"1\">/layer4/layer4.1/conv1/Conv_output_0</tspan></text><text class=\"edge-label\" id=\"edge-label-edge-/layer4/layer4.1/Relu_output_0\" transform=\"translate(15188.76513671875,171.25)\" style=\"opacity: 1; font-family: -apple-system, BlinkMacSystemFont, &quot;Segoe WPC&quot;, &quot;Segoe UI&quot;, Ubuntu, &quot;Droid Sans&quot;, sans-serif, &quot;PingFang SC&quot;; font-size: 10px;\"><tspan xml:space=\"preserve\" dy=\"1em\" x=\"1\">/layer4/layer4.1/Relu_output_0</tspan></text><text class=\"edge-label\" id=\"edge-label-edge-/layer4/layer4.1/conv2/Conv_output_0\" transform=\"translate(15498.107421875,171.25)\" style=\"opacity: 1; font-family: -apple-system, BlinkMacSystemFont, &quot;Segoe WPC&quot;, &quot;Segoe UI&quot;, Ubuntu, &quot;Droid Sans&quot;, sans-serif, &quot;PingFang SC&quot;; font-size: 10px;\"><tspan xml:space=\"preserve\" dy=\"1em\" x=\"1\">/layer4/layer4.1/conv2/Conv_output_0</tspan></text><text class=\"edge-label\" id=\"edge-label-edge-/layer4/layer4.1/Add_output_0\" transform=\"translate(15802.501953125,133)\" style=\"opacity: 1; font-family: -apple-system, BlinkMacSystemFont, &quot;Segoe WPC&quot;, &quot;Segoe UI&quot;, Ubuntu, &quot;Droid Sans&quot;, sans-serif, &quot;PingFang SC&quot;; font-size: 10px;\"><tspan xml:space=\"preserve\" dy=\"1em\" x=\"1\">/layer4/layer4.1/Add_output_0</tspan></text><text class=\"edge-label\" id=\"edge-label-edge-/layer4/layer4.1/Relu_1_output_0\" transform=\"translate(16083.7529296875,171.25)\" style=\"opacity: 1; font-family: -apple-system, BlinkMacSystemFont, &quot;Segoe WPC&quot;, &quot;Segoe UI&quot;, Ubuntu, &quot;Droid Sans&quot;, sans-serif, &quot;PingFang SC&quot;; font-size: 10px;\"><tspan xml:space=\"preserve\" dy=\"1em\" x=\"1\">/layer4/layer4.1/Relu_1_output_0</tspan></text><text class=\"edge-label\" id=\"edge-label-edge-/layer4/layer4.1/Relu_1_output_0\" transform=\"translate(16582.62451171875,94.75)\" style=\"opacity: 1; font-family: -apple-system, BlinkMacSystemFont, &quot;Segoe WPC&quot;, &quot;Segoe UI&quot;, Ubuntu, &quot;Droid Sans&quot;, sans-serif, &quot;PingFang SC&quot;; font-size: 10px;\"><tspan xml:space=\"preserve\" dy=\"1em\" x=\"1\">/layer4/layer4.1/Relu_1_output_0</tspan></text><text class=\"edge-label\" id=\"edge-label-edge-/layer4/layer4.2/conv1/Conv_output_0\" transform=\"translate(16402.63623046875,171.25)\" style=\"opacity: 1; font-family: -apple-system, BlinkMacSystemFont, &quot;Segoe WPC&quot;, &quot;Segoe UI&quot;, Ubuntu, &quot;Droid Sans&quot;, sans-serif, &quot;PingFang SC&quot;; font-size: 10px;\"><tspan xml:space=\"preserve\" dy=\"1em\" x=\"1\">/layer4/layer4.2/conv1/Conv_output_0</tspan></text><text class=\"edge-label\" id=\"edge-label-edge-/layer4/layer4.2/Relu_output_0\" transform=\"translate(16738.43798828125,171.25)\" style=\"opacity: 1; font-family: -apple-system, BlinkMacSystemFont, &quot;Segoe WPC&quot;, &quot;Segoe UI&quot;, Ubuntu, &quot;Droid Sans&quot;, sans-serif, &quot;PingFang SC&quot;; font-size: 10px;\"><tspan xml:space=\"preserve\" dy=\"1em\" x=\"1\">/layer4/layer4.2/Relu_output_0</tspan></text><text class=\"edge-label\" id=\"edge-label-edge-/layer4/layer4.2/conv2/Conv_output_0\" transform=\"translate(17047.7802734375,171.25)\" style=\"opacity: 1; font-family: -apple-system, BlinkMacSystemFont, &quot;Segoe WPC&quot;, &quot;Segoe UI&quot;, Ubuntu, &quot;Droid Sans&quot;, sans-serif, &quot;PingFang SC&quot;; font-size: 10px;\"><tspan xml:space=\"preserve\" dy=\"1em\" x=\"1\">/layer4/layer4.2/conv2/Conv_output_0</tspan></text><text class=\"edge-label\" id=\"edge-label-edge-/layer4/layer4.2/Add_output_0\" transform=\"translate(17352.1748046875,133)\" style=\"opacity: 1; font-family: -apple-system, BlinkMacSystemFont, &quot;Segoe WPC&quot;, &quot;Segoe UI&quot;, Ubuntu, &quot;Droid Sans&quot;, sans-serif, &quot;PingFang SC&quot;; font-size: 10px;\"><tspan xml:space=\"preserve\" dy=\"1em\" x=\"1\">/layer4/layer4.2/Add_output_0</tspan></text><text class=\"edge-label\" id=\"edge-label-edge-/layer4/layer4.2/Relu_1_output_0\" transform=\"translate(17633.42578125,133)\" style=\"opacity: 1; font-family: -apple-system, BlinkMacSystemFont, &quot;Segoe WPC&quot;, &quot;Segoe UI&quot;, Ubuntu, &quot;Droid Sans&quot;, sans-serif, &quot;PingFang SC&quot;; font-size: 10px;\"><tspan xml:space=\"preserve\" dy=\"1em\" x=\"1\">/layer4/layer4.2/Relu_1_output_0</tspan></text><text class=\"edge-label\" id=\"edge-label-edge-/Pad_output_0\" transform=\"translate(17911.203132629395,133)\" style=\"opacity: 1; font-family: -apple-system, BlinkMacSystemFont, &quot;Segoe WPC&quot;, &quot;Segoe UI&quot;, Ubuntu, &quot;Droid Sans&quot;, sans-serif, &quot;PingFang SC&quot;; font-size: 10px;\"><tspan xml:space=\"preserve\" dy=\"1em\" x=\"1\">/Pad_output_0</tspan></text><text class=\"edge-label\" id=\"edge-label-edge-/AveragePool_output_0\" transform=\"translate(18085.340827941895,133)\" style=\"opacity: 1; font-family: -apple-system, BlinkMacSystemFont, &quot;Segoe WPC&quot;, &quot;Segoe UI&quot;, Ubuntu, &quot;Droid Sans&quot;, sans-serif, &quot;PingFang SC&quot;; font-size: 10px;\"><tspan xml:space=\"preserve\" dy=\"1em\" x=\"1\">/AveragePool_output_0</tspan></text><text class=\"edge-label\" id=\"edge-label-edge-/Reshape_output_0\" transform=\"translate(18284.699226379395,133)\" style=\"opacity: 1; font-family: -apple-system, BlinkMacSystemFont, &quot;Segoe WPC&quot;, &quot;Segoe UI&quot;, Ubuntu, &quot;Droid Sans&quot;, sans-serif, &quot;PingFang SC&quot;; font-size: 10px;\"><tspan xml:space=\"preserve\" dy=\"1em\" x=\"1\">/Reshape_output_0</tspan></text><text class=\"edge-label\" id=\"edge-label-edge-modelOutput\" transform=\"translate(18473.293952941895,133)\" style=\"opacity: 1; font-family: -apple-system, BlinkMacSystemFont, &quot;Segoe WPC&quot;, &quot;Segoe UI&quot;, Ubuntu, &quot;Droid Sans&quot;, sans-serif, &quot;PingFang SC&quot;; font-size: 10px;\"><tspan xml:space=\"preserve\" dy=\"1em\" x=\"1\">modelOutput</tspan></text></g><g id=\"nodes\" class=\"nodes\"><g id=\"input-name-modelInput\" class=\"node graph-input\" transform=\"translate(0,111.5)\" style=\"opacity: 1;\"><g class=\"node-item graph-item-input\" transform=\"translate(0,0)\"><path d=\"M5,0h60.658203125a5,5 0 0 1 5,5v13a5,5 0 0 1 -5,5h-60.658203125a5,5 0 0 1 -5,-5v-13a5,5 0 0 1 5,-5z\" style=\"stroke: rgb(0, 0, 0); fill: rgb(238, 238, 238); stroke-width: 0;\"/><text x=\"6\" y=\"16\" style=\"font-family: -apple-system, BlinkMacSystemFont, &quot;Segoe WPC&quot;, &quot;Segoe UI&quot;, Ubuntu, &quot;Droid Sans&quot;, sans-serif, &quot;PingFang SC&quot;; font-size: 11px; text-rendering: geometricprecision;\">modelInput</text><title>float32[4,3,32,32]</title></g><path class=\"node border\" d=\"M5,0h60.658203125a5,5 0 0 1 5,5v13a5,5 0 0 1 -5,5h-60.658203125a5,5 0 0 1 -5,-5v-13a5,5 0 0 1 5,-5z\" style=\"stroke: rgb(51, 51, 51); fill: none; stroke-width: 1px;\"/></g><g id=\"node-name-/conv1/Conv\" class=\"node graph-node\" transform=\"translate(162.529296875,66.5)\" style=\"opacity: 1;\"><g class=\"node-item node-item-type node-item-type-layer\" transform=\"translate(0,0)\"><path d=\"M5,0h78.87109375a5,5 0 0 1 5,5v18a0,0 0 0 1 0,0h-88.87109375a0,0 0 0 1 0,0v-18a5,5 0 0 1 5,-5z\" style=\"stroke: rgb(0, 0, 0); fill: rgb(51, 85, 136); stroke-width: 0;\"/><text x=\"6\" y=\"16\" style=\"font-family: -apple-system, BlinkMacSystemFont, &quot;Segoe WPC&quot;, &quot;Segoe UI&quot;, Ubuntu, &quot;Droid Sans&quot;, sans-serif, &quot;PingFang SC&quot;; font-size: 11px; text-rendering: geometricprecision; fill: rgb(255, 255, 255);\">/conv1/Conv</text><title>Conv</title></g><g class=\"node-attribute\" transform=\"translate(0,23)\"><path d=\"M0,0h88.87109375a0,0 0 0 1 0,0v85a5,5 0 0 1 -5,5h-78.87109375a5,5 0 0 1 -5,-5v-85a0,0 0 0 1 0,0z\" style=\"stroke: rgb(0, 0, 0); fill: rgb(255, 255, 255); stroke-width: 0;\"/><text id=\"initializer-onnx::Conv_255\" xml:space=\"preserve\" x=\"6\" y=\"14\" style=\"font-family: -apple-system, BlinkMacSystemFont, &quot;Segoe WPC&quot;, &quot;Segoe UI&quot;, Ubuntu, &quot;Droid Sans&quot;, sans-serif, &quot;PingFang SC&quot;; font-size: 9px; font-weight: normal; text-rendering: geometricprecision;\"><title>float32[64,3,3,3]</title><tspan style=\"font-weight: bold;\">W</tspan><tspan>〈64×3×3×3〉</tspan></text><text id=\"initializer-onnx::Conv_256\" xml:space=\"preserve\" x=\"6\" y=\"28\" style=\"font-family: -apple-system, BlinkMacSystemFont, &quot;Segoe WPC&quot;, &quot;Segoe UI&quot;, Ubuntu, &quot;Droid Sans&quot;, sans-serif, &quot;PingFang SC&quot;; font-size: 9px; font-weight: normal; text-rendering: geometricprecision;\"><title>float32[64]</title><tspan style=\"font-weight: bold;\">B</tspan><tspan>〈64〉</tspan></text><text xml:space=\"preserve\" x=\"6\" y=\"42\" style=\"font-family: -apple-system, BlinkMacSystemFont, &quot;Segoe WPC&quot;, &quot;Segoe UI&quot;, Ubuntu, &quot;Droid Sans&quot;, sans-serif, &quot;PingFang SC&quot;; font-size: 9px; font-weight: normal; text-rendering: geometricprecision;\"><title>int64[]</title><tspan>dilations</tspan><tspan> = 1, 1</tspan></text><text xml:space=\"preserve\" x=\"6\" y=\"56\" style=\"font-family: -apple-system, BlinkMacSystemFont, &quot;Segoe WPC&quot;, &quot;Segoe UI&quot;, Ubuntu, &quot;Droid Sans&quot;, sans-serif, &quot;PingFang SC&quot;; font-size: 9px; font-weight: normal; text-rendering: geometricprecision;\"><title>int64[]</title><tspan>kernel_shape</tspan><tspan> = 3, 3</tspan></text><text xml:space=\"preserve\" x=\"6\" y=\"70\" style=\"font-family: -apple-system, BlinkMacSystemFont, &quot;Segoe WPC&quot;, &quot;Segoe UI&quot;, Ubuntu, &quot;Droid Sans&quot;, sans-serif, &quot;PingFang SC&quot;; font-size: 9px; font-weight: normal; text-rendering: geometricprecision;\"><title>int64[]</title><tspan>pads</tspan><tspan> = 1, 1, 1, 1</tspan></text><text xml:space=\"preserve\" x=\"6\" y=\"84\" style=\"font-family: -apple-system, BlinkMacSystemFont, &quot;Segoe WPC&quot;, &quot;Segoe UI&quot;, Ubuntu, &quot;Droid Sans&quot;, sans-serif, &quot;PingFang SC&quot;; font-size: 9px; font-weight: normal; text-rendering: geometricprecision;\"><title>int64[]</title><tspan>strides</tspan><tspan> = 1, 1</tspan></text><line class=\"node\" x1=\"0\" x2=\"88.87109375\" y1=\"0\" y2=\"0\" style=\"stroke: rgb(51, 51, 51); fill: none; stroke-width: 1px;\"/></g><path class=\"node border\" d=\"M5,0h78.87109375a5,5 0 0 1 5,5v103a5,5 0 0 1 -5,5h-78.87109375a5,5 0 0 1 -5,-5v-103a5,5 0 0 1 5,-5z\" style=\"stroke: rgb(51, 51, 51); fill: none; stroke-width: 1px;\"/></g><g id=\"node-name-/Relu\" class=\"node graph-node\" transform=\"translate(373.146484375,111.5)\" style=\"opacity: 1;\"><g class=\"node-item node-item-type node-item-type-activation\" transform=\"translate(0,0)\"><path d=\"M5,0h30.1875a5,5 0 0 1 5,5v13a5,5 0 0 1 -5,5h-30.1875a5,5 0 0 1 -5,-5v-13a5,5 0 0 1 5,-5z\" style=\"stroke: rgb(0, 0, 0); fill: rgb(112, 41, 33); stroke-width: 0;\"/><text x=\"6\" y=\"16\" style=\"font-family: -apple-system, BlinkMacSystemFont, &quot;Segoe WPC&quot;, &quot;Segoe UI&quot;, Ubuntu, &quot;Droid Sans&quot;, sans-serif, &quot;PingFang SC&quot;; font-size: 11px; text-rendering: geometricprecision; fill: rgb(255, 255, 255);\">/Relu</text><title>Relu</title></g><path class=\"node border\" d=\"M5,0h30.1875a5,5 0 0 1 5,5v13a5,5 0 0 1 -5,5h-30.1875a5,5 0 0 1 -5,-5v-13a5,5 0 0 1 5,-5z\" style=\"stroke: rgb(51, 51, 51); fill: none; stroke-width: 1px;\"/></g><g id=\"node-name-/layer1/layer1.0/conv1/Conv\" class=\"node graph-node\" transform=\"translate(501.3642578125,104.75)\" style=\"opacity: 1;\"><g class=\"node-item node-item-type node-item-type-layer\" transform=\"translate(0,0)\"><path d=\"M5,0h143.06982421875a5,5 0 0 1 5,5v18a0,0 0 0 1 0,0h-153.06982421875a0,0 0 0 1 0,0v-18a5,5 0 0 1 5,-5z\" style=\"stroke: rgb(0, 0, 0); fill: rgb(51, 85, 136); stroke-width: 0;\"/><text x=\"6\" y=\"16\" style=\"font-family: -apple-system, BlinkMacSystemFont, &quot;Segoe WPC&quot;, &quot;Segoe UI&quot;, Ubuntu, &quot;Droid Sans&quot;, sans-serif, &quot;PingFang SC&quot;; font-size: 11px; text-rendering: geometricprecision; fill: rgb(255, 255, 255);\">/layer1/layer1.0/conv1/Conv</text><title>Conv</title></g><g class=\"node-attribute\" transform=\"translate(0,23)\"><path d=\"M0,0h153.06982421875a0,0 0 0 1 0,0v85a5,5 0 0 1 -5,5h-143.06982421875a5,5 0 0 1 -5,-5v-85a0,0 0 0 1 0,0z\" style=\"stroke: rgb(0, 0, 0); fill: rgb(255, 255, 255); stroke-width: 0;\"/><text id=\"initializer-onnx::Conv_258\" xml:space=\"preserve\" x=\"6\" y=\"14\" style=\"font-family: -apple-system, BlinkMacSystemFont, &quot;Segoe WPC&quot;, &quot;Segoe UI&quot;, Ubuntu, &quot;Droid Sans&quot;, sans-serif, &quot;PingFang SC&quot;; font-size: 9px; font-weight: normal; text-rendering: geometricprecision;\"><title>float32[64,64,3,3]</title><tspan style=\"font-weight: bold;\">W</tspan><tspan>〈64×64×3×3〉</tspan></text><text id=\"initializer-onnx::Conv_259\" xml:space=\"preserve\" x=\"6\" y=\"28\" style=\"font-family: -apple-system, BlinkMacSystemFont, &quot;Segoe WPC&quot;, &quot;Segoe UI&quot;, Ubuntu, &quot;Droid Sans&quot;, sans-serif, &quot;PingFang SC&quot;; font-size: 9px; font-weight: normal; text-rendering: geometricprecision;\"><title>float32[64]</title><tspan style=\"font-weight: bold;\">B</tspan><tspan>〈64〉</tspan></text><text xml:space=\"preserve\" x=\"6\" y=\"42\" style=\"font-family: -apple-system, BlinkMacSystemFont, &quot;Segoe WPC&quot;, &quot;Segoe UI&quot;, Ubuntu, &quot;Droid Sans&quot;, sans-serif, &quot;PingFang SC&quot;; font-size: 9px; font-weight: normal; text-rendering: geometricprecision;\"><title>int64[]</title><tspan>dilations</tspan><tspan> = 1, 1</tspan></text><text xml:space=\"preserve\" x=\"6\" y=\"56\" style=\"font-family: -apple-system, BlinkMacSystemFont, &quot;Segoe WPC&quot;, &quot;Segoe UI&quot;, Ubuntu, &quot;Droid Sans&quot;, sans-serif, &quot;PingFang SC&quot;; font-size: 9px; font-weight: normal; text-rendering: geometricprecision;\"><title>int64[]</title><tspan>kernel_shape</tspan><tspan> = 3, 3</tspan></text><text xml:space=\"preserve\" x=\"6\" y=\"70\" style=\"font-family: -apple-system, BlinkMacSystemFont, &quot;Segoe WPC&quot;, &quot;Segoe UI&quot;, Ubuntu, &quot;Droid Sans&quot;, sans-serif, &quot;PingFang SC&quot;; font-size: 9px; font-weight: normal; text-rendering: geometricprecision;\"><title>int64[]</title><tspan>pads</tspan><tspan> = 1, 1, 1, 1</tspan></text><text xml:space=\"preserve\" x=\"6\" y=\"84\" style=\"font-family: -apple-system, BlinkMacSystemFont, &quot;Segoe WPC&quot;, &quot;Segoe UI&quot;, Ubuntu, &quot;Droid Sans&quot;, sans-serif, &quot;PingFang SC&quot;; font-size: 9px; font-weight: normal; text-rendering: geometricprecision;\"><title>int64[]</title><tspan>strides</tspan><tspan> = 1, 1</tspan></text><line class=\"node\" x1=\"0\" x2=\"153.06982421875\" y1=\"0\" y2=\"0\" style=\"stroke: rgb(51, 51, 51); fill: none; stroke-width: 1px;\"/></g><path class=\"node border\" d=\"M5,0h143.06982421875a5,5 0 0 1 5,5v103a5,5 0 0 1 -5,5h-143.06982421875a5,5 0 0 1 -5,-5v-103a5,5 0 0 1 5,-5z\" style=\"stroke: rgb(51, 51, 51); fill: none; stroke-width: 1px;\"/></g><g id=\"node-name-/layer1/layer1.0/Relu\" class=\"node graph-node\" transform=\"translate(844.42236328125,149.75)\" style=\"opacity: 1;\"><g class=\"node-item node-item-type node-item-type-activation\" transform=\"translate(0,0)\"><path d=\"M5,0h105.265625a5,5 0 0 1 5,5v13a5,5 0 0 1 -5,5h-105.265625a5,5 0 0 1 -5,-5v-13a5,5 0 0 1 5,-5z\" style=\"stroke: rgb(0, 0, 0); fill: rgb(112, 41, 33); stroke-width: 0;\"/><text x=\"6\" y=\"16\" style=\"font-family: -apple-system, BlinkMacSystemFont, &quot;Segoe WPC&quot;, &quot;Segoe UI&quot;, Ubuntu, &quot;Droid Sans&quot;, sans-serif, &quot;PingFang SC&quot;; font-size: 11px; text-rendering: geometricprecision; fill: rgb(255, 255, 255);\">/layer1/layer1.0/Relu</text><title>Relu</title></g><path class=\"node border\" d=\"M5,0h105.265625a5,5 0 0 1 5,5v13a5,5 0 0 1 -5,5h-105.265625a5,5 0 0 1 -5,-5v-13a5,5 0 0 1 5,-5z\" style=\"stroke: rgb(51, 51, 51); fill: none; stroke-width: 1px;\"/></g><g id=\"node-name-/layer1/layer1.0/conv2/Conv\" class=\"node graph-node\" transform=\"translate(1115.96044921875,104.75)\" style=\"opacity: 1;\"><g class=\"node-item node-item-type node-item-type-layer\" transform=\"translate(0,0)\"><path d=\"M5,0h143.06982421875a5,5 0 0 1 5,5v18a0,0 0 0 1 0,0h-153.06982421875a0,0 0 0 1 0,0v-18a5,5 0 0 1 5,-5z\" style=\"stroke: rgb(0, 0, 0); fill: rgb(51, 85, 136); stroke-width: 0;\"/><text x=\"6\" y=\"16\" style=\"font-family: -apple-system, BlinkMacSystemFont, &quot;Segoe WPC&quot;, &quot;Segoe UI&quot;, Ubuntu, &quot;Droid Sans&quot;, sans-serif, &quot;PingFang SC&quot;; font-size: 11px; text-rendering: geometricprecision; fill: rgb(255, 255, 255);\">/layer1/layer1.0/conv2/Conv</text><title>Conv</title></g><g class=\"node-attribute\" transform=\"translate(0,23)\"><path d=\"M0,0h153.06982421875a0,0 0 0 1 0,0v85a5,5 0 0 1 -5,5h-143.06982421875a5,5 0 0 1 -5,-5v-85a0,0 0 0 1 0,0z\" style=\"stroke: rgb(0, 0, 0); fill: rgb(255, 255, 255); stroke-width: 0;\"/><text id=\"initializer-onnx::Conv_261\" xml:space=\"preserve\" x=\"6\" y=\"14\" style=\"font-family: -apple-system, BlinkMacSystemFont, &quot;Segoe WPC&quot;, &quot;Segoe UI&quot;, Ubuntu, &quot;Droid Sans&quot;, sans-serif, &quot;PingFang SC&quot;; font-size: 9px; font-weight: normal; text-rendering: geometricprecision;\"><title>float32[64,64,3,3]</title><tspan style=\"font-weight: bold;\">W</tspan><tspan>〈64×64×3×3〉</tspan></text><text id=\"initializer-onnx::Conv_262\" xml:space=\"preserve\" x=\"6\" y=\"28\" style=\"font-family: -apple-system, BlinkMacSystemFont, &quot;Segoe WPC&quot;, &quot;Segoe UI&quot;, Ubuntu, &quot;Droid Sans&quot;, sans-serif, &quot;PingFang SC&quot;; font-size: 9px; font-weight: normal; text-rendering: geometricprecision;\"><title>float32[64]</title><tspan style=\"font-weight: bold;\">B</tspan><tspan>〈64〉</tspan></text><text xml:space=\"preserve\" x=\"6\" y=\"42\" style=\"font-family: -apple-system, BlinkMacSystemFont, &quot;Segoe WPC&quot;, &quot;Segoe UI&quot;, Ubuntu, &quot;Droid Sans&quot;, sans-serif, &quot;PingFang SC&quot;; font-size: 9px; font-weight: normal; text-rendering: geometricprecision;\"><title>int64[]</title><tspan>dilations</tspan><tspan> = 1, 1</tspan></text><text xml:space=\"preserve\" x=\"6\" y=\"56\" style=\"font-family: -apple-system, BlinkMacSystemFont, &quot;Segoe WPC&quot;, &quot;Segoe UI&quot;, Ubuntu, &quot;Droid Sans&quot;, sans-serif, &quot;PingFang SC&quot;; font-size: 9px; font-weight: normal; text-rendering: geometricprecision;\"><title>int64[]</title><tspan>kernel_shape</tspan><tspan> = 3, 3</tspan></text><text xml:space=\"preserve\" x=\"6\" y=\"70\" style=\"font-family: -apple-system, BlinkMacSystemFont, &quot;Segoe WPC&quot;, &quot;Segoe UI&quot;, Ubuntu, &quot;Droid Sans&quot;, sans-serif, &quot;PingFang SC&quot;; font-size: 9px; font-weight: normal; text-rendering: geometricprecision;\"><title>int64[]</title><tspan>pads</tspan><tspan> = 1, 1, 1, 1</tspan></text><text xml:space=\"preserve\" x=\"6\" y=\"84\" style=\"font-family: -apple-system, BlinkMacSystemFont, &quot;Segoe WPC&quot;, &quot;Segoe UI&quot;, Ubuntu, &quot;Droid Sans&quot;, sans-serif, &quot;PingFang SC&quot;; font-size: 9px; font-weight: normal; text-rendering: geometricprecision;\"><title>int64[]</title><tspan>strides</tspan><tspan> = 1, 1</tspan></text><line class=\"node\" x1=\"0\" x2=\"153.06982421875\" y1=\"0\" y2=\"0\" style=\"stroke: rgb(51, 51, 51); fill: none; stroke-width: 1px;\"/></g><path class=\"node border\" d=\"M5,0h143.06982421875a5,5 0 0 1 5,5v103a5,5 0 0 1 -5,5h-143.06982421875a5,5 0 0 1 -5,-5v-103a5,5 0 0 1 5,-5z\" style=\"stroke: rgb(51, 51, 51); fill: none; stroke-width: 1px;\"/></g><g id=\"node-name-/layer1/layer1.0/Add\" class=\"node graph-node\" transform=\"translate(1459.0185546875,111.5)\" style=\"opacity: 1;\"><g class=\"node-item node-item-type\" transform=\"translate(0,0)\"><path d=\"M5,0h104.40625a5,5 0 0 1 5,5v13a5,5 0 0 1 -5,5h-104.40625a5,5 0 0 1 -5,-5v-13a5,5 0 0 1 5,-5z\" style=\"stroke: rgb(0, 0, 0); fill: rgb(0, 0, 0); stroke-width: 0;\"/><text x=\"6\" y=\"16\" style=\"font-family: -apple-system, BlinkMacSystemFont, &quot;Segoe WPC&quot;, &quot;Segoe UI&quot;, Ubuntu, &quot;Droid Sans&quot;, sans-serif, &quot;PingFang SC&quot;; font-size: 11px; text-rendering: geometricprecision; fill: rgb(255, 255, 255);\">/layer1/layer1.0/Add</text><title>Add</title></g><path class=\"node border\" d=\"M5,0h104.40625a5,5 0 0 1 5,5v13a5,5 0 0 1 -5,5h-104.40625a5,5 0 0 1 -5,-5v-13a5,5 0 0 1 5,-5z\" style=\"stroke: rgb(51, 51, 51); fill: none; stroke-width: 1px;\"/></g><g id=\"node-name-/layer1/layer1.0/Relu_1\" class=\"node graph-node\" transform=\"translate(1728.92578125,111.5)\" style=\"opacity: 1;\"><g class=\"node-item node-item-type node-item-type-activation\" transform=\"translate(0,0)\"><path d=\"M5,0h115.75a5,5 0 0 1 5,5v13a5,5 0 0 1 -5,5h-115.75a5,5 0 0 1 -5,-5v-13a5,5 0 0 1 5,-5z\" style=\"stroke: rgb(0, 0, 0); fill: rgb(112, 41, 33); stroke-width: 0;\"/><text x=\"6\" y=\"16\" style=\"font-family: -apple-system, BlinkMacSystemFont, &quot;Segoe WPC&quot;, &quot;Segoe UI&quot;, Ubuntu, &quot;Droid Sans&quot;, sans-serif, &quot;PingFang SC&quot;; font-size: 11px; text-rendering: geometricprecision; fill: rgb(255, 255, 255);\">/layer1/layer1.0/Relu_1</text><title>Relu</title></g><path class=\"node border\" d=\"M5,0h115.75a5,5 0 0 1 5,5v13a5,5 0 0 1 -5,5h-115.75a5,5 0 0 1 -5,-5v-13a5,5 0 0 1 5,-5z\" style=\"stroke: rgb(51, 51, 51); fill: none; stroke-width: 1px;\"/></g><g id=\"node-name-/layer1/layer1.1/conv1/Conv\" class=\"node graph-node\" transform=\"translate(2020.4892578125,104.75)\" style=\"opacity: 1;\"><g class=\"node-item node-item-type node-item-type-layer\" transform=\"translate(0,0)\"><path d=\"M5,0h143.06982421875a5,5 0 0 1 5,5v18a0,0 0 0 1 0,0h-153.06982421875a0,0 0 0 1 0,0v-18a5,5 0 0 1 5,-5z\" style=\"stroke: rgb(0, 0, 0); fill: rgb(51, 85, 136); stroke-width: 0;\"/><text x=\"6\" y=\"16\" style=\"font-family: -apple-system, BlinkMacSystemFont, &quot;Segoe WPC&quot;, &quot;Segoe UI&quot;, Ubuntu, &quot;Droid Sans&quot;, sans-serif, &quot;PingFang SC&quot;; font-size: 11px; text-rendering: geometricprecision; fill: rgb(255, 255, 255);\">/layer1/layer1.1/conv1/Conv</text><title>Conv</title></g><g class=\"node-attribute\" transform=\"translate(0,23)\"><path d=\"M0,0h153.06982421875a0,0 0 0 1 0,0v85a5,5 0 0 1 -5,5h-143.06982421875a5,5 0 0 1 -5,-5v-85a0,0 0 0 1 0,0z\" style=\"stroke: rgb(0, 0, 0); fill: rgb(255, 255, 255); stroke-width: 0;\"/><text id=\"initializer-onnx::Conv_264\" xml:space=\"preserve\" x=\"6\" y=\"14\" style=\"font-family: -apple-system, BlinkMacSystemFont, &quot;Segoe WPC&quot;, &quot;Segoe UI&quot;, Ubuntu, &quot;Droid Sans&quot;, sans-serif, &quot;PingFang SC&quot;; font-size: 9px; font-weight: normal; text-rendering: geometricprecision;\"><title>float32[64,64,3,3]</title><tspan style=\"font-weight: bold;\">W</tspan><tspan>〈64×64×3×3〉</tspan></text><text id=\"initializer-onnx::Conv_265\" xml:space=\"preserve\" x=\"6\" y=\"28\" style=\"font-family: -apple-system, BlinkMacSystemFont, &quot;Segoe WPC&quot;, &quot;Segoe UI&quot;, Ubuntu, &quot;Droid Sans&quot;, sans-serif, &quot;PingFang SC&quot;; font-size: 9px; font-weight: normal; text-rendering: geometricprecision;\"><title>float32[64]</title><tspan style=\"font-weight: bold;\">B</tspan><tspan>〈64〉</tspan></text><text xml:space=\"preserve\" x=\"6\" y=\"42\" style=\"font-family: -apple-system, BlinkMacSystemFont, &quot;Segoe WPC&quot;, &quot;Segoe UI&quot;, Ubuntu, &quot;Droid Sans&quot;, sans-serif, &quot;PingFang SC&quot;; font-size: 9px; font-weight: normal; text-rendering: geometricprecision;\"><title>int64[]</title><tspan>dilations</tspan><tspan> = 1, 1</tspan></text><text xml:space=\"preserve\" x=\"6\" y=\"56\" style=\"font-family: -apple-system, BlinkMacSystemFont, &quot;Segoe WPC&quot;, &quot;Segoe UI&quot;, Ubuntu, &quot;Droid Sans&quot;, sans-serif, &quot;PingFang SC&quot;; font-size: 9px; font-weight: normal; text-rendering: geometricprecision;\"><title>int64[]</title><tspan>kernel_shape</tspan><tspan> = 3, 3</tspan></text><text xml:space=\"preserve\" x=\"6\" y=\"70\" style=\"font-family: -apple-system, BlinkMacSystemFont, &quot;Segoe WPC&quot;, &quot;Segoe UI&quot;, Ubuntu, &quot;Droid Sans&quot;, sans-serif, &quot;PingFang SC&quot;; font-size: 9px; font-weight: normal; text-rendering: geometricprecision;\"><title>int64[]</title><tspan>pads</tspan><tspan> = 1, 1, 1, 1</tspan></text><text xml:space=\"preserve\" x=\"6\" y=\"84\" style=\"font-family: -apple-system, BlinkMacSystemFont, &quot;Segoe WPC&quot;, &quot;Segoe UI&quot;, Ubuntu, &quot;Droid Sans&quot;, sans-serif, &quot;PingFang SC&quot;; font-size: 9px; font-weight: normal; text-rendering: geometricprecision;\"><title>int64[]</title><tspan>strides</tspan><tspan> = 1, 1</tspan></text><line class=\"node\" x1=\"0\" x2=\"153.06982421875\" y1=\"0\" y2=\"0\" style=\"stroke: rgb(51, 51, 51); fill: none; stroke-width: 1px;\"/></g><path class=\"node border\" d=\"M5,0h143.06982421875a5,5 0 0 1 5,5v103a5,5 0 0 1 -5,5h-143.06982421875a5,5 0 0 1 -5,-5v-103a5,5 0 0 1 5,-5z\" style=\"stroke: rgb(51, 51, 51); fill: none; stroke-width: 1px;\"/></g><g id=\"node-name-/layer1/layer1.1/Relu\" class=\"node graph-node\" transform=\"translate(2378.8212890625,149.75)\" style=\"opacity: 1;\"><g class=\"node-item node-item-type node-item-type-activation\" transform=\"translate(0,0)\"><path d=\"M5,0h105.265625a5,5 0 0 1 5,5v13a5,5 0 0 1 -5,5h-105.265625a5,5 0 0 1 -5,-5v-13a5,5 0 0 1 5,-5z\" style=\"stroke: rgb(0, 0, 0); fill: rgb(112, 41, 33); stroke-width: 0;\"/><text x=\"6\" y=\"16\" style=\"font-family: -apple-system, BlinkMacSystemFont, &quot;Segoe WPC&quot;, &quot;Segoe UI&quot;, Ubuntu, &quot;Droid Sans&quot;, sans-serif, &quot;PingFang SC&quot;; font-size: 11px; text-rendering: geometricprecision; fill: rgb(255, 255, 255);\">/layer1/layer1.1/Relu</text><title>Relu</title></g><path class=\"node border\" d=\"M5,0h105.265625a5,5 0 0 1 5,5v13a5,5 0 0 1 -5,5h-105.265625a5,5 0 0 1 -5,-5v-13a5,5 0 0 1 5,-5z\" style=\"stroke: rgb(51, 51, 51); fill: none; stroke-width: 1px;\"/></g><g id=\"node-name-/layer1/layer1.1/conv2/Conv\" class=\"node graph-node\" transform=\"translate(2665.63330078125,104.75)\" style=\"opacity: 1;\"><g class=\"node-item node-item-type node-item-type-layer\" transform=\"translate(0,0)\"><path d=\"M5,0h143.06982421875a5,5 0 0 1 5,5v18a0,0 0 0 1 0,0h-153.06982421875a0,0 0 0 1 0,0v-18a5,5 0 0 1 5,-5z\" style=\"stroke: rgb(0, 0, 0); fill: rgb(51, 85, 136); stroke-width: 0;\"/><text x=\"6\" y=\"16\" style=\"font-family: -apple-system, BlinkMacSystemFont, &quot;Segoe WPC&quot;, &quot;Segoe UI&quot;, Ubuntu, &quot;Droid Sans&quot;, sans-serif, &quot;PingFang SC&quot;; font-size: 11px; text-rendering: geometricprecision; fill: rgb(255, 255, 255);\">/layer1/layer1.1/conv2/Conv</text><title>Conv</title></g><g class=\"node-attribute\" transform=\"translate(0,23)\"><path d=\"M0,0h153.06982421875a0,0 0 0 1 0,0v85a5,5 0 0 1 -5,5h-143.06982421875a5,5 0 0 1 -5,-5v-85a0,0 0 0 1 0,0z\" style=\"stroke: rgb(0, 0, 0); fill: rgb(255, 255, 255); stroke-width: 0;\"/><text id=\"initializer-onnx::Conv_267\" xml:space=\"preserve\" x=\"6\" y=\"14\" style=\"font-family: -apple-system, BlinkMacSystemFont, &quot;Segoe WPC&quot;, &quot;Segoe UI&quot;, Ubuntu, &quot;Droid Sans&quot;, sans-serif, &quot;PingFang SC&quot;; font-size: 9px; font-weight: normal; text-rendering: geometricprecision;\"><title>float32[64,64,3,3]</title><tspan style=\"font-weight: bold;\">W</tspan><tspan>〈64×64×3×3〉</tspan></text><text id=\"initializer-onnx::Conv_268\" xml:space=\"preserve\" x=\"6\" y=\"28\" style=\"font-family: -apple-system, BlinkMacSystemFont, &quot;Segoe WPC&quot;, &quot;Segoe UI&quot;, Ubuntu, &quot;Droid Sans&quot;, sans-serif, &quot;PingFang SC&quot;; font-size: 9px; font-weight: normal; text-rendering: geometricprecision;\"><title>float32[64]</title><tspan style=\"font-weight: bold;\">B</tspan><tspan>〈64〉</tspan></text><text xml:space=\"preserve\" x=\"6\" y=\"42\" style=\"font-family: -apple-system, BlinkMacSystemFont, &quot;Segoe WPC&quot;, &quot;Segoe UI&quot;, Ubuntu, &quot;Droid Sans&quot;, sans-serif, &quot;PingFang SC&quot;; font-size: 9px; font-weight: normal; text-rendering: geometricprecision;\"><title>int64[]</title><tspan>dilations</tspan><tspan> = 1, 1</tspan></text><text xml:space=\"preserve\" x=\"6\" y=\"56\" style=\"font-family: -apple-system, BlinkMacSystemFont, &quot;Segoe WPC&quot;, &quot;Segoe UI&quot;, Ubuntu, &quot;Droid Sans&quot;, sans-serif, &quot;PingFang SC&quot;; font-size: 9px; font-weight: normal; text-rendering: geometricprecision;\"><title>int64[]</title><tspan>kernel_shape</tspan><tspan> = 3, 3</tspan></text><text xml:space=\"preserve\" x=\"6\" y=\"70\" style=\"font-family: -apple-system, BlinkMacSystemFont, &quot;Segoe WPC&quot;, &quot;Segoe UI&quot;, Ubuntu, &quot;Droid Sans&quot;, sans-serif, &quot;PingFang SC&quot;; font-size: 9px; font-weight: normal; text-rendering: geometricprecision;\"><title>int64[]</title><tspan>pads</tspan><tspan> = 1, 1, 1, 1</tspan></text><text xml:space=\"preserve\" x=\"6\" y=\"84\" style=\"font-family: -apple-system, BlinkMacSystemFont, &quot;Segoe WPC&quot;, &quot;Segoe UI&quot;, Ubuntu, &quot;Droid Sans&quot;, sans-serif, &quot;PingFang SC&quot;; font-size: 9px; font-weight: normal; text-rendering: geometricprecision;\"><title>int64[]</title><tspan>strides</tspan><tspan> = 1, 1</tspan></text><line class=\"node\" x1=\"0\" x2=\"153.06982421875\" y1=\"0\" y2=\"0\" style=\"stroke: rgb(51, 51, 51); fill: none; stroke-width: 1px;\"/></g><path class=\"node border\" d=\"M5,0h143.06982421875a5,5 0 0 1 5,5v103a5,5 0 0 1 -5,5h-143.06982421875a5,5 0 0 1 -5,-5v-103a5,5 0 0 1 5,-5z\" style=\"stroke: rgb(51, 51, 51); fill: none; stroke-width: 1px;\"/></g><g id=\"node-name-/layer1/layer1.1/Add\" class=\"node graph-node\" transform=\"translate(3008.69140625,111.5)\" style=\"opacity: 1;\"><g class=\"node-item node-item-type\" transform=\"translate(0,0)\"><path d=\"M5,0h104.40625a5,5 0 0 1 5,5v13a5,5 0 0 1 -5,5h-104.40625a5,5 0 0 1 -5,-5v-13a5,5 0 0 1 5,-5z\" style=\"stroke: rgb(0, 0, 0); fill: rgb(0, 0, 0); stroke-width: 0;\"/><text x=\"6\" y=\"16\" style=\"font-family: -apple-system, BlinkMacSystemFont, &quot;Segoe WPC&quot;, &quot;Segoe UI&quot;, Ubuntu, &quot;Droid Sans&quot;, sans-serif, &quot;PingFang SC&quot;; font-size: 11px; text-rendering: geometricprecision; fill: rgb(255, 255, 255);\">/layer1/layer1.1/Add</text><title>Add</title></g><path class=\"node border\" d=\"M5,0h104.40625a5,5 0 0 1 5,5v13a5,5 0 0 1 -5,5h-104.40625a5,5 0 0 1 -5,-5v-13a5,5 0 0 1 5,-5z\" style=\"stroke: rgb(51, 51, 51); fill: none; stroke-width: 1px;\"/></g><g id=\"node-name-/layer1/layer1.1/Relu_1\" class=\"node graph-node\" transform=\"translate(3278.5986328125,111.5)\" style=\"opacity: 1;\"><g class=\"node-item node-item-type node-item-type-activation\" transform=\"translate(0,0)\"><path d=\"M5,0h115.75a5,5 0 0 1 5,5v13a5,5 0 0 1 -5,5h-115.75a5,5 0 0 1 -5,-5v-13a5,5 0 0 1 5,-5z\" style=\"stroke: rgb(0, 0, 0); fill: rgb(112, 41, 33); stroke-width: 0;\"/><text x=\"6\" y=\"16\" style=\"font-family: -apple-system, BlinkMacSystemFont, &quot;Segoe WPC&quot;, &quot;Segoe UI&quot;, Ubuntu, &quot;Droid Sans&quot;, sans-serif, &quot;PingFang SC&quot;; font-size: 11px; text-rendering: geometricprecision; fill: rgb(255, 255, 255);\">/layer1/layer1.1/Relu_1</text><title>Relu</title></g><path class=\"node border\" d=\"M5,0h115.75a5,5 0 0 1 5,5v13a5,5 0 0 1 -5,5h-115.75a5,5 0 0 1 -5,-5v-13a5,5 0 0 1 5,-5z\" style=\"stroke: rgb(51, 51, 51); fill: none; stroke-width: 1px;\"/></g><g id=\"node-name-/layer1/layer1.2/conv1/Conv\" class=\"node graph-node\" transform=\"translate(3570.162109375,104.75)\" style=\"opacity: 1;\"><g class=\"node-item node-item-type node-item-type-layer\" transform=\"translate(0,0)\"><path d=\"M5,0h143.06982421875a5,5 0 0 1 5,5v18a0,0 0 0 1 0,0h-153.06982421875a0,0 0 0 1 0,0v-18a5,5 0 0 1 5,-5z\" style=\"stroke: rgb(0, 0, 0); fill: rgb(51, 85, 136); stroke-width: 0;\"/><text x=\"6\" y=\"16\" style=\"font-family: -apple-system, BlinkMacSystemFont, &quot;Segoe WPC&quot;, &quot;Segoe UI&quot;, Ubuntu, &quot;Droid Sans&quot;, sans-serif, &quot;PingFang SC&quot;; font-size: 11px; text-rendering: geometricprecision; fill: rgb(255, 255, 255);\">/layer1/layer1.2/conv1/Conv</text><title>Conv</title></g><g class=\"node-attribute\" transform=\"translate(0,23)\"><path d=\"M0,0h153.06982421875a0,0 0 0 1 0,0v85a5,5 0 0 1 -5,5h-143.06982421875a5,5 0 0 1 -5,-5v-85a0,0 0 0 1 0,0z\" style=\"stroke: rgb(0, 0, 0); fill: rgb(255, 255, 255); stroke-width: 0;\"/><text id=\"initializer-onnx::Conv_270\" xml:space=\"preserve\" x=\"6\" y=\"14\" style=\"font-family: -apple-system, BlinkMacSystemFont, &quot;Segoe WPC&quot;, &quot;Segoe UI&quot;, Ubuntu, &quot;Droid Sans&quot;, sans-serif, &quot;PingFang SC&quot;; font-size: 9px; font-weight: normal; text-rendering: geometricprecision;\"><title>float32[64,64,3,3]</title><tspan style=\"font-weight: bold;\">W</tspan><tspan>〈64×64×3×3〉</tspan></text><text id=\"initializer-onnx::Conv_271\" xml:space=\"preserve\" x=\"6\" y=\"28\" style=\"font-family: -apple-system, BlinkMacSystemFont, &quot;Segoe WPC&quot;, &quot;Segoe UI&quot;, Ubuntu, &quot;Droid Sans&quot;, sans-serif, &quot;PingFang SC&quot;; font-size: 9px; font-weight: normal; text-rendering: geometricprecision;\"><title>float32[64]</title><tspan style=\"font-weight: bold;\">B</tspan><tspan>〈64〉</tspan></text><text xml:space=\"preserve\" x=\"6\" y=\"42\" style=\"font-family: -apple-system, BlinkMacSystemFont, &quot;Segoe WPC&quot;, &quot;Segoe UI&quot;, Ubuntu, &quot;Droid Sans&quot;, sans-serif, &quot;PingFang SC&quot;; font-size: 9px; font-weight: normal; text-rendering: geometricprecision;\"><title>int64[]</title><tspan>dilations</tspan><tspan> = 1, 1</tspan></text><text xml:space=\"preserve\" x=\"6\" y=\"56\" style=\"font-family: -apple-system, BlinkMacSystemFont, &quot;Segoe WPC&quot;, &quot;Segoe UI&quot;, Ubuntu, &quot;Droid Sans&quot;, sans-serif, &quot;PingFang SC&quot;; font-size: 9px; font-weight: normal; text-rendering: geometricprecision;\"><title>int64[]</title><tspan>kernel_shape</tspan><tspan> = 3, 3</tspan></text><text xml:space=\"preserve\" x=\"6\" y=\"70\" style=\"font-family: -apple-system, BlinkMacSystemFont, &quot;Segoe WPC&quot;, &quot;Segoe UI&quot;, Ubuntu, &quot;Droid Sans&quot;, sans-serif, &quot;PingFang SC&quot;; font-size: 9px; font-weight: normal; text-rendering: geometricprecision;\"><title>int64[]</title><tspan>pads</tspan><tspan> = 1, 1, 1, 1</tspan></text><text xml:space=\"preserve\" x=\"6\" y=\"84\" style=\"font-family: -apple-system, BlinkMacSystemFont, &quot;Segoe WPC&quot;, &quot;Segoe UI&quot;, Ubuntu, &quot;Droid Sans&quot;, sans-serif, &quot;PingFang SC&quot;; font-size: 9px; font-weight: normal; text-rendering: geometricprecision;\"><title>int64[]</title><tspan>strides</tspan><tspan> = 1, 1</tspan></text><line class=\"node\" x1=\"0\" x2=\"153.06982421875\" y1=\"0\" y2=\"0\" style=\"stroke: rgb(51, 51, 51); fill: none; stroke-width: 1px;\"/></g><path class=\"node border\" d=\"M5,0h143.06982421875a5,5 0 0 1 5,5v103a5,5 0 0 1 -5,5h-143.06982421875a5,5 0 0 1 -5,-5v-103a5,5 0 0 1 5,-5z\" style=\"stroke: rgb(51, 51, 51); fill: none; stroke-width: 1px;\"/></g><g id=\"node-name-/layer1/layer1.2/Relu\" class=\"node graph-node\" transform=\"translate(3928.494140625,149.75)\" style=\"opacity: 1;\"><g class=\"node-item node-item-type node-item-type-activation\" transform=\"translate(0,0)\"><path d=\"M5,0h105.265625a5,5 0 0 1 5,5v13a5,5 0 0 1 -5,5h-105.265625a5,5 0 0 1 -5,-5v-13a5,5 0 0 1 5,-5z\" style=\"stroke: rgb(0, 0, 0); fill: rgb(112, 41, 33); stroke-width: 0;\"/><text x=\"6\" y=\"16\" style=\"font-family: -apple-system, BlinkMacSystemFont, &quot;Segoe WPC&quot;, &quot;Segoe UI&quot;, Ubuntu, &quot;Droid Sans&quot;, sans-serif, &quot;PingFang SC&quot;; font-size: 11px; text-rendering: geometricprecision; fill: rgb(255, 255, 255);\">/layer1/layer1.2/Relu</text><title>Relu</title></g><path class=\"node border\" d=\"M5,0h105.265625a5,5 0 0 1 5,5v13a5,5 0 0 1 -5,5h-105.265625a5,5 0 0 1 -5,-5v-13a5,5 0 0 1 5,-5z\" style=\"stroke: rgb(51, 51, 51); fill: none; stroke-width: 1px;\"/></g><g id=\"node-name-/layer1/layer1.2/conv2/Conv\" class=\"node graph-node\" transform=\"translate(4215.30615234375,104.75)\" style=\"opacity: 1;\"><g class=\"node-item node-item-type node-item-type-layer\" transform=\"translate(0,0)\"><path d=\"M5,0h143.06982421875a5,5 0 0 1 5,5v18a0,0 0 0 1 0,0h-153.06982421875a0,0 0 0 1 0,0v-18a5,5 0 0 1 5,-5z\" style=\"stroke: rgb(0, 0, 0); fill: rgb(51, 85, 136); stroke-width: 0;\"/><text x=\"6\" y=\"16\" style=\"font-family: -apple-system, BlinkMacSystemFont, &quot;Segoe WPC&quot;, &quot;Segoe UI&quot;, Ubuntu, &quot;Droid Sans&quot;, sans-serif, &quot;PingFang SC&quot;; font-size: 11px; text-rendering: geometricprecision; fill: rgb(255, 255, 255);\">/layer1/layer1.2/conv2/Conv</text><title>Conv</title></g><g class=\"node-attribute\" transform=\"translate(0,23)\"><path d=\"M0,0h153.06982421875a0,0 0 0 1 0,0v85a5,5 0 0 1 -5,5h-143.06982421875a5,5 0 0 1 -5,-5v-85a0,0 0 0 1 0,0z\" style=\"stroke: rgb(0, 0, 0); fill: rgb(255, 255, 255); stroke-width: 0;\"/><text id=\"initializer-onnx::Conv_273\" xml:space=\"preserve\" x=\"6\" y=\"14\" style=\"font-family: -apple-system, BlinkMacSystemFont, &quot;Segoe WPC&quot;, &quot;Segoe UI&quot;, Ubuntu, &quot;Droid Sans&quot;, sans-serif, &quot;PingFang SC&quot;; font-size: 9px; font-weight: normal; text-rendering: geometricprecision;\"><title>float32[64,64,3,3]</title><tspan style=\"font-weight: bold;\">W</tspan><tspan>〈64×64×3×3〉</tspan></text><text id=\"initializer-onnx::Conv_274\" xml:space=\"preserve\" x=\"6\" y=\"28\" style=\"font-family: -apple-system, BlinkMacSystemFont, &quot;Segoe WPC&quot;, &quot;Segoe UI&quot;, Ubuntu, &quot;Droid Sans&quot;, sans-serif, &quot;PingFang SC&quot;; font-size: 9px; font-weight: normal; text-rendering: geometricprecision;\"><title>float32[64]</title><tspan style=\"font-weight: bold;\">B</tspan><tspan>〈64〉</tspan></text><text xml:space=\"preserve\" x=\"6\" y=\"42\" style=\"font-family: -apple-system, BlinkMacSystemFont, &quot;Segoe WPC&quot;, &quot;Segoe UI&quot;, Ubuntu, &quot;Droid Sans&quot;, sans-serif, &quot;PingFang SC&quot;; font-size: 9px; font-weight: normal; text-rendering: geometricprecision;\"><title>int64[]</title><tspan>dilations</tspan><tspan> = 1, 1</tspan></text><text xml:space=\"preserve\" x=\"6\" y=\"56\" style=\"font-family: -apple-system, BlinkMacSystemFont, &quot;Segoe WPC&quot;, &quot;Segoe UI&quot;, Ubuntu, &quot;Droid Sans&quot;, sans-serif, &quot;PingFang SC&quot;; font-size: 9px; font-weight: normal; text-rendering: geometricprecision;\"><title>int64[]</title><tspan>kernel_shape</tspan><tspan> = 3, 3</tspan></text><text xml:space=\"preserve\" x=\"6\" y=\"70\" style=\"font-family: -apple-system, BlinkMacSystemFont, &quot;Segoe WPC&quot;, &quot;Segoe UI&quot;, Ubuntu, &quot;Droid Sans&quot;, sans-serif, &quot;PingFang SC&quot;; font-size: 9px; font-weight: normal; text-rendering: geometricprecision;\"><title>int64[]</title><tspan>pads</tspan><tspan> = 1, 1, 1, 1</tspan></text><text xml:space=\"preserve\" x=\"6\" y=\"84\" style=\"font-family: -apple-system, BlinkMacSystemFont, &quot;Segoe WPC&quot;, &quot;Segoe UI&quot;, Ubuntu, &quot;Droid Sans&quot;, sans-serif, &quot;PingFang SC&quot;; font-size: 9px; font-weight: normal; text-rendering: geometricprecision;\"><title>int64[]</title><tspan>strides</tspan><tspan> = 1, 1</tspan></text><line class=\"node\" x1=\"0\" x2=\"153.06982421875\" y1=\"0\" y2=\"0\" style=\"stroke: rgb(51, 51, 51); fill: none; stroke-width: 1px;\"/></g><path class=\"node border\" d=\"M5,0h143.06982421875a5,5 0 0 1 5,5v103a5,5 0 0 1 -5,5h-143.06982421875a5,5 0 0 1 -5,-5v-103a5,5 0 0 1 5,-5z\" style=\"stroke: rgb(51, 51, 51); fill: none; stroke-width: 1px;\"/></g><g id=\"node-name-/layer1/layer1.2/Add\" class=\"node graph-node\" transform=\"translate(4558.3642578125,111.5)\" style=\"opacity: 1;\"><g class=\"node-item node-item-type\" transform=\"translate(0,0)\"><path d=\"M5,0h104.40625a5,5 0 0 1 5,5v13a5,5 0 0 1 -5,5h-104.40625a5,5 0 0 1 -5,-5v-13a5,5 0 0 1 5,-5z\" style=\"stroke: rgb(0, 0, 0); fill: rgb(0, 0, 0); stroke-width: 0;\"/><text x=\"6\" y=\"16\" style=\"font-family: -apple-system, BlinkMacSystemFont, &quot;Segoe WPC&quot;, &quot;Segoe UI&quot;, Ubuntu, &quot;Droid Sans&quot;, sans-serif, &quot;PingFang SC&quot;; font-size: 11px; text-rendering: geometricprecision; fill: rgb(255, 255, 255);\">/layer1/layer1.2/Add</text><title>Add</title></g><path class=\"node border\" d=\"M5,0h104.40625a5,5 0 0 1 5,5v13a5,5 0 0 1 -5,5h-104.40625a5,5 0 0 1 -5,-5v-13a5,5 0 0 1 5,-5z\" style=\"stroke: rgb(51, 51, 51); fill: none; stroke-width: 1px;\"/></g><g id=\"node-name-/layer1/layer1.2/Relu_1\" class=\"node graph-node\" transform=\"translate(4828.271484375,111.5)\" style=\"opacity: 1;\"><g class=\"node-item node-item-type node-item-type-activation\" transform=\"translate(0,0)\"><path d=\"M5,0h115.75a5,5 0 0 1 5,5v13a5,5 0 0 1 -5,5h-115.75a5,5 0 0 1 -5,-5v-13a5,5 0 0 1 5,-5z\" style=\"stroke: rgb(0, 0, 0); fill: rgb(112, 41, 33); stroke-width: 0;\"/><text x=\"6\" y=\"16\" style=\"font-family: -apple-system, BlinkMacSystemFont, &quot;Segoe WPC&quot;, &quot;Segoe UI&quot;, Ubuntu, &quot;Droid Sans&quot;, sans-serif, &quot;PingFang SC&quot;; font-size: 11px; text-rendering: geometricprecision; fill: rgb(255, 255, 255);\">/layer1/layer1.2/Relu_1</text><title>Relu</title></g><path class=\"node border\" d=\"M5,0h115.75a5,5 0 0 1 5,5v13a5,5 0 0 1 -5,5h-115.75a5,5 0 0 1 -5,-5v-13a5,5 0 0 1 5,-5z\" style=\"stroke: rgb(51, 51, 51); fill: none; stroke-width: 1px;\"/></g><g id=\"node-name-/layer2/layer2.0/conv1/Conv\" class=\"node graph-node\" transform=\"translate(5119.8349609375,0)\" style=\"opacity: 1;\"><g class=\"node-item node-item-type node-item-type-layer\" transform=\"translate(0,0)\"><path d=\"M5,0h143.06982421875a5,5 0 0 1 5,5v18a0,0 0 0 1 0,0h-153.06982421875a0,0 0 0 1 0,0v-18a5,5 0 0 1 5,-5z\" style=\"stroke: rgb(0, 0, 0); fill: rgb(51, 85, 136); stroke-width: 0;\"/><text x=\"6\" y=\"16\" style=\"font-family: -apple-system, BlinkMacSystemFont, &quot;Segoe WPC&quot;, &quot;Segoe UI&quot;, Ubuntu, &quot;Droid Sans&quot;, sans-serif, &quot;PingFang SC&quot;; font-size: 11px; text-rendering: geometricprecision; fill: rgb(255, 255, 255);\">/layer2/layer2.0/conv1/Conv</text><title>Conv</title></g><g class=\"node-attribute\" transform=\"translate(0,23)\"><path d=\"M0,0h153.06982421875a0,0 0 0 1 0,0v85a5,5 0 0 1 -5,5h-143.06982421875a5,5 0 0 1 -5,-5v-85a0,0 0 0 1 0,0z\" style=\"stroke: rgb(0, 0, 0); fill: rgb(255, 255, 255); stroke-width: 0;\"/><text id=\"initializer-onnx::Conv_276\" xml:space=\"preserve\" x=\"6\" y=\"14\" style=\"font-family: -apple-system, BlinkMacSystemFont, &quot;Segoe WPC&quot;, &quot;Segoe UI&quot;, Ubuntu, &quot;Droid Sans&quot;, sans-serif, &quot;PingFang SC&quot;; font-size: 9px; font-weight: normal; text-rendering: geometricprecision;\"><title>float32[128,64,3,3]</title><tspan style=\"font-weight: bold;\">W</tspan><tspan>〈128×64×3×3〉</tspan></text><text id=\"initializer-onnx::Conv_277\" xml:space=\"preserve\" x=\"6\" y=\"28\" style=\"font-family: -apple-system, BlinkMacSystemFont, &quot;Segoe WPC&quot;, &quot;Segoe UI&quot;, Ubuntu, &quot;Droid Sans&quot;, sans-serif, &quot;PingFang SC&quot;; font-size: 9px; font-weight: normal; text-rendering: geometricprecision;\"><title>float32[128]</title><tspan style=\"font-weight: bold;\">B</tspan><tspan>〈128〉</tspan></text><text xml:space=\"preserve\" x=\"6\" y=\"42\" style=\"font-family: -apple-system, BlinkMacSystemFont, &quot;Segoe WPC&quot;, &quot;Segoe UI&quot;, Ubuntu, &quot;Droid Sans&quot;, sans-serif, &quot;PingFang SC&quot;; font-size: 9px; font-weight: normal; text-rendering: geometricprecision;\"><title>int64[]</title><tspan>dilations</tspan><tspan> = 1, 1</tspan></text><text xml:space=\"preserve\" x=\"6\" y=\"56\" style=\"font-family: -apple-system, BlinkMacSystemFont, &quot;Segoe WPC&quot;, &quot;Segoe UI&quot;, Ubuntu, &quot;Droid Sans&quot;, sans-serif, &quot;PingFang SC&quot;; font-size: 9px; font-weight: normal; text-rendering: geometricprecision;\"><title>int64[]</title><tspan>kernel_shape</tspan><tspan> = 3, 3</tspan></text><text xml:space=\"preserve\" x=\"6\" y=\"70\" style=\"font-family: -apple-system, BlinkMacSystemFont, &quot;Segoe WPC&quot;, &quot;Segoe UI&quot;, Ubuntu, &quot;Droid Sans&quot;, sans-serif, &quot;PingFang SC&quot;; font-size: 9px; font-weight: normal; text-rendering: geometricprecision;\"><title>int64[]</title><tspan>pads</tspan><tspan> = 1, 1, 1, 1</tspan></text><text xml:space=\"preserve\" x=\"6\" y=\"84\" style=\"font-family: -apple-system, BlinkMacSystemFont, &quot;Segoe WPC&quot;, &quot;Segoe UI&quot;, Ubuntu, &quot;Droid Sans&quot;, sans-serif, &quot;PingFang SC&quot;; font-size: 9px; font-weight: normal; text-rendering: geometricprecision;\"><title>int64[]</title><tspan>strides</tspan><tspan> = 2, 2</tspan></text><line class=\"node\" x1=\"0\" x2=\"153.06982421875\" y1=\"0\" y2=\"0\" style=\"stroke: rgb(51, 51, 51); fill: none; stroke-width: 1px;\"/></g><path class=\"node border\" d=\"M5,0h143.06982421875a5,5 0 0 1 5,5v103a5,5 0 0 1 -5,5h-143.06982421875a5,5 0 0 1 -5,-5v-103a5,5 0 0 1 5,-5z\" style=\"stroke: rgb(51, 51, 51); fill: none; stroke-width: 1px;\"/></g><g id=\"node-name-/layer2/layer2.0/Relu\" class=\"node graph-node\" transform=\"translate(5462.89306640625,45)\" style=\"opacity: 1;\"><g class=\"node-item node-item-type node-item-type-activation\" transform=\"translate(0,0)\"><path d=\"M5,0h105.265625a5,5 0 0 1 5,5v13a5,5 0 0 1 -5,5h-105.265625a5,5 0 0 1 -5,-5v-13a5,5 0 0 1 5,-5z\" style=\"stroke: rgb(0, 0, 0); fill: rgb(112, 41, 33); stroke-width: 0;\"/><text x=\"6\" y=\"16\" style=\"font-family: -apple-system, BlinkMacSystemFont, &quot;Segoe WPC&quot;, &quot;Segoe UI&quot;, Ubuntu, &quot;Droid Sans&quot;, sans-serif, &quot;PingFang SC&quot;; font-size: 11px; text-rendering: geometricprecision; fill: rgb(255, 255, 255);\">/layer2/layer2.0/Relu</text><title>Relu</title></g><path class=\"node border\" d=\"M5,0h105.265625a5,5 0 0 1 5,5v13a5,5 0 0 1 -5,5h-105.265625a5,5 0 0 1 -5,-5v-13a5,5 0 0 1 5,-5z\" style=\"stroke: rgb(51, 51, 51); fill: none; stroke-width: 1px;\"/></g><g id=\"node-name-/layer2/layer2.0/conv2/Conv\" class=\"node graph-node\" transform=\"translate(5766.1796875,0)\" style=\"opacity: 1;\"><g class=\"node-item node-item-type node-item-type-layer\" transform=\"translate(0,0)\"><path d=\"M5,0h143.06982421875a5,5 0 0 1 5,5v18a0,0 0 0 1 0,0h-153.06982421875a0,0 0 0 1 0,0v-18a5,5 0 0 1 5,-5z\" style=\"stroke: rgb(0, 0, 0); fill: rgb(51, 85, 136); stroke-width: 0;\"/><text x=\"6\" y=\"16\" style=\"font-family: -apple-system, BlinkMacSystemFont, &quot;Segoe WPC&quot;, &quot;Segoe UI&quot;, Ubuntu, &quot;Droid Sans&quot;, sans-serif, &quot;PingFang SC&quot;; font-size: 11px; text-rendering: geometricprecision; fill: rgb(255, 255, 255);\">/layer2/layer2.0/conv2/Conv</text><title>Conv</title></g><g class=\"node-attribute\" transform=\"translate(0,23)\"><path d=\"M0,0h153.06982421875a0,0 0 0 1 0,0v85a5,5 0 0 1 -5,5h-143.06982421875a5,5 0 0 1 -5,-5v-85a0,0 0 0 1 0,0z\" style=\"stroke: rgb(0, 0, 0); fill: rgb(255, 255, 255); stroke-width: 0;\"/><text id=\"initializer-onnx::Conv_279\" xml:space=\"preserve\" x=\"6\" y=\"14\" style=\"font-family: -apple-system, BlinkMacSystemFont, &quot;Segoe WPC&quot;, &quot;Segoe UI&quot;, Ubuntu, &quot;Droid Sans&quot;, sans-serif, &quot;PingFang SC&quot;; font-size: 9px; font-weight: normal; text-rendering: geometricprecision;\"><title>float32[128,128,3,3]</title><tspan style=\"font-weight: bold;\">W</tspan><tspan>〈128×128×3×3〉</tspan></text><text id=\"initializer-onnx::Conv_280\" xml:space=\"preserve\" x=\"6\" y=\"28\" style=\"font-family: -apple-system, BlinkMacSystemFont, &quot;Segoe WPC&quot;, &quot;Segoe UI&quot;, Ubuntu, &quot;Droid Sans&quot;, sans-serif, &quot;PingFang SC&quot;; font-size: 9px; font-weight: normal; text-rendering: geometricprecision;\"><title>float32[128]</title><tspan style=\"font-weight: bold;\">B</tspan><tspan>〈128〉</tspan></text><text xml:space=\"preserve\" x=\"6\" y=\"42\" style=\"font-family: -apple-system, BlinkMacSystemFont, &quot;Segoe WPC&quot;, &quot;Segoe UI&quot;, Ubuntu, &quot;Droid Sans&quot;, sans-serif, &quot;PingFang SC&quot;; font-size: 9px; font-weight: normal; text-rendering: geometricprecision;\"><title>int64[]</title><tspan>dilations</tspan><tspan> = 1, 1</tspan></text><text xml:space=\"preserve\" x=\"6\" y=\"56\" style=\"font-family: -apple-system, BlinkMacSystemFont, &quot;Segoe WPC&quot;, &quot;Segoe UI&quot;, Ubuntu, &quot;Droid Sans&quot;, sans-serif, &quot;PingFang SC&quot;; font-size: 9px; font-weight: normal; text-rendering: geometricprecision;\"><title>int64[]</title><tspan>kernel_shape</tspan><tspan> = 3, 3</tspan></text><text xml:space=\"preserve\" x=\"6\" y=\"70\" style=\"font-family: -apple-system, BlinkMacSystemFont, &quot;Segoe WPC&quot;, &quot;Segoe UI&quot;, Ubuntu, &quot;Droid Sans&quot;, sans-serif, &quot;PingFang SC&quot;; font-size: 9px; font-weight: normal; text-rendering: geometricprecision;\"><title>int64[]</title><tspan>pads</tspan><tspan> = 1, 1, 1, 1</tspan></text><text xml:space=\"preserve\" x=\"6\" y=\"84\" style=\"font-family: -apple-system, BlinkMacSystemFont, &quot;Segoe WPC&quot;, &quot;Segoe UI&quot;, Ubuntu, &quot;Droid Sans&quot;, sans-serif, &quot;PingFang SC&quot;; font-size: 9px; font-weight: normal; text-rendering: geometricprecision;\"><title>int64[]</title><tspan>strides</tspan><tspan> = 1, 1</tspan></text><line class=\"node\" x1=\"0\" x2=\"153.06982421875\" y1=\"0\" y2=\"0\" style=\"stroke: rgb(51, 51, 51); fill: none; stroke-width: 1px;\"/></g><path class=\"node border\" d=\"M5,0h143.06982421875a5,5 0 0 1 5,5v103a5,5 0 0 1 -5,5h-143.06982421875a5,5 0 0 1 -5,-5v-103a5,5 0 0 1 5,-5z\" style=\"stroke: rgb(51, 51, 51); fill: none; stroke-width: 1px;\"/></g><g id=\"node-name-/layer2/layer2.0/shortcut/shortcut.0/Conv\" class=\"node graph-node\" transform=\"translate(5734.43115234375,133)\" style=\"opacity: 1;\"><g class=\"node-item node-item-type node-item-type-layer\" transform=\"translate(0,0)\"><path d=\"M5,0h206.56689453125a5,5 0 0 1 5,5v18a0,0 0 0 1 0,0h-216.56689453125a0,0 0 0 1 0,0v-18a5,5 0 0 1 5,-5z\" style=\"stroke: rgb(0, 0, 0); fill: rgb(51, 85, 136); stroke-width: 0;\"/><text x=\"6\" y=\"16\" style=\"font-family: -apple-system, BlinkMacSystemFont, &quot;Segoe WPC&quot;, &quot;Segoe UI&quot;, Ubuntu, &quot;Droid Sans&quot;, sans-serif, &quot;PingFang SC&quot;; font-size: 11px; text-rendering: geometricprecision; fill: rgb(255, 255, 255);\">/layer2/layer2.0/shortcut/shortcut.0/Conv</text><title>Conv</title></g><g class=\"node-attribute\" transform=\"translate(0,23)\"><path d=\"M0,0h216.56689453125a0,0 0 0 1 0,0v85a5,5 0 0 1 -5,5h-206.56689453125a5,5 0 0 1 -5,-5v-85a0,0 0 0 1 0,0z\" style=\"stroke: rgb(0, 0, 0); fill: rgb(255, 255, 255); stroke-width: 0;\"/><text id=\"initializer-onnx::Conv_282\" xml:space=\"preserve\" x=\"6\" y=\"14\" style=\"font-family: -apple-system, BlinkMacSystemFont, &quot;Segoe WPC&quot;, &quot;Segoe UI&quot;, Ubuntu, &quot;Droid Sans&quot;, sans-serif, &quot;PingFang SC&quot;; font-size: 9px; font-weight: normal; text-rendering: geometricprecision;\"><title>float32[128,64,1,1]</title><tspan style=\"font-weight: bold;\">W</tspan><tspan>〈128×64×1×1〉</tspan></text><text id=\"initializer-onnx::Conv_283\" xml:space=\"preserve\" x=\"6\" y=\"28\" style=\"font-family: -apple-system, BlinkMacSystemFont, &quot;Segoe WPC&quot;, &quot;Segoe UI&quot;, Ubuntu, &quot;Droid Sans&quot;, sans-serif, &quot;PingFang SC&quot;; font-size: 9px; font-weight: normal; text-rendering: geometricprecision;\"><title>float32[128]</title><tspan style=\"font-weight: bold;\">B</tspan><tspan>〈128〉</tspan></text><text xml:space=\"preserve\" x=\"6\" y=\"42\" style=\"font-family: -apple-system, BlinkMacSystemFont, &quot;Segoe WPC&quot;, &quot;Segoe UI&quot;, Ubuntu, &quot;Droid Sans&quot;, sans-serif, &quot;PingFang SC&quot;; font-size: 9px; font-weight: normal; text-rendering: geometricprecision;\"><title>int64[]</title><tspan>dilations</tspan><tspan> = 1, 1</tspan></text><text xml:space=\"preserve\" x=\"6\" y=\"56\" style=\"font-family: -apple-system, BlinkMacSystemFont, &quot;Segoe WPC&quot;, &quot;Segoe UI&quot;, Ubuntu, &quot;Droid Sans&quot;, sans-serif, &quot;PingFang SC&quot;; font-size: 9px; font-weight: normal; text-rendering: geometricprecision;\"><title>int64[]</title><tspan>kernel_shape</tspan><tspan> = 1, 1</tspan></text><text xml:space=\"preserve\" x=\"6\" y=\"70\" style=\"font-family: -apple-system, BlinkMacSystemFont, &quot;Segoe WPC&quot;, &quot;Segoe UI&quot;, Ubuntu, &quot;Droid Sans&quot;, sans-serif, &quot;PingFang SC&quot;; font-size: 9px; font-weight: normal; text-rendering: geometricprecision;\"><title>int64[]</title><tspan>pads</tspan><tspan> = 0, 0, 0, 0</tspan></text><text xml:space=\"preserve\" x=\"6\" y=\"84\" style=\"font-family: -apple-system, BlinkMacSystemFont, &quot;Segoe WPC&quot;, &quot;Segoe UI&quot;, Ubuntu, &quot;Droid Sans&quot;, sans-serif, &quot;PingFang SC&quot;; font-size: 9px; font-weight: normal; text-rendering: geometricprecision;\"><title>int64[]</title><tspan>strides</tspan><tspan> = 2, 2</tspan></text><line class=\"node\" x1=\"0\" x2=\"216.56689453125\" y1=\"0\" y2=\"0\" style=\"stroke: rgb(51, 51, 51); fill: none; stroke-width: 1px;\"/></g><path class=\"node border\" d=\"M5,0h206.56689453125a5,5 0 0 1 5,5v103a5,5 0 0 1 -5,5h-206.56689453125a5,5 0 0 1 -5,-5v-103a5,5 0 0 1 5,-5z\" style=\"stroke: rgb(51, 51, 51); fill: none; stroke-width: 1px;\"/></g><g id=\"node-name-/layer2/layer2.0/Add\" class=\"node graph-node\" transform=\"translate(6198.7109375,111.5)\" style=\"opacity: 1;\"><g class=\"node-item node-item-type\" transform=\"translate(0,0)\"><path d=\"M5,0h104.40625a5,5 0 0 1 5,5v13a5,5 0 0 1 -5,5h-104.40625a5,5 0 0 1 -5,-5v-13a5,5 0 0 1 5,-5z\" style=\"stroke: rgb(0, 0, 0); fill: rgb(0, 0, 0); stroke-width: 0;\"/><text x=\"6\" y=\"16\" style=\"font-family: -apple-system, BlinkMacSystemFont, &quot;Segoe WPC&quot;, &quot;Segoe UI&quot;, Ubuntu, &quot;Droid Sans&quot;, sans-serif, &quot;PingFang SC&quot;; font-size: 11px; text-rendering: geometricprecision; fill: rgb(255, 255, 255);\">/layer2/layer2.0/Add</text><title>Add</title></g><path class=\"node border\" d=\"M5,0h104.40625a5,5 0 0 1 5,5v13a5,5 0 0 1 -5,5h-104.40625a5,5 0 0 1 -5,-5v-13a5,5 0 0 1 5,-5z\" style=\"stroke: rgb(51, 51, 51); fill: none; stroke-width: 1px;\"/></g><g id=\"node-name-/layer2/layer2.0/Relu_1\" class=\"node graph-node\" transform=\"translate(6468.6181640625,111.5)\" style=\"opacity: 1;\"><g class=\"node-item node-item-type node-item-type-activation\" transform=\"translate(0,0)\"><path d=\"M5,0h115.75a5,5 0 0 1 5,5v13a5,5 0 0 1 -5,5h-115.75a5,5 0 0 1 -5,-5v-13a5,5 0 0 1 5,-5z\" style=\"stroke: rgb(0, 0, 0); fill: rgb(112, 41, 33); stroke-width: 0;\"/><text x=\"6\" y=\"16\" style=\"font-family: -apple-system, BlinkMacSystemFont, &quot;Segoe WPC&quot;, &quot;Segoe UI&quot;, Ubuntu, &quot;Droid Sans&quot;, sans-serif, &quot;PingFang SC&quot;; font-size: 11px; text-rendering: geometricprecision; fill: rgb(255, 255, 255);\">/layer2/layer2.0/Relu_1</text><title>Relu</title></g><path class=\"node border\" d=\"M5,0h115.75a5,5 0 0 1 5,5v13a5,5 0 0 1 -5,5h-115.75a5,5 0 0 1 -5,-5v-13a5,5 0 0 1 5,-5z\" style=\"stroke: rgb(51, 51, 51); fill: none; stroke-width: 1px;\"/></g><g id=\"node-name-/layer2/layer2.1/conv1/Conv\" class=\"node graph-node\" transform=\"translate(6760.181640625,104.75)\" style=\"opacity: 1;\"><g class=\"node-item node-item-type node-item-type-layer\" transform=\"translate(0,0)\"><path d=\"M5,0h143.06982421875a5,5 0 0 1 5,5v18a0,0 0 0 1 0,0h-153.06982421875a0,0 0 0 1 0,0v-18a5,5 0 0 1 5,-5z\" style=\"stroke: rgb(0, 0, 0); fill: rgb(51, 85, 136); stroke-width: 0;\"/><text x=\"6\" y=\"16\" style=\"font-family: -apple-system, BlinkMacSystemFont, &quot;Segoe WPC&quot;, &quot;Segoe UI&quot;, Ubuntu, &quot;Droid Sans&quot;, sans-serif, &quot;PingFang SC&quot;; font-size: 11px; text-rendering: geometricprecision; fill: rgb(255, 255, 255);\">/layer2/layer2.1/conv1/Conv</text><title>Conv</title></g><g class=\"node-attribute\" transform=\"translate(0,23)\"><path d=\"M0,0h153.06982421875a0,0 0 0 1 0,0v85a5,5 0 0 1 -5,5h-143.06982421875a5,5 0 0 1 -5,-5v-85a0,0 0 0 1 0,0z\" style=\"stroke: rgb(0, 0, 0); fill: rgb(255, 255, 255); stroke-width: 0;\"/><text id=\"initializer-onnx::Conv_285\" xml:space=\"preserve\" x=\"6\" y=\"14\" style=\"font-family: -apple-system, BlinkMacSystemFont, &quot;Segoe WPC&quot;, &quot;Segoe UI&quot;, Ubuntu, &quot;Droid Sans&quot;, sans-serif, &quot;PingFang SC&quot;; font-size: 9px; font-weight: normal; text-rendering: geometricprecision;\"><title>float32[128,128,3,3]</title><tspan style=\"font-weight: bold;\">W</tspan><tspan>〈128×128×3×3〉</tspan></text><text id=\"initializer-onnx::Conv_286\" xml:space=\"preserve\" x=\"6\" y=\"28\" style=\"font-family: -apple-system, BlinkMacSystemFont, &quot;Segoe WPC&quot;, &quot;Segoe UI&quot;, Ubuntu, &quot;Droid Sans&quot;, sans-serif, &quot;PingFang SC&quot;; font-size: 9px; font-weight: normal; text-rendering: geometricprecision;\"><title>float32[128]</title><tspan style=\"font-weight: bold;\">B</tspan><tspan>〈128〉</tspan></text><text xml:space=\"preserve\" x=\"6\" y=\"42\" style=\"font-family: -apple-system, BlinkMacSystemFont, &quot;Segoe WPC&quot;, &quot;Segoe UI&quot;, Ubuntu, &quot;Droid Sans&quot;, sans-serif, &quot;PingFang SC&quot;; font-size: 9px; font-weight: normal; text-rendering: geometricprecision;\"><title>int64[]</title><tspan>dilations</tspan><tspan> = 1, 1</tspan></text><text xml:space=\"preserve\" x=\"6\" y=\"56\" style=\"font-family: -apple-system, BlinkMacSystemFont, &quot;Segoe WPC&quot;, &quot;Segoe UI&quot;, Ubuntu, &quot;Droid Sans&quot;, sans-serif, &quot;PingFang SC&quot;; font-size: 9px; font-weight: normal; text-rendering: geometricprecision;\"><title>int64[]</title><tspan>kernel_shape</tspan><tspan> = 3, 3</tspan></text><text xml:space=\"preserve\" x=\"6\" y=\"70\" style=\"font-family: -apple-system, BlinkMacSystemFont, &quot;Segoe WPC&quot;, &quot;Segoe UI&quot;, Ubuntu, &quot;Droid Sans&quot;, sans-serif, &quot;PingFang SC&quot;; font-size: 9px; font-weight: normal; text-rendering: geometricprecision;\"><title>int64[]</title><tspan>pads</tspan><tspan> = 1, 1, 1, 1</tspan></text><text xml:space=\"preserve\" x=\"6\" y=\"84\" style=\"font-family: -apple-system, BlinkMacSystemFont, &quot;Segoe WPC&quot;, &quot;Segoe UI&quot;, Ubuntu, &quot;Droid Sans&quot;, sans-serif, &quot;PingFang SC&quot;; font-size: 9px; font-weight: normal; text-rendering: geometricprecision;\"><title>int64[]</title><tspan>strides</tspan><tspan> = 1, 1</tspan></text><line class=\"node\" x1=\"0\" x2=\"153.06982421875\" y1=\"0\" y2=\"0\" style=\"stroke: rgb(51, 51, 51); fill: none; stroke-width: 1px;\"/></g><path class=\"node border\" d=\"M5,0h143.06982421875a5,5 0 0 1 5,5v103a5,5 0 0 1 -5,5h-143.06982421875a5,5 0 0 1 -5,-5v-103a5,5 0 0 1 5,-5z\" style=\"stroke: rgb(51, 51, 51); fill: none; stroke-width: 1px;\"/></g><g id=\"node-name-/layer2/layer2.1/Relu\" class=\"node graph-node\" transform=\"translate(7118.513671875,149.75)\" style=\"opacity: 1;\"><g class=\"node-item node-item-type node-item-type-activation\" transform=\"translate(0,0)\"><path d=\"M5,0h105.265625a5,5 0 0 1 5,5v13a5,5 0 0 1 -5,5h-105.265625a5,5 0 0 1 -5,-5v-13a5,5 0 0 1 5,-5z\" style=\"stroke: rgb(0, 0, 0); fill: rgb(112, 41, 33); stroke-width: 0;\"/><text x=\"6\" y=\"16\" style=\"font-family: -apple-system, BlinkMacSystemFont, &quot;Segoe WPC&quot;, &quot;Segoe UI&quot;, Ubuntu, &quot;Droid Sans&quot;, sans-serif, &quot;PingFang SC&quot;; font-size: 11px; text-rendering: geometricprecision; fill: rgb(255, 255, 255);\">/layer2/layer2.1/Relu</text><title>Relu</title></g><path class=\"node border\" d=\"M5,0h105.265625a5,5 0 0 1 5,5v13a5,5 0 0 1 -5,5h-105.265625a5,5 0 0 1 -5,-5v-13a5,5 0 0 1 5,-5z\" style=\"stroke: rgb(51, 51, 51); fill: none; stroke-width: 1px;\"/></g><g id=\"node-name-/layer2/layer2.1/conv2/Conv\" class=\"node graph-node\" transform=\"translate(7405.32568359375,104.75)\" style=\"opacity: 1;\"><g class=\"node-item node-item-type node-item-type-layer\" transform=\"translate(0,0)\"><path d=\"M5,0h143.06982421875a5,5 0 0 1 5,5v18a0,0 0 0 1 0,0h-153.06982421875a0,0 0 0 1 0,0v-18a5,5 0 0 1 5,-5z\" style=\"stroke: rgb(0, 0, 0); fill: rgb(51, 85, 136); stroke-width: 0;\"/><text x=\"6\" y=\"16\" style=\"font-family: -apple-system, BlinkMacSystemFont, &quot;Segoe WPC&quot;, &quot;Segoe UI&quot;, Ubuntu, &quot;Droid Sans&quot;, sans-serif, &quot;PingFang SC&quot;; font-size: 11px; text-rendering: geometricprecision; fill: rgb(255, 255, 255);\">/layer2/layer2.1/conv2/Conv</text><title>Conv</title></g><g class=\"node-attribute\" transform=\"translate(0,23)\"><path d=\"M0,0h153.06982421875a0,0 0 0 1 0,0v85a5,5 0 0 1 -5,5h-143.06982421875a5,5 0 0 1 -5,-5v-85a0,0 0 0 1 0,0z\" style=\"stroke: rgb(0, 0, 0); fill: rgb(255, 255, 255); stroke-width: 0;\"/><text id=\"initializer-onnx::Conv_288\" xml:space=\"preserve\" x=\"6\" y=\"14\" style=\"font-family: -apple-system, BlinkMacSystemFont, &quot;Segoe WPC&quot;, &quot;Segoe UI&quot;, Ubuntu, &quot;Droid Sans&quot;, sans-serif, &quot;PingFang SC&quot;; font-size: 9px; font-weight: normal; text-rendering: geometricprecision;\"><title>float32[128,128,3,3]</title><tspan style=\"font-weight: bold;\">W</tspan><tspan>〈128×128×3×3〉</tspan></text><text id=\"initializer-onnx::Conv_289\" xml:space=\"preserve\" x=\"6\" y=\"28\" style=\"font-family: -apple-system, BlinkMacSystemFont, &quot;Segoe WPC&quot;, &quot;Segoe UI&quot;, Ubuntu, &quot;Droid Sans&quot;, sans-serif, &quot;PingFang SC&quot;; font-size: 9px; font-weight: normal; text-rendering: geometricprecision;\"><title>float32[128]</title><tspan style=\"font-weight: bold;\">B</tspan><tspan>〈128〉</tspan></text><text xml:space=\"preserve\" x=\"6\" y=\"42\" style=\"font-family: -apple-system, BlinkMacSystemFont, &quot;Segoe WPC&quot;, &quot;Segoe UI&quot;, Ubuntu, &quot;Droid Sans&quot;, sans-serif, &quot;PingFang SC&quot;; font-size: 9px; font-weight: normal; text-rendering: geometricprecision;\"><title>int64[]</title><tspan>dilations</tspan><tspan> = 1, 1</tspan></text><text xml:space=\"preserve\" x=\"6\" y=\"56\" style=\"font-family: -apple-system, BlinkMacSystemFont, &quot;Segoe WPC&quot;, &quot;Segoe UI&quot;, Ubuntu, &quot;Droid Sans&quot;, sans-serif, &quot;PingFang SC&quot;; font-size: 9px; font-weight: normal; text-rendering: geometricprecision;\"><title>int64[]</title><tspan>kernel_shape</tspan><tspan> = 3, 3</tspan></text><text xml:space=\"preserve\" x=\"6\" y=\"70\" style=\"font-family: -apple-system, BlinkMacSystemFont, &quot;Segoe WPC&quot;, &quot;Segoe UI&quot;, Ubuntu, &quot;Droid Sans&quot;, sans-serif, &quot;PingFang SC&quot;; font-size: 9px; font-weight: normal; text-rendering: geometricprecision;\"><title>int64[]</title><tspan>pads</tspan><tspan> = 1, 1, 1, 1</tspan></text><text xml:space=\"preserve\" x=\"6\" y=\"84\" style=\"font-family: -apple-system, BlinkMacSystemFont, &quot;Segoe WPC&quot;, &quot;Segoe UI&quot;, Ubuntu, &quot;Droid Sans&quot;, sans-serif, &quot;PingFang SC&quot;; font-size: 9px; font-weight: normal; text-rendering: geometricprecision;\"><title>int64[]</title><tspan>strides</tspan><tspan> = 1, 1</tspan></text><line class=\"node\" x1=\"0\" x2=\"153.06982421875\" y1=\"0\" y2=\"0\" style=\"stroke: rgb(51, 51, 51); fill: none; stroke-width: 1px;\"/></g><path class=\"node border\" d=\"M5,0h143.06982421875a5,5 0 0 1 5,5v103a5,5 0 0 1 -5,5h-143.06982421875a5,5 0 0 1 -5,-5v-103a5,5 0 0 1 5,-5z\" style=\"stroke: rgb(51, 51, 51); fill: none; stroke-width: 1px;\"/></g><g id=\"node-name-/layer2/layer2.1/Add\" class=\"node graph-node\" transform=\"translate(7748.3837890625,111.5)\" style=\"opacity: 1;\"><g class=\"node-item node-item-type\" transform=\"translate(0,0)\"><path d=\"M5,0h104.40625a5,5 0 0 1 5,5v13a5,5 0 0 1 -5,5h-104.40625a5,5 0 0 1 -5,-5v-13a5,5 0 0 1 5,-5z\" style=\"stroke: rgb(0, 0, 0); fill: rgb(0, 0, 0); stroke-width: 0;\"/><text x=\"6\" y=\"16\" style=\"font-family: -apple-system, BlinkMacSystemFont, &quot;Segoe WPC&quot;, &quot;Segoe UI&quot;, Ubuntu, &quot;Droid Sans&quot;, sans-serif, &quot;PingFang SC&quot;; font-size: 11px; text-rendering: geometricprecision; fill: rgb(255, 255, 255);\">/layer2/layer2.1/Add</text><title>Add</title></g><path class=\"node border\" d=\"M5,0h104.40625a5,5 0 0 1 5,5v13a5,5 0 0 1 -5,5h-104.40625a5,5 0 0 1 -5,-5v-13a5,5 0 0 1 5,-5z\" style=\"stroke: rgb(51, 51, 51); fill: none; stroke-width: 1px;\"/></g><g id=\"node-name-/layer2/layer2.1/Relu_1\" class=\"node graph-node\" transform=\"translate(8018.291015625,111.5)\" style=\"opacity: 1;\"><g class=\"node-item node-item-type node-item-type-activation\" transform=\"translate(0,0)\"><path d=\"M5,0h115.75a5,5 0 0 1 5,5v13a5,5 0 0 1 -5,5h-115.75a5,5 0 0 1 -5,-5v-13a5,5 0 0 1 5,-5z\" style=\"stroke: rgb(0, 0, 0); fill: rgb(112, 41, 33); stroke-width: 0;\"/><text x=\"6\" y=\"16\" style=\"font-family: -apple-system, BlinkMacSystemFont, &quot;Segoe WPC&quot;, &quot;Segoe UI&quot;, Ubuntu, &quot;Droid Sans&quot;, sans-serif, &quot;PingFang SC&quot;; font-size: 11px; text-rendering: geometricprecision; fill: rgb(255, 255, 255);\">/layer2/layer2.1/Relu_1</text><title>Relu</title></g><path class=\"node border\" d=\"M5,0h115.75a5,5 0 0 1 5,5v13a5,5 0 0 1 -5,5h-115.75a5,5 0 0 1 -5,-5v-13a5,5 0 0 1 5,-5z\" style=\"stroke: rgb(51, 51, 51); fill: none; stroke-width: 1px;\"/></g><g id=\"node-name-/layer2/layer2.2/conv1/Conv\" class=\"node graph-node\" transform=\"translate(8309.8544921875,104.75)\" style=\"opacity: 1;\"><g class=\"node-item node-item-type node-item-type-layer\" transform=\"translate(0,0)\"><path d=\"M5,0h143.06982421875a5,5 0 0 1 5,5v18a0,0 0 0 1 0,0h-153.06982421875a0,0 0 0 1 0,0v-18a5,5 0 0 1 5,-5z\" style=\"stroke: rgb(0, 0, 0); fill: rgb(51, 85, 136); stroke-width: 0;\"/><text x=\"6\" y=\"16\" style=\"font-family: -apple-system, BlinkMacSystemFont, &quot;Segoe WPC&quot;, &quot;Segoe UI&quot;, Ubuntu, &quot;Droid Sans&quot;, sans-serif, &quot;PingFang SC&quot;; font-size: 11px; text-rendering: geometricprecision; fill: rgb(255, 255, 255);\">/layer2/layer2.2/conv1/Conv</text><title>Conv</title></g><g class=\"node-attribute\" transform=\"translate(0,23)\"><path d=\"M0,0h153.06982421875a0,0 0 0 1 0,0v85a5,5 0 0 1 -5,5h-143.06982421875a5,5 0 0 1 -5,-5v-85a0,0 0 0 1 0,0z\" style=\"stroke: rgb(0, 0, 0); fill: rgb(255, 255, 255); stroke-width: 0;\"/><text id=\"initializer-onnx::Conv_291\" xml:space=\"preserve\" x=\"6\" y=\"14\" style=\"font-family: -apple-system, BlinkMacSystemFont, &quot;Segoe WPC&quot;, &quot;Segoe UI&quot;, Ubuntu, &quot;Droid Sans&quot;, sans-serif, &quot;PingFang SC&quot;; font-size: 9px; font-weight: normal; text-rendering: geometricprecision;\"><title>float32[128,128,3,3]</title><tspan style=\"font-weight: bold;\">W</tspan><tspan>〈128×128×3×3〉</tspan></text><text id=\"initializer-onnx::Conv_292\" xml:space=\"preserve\" x=\"6\" y=\"28\" style=\"font-family: -apple-system, BlinkMacSystemFont, &quot;Segoe WPC&quot;, &quot;Segoe UI&quot;, Ubuntu, &quot;Droid Sans&quot;, sans-serif, &quot;PingFang SC&quot;; font-size: 9px; font-weight: normal; text-rendering: geometricprecision;\"><title>float32[128]</title><tspan style=\"font-weight: bold;\">B</tspan><tspan>〈128〉</tspan></text><text xml:space=\"preserve\" x=\"6\" y=\"42\" style=\"font-family: -apple-system, BlinkMacSystemFont, &quot;Segoe WPC&quot;, &quot;Segoe UI&quot;, Ubuntu, &quot;Droid Sans&quot;, sans-serif, &quot;PingFang SC&quot;; font-size: 9px; font-weight: normal; text-rendering: geometricprecision;\"><title>int64[]</title><tspan>dilations</tspan><tspan> = 1, 1</tspan></text><text xml:space=\"preserve\" x=\"6\" y=\"56\" style=\"font-family: -apple-system, BlinkMacSystemFont, &quot;Segoe WPC&quot;, &quot;Segoe UI&quot;, Ubuntu, &quot;Droid Sans&quot;, sans-serif, &quot;PingFang SC&quot;; font-size: 9px; font-weight: normal; text-rendering: geometricprecision;\"><title>int64[]</title><tspan>kernel_shape</tspan><tspan> = 3, 3</tspan></text><text xml:space=\"preserve\" x=\"6\" y=\"70\" style=\"font-family: -apple-system, BlinkMacSystemFont, &quot;Segoe WPC&quot;, &quot;Segoe UI&quot;, Ubuntu, &quot;Droid Sans&quot;, sans-serif, &quot;PingFang SC&quot;; font-size: 9px; font-weight: normal; text-rendering: geometricprecision;\"><title>int64[]</title><tspan>pads</tspan><tspan> = 1, 1, 1, 1</tspan></text><text xml:space=\"preserve\" x=\"6\" y=\"84\" style=\"font-family: -apple-system, BlinkMacSystemFont, &quot;Segoe WPC&quot;, &quot;Segoe UI&quot;, Ubuntu, &quot;Droid Sans&quot;, sans-serif, &quot;PingFang SC&quot;; font-size: 9px; font-weight: normal; text-rendering: geometricprecision;\"><title>int64[]</title><tspan>strides</tspan><tspan> = 1, 1</tspan></text><line class=\"node\" x1=\"0\" x2=\"153.06982421875\" y1=\"0\" y2=\"0\" style=\"stroke: rgb(51, 51, 51); fill: none; stroke-width: 1px;\"/></g><path class=\"node border\" d=\"M5,0h143.06982421875a5,5 0 0 1 5,5v103a5,5 0 0 1 -5,5h-143.06982421875a5,5 0 0 1 -5,-5v-103a5,5 0 0 1 5,-5z\" style=\"stroke: rgb(51, 51, 51); fill: none; stroke-width: 1px;\"/></g><g id=\"node-name-/layer2/layer2.2/Relu\" class=\"node graph-node\" transform=\"translate(8668.1865234375,149.75)\" style=\"opacity: 1;\"><g class=\"node-item node-item-type node-item-type-activation\" transform=\"translate(0,0)\"><path d=\"M5,0h105.265625a5,5 0 0 1 5,5v13a5,5 0 0 1 -5,5h-105.265625a5,5 0 0 1 -5,-5v-13a5,5 0 0 1 5,-5z\" style=\"stroke: rgb(0, 0, 0); fill: rgb(112, 41, 33); stroke-width: 0;\"/><text x=\"6\" y=\"16\" style=\"font-family: -apple-system, BlinkMacSystemFont, &quot;Segoe WPC&quot;, &quot;Segoe UI&quot;, Ubuntu, &quot;Droid Sans&quot;, sans-serif, &quot;PingFang SC&quot;; font-size: 11px; text-rendering: geometricprecision; fill: rgb(255, 255, 255);\">/layer2/layer2.2/Relu</text><title>Relu</title></g><path class=\"node border\" d=\"M5,0h105.265625a5,5 0 0 1 5,5v13a5,5 0 0 1 -5,5h-105.265625a5,5 0 0 1 -5,-5v-13a5,5 0 0 1 5,-5z\" style=\"stroke: rgb(51, 51, 51); fill: none; stroke-width: 1px;\"/></g><g id=\"node-name-/layer2/layer2.2/conv2/Conv\" class=\"node graph-node\" transform=\"translate(8954.99853515625,104.75)\" style=\"opacity: 1;\"><g class=\"node-item node-item-type node-item-type-layer\" transform=\"translate(0,0)\"><path d=\"M5,0h143.06982421875a5,5 0 0 1 5,5v18a0,0 0 0 1 0,0h-153.06982421875a0,0 0 0 1 0,0v-18a5,5 0 0 1 5,-5z\" style=\"stroke: rgb(0, 0, 0); fill: rgb(51, 85, 136); stroke-width: 0;\"/><text x=\"6\" y=\"16\" style=\"font-family: -apple-system, BlinkMacSystemFont, &quot;Segoe WPC&quot;, &quot;Segoe UI&quot;, Ubuntu, &quot;Droid Sans&quot;, sans-serif, &quot;PingFang SC&quot;; font-size: 11px; text-rendering: geometricprecision; fill: rgb(255, 255, 255);\">/layer2/layer2.2/conv2/Conv</text><title>Conv</title></g><g class=\"node-attribute\" transform=\"translate(0,23)\"><path d=\"M0,0h153.06982421875a0,0 0 0 1 0,0v85a5,5 0 0 1 -5,5h-143.06982421875a5,5 0 0 1 -5,-5v-85a0,0 0 0 1 0,0z\" style=\"stroke: rgb(0, 0, 0); fill: rgb(255, 255, 255); stroke-width: 0;\"/><text id=\"initializer-onnx::Conv_294\" xml:space=\"preserve\" x=\"6\" y=\"14\" style=\"font-family: -apple-system, BlinkMacSystemFont, &quot;Segoe WPC&quot;, &quot;Segoe UI&quot;, Ubuntu, &quot;Droid Sans&quot;, sans-serif, &quot;PingFang SC&quot;; font-size: 9px; font-weight: normal; text-rendering: geometricprecision;\"><title>float32[128,128,3,3]</title><tspan style=\"font-weight: bold;\">W</tspan><tspan>〈128×128×3×3〉</tspan></text><text id=\"initializer-onnx::Conv_295\" xml:space=\"preserve\" x=\"6\" y=\"28\" style=\"font-family: -apple-system, BlinkMacSystemFont, &quot;Segoe WPC&quot;, &quot;Segoe UI&quot;, Ubuntu, &quot;Droid Sans&quot;, sans-serif, &quot;PingFang SC&quot;; font-size: 9px; font-weight: normal; text-rendering: geometricprecision;\"><title>float32[128]</title><tspan style=\"font-weight: bold;\">B</tspan><tspan>〈128〉</tspan></text><text xml:space=\"preserve\" x=\"6\" y=\"42\" style=\"font-family: -apple-system, BlinkMacSystemFont, &quot;Segoe WPC&quot;, &quot;Segoe UI&quot;, Ubuntu, &quot;Droid Sans&quot;, sans-serif, &quot;PingFang SC&quot;; font-size: 9px; font-weight: normal; text-rendering: geometricprecision;\"><title>int64[]</title><tspan>dilations</tspan><tspan> = 1, 1</tspan></text><text xml:space=\"preserve\" x=\"6\" y=\"56\" style=\"font-family: -apple-system, BlinkMacSystemFont, &quot;Segoe WPC&quot;, &quot;Segoe UI&quot;, Ubuntu, &quot;Droid Sans&quot;, sans-serif, &quot;PingFang SC&quot;; font-size: 9px; font-weight: normal; text-rendering: geometricprecision;\"><title>int64[]</title><tspan>kernel_shape</tspan><tspan> = 3, 3</tspan></text><text xml:space=\"preserve\" x=\"6\" y=\"70\" style=\"font-family: -apple-system, BlinkMacSystemFont, &quot;Segoe WPC&quot;, &quot;Segoe UI&quot;, Ubuntu, &quot;Droid Sans&quot;, sans-serif, &quot;PingFang SC&quot;; font-size: 9px; font-weight: normal; text-rendering: geometricprecision;\"><title>int64[]</title><tspan>pads</tspan><tspan> = 1, 1, 1, 1</tspan></text><text xml:space=\"preserve\" x=\"6\" y=\"84\" style=\"font-family: -apple-system, BlinkMacSystemFont, &quot;Segoe WPC&quot;, &quot;Segoe UI&quot;, Ubuntu, &quot;Droid Sans&quot;, sans-serif, &quot;PingFang SC&quot;; font-size: 9px; font-weight: normal; text-rendering: geometricprecision;\"><title>int64[]</title><tspan>strides</tspan><tspan> = 1, 1</tspan></text><line class=\"node\" x1=\"0\" x2=\"153.06982421875\" y1=\"0\" y2=\"0\" style=\"stroke: rgb(51, 51, 51); fill: none; stroke-width: 1px;\"/></g><path class=\"node border\" d=\"M5,0h143.06982421875a5,5 0 0 1 5,5v103a5,5 0 0 1 -5,5h-143.06982421875a5,5 0 0 1 -5,-5v-103a5,5 0 0 1 5,-5z\" style=\"stroke: rgb(51, 51, 51); fill: none; stroke-width: 1px;\"/></g><g id=\"node-name-/layer2/layer2.2/Add\" class=\"node graph-node\" transform=\"translate(9298.056640625,111.5)\" style=\"opacity: 1;\"><g class=\"node-item node-item-type\" transform=\"translate(0,0)\"><path d=\"M5,0h104.40625a5,5 0 0 1 5,5v13a5,5 0 0 1 -5,5h-104.40625a5,5 0 0 1 -5,-5v-13a5,5 0 0 1 5,-5z\" style=\"stroke: rgb(0, 0, 0); fill: rgb(0, 0, 0); stroke-width: 0;\"/><text x=\"6\" y=\"16\" style=\"font-family: -apple-system, BlinkMacSystemFont, &quot;Segoe WPC&quot;, &quot;Segoe UI&quot;, Ubuntu, &quot;Droid Sans&quot;, sans-serif, &quot;PingFang SC&quot;; font-size: 11px; text-rendering: geometricprecision; fill: rgb(255, 255, 255);\">/layer2/layer2.2/Add</text><title>Add</title></g><path class=\"node border\" d=\"M5,0h104.40625a5,5 0 0 1 5,5v13a5,5 0 0 1 -5,5h-104.40625a5,5 0 0 1 -5,-5v-13a5,5 0 0 1 5,-5z\" style=\"stroke: rgb(51, 51, 51); fill: none; stroke-width: 1px;\"/></g><g id=\"node-name-/layer2/layer2.2/Relu_1\" class=\"node graph-node\" transform=\"translate(9567.9638671875,111.5)\" style=\"opacity: 1;\"><g class=\"node-item node-item-type node-item-type-activation\" transform=\"translate(0,0)\"><path d=\"M5,0h115.75a5,5 0 0 1 5,5v13a5,5 0 0 1 -5,5h-115.75a5,5 0 0 1 -5,-5v-13a5,5 0 0 1 5,-5z\" style=\"stroke: rgb(0, 0, 0); fill: rgb(112, 41, 33); stroke-width: 0;\"/><text x=\"6\" y=\"16\" style=\"font-family: -apple-system, BlinkMacSystemFont, &quot;Segoe WPC&quot;, &quot;Segoe UI&quot;, Ubuntu, &quot;Droid Sans&quot;, sans-serif, &quot;PingFang SC&quot;; font-size: 11px; text-rendering: geometricprecision; fill: rgb(255, 255, 255);\">/layer2/layer2.2/Relu_1</text><title>Relu</title></g><path class=\"node border\" d=\"M5,0h115.75a5,5 0 0 1 5,5v13a5,5 0 0 1 -5,5h-115.75a5,5 0 0 1 -5,-5v-13a5,5 0 0 1 5,-5z\" style=\"stroke: rgb(51, 51, 51); fill: none; stroke-width: 1px;\"/></g><g id=\"node-name-/layer3/layer3.0/conv1/Conv\" class=\"node graph-node\" transform=\"translate(9859.52734375,0)\" style=\"opacity: 1;\"><g class=\"node-item node-item-type node-item-type-layer\" transform=\"translate(0,0)\"><path d=\"M5,0h143.06982421875a5,5 0 0 1 5,5v18a0,0 0 0 1 0,0h-153.06982421875a0,0 0 0 1 0,0v-18a5,5 0 0 1 5,-5z\" style=\"stroke: rgb(0, 0, 0); fill: rgb(51, 85, 136); stroke-width: 0;\"/><text x=\"6\" y=\"16\" style=\"font-family: -apple-system, BlinkMacSystemFont, &quot;Segoe WPC&quot;, &quot;Segoe UI&quot;, Ubuntu, &quot;Droid Sans&quot;, sans-serif, &quot;PingFang SC&quot;; font-size: 11px; text-rendering: geometricprecision; fill: rgb(255, 255, 255);\">/layer3/layer3.0/conv1/Conv</text><title>Conv</title></g><g class=\"node-attribute\" transform=\"translate(0,23)\"><path d=\"M0,0h153.06982421875a0,0 0 0 1 0,0v85a5,5 0 0 1 -5,5h-143.06982421875a5,5 0 0 1 -5,-5v-85a0,0 0 0 1 0,0z\" style=\"stroke: rgb(0, 0, 0); fill: rgb(255, 255, 255); stroke-width: 0;\"/><text id=\"initializer-onnx::Conv_297\" xml:space=\"preserve\" x=\"6\" y=\"14\" style=\"font-family: -apple-system, BlinkMacSystemFont, &quot;Segoe WPC&quot;, &quot;Segoe UI&quot;, Ubuntu, &quot;Droid Sans&quot;, sans-serif, &quot;PingFang SC&quot;; font-size: 9px; font-weight: normal; text-rendering: geometricprecision;\"><title>float32[128,128,3,3]</title><tspan style=\"font-weight: bold;\">W</tspan><tspan>〈128×128×3×3〉</tspan></text><text id=\"initializer-onnx::Conv_298\" xml:space=\"preserve\" x=\"6\" y=\"28\" style=\"font-family: -apple-system, BlinkMacSystemFont, &quot;Segoe WPC&quot;, &quot;Segoe UI&quot;, Ubuntu, &quot;Droid Sans&quot;, sans-serif, &quot;PingFang SC&quot;; font-size: 9px; font-weight: normal; text-rendering: geometricprecision;\"><title>float32[128]</title><tspan style=\"font-weight: bold;\">B</tspan><tspan>〈128〉</tspan></text><text xml:space=\"preserve\" x=\"6\" y=\"42\" style=\"font-family: -apple-system, BlinkMacSystemFont, &quot;Segoe WPC&quot;, &quot;Segoe UI&quot;, Ubuntu, &quot;Droid Sans&quot;, sans-serif, &quot;PingFang SC&quot;; font-size: 9px; font-weight: normal; text-rendering: geometricprecision;\"><title>int64[]</title><tspan>dilations</tspan><tspan> = 1, 1</tspan></text><text xml:space=\"preserve\" x=\"6\" y=\"56\" style=\"font-family: -apple-system, BlinkMacSystemFont, &quot;Segoe WPC&quot;, &quot;Segoe UI&quot;, Ubuntu, &quot;Droid Sans&quot;, sans-serif, &quot;PingFang SC&quot;; font-size: 9px; font-weight: normal; text-rendering: geometricprecision;\"><title>int64[]</title><tspan>kernel_shape</tspan><tspan> = 3, 3</tspan></text><text xml:space=\"preserve\" x=\"6\" y=\"70\" style=\"font-family: -apple-system, BlinkMacSystemFont, &quot;Segoe WPC&quot;, &quot;Segoe UI&quot;, Ubuntu, &quot;Droid Sans&quot;, sans-serif, &quot;PingFang SC&quot;; font-size: 9px; font-weight: normal; text-rendering: geometricprecision;\"><title>int64[]</title><tspan>pads</tspan><tspan> = 1, 1, 1, 1</tspan></text><text xml:space=\"preserve\" x=\"6\" y=\"84\" style=\"font-family: -apple-system, BlinkMacSystemFont, &quot;Segoe WPC&quot;, &quot;Segoe UI&quot;, Ubuntu, &quot;Droid Sans&quot;, sans-serif, &quot;PingFang SC&quot;; font-size: 9px; font-weight: normal; text-rendering: geometricprecision;\"><title>int64[]</title><tspan>strides</tspan><tspan> = 2, 2</tspan></text><line class=\"node\" x1=\"0\" x2=\"153.06982421875\" y1=\"0\" y2=\"0\" style=\"stroke: rgb(51, 51, 51); fill: none; stroke-width: 1px;\"/></g><path class=\"node border\" d=\"M5,0h143.06982421875a5,5 0 0 1 5,5v103a5,5 0 0 1 -5,5h-143.06982421875a5,5 0 0 1 -5,-5v-103a5,5 0 0 1 5,-5z\" style=\"stroke: rgb(51, 51, 51); fill: none; stroke-width: 1px;\"/></g><g id=\"node-name-/layer3/layer3.0/Relu\" class=\"node graph-node\" transform=\"translate(10202.58544921875,45)\" style=\"opacity: 1;\"><g class=\"node-item node-item-type node-item-type-activation\" transform=\"translate(0,0)\"><path d=\"M5,0h105.265625a5,5 0 0 1 5,5v13a5,5 0 0 1 -5,5h-105.265625a5,5 0 0 1 -5,-5v-13a5,5 0 0 1 5,-5z\" style=\"stroke: rgb(0, 0, 0); fill: rgb(112, 41, 33); stroke-width: 0;\"/><text x=\"6\" y=\"16\" style=\"font-family: -apple-system, BlinkMacSystemFont, &quot;Segoe WPC&quot;, &quot;Segoe UI&quot;, Ubuntu, &quot;Droid Sans&quot;, sans-serif, &quot;PingFang SC&quot;; font-size: 11px; text-rendering: geometricprecision; fill: rgb(255, 255, 255);\">/layer3/layer3.0/Relu</text><title>Relu</title></g><path class=\"node border\" d=\"M5,0h105.265625a5,5 0 0 1 5,5v13a5,5 0 0 1 -5,5h-105.265625a5,5 0 0 1 -5,-5v-13a5,5 0 0 1 5,-5z\" style=\"stroke: rgb(51, 51, 51); fill: none; stroke-width: 1px;\"/></g><g id=\"node-name-/layer3/layer3.0/conv2/Conv\" class=\"node graph-node\" transform=\"translate(10505.8720703125,0)\" style=\"opacity: 1;\"><g class=\"node-item node-item-type node-item-type-layer\" transform=\"translate(0,0)\"><path d=\"M5,0h143.06982421875a5,5 0 0 1 5,5v18a0,0 0 0 1 0,0h-153.06982421875a0,0 0 0 1 0,0v-18a5,5 0 0 1 5,-5z\" style=\"stroke: rgb(0, 0, 0); fill: rgb(51, 85, 136); stroke-width: 0;\"/><text x=\"6\" y=\"16\" style=\"font-family: -apple-system, BlinkMacSystemFont, &quot;Segoe WPC&quot;, &quot;Segoe UI&quot;, Ubuntu, &quot;Droid Sans&quot;, sans-serif, &quot;PingFang SC&quot;; font-size: 11px; text-rendering: geometricprecision; fill: rgb(255, 255, 255);\">/layer3/layer3.0/conv2/Conv</text><title>Conv</title></g><g class=\"node-attribute\" transform=\"translate(0,23)\"><path d=\"M0,0h153.06982421875a0,0 0 0 1 0,0v85a5,5 0 0 1 -5,5h-143.06982421875a5,5 0 0 1 -5,-5v-85a0,0 0 0 1 0,0z\" style=\"stroke: rgb(0, 0, 0); fill: rgb(255, 255, 255); stroke-width: 0;\"/><text id=\"initializer-onnx::Conv_300\" xml:space=\"preserve\" x=\"6\" y=\"14\" style=\"font-family: -apple-system, BlinkMacSystemFont, &quot;Segoe WPC&quot;, &quot;Segoe UI&quot;, Ubuntu, &quot;Droid Sans&quot;, sans-serif, &quot;PingFang SC&quot;; font-size: 9px; font-weight: normal; text-rendering: geometricprecision;\"><title>float32[128,128,3,3]</title><tspan style=\"font-weight: bold;\">W</tspan><tspan>〈128×128×3×3〉</tspan></text><text id=\"initializer-onnx::Conv_301\" xml:space=\"preserve\" x=\"6\" y=\"28\" style=\"font-family: -apple-system, BlinkMacSystemFont, &quot;Segoe WPC&quot;, &quot;Segoe UI&quot;, Ubuntu, &quot;Droid Sans&quot;, sans-serif, &quot;PingFang SC&quot;; font-size: 9px; font-weight: normal; text-rendering: geometricprecision;\"><title>float32[128]</title><tspan style=\"font-weight: bold;\">B</tspan><tspan>〈128〉</tspan></text><text xml:space=\"preserve\" x=\"6\" y=\"42\" style=\"font-family: -apple-system, BlinkMacSystemFont, &quot;Segoe WPC&quot;, &quot;Segoe UI&quot;, Ubuntu, &quot;Droid Sans&quot;, sans-serif, &quot;PingFang SC&quot;; font-size: 9px; font-weight: normal; text-rendering: geometricprecision;\"><title>int64[]</title><tspan>dilations</tspan><tspan> = 1, 1</tspan></text><text xml:space=\"preserve\" x=\"6\" y=\"56\" style=\"font-family: -apple-system, BlinkMacSystemFont, &quot;Segoe WPC&quot;, &quot;Segoe UI&quot;, Ubuntu, &quot;Droid Sans&quot;, sans-serif, &quot;PingFang SC&quot;; font-size: 9px; font-weight: normal; text-rendering: geometricprecision;\"><title>int64[]</title><tspan>kernel_shape</tspan><tspan> = 3, 3</tspan></text><text xml:space=\"preserve\" x=\"6\" y=\"70\" style=\"font-family: -apple-system, BlinkMacSystemFont, &quot;Segoe WPC&quot;, &quot;Segoe UI&quot;, Ubuntu, &quot;Droid Sans&quot;, sans-serif, &quot;PingFang SC&quot;; font-size: 9px; font-weight: normal; text-rendering: geometricprecision;\"><title>int64[]</title><tspan>pads</tspan><tspan> = 1, 1, 1, 1</tspan></text><text xml:space=\"preserve\" x=\"6\" y=\"84\" style=\"font-family: -apple-system, BlinkMacSystemFont, &quot;Segoe WPC&quot;, &quot;Segoe UI&quot;, Ubuntu, &quot;Droid Sans&quot;, sans-serif, &quot;PingFang SC&quot;; font-size: 9px; font-weight: normal; text-rendering: geometricprecision;\"><title>int64[]</title><tspan>strides</tspan><tspan> = 1, 1</tspan></text><line class=\"node\" x1=\"0\" x2=\"153.06982421875\" y1=\"0\" y2=\"0\" style=\"stroke: rgb(51, 51, 51); fill: none; stroke-width: 1px;\"/></g><path class=\"node border\" d=\"M5,0h143.06982421875a5,5 0 0 1 5,5v103a5,5 0 0 1 -5,5h-143.06982421875a5,5 0 0 1 -5,-5v-103a5,5 0 0 1 5,-5z\" style=\"stroke: rgb(51, 51, 51); fill: none; stroke-width: 1px;\"/></g><g id=\"node-name-/layer3/layer3.0/shortcut/shortcut.0/Conv\" class=\"node graph-node\" transform=\"translate(10474.12353515625,133)\" style=\"opacity: 1;\"><g class=\"node-item node-item-type node-item-type-layer\" transform=\"translate(0,0)\"><path d=\"M5,0h206.56689453125a5,5 0 0 1 5,5v18a0,0 0 0 1 0,0h-216.56689453125a0,0 0 0 1 0,0v-18a5,5 0 0 1 5,-5z\" style=\"stroke: rgb(0, 0, 0); fill: rgb(51, 85, 136); stroke-width: 0;\"/><text x=\"6\" y=\"16\" style=\"font-family: -apple-system, BlinkMacSystemFont, &quot;Segoe WPC&quot;, &quot;Segoe UI&quot;, Ubuntu, &quot;Droid Sans&quot;, sans-serif, &quot;PingFang SC&quot;; font-size: 11px; text-rendering: geometricprecision; fill: rgb(255, 255, 255);\">/layer3/layer3.0/shortcut/shortcut.0/Conv</text><title>Conv</title></g><g class=\"node-attribute\" transform=\"translate(0,23)\"><path d=\"M0,0h216.56689453125a0,0 0 0 1 0,0v85a5,5 0 0 1 -5,5h-206.56689453125a5,5 0 0 1 -5,-5v-85a0,0 0 0 1 0,0z\" style=\"stroke: rgb(0, 0, 0); fill: rgb(255, 255, 255); stroke-width: 0;\"/><text id=\"initializer-onnx::Conv_303\" xml:space=\"preserve\" x=\"6\" y=\"14\" style=\"font-family: -apple-system, BlinkMacSystemFont, &quot;Segoe WPC&quot;, &quot;Segoe UI&quot;, Ubuntu, &quot;Droid Sans&quot;, sans-serif, &quot;PingFang SC&quot;; font-size: 9px; font-weight: normal; text-rendering: geometricprecision;\"><title>float32[128,128,1,1]</title><tspan style=\"font-weight: bold;\">W</tspan><tspan>〈128×128×1×1〉</tspan></text><text id=\"initializer-onnx::Conv_304\" xml:space=\"preserve\" x=\"6\" y=\"28\" style=\"font-family: -apple-system, BlinkMacSystemFont, &quot;Segoe WPC&quot;, &quot;Segoe UI&quot;, Ubuntu, &quot;Droid Sans&quot;, sans-serif, &quot;PingFang SC&quot;; font-size: 9px; font-weight: normal; text-rendering: geometricprecision;\"><title>float32[128]</title><tspan style=\"font-weight: bold;\">B</tspan><tspan>〈128〉</tspan></text><text xml:space=\"preserve\" x=\"6\" y=\"42\" style=\"font-family: -apple-system, BlinkMacSystemFont, &quot;Segoe WPC&quot;, &quot;Segoe UI&quot;, Ubuntu, &quot;Droid Sans&quot;, sans-serif, &quot;PingFang SC&quot;; font-size: 9px; font-weight: normal; text-rendering: geometricprecision;\"><title>int64[]</title><tspan>dilations</tspan><tspan> = 1, 1</tspan></text><text xml:space=\"preserve\" x=\"6\" y=\"56\" style=\"font-family: -apple-system, BlinkMacSystemFont, &quot;Segoe WPC&quot;, &quot;Segoe UI&quot;, Ubuntu, &quot;Droid Sans&quot;, sans-serif, &quot;PingFang SC&quot;; font-size: 9px; font-weight: normal; text-rendering: geometricprecision;\"><title>int64[]</title><tspan>kernel_shape</tspan><tspan> = 1, 1</tspan></text><text xml:space=\"preserve\" x=\"6\" y=\"70\" style=\"font-family: -apple-system, BlinkMacSystemFont, &quot;Segoe WPC&quot;, &quot;Segoe UI&quot;, Ubuntu, &quot;Droid Sans&quot;, sans-serif, &quot;PingFang SC&quot;; font-size: 9px; font-weight: normal; text-rendering: geometricprecision;\"><title>int64[]</title><tspan>pads</tspan><tspan> = 0, 0, 0, 0</tspan></text><text xml:space=\"preserve\" x=\"6\" y=\"84\" style=\"font-family: -apple-system, BlinkMacSystemFont, &quot;Segoe WPC&quot;, &quot;Segoe UI&quot;, Ubuntu, &quot;Droid Sans&quot;, sans-serif, &quot;PingFang SC&quot;; font-size: 9px; font-weight: normal; text-rendering: geometricprecision;\"><title>int64[]</title><tspan>strides</tspan><tspan> = 2, 2</tspan></text><line class=\"node\" x1=\"0\" x2=\"216.56689453125\" y1=\"0\" y2=\"0\" style=\"stroke: rgb(51, 51, 51); fill: none; stroke-width: 1px;\"/></g><path class=\"node border\" d=\"M5,0h206.56689453125a5,5 0 0 1 5,5v103a5,5 0 0 1 -5,5h-206.56689453125a5,5 0 0 1 -5,-5v-103a5,5 0 0 1 5,-5z\" style=\"stroke: rgb(51, 51, 51); fill: none; stroke-width: 1px;\"/></g><g id=\"node-name-/layer3/layer3.0/Add\" class=\"node graph-node\" transform=\"translate(10938.4033203125,111.5)\" style=\"opacity: 1;\"><g class=\"node-item node-item-type\" transform=\"translate(0,0)\"><path d=\"M5,0h104.40625a5,5 0 0 1 5,5v13a5,5 0 0 1 -5,5h-104.40625a5,5 0 0 1 -5,-5v-13a5,5 0 0 1 5,-5z\" style=\"stroke: rgb(0, 0, 0); fill: rgb(0, 0, 0); stroke-width: 0;\"/><text x=\"6\" y=\"16\" style=\"font-family: -apple-system, BlinkMacSystemFont, &quot;Segoe WPC&quot;, &quot;Segoe UI&quot;, Ubuntu, &quot;Droid Sans&quot;, sans-serif, &quot;PingFang SC&quot;; font-size: 11px; text-rendering: geometricprecision; fill: rgb(255, 255, 255);\">/layer3/layer3.0/Add</text><title>Add</title></g><path class=\"node border\" d=\"M5,0h104.40625a5,5 0 0 1 5,5v13a5,5 0 0 1 -5,5h-104.40625a5,5 0 0 1 -5,-5v-13a5,5 0 0 1 5,-5z\" style=\"stroke: rgb(51, 51, 51); fill: none; stroke-width: 1px;\"/></g><g id=\"node-name-/layer3/layer3.0/Relu_1\" class=\"node graph-node\" transform=\"translate(11208.310546875,111.5)\" style=\"opacity: 1;\"><g class=\"node-item node-item-type node-item-type-activation\" transform=\"translate(0,0)\"><path d=\"M5,0h115.75a5,5 0 0 1 5,5v13a5,5 0 0 1 -5,5h-115.75a5,5 0 0 1 -5,-5v-13a5,5 0 0 1 5,-5z\" style=\"stroke: rgb(0, 0, 0); fill: rgb(112, 41, 33); stroke-width: 0;\"/><text x=\"6\" y=\"16\" style=\"font-family: -apple-system, BlinkMacSystemFont, &quot;Segoe WPC&quot;, &quot;Segoe UI&quot;, Ubuntu, &quot;Droid Sans&quot;, sans-serif, &quot;PingFang SC&quot;; font-size: 11px; text-rendering: geometricprecision; fill: rgb(255, 255, 255);\">/layer3/layer3.0/Relu_1</text><title>Relu</title></g><path class=\"node border\" d=\"M5,0h115.75a5,5 0 0 1 5,5v13a5,5 0 0 1 -5,5h-115.75a5,5 0 0 1 -5,-5v-13a5,5 0 0 1 5,-5z\" style=\"stroke: rgb(51, 51, 51); fill: none; stroke-width: 1px;\"/></g><g id=\"node-name-/layer3/layer3.1/conv1/Conv\" class=\"node graph-node\" transform=\"translate(11499.8740234375,104.75)\" style=\"opacity: 1;\"><g class=\"node-item node-item-type node-item-type-layer\" transform=\"translate(0,0)\"><path d=\"M5,0h143.06982421875a5,5 0 0 1 5,5v18a0,0 0 0 1 0,0h-153.06982421875a0,0 0 0 1 0,0v-18a5,5 0 0 1 5,-5z\" style=\"stroke: rgb(0, 0, 0); fill: rgb(51, 85, 136); stroke-width: 0;\"/><text x=\"6\" y=\"16\" style=\"font-family: -apple-system, BlinkMacSystemFont, &quot;Segoe WPC&quot;, &quot;Segoe UI&quot;, Ubuntu, &quot;Droid Sans&quot;, sans-serif, &quot;PingFang SC&quot;; font-size: 11px; text-rendering: geometricprecision; fill: rgb(255, 255, 255);\">/layer3/layer3.1/conv1/Conv</text><title>Conv</title></g><g class=\"node-attribute\" transform=\"translate(0,23)\"><path d=\"M0,0h153.06982421875a0,0 0 0 1 0,0v85a5,5 0 0 1 -5,5h-143.06982421875a5,5 0 0 1 -5,-5v-85a0,0 0 0 1 0,0z\" style=\"stroke: rgb(0, 0, 0); fill: rgb(255, 255, 255); stroke-width: 0;\"/><text id=\"initializer-onnx::Conv_306\" xml:space=\"preserve\" x=\"6\" y=\"14\" style=\"font-family: -apple-system, BlinkMacSystemFont, &quot;Segoe WPC&quot;, &quot;Segoe UI&quot;, Ubuntu, &quot;Droid Sans&quot;, sans-serif, &quot;PingFang SC&quot;; font-size: 9px; font-weight: normal; text-rendering: geometricprecision;\"><title>float32[128,128,3,3]</title><tspan style=\"font-weight: bold;\">W</tspan><tspan>〈128×128×3×3〉</tspan></text><text id=\"initializer-onnx::Conv_307\" xml:space=\"preserve\" x=\"6\" y=\"28\" style=\"font-family: -apple-system, BlinkMacSystemFont, &quot;Segoe WPC&quot;, &quot;Segoe UI&quot;, Ubuntu, &quot;Droid Sans&quot;, sans-serif, &quot;PingFang SC&quot;; font-size: 9px; font-weight: normal; text-rendering: geometricprecision;\"><title>float32[128]</title><tspan style=\"font-weight: bold;\">B</tspan><tspan>〈128〉</tspan></text><text xml:space=\"preserve\" x=\"6\" y=\"42\" style=\"font-family: -apple-system, BlinkMacSystemFont, &quot;Segoe WPC&quot;, &quot;Segoe UI&quot;, Ubuntu, &quot;Droid Sans&quot;, sans-serif, &quot;PingFang SC&quot;; font-size: 9px; font-weight: normal; text-rendering: geometricprecision;\"><title>int64[]</title><tspan>dilations</tspan><tspan> = 1, 1</tspan></text><text xml:space=\"preserve\" x=\"6\" y=\"56\" style=\"font-family: -apple-system, BlinkMacSystemFont, &quot;Segoe WPC&quot;, &quot;Segoe UI&quot;, Ubuntu, &quot;Droid Sans&quot;, sans-serif, &quot;PingFang SC&quot;; font-size: 9px; font-weight: normal; text-rendering: geometricprecision;\"><title>int64[]</title><tspan>kernel_shape</tspan><tspan> = 3, 3</tspan></text><text xml:space=\"preserve\" x=\"6\" y=\"70\" style=\"font-family: -apple-system, BlinkMacSystemFont, &quot;Segoe WPC&quot;, &quot;Segoe UI&quot;, Ubuntu, &quot;Droid Sans&quot;, sans-serif, &quot;PingFang SC&quot;; font-size: 9px; font-weight: normal; text-rendering: geometricprecision;\"><title>int64[]</title><tspan>pads</tspan><tspan> = 1, 1, 1, 1</tspan></text><text xml:space=\"preserve\" x=\"6\" y=\"84\" style=\"font-family: -apple-system, BlinkMacSystemFont, &quot;Segoe WPC&quot;, &quot;Segoe UI&quot;, Ubuntu, &quot;Droid Sans&quot;, sans-serif, &quot;PingFang SC&quot;; font-size: 9px; font-weight: normal; text-rendering: geometricprecision;\"><title>int64[]</title><tspan>strides</tspan><tspan> = 1, 1</tspan></text><line class=\"node\" x1=\"0\" x2=\"153.06982421875\" y1=\"0\" y2=\"0\" style=\"stroke: rgb(51, 51, 51); fill: none; stroke-width: 1px;\"/></g><path class=\"node border\" d=\"M5,0h143.06982421875a5,5 0 0 1 5,5v103a5,5 0 0 1 -5,5h-143.06982421875a5,5 0 0 1 -5,-5v-103a5,5 0 0 1 5,-5z\" style=\"stroke: rgb(51, 51, 51); fill: none; stroke-width: 1px;\"/></g><g id=\"node-name-/layer3/layer3.1/Relu\" class=\"node graph-node\" transform=\"translate(11858.2060546875,149.75)\" style=\"opacity: 1;\"><g class=\"node-item node-item-type node-item-type-activation\" transform=\"translate(0,0)\"><path d=\"M5,0h105.265625a5,5 0 0 1 5,5v13a5,5 0 0 1 -5,5h-105.265625a5,5 0 0 1 -5,-5v-13a5,5 0 0 1 5,-5z\" style=\"stroke: rgb(0, 0, 0); fill: rgb(112, 41, 33); stroke-width: 0;\"/><text x=\"6\" y=\"16\" style=\"font-family: -apple-system, BlinkMacSystemFont, &quot;Segoe WPC&quot;, &quot;Segoe UI&quot;, Ubuntu, &quot;Droid Sans&quot;, sans-serif, &quot;PingFang SC&quot;; font-size: 11px; text-rendering: geometricprecision; fill: rgb(255, 255, 255);\">/layer3/layer3.1/Relu</text><title>Relu</title></g><path class=\"node border\" d=\"M5,0h105.265625a5,5 0 0 1 5,5v13a5,5 0 0 1 -5,5h-105.265625a5,5 0 0 1 -5,-5v-13a5,5 0 0 1 5,-5z\" style=\"stroke: rgb(51, 51, 51); fill: none; stroke-width: 1px;\"/></g><g id=\"node-name-/layer3/layer3.1/conv2/Conv\" class=\"node graph-node\" transform=\"translate(12145.01806640625,104.75)\" style=\"opacity: 1;\"><g class=\"node-item node-item-type node-item-type-layer\" transform=\"translate(0,0)\"><path d=\"M5,0h143.06982421875a5,5 0 0 1 5,5v18a0,0 0 0 1 0,0h-153.06982421875a0,0 0 0 1 0,0v-18a5,5 0 0 1 5,-5z\" style=\"stroke: rgb(0, 0, 0); fill: rgb(51, 85, 136); stroke-width: 0;\"/><text x=\"6\" y=\"16\" style=\"font-family: -apple-system, BlinkMacSystemFont, &quot;Segoe WPC&quot;, &quot;Segoe UI&quot;, Ubuntu, &quot;Droid Sans&quot;, sans-serif, &quot;PingFang SC&quot;; font-size: 11px; text-rendering: geometricprecision; fill: rgb(255, 255, 255);\">/layer3/layer3.1/conv2/Conv</text><title>Conv</title></g><g class=\"node-attribute\" transform=\"translate(0,23)\"><path d=\"M0,0h153.06982421875a0,0 0 0 1 0,0v85a5,5 0 0 1 -5,5h-143.06982421875a5,5 0 0 1 -5,-5v-85a0,0 0 0 1 0,0z\" style=\"stroke: rgb(0, 0, 0); fill: rgb(255, 255, 255); stroke-width: 0;\"/><text id=\"initializer-onnx::Conv_309\" xml:space=\"preserve\" x=\"6\" y=\"14\" style=\"font-family: -apple-system, BlinkMacSystemFont, &quot;Segoe WPC&quot;, &quot;Segoe UI&quot;, Ubuntu, &quot;Droid Sans&quot;, sans-serif, &quot;PingFang SC&quot;; font-size: 9px; font-weight: normal; text-rendering: geometricprecision;\"><title>float32[128,128,3,3]</title><tspan style=\"font-weight: bold;\">W</tspan><tspan>〈128×128×3×3〉</tspan></text><text id=\"initializer-onnx::Conv_310\" xml:space=\"preserve\" x=\"6\" y=\"28\" style=\"font-family: -apple-system, BlinkMacSystemFont, &quot;Segoe WPC&quot;, &quot;Segoe UI&quot;, Ubuntu, &quot;Droid Sans&quot;, sans-serif, &quot;PingFang SC&quot;; font-size: 9px; font-weight: normal; text-rendering: geometricprecision;\"><title>float32[128]</title><tspan style=\"font-weight: bold;\">B</tspan><tspan>〈128〉</tspan></text><text xml:space=\"preserve\" x=\"6\" y=\"42\" style=\"font-family: -apple-system, BlinkMacSystemFont, &quot;Segoe WPC&quot;, &quot;Segoe UI&quot;, Ubuntu, &quot;Droid Sans&quot;, sans-serif, &quot;PingFang SC&quot;; font-size: 9px; font-weight: normal; text-rendering: geometricprecision;\"><title>int64[]</title><tspan>dilations</tspan><tspan> = 1, 1</tspan></text><text xml:space=\"preserve\" x=\"6\" y=\"56\" style=\"font-family: -apple-system, BlinkMacSystemFont, &quot;Segoe WPC&quot;, &quot;Segoe UI&quot;, Ubuntu, &quot;Droid Sans&quot;, sans-serif, &quot;PingFang SC&quot;; font-size: 9px; font-weight: normal; text-rendering: geometricprecision;\"><title>int64[]</title><tspan>kernel_shape</tspan><tspan> = 3, 3</tspan></text><text xml:space=\"preserve\" x=\"6\" y=\"70\" style=\"font-family: -apple-system, BlinkMacSystemFont, &quot;Segoe WPC&quot;, &quot;Segoe UI&quot;, Ubuntu, &quot;Droid Sans&quot;, sans-serif, &quot;PingFang SC&quot;; font-size: 9px; font-weight: normal; text-rendering: geometricprecision;\"><title>int64[]</title><tspan>pads</tspan><tspan> = 1, 1, 1, 1</tspan></text><text xml:space=\"preserve\" x=\"6\" y=\"84\" style=\"font-family: -apple-system, BlinkMacSystemFont, &quot;Segoe WPC&quot;, &quot;Segoe UI&quot;, Ubuntu, &quot;Droid Sans&quot;, sans-serif, &quot;PingFang SC&quot;; font-size: 9px; font-weight: normal; text-rendering: geometricprecision;\"><title>int64[]</title><tspan>strides</tspan><tspan> = 1, 1</tspan></text><line class=\"node\" x1=\"0\" x2=\"153.06982421875\" y1=\"0\" y2=\"0\" style=\"stroke: rgb(51, 51, 51); fill: none; stroke-width: 1px;\"/></g><path class=\"node border\" d=\"M5,0h143.06982421875a5,5 0 0 1 5,5v103a5,5 0 0 1 -5,5h-143.06982421875a5,5 0 0 1 -5,-5v-103a5,5 0 0 1 5,-5z\" style=\"stroke: rgb(51, 51, 51); fill: none; stroke-width: 1px;\"/></g><g id=\"node-name-/layer3/layer3.1/Add\" class=\"node graph-node\" transform=\"translate(12488.076171875,111.5)\" style=\"opacity: 1;\"><g class=\"node-item node-item-type\" transform=\"translate(0,0)\"><path d=\"M5,0h104.40625a5,5 0 0 1 5,5v13a5,5 0 0 1 -5,5h-104.40625a5,5 0 0 1 -5,-5v-13a5,5 0 0 1 5,-5z\" style=\"stroke: rgb(0, 0, 0); fill: rgb(0, 0, 0); stroke-width: 0;\"/><text x=\"6\" y=\"16\" style=\"font-family: -apple-system, BlinkMacSystemFont, &quot;Segoe WPC&quot;, &quot;Segoe UI&quot;, Ubuntu, &quot;Droid Sans&quot;, sans-serif, &quot;PingFang SC&quot;; font-size: 11px; text-rendering: geometricprecision; fill: rgb(255, 255, 255);\">/layer3/layer3.1/Add</text><title>Add</title></g><path class=\"node border\" d=\"M5,0h104.40625a5,5 0 0 1 5,5v13a5,5 0 0 1 -5,5h-104.40625a5,5 0 0 1 -5,-5v-13a5,5 0 0 1 5,-5z\" style=\"stroke: rgb(51, 51, 51); fill: none; stroke-width: 1px;\"/></g><g id=\"node-name-/layer3/layer3.1/Relu_1\" class=\"node graph-node\" transform=\"translate(12757.9833984375,111.5)\" style=\"opacity: 1;\"><g class=\"node-item node-item-type node-item-type-activation\" transform=\"translate(0,0)\"><path d=\"M5,0h115.75a5,5 0 0 1 5,5v13a5,5 0 0 1 -5,5h-115.75a5,5 0 0 1 -5,-5v-13a5,5 0 0 1 5,-5z\" style=\"stroke: rgb(0, 0, 0); fill: rgb(112, 41, 33); stroke-width: 0;\"/><text x=\"6\" y=\"16\" style=\"font-family: -apple-system, BlinkMacSystemFont, &quot;Segoe WPC&quot;, &quot;Segoe UI&quot;, Ubuntu, &quot;Droid Sans&quot;, sans-serif, &quot;PingFang SC&quot;; font-size: 11px; text-rendering: geometricprecision; fill: rgb(255, 255, 255);\">/layer3/layer3.1/Relu_1</text><title>Relu</title></g><path class=\"node border\" d=\"M5,0h115.75a5,5 0 0 1 5,5v13a5,5 0 0 1 -5,5h-115.75a5,5 0 0 1 -5,-5v-13a5,5 0 0 1 5,-5z\" style=\"stroke: rgb(51, 51, 51); fill: none; stroke-width: 1px;\"/></g><g id=\"node-name-/layer4/layer4.0/conv1/Conv\" class=\"node graph-node\" transform=\"translate(13049.546875,0)\" style=\"opacity: 1;\"><g class=\"node-item node-item-type node-item-type-layer\" transform=\"translate(0,0)\"><path d=\"M5,0h143.06982421875a5,5 0 0 1 5,5v18a0,0 0 0 1 0,0h-153.06982421875a0,0 0 0 1 0,0v-18a5,5 0 0 1 5,-5z\" style=\"stroke: rgb(0, 0, 0); fill: rgb(51, 85, 136); stroke-width: 0;\"/><text x=\"6\" y=\"16\" style=\"font-family: -apple-system, BlinkMacSystemFont, &quot;Segoe WPC&quot;, &quot;Segoe UI&quot;, Ubuntu, &quot;Droid Sans&quot;, sans-serif, &quot;PingFang SC&quot;; font-size: 11px; text-rendering: geometricprecision; fill: rgb(255, 255, 255);\">/layer4/layer4.0/conv1/Conv</text><title>Conv</title></g><g class=\"node-attribute\" transform=\"translate(0,23)\"><path d=\"M0,0h153.06982421875a0,0 0 0 1 0,0v85a5,5 0 0 1 -5,5h-143.06982421875a5,5 0 0 1 -5,-5v-85a0,0 0 0 1 0,0z\" style=\"stroke: rgb(0, 0, 0); fill: rgb(255, 255, 255); stroke-width: 0;\"/><text id=\"initializer-onnx::Conv_312\" xml:space=\"preserve\" x=\"6\" y=\"14\" style=\"font-family: -apple-system, BlinkMacSystemFont, &quot;Segoe WPC&quot;, &quot;Segoe UI&quot;, Ubuntu, &quot;Droid Sans&quot;, sans-serif, &quot;PingFang SC&quot;; font-size: 9px; font-weight: normal; text-rendering: geometricprecision;\"><title>float32[256,128,3,3]</title><tspan style=\"font-weight: bold;\">W</tspan><tspan>〈256×128×3×3〉</tspan></text><text id=\"initializer-onnx::Conv_313\" xml:space=\"preserve\" x=\"6\" y=\"28\" style=\"font-family: -apple-system, BlinkMacSystemFont, &quot;Segoe WPC&quot;, &quot;Segoe UI&quot;, Ubuntu, &quot;Droid Sans&quot;, sans-serif, &quot;PingFang SC&quot;; font-size: 9px; font-weight: normal; text-rendering: geometricprecision;\"><title>float32[256]</title><tspan style=\"font-weight: bold;\">B</tspan><tspan>〈256〉</tspan></text><text xml:space=\"preserve\" x=\"6\" y=\"42\" style=\"font-family: -apple-system, BlinkMacSystemFont, &quot;Segoe WPC&quot;, &quot;Segoe UI&quot;, Ubuntu, &quot;Droid Sans&quot;, sans-serif, &quot;PingFang SC&quot;; font-size: 9px; font-weight: normal; text-rendering: geometricprecision;\"><title>int64[]</title><tspan>dilations</tspan><tspan> = 1, 1</tspan></text><text xml:space=\"preserve\" x=\"6\" y=\"56\" style=\"font-family: -apple-system, BlinkMacSystemFont, &quot;Segoe WPC&quot;, &quot;Segoe UI&quot;, Ubuntu, &quot;Droid Sans&quot;, sans-serif, &quot;PingFang SC&quot;; font-size: 9px; font-weight: normal; text-rendering: geometricprecision;\"><title>int64[]</title><tspan>kernel_shape</tspan><tspan> = 3, 3</tspan></text><text xml:space=\"preserve\" x=\"6\" y=\"70\" style=\"font-family: -apple-system, BlinkMacSystemFont, &quot;Segoe WPC&quot;, &quot;Segoe UI&quot;, Ubuntu, &quot;Droid Sans&quot;, sans-serif, &quot;PingFang SC&quot;; font-size: 9px; font-weight: normal; text-rendering: geometricprecision;\"><title>int64[]</title><tspan>pads</tspan><tspan> = 1, 1, 1, 1</tspan></text><text xml:space=\"preserve\" x=\"6\" y=\"84\" style=\"font-family: -apple-system, BlinkMacSystemFont, &quot;Segoe WPC&quot;, &quot;Segoe UI&quot;, Ubuntu, &quot;Droid Sans&quot;, sans-serif, &quot;PingFang SC&quot;; font-size: 9px; font-weight: normal; text-rendering: geometricprecision;\"><title>int64[]</title><tspan>strides</tspan><tspan> = 2, 2</tspan></text><line class=\"node\" x1=\"0\" x2=\"153.06982421875\" y1=\"0\" y2=\"0\" style=\"stroke: rgb(51, 51, 51); fill: none; stroke-width: 1px;\"/></g><path class=\"node border\" d=\"M5,0h143.06982421875a5,5 0 0 1 5,5v103a5,5 0 0 1 -5,5h-143.06982421875a5,5 0 0 1 -5,-5v-103a5,5 0 0 1 5,-5z\" style=\"stroke: rgb(51, 51, 51); fill: none; stroke-width: 1px;\"/></g><g id=\"node-name-/layer4/layer4.0/Relu\" class=\"node graph-node\" transform=\"translate(13392.60498046875,45)\" style=\"opacity: 1;\"><g class=\"node-item node-item-type node-item-type-activation\" transform=\"translate(0,0)\"><path d=\"M5,0h105.265625a5,5 0 0 1 5,5v13a5,5 0 0 1 -5,5h-105.265625a5,5 0 0 1 -5,-5v-13a5,5 0 0 1 5,-5z\" style=\"stroke: rgb(0, 0, 0); fill: rgb(112, 41, 33); stroke-width: 0;\"/><text x=\"6\" y=\"16\" style=\"font-family: -apple-system, BlinkMacSystemFont, &quot;Segoe WPC&quot;, &quot;Segoe UI&quot;, Ubuntu, &quot;Droid Sans&quot;, sans-serif, &quot;PingFang SC&quot;; font-size: 11px; text-rendering: geometricprecision; fill: rgb(255, 255, 255);\">/layer4/layer4.0/Relu</text><title>Relu</title></g><path class=\"node border\" d=\"M5,0h105.265625a5,5 0 0 1 5,5v13a5,5 0 0 1 -5,5h-105.265625a5,5 0 0 1 -5,-5v-13a5,5 0 0 1 5,-5z\" style=\"stroke: rgb(51, 51, 51); fill: none; stroke-width: 1px;\"/></g><g id=\"node-name-/layer4/layer4.0/conv2/Conv\" class=\"node graph-node\" transform=\"translate(13695.8916015625,0)\" style=\"opacity: 1;\"><g class=\"node-item node-item-type node-item-type-layer\" transform=\"translate(0,0)\"><path d=\"M5,0h143.06982421875a5,5 0 0 1 5,5v18a0,0 0 0 1 0,0h-153.06982421875a0,0 0 0 1 0,0v-18a5,5 0 0 1 5,-5z\" style=\"stroke: rgb(0, 0, 0); fill: rgb(51, 85, 136); stroke-width: 0;\"/><text x=\"6\" y=\"16\" style=\"font-family: -apple-system, BlinkMacSystemFont, &quot;Segoe WPC&quot;, &quot;Segoe UI&quot;, Ubuntu, &quot;Droid Sans&quot;, sans-serif, &quot;PingFang SC&quot;; font-size: 11px; text-rendering: geometricprecision; fill: rgb(255, 255, 255);\">/layer4/layer4.0/conv2/Conv</text><title>Conv</title></g><g class=\"node-attribute\" transform=\"translate(0,23)\"><path d=\"M0,0h153.06982421875a0,0 0 0 1 0,0v85a5,5 0 0 1 -5,5h-143.06982421875a5,5 0 0 1 -5,-5v-85a0,0 0 0 1 0,0z\" style=\"stroke: rgb(0, 0, 0); fill: rgb(255, 255, 255); stroke-width: 0;\"/><text id=\"initializer-onnx::Conv_315\" xml:space=\"preserve\" x=\"6\" y=\"14\" style=\"font-family: -apple-system, BlinkMacSystemFont, &quot;Segoe WPC&quot;, &quot;Segoe UI&quot;, Ubuntu, &quot;Droid Sans&quot;, sans-serif, &quot;PingFang SC&quot;; font-size: 9px; font-weight: normal; text-rendering: geometricprecision;\"><title>float32[256,256,3,3]</title><tspan style=\"font-weight: bold;\">W</tspan><tspan>〈256×256×3×3〉</tspan></text><text id=\"initializer-onnx::Conv_316\" xml:space=\"preserve\" x=\"6\" y=\"28\" style=\"font-family: -apple-system, BlinkMacSystemFont, &quot;Segoe WPC&quot;, &quot;Segoe UI&quot;, Ubuntu, &quot;Droid Sans&quot;, sans-serif, &quot;PingFang SC&quot;; font-size: 9px; font-weight: normal; text-rendering: geometricprecision;\"><title>float32[256]</title><tspan style=\"font-weight: bold;\">B</tspan><tspan>〈256〉</tspan></text><text xml:space=\"preserve\" x=\"6\" y=\"42\" style=\"font-family: -apple-system, BlinkMacSystemFont, &quot;Segoe WPC&quot;, &quot;Segoe UI&quot;, Ubuntu, &quot;Droid Sans&quot;, sans-serif, &quot;PingFang SC&quot;; font-size: 9px; font-weight: normal; text-rendering: geometricprecision;\"><title>int64[]</title><tspan>dilations</tspan><tspan> = 1, 1</tspan></text><text xml:space=\"preserve\" x=\"6\" y=\"56\" style=\"font-family: -apple-system, BlinkMacSystemFont, &quot;Segoe WPC&quot;, &quot;Segoe UI&quot;, Ubuntu, &quot;Droid Sans&quot;, sans-serif, &quot;PingFang SC&quot;; font-size: 9px; font-weight: normal; text-rendering: geometricprecision;\"><title>int64[]</title><tspan>kernel_shape</tspan><tspan> = 3, 3</tspan></text><text xml:space=\"preserve\" x=\"6\" y=\"70\" style=\"font-family: -apple-system, BlinkMacSystemFont, &quot;Segoe WPC&quot;, &quot;Segoe UI&quot;, Ubuntu, &quot;Droid Sans&quot;, sans-serif, &quot;PingFang SC&quot;; font-size: 9px; font-weight: normal; text-rendering: geometricprecision;\"><title>int64[]</title><tspan>pads</tspan><tspan> = 1, 1, 1, 1</tspan></text><text xml:space=\"preserve\" x=\"6\" y=\"84\" style=\"font-family: -apple-system, BlinkMacSystemFont, &quot;Segoe WPC&quot;, &quot;Segoe UI&quot;, Ubuntu, &quot;Droid Sans&quot;, sans-serif, &quot;PingFang SC&quot;; font-size: 9px; font-weight: normal; text-rendering: geometricprecision;\"><title>int64[]</title><tspan>strides</tspan><tspan> = 1, 1</tspan></text><line class=\"node\" x1=\"0\" x2=\"153.06982421875\" y1=\"0\" y2=\"0\" style=\"stroke: rgb(51, 51, 51); fill: none; stroke-width: 1px;\"/></g><path class=\"node border\" d=\"M5,0h143.06982421875a5,5 0 0 1 5,5v103a5,5 0 0 1 -5,5h-143.06982421875a5,5 0 0 1 -5,-5v-103a5,5 0 0 1 5,-5z\" style=\"stroke: rgb(51, 51, 51); fill: none; stroke-width: 1px;\"/></g><g id=\"node-name-/layer4/layer4.0/shortcut/shortcut.0/Conv\" class=\"node graph-node\" transform=\"translate(13664.14306640625,133)\" style=\"opacity: 1;\"><g class=\"node-item node-item-type node-item-type-layer\" transform=\"translate(0,0)\"><path d=\"M5,0h206.56689453125a5,5 0 0 1 5,5v18a0,0 0 0 1 0,0h-216.56689453125a0,0 0 0 1 0,0v-18a5,5 0 0 1 5,-5z\" style=\"stroke: rgb(0, 0, 0); fill: rgb(51, 85, 136); stroke-width: 0;\"/><text x=\"6\" y=\"16\" style=\"font-family: -apple-system, BlinkMacSystemFont, &quot;Segoe WPC&quot;, &quot;Segoe UI&quot;, Ubuntu, &quot;Droid Sans&quot;, sans-serif, &quot;PingFang SC&quot;; font-size: 11px; text-rendering: geometricprecision; fill: rgb(255, 255, 255);\">/layer4/layer4.0/shortcut/shortcut.0/Conv</text><title>Conv</title></g><g class=\"node-attribute\" transform=\"translate(0,23)\"><path d=\"M0,0h216.56689453125a0,0 0 0 1 0,0v85a5,5 0 0 1 -5,5h-206.56689453125a5,5 0 0 1 -5,-5v-85a0,0 0 0 1 0,0z\" style=\"stroke: rgb(0, 0, 0); fill: rgb(255, 255, 255); stroke-width: 0;\"/><text id=\"initializer-onnx::Conv_318\" xml:space=\"preserve\" x=\"6\" y=\"14\" style=\"font-family: -apple-system, BlinkMacSystemFont, &quot;Segoe WPC&quot;, &quot;Segoe UI&quot;, Ubuntu, &quot;Droid Sans&quot;, sans-serif, &quot;PingFang SC&quot;; font-size: 9px; font-weight: normal; text-rendering: geometricprecision;\"><title>float32[256,128,1,1]</title><tspan style=\"font-weight: bold;\">W</tspan><tspan>〈256×128×1×1〉</tspan></text><text id=\"initializer-onnx::Conv_319\" xml:space=\"preserve\" x=\"6\" y=\"28\" style=\"font-family: -apple-system, BlinkMacSystemFont, &quot;Segoe WPC&quot;, &quot;Segoe UI&quot;, Ubuntu, &quot;Droid Sans&quot;, sans-serif, &quot;PingFang SC&quot;; font-size: 9px; font-weight: normal; text-rendering: geometricprecision;\"><title>float32[256]</title><tspan style=\"font-weight: bold;\">B</tspan><tspan>〈256〉</tspan></text><text xml:space=\"preserve\" x=\"6\" y=\"42\" style=\"font-family: -apple-system, BlinkMacSystemFont, &quot;Segoe WPC&quot;, &quot;Segoe UI&quot;, Ubuntu, &quot;Droid Sans&quot;, sans-serif, &quot;PingFang SC&quot;; font-size: 9px; font-weight: normal; text-rendering: geometricprecision;\"><title>int64[]</title><tspan>dilations</tspan><tspan> = 1, 1</tspan></text><text xml:space=\"preserve\" x=\"6\" y=\"56\" style=\"font-family: -apple-system, BlinkMacSystemFont, &quot;Segoe WPC&quot;, &quot;Segoe UI&quot;, Ubuntu, &quot;Droid Sans&quot;, sans-serif, &quot;PingFang SC&quot;; font-size: 9px; font-weight: normal; text-rendering: geometricprecision;\"><title>int64[]</title><tspan>kernel_shape</tspan><tspan> = 1, 1</tspan></text><text xml:space=\"preserve\" x=\"6\" y=\"70\" style=\"font-family: -apple-system, BlinkMacSystemFont, &quot;Segoe WPC&quot;, &quot;Segoe UI&quot;, Ubuntu, &quot;Droid Sans&quot;, sans-serif, &quot;PingFang SC&quot;; font-size: 9px; font-weight: normal; text-rendering: geometricprecision;\"><title>int64[]</title><tspan>pads</tspan><tspan> = 0, 0, 0, 0</tspan></text><text xml:space=\"preserve\" x=\"6\" y=\"84\" style=\"font-family: -apple-system, BlinkMacSystemFont, &quot;Segoe WPC&quot;, &quot;Segoe UI&quot;, Ubuntu, &quot;Droid Sans&quot;, sans-serif, &quot;PingFang SC&quot;; font-size: 9px; font-weight: normal; text-rendering: geometricprecision;\"><title>int64[]</title><tspan>strides</tspan><tspan> = 2, 2</tspan></text><line class=\"node\" x1=\"0\" x2=\"216.56689453125\" y1=\"0\" y2=\"0\" style=\"stroke: rgb(51, 51, 51); fill: none; stroke-width: 1px;\"/></g><path class=\"node border\" d=\"M5,0h206.56689453125a5,5 0 0 1 5,5v103a5,5 0 0 1 -5,5h-206.56689453125a5,5 0 0 1 -5,-5v-103a5,5 0 0 1 5,-5z\" style=\"stroke: rgb(51, 51, 51); fill: none; stroke-width: 1px;\"/></g><g id=\"node-name-/layer4/layer4.0/Add\" class=\"node graph-node\" transform=\"translate(14128.4228515625,111.5)\" style=\"opacity: 1;\"><g class=\"node-item node-item-type\" transform=\"translate(0,0)\"><path d=\"M5,0h104.40625a5,5 0 0 1 5,5v13a5,5 0 0 1 -5,5h-104.40625a5,5 0 0 1 -5,-5v-13a5,5 0 0 1 5,-5z\" style=\"stroke: rgb(0, 0, 0); fill: rgb(0, 0, 0); stroke-width: 0;\"/><text x=\"6\" y=\"16\" style=\"font-family: -apple-system, BlinkMacSystemFont, &quot;Segoe WPC&quot;, &quot;Segoe UI&quot;, Ubuntu, &quot;Droid Sans&quot;, sans-serif, &quot;PingFang SC&quot;; font-size: 11px; text-rendering: geometricprecision; fill: rgb(255, 255, 255);\">/layer4/layer4.0/Add</text><title>Add</title></g><path class=\"node border\" d=\"M5,0h104.40625a5,5 0 0 1 5,5v13a5,5 0 0 1 -5,5h-104.40625a5,5 0 0 1 -5,-5v-13a5,5 0 0 1 5,-5z\" style=\"stroke: rgb(51, 51, 51); fill: none; stroke-width: 1px;\"/></g><g id=\"node-name-/layer4/layer4.0/Relu_1\" class=\"node graph-node\" transform=\"translate(14398.330078125,111.5)\" style=\"opacity: 1;\"><g class=\"node-item node-item-type node-item-type-activation\" transform=\"translate(0,0)\"><path d=\"M5,0h115.75a5,5 0 0 1 5,5v13a5,5 0 0 1 -5,5h-115.75a5,5 0 0 1 -5,-5v-13a5,5 0 0 1 5,-5z\" style=\"stroke: rgb(0, 0, 0); fill: rgb(112, 41, 33); stroke-width: 0;\"/><text x=\"6\" y=\"16\" style=\"font-family: -apple-system, BlinkMacSystemFont, &quot;Segoe WPC&quot;, &quot;Segoe UI&quot;, Ubuntu, &quot;Droid Sans&quot;, sans-serif, &quot;PingFang SC&quot;; font-size: 11px; text-rendering: geometricprecision; fill: rgb(255, 255, 255);\">/layer4/layer4.0/Relu_1</text><title>Relu</title></g><path class=\"node border\" d=\"M5,0h115.75a5,5 0 0 1 5,5v13a5,5 0 0 1 -5,5h-115.75a5,5 0 0 1 -5,-5v-13a5,5 0 0 1 5,-5z\" style=\"stroke: rgb(51, 51, 51); fill: none; stroke-width: 1px;\"/></g><g id=\"node-name-/layer4/layer4.1/conv1/Conv\" class=\"node graph-node\" transform=\"translate(14689.8935546875,104.75)\" style=\"opacity: 1;\"><g class=\"node-item node-item-type node-item-type-layer\" transform=\"translate(0,0)\"><path d=\"M5,0h143.06982421875a5,5 0 0 1 5,5v18a0,0 0 0 1 0,0h-153.06982421875a0,0 0 0 1 0,0v-18a5,5 0 0 1 5,-5z\" style=\"stroke: rgb(0, 0, 0); fill: rgb(51, 85, 136); stroke-width: 0;\"/><text x=\"6\" y=\"16\" style=\"font-family: -apple-system, BlinkMacSystemFont, &quot;Segoe WPC&quot;, &quot;Segoe UI&quot;, Ubuntu, &quot;Droid Sans&quot;, sans-serif, &quot;PingFang SC&quot;; font-size: 11px; text-rendering: geometricprecision; fill: rgb(255, 255, 255);\">/layer4/layer4.1/conv1/Conv</text><title>Conv</title></g><g class=\"node-attribute\" transform=\"translate(0,23)\"><path d=\"M0,0h153.06982421875a0,0 0 0 1 0,0v85a5,5 0 0 1 -5,5h-143.06982421875a5,5 0 0 1 -5,-5v-85a0,0 0 0 1 0,0z\" style=\"stroke: rgb(0, 0, 0); fill: rgb(255, 255, 255); stroke-width: 0;\"/><text id=\"initializer-onnx::Conv_321\" xml:space=\"preserve\" x=\"6\" y=\"14\" style=\"font-family: -apple-system, BlinkMacSystemFont, &quot;Segoe WPC&quot;, &quot;Segoe UI&quot;, Ubuntu, &quot;Droid Sans&quot;, sans-serif, &quot;PingFang SC&quot;; font-size: 9px; font-weight: normal; text-rendering: geometricprecision;\"><title>float32[256,256,3,3]</title><tspan style=\"font-weight: bold;\">W</tspan><tspan>〈256×256×3×3〉</tspan></text><text id=\"initializer-onnx::Conv_322\" xml:space=\"preserve\" x=\"6\" y=\"28\" style=\"font-family: -apple-system, BlinkMacSystemFont, &quot;Segoe WPC&quot;, &quot;Segoe UI&quot;, Ubuntu, &quot;Droid Sans&quot;, sans-serif, &quot;PingFang SC&quot;; font-size: 9px; font-weight: normal; text-rendering: geometricprecision;\"><title>float32[256]</title><tspan style=\"font-weight: bold;\">B</tspan><tspan>〈256〉</tspan></text><text xml:space=\"preserve\" x=\"6\" y=\"42\" style=\"font-family: -apple-system, BlinkMacSystemFont, &quot;Segoe WPC&quot;, &quot;Segoe UI&quot;, Ubuntu, &quot;Droid Sans&quot;, sans-serif, &quot;PingFang SC&quot;; font-size: 9px; font-weight: normal; text-rendering: geometricprecision;\"><title>int64[]</title><tspan>dilations</tspan><tspan> = 1, 1</tspan></text><text xml:space=\"preserve\" x=\"6\" y=\"56\" style=\"font-family: -apple-system, BlinkMacSystemFont, &quot;Segoe WPC&quot;, &quot;Segoe UI&quot;, Ubuntu, &quot;Droid Sans&quot;, sans-serif, &quot;PingFang SC&quot;; font-size: 9px; font-weight: normal; text-rendering: geometricprecision;\"><title>int64[]</title><tspan>kernel_shape</tspan><tspan> = 3, 3</tspan></text><text xml:space=\"preserve\" x=\"6\" y=\"70\" style=\"font-family: -apple-system, BlinkMacSystemFont, &quot;Segoe WPC&quot;, &quot;Segoe UI&quot;, Ubuntu, &quot;Droid Sans&quot;, sans-serif, &quot;PingFang SC&quot;; font-size: 9px; font-weight: normal; text-rendering: geometricprecision;\"><title>int64[]</title><tspan>pads</tspan><tspan> = 1, 1, 1, 1</tspan></text><text xml:space=\"preserve\" x=\"6\" y=\"84\" style=\"font-family: -apple-system, BlinkMacSystemFont, &quot;Segoe WPC&quot;, &quot;Segoe UI&quot;, Ubuntu, &quot;Droid Sans&quot;, sans-serif, &quot;PingFang SC&quot;; font-size: 9px; font-weight: normal; text-rendering: geometricprecision;\"><title>int64[]</title><tspan>strides</tspan><tspan> = 1, 1</tspan></text><line class=\"node\" x1=\"0\" x2=\"153.06982421875\" y1=\"0\" y2=\"0\" style=\"stroke: rgb(51, 51, 51); fill: none; stroke-width: 1px;\"/></g><path class=\"node border\" d=\"M5,0h143.06982421875a5,5 0 0 1 5,5v103a5,5 0 0 1 -5,5h-143.06982421875a5,5 0 0 1 -5,-5v-103a5,5 0 0 1 5,-5z\" style=\"stroke: rgb(51, 51, 51); fill: none; stroke-width: 1px;\"/></g><g id=\"node-name-/layer4/layer4.1/Relu\" class=\"node graph-node\" transform=\"translate(15048.2255859375,149.75)\" style=\"opacity: 1;\"><g class=\"node-item node-item-type node-item-type-activation\" transform=\"translate(0,0)\"><path d=\"M5,0h105.265625a5,5 0 0 1 5,5v13a5,5 0 0 1 -5,5h-105.265625a5,5 0 0 1 -5,-5v-13a5,5 0 0 1 5,-5z\" style=\"stroke: rgb(0, 0, 0); fill: rgb(112, 41, 33); stroke-width: 0;\"/><text x=\"6\" y=\"16\" style=\"font-family: -apple-system, BlinkMacSystemFont, &quot;Segoe WPC&quot;, &quot;Segoe UI&quot;, Ubuntu, &quot;Droid Sans&quot;, sans-serif, &quot;PingFang SC&quot;; font-size: 11px; text-rendering: geometricprecision; fill: rgb(255, 255, 255);\">/layer4/layer4.1/Relu</text><title>Relu</title></g><path class=\"node border\" d=\"M5,0h105.265625a5,5 0 0 1 5,5v13a5,5 0 0 1 -5,5h-105.265625a5,5 0 0 1 -5,-5v-13a5,5 0 0 1 5,-5z\" style=\"stroke: rgb(51, 51, 51); fill: none; stroke-width: 1px;\"/></g><g id=\"node-name-/layer4/layer4.1/conv2/Conv\" class=\"node graph-node\" transform=\"translate(15335.03759765625,104.75)\" style=\"opacity: 1;\"><g class=\"node-item node-item-type node-item-type-layer\" transform=\"translate(0,0)\"><path d=\"M5,0h143.06982421875a5,5 0 0 1 5,5v18a0,0 0 0 1 0,0h-153.06982421875a0,0 0 0 1 0,0v-18a5,5 0 0 1 5,-5z\" style=\"stroke: rgb(0, 0, 0); fill: rgb(51, 85, 136); stroke-width: 0;\"/><text x=\"6\" y=\"16\" style=\"font-family: -apple-system, BlinkMacSystemFont, &quot;Segoe WPC&quot;, &quot;Segoe UI&quot;, Ubuntu, &quot;Droid Sans&quot;, sans-serif, &quot;PingFang SC&quot;; font-size: 11px; text-rendering: geometricprecision; fill: rgb(255, 255, 255);\">/layer4/layer4.1/conv2/Conv</text><title>Conv</title></g><g class=\"node-attribute\" transform=\"translate(0,23)\"><path d=\"M0,0h153.06982421875a0,0 0 0 1 0,0v85a5,5 0 0 1 -5,5h-143.06982421875a5,5 0 0 1 -5,-5v-85a0,0 0 0 1 0,0z\" style=\"stroke: rgb(0, 0, 0); fill: rgb(255, 255, 255); stroke-width: 0;\"/><text id=\"initializer-onnx::Conv_324\" xml:space=\"preserve\" x=\"6\" y=\"14\" style=\"font-family: -apple-system, BlinkMacSystemFont, &quot;Segoe WPC&quot;, &quot;Segoe UI&quot;, Ubuntu, &quot;Droid Sans&quot;, sans-serif, &quot;PingFang SC&quot;; font-size: 9px; font-weight: normal; text-rendering: geometricprecision;\"><title>float32[256,256,3,3]</title><tspan style=\"font-weight: bold;\">W</tspan><tspan>〈256×256×3×3〉</tspan></text><text id=\"initializer-onnx::Conv_325\" xml:space=\"preserve\" x=\"6\" y=\"28\" style=\"font-family: -apple-system, BlinkMacSystemFont, &quot;Segoe WPC&quot;, &quot;Segoe UI&quot;, Ubuntu, &quot;Droid Sans&quot;, sans-serif, &quot;PingFang SC&quot;; font-size: 9px; font-weight: normal; text-rendering: geometricprecision;\"><title>float32[256]</title><tspan style=\"font-weight: bold;\">B</tspan><tspan>〈256〉</tspan></text><text xml:space=\"preserve\" x=\"6\" y=\"42\" style=\"font-family: -apple-system, BlinkMacSystemFont, &quot;Segoe WPC&quot;, &quot;Segoe UI&quot;, Ubuntu, &quot;Droid Sans&quot;, sans-serif, &quot;PingFang SC&quot;; font-size: 9px; font-weight: normal; text-rendering: geometricprecision;\"><title>int64[]</title><tspan>dilations</tspan><tspan> = 1, 1</tspan></text><text xml:space=\"preserve\" x=\"6\" y=\"56\" style=\"font-family: -apple-system, BlinkMacSystemFont, &quot;Segoe WPC&quot;, &quot;Segoe UI&quot;, Ubuntu, &quot;Droid Sans&quot;, sans-serif, &quot;PingFang SC&quot;; font-size: 9px; font-weight: normal; text-rendering: geometricprecision;\"><title>int64[]</title><tspan>kernel_shape</tspan><tspan> = 3, 3</tspan></text><text xml:space=\"preserve\" x=\"6\" y=\"70\" style=\"font-family: -apple-system, BlinkMacSystemFont, &quot;Segoe WPC&quot;, &quot;Segoe UI&quot;, Ubuntu, &quot;Droid Sans&quot;, sans-serif, &quot;PingFang SC&quot;; font-size: 9px; font-weight: normal; text-rendering: geometricprecision;\"><title>int64[]</title><tspan>pads</tspan><tspan> = 1, 1, 1, 1</tspan></text><text xml:space=\"preserve\" x=\"6\" y=\"84\" style=\"font-family: -apple-system, BlinkMacSystemFont, &quot;Segoe WPC&quot;, &quot;Segoe UI&quot;, Ubuntu, &quot;Droid Sans&quot;, sans-serif, &quot;PingFang SC&quot;; font-size: 9px; font-weight: normal; text-rendering: geometricprecision;\"><title>int64[]</title><tspan>strides</tspan><tspan> = 1, 1</tspan></text><line class=\"node\" x1=\"0\" x2=\"153.06982421875\" y1=\"0\" y2=\"0\" style=\"stroke: rgb(51, 51, 51); fill: none; stroke-width: 1px;\"/></g><path class=\"node border\" d=\"M5,0h143.06982421875a5,5 0 0 1 5,5v103a5,5 0 0 1 -5,5h-143.06982421875a5,5 0 0 1 -5,-5v-103a5,5 0 0 1 5,-5z\" style=\"stroke: rgb(51, 51, 51); fill: none; stroke-width: 1px;\"/></g><g id=\"node-name-/layer4/layer4.1/Add\" class=\"node graph-node\" transform=\"translate(15678.095703125,111.5)\" style=\"opacity: 1;\"><g class=\"node-item node-item-type\" transform=\"translate(0,0)\"><path d=\"M5,0h104.40625a5,5 0 0 1 5,5v13a5,5 0 0 1 -5,5h-104.40625a5,5 0 0 1 -5,-5v-13a5,5 0 0 1 5,-5z\" style=\"stroke: rgb(0, 0, 0); fill: rgb(0, 0, 0); stroke-width: 0;\"/><text x=\"6\" y=\"16\" style=\"font-family: -apple-system, BlinkMacSystemFont, &quot;Segoe WPC&quot;, &quot;Segoe UI&quot;, Ubuntu, &quot;Droid Sans&quot;, sans-serif, &quot;PingFang SC&quot;; font-size: 11px; text-rendering: geometricprecision; fill: rgb(255, 255, 255);\">/layer4/layer4.1/Add</text><title>Add</title></g><path class=\"node border\" d=\"M5,0h104.40625a5,5 0 0 1 5,5v13a5,5 0 0 1 -5,5h-104.40625a5,5 0 0 1 -5,-5v-13a5,5 0 0 1 5,-5z\" style=\"stroke: rgb(51, 51, 51); fill: none; stroke-width: 1px;\"/></g><g id=\"node-name-/layer4/layer4.1/Relu_1\" class=\"node graph-node\" transform=\"translate(15948.0029296875,111.5)\" style=\"opacity: 1;\"><g class=\"node-item node-item-type node-item-type-activation\" transform=\"translate(0,0)\"><path d=\"M5,0h115.75a5,5 0 0 1 5,5v13a5,5 0 0 1 -5,5h-115.75a5,5 0 0 1 -5,-5v-13a5,5 0 0 1 5,-5z\" style=\"stroke: rgb(0, 0, 0); fill: rgb(112, 41, 33); stroke-width: 0;\"/><text x=\"6\" y=\"16\" style=\"font-family: -apple-system, BlinkMacSystemFont, &quot;Segoe WPC&quot;, &quot;Segoe UI&quot;, Ubuntu, &quot;Droid Sans&quot;, sans-serif, &quot;PingFang SC&quot;; font-size: 11px; text-rendering: geometricprecision; fill: rgb(255, 255, 255);\">/layer4/layer4.1/Relu_1</text><title>Relu</title></g><path class=\"node border\" d=\"M5,0h115.75a5,5 0 0 1 5,5v13a5,5 0 0 1 -5,5h-115.75a5,5 0 0 1 -5,-5v-13a5,5 0 0 1 5,-5z\" style=\"stroke: rgb(51, 51, 51); fill: none; stroke-width: 1px;\"/></g><g id=\"node-name-/layer4/layer4.2/conv1/Conv\" class=\"node graph-node\" transform=\"translate(16239.56640625,104.75)\" style=\"opacity: 1;\"><g class=\"node-item node-item-type node-item-type-layer\" transform=\"translate(0,0)\"><path d=\"M5,0h143.06982421875a5,5 0 0 1 5,5v18a0,0 0 0 1 0,0h-153.06982421875a0,0 0 0 1 0,0v-18a5,5 0 0 1 5,-5z\" style=\"stroke: rgb(0, 0, 0); fill: rgb(51, 85, 136); stroke-width: 0;\"/><text x=\"6\" y=\"16\" style=\"font-family: -apple-system, BlinkMacSystemFont, &quot;Segoe WPC&quot;, &quot;Segoe UI&quot;, Ubuntu, &quot;Droid Sans&quot;, sans-serif, &quot;PingFang SC&quot;; font-size: 11px; text-rendering: geometricprecision; fill: rgb(255, 255, 255);\">/layer4/layer4.2/conv1/Conv</text><title>Conv</title></g><g class=\"node-attribute\" transform=\"translate(0,23)\"><path d=\"M0,0h153.06982421875a0,0 0 0 1 0,0v85a5,5 0 0 1 -5,5h-143.06982421875a5,5 0 0 1 -5,-5v-85a0,0 0 0 1 0,0z\" style=\"stroke: rgb(0, 0, 0); fill: rgb(255, 255, 255); stroke-width: 0;\"/><text id=\"initializer-onnx::Conv_327\" xml:space=\"preserve\" x=\"6\" y=\"14\" style=\"font-family: -apple-system, BlinkMacSystemFont, &quot;Segoe WPC&quot;, &quot;Segoe UI&quot;, Ubuntu, &quot;Droid Sans&quot;, sans-serif, &quot;PingFang SC&quot;; font-size: 9px; font-weight: normal; text-rendering: geometricprecision;\"><title>float32[256,256,3,3]</title><tspan style=\"font-weight: bold;\">W</tspan><tspan>〈256×256×3×3〉</tspan></text><text id=\"initializer-onnx::Conv_328\" xml:space=\"preserve\" x=\"6\" y=\"28\" style=\"font-family: -apple-system, BlinkMacSystemFont, &quot;Segoe WPC&quot;, &quot;Segoe UI&quot;, Ubuntu, &quot;Droid Sans&quot;, sans-serif, &quot;PingFang SC&quot;; font-size: 9px; font-weight: normal; text-rendering: geometricprecision;\"><title>float32[256]</title><tspan style=\"font-weight: bold;\">B</tspan><tspan>〈256〉</tspan></text><text xml:space=\"preserve\" x=\"6\" y=\"42\" style=\"font-family: -apple-system, BlinkMacSystemFont, &quot;Segoe WPC&quot;, &quot;Segoe UI&quot;, Ubuntu, &quot;Droid Sans&quot;, sans-serif, &quot;PingFang SC&quot;; font-size: 9px; font-weight: normal; text-rendering: geometricprecision;\"><title>int64[]</title><tspan>dilations</tspan><tspan> = 1, 1</tspan></text><text xml:space=\"preserve\" x=\"6\" y=\"56\" style=\"font-family: -apple-system, BlinkMacSystemFont, &quot;Segoe WPC&quot;, &quot;Segoe UI&quot;, Ubuntu, &quot;Droid Sans&quot;, sans-serif, &quot;PingFang SC&quot;; font-size: 9px; font-weight: normal; text-rendering: geometricprecision;\"><title>int64[]</title><tspan>kernel_shape</tspan><tspan> = 3, 3</tspan></text><text xml:space=\"preserve\" x=\"6\" y=\"70\" style=\"font-family: -apple-system, BlinkMacSystemFont, &quot;Segoe WPC&quot;, &quot;Segoe UI&quot;, Ubuntu, &quot;Droid Sans&quot;, sans-serif, &quot;PingFang SC&quot;; font-size: 9px; font-weight: normal; text-rendering: geometricprecision;\"><title>int64[]</title><tspan>pads</tspan><tspan> = 1, 1, 1, 1</tspan></text><text xml:space=\"preserve\" x=\"6\" y=\"84\" style=\"font-family: -apple-system, BlinkMacSystemFont, &quot;Segoe WPC&quot;, &quot;Segoe UI&quot;, Ubuntu, &quot;Droid Sans&quot;, sans-serif, &quot;PingFang SC&quot;; font-size: 9px; font-weight: normal; text-rendering: geometricprecision;\"><title>int64[]</title><tspan>strides</tspan><tspan> = 1, 1</tspan></text><line class=\"node\" x1=\"0\" x2=\"153.06982421875\" y1=\"0\" y2=\"0\" style=\"stroke: rgb(51, 51, 51); fill: none; stroke-width: 1px;\"/></g><path class=\"node border\" d=\"M5,0h143.06982421875a5,5 0 0 1 5,5v103a5,5 0 0 1 -5,5h-143.06982421875a5,5 0 0 1 -5,-5v-103a5,5 0 0 1 5,-5z\" style=\"stroke: rgb(51, 51, 51); fill: none; stroke-width: 1px;\"/></g><g id=\"node-name-/layer4/layer4.2/Relu\" class=\"node graph-node\" transform=\"translate(16597.8984375,149.75)\" style=\"opacity: 1;\"><g class=\"node-item node-item-type node-item-type-activation\" transform=\"translate(0,0)\"><path d=\"M5,0h105.265625a5,5 0 0 1 5,5v13a5,5 0 0 1 -5,5h-105.265625a5,5 0 0 1 -5,-5v-13a5,5 0 0 1 5,-5z\" style=\"stroke: rgb(0, 0, 0); fill: rgb(112, 41, 33); stroke-width: 0;\"/><text x=\"6\" y=\"16\" style=\"font-family: -apple-system, BlinkMacSystemFont, &quot;Segoe WPC&quot;, &quot;Segoe UI&quot;, Ubuntu, &quot;Droid Sans&quot;, sans-serif, &quot;PingFang SC&quot;; font-size: 11px; text-rendering: geometricprecision; fill: rgb(255, 255, 255);\">/layer4/layer4.2/Relu</text><title>Relu</title></g><path class=\"node border\" d=\"M5,0h105.265625a5,5 0 0 1 5,5v13a5,5 0 0 1 -5,5h-105.265625a5,5 0 0 1 -5,-5v-13a5,5 0 0 1 5,-5z\" style=\"stroke: rgb(51, 51, 51); fill: none; stroke-width: 1px;\"/></g><g id=\"node-name-/layer4/layer4.2/conv2/Conv\" class=\"node graph-node\" transform=\"translate(16884.71044921875,104.75)\" style=\"opacity: 1;\"><g class=\"node-item node-item-type node-item-type-layer\" transform=\"translate(0,0)\"><path d=\"M5,0h143.06982421875a5,5 0 0 1 5,5v18a0,0 0 0 1 0,0h-153.06982421875a0,0 0 0 1 0,0v-18a5,5 0 0 1 5,-5z\" style=\"stroke: rgb(0, 0, 0); fill: rgb(51, 85, 136); stroke-width: 0;\"/><text x=\"6\" y=\"16\" style=\"font-family: -apple-system, BlinkMacSystemFont, &quot;Segoe WPC&quot;, &quot;Segoe UI&quot;, Ubuntu, &quot;Droid Sans&quot;, sans-serif, &quot;PingFang SC&quot;; font-size: 11px; text-rendering: geometricprecision; fill: rgb(255, 255, 255);\">/layer4/layer4.2/conv2/Conv</text><title>Conv</title></g><g class=\"node-attribute\" transform=\"translate(0,23)\"><path d=\"M0,0h153.06982421875a0,0 0 0 1 0,0v85a5,5 0 0 1 -5,5h-143.06982421875a5,5 0 0 1 -5,-5v-85a0,0 0 0 1 0,0z\" style=\"stroke: rgb(0, 0, 0); fill: rgb(255, 255, 255); stroke-width: 0;\"/><text id=\"initializer-onnx::Conv_330\" xml:space=\"preserve\" x=\"6\" y=\"14\" style=\"font-family: -apple-system, BlinkMacSystemFont, &quot;Segoe WPC&quot;, &quot;Segoe UI&quot;, Ubuntu, &quot;Droid Sans&quot;, sans-serif, &quot;PingFang SC&quot;; font-size: 9px; font-weight: normal; text-rendering: geometricprecision;\"><title>float32[256,256,3,3]</title><tspan style=\"font-weight: bold;\">W</tspan><tspan>〈256×256×3×3〉</tspan></text><text id=\"initializer-onnx::Conv_331\" xml:space=\"preserve\" x=\"6\" y=\"28\" style=\"font-family: -apple-system, BlinkMacSystemFont, &quot;Segoe WPC&quot;, &quot;Segoe UI&quot;, Ubuntu, &quot;Droid Sans&quot;, sans-serif, &quot;PingFang SC&quot;; font-size: 9px; font-weight: normal; text-rendering: geometricprecision;\"><title>float32[256]</title><tspan style=\"font-weight: bold;\">B</tspan><tspan>〈256〉</tspan></text><text xml:space=\"preserve\" x=\"6\" y=\"42\" style=\"font-family: -apple-system, BlinkMacSystemFont, &quot;Segoe WPC&quot;, &quot;Segoe UI&quot;, Ubuntu, &quot;Droid Sans&quot;, sans-serif, &quot;PingFang SC&quot;; font-size: 9px; font-weight: normal; text-rendering: geometricprecision;\"><title>int64[]</title><tspan>dilations</tspan><tspan> = 1, 1</tspan></text><text xml:space=\"preserve\" x=\"6\" y=\"56\" style=\"font-family: -apple-system, BlinkMacSystemFont, &quot;Segoe WPC&quot;, &quot;Segoe UI&quot;, Ubuntu, &quot;Droid Sans&quot;, sans-serif, &quot;PingFang SC&quot;; font-size: 9px; font-weight: normal; text-rendering: geometricprecision;\"><title>int64[]</title><tspan>kernel_shape</tspan><tspan> = 3, 3</tspan></text><text xml:space=\"preserve\" x=\"6\" y=\"70\" style=\"font-family: -apple-system, BlinkMacSystemFont, &quot;Segoe WPC&quot;, &quot;Segoe UI&quot;, Ubuntu, &quot;Droid Sans&quot;, sans-serif, &quot;PingFang SC&quot;; font-size: 9px; font-weight: normal; text-rendering: geometricprecision;\"><title>int64[]</title><tspan>pads</tspan><tspan> = 1, 1, 1, 1</tspan></text><text xml:space=\"preserve\" x=\"6\" y=\"84\" style=\"font-family: -apple-system, BlinkMacSystemFont, &quot;Segoe WPC&quot;, &quot;Segoe UI&quot;, Ubuntu, &quot;Droid Sans&quot;, sans-serif, &quot;PingFang SC&quot;; font-size: 9px; font-weight: normal; text-rendering: geometricprecision;\"><title>int64[]</title><tspan>strides</tspan><tspan> = 1, 1</tspan></text><line class=\"node\" x1=\"0\" x2=\"153.06982421875\" y1=\"0\" y2=\"0\" style=\"stroke: rgb(51, 51, 51); fill: none; stroke-width: 1px;\"/></g><path class=\"node border\" d=\"M5,0h143.06982421875a5,5 0 0 1 5,5v103a5,5 0 0 1 -5,5h-143.06982421875a5,5 0 0 1 -5,-5v-103a5,5 0 0 1 5,-5z\" style=\"stroke: rgb(51, 51, 51); fill: none; stroke-width: 1px;\"/></g><g id=\"node-name-/layer4/layer4.2/Add\" class=\"node graph-node\" transform=\"translate(17227.7685546875,111.5)\" style=\"opacity: 1;\"><g class=\"node-item node-item-type\" transform=\"translate(0,0)\"><path d=\"M5,0h104.40625a5,5 0 0 1 5,5v13a5,5 0 0 1 -5,5h-104.40625a5,5 0 0 1 -5,-5v-13a5,5 0 0 1 5,-5z\" style=\"stroke: rgb(0, 0, 0); fill: rgb(0, 0, 0); stroke-width: 0;\"/><text x=\"6\" y=\"16\" style=\"font-family: -apple-system, BlinkMacSystemFont, &quot;Segoe WPC&quot;, &quot;Segoe UI&quot;, Ubuntu, &quot;Droid Sans&quot;, sans-serif, &quot;PingFang SC&quot;; font-size: 11px; text-rendering: geometricprecision; fill: rgb(255, 255, 255);\">/layer4/layer4.2/Add</text><title>Add</title></g><path class=\"node border\" d=\"M5,0h104.40625a5,5 0 0 1 5,5v13a5,5 0 0 1 -5,5h-104.40625a5,5 0 0 1 -5,-5v-13a5,5 0 0 1 5,-5z\" style=\"stroke: rgb(51, 51, 51); fill: none; stroke-width: 1px;\"/></g><g id=\"node-name-/layer4/layer4.2/Relu_1\" class=\"node graph-node\" transform=\"translate(17497.67578125,111.5)\" style=\"opacity: 1;\"><g class=\"node-item node-item-type node-item-type-activation\" transform=\"translate(0,0)\"><path d=\"M5,0h115.75a5,5 0 0 1 5,5v13a5,5 0 0 1 -5,5h-115.75a5,5 0 0 1 -5,-5v-13a5,5 0 0 1 5,-5z\" style=\"stroke: rgb(0, 0, 0); fill: rgb(112, 41, 33); stroke-width: 0;\"/><text x=\"6\" y=\"16\" style=\"font-family: -apple-system, BlinkMacSystemFont, &quot;Segoe WPC&quot;, &quot;Segoe UI&quot;, Ubuntu, &quot;Droid Sans&quot;, sans-serif, &quot;PingFang SC&quot;; font-size: 11px; text-rendering: geometricprecision; fill: rgb(255, 255, 255);\">/layer4/layer4.2/Relu_1</text><title>Relu</title></g><path class=\"node border\" d=\"M5,0h115.75a5,5 0 0 1 5,5v13a5,5 0 0 1 -5,5h-115.75a5,5 0 0 1 -5,-5v-13a5,5 0 0 1 5,-5z\" style=\"stroke: rgb(51, 51, 51); fill: none; stroke-width: 1px;\"/></g><g id=\"node-name-/Pad\" class=\"node graph-node\" transform=\"translate(17789.2392578125,94.5)\" style=\"opacity: 1;\"><g class=\"node-item node-item-type node-item-type-tensor\" transform=\"translate(0,0)\"><path d=\"M5,0h101.9638671875a5,5 0 0 1 5,5v18a0,0 0 0 1 0,0h-111.9638671875a0,0 0 0 1 0,0v-18a5,5 0 0 1 5,-5z\" style=\"stroke: rgb(0, 0, 0); fill: rgb(89, 66, 59); stroke-width: 0;\"/><text x=\"6\" y=\"16\" style=\"font-family: -apple-system, BlinkMacSystemFont, &quot;Segoe WPC&quot;, &quot;Segoe UI&quot;, Ubuntu, &quot;Droid Sans&quot;, sans-serif, &quot;PingFang SC&quot;; font-size: 11px; text-rendering: geometricprecision; fill: rgb(255, 255, 255);\">/Pad</text><title>Pad</title></g><g class=\"node-attribute\" transform=\"translate(0,23)\"><path d=\"M0,0h111.9638671875a0,0 0 0 1 0,0v29a5,5 0 0 1 -5,5h-101.9638671875a5,5 0 0 1 -5,-5v-29a0,0 0 0 1 0,0z\" style=\"stroke: rgb(0, 0, 0); fill: rgb(255, 255, 255); stroke-width: 0;\"/><text xml:space=\"preserve\" x=\"6\" y=\"14\" style=\"font-family: -apple-system, BlinkMacSystemFont, &quot;Segoe WPC&quot;, &quot;Segoe UI&quot;, Ubuntu, &quot;Droid Sans&quot;, sans-serif, &quot;PingFang SC&quot;; font-size: 9px; font-weight: normal; text-rendering: geometricprecision;\"><title>int64[]</title><tspan>pads</tspan><tspan> = 0, 0, 0, 0, 0, 0, 0, 0</tspan></text><text xml:space=\"preserve\" x=\"6\" y=\"28\" style=\"font-family: -apple-system, BlinkMacSystemFont, &quot;Segoe WPC&quot;, &quot;Segoe UI&quot;, Ubuntu, &quot;Droid Sans&quot;, sans-serif, &quot;PingFang SC&quot;; font-size: 9px; font-weight: normal; text-rendering: geometricprecision;\"><title>float32</title><tspan>value</tspan><tspan> = 0</tspan></text><line class=\"node\" x1=\"0\" x2=\"111.9638671875\" y1=\"0\" y2=\"0\" style=\"stroke: rgb(51, 51, 51); fill: none; stroke-width: 1px;\"/></g><path class=\"node border\" d=\"M5,0h101.9638671875a5,5 0 0 1 5,5v47a5,5 0 0 1 -5,5h-101.9638671875a5,5 0 0 1 -5,-5v-47a5,5 0 0 1 5,-5z\" style=\"stroke: rgb(51, 51, 51); fill: none; stroke-width: 1px;\"/></g><g id=\"node-name-/AveragePool\" class=\"node graph-node\" transform=\"translate(17986.469734191895,87.5)\" style=\"opacity: 1;\"><g class=\"node-item node-item-type node-item-type-pool\" transform=\"translate(0,0)\"><path d=\"M5,0h78.87109375a5,5 0 0 1 5,5v18a0,0 0 0 1 0,0h-88.87109375a0,0 0 0 1 0,0v-18a5,5 0 0 1 5,-5z\" style=\"stroke: rgb(0, 0, 0); fill: rgb(51, 85, 51); stroke-width: 0;\"/><text x=\"6\" y=\"16\" style=\"font-family: -apple-system, BlinkMacSystemFont, &quot;Segoe WPC&quot;, &quot;Segoe UI&quot;, Ubuntu, &quot;Droid Sans&quot;, sans-serif, &quot;PingFang SC&quot;; font-size: 11px; text-rendering: geometricprecision; fill: rgb(255, 255, 255);\">/AveragePool</text><title>AveragePool</title></g><g class=\"node-attribute\" transform=\"translate(0,23)\"><path d=\"M0,0h88.87109375a0,0 0 0 1 0,0v43a5,5 0 0 1 -5,5h-78.87109375a5,5 0 0 1 -5,-5v-43a0,0 0 0 1 0,0z\" style=\"stroke: rgb(0, 0, 0); fill: rgb(255, 255, 255); stroke-width: 0;\"/><text xml:space=\"preserve\" x=\"6\" y=\"14\" style=\"font-family: -apple-system, BlinkMacSystemFont, &quot;Segoe WPC&quot;, &quot;Segoe UI&quot;, Ubuntu, &quot;Droid Sans&quot;, sans-serif, &quot;PingFang SC&quot;; font-size: 9px; font-weight: normal; text-rendering: geometricprecision;\"><title>int64[]</title><tspan>kernel_shape</tspan><tspan> = 4, 4</tspan></text><text xml:space=\"preserve\" x=\"6\" y=\"28\" style=\"font-family: -apple-system, BlinkMacSystemFont, &quot;Segoe WPC&quot;, &quot;Segoe UI&quot;, Ubuntu, &quot;Droid Sans&quot;, sans-serif, &quot;PingFang SC&quot;; font-size: 9px; font-weight: normal; text-rendering: geometricprecision;\"><title>int64[]</title><tspan>pads</tspan><tspan> = 0, 0, 0, 0</tspan></text><text xml:space=\"preserve\" x=\"6\" y=\"42\" style=\"font-family: -apple-system, BlinkMacSystemFont, &quot;Segoe WPC&quot;, &quot;Segoe UI&quot;, Ubuntu, &quot;Droid Sans&quot;, sans-serif, &quot;PingFang SC&quot;; font-size: 9px; font-weight: normal; text-rendering: geometricprecision;\"><title>int64[]</title><tspan>strides</tspan><tspan> = 4, 4</tspan></text><line class=\"node\" x1=\"0\" x2=\"88.87109375\" y1=\"0\" y2=\"0\" style=\"stroke: rgb(51, 51, 51); fill: none; stroke-width: 1px;\"/></g><path class=\"node border\" d=\"M5,0h78.87109375a5,5 0 0 1 5,5v61a5,5 0 0 1 -5,5h-78.87109375a5,5 0 0 1 -5,-5v-61a5,5 0 0 1 5,-5z\" style=\"stroke: rgb(51, 51, 51); fill: none; stroke-width: 1px;\"/></g><g id=\"node-name-/Reshape\" class=\"node graph-node\" transform=\"translate(18199.699226379395,101.5)\" style=\"opacity: 1;\"><g class=\"node-item node-item-type node-item-type-shape\" transform=\"translate(0,0)\"><path d=\"M5,0h65a5,5 0 0 1 5,5v18a0,0 0 0 1 0,0h-75a0,0 0 0 1 0,0v-18a5,5 0 0 1 5,-5z\" style=\"stroke: rgb(0, 0, 0); fill: rgb(108, 79, 71); stroke-width: 0;\"/><text x=\"6\" y=\"16\" style=\"font-family: -apple-system, BlinkMacSystemFont, &quot;Segoe WPC&quot;, &quot;Segoe UI&quot;, Ubuntu, &quot;Droid Sans&quot;, sans-serif, &quot;PingFang SC&quot;; font-size: 11px; text-rendering: geometricprecision; fill: rgb(255, 255, 255);\">/Reshape</text><title>Reshape</title></g><g class=\"node-attribute\" transform=\"translate(0,23)\"><path d=\"M0,0h75a0,0 0 0 1 0,0v15a5,5 0 0 1 -5,5h-65a5,5 0 0 1 -5,-5v-15a0,0 0 0 1 0,0z\" style=\"stroke: rgb(0, 0, 0); fill: rgb(255, 255, 255); stroke-width: 0;\"/><text id=\"initializer-/Constant_output_0\" xml:space=\"preserve\" x=\"6\" y=\"14\" style=\"font-family: -apple-system, BlinkMacSystemFont, &quot;Segoe WPC&quot;, &quot;Segoe UI&quot;, Ubuntu, &quot;Droid Sans&quot;, sans-serif, &quot;PingFang SC&quot;; font-size: 9px; font-weight: normal; text-rendering: geometricprecision;\"><title>int64[2]</title><tspan style=\"font-weight: bold;\">shape</tspan><tspan>〈2〉</tspan></text><line class=\"node\" x1=\"0\" x2=\"75\" y1=\"0\" y2=\"0\" style=\"stroke: rgb(51, 51, 51); fill: none; stroke-width: 1px;\"/></g><path class=\"node border\" d=\"M5,0h65a5,5 0 0 1 5,5v33a5,5 0 0 1 -5,5h-65a5,5 0 0 1 -5,-5v-33a5,5 0 0 1 5,-5z\" style=\"stroke: rgb(51, 51, 51); fill: none; stroke-width: 1px;\"/></g><g id=\"node-name-/linear/Gemm\" class=\"node graph-node\" transform=\"translate(18380.747077941895,87.5)\" style=\"opacity: 1;\"><g class=\"node-item node-item-type node-item-type-layer\" transform=\"translate(0,0)\"><path d=\"M5,0h72.546875a5,5 0 0 1 5,5v18a0,0 0 0 1 0,0h-82.546875a0,0 0 0 1 0,0v-18a5,5 0 0 1 5,-5z\" style=\"stroke: rgb(0, 0, 0); fill: rgb(51, 85, 136); stroke-width: 0;\"/><text x=\"6\" y=\"16\" style=\"font-family: -apple-system, BlinkMacSystemFont, &quot;Segoe WPC&quot;, &quot;Segoe UI&quot;, Ubuntu, &quot;Droid Sans&quot;, sans-serif, &quot;PingFang SC&quot;; font-size: 11px; text-rendering: geometricprecision; fill: rgb(255, 255, 255);\">/linear/Gemm</text><title>Gemm</title></g><g class=\"node-attribute\" transform=\"translate(0,23)\"><path d=\"M0,0h82.546875a0,0 0 0 1 0,0v43a5,5 0 0 1 -5,5h-72.546875a5,5 0 0 1 -5,-5v-43a0,0 0 0 1 0,0z\" style=\"stroke: rgb(0, 0, 0); fill: rgb(255, 255, 255); stroke-width: 0;\"/><text id=\"initializer-linear.weight\" xml:space=\"preserve\" x=\"6\" y=\"14\" style=\"font-family: -apple-system, BlinkMacSystemFont, &quot;Segoe WPC&quot;, &quot;Segoe UI&quot;, Ubuntu, &quot;Droid Sans&quot;, sans-serif, &quot;PingFang SC&quot;; font-size: 9px; font-weight: normal; text-rendering: geometricprecision;\"><title>float32[10,256]</title><tspan style=\"font-weight: bold;\">B</tspan><tspan>〈10×256〉</tspan></text><text id=\"initializer-linear.bias\" xml:space=\"preserve\" x=\"6\" y=\"28\" style=\"font-family: -apple-system, BlinkMacSystemFont, &quot;Segoe WPC&quot;, &quot;Segoe UI&quot;, Ubuntu, &quot;Droid Sans&quot;, sans-serif, &quot;PingFang SC&quot;; font-size: 9px; font-weight: normal; text-rendering: geometricprecision;\"><title>float32[10]</title><tspan style=\"font-weight: bold;\">C</tspan><tspan>〈10〉</tspan></text><text xml:space=\"preserve\" x=\"6\" y=\"42\" style=\"font-family: -apple-system, BlinkMacSystemFont, &quot;Segoe WPC&quot;, &quot;Segoe UI&quot;, Ubuntu, &quot;Droid Sans&quot;, sans-serif, &quot;PingFang SC&quot;; font-size: 9px; font-weight: normal; text-rendering: geometricprecision;\"><title>int64</title><tspan>transB</tspan><tspan> = 1</tspan></text><line class=\"node\" x1=\"0\" x2=\"82.546875\" y1=\"0\" y2=\"0\" style=\"stroke: rgb(51, 51, 51); fill: none; stroke-width: 1px;\"/></g><path class=\"node border\" d=\"M5,0h72.546875a5,5 0 0 1 5,5v61a5,5 0 0 1 -5,5h-72.546875a5,5 0 0 1 -5,-5v-61a5,5 0 0 1 5,-5z\" style=\"stroke: rgb(51, 51, 51); fill: none; stroke-width: 1px;\"/></g><g class=\"node\" transform=\"translate(18543.431648254395,111.5)\" style=\"opacity: 1;\"><g class=\"node-item graph-item-output\" transform=\"translate(0,0)\"><path d=\"M5,0h69.75146484375a5,5 0 0 1 5,5v13a5,5 0 0 1 -5,5h-69.75146484375a5,5 0 0 1 -5,-5v-13a5,5 0 0 1 5,-5z\" style=\"stroke: rgb(0, 0, 0); fill: rgb(238, 238, 238); stroke-width: 0;\"/><text x=\"6\" y=\"16\" style=\"font-family: -apple-system, BlinkMacSystemFont, &quot;Segoe WPC&quot;, &quot;Segoe UI&quot;, Ubuntu, &quot;Droid Sans&quot;, sans-serif, &quot;PingFang SC&quot;; font-size: 11px; text-rendering: geometricprecision;\">modelOutput</text><title>float32[4,10]</title></g><path class=\"node border\" d=\"M5,0h69.75146484375a5,5 0 0 1 5,5v13a5,5 0 0 1 -5,5h-69.75146484375a5,5 0 0 1 -5,-5v-13a5,5 0 0 1 5,-5z\" style=\"stroke: rgb(51, 51, 51); fill: none; stroke-width: 1px;\"/></g></g></g></svg>"
          },
          "metadata": {}
        }
      ]
    }
  ]
}