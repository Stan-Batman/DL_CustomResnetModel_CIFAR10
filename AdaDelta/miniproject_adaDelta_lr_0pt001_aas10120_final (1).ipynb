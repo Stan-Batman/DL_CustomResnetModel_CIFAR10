{
  "nbformat": 4,
  "nbformat_minor": 0,
  "metadata": {
    "colab": {
      "provenance": []
    },
    "kernelspec": {
      "name": "python3",
      "display_name": "Python 3"
    },
    "language_info": {
      "name": "python"
    },
    "accelerator": "GPU",
    "gpuClass": "standard"
  },
  "cells": [
    {
      "cell_type": "markdown",
      "source": [
        "To prepare our CIFAR10 dataset for training, we apply data augmentation techniques and transforms. Specifically, we use the following techniques:\n",
        "\n",
        "Random Crop: This technique creates a random subset of an original image. We use this to randomly crop 32x32-pixel patches from the original images, which helps our model learn to recognize objects that might appear anywhere in the image.\n",
        "\n",
        "Random Horizontal Flip: This technique flips an image horizontally with a probability p. We use this to further augment our dataset and make our model more robust to variations in the orientation of objects.\n",
        "\n",
        "To Tensor: We use the To Tensor transform to convert our images to PyTorch tensors and scale the pixel values by 255.\n",
        "\n",
        "Normalize: We apply the Normalize transform to the tensor images so that their values have a mean of 0.0 and a standard deviation of 1.0. This helps our model learn from the input data more effectively.\n",
        "\n",
        "We download the CIFAR10 dataset to the root directory ./data. To ensure that we get the same validation set each time we run the code, we set PyTorch's random number generator to a seed value of 17. We also import the datasets and convert the images into PyTorch tensors.\n"
      ],
      "metadata": {
        "id": "NXcbERti-5V2"
      }
    },
    {
      "cell_type": "code",
      "execution_count": null,
      "metadata": {
        "colab": {
          "base_uri": "https://localhost:8080/"
        },
        "id": "z13JhFe5Uv7U",
        "outputId": "60930017-d744-4daf-80a5-0ab8fd2b2bb3"
      },
      "outputs": [
        {
          "output_type": "stream",
          "name": "stdout",
          "text": [
            "Initializing fetching CIFAR10 dataset using torchvision\n",
            "Downloading https://www.cs.toronto.edu/~kriz/cifar-10-python.tar.gz to ./data/cifar-10-python.tar.gz\n"
          ]
        },
        {
          "output_type": "stream",
          "name": "stderr",
          "text": [
            "100%|██████████| 170498071/170498071 [00:02<00:00, 63156896.68it/s]\n"
          ]
        },
        {
          "output_type": "stream",
          "name": "stdout",
          "text": [
            "Extracting ./data/cifar-10-python.tar.gz to ./data\n",
            "Files already downloaded and verified\n",
            "Files already downloaded and verified\n"
          ]
        }
      ],
      "source": [
        "import multiprocessing\n",
        "import torchvision\n",
        "import torchvision.transforms as transforms\n",
        "import numpy as np\n",
        "from torch.utils.data import DataLoader\n",
        "import torch\n",
        "torch.manual_seed(17)\n",
        "\n",
        "from torchsummary import summary\n",
        "from tqdm import tqdm\n",
        "import matplotlib.pyplot as plt\n",
        "\n",
        "class FetchDataset:\n",
        "\n",
        "    def __init__(self, dataset=\"CIFAR10\", batch_size=64):\n",
        "        print(\"Initializing fetching %s dataset using torchvision\"%(dataset))\n",
        "        # check if the dataset exists in torchvision\n",
        "        self.datasetObject = torchvision.datasets.__dict__.get(dataset, None)\n",
        "        if self.datasetObject == None:\n",
        "            raise Exception(\"Dataset %s might not be in torchvision.\"%(dataset))\n",
        "        self.batch_size = batch_size\n",
        "        self.transformers_training = []\n",
        "        self.transformers_testing = []\n",
        "        # set number of workers available for multiprocessing\n",
        "        self.workersAvailable = min(multiprocessing.cpu_count(), 14)\n",
        "      \n",
        "    def dataAugmentation(self, size=32, padding=3):\n",
        "        # add data augmentation transforms to the training set\n",
        "        self.transformers_training.append(transforms.RandomHorizontalFlip())\n",
        "        self.transformers_training.append(transforms.RandomCrop(size=size, padding=padding))\n",
        "        self.transformers_training.append(transforms.functional.equalize)\n",
        "        self.transformers_testing.append(transforms.functional.equalize)\n",
        "\n",
        "    def __addToTensor(self):\n",
        "        # add ToTensor transform to the training and testing sets\n",
        "        self.transformers_training.append(transforms.ToTensor())\n",
        "        self.transformers_testing.append(transforms.ToTensor())\n",
        "\n",
        "    def addNormalizer(self):\n",
        "        self.__addToTensor()\n",
        "        # load training set to compute mean and standard deviation\n",
        "        dataset_training = self.datasetObject(root=\"./data\", train=True, download=True)\n",
        "        data_train = dataset_training.data/255.0\n",
        "        mean = data_train.mean(axis=(0, 1, 2))\n",
        "        std = data_train.std(axis=(0, 1, 2))\n",
        "        # add Normalize transform to the training and testing sets\n",
        "        self.transformers_training.append(transforms.Normalize(mean=mean, std=std))\n",
        "        self.transformers_testing.append(transforms.Normalize(mean=mean, std=std))\n",
        "        \n",
        "\n",
        "    def getLoaders(self):\n",
        "        if len(self.transformers_training) == 0:\n",
        "            self.__addToTensor()\n",
        "        # create data loaders with the defined batch size, transformers and number of workers\n",
        "        dataset_training = self.datasetObject(root=\"./data\", train=True, download=True, transform=transforms.Compose(self.transformers_training))\n",
        "        dataset_testing = self.datasetObject(root=\"./data\", train=False, download=True, transform=transforms.Compose(self.transformers_testing))\n",
        "        load_train = DataLoader(dataset_training, batch_size=self.batch_size, shuffle=True, num_workers=self.workersAvailable)\n",
        "        load_test = DataLoader(dataset_testing, batch_size=self.batch_size, shuffle=False, num_workers=self.workersAvailable)\n",
        "        # return the training and testing data loaders\n",
        "        return load_train, load_test\n",
        "    \n",
        "# create a new instance of FetchDataset for the CIFAR10 dataset with batch size of 128\n",
        "df = FetchDataset(dataset=\"CIFAR10\", batch_size=128)\n",
        "# add data augmentation transforms to the training set with size 32 and padding 4\n",
        "df.dataAugmentation(size=32, padding=4)\n",
        "# add normalizing transforms to the training and testing sets\n",
        "df.addNormalizer()\n",
        "# get the training and testing data loaders\n",
        "trainLoader, testLoader = df.getLoaders()\n"
      ]
    },
    {
      "cell_type": "markdown",
      "source": [
        "Modified the basic resnet model from https://github.com/kuangliu/pytorch-cifar/blob/master/models/resnet.py \n",
        "\n",
        "• Ci, the number of channels in the ith layer.\n",
        "• Fi, the filter size in the ith layer\n",
        "• Ki, the kernel size in the ith skip connection\n",
        "• P, the pool size in the average pool laye\n",
        "\n",
        "Using the following values for the Hyperparameters (design variables) in our architectures : \n",
        "\n",
        "    C=[64,128,128,256]\n",
        "    F=[3,3,3,3]\n",
        "    K=[1,1,1,1]  \n",
        "    P=4\n",
        "\n"
      ],
      "metadata": {
        "id": "ecFhnfbS3yTe"
      }
    },
    {
      "cell_type": "code",
      "source": [
        "# Import necessary PyTorch modules\n",
        "import torch.nn as nn\n",
        "import torch.nn.functional as F\n",
        "\n",
        "# Define the BasicBlock class, which is used to construct the layers in the ResNet architecture\n",
        "class BasicBlock(nn.Module):\n",
        "\n",
        "    # Initialize the BasicBlock class\n",
        "    def __init__(self, in_planes, planes, kernel_size, skip_kernel, stride=1):\n",
        "        super(BasicBlock, self).__init__()\n",
        "\n",
        "        # Define the first convolutional layer\n",
        "        self.conv1 = nn.Conv2d(in_planes, planes, kernel_size=kernel_size, stride=stride, padding=1, bias=False)\n",
        "        self.bn1 = nn.BatchNorm2d(planes)\n",
        "\n",
        "        # Define the second convolutional layer\n",
        "        self.conv2 = nn.Conv2d(planes, planes, kernel_size=kernel_size, stride=1, padding=1, bias=False)\n",
        "        self.bn2 = nn.BatchNorm2d(planes)\n",
        "\n",
        "        # Define the shortcut connection, which is used to add the output of the convolutional layers to the input\n",
        "        self.shortcut = nn.Sequential()\n",
        "\n",
        "        # If the stride is not 1 or the number of input planes is not equal to the number of output planes, \n",
        "        # define a convolutional layer and a batch normalization layer for the shortcut connection\n",
        "        if stride != 1 or in_planes != planes:\n",
        "            self.shortcut = nn.Sequential(\n",
        "                nn.Conv2d(in_planes, planes, kernel_size=skip_kernel, stride=stride, bias=False),\n",
        "                nn.BatchNorm2d(planes)\n",
        "            )\n",
        "\n",
        "    # Define the forward pass for the BasicBlock class\n",
        "    def forward(self, x):\n",
        "        # Apply the first convolutional layer, batch normalization, and ReLU activation\n",
        "        out = F.relu(self.bn1(self.conv1(x)))\n",
        "\n",
        "        # Apply the second convolutional layer and batch normalization\n",
        "        out = self.bn2(self.conv2(out))\n",
        "\n",
        "        # Add the shortcut connection to the output of the convolutional layers\n",
        "        out += self.shortcut(x)\n",
        "\n",
        "        # Apply the ReLU activation\n",
        "        out = F.relu(out)\n",
        "\n",
        "        return out\n",
        "\n",
        "# Define the ResNet class, which is used to construct the ResNet architecture\n",
        "class ResNet(nn.Module):\n",
        "\n",
        "      # Initialize the ResNet class\n",
        "      def __init__(self,N:int, B:list, C:list, F:list, K:list, P:int, num_classes=10):\n",
        "          super(ResNet, self).__init__()\n",
        "\n",
        "          # Initialize the number of input planes\n",
        "          self.in_planes = C[0]\n",
        "\n",
        "          # Set the block to the BasicBlock class\n",
        "          self.block = BasicBlock\n",
        "\n",
        "          # Store the values of N, B, C, F, K, and P\n",
        "          self.N, self.B, self.C, self.F, self.K, self.P= N, B, C, F, K, P\n",
        "\n",
        "          # Initialize a container for the layers\n",
        "          self.layers = []\n",
        "\n",
        "          # Set the stride for each layer\n",
        "          self.S = [2] * N\n",
        "          self.S[0] = 1\n",
        "\n",
        "          # Calculate the input dimension for the output linear layer\n",
        "          self.outLayerInSize = C[N-1]*(32//(P*2**(N-1)))*(32//(P*2**(N-1)))\n",
        "\n",
        "\n",
        "          # Print Model Config\n",
        "          print(\"\\n\\nModel Config: \"\n",
        "              \"\\n-------------------------------------\"\n",
        "              \"\\nN (# Layers)\\t:\",self.N,\n",
        "              \"\\nB (# Blocks)\\t:\",self.B,\n",
        "              \"\\nC (# Channels)\\t:\",C,\n",
        "              \"\\nF (Conv Kernel)\\t:\",F,\n",
        "              \"\\nK (Skip Kernel)\\t:\",K,\n",
        "              \"\\nP (Pool Kernel)\\t:\",P,)\n",
        "\n",
        "          # Define the first convolution layer with 3 input channels, C[0] output channels, F[0] kernel size,\n",
        "          # stride of 1, padding of 1, and no bias\n",
        "\n",
        "          self.conv1 = nn.Conv2d(3, C[0], kernel_size=F[0], stride=1, padding=1, bias=False)\n",
        "          # Define a batch normalization layer with C[0] channels\n",
        "\n",
        "          self.bn1 = nn.BatchNorm2d(C[0])\n",
        "                  # Define N residual blocks\n",
        "\n",
        "          for i in range(N): \n",
        "              # Dynamically create variable names for each residual block using the exec() function\n",
        "\n",
        "              exec(\"self.layer{} = self._make_layer(self.block, self.C[{}], self.B[{}], self.F[{}], self.K[{}], self.S[{}])\"\\\n",
        "                  .format(i+1,i,i,i,i,i))\n",
        "              # Append the residual block to the layers ModuleList\n",
        "              exec(\"self.layers.append(self.layer{})\".format(i+1))\n",
        "                    # Define the final linear layer with input size of outLayerInSize and output size of num_classes\n",
        "    \n",
        "          self.linear = nn.Linear(self.outLayerInSize, num_classes)\n",
        "          \n",
        "\n",
        "      def _make_layer(self, block, planes, num_blocks, kernel_size, skip_kernel, stride):\n",
        "          # Set stride for each block in the layer\n",
        "          strides = [stride] + [1]*(num_blocks-1)\n",
        "          layers = []\n",
        "          for stride in strides:\n",
        "              # Append each block to the layer with given arguments\n",
        "              layers.append(block(self.in_planes, planes, kernel_size, skip_kernel, stride))\n",
        "              # Update the number of input planes for the next block\n",
        "              self.in_planes = planes\n",
        "          # Return a sequential module containing all the blocks in the layer\n",
        "          return nn.Sequential(*layers)\n",
        "\n",
        "\n",
        "      def forward(self, x):\n",
        "          # Apply the first convolutional layer followed by batch normalization and ReLU activation\n",
        "          out = F.relu(self.bn1(self.conv1(x)))\n",
        "          # Apply all the blocks in the layer\n",
        "          for layer in self.layers:\n",
        "              out = layer(out)\n",
        "          # Apply average pooling with kernel size self.P\n",
        "          out = F.avg_pool2d(out, self.P)\n",
        "          # Flatten the output tensor\n",
        "          out = out.view(out.size(0), -1)\n",
        "          # Apply the fully connected linear layer\n",
        "          out = self.linear(out)\n",
        "          # Return the final output\n",
        "          return out\n",
        "\n",
        "def resnet_model():\n",
        "        # Define the parameters for the ResNet architecture\n",
        "        B=[3,3,2,3]  # number of blocks in each layer\n",
        "        C=[64,128,128,256]  # number of output channels in each layer\n",
        "        F=[3,3,3,3]  # kernel size for each layer\n",
        "        K=[1,1,1,1]  # skip kernel size for each layer\n",
        "        P=4  # average pooling kernel size\n",
        "        N=len(B)  # number of layers in the network\n",
        "        # Return a new ResNet model with the defined parameters\n",
        "        return ResNet(N, B, C, F, K, P)\n"
      ],
      "metadata": {
        "id": "gvavgWjOUwjk"
      },
      "execution_count": null,
      "outputs": []
    },
    {
      "cell_type": "markdown",
      "source": [
        "Checking Device - If GPU is available, GPU will be used."
      ],
      "metadata": {
        "id": "eBO9x9w7dpnR"
      }
    },
    {
      "cell_type": "code",
      "source": [
        "device = torch.device(\"cuda\" if torch.cuda.is_available() else \"cpu\")\n",
        "print(device)"
      ],
      "metadata": {
        "colab": {
          "base_uri": "https://localhost:8080/"
        },
        "id": "R2V6SO6-VAw4",
        "outputId": "3c327504-d425-4bef-b558-bc87db982eb0"
      },
      "execution_count": null,
      "outputs": [
        {
          "output_type": "stream",
          "name": "stdout",
          "text": [
            "cuda\n"
          ]
        }
      ]
    },
    {
      "cell_type": "code",
      "source": [
        "model = resnet_model()\n",
        "model = model.to(device)"
      ],
      "metadata": {
        "colab": {
          "base_uri": "https://localhost:8080/"
        },
        "id": "cwUOZ6TAVRcc",
        "outputId": "8427c8ee-ca87-4171-91bf-4ac8d60a85ad"
      },
      "execution_count": null,
      "outputs": [
        {
          "output_type": "stream",
          "name": "stdout",
          "text": [
            "\n",
            "\n",
            "Model Config: \n",
            "-------------------------------------\n",
            "N (# Layers)\t: 4 \n",
            "B (# Blocks)\t: [3, 3, 2, 3] \n",
            "C (# Channels)\t: [64, 128, 128, 256] \n",
            "F (Conv Kernel)\t: [3, 3, 3, 3] \n",
            "K (Skip Kernel)\t: [1, 1, 1, 1] \n",
            "P (Pool Kernel)\t: 4\n"
          ]
        }
      ]
    },
    {
      "cell_type": "markdown",
      "source": [
        "We run our model for 300 epochs, to find out the best possible accuracy. The accuracy becomes near about constant after it. We define our:\n",
        "\n",
        "learning rate, weightDecay, type of optimizer to be used (we tried with Adam, Adagrad, AdaDelta), with Adadelta giving out the best accuracy.\n",
        "\n",
        "The scheduler set the learning rate of each parameter group using a cosine annealing schedule\n"
      ],
      "metadata": {
        "id": "ZwbaYnn_45P1"
      }
    },
    {
      "cell_type": "code",
      "source": [
        "EPOCHS=300\n",
        "globalBestAccuracy = 0.0  # initialize the global best accuracy to 0.0\n",
        "train_loss = []  # list to store train loss\n",
        "test_loss = []  # list to store test loss\n",
        "train_accuracy = []  # list to store train accuracy\n",
        "test_accuracy = []  # list to store test accuracy\n",
        "\n",
        "# define the loss function as Cross Entropy Loss with sum reduction\n",
        "loss_function = torch.nn.CrossEntropyLoss(reduction='sum')\n",
        "\n",
        "learningRate = 0.001  # set the learning rate to 0.001\n",
        "weightDecay = 0.0001  # set the weight decay to 0.0001\n",
        "\n",
        "# define the optimizer as Adadelta with the above defined learning rate and weight decay\n",
        "optimizer = torch.optim.Adadelta(model.parameters(), lr=learningRate, weight_decay=weightDecay)\n",
        "\n",
        "# define the learning rate scheduler as Cosine Annealing LR with the above defined optimizer, number of epochs, and minimum learning rate\n",
        "scheduler = torch.optim.lr_scheduler.CosineAnnealingLR(optimizer, EPOCHS, eta_min=learningRate/10.0)\n",
        "\n",
        "# print the model's evaluation mode\n",
        "print(model.eval())\n",
        "\n",
        "# calculate and print the total trainable parameters of the model\n",
        "trainable_parameters = sum(p.numel() for p in model.parameters() if p.requires_grad)\n",
        "print(\"Total Trainable Parameters : %s\"%(trainable_parameters))\n",
        "\n",
        "# if the total number of trainable parameters exceeds 5 million, raise an exception\n",
        "if trainable_parameters > 5*(10**6):\n",
        "    raise Exception(\"The total number of parameters exceeds 5 million\")\n"
      ],
      "metadata": {
        "colab": {
          "base_uri": "https://localhost:8080/"
        },
        "id": "iDgGEj7_VaJg",
        "outputId": "9fc36747-e1d1-4df3-da85-12aed58ca11f"
      },
      "execution_count": null,
      "outputs": [
        {
          "output_type": "stream",
          "name": "stdout",
          "text": [
            "ResNet(\n",
            "  (conv1): Conv2d(3, 64, kernel_size=(3, 3), stride=(1, 1), padding=(1, 1), bias=False)\n",
            "  (bn1): BatchNorm2d(64, eps=1e-05, momentum=0.1, affine=True, track_running_stats=True)\n",
            "  (layer1): Sequential(\n",
            "    (0): BasicBlock(\n",
            "      (conv1): Conv2d(64, 64, kernel_size=(3, 3), stride=(1, 1), padding=(1, 1), bias=False)\n",
            "      (bn1): BatchNorm2d(64, eps=1e-05, momentum=0.1, affine=True, track_running_stats=True)\n",
            "      (conv2): Conv2d(64, 64, kernel_size=(3, 3), stride=(1, 1), padding=(1, 1), bias=False)\n",
            "      (bn2): BatchNorm2d(64, eps=1e-05, momentum=0.1, affine=True, track_running_stats=True)\n",
            "      (shortcut): Sequential()\n",
            "    )\n",
            "    (1): BasicBlock(\n",
            "      (conv1): Conv2d(64, 64, kernel_size=(3, 3), stride=(1, 1), padding=(1, 1), bias=False)\n",
            "      (bn1): BatchNorm2d(64, eps=1e-05, momentum=0.1, affine=True, track_running_stats=True)\n",
            "      (conv2): Conv2d(64, 64, kernel_size=(3, 3), stride=(1, 1), padding=(1, 1), bias=False)\n",
            "      (bn2): BatchNorm2d(64, eps=1e-05, momentum=0.1, affine=True, track_running_stats=True)\n",
            "      (shortcut): Sequential()\n",
            "    )\n",
            "    (2): BasicBlock(\n",
            "      (conv1): Conv2d(64, 64, kernel_size=(3, 3), stride=(1, 1), padding=(1, 1), bias=False)\n",
            "      (bn1): BatchNorm2d(64, eps=1e-05, momentum=0.1, affine=True, track_running_stats=True)\n",
            "      (conv2): Conv2d(64, 64, kernel_size=(3, 3), stride=(1, 1), padding=(1, 1), bias=False)\n",
            "      (bn2): BatchNorm2d(64, eps=1e-05, momentum=0.1, affine=True, track_running_stats=True)\n",
            "      (shortcut): Sequential()\n",
            "    )\n",
            "  )\n",
            "  (layer2): Sequential(\n",
            "    (0): BasicBlock(\n",
            "      (conv1): Conv2d(64, 128, kernel_size=(3, 3), stride=(2, 2), padding=(1, 1), bias=False)\n",
            "      (bn1): BatchNorm2d(128, eps=1e-05, momentum=0.1, affine=True, track_running_stats=True)\n",
            "      (conv2): Conv2d(128, 128, kernel_size=(3, 3), stride=(1, 1), padding=(1, 1), bias=False)\n",
            "      (bn2): BatchNorm2d(128, eps=1e-05, momentum=0.1, affine=True, track_running_stats=True)\n",
            "      (shortcut): Sequential(\n",
            "        (0): Conv2d(64, 128, kernel_size=(1, 1), stride=(2, 2), bias=False)\n",
            "        (1): BatchNorm2d(128, eps=1e-05, momentum=0.1, affine=True, track_running_stats=True)\n",
            "      )\n",
            "    )\n",
            "    (1): BasicBlock(\n",
            "      (conv1): Conv2d(128, 128, kernel_size=(3, 3), stride=(1, 1), padding=(1, 1), bias=False)\n",
            "      (bn1): BatchNorm2d(128, eps=1e-05, momentum=0.1, affine=True, track_running_stats=True)\n",
            "      (conv2): Conv2d(128, 128, kernel_size=(3, 3), stride=(1, 1), padding=(1, 1), bias=False)\n",
            "      (bn2): BatchNorm2d(128, eps=1e-05, momentum=0.1, affine=True, track_running_stats=True)\n",
            "      (shortcut): Sequential()\n",
            "    )\n",
            "    (2): BasicBlock(\n",
            "      (conv1): Conv2d(128, 128, kernel_size=(3, 3), stride=(1, 1), padding=(1, 1), bias=False)\n",
            "      (bn1): BatchNorm2d(128, eps=1e-05, momentum=0.1, affine=True, track_running_stats=True)\n",
            "      (conv2): Conv2d(128, 128, kernel_size=(3, 3), stride=(1, 1), padding=(1, 1), bias=False)\n",
            "      (bn2): BatchNorm2d(128, eps=1e-05, momentum=0.1, affine=True, track_running_stats=True)\n",
            "      (shortcut): Sequential()\n",
            "    )\n",
            "  )\n",
            "  (layer3): Sequential(\n",
            "    (0): BasicBlock(\n",
            "      (conv1): Conv2d(128, 128, kernel_size=(3, 3), stride=(2, 2), padding=(1, 1), bias=False)\n",
            "      (bn1): BatchNorm2d(128, eps=1e-05, momentum=0.1, affine=True, track_running_stats=True)\n",
            "      (conv2): Conv2d(128, 128, kernel_size=(3, 3), stride=(1, 1), padding=(1, 1), bias=False)\n",
            "      (bn2): BatchNorm2d(128, eps=1e-05, momentum=0.1, affine=True, track_running_stats=True)\n",
            "      (shortcut): Sequential(\n",
            "        (0): Conv2d(128, 128, kernel_size=(1, 1), stride=(2, 2), bias=False)\n",
            "        (1): BatchNorm2d(128, eps=1e-05, momentum=0.1, affine=True, track_running_stats=True)\n",
            "      )\n",
            "    )\n",
            "    (1): BasicBlock(\n",
            "      (conv1): Conv2d(128, 128, kernel_size=(3, 3), stride=(1, 1), padding=(1, 1), bias=False)\n",
            "      (bn1): BatchNorm2d(128, eps=1e-05, momentum=0.1, affine=True, track_running_stats=True)\n",
            "      (conv2): Conv2d(128, 128, kernel_size=(3, 3), stride=(1, 1), padding=(1, 1), bias=False)\n",
            "      (bn2): BatchNorm2d(128, eps=1e-05, momentum=0.1, affine=True, track_running_stats=True)\n",
            "      (shortcut): Sequential()\n",
            "    )\n",
            "  )\n",
            "  (layer4): Sequential(\n",
            "    (0): BasicBlock(\n",
            "      (conv1): Conv2d(128, 256, kernel_size=(3, 3), stride=(2, 2), padding=(1, 1), bias=False)\n",
            "      (bn1): BatchNorm2d(256, eps=1e-05, momentum=0.1, affine=True, track_running_stats=True)\n",
            "      (conv2): Conv2d(256, 256, kernel_size=(3, 3), stride=(1, 1), padding=(1, 1), bias=False)\n",
            "      (bn2): BatchNorm2d(256, eps=1e-05, momentum=0.1, affine=True, track_running_stats=True)\n",
            "      (shortcut): Sequential(\n",
            "        (0): Conv2d(128, 256, kernel_size=(1, 1), stride=(2, 2), bias=False)\n",
            "        (1): BatchNorm2d(256, eps=1e-05, momentum=0.1, affine=True, track_running_stats=True)\n",
            "      )\n",
            "    )\n",
            "    (1): BasicBlock(\n",
            "      (conv1): Conv2d(256, 256, kernel_size=(3, 3), stride=(1, 1), padding=(1, 1), bias=False)\n",
            "      (bn1): BatchNorm2d(256, eps=1e-05, momentum=0.1, affine=True, track_running_stats=True)\n",
            "      (conv2): Conv2d(256, 256, kernel_size=(3, 3), stride=(1, 1), padding=(1, 1), bias=False)\n",
            "      (bn2): BatchNorm2d(256, eps=1e-05, momentum=0.1, affine=True, track_running_stats=True)\n",
            "      (shortcut): Sequential()\n",
            "    )\n",
            "    (2): BasicBlock(\n",
            "      (conv1): Conv2d(256, 256, kernel_size=(3, 3), stride=(1, 1), padding=(1, 1), bias=False)\n",
            "      (bn1): BatchNorm2d(256, eps=1e-05, momentum=0.1, affine=True, track_running_stats=True)\n",
            "      (conv2): Conv2d(256, 256, kernel_size=(3, 3), stride=(1, 1), padding=(1, 1), bias=False)\n",
            "      (bn2): BatchNorm2d(256, eps=1e-05, momentum=0.1, affine=True, track_running_stats=True)\n",
            "      (shortcut): Sequential()\n",
            "    )\n",
            "  )\n",
            "  (linear): Linear(in_features=256, out_features=10, bias=True)\n",
            ")\n",
            "Total Trainable Parameters : 4935242\n"
          ]
        }
      ]
    },
    {
      "cell_type": "markdown",
      "source": [
        "Model Training and Testing.\n",
        "Here we are training our model over 300 epochs and trying to find out the best accuracy our model provides for the CIFAR dataset."
      ],
      "metadata": {
        "id": "QOH5C5_g5oG8"
      }
    },
    {
      "cell_type": "code",
      "source": [
        "# Define the function to train the model and return the updated model and optimizer\n",
        "def train(model, loader, optimizer):\n",
        "    # Set the model to train mode\n",
        "    model.train()\n",
        "    # Clear the gradients of the optimizer\n",
        "    optimizer.zero_grad()\n",
        "    # Return the updated model and optimizer\n",
        "    return model, optimizer\n",
        "\n",
        "# Define the function to evaluate the model on the test set\n",
        "def test(model, loader):\n",
        "    # Set the model to evaluation mode\n",
        "    return model.eval()\n",
        "\n",
        "# Define the function to calculate the loss and accuracy for a given loader and model\n",
        "def getLoss(loader, model, optimizer, phase):\n",
        "    # Initialize the running loss and correct count\n",
        "    running_loss = 0.0\n",
        "    running_correct = 0\n",
        "    # Iterate through the loader\n",
        "    for images, labels in loader:\n",
        "        # Move the images and labels to the device\n",
        "        images = images.to(device)\n",
        "        labels = labels.to(device)\n",
        "        # Forward pass\n",
        "        output = model(images)\n",
        "        # Calculate the loss\n",
        "        loss = loss_function(output, labels)\n",
        "        # Calculate the predicted labels\n",
        "        predicted_labels = torch.argmax(output, dim=1)\n",
        "        # Update the running loss and correct count\n",
        "        running_loss += loss.item()\n",
        "        running_correct += torch.sum(predicted_labels == labels).float().item()\n",
        "        # If the phase is \"train\", backpropagate the loss and update the optimizer\n",
        "        if phase == \"train\":\n",
        "            loss.backward()\n",
        "            optimizer.step()\n",
        "            optimizer.zero_grad()\n",
        "    # Calculate the epoch loss and accuracy\n",
        "    epoch_loss = running_loss / len(loader.dataset)\n",
        "    epoch_acc = running_correct / len(loader.dataset)\n",
        "    # Return the epoch loss and accuracy\n",
        "    return epoch_loss, epoch_acc\n",
        "\n",
        "# Iterate through the epochs\n",
        "for i in tqdm(range(EPOCHS)):\n",
        "    # Iterate through the phases (train and test)\n",
        "    for phase in ['train', 'test']:\n",
        "        # If the phase is \"train\", set the loader and call the train function\n",
        "        if phase == \"train\":\n",
        "            loader = trainLoader\n",
        "            model, optimizer = train(model, loader, optimizer)\n",
        "        # If the phase is \"test\", set the loader and call the test function\n",
        "        else:\n",
        "            loader = testLoader\n",
        "            model = test(model, loader)\n",
        "        # Calculate the loss and accuracy for the current phase\n",
        "        epoch_loss, epoch_acc = getLoss(loader, model, optimizer, phase)\n",
        "        # If the phase is \"train\", update the scheduler and append the results to the train lists\n",
        "        if phase == \"train\":\n",
        "            scheduler.step()\n",
        "            train_loss.append(epoch_loss)\n",
        "            train_accuracy.append(epoch_acc)\n",
        "        # If the phase is \"test\", append the results to the test lists and update the global best accuracy\n",
        "        else:\n",
        "            test_loss.append(epoch_loss)\n",
        "            test_accuracy.append(epoch_acc)\n",
        "            globalBestAccuracy = max(globalBestAccuracy, epoch_acc)\n",
        "    # Print the results for the current epoch\n",
        "    print(\"Training Loss : %s, Testing Loss : %s, Training Accuracy : %s, Testing Accuracy : %s\" \\\n",
        "          % (train_loss[-1], test_loss[-1], train_accuracy[-1], test_accuracy[-1]))\n"
      ],
      "metadata": {
        "colab": {
          "base_uri": "https://localhost:8080/"
        },
        "id": "2OVbcif7VmJQ",
        "outputId": "56e0847a-4945-48df-f962-42b5dc5f21f8"
      },
      "execution_count": null,
      "outputs": [
        {
          "output_type": "stream",
          "name": "stderr",
          "text": [
            "  0%|          | 1/300 [00:59<4:55:23, 59.28s/it]"
          ]
        },
        {
          "output_type": "stream",
          "name": "stdout",
          "text": [
            "Training Loss : 2.3302755294799806, Testing Loss : 2.2376379322052, Training Accuracy : 0.12612, Testing Accuracy : 0.1733\n"
          ]
        },
        {
          "output_type": "stream",
          "name": "stderr",
          "text": [
            "\r  1%|          | 2/300 [01:51<4:33:18, 55.03s/it]"
          ]
        },
        {
          "output_type": "stream",
          "name": "stdout",
          "text": [
            "Training Loss : 2.1800979666137694, Testing Loss : 2.105339261627197, Training Accuracy : 0.19764, Testing Accuracy : 0.2379\n"
          ]
        },
        {
          "output_type": "stream",
          "name": "stderr",
          "text": [
            "\r  1%|          | 3/300 [02:42<4:24:21, 53.41s/it]"
          ]
        },
        {
          "output_type": "stream",
          "name": "stdout",
          "text": [
            "Training Loss : 2.066545298461914, Testing Loss : 1.989836116218567, Training Accuracy : 0.2472, Testing Accuracy : 0.2829\n"
          ]
        },
        {
          "output_type": "stream",
          "name": "stderr",
          "text": [
            "\r  1%|▏         | 4/300 [03:34<4:19:31, 52.61s/it]"
          ]
        },
        {
          "output_type": "stream",
          "name": "stdout",
          "text": [
            "Training Loss : 1.9536855908203126, Testing Loss : 1.8889239568710328, Training Accuracy : 0.29152, Testing Accuracy : 0.3224\n"
          ]
        },
        {
          "output_type": "stream",
          "name": "stderr",
          "text": [
            "\r  2%|▏         | 5/300 [04:26<4:17:34, 52.39s/it]"
          ]
        },
        {
          "output_type": "stream",
          "name": "stdout",
          "text": [
            "Training Loss : 1.86410318359375, Testing Loss : 1.8164858673095703, Training Accuracy : 0.32394, Testing Accuracy : 0.3534\n"
          ]
        },
        {
          "output_type": "stream",
          "name": "stderr",
          "text": [
            "\r  2%|▏         | 6/300 [05:18<4:17:12, 52.49s/it]"
          ]
        },
        {
          "output_type": "stream",
          "name": "stdout",
          "text": [
            "Training Loss : 1.8066582479858397, Testing Loss : 1.77198698387146, Training Accuracy : 0.35034, Testing Accuracy : 0.3673\n"
          ]
        },
        {
          "output_type": "stream",
          "name": "stderr",
          "text": [
            "\r  2%|▏         | 7/300 [06:11<4:16:12, 52.47s/it]"
          ]
        },
        {
          "output_type": "stream",
          "name": "stdout",
          "text": [
            "Training Loss : 1.7557713940429687, Testing Loss : 1.726117094039917, Training Accuracy : 0.3681, Testing Accuracy : 0.381\n"
          ]
        },
        {
          "output_type": "stream",
          "name": "stderr",
          "text": [
            "\r  3%|▎         | 8/300 [07:03<4:15:00, 52.40s/it]"
          ]
        },
        {
          "output_type": "stream",
          "name": "stdout",
          "text": [
            "Training Loss : 1.706555347290039, Testing Loss : 1.6913350030899048, Training Accuracy : 0.38646, Testing Accuracy : 0.4002\n"
          ]
        },
        {
          "output_type": "stream",
          "name": "stderr",
          "text": [
            "\r  3%|▎         | 9/300 [07:56<4:15:07, 52.60s/it]"
          ]
        },
        {
          "output_type": "stream",
          "name": "stdout",
          "text": [
            "Training Loss : 1.6625385479736328, Testing Loss : 1.6443766328811646, Training Accuracy : 0.40182, Testing Accuracy : 0.4164\n"
          ]
        },
        {
          "output_type": "stream",
          "name": "stderr",
          "text": [
            "\r  3%|▎         | 10/300 [08:48<4:13:10, 52.38s/it]"
          ]
        },
        {
          "output_type": "stream",
          "name": "stdout",
          "text": [
            "Training Loss : 1.6269939767456054, Testing Loss : 1.6197947128295898, Training Accuracy : 0.41784, Testing Accuracy : 0.4217\n"
          ]
        },
        {
          "output_type": "stream",
          "name": "stderr",
          "text": [
            "\r  4%|▎         | 11/300 [09:41<4:12:57, 52.52s/it]"
          ]
        },
        {
          "output_type": "stream",
          "name": "stdout",
          "text": [
            "Training Loss : 1.5883992578125, Testing Loss : 1.584962646484375, Training Accuracy : 0.43122, Testing Accuracy : 0.4377\n"
          ]
        },
        {
          "output_type": "stream",
          "name": "stderr",
          "text": [
            "\r  4%|▍         | 12/300 [10:33<4:12:09, 52.53s/it]"
          ]
        },
        {
          "output_type": "stream",
          "name": "stdout",
          "text": [
            "Training Loss : 1.556598942565918, Testing Loss : 1.5567666582107544, Training Accuracy : 0.44386, Testing Accuracy : 0.4452\n"
          ]
        },
        {
          "output_type": "stream",
          "name": "stderr",
          "text": [
            "\r  4%|▍         | 13/300 [11:26<4:11:18, 52.54s/it]"
          ]
        },
        {
          "output_type": "stream",
          "name": "stdout",
          "text": [
            "Training Loss : 1.5279970127868652, Testing Loss : 1.5441452472686767, Training Accuracy : 0.45124, Testing Accuracy : 0.452\n"
          ]
        },
        {
          "output_type": "stream",
          "name": "stderr",
          "text": [
            "\r  5%|▍         | 14/300 [12:19<4:10:33, 52.57s/it]"
          ]
        },
        {
          "output_type": "stream",
          "name": "stdout",
          "text": [
            "Training Loss : 1.5019983236694336, Testing Loss : 1.521228881263733, Training Accuracy : 0.4633, Testing Accuracy : 0.4556\n"
          ]
        },
        {
          "output_type": "stream",
          "name": "stderr",
          "text": [
            "\r  5%|▌         | 15/300 [13:11<4:09:54, 52.61s/it]"
          ]
        },
        {
          "output_type": "stream",
          "name": "stdout",
          "text": [
            "Training Loss : 1.4764140660095215, Testing Loss : 1.4955274351119996, Training Accuracy : 0.47412, Testing Accuracy : 0.4708\n"
          ]
        },
        {
          "output_type": "stream",
          "name": "stderr",
          "text": [
            "\r  5%|▌         | 16/300 [14:04<4:09:16, 52.66s/it]"
          ]
        },
        {
          "output_type": "stream",
          "name": "stdout",
          "text": [
            "Training Loss : 1.4539192327880859, Testing Loss : 1.4563615045547484, Training Accuracy : 0.48494, Testing Accuracy : 0.4795\n"
          ]
        },
        {
          "output_type": "stream",
          "name": "stderr",
          "text": [
            "\r  6%|▌         | 17/300 [14:57<4:08:32, 52.70s/it]"
          ]
        },
        {
          "output_type": "stream",
          "name": "stdout",
          "text": [
            "Training Loss : 1.4299799559020996, Testing Loss : 1.4509963914871216, Training Accuracy : 0.49002, Testing Accuracy : 0.4855\n"
          ]
        },
        {
          "output_type": "stream",
          "name": "stderr",
          "text": [
            "\r  6%|▌         | 18/300 [15:51<4:09:34, 53.10s/it]"
          ]
        },
        {
          "output_type": "stream",
          "name": "stdout",
          "text": [
            "Training Loss : 1.4122258882141114, Testing Loss : 1.4250725547790528, Training Accuracy : 0.49776, Testing Accuracy : 0.4932\n"
          ]
        },
        {
          "output_type": "stream",
          "name": "stderr",
          "text": [
            "\r  6%|▋         | 19/300 [16:44<4:09:20, 53.24s/it]"
          ]
        },
        {
          "output_type": "stream",
          "name": "stdout",
          "text": [
            "Training Loss : 1.3954387979125977, Testing Loss : 1.4033933549880981, Training Accuracy : 0.50176, Testing Accuracy : 0.501\n"
          ]
        },
        {
          "output_type": "stream",
          "name": "stderr",
          "text": [
            "\r  7%|▋         | 20/300 [17:37<4:07:21, 53.01s/it]"
          ]
        },
        {
          "output_type": "stream",
          "name": "stdout",
          "text": [
            "Training Loss : 1.368726671295166, Testing Loss : 1.3907081443786622, Training Accuracy : 0.51354, Testing Accuracy : 0.5053\n"
          ]
        },
        {
          "output_type": "stream",
          "name": "stderr",
          "text": [
            "\r  7%|▋         | 21/300 [18:30<4:06:56, 53.11s/it]"
          ]
        },
        {
          "output_type": "stream",
          "name": "stdout",
          "text": [
            "Training Loss : 1.3497931159973144, Testing Loss : 1.38423984375, Training Accuracy : 0.51872, Testing Accuracy : 0.5087\n"
          ]
        },
        {
          "output_type": "stream",
          "name": "stderr",
          "text": [
            "\r  7%|▋         | 22/300 [19:23<4:05:58, 53.09s/it]"
          ]
        },
        {
          "output_type": "stream",
          "name": "stdout",
          "text": [
            "Training Loss : 1.3379231217956542, Testing Loss : 1.3628114265441895, Training Accuracy : 0.52218, Testing Accuracy : 0.5145\n"
          ]
        },
        {
          "output_type": "stream",
          "name": "stderr",
          "text": [
            "\r  8%|▊         | 23/300 [20:17<4:05:24, 53.16s/it]"
          ]
        },
        {
          "output_type": "stream",
          "name": "stdout",
          "text": [
            "Training Loss : 1.3202289453125, Testing Loss : 1.3608606285095215, Training Accuracy : 0.52996, Testing Accuracy : 0.5161\n"
          ]
        },
        {
          "output_type": "stream",
          "name": "stderr",
          "text": [
            "\r  8%|▊         | 24/300 [21:10<4:04:29, 53.15s/it]"
          ]
        },
        {
          "output_type": "stream",
          "name": "stdout",
          "text": [
            "Training Loss : 1.3033856117248535, Testing Loss : 1.330485121536255, Training Accuracy : 0.53584, Testing Accuracy : 0.5232\n"
          ]
        },
        {
          "output_type": "stream",
          "name": "stderr",
          "text": [
            "\r  8%|▊         | 25/300 [22:02<4:02:36, 52.93s/it]"
          ]
        },
        {
          "output_type": "stream",
          "name": "stdout",
          "text": [
            "Training Loss : 1.2896064360046386, Testing Loss : 1.3089887073516846, Training Accuracy : 0.54108, Testing Accuracy : 0.5325\n"
          ]
        },
        {
          "output_type": "stream",
          "name": "stderr",
          "text": [
            "\r  9%|▊         | 26/300 [22:55<4:01:16, 52.83s/it]"
          ]
        },
        {
          "output_type": "stream",
          "name": "stdout",
          "text": [
            "Training Loss : 1.275663239135742, Testing Loss : 1.2978259906768799, Training Accuracy : 0.54786, Testing Accuracy : 0.536\n"
          ]
        },
        {
          "output_type": "stream",
          "name": "stderr",
          "text": [
            "\r  9%|▉         | 27/300 [23:47<3:59:37, 52.67s/it]"
          ]
        },
        {
          "output_type": "stream",
          "name": "stdout",
          "text": [
            "Training Loss : 1.2588947496032714, Testing Loss : 1.279926103591919, Training Accuracy : 0.55238, Testing Accuracy : 0.5447\n"
          ]
        },
        {
          "output_type": "stream",
          "name": "stderr",
          "text": [
            "\r  9%|▉         | 28/300 [24:40<3:58:37, 52.64s/it]"
          ]
        },
        {
          "output_type": "stream",
          "name": "stdout",
          "text": [
            "Training Loss : 1.2495627093505859, Testing Loss : 1.267288840675354, Training Accuracy : 0.55598, Testing Accuracy : 0.5504\n"
          ]
        },
        {
          "output_type": "stream",
          "name": "stderr",
          "text": [
            "\r 10%|▉         | 29/300 [25:32<3:57:23, 52.56s/it]"
          ]
        },
        {
          "output_type": "stream",
          "name": "stdout",
          "text": [
            "Training Loss : 1.2333933677673339, Testing Loss : 1.2596893228530883, Training Accuracy : 0.56226, Testing Accuracy : 0.5526\n"
          ]
        },
        {
          "output_type": "stream",
          "name": "stderr",
          "text": [
            "\r 10%|█         | 30/300 [26:24<3:55:23, 52.31s/it]"
          ]
        },
        {
          "output_type": "stream",
          "name": "stdout",
          "text": [
            "Training Loss : 1.2199437823486328, Testing Loss : 1.240540146446228, Training Accuracy : 0.5672, Testing Accuracy : 0.5594\n"
          ]
        },
        {
          "output_type": "stream",
          "name": "stderr",
          "text": [
            "\r 10%|█         | 31/300 [27:16<3:54:23, 52.28s/it]"
          ]
        },
        {
          "output_type": "stream",
          "name": "stdout",
          "text": [
            "Training Loss : 1.2083785791015624, Testing Loss : 1.2281181840896607, Training Accuracy : 0.572, Testing Accuracy : 0.5644\n"
          ]
        },
        {
          "output_type": "stream",
          "name": "stderr",
          "text": [
            "\r 11%|█         | 32/300 [28:08<3:53:02, 52.17s/it]"
          ]
        },
        {
          "output_type": "stream",
          "name": "stdout",
          "text": [
            "Training Loss : 1.1984157386779786, Testing Loss : 1.2348511032104492, Training Accuracy : 0.57586, Testing Accuracy : 0.5607\n"
          ]
        },
        {
          "output_type": "stream",
          "name": "stderr",
          "text": [
            "\r 11%|█         | 33/300 [28:59<3:51:25, 52.01s/it]"
          ]
        },
        {
          "output_type": "stream",
          "name": "stdout",
          "text": [
            "Training Loss : 1.1820818676757812, Testing Loss : 1.2175111099243163, Training Accuracy : 0.5801, Testing Accuracy : 0.5683\n"
          ]
        },
        {
          "output_type": "stream",
          "name": "stderr",
          "text": [
            "\r 11%|█▏        | 34/300 [29:52<3:51:03, 52.12s/it]"
          ]
        },
        {
          "output_type": "stream",
          "name": "stdout",
          "text": [
            "Training Loss : 1.1752272467041016, Testing Loss : 1.2043127811431884, Training Accuracy : 0.5836, Testing Accuracy : 0.5749\n"
          ]
        },
        {
          "output_type": "stream",
          "name": "stderr",
          "text": [
            "\r 12%|█▏        | 35/300 [30:44<3:50:20, 52.15s/it]"
          ]
        },
        {
          "output_type": "stream",
          "name": "stdout",
          "text": [
            "Training Loss : 1.1637281964111328, Testing Loss : 1.2055995367050172, Training Accuracy : 0.58816, Testing Accuracy : 0.5751\n"
          ]
        },
        {
          "output_type": "stream",
          "name": "stderr",
          "text": [
            "\r 12%|█▏        | 36/300 [31:37<3:50:29, 52.38s/it]"
          ]
        },
        {
          "output_type": "stream",
          "name": "stdout",
          "text": [
            "Training Loss : 1.1480155680847168, Testing Loss : 1.185491773033142, Training Accuracy : 0.59212, Testing Accuracy : 0.5817\n"
          ]
        },
        {
          "output_type": "stream",
          "name": "stderr",
          "text": [
            "\r 12%|█▏        | 37/300 [32:29<3:48:34, 52.14s/it]"
          ]
        },
        {
          "output_type": "stream",
          "name": "stdout",
          "text": [
            "Training Loss : 1.1392427157592773, Testing Loss : 1.1724191440582274, Training Accuracy : 0.595, Testing Accuracy : 0.5863\n"
          ]
        },
        {
          "output_type": "stream",
          "name": "stderr",
          "text": [
            "\r 13%|█▎        | 38/300 [33:21<3:48:04, 52.23s/it]"
          ]
        },
        {
          "output_type": "stream",
          "name": "stdout",
          "text": [
            "Training Loss : 1.1296360804748535, Testing Loss : 1.1624054832458497, Training Accuracy : 0.60214, Testing Accuracy : 0.5896\n"
          ]
        },
        {
          "output_type": "stream",
          "name": "stderr",
          "text": [
            "\r 13%|█▎        | 39/300 [34:13<3:46:57, 52.17s/it]"
          ]
        },
        {
          "output_type": "stream",
          "name": "stdout",
          "text": [
            "Training Loss : 1.116548763885498, Testing Loss : 1.1543814849853515, Training Accuracy : 0.60368, Testing Accuracy : 0.5931\n"
          ]
        },
        {
          "output_type": "stream",
          "name": "stderr",
          "text": [
            "\r 13%|█▎        | 40/300 [35:05<3:45:55, 52.14s/it]"
          ]
        },
        {
          "output_type": "stream",
          "name": "stdout",
          "text": [
            "Training Loss : 1.1128476052856446, Testing Loss : 1.1670999095916748, Training Accuracy : 0.60558, Testing Accuracy : 0.5871\n"
          ]
        },
        {
          "output_type": "stream",
          "name": "stderr",
          "text": [
            "\r 14%|█▎        | 41/300 [35:58<3:45:24, 52.22s/it]"
          ]
        },
        {
          "output_type": "stream",
          "name": "stdout",
          "text": [
            "Training Loss : 1.0991864750671387, Testing Loss : 1.142699208164215, Training Accuracy : 0.61024, Testing Accuracy : 0.5961\n"
          ]
        },
        {
          "output_type": "stream",
          "name": "stderr",
          "text": [
            "\r 14%|█▍        | 42/300 [36:49<3:44:12, 52.14s/it]"
          ]
        },
        {
          "output_type": "stream",
          "name": "stdout",
          "text": [
            "Training Loss : 1.0898991386413575, Testing Loss : 1.1324939359664916, Training Accuracy : 0.61758, Testing Accuracy : 0.5998\n"
          ]
        },
        {
          "output_type": "stream",
          "name": "stderr",
          "text": [
            "\r 14%|█▍        | 43/300 [37:42<3:43:44, 52.24s/it]"
          ]
        },
        {
          "output_type": "stream",
          "name": "stdout",
          "text": [
            "Training Loss : 1.0846185192871094, Testing Loss : 1.1234448356628417, Training Accuracy : 0.61768, Testing Accuracy : 0.6015\n"
          ]
        },
        {
          "output_type": "stream",
          "name": "stderr",
          "text": [
            "\r 15%|█▍        | 44/300 [38:33<3:41:38, 51.95s/it]"
          ]
        },
        {
          "output_type": "stream",
          "name": "stdout",
          "text": [
            "Training Loss : 1.0743179658508302, Testing Loss : 1.117394988632202, Training Accuracy : 0.62124, Testing Accuracy : 0.6058\n"
          ]
        },
        {
          "output_type": "stream",
          "name": "stderr",
          "text": [
            "\r 15%|█▌        | 45/300 [39:25<3:40:43, 51.93s/it]"
          ]
        },
        {
          "output_type": "stream",
          "name": "stdout",
          "text": [
            "Training Loss : 1.0658008206176757, Testing Loss : 1.1023930515289306, Training Accuracy : 0.6255, Testing Accuracy : 0.6127\n"
          ]
        },
        {
          "output_type": "stream",
          "name": "stderr",
          "text": [
            "\r 15%|█▌        | 46/300 [40:17<3:39:45, 51.91s/it]"
          ]
        },
        {
          "output_type": "stream",
          "name": "stdout",
          "text": [
            "Training Loss : 1.0530667778015137, Testing Loss : 1.0926283399581909, Training Accuracy : 0.62642, Testing Accuracy : 0.6177\n"
          ]
        },
        {
          "output_type": "stream",
          "name": "stderr",
          "text": [
            "\r 16%|█▌        | 47/300 [41:09<3:39:09, 51.97s/it]"
          ]
        },
        {
          "output_type": "stream",
          "name": "stdout",
          "text": [
            "Training Loss : 1.0514477851867676, Testing Loss : 1.0894517850875856, Training Accuracy : 0.62958, Testing Accuracy : 0.6174\n"
          ]
        },
        {
          "output_type": "stream",
          "name": "stderr",
          "text": [
            "\r 16%|█▌        | 48/300 [42:01<3:38:06, 51.93s/it]"
          ]
        },
        {
          "output_type": "stream",
          "name": "stdout",
          "text": [
            "Training Loss : 1.0438542851257324, Testing Loss : 1.079536503791809, Training Accuracy : 0.62924, Testing Accuracy : 0.6193\n"
          ]
        },
        {
          "output_type": "stream",
          "name": "stderr",
          "text": [
            "\r 16%|█▋        | 49/300 [42:54<3:38:21, 52.20s/it]"
          ]
        },
        {
          "output_type": "stream",
          "name": "stdout",
          "text": [
            "Training Loss : 1.0343946444702148, Testing Loss : 1.084318590927124, Training Accuracy : 0.63466, Testing Accuracy : 0.6163\n"
          ]
        },
        {
          "output_type": "stream",
          "name": "stderr",
          "text": [
            "\r 17%|█▋        | 50/300 [43:45<3:36:23, 51.93s/it]"
          ]
        },
        {
          "output_type": "stream",
          "name": "stdout",
          "text": [
            "Training Loss : 1.0215884552001953, Testing Loss : 1.077563952255249, Training Accuracy : 0.6391, Testing Accuracy : 0.6195\n"
          ]
        },
        {
          "output_type": "stream",
          "name": "stderr",
          "text": [
            "\r 17%|█▋        | 51/300 [44:37<3:35:21, 51.89s/it]"
          ]
        },
        {
          "output_type": "stream",
          "name": "stdout",
          "text": [
            "Training Loss : 1.016352422027588, Testing Loss : 1.061165160179138, Training Accuracy : 0.64042, Testing Accuracy : 0.626\n"
          ]
        },
        {
          "output_type": "stream",
          "name": "stderr",
          "text": [
            "\r 17%|█▋        | 52/300 [45:29<3:34:18, 51.85s/it]"
          ]
        },
        {
          "output_type": "stream",
          "name": "stdout",
          "text": [
            "Training Loss : 1.0107727639770507, Testing Loss : 1.0573348220825196, Training Accuracy : 0.64372, Testing Accuracy : 0.6297\n"
          ]
        },
        {
          "output_type": "stream",
          "name": "stderr",
          "text": [
            "\r 18%|█▊        | 53/300 [46:21<3:33:30, 51.87s/it]"
          ]
        },
        {
          "output_type": "stream",
          "name": "stdout",
          "text": [
            "Training Loss : 1.0019399932861328, Testing Loss : 1.0609624131202697, Training Accuracy : 0.64758, Testing Accuracy : 0.629\n"
          ]
        },
        {
          "output_type": "stream",
          "name": "stderr",
          "text": [
            "\r 18%|█▊        | 54/300 [47:12<3:32:45, 51.89s/it]"
          ]
        },
        {
          "output_type": "stream",
          "name": "stdout",
          "text": [
            "Training Loss : 0.9962878680419922, Testing Loss : 1.0407556003570557, Training Accuracy : 0.64934, Testing Accuracy : 0.6355\n"
          ]
        },
        {
          "output_type": "stream",
          "name": "stderr",
          "text": [
            "\r 18%|█▊        | 55/300 [48:04<3:31:01, 51.68s/it]"
          ]
        },
        {
          "output_type": "stream",
          "name": "stdout",
          "text": [
            "Training Loss : 0.9867826179504394, Testing Loss : 1.0484647336006165, Training Accuracy : 0.65264, Testing Accuracy : 0.6334\n"
          ]
        },
        {
          "output_type": "stream",
          "name": "stderr",
          "text": [
            "\r 19%|█▊        | 56/300 [48:56<3:30:28, 51.76s/it]"
          ]
        },
        {
          "output_type": "stream",
          "name": "stdout",
          "text": [
            "Training Loss : 0.9831711340332031, Testing Loss : 1.0343383977890015, Training Accuracy : 0.65362, Testing Accuracy : 0.6389\n"
          ]
        },
        {
          "output_type": "stream",
          "name": "stderr",
          "text": [
            "\r 19%|█▉        | 57/300 [49:47<3:29:36, 51.76s/it]"
          ]
        },
        {
          "output_type": "stream",
          "name": "stdout",
          "text": [
            "Training Loss : 0.9753326629638672, Testing Loss : 1.0249795289993286, Training Accuracy : 0.65846, Testing Accuracy : 0.6421\n"
          ]
        },
        {
          "output_type": "stream",
          "name": "stderr",
          "text": [
            "\r 19%|█▉        | 58/300 [50:39<3:28:39, 51.73s/it]"
          ]
        },
        {
          "output_type": "stream",
          "name": "stdout",
          "text": [
            "Training Loss : 0.9638893608093262, Testing Loss : 1.0281381101608276, Training Accuracy : 0.65924, Testing Accuracy : 0.6418\n"
          ]
        },
        {
          "output_type": "stream",
          "name": "stderr",
          "text": [
            "\r 20%|█▉        | 59/300 [51:31<3:27:43, 51.72s/it]"
          ]
        },
        {
          "output_type": "stream",
          "name": "stdout",
          "text": [
            "Training Loss : 0.9591435650634765, Testing Loss : 1.019882053756714, Training Accuracy : 0.66052, Testing Accuracy : 0.6471\n"
          ]
        },
        {
          "output_type": "stream",
          "name": "stderr",
          "text": [
            "\r 20%|██        | 60/300 [52:22<3:25:47, 51.45s/it]"
          ]
        },
        {
          "output_type": "stream",
          "name": "stdout",
          "text": [
            "Training Loss : 0.9531505204772949, Testing Loss : 1.0101266613006592, Training Accuracy : 0.66388, Testing Accuracy : 0.6499\n"
          ]
        },
        {
          "output_type": "stream",
          "name": "stderr",
          "text": [
            "\r 20%|██        | 61/300 [53:13<3:25:18, 51.54s/it]"
          ]
        },
        {
          "output_type": "stream",
          "name": "stdout",
          "text": [
            "Training Loss : 0.949258900604248, Testing Loss : 1.0045483199119567, Training Accuracy : 0.66744, Testing Accuracy : 0.6532\n"
          ]
        },
        {
          "output_type": "stream",
          "name": "stderr",
          "text": [
            "\r 21%|██        | 62/300 [54:05<3:24:34, 51.57s/it]"
          ]
        },
        {
          "output_type": "stream",
          "name": "stdout",
          "text": [
            "Training Loss : 0.9385984059143067, Testing Loss : 0.9949243926048279, Training Accuracy : 0.66944, Testing Accuracy : 0.6534\n"
          ]
        },
        {
          "output_type": "stream",
          "name": "stderr",
          "text": [
            "\r 21%|██        | 63/300 [54:57<3:23:46, 51.59s/it]"
          ]
        },
        {
          "output_type": "stream",
          "name": "stdout",
          "text": [
            "Training Loss : 0.9340343475341797, Testing Loss : 0.9952969148635864, Training Accuracy : 0.67308, Testing Accuracy : 0.6588\n"
          ]
        },
        {
          "output_type": "stream",
          "name": "stderr",
          "text": [
            "\r 21%|██▏       | 64/300 [55:48<3:23:11, 51.66s/it]"
          ]
        },
        {
          "output_type": "stream",
          "name": "stdout",
          "text": [
            "Training Loss : 0.9249619648742676, Testing Loss : 0.9897576169967651, Training Accuracy : 0.67458, Testing Accuracy : 0.6566\n"
          ]
        },
        {
          "output_type": "stream",
          "name": "stderr",
          "text": [
            "\r 22%|██▏       | 65/300 [56:39<3:21:34, 51.47s/it]"
          ]
        },
        {
          "output_type": "stream",
          "name": "stdout",
          "text": [
            "Training Loss : 0.9192296015930176, Testing Loss : 0.9886157735824584, Training Accuracy : 0.67856, Testing Accuracy : 0.6596\n"
          ]
        },
        {
          "output_type": "stream",
          "name": "stderr",
          "text": [
            "\r 22%|██▏       | 66/300 [57:31<3:20:40, 51.46s/it]"
          ]
        },
        {
          "output_type": "stream",
          "name": "stdout",
          "text": [
            "Training Loss : 0.9206287948608398, Testing Loss : 0.9829085377693176, Training Accuracy : 0.67488, Testing Accuracy : 0.6617\n"
          ]
        },
        {
          "output_type": "stream",
          "name": "stderr",
          "text": [
            "\r 22%|██▏       | 67/300 [58:22<3:19:48, 51.45s/it]"
          ]
        },
        {
          "output_type": "stream",
          "name": "stdout",
          "text": [
            "Training Loss : 0.9131725761413574, Testing Loss : 0.9765499263763427, Training Accuracy : 0.67986, Testing Accuracy : 0.6664\n"
          ]
        },
        {
          "output_type": "stream",
          "name": "stderr",
          "text": [
            "\r 23%|██▎       | 68/300 [59:13<3:18:37, 51.37s/it]"
          ]
        },
        {
          "output_type": "stream",
          "name": "stdout",
          "text": [
            "Training Loss : 0.9036998314666748, Testing Loss : 0.9671326758384705, Training Accuracy : 0.68316, Testing Accuracy : 0.6682\n"
          ]
        },
        {
          "output_type": "stream",
          "name": "stderr",
          "text": [
            "\r 23%|██▎       | 69/300 [1:00:05<3:17:31, 51.30s/it]"
          ]
        },
        {
          "output_type": "stream",
          "name": "stdout",
          "text": [
            "Training Loss : 0.900858835144043, Testing Loss : 0.9631631039619446, Training Accuracy : 0.68312, Testing Accuracy : 0.6687\n"
          ]
        },
        {
          "output_type": "stream",
          "name": "stderr",
          "text": [
            "\r 23%|██▎       | 70/300 [1:00:56<3:16:56, 51.38s/it]"
          ]
        },
        {
          "output_type": "stream",
          "name": "stdout",
          "text": [
            "Training Loss : 0.8931233306884766, Testing Loss : 0.9578061486244202, Training Accuracy : 0.68676, Testing Accuracy : 0.6738\n"
          ]
        },
        {
          "output_type": "stream",
          "name": "stderr",
          "text": [
            "\r 24%|██▎       | 71/300 [1:01:48<3:16:13, 51.41s/it]"
          ]
        },
        {
          "output_type": "stream",
          "name": "stdout",
          "text": [
            "Training Loss : 0.8919682344055175, Testing Loss : 0.9526526383399964, Training Accuracy : 0.68716, Testing Accuracy : 0.6744\n"
          ]
        },
        {
          "output_type": "stream",
          "name": "stderr",
          "text": [
            "\r 24%|██▍       | 72/300 [1:02:40<3:15:57, 51.57s/it]"
          ]
        },
        {
          "output_type": "stream",
          "name": "stdout",
          "text": [
            "Training Loss : 0.8815233830261231, Testing Loss : 0.9503821634292603, Training Accuracy : 0.68894, Testing Accuracy : 0.6725\n"
          ]
        },
        {
          "output_type": "stream",
          "name": "stderr",
          "text": [
            "\r 24%|██▍       | 73/300 [1:03:32<3:15:30, 51.68s/it]"
          ]
        },
        {
          "output_type": "stream",
          "name": "stdout",
          "text": [
            "Training Loss : 0.8804036399841308, Testing Loss : 0.9479284317970276, Training Accuracy : 0.69184, Testing Accuracy : 0.6757\n"
          ]
        },
        {
          "output_type": "stream",
          "name": "stderr",
          "text": [
            "\r 25%|██▍       | 74/300 [1:04:23<3:14:19, 51.59s/it]"
          ]
        },
        {
          "output_type": "stream",
          "name": "stdout",
          "text": [
            "Training Loss : 0.8766143972778321, Testing Loss : 0.9533550196647644, Training Accuracy : 0.69058, Testing Accuracy : 0.672\n"
          ]
        },
        {
          "output_type": "stream",
          "name": "stderr",
          "text": [
            "\r 25%|██▌       | 75/300 [1:05:15<3:14:05, 51.76s/it]"
          ]
        },
        {
          "output_type": "stream",
          "name": "stdout",
          "text": [
            "Training Loss : 0.8685102596282959, Testing Loss : 0.9382090277671814, Training Accuracy : 0.69316, Testing Accuracy : 0.6775\n"
          ]
        },
        {
          "output_type": "stream",
          "name": "stderr",
          "text": [
            "\r 25%|██▌       | 76/300 [1:06:07<3:13:36, 51.86s/it]"
          ]
        },
        {
          "output_type": "stream",
          "name": "stdout",
          "text": [
            "Training Loss : 0.8608340579223632, Testing Loss : 0.9369188543319702, Training Accuracy : 0.69888, Testing Accuracy : 0.6802\n"
          ]
        },
        {
          "output_type": "stream",
          "name": "stderr",
          "text": [
            "\r 26%|██▌       | 77/300 [1:06:59<3:12:53, 51.90s/it]"
          ]
        },
        {
          "output_type": "stream",
          "name": "stdout",
          "text": [
            "Training Loss : 0.8567653742980957, Testing Loss : 0.930767796421051, Training Accuracy : 0.6985, Testing Accuracy : 0.6789\n"
          ]
        },
        {
          "output_type": "stream",
          "name": "stderr",
          "text": [
            "\r 26%|██▌       | 78/300 [1:07:50<3:11:21, 51.72s/it]"
          ]
        },
        {
          "output_type": "stream",
          "name": "stdout",
          "text": [
            "Training Loss : 0.8491772866821289, Testing Loss : 0.918894373703003, Training Accuracy : 0.7002, Testing Accuracy : 0.6814\n"
          ]
        },
        {
          "output_type": "stream",
          "name": "stderr",
          "text": [
            "\r 26%|██▋       | 79/300 [1:08:42<3:10:37, 51.75s/it]"
          ]
        },
        {
          "output_type": "stream",
          "name": "stdout",
          "text": [
            "Training Loss : 0.8456308872985839, Testing Loss : 0.9260886274337768, Training Accuracy : 0.7032, Testing Accuracy : 0.6796\n"
          ]
        },
        {
          "output_type": "stream",
          "name": "stderr",
          "text": [
            "\r 27%|██▋       | 80/300 [1:09:34<3:09:43, 51.74s/it]"
          ]
        },
        {
          "output_type": "stream",
          "name": "stdout",
          "text": [
            "Training Loss : 0.8427738986206055, Testing Loss : 0.9132624418258667, Training Accuracy : 0.70408, Testing Accuracy : 0.6865\n"
          ]
        },
        {
          "output_type": "stream",
          "name": "stderr",
          "text": [
            "\r 27%|██▋       | 81/300 [1:10:26<3:09:31, 51.92s/it]"
          ]
        },
        {
          "output_type": "stream",
          "name": "stdout",
          "text": [
            "Training Loss : 0.8389222798156738, Testing Loss : 0.9143453728675842, Training Accuracy : 0.70702, Testing Accuracy : 0.6834\n"
          ]
        },
        {
          "output_type": "stream",
          "name": "stderr",
          "text": [
            "\r 27%|██▋       | 82/300 [1:11:19<3:09:45, 52.23s/it]"
          ]
        },
        {
          "output_type": "stream",
          "name": "stdout",
          "text": [
            "Training Loss : 0.8317069567108154, Testing Loss : 0.9202948621749878, Training Accuracy : 0.70822, Testing Accuracy : 0.6851\n"
          ]
        },
        {
          "output_type": "stream",
          "name": "stderr",
          "text": [
            "\r 28%|██▊       | 83/300 [1:12:11<3:08:07, 52.02s/it]"
          ]
        },
        {
          "output_type": "stream",
          "name": "stdout",
          "text": [
            "Training Loss : 0.826403046875, Testing Loss : 0.9085869963645935, Training Accuracy : 0.71136, Testing Accuracy : 0.6861\n"
          ]
        },
        {
          "output_type": "stream",
          "name": "stderr",
          "text": [
            "\r 28%|██▊       | 84/300 [1:13:03<3:06:58, 51.94s/it]"
          ]
        },
        {
          "output_type": "stream",
          "name": "stdout",
          "text": [
            "Training Loss : 0.8242202591705322, Testing Loss : 0.8978699456214905, Training Accuracy : 0.71022, Testing Accuracy : 0.6882\n"
          ]
        },
        {
          "output_type": "stream",
          "name": "stderr",
          "text": [
            "\r 28%|██▊       | 85/300 [1:13:54<3:05:07, 51.66s/it]"
          ]
        },
        {
          "output_type": "stream",
          "name": "stdout",
          "text": [
            "Training Loss : 0.8208591860961914, Testing Loss : 0.9094253799438476, Training Accuracy : 0.7129, Testing Accuracy : 0.6864\n"
          ]
        },
        {
          "output_type": "stream",
          "name": "stderr",
          "text": [
            "\r 29%|██▊       | 86/300 [1:14:45<3:04:08, 51.63s/it]"
          ]
        },
        {
          "output_type": "stream",
          "name": "stdout",
          "text": [
            "Training Loss : 0.8162606964111329, Testing Loss : 0.8919789839744567, Training Accuracy : 0.71632, Testing Accuracy : 0.6921\n"
          ]
        },
        {
          "output_type": "stream",
          "name": "stderr",
          "text": [
            "\r 29%|██▉       | 87/300 [1:15:36<3:02:12, 51.32s/it]"
          ]
        },
        {
          "output_type": "stream",
          "name": "stdout",
          "text": [
            "Training Loss : 0.8109617622375488, Testing Loss : 0.888532534122467, Training Accuracy : 0.71614, Testing Accuracy : 0.6968\n"
          ]
        },
        {
          "output_type": "stream",
          "name": "stderr",
          "text": [
            "\r 29%|██▉       | 88/300 [1:16:27<3:00:58, 51.22s/it]"
          ]
        },
        {
          "output_type": "stream",
          "name": "stdout",
          "text": [
            "Training Loss : 0.8057002756500244, Testing Loss : 0.8866221133232117, Training Accuracy : 0.71804, Testing Accuracy : 0.6955\n"
          ]
        },
        {
          "output_type": "stream",
          "name": "stderr",
          "text": [
            "\r 30%|██▉       | 89/300 [1:17:18<2:59:45, 51.11s/it]"
          ]
        },
        {
          "output_type": "stream",
          "name": "stdout",
          "text": [
            "Training Loss : 0.8042900648498535, Testing Loss : 0.8899623345375061, Training Accuracy : 0.72, Testing Accuracy : 0.6959\n"
          ]
        },
        {
          "output_type": "stream",
          "name": "stderr",
          "text": [
            "\r 30%|███       | 90/300 [1:18:09<2:59:28, 51.28s/it]"
          ]
        },
        {
          "output_type": "stream",
          "name": "stdout",
          "text": [
            "Training Loss : 0.7971516540527344, Testing Loss : 0.887058837890625, Training Accuracy : 0.722, Testing Accuracy : 0.6962\n"
          ]
        },
        {
          "output_type": "stream",
          "name": "stderr",
          "text": [
            "\r 30%|███       | 91/300 [1:19:00<2:57:45, 51.03s/it]"
          ]
        },
        {
          "output_type": "stream",
          "name": "stdout",
          "text": [
            "Training Loss : 0.7928802001953125, Testing Loss : 0.8775093267440796, Training Accuracy : 0.72154, Testing Accuracy : 0.7004\n"
          ]
        },
        {
          "output_type": "stream",
          "name": "stderr",
          "text": [
            "\r 31%|███       | 92/300 [1:19:51<2:56:41, 50.97s/it]"
          ]
        },
        {
          "output_type": "stream",
          "name": "stdout",
          "text": [
            "Training Loss : 0.7881345213317871, Testing Loss : 0.876437825679779, Training Accuracy : 0.72498, Testing Accuracy : 0.6974\n"
          ]
        },
        {
          "output_type": "stream",
          "name": "stderr",
          "text": [
            "\r 31%|███       | 93/300 [1:20:42<2:56:26, 51.14s/it]"
          ]
        },
        {
          "output_type": "stream",
          "name": "stdout",
          "text": [
            "Training Loss : 0.7874258981323242, Testing Loss : 0.8726165979385376, Training Accuracy : 0.72582, Testing Accuracy : 0.7036\n"
          ]
        },
        {
          "output_type": "stream",
          "name": "stderr",
          "text": [
            "\r 31%|███▏      | 94/300 [1:21:34<2:56:20, 51.36s/it]"
          ]
        },
        {
          "output_type": "stream",
          "name": "stdout",
          "text": [
            "Training Loss : 0.7828336709594726, Testing Loss : 0.8716294746398926, Training Accuracy : 0.72638, Testing Accuracy : 0.7029\n"
          ]
        },
        {
          "output_type": "stream",
          "name": "stderr",
          "text": [
            "\r 32%|███▏      | 95/300 [1:22:24<2:54:26, 51.06s/it]"
          ]
        },
        {
          "output_type": "stream",
          "name": "stdout",
          "text": [
            "Training Loss : 0.7794900206756592, Testing Loss : 0.8682725026130677, Training Accuracy : 0.72758, Testing Accuracy : 0.7035\n"
          ]
        },
        {
          "output_type": "stream",
          "name": "stderr",
          "text": [
            "\r 32%|███▏      | 96/300 [1:23:15<2:53:16, 50.96s/it]"
          ]
        },
        {
          "output_type": "stream",
          "name": "stdout",
          "text": [
            "Training Loss : 0.7802376372528076, Testing Loss : 0.8630575058937072, Training Accuracy : 0.72992, Testing Accuracy : 0.7059\n"
          ]
        },
        {
          "output_type": "stream",
          "name": "stderr",
          "text": [
            "\r 32%|███▏      | 97/300 [1:24:06<2:52:38, 51.02s/it]"
          ]
        },
        {
          "output_type": "stream",
          "name": "stdout",
          "text": [
            "Training Loss : 0.7696206253814697, Testing Loss : 0.8601488072395325, Training Accuracy : 0.73112, Testing Accuracy : 0.7068\n"
          ]
        },
        {
          "output_type": "stream",
          "name": "stderr",
          "text": [
            "\r 33%|███▎      | 98/300 [1:24:57<2:51:24, 50.91s/it]"
          ]
        },
        {
          "output_type": "stream",
          "name": "stdout",
          "text": [
            "Training Loss : 0.7689883731079101, Testing Loss : 0.8646409945487976, Training Accuracy : 0.7297, Testing Accuracy : 0.7025\n"
          ]
        },
        {
          "output_type": "stream",
          "name": "stderr",
          "text": [
            "\r 33%|███▎      | 99/300 [1:25:48<2:50:34, 50.92s/it]"
          ]
        },
        {
          "output_type": "stream",
          "name": "stdout",
          "text": [
            "Training Loss : 0.7620670502471923, Testing Loss : 0.8584285460472106, Training Accuracy : 0.73268, Testing Accuracy : 0.7056\n"
          ]
        },
        {
          "output_type": "stream",
          "name": "stderr",
          "text": [
            "\r 33%|███▎      | 100/300 [1:26:39<2:49:46, 50.93s/it]"
          ]
        },
        {
          "output_type": "stream",
          "name": "stdout",
          "text": [
            "Training Loss : 0.7586766351318359, Testing Loss : 0.859719076538086, Training Accuracy : 0.73476, Testing Accuracy : 0.7054\n"
          ]
        },
        {
          "output_type": "stream",
          "name": "stderr",
          "text": [
            "\r 34%|███▎      | 101/300 [1:27:30<2:49:11, 51.01s/it]"
          ]
        },
        {
          "output_type": "stream",
          "name": "stdout",
          "text": [
            "Training Loss : 0.754823023223877, Testing Loss : 0.8509044174194336, Training Accuracy : 0.73548, Testing Accuracy : 0.7119\n"
          ]
        },
        {
          "output_type": "stream",
          "name": "stderr",
          "text": [
            "\r 34%|███▍      | 102/300 [1:28:21<2:48:07, 50.95s/it]"
          ]
        },
        {
          "output_type": "stream",
          "name": "stdout",
          "text": [
            "Training Loss : 0.7524405961608887, Testing Loss : 0.8511079051971435, Training Accuracy : 0.73536, Testing Accuracy : 0.7071\n"
          ]
        },
        {
          "output_type": "stream",
          "name": "stderr",
          "text": [
            "\r 34%|███▍      | 103/300 [1:29:12<2:47:40, 51.07s/it]"
          ]
        },
        {
          "output_type": "stream",
          "name": "stdout",
          "text": [
            "Training Loss : 0.7487065507507324, Testing Loss : 0.8469164655685425, Training Accuracy : 0.7375, Testing Accuracy : 0.7118\n"
          ]
        },
        {
          "output_type": "stream",
          "name": "stderr",
          "text": [
            "\r 35%|███▍      | 104/300 [1:30:03<2:46:47, 51.06s/it]"
          ]
        },
        {
          "output_type": "stream",
          "name": "stdout",
          "text": [
            "Training Loss : 0.7466765863800049, Testing Loss : 0.8460192555427551, Training Accuracy : 0.74098, Testing Accuracy : 0.712\n"
          ]
        },
        {
          "output_type": "stream",
          "name": "stderr",
          "text": [
            "\r 35%|███▌      | 105/300 [1:30:56<2:47:31, 51.55s/it]"
          ]
        },
        {
          "output_type": "stream",
          "name": "stdout",
          "text": [
            "Training Loss : 0.7417825612640381, Testing Loss : 0.8431708649635314, Training Accuracy : 0.73966, Testing Accuracy : 0.7129\n"
          ]
        },
        {
          "output_type": "stream",
          "name": "stderr",
          "text": [
            "\r 35%|███▌      | 106/300 [1:31:47<2:46:32, 51.51s/it]"
          ]
        },
        {
          "output_type": "stream",
          "name": "stdout",
          "text": [
            "Training Loss : 0.7356565464782715, Testing Loss : 0.8400452352523804, Training Accuracy : 0.7437, Testing Accuracy : 0.7115\n"
          ]
        },
        {
          "output_type": "stream",
          "name": "stderr",
          "text": [
            "\r 36%|███▌      | 107/300 [1:32:39<2:45:52, 51.57s/it]"
          ]
        },
        {
          "output_type": "stream",
          "name": "stdout",
          "text": [
            "Training Loss : 0.7354266311645508, Testing Loss : 0.8397464994430542, Training Accuracy : 0.74296, Testing Accuracy : 0.712\n"
          ]
        },
        {
          "output_type": "stream",
          "name": "stderr",
          "text": [
            "\r 36%|███▌      | 108/300 [1:33:32<2:45:59, 51.87s/it]"
          ]
        },
        {
          "output_type": "stream",
          "name": "stdout",
          "text": [
            "Training Loss : 0.732104012298584, Testing Loss : 0.837688184261322, Training Accuracy : 0.74484, Testing Accuracy : 0.7151\n"
          ]
        },
        {
          "output_type": "stream",
          "name": "stderr",
          "text": [
            "\r 36%|███▋      | 109/300 [1:34:24<2:45:29, 51.98s/it]"
          ]
        },
        {
          "output_type": "stream",
          "name": "stdout",
          "text": [
            "Training Loss : 0.7312503077697754, Testing Loss : 0.8357272541046142, Training Accuracy : 0.74444, Testing Accuracy : 0.7144\n"
          ]
        },
        {
          "output_type": "stream",
          "name": "stderr",
          "text": [
            "\r 37%|███▋      | 110/300 [1:35:15<2:43:38, 51.68s/it]"
          ]
        },
        {
          "output_type": "stream",
          "name": "stdout",
          "text": [
            "Training Loss : 0.7272765816497803, Testing Loss : 0.8426239525794983, Training Accuracy : 0.7467, Testing Accuracy : 0.7104\n"
          ]
        },
        {
          "output_type": "stream",
          "name": "stderr",
          "text": [
            "\r 37%|███▋      | 111/300 [1:36:06<2:42:51, 51.70s/it]"
          ]
        },
        {
          "output_type": "stream",
          "name": "stdout",
          "text": [
            "Training Loss : 0.7225382384490967, Testing Loss : 0.8277552762031555, Training Accuracy : 0.74742, Testing Accuracy : 0.7175\n"
          ]
        },
        {
          "output_type": "stream",
          "name": "stderr",
          "text": [
            "\r 37%|███▋      | 112/300 [1:36:58<2:41:59, 51.70s/it]"
          ]
        },
        {
          "output_type": "stream",
          "name": "stdout",
          "text": [
            "Training Loss : 0.7232051644134522, Testing Loss : 0.8285332593441009, Training Accuracy : 0.74698, Testing Accuracy : 0.7172\n"
          ]
        },
        {
          "output_type": "stream",
          "name": "stderr",
          "text": [
            "\r 38%|███▊      | 113/300 [1:37:49<2:40:18, 51.44s/it]"
          ]
        },
        {
          "output_type": "stream",
          "name": "stdout",
          "text": [
            "Training Loss : 0.717964534072876, Testing Loss : 0.8240204976081849, Training Accuracy : 0.749, Testing Accuracy : 0.7177\n"
          ]
        },
        {
          "output_type": "stream",
          "name": "stderr",
          "text": [
            "\r 38%|███▊      | 114/300 [1:38:41<2:39:42, 51.52s/it]"
          ]
        },
        {
          "output_type": "stream",
          "name": "stdout",
          "text": [
            "Training Loss : 0.71279696434021, Testing Loss : 0.8287187553405762, Training Accuracy : 0.7518, Testing Accuracy : 0.7164\n"
          ]
        },
        {
          "output_type": "stream",
          "name": "stderr",
          "text": [
            "\r 38%|███▊      | 115/300 [1:39:32<2:38:58, 51.56s/it]"
          ]
        },
        {
          "output_type": "stream",
          "name": "stdout",
          "text": [
            "Training Loss : 0.7133254125976562, Testing Loss : 0.822620842885971, Training Accuracy : 0.75208, Testing Accuracy : 0.7183\n"
          ]
        },
        {
          "output_type": "stream",
          "name": "stderr",
          "text": [
            "\r 39%|███▊      | 116/300 [1:40:24<2:38:33, 51.70s/it]"
          ]
        },
        {
          "output_type": "stream",
          "name": "stdout",
          "text": [
            "Training Loss : 0.7062709171295166, Testing Loss : 0.8228168731212616, Training Accuracy : 0.75376, Testing Accuracy : 0.7169\n"
          ]
        },
        {
          "output_type": "stream",
          "name": "stderr",
          "text": [
            "\r 39%|███▉      | 117/300 [1:41:16<2:37:23, 51.60s/it]"
          ]
        },
        {
          "output_type": "stream",
          "name": "stdout",
          "text": [
            "Training Loss : 0.7081866450500488, Testing Loss : 0.8257977927207947, Training Accuracy : 0.75344, Testing Accuracy : 0.719\n"
          ]
        },
        {
          "output_type": "stream",
          "name": "stderr",
          "text": [
            "\r 39%|███▉      | 118/300 [1:42:07<2:36:19, 51.54s/it]"
          ]
        },
        {
          "output_type": "stream",
          "name": "stdout",
          "text": [
            "Training Loss : 0.7019697862243652, Testing Loss : 0.8152582844734192, Training Accuracy : 0.7574, Testing Accuracy : 0.7213\n"
          ]
        },
        {
          "output_type": "stream",
          "name": "stderr",
          "text": [
            "\r 40%|███▉      | 119/300 [1:42:59<2:35:43, 51.62s/it]"
          ]
        },
        {
          "output_type": "stream",
          "name": "stdout",
          "text": [
            "Training Loss : 0.7011977547454834, Testing Loss : 0.8110094345092773, Training Accuracy : 0.75346, Testing Accuracy : 0.7241\n"
          ]
        },
        {
          "output_type": "stream",
          "name": "stderr",
          "text": [
            "\r 40%|████      | 120/300 [1:43:51<2:35:28, 51.82s/it]"
          ]
        },
        {
          "output_type": "stream",
          "name": "stdout",
          "text": [
            "Training Loss : 0.6973335580444336, Testing Loss : 0.807154498577118, Training Accuracy : 0.7571, Testing Accuracy : 0.7248\n"
          ]
        },
        {
          "output_type": "stream",
          "name": "stderr",
          "text": [
            "\r 40%|████      | 121/300 [1:44:42<2:33:56, 51.60s/it]"
          ]
        },
        {
          "output_type": "stream",
          "name": "stdout",
          "text": [
            "Training Loss : 0.6967884708404541, Testing Loss : 0.809644556427002, Training Accuracy : 0.75616, Testing Accuracy : 0.7243\n"
          ]
        },
        {
          "output_type": "stream",
          "name": "stderr",
          "text": [
            "\r 41%|████      | 122/300 [1:45:34<2:33:18, 51.68s/it]"
          ]
        },
        {
          "output_type": "stream",
          "name": "stdout",
          "text": [
            "Training Loss : 0.6925562807464599, Testing Loss : 0.8097870592594146, Training Accuracy : 0.7605, Testing Accuracy : 0.7216\n"
          ]
        },
        {
          "output_type": "stream",
          "name": "stderr",
          "text": [
            "\r 41%|████      | 123/300 [1:46:26<2:32:09, 51.58s/it]"
          ]
        },
        {
          "output_type": "stream",
          "name": "stdout",
          "text": [
            "Training Loss : 0.6876038710784912, Testing Loss : 0.8095151605606079, Training Accuracy : 0.75812, Testing Accuracy : 0.7251\n"
          ]
        },
        {
          "output_type": "stream",
          "name": "stderr",
          "text": [
            "\r 41%|████▏     | 124/300 [1:47:17<2:30:48, 51.41s/it]"
          ]
        },
        {
          "output_type": "stream",
          "name": "stdout",
          "text": [
            "Training Loss : 0.6837809352111817, Testing Loss : 0.8132763421058655, Training Accuracy : 0.7622, Testing Accuracy : 0.7248\n"
          ]
        },
        {
          "output_type": "stream",
          "name": "stderr",
          "text": [
            "\r 42%|████▏     | 125/300 [1:48:08<2:30:15, 51.52s/it]"
          ]
        },
        {
          "output_type": "stream",
          "name": "stdout",
          "text": [
            "Training Loss : 0.684292452468872, Testing Loss : 0.8083933998584747, Training Accuracy : 0.76124, Testing Accuracy : 0.723\n"
          ]
        },
        {
          "output_type": "stream",
          "name": "stderr",
          "text": [
            "\r 42%|████▏     | 126/300 [1:49:00<2:29:28, 51.54s/it]"
          ]
        },
        {
          "output_type": "stream",
          "name": "stdout",
          "text": [
            "Training Loss : 0.6812598225402832, Testing Loss : 0.8028189610004425, Training Accuracy : 0.76242, Testing Accuracy : 0.7252\n"
          ]
        },
        {
          "output_type": "stream",
          "name": "stderr",
          "text": [
            "\r 42%|████▏     | 127/300 [1:49:52<2:28:50, 51.62s/it]"
          ]
        },
        {
          "output_type": "stream",
          "name": "stdout",
          "text": [
            "Training Loss : 0.6777583180999756, Testing Loss : 0.8037578841209412, Training Accuracy : 0.76428, Testing Accuracy : 0.7263\n"
          ]
        },
        {
          "output_type": "stream",
          "name": "stderr",
          "text": [
            "\r 43%|████▎     | 128/300 [1:50:43<2:27:26, 51.43s/it]"
          ]
        },
        {
          "output_type": "stream",
          "name": "stdout",
          "text": [
            "Training Loss : 0.6794801540374756, Testing Loss : 0.8052429594993591, Training Accuracy : 0.76386, Testing Accuracy : 0.7251\n"
          ]
        },
        {
          "output_type": "stream",
          "name": "stderr",
          "text": [
            "\r 43%|████▎     | 129/300 [1:51:34<2:26:44, 51.49s/it]"
          ]
        },
        {
          "output_type": "stream",
          "name": "stdout",
          "text": [
            "Training Loss : 0.6774738301086426, Testing Loss : 0.7986997215747833, Training Accuracy : 0.76186, Testing Accuracy : 0.7273\n"
          ]
        },
        {
          "output_type": "stream",
          "name": "stderr",
          "text": [
            "\r 43%|████▎     | 130/300 [1:52:26<2:26:15, 51.62s/it]"
          ]
        },
        {
          "output_type": "stream",
          "name": "stdout",
          "text": [
            "Training Loss : 0.6700889385223389, Testing Loss : 0.7969005400657654, Training Accuracy : 0.76542, Testing Accuracy : 0.731\n"
          ]
        },
        {
          "output_type": "stream",
          "name": "stderr",
          "text": [
            "\r 44%|████▎     | 131/300 [1:53:19<2:25:59, 51.83s/it]"
          ]
        },
        {
          "output_type": "stream",
          "name": "stdout",
          "text": [
            "Training Loss : 0.6721801474761963, Testing Loss : 0.7972584075450897, Training Accuracy : 0.76374, Testing Accuracy : 0.7303\n"
          ]
        },
        {
          "output_type": "stream",
          "name": "stderr",
          "text": [
            "\r 44%|████▍     | 132/300 [1:54:10<2:24:31, 51.62s/it]"
          ]
        },
        {
          "output_type": "stream",
          "name": "stdout",
          "text": [
            "Training Loss : 0.6633339641571044, Testing Loss : 0.7980364191055298, Training Accuracy : 0.76964, Testing Accuracy : 0.7245\n"
          ]
        },
        {
          "output_type": "stream",
          "name": "stderr",
          "text": [
            "\r 44%|████▍     | 133/300 [1:55:02<2:23:51, 51.68s/it]"
          ]
        },
        {
          "output_type": "stream",
          "name": "stdout",
          "text": [
            "Training Loss : 0.6665700027465821, Testing Loss : 0.792530521440506, Training Accuracy : 0.76782, Testing Accuracy : 0.7325\n"
          ]
        },
        {
          "output_type": "stream",
          "name": "stderr",
          "text": [
            "\r 45%|████▍     | 134/300 [1:55:53<2:23:00, 51.69s/it]"
          ]
        },
        {
          "output_type": "stream",
          "name": "stdout",
          "text": [
            "Training Loss : 0.6671720369720459, Testing Loss : 0.794489186000824, Training Accuracy : 0.76726, Testing Accuracy : 0.727\n"
          ]
        },
        {
          "output_type": "stream",
          "name": "stderr",
          "text": [
            "\r 45%|████▌     | 135/300 [1:56:44<2:21:29, 51.45s/it]"
          ]
        },
        {
          "output_type": "stream",
          "name": "stdout",
          "text": [
            "Training Loss : 0.6606291150665283, Testing Loss : 0.7921144254207612, Training Accuracy : 0.7703, Testing Accuracy : 0.7265\n"
          ]
        },
        {
          "output_type": "stream",
          "name": "stderr",
          "text": [
            "\r 45%|████▌     | 136/300 [1:57:36<2:20:49, 51.52s/it]"
          ]
        },
        {
          "output_type": "stream",
          "name": "stdout",
          "text": [
            "Training Loss : 0.6587756245422364, Testing Loss : 0.789256167602539, Training Accuracy : 0.77244, Testing Accuracy : 0.7278\n"
          ]
        },
        {
          "output_type": "stream",
          "name": "stderr",
          "text": [
            "\r 46%|████▌     | 137/300 [1:58:27<2:19:43, 51.43s/it]"
          ]
        },
        {
          "output_type": "stream",
          "name": "stdout",
          "text": [
            "Training Loss : 0.6577178137969971, Testing Loss : 0.7849105538368225, Training Accuracy : 0.77106, Testing Accuracy : 0.7304\n"
          ]
        },
        {
          "output_type": "stream",
          "name": "stderr",
          "text": [
            "\r 46%|████▌     | 138/300 [1:59:19<2:19:20, 51.61s/it]"
          ]
        },
        {
          "output_type": "stream",
          "name": "stdout",
          "text": [
            "Training Loss : 0.6559770851135254, Testing Loss : 0.7879712157726287, Training Accuracy : 0.7723, Testing Accuracy : 0.7282\n"
          ]
        },
        {
          "output_type": "stream",
          "name": "stderr",
          "text": [
            "\r 46%|████▋     | 139/300 [2:00:10<2:17:56, 51.41s/it]"
          ]
        },
        {
          "output_type": "stream",
          "name": "stdout",
          "text": [
            "Training Loss : 0.6548545720672607, Testing Loss : 0.7841992888927459, Training Accuracy : 0.77082, Testing Accuracy : 0.731\n"
          ]
        },
        {
          "output_type": "stream",
          "name": "stderr",
          "text": [
            "\r 47%|████▋     | 140/300 [2:01:01<2:17:08, 51.43s/it]"
          ]
        },
        {
          "output_type": "stream",
          "name": "stdout",
          "text": [
            "Training Loss : 0.6492717205810546, Testing Loss : 0.7813444545269013, Training Accuracy : 0.77418, Testing Accuracy : 0.731\n"
          ]
        },
        {
          "output_type": "stream",
          "name": "stderr",
          "text": [
            "\r 47%|████▋     | 141/300 [2:01:53<2:16:06, 51.36s/it]"
          ]
        },
        {
          "output_type": "stream",
          "name": "stdout",
          "text": [
            "Training Loss : 0.6473432587432861, Testing Loss : 0.7819427581310272, Training Accuracy : 0.77432, Testing Accuracy : 0.7324\n"
          ]
        },
        {
          "output_type": "stream",
          "name": "stderr",
          "text": [
            "\r 47%|████▋     | 142/300 [2:02:44<2:15:04, 51.29s/it]"
          ]
        },
        {
          "output_type": "stream",
          "name": "stdout",
          "text": [
            "Training Loss : 0.645362035446167, Testing Loss : 0.7855876896381379, Training Accuracy : 0.7751, Testing Accuracy : 0.7289\n"
          ]
        },
        {
          "output_type": "stream",
          "name": "stderr",
          "text": [
            "\r 48%|████▊     | 143/300 [2:03:35<2:14:26, 51.38s/it]"
          ]
        },
        {
          "output_type": "stream",
          "name": "stdout",
          "text": [
            "Training Loss : 0.645050090713501, Testing Loss : 0.7786757165908813, Training Accuracy : 0.7763, Testing Accuracy : 0.7335\n"
          ]
        },
        {
          "output_type": "stream",
          "name": "stderr",
          "text": [
            "\r 48%|████▊     | 144/300 [2:04:27<2:13:47, 51.46s/it]"
          ]
        },
        {
          "output_type": "stream",
          "name": "stdout",
          "text": [
            "Training Loss : 0.6448700315856933, Testing Loss : 0.7779757187366486, Training Accuracy : 0.77416, Testing Accuracy : 0.7353\n"
          ]
        },
        {
          "output_type": "stream",
          "name": "stderr",
          "text": [
            "\r 48%|████▊     | 145/300 [2:05:19<2:13:30, 51.68s/it]"
          ]
        },
        {
          "output_type": "stream",
          "name": "stdout",
          "text": [
            "Training Loss : 0.6436138897705078, Testing Loss : 0.7794378238201142, Training Accuracy : 0.7767, Testing Accuracy : 0.7323\n"
          ]
        },
        {
          "output_type": "stream",
          "name": "stderr",
          "text": [
            "\r 49%|████▊     | 146/300 [2:06:10<2:11:57, 51.41s/it]"
          ]
        },
        {
          "output_type": "stream",
          "name": "stdout",
          "text": [
            "Training Loss : 0.642012241821289, Testing Loss : 0.7854746610164642, Training Accuracy : 0.77522, Testing Accuracy : 0.7276\n"
          ]
        },
        {
          "output_type": "stream",
          "name": "stderr",
          "text": [
            "\r 49%|████▉     | 147/300 [2:07:02<2:11:13, 51.46s/it]"
          ]
        },
        {
          "output_type": "stream",
          "name": "stdout",
          "text": [
            "Training Loss : 0.6379210945892334, Testing Loss : 0.7757691784858703, Training Accuracy : 0.77652, Testing Accuracy : 0.735\n"
          ]
        },
        {
          "output_type": "stream",
          "name": "stderr",
          "text": [
            "\r 49%|████▉     | 148/300 [2:07:53<2:10:24, 51.48s/it]"
          ]
        },
        {
          "output_type": "stream",
          "name": "stdout",
          "text": [
            "Training Loss : 0.6334159011840821, Testing Loss : 0.7743856380462647, Training Accuracy : 0.7801, Testing Accuracy : 0.7353\n"
          ]
        },
        {
          "output_type": "stream",
          "name": "stderr",
          "text": [
            "\r 50%|████▉     | 149/300 [2:08:44<2:09:10, 51.33s/it]"
          ]
        },
        {
          "output_type": "stream",
          "name": "stdout",
          "text": [
            "Training Loss : 0.627819453201294, Testing Loss : 0.7740666614055633, Training Accuracy : 0.78158, Testing Accuracy : 0.7327\n"
          ]
        },
        {
          "output_type": "stream",
          "name": "stderr",
          "text": [
            "\r 50%|█████     | 150/300 [2:09:36<2:08:30, 51.41s/it]"
          ]
        },
        {
          "output_type": "stream",
          "name": "stdout",
          "text": [
            "Training Loss : 0.6308455143737793, Testing Loss : 0.7733498318195343, Training Accuracy : 0.78052, Testing Accuracy : 0.7351\n"
          ]
        },
        {
          "output_type": "stream",
          "name": "stderr",
          "text": [
            "\r 50%|█████     | 151/300 [2:10:27<2:07:41, 51.42s/it]"
          ]
        },
        {
          "output_type": "stream",
          "name": "stdout",
          "text": [
            "Training Loss : 0.635202131576538, Testing Loss : 0.7703308360099792, Training Accuracy : 0.7785, Testing Accuracy : 0.7349\n"
          ]
        },
        {
          "output_type": "stream",
          "name": "stderr",
          "text": [
            "\r 51%|█████     | 152/300 [2:11:18<2:06:26, 51.26s/it]"
          ]
        },
        {
          "output_type": "stream",
          "name": "stdout",
          "text": [
            "Training Loss : 0.6287451190185547, Testing Loss : 0.771305806350708, Training Accuracy : 0.77978, Testing Accuracy : 0.7345\n"
          ]
        },
        {
          "output_type": "stream",
          "name": "stderr",
          "text": [
            "\r 51%|█████     | 153/300 [2:12:10<2:06:02, 51.44s/it]"
          ]
        },
        {
          "output_type": "stream",
          "name": "stdout",
          "text": [
            "Training Loss : 0.6269095348358155, Testing Loss : 0.772982190322876, Training Accuracy : 0.78168, Testing Accuracy : 0.7371\n"
          ]
        },
        {
          "output_type": "stream",
          "name": "stderr",
          "text": [
            "\r 51%|█████▏    | 154/300 [2:13:01<2:05:03, 51.40s/it]"
          ]
        },
        {
          "output_type": "stream",
          "name": "stdout",
          "text": [
            "Training Loss : 0.6288258871459961, Testing Loss : 0.7700191073894501, Training Accuracy : 0.77998, Testing Accuracy : 0.7341\n"
          ]
        },
        {
          "output_type": "stream",
          "name": "stderr",
          "text": [
            "\r 52%|█████▏    | 155/300 [2:13:53<2:04:51, 51.66s/it]"
          ]
        },
        {
          "output_type": "stream",
          "name": "stdout",
          "text": [
            "Training Loss : 0.6201641492462158, Testing Loss : 0.7648253800392151, Training Accuracy : 0.78492, Testing Accuracy : 0.7355\n"
          ]
        },
        {
          "output_type": "stream",
          "name": "stderr",
          "text": [
            "\r 52%|█████▏    | 156/300 [2:14:44<2:03:30, 51.46s/it]"
          ]
        },
        {
          "output_type": "stream",
          "name": "stdout",
          "text": [
            "Training Loss : 0.6227487791442871, Testing Loss : 0.7656177315235138, Training Accuracy : 0.78334, Testing Accuracy : 0.7363\n"
          ]
        },
        {
          "output_type": "stream",
          "name": "stderr",
          "text": [
            "\r 52%|█████▏    | 157/300 [2:15:36<2:02:42, 51.48s/it]"
          ]
        },
        {
          "output_type": "stream",
          "name": "stdout",
          "text": [
            "Training Loss : 0.6207016876983643, Testing Loss : 0.7673818842411041, Training Accuracy : 0.78328, Testing Accuracy : 0.7353\n"
          ]
        },
        {
          "output_type": "stream",
          "name": "stderr",
          "text": [
            "\r 53%|█████▎    | 158/300 [2:16:29<2:02:38, 51.82s/it]"
          ]
        },
        {
          "output_type": "stream",
          "name": "stdout",
          "text": [
            "Training Loss : 0.6196722919464112, Testing Loss : 0.7620752824306488, Training Accuracy : 0.78394, Testing Accuracy : 0.7378\n"
          ]
        },
        {
          "output_type": "stream",
          "name": "stderr",
          "text": [
            "\r 53%|█████▎    | 159/300 [2:17:21<2:01:53, 51.87s/it]"
          ]
        },
        {
          "output_type": "stream",
          "name": "stdout",
          "text": [
            "Training Loss : 0.614910485458374, Testing Loss : 0.762954493522644, Training Accuracy : 0.78458, Testing Accuracy : 0.7377\n"
          ]
        },
        {
          "output_type": "stream",
          "name": "stderr",
          "text": [
            "\r 53%|█████▎    | 160/300 [2:18:12<2:01:01, 51.86s/it]"
          ]
        },
        {
          "output_type": "stream",
          "name": "stdout",
          "text": [
            "Training Loss : 0.6183418715667724, Testing Loss : 0.7632344197273254, Training Accuracy : 0.78656, Testing Accuracy : 0.7388\n"
          ]
        },
        {
          "output_type": "stream",
          "name": "stderr",
          "text": [
            "\r 54%|█████▎    | 161/300 [2:19:04<2:00:01, 51.81s/it]"
          ]
        },
        {
          "output_type": "stream",
          "name": "stdout",
          "text": [
            "Training Loss : 0.6149234529876709, Testing Loss : 0.7583617666721344, Training Accuracy : 0.7864, Testing Accuracy : 0.7392\n"
          ]
        },
        {
          "output_type": "stream",
          "name": "stderr",
          "text": [
            "\r 54%|█████▍    | 162/300 [2:19:56<1:59:20, 51.89s/it]"
          ]
        },
        {
          "output_type": "stream",
          "name": "stdout",
          "text": [
            "Training Loss : 0.6131347835540771, Testing Loss : 0.7618032670497894, Training Accuracy : 0.78552, Testing Accuracy : 0.7385\n"
          ]
        },
        {
          "output_type": "stream",
          "name": "stderr",
          "text": [
            "\r 54%|█████▍    | 163/300 [2:20:49<1:58:55, 52.08s/it]"
          ]
        },
        {
          "output_type": "stream",
          "name": "stdout",
          "text": [
            "Training Loss : 0.6112786471557617, Testing Loss : 0.7595058870792389, Training Accuracy : 0.78844, Testing Accuracy : 0.7401\n"
          ]
        },
        {
          "output_type": "stream",
          "name": "stderr",
          "text": [
            "\r 55%|█████▍    | 164/300 [2:21:41<1:58:22, 52.23s/it]"
          ]
        },
        {
          "output_type": "stream",
          "name": "stdout",
          "text": [
            "Training Loss : 0.6065699626922607, Testing Loss : 0.7623827006340027, Training Accuracy : 0.78996, Testing Accuracy : 0.7388\n"
          ]
        },
        {
          "output_type": "stream",
          "name": "stderr",
          "text": [
            "\r 55%|█████▌    | 165/300 [2:22:33<1:57:26, 52.20s/it]"
          ]
        },
        {
          "output_type": "stream",
          "name": "stdout",
          "text": [
            "Training Loss : 0.6025980780029296, Testing Loss : 0.7571527176856995, Training Accuracy : 0.78982, Testing Accuracy : 0.7386\n"
          ]
        },
        {
          "output_type": "stream",
          "name": "stderr",
          "text": [
            "\r 55%|█████▌    | 166/300 [2:23:26<1:56:47, 52.29s/it]"
          ]
        },
        {
          "output_type": "stream",
          "name": "stdout",
          "text": [
            "Training Loss : 0.6045398991394043, Testing Loss : 0.7579538080215454, Training Accuracy : 0.78728, Testing Accuracy : 0.7397\n"
          ]
        },
        {
          "output_type": "stream",
          "name": "stderr",
          "text": [
            "\r 56%|█████▌    | 167/300 [2:24:18<1:55:45, 52.22s/it]"
          ]
        },
        {
          "output_type": "stream",
          "name": "stdout",
          "text": [
            "Training Loss : 0.6038384046936035, Testing Loss : 0.7545988851070404, Training Accuracy : 0.7906, Testing Accuracy : 0.7422\n"
          ]
        },
        {
          "output_type": "stream",
          "name": "stderr",
          "text": [
            "\r 56%|█████▌    | 168/300 [2:25:10<1:54:54, 52.23s/it]"
          ]
        },
        {
          "output_type": "stream",
          "name": "stdout",
          "text": [
            "Training Loss : 0.604914200668335, Testing Loss : 0.7539011447429657, Training Accuracy : 0.78986, Testing Accuracy : 0.7389\n"
          ]
        },
        {
          "output_type": "stream",
          "name": "stderr",
          "text": [
            "\r 56%|█████▋    | 169/300 [2:26:02<1:53:32, 52.00s/it]"
          ]
        },
        {
          "output_type": "stream",
          "name": "stdout",
          "text": [
            "Training Loss : 0.5996950121307373, Testing Loss : 0.7568904878616333, Training Accuracy : 0.79152, Testing Accuracy : 0.7416\n"
          ]
        },
        {
          "output_type": "stream",
          "name": "stderr",
          "text": [
            "\r 57%|█████▋    | 170/300 [2:26:55<1:53:21, 52.32s/it]"
          ]
        },
        {
          "output_type": "stream",
          "name": "stdout",
          "text": [
            "Training Loss : 0.5975821217346191, Testing Loss : 0.7540211153030395, Training Accuracy : 0.79232, Testing Accuracy : 0.7412\n"
          ]
        },
        {
          "output_type": "stream",
          "name": "stderr",
          "text": [
            "\r 57%|█████▋    | 171/300 [2:27:47<1:52:32, 52.34s/it]"
          ]
        },
        {
          "output_type": "stream",
          "name": "stdout",
          "text": [
            "Training Loss : 0.5966293388366699, Testing Loss : 0.7546346893310547, Training Accuracy : 0.79208, Testing Accuracy : 0.7431\n"
          ]
        },
        {
          "output_type": "stream",
          "name": "stderr",
          "text": [
            "\r 57%|█████▋    | 172/300 [2:28:39<1:51:02, 52.05s/it]"
          ]
        },
        {
          "output_type": "stream",
          "name": "stdout",
          "text": [
            "Training Loss : 0.5957964948272705, Testing Loss : 0.7507884285449982, Training Accuracy : 0.79172, Testing Accuracy : 0.7436\n"
          ]
        },
        {
          "output_type": "stream",
          "name": "stderr",
          "text": [
            "\r 58%|█████▊    | 173/300 [2:29:31<1:50:15, 52.09s/it]"
          ]
        },
        {
          "output_type": "stream",
          "name": "stdout",
          "text": [
            "Training Loss : 0.5964646598052978, Testing Loss : 0.7539882627487182, Training Accuracy : 0.7939, Testing Accuracy : 0.7435\n"
          ]
        },
        {
          "output_type": "stream",
          "name": "stderr",
          "text": [
            "\r 58%|█████▊    | 174/300 [2:30:23<1:49:37, 52.20s/it]"
          ]
        },
        {
          "output_type": "stream",
          "name": "stdout",
          "text": [
            "Training Loss : 0.5953150811767578, Testing Loss : 0.7516456897258759, Training Accuracy : 0.79226, Testing Accuracy : 0.7431\n"
          ]
        },
        {
          "output_type": "stream",
          "name": "stderr",
          "text": [
            "\r 58%|█████▊    | 175/300 [2:31:15<1:48:20, 52.01s/it]"
          ]
        },
        {
          "output_type": "stream",
          "name": "stdout",
          "text": [
            "Training Loss : 0.5926983929443359, Testing Loss : 0.7504803943634033, Training Accuracy : 0.79412, Testing Accuracy : 0.7417\n"
          ]
        },
        {
          "output_type": "stream",
          "name": "stderr",
          "text": [
            "\r 59%|█████▊    | 176/300 [2:32:07<1:47:37, 52.08s/it]"
          ]
        },
        {
          "output_type": "stream",
          "name": "stdout",
          "text": [
            "Training Loss : 0.5920140654754639, Testing Loss : 0.7507030664920807, Training Accuracy : 0.79294, Testing Accuracy : 0.7447\n"
          ]
        },
        {
          "output_type": "stream",
          "name": "stderr",
          "text": [
            "\r 59%|█████▉    | 177/300 [2:32:59<1:46:57, 52.17s/it]"
          ]
        },
        {
          "output_type": "stream",
          "name": "stdout",
          "text": [
            "Training Loss : 0.5924142713165284, Testing Loss : 0.7510139019966126, Training Accuracy : 0.79442, Testing Accuracy : 0.7411\n"
          ]
        },
        {
          "output_type": "stream",
          "name": "stderr",
          "text": [
            "\r 59%|█████▉    | 178/300 [2:33:51<1:46:03, 52.16s/it]"
          ]
        },
        {
          "output_type": "stream",
          "name": "stdout",
          "text": [
            "Training Loss : 0.5906419395446777, Testing Loss : 0.7473683171272277, Training Accuracy : 0.79342, Testing Accuracy : 0.7433\n"
          ]
        },
        {
          "output_type": "stream",
          "name": "stderr",
          "text": [
            "\r 60%|█████▉    | 179/300 [2:34:42<1:44:25, 51.78s/it]"
          ]
        },
        {
          "output_type": "stream",
          "name": "stdout",
          "text": [
            "Training Loss : 0.5855770269012451, Testing Loss : 0.751407872390747, Training Accuracy : 0.7956, Testing Accuracy : 0.7446\n"
          ]
        },
        {
          "output_type": "stream",
          "name": "stderr",
          "text": [
            "\r 60%|██████    | 180/300 [2:35:34<1:43:34, 51.79s/it]"
          ]
        },
        {
          "output_type": "stream",
          "name": "stdout",
          "text": [
            "Training Loss : 0.5837292163848877, Testing Loss : 0.7500366930961608, Training Accuracy : 0.796, Testing Accuracy : 0.7423\n"
          ]
        },
        {
          "output_type": "stream",
          "name": "stderr",
          "text": [
            "\r 60%|██████    | 181/300 [2:36:26<1:42:51, 51.87s/it]"
          ]
        },
        {
          "output_type": "stream",
          "name": "stdout",
          "text": [
            "Training Loss : 0.5865461408233642, Testing Loss : 0.7458638042926788, Training Accuracy : 0.79618, Testing Accuracy : 0.7457\n"
          ]
        },
        {
          "output_type": "stream",
          "name": "stderr",
          "text": [
            "\r 61%|██████    | 182/300 [2:37:18<1:41:47, 51.76s/it]"
          ]
        },
        {
          "output_type": "stream",
          "name": "stdout",
          "text": [
            "Training Loss : 0.5850877934265136, Testing Loss : 0.7430187744617462, Training Accuracy : 0.79762, Testing Accuracy : 0.7442\n"
          ]
        },
        {
          "output_type": "stream",
          "name": "stderr",
          "text": [
            "\r 61%|██████    | 183/300 [2:38:10<1:41:08, 51.87s/it]"
          ]
        },
        {
          "output_type": "stream",
          "name": "stdout",
          "text": [
            "Training Loss : 0.5839141330718994, Testing Loss : 0.7486705345153809, Training Accuracy : 0.79628, Testing Accuracy : 0.7446\n"
          ]
        },
        {
          "output_type": "stream",
          "name": "stderr",
          "text": [
            "\r 61%|██████▏   | 184/300 [2:39:02<1:40:23, 51.93s/it]"
          ]
        },
        {
          "output_type": "stream",
          "name": "stdout",
          "text": [
            "Training Loss : 0.5783853332519531, Testing Loss : 0.7436869091510773, Training Accuracy : 0.7986, Testing Accuracy : 0.7453\n"
          ]
        },
        {
          "output_type": "stream",
          "name": "stderr",
          "text": [
            "\r 62%|██████▏   | 185/300 [2:39:53<1:39:05, 51.70s/it]"
          ]
        },
        {
          "output_type": "stream",
          "name": "stdout",
          "text": [
            "Training Loss : 0.5769978988647461, Testing Loss : 0.7436987771987915, Training Accuracy : 0.80028, Testing Accuracy : 0.7464\n"
          ]
        },
        {
          "output_type": "stream",
          "name": "stderr",
          "text": [
            "\r 62%|██████▏   | 186/300 [2:40:45<1:38:10, 51.67s/it]"
          ]
        },
        {
          "output_type": "stream",
          "name": "stdout",
          "text": [
            "Training Loss : 0.5766680799865722, Testing Loss : 0.7447810997009278, Training Accuracy : 0.79968, Testing Accuracy : 0.7466\n"
          ]
        },
        {
          "output_type": "stream",
          "name": "stderr",
          "text": [
            "\r 62%|██████▏   | 187/300 [2:41:36<1:37:14, 51.64s/it]"
          ]
        },
        {
          "output_type": "stream",
          "name": "stdout",
          "text": [
            "Training Loss : 0.5741072554016113, Testing Loss : 0.7408370122432709, Training Accuracy : 0.80212, Testing Accuracy : 0.7467\n"
          ]
        },
        {
          "output_type": "stream",
          "name": "stderr",
          "text": [
            "\r 63%|██████▎   | 188/300 [2:42:27<1:36:04, 51.47s/it]"
          ]
        },
        {
          "output_type": "stream",
          "name": "stdout",
          "text": [
            "Training Loss : 0.5752492360687256, Testing Loss : 0.7421512436866761, Training Accuracy : 0.79868, Testing Accuracy : 0.7442\n"
          ]
        },
        {
          "output_type": "stream",
          "name": "stderr",
          "text": [
            "\r 63%|██████▎   | 189/300 [2:43:19<1:35:14, 51.49s/it]"
          ]
        },
        {
          "output_type": "stream",
          "name": "stdout",
          "text": [
            "Training Loss : 0.5776847373199463, Testing Loss : 0.7415394486427307, Training Accuracy : 0.79902, Testing Accuracy : 0.7454\n"
          ]
        },
        {
          "output_type": "stream",
          "name": "stderr",
          "text": [
            "\r 63%|██████▎   | 190/300 [2:44:11<1:34:31, 51.56s/it]"
          ]
        },
        {
          "output_type": "stream",
          "name": "stdout",
          "text": [
            "Training Loss : 0.5733901979827881, Testing Loss : 0.7423482487678528, Training Accuracy : 0.79894, Testing Accuracy : 0.7437\n"
          ]
        },
        {
          "output_type": "stream",
          "name": "stderr",
          "text": [
            "\r 64%|██████▎   | 191/300 [2:45:01<1:33:14, 51.32s/it]"
          ]
        },
        {
          "output_type": "stream",
          "name": "stdout",
          "text": [
            "Training Loss : 0.5739572156524658, Testing Loss : 0.7418063534736633, Training Accuracy : 0.79874, Testing Accuracy : 0.7458\n"
          ]
        },
        {
          "output_type": "stream",
          "name": "stderr",
          "text": [
            "\r 64%|██████▍   | 192/300 [2:45:53<1:32:30, 51.39s/it]"
          ]
        },
        {
          "output_type": "stream",
          "name": "stdout",
          "text": [
            "Training Loss : 0.571212449874878, Testing Loss : 0.7381078717708588, Training Accuracy : 0.80074, Testing Accuracy : 0.748\n"
          ]
        },
        {
          "output_type": "stream",
          "name": "stderr",
          "text": [
            "\r 64%|██████▍   | 193/300 [2:46:44<1:31:34, 51.35s/it]"
          ]
        },
        {
          "output_type": "stream",
          "name": "stdout",
          "text": [
            "Training Loss : 0.5708727695083619, Testing Loss : 0.7401099372386932, Training Accuracy : 0.80262, Testing Accuracy : 0.7466\n"
          ]
        },
        {
          "output_type": "stream",
          "name": "stderr",
          "text": [
            "\r 65%|██████▍   | 194/300 [2:47:35<1:30:30, 51.23s/it]"
          ]
        },
        {
          "output_type": "stream",
          "name": "stdout",
          "text": [
            "Training Loss : 0.5740026821136475, Testing Loss : 0.7422475076198578, Training Accuracy : 0.8004, Testing Accuracy : 0.7465\n"
          ]
        },
        {
          "output_type": "stream",
          "name": "stderr",
          "text": [
            "\r 65%|██████▌   | 195/300 [2:48:27<1:30:02, 51.45s/it]"
          ]
        },
        {
          "output_type": "stream",
          "name": "stdout",
          "text": [
            "Training Loss : 0.5688934748077392, Testing Loss : 0.7427793495178223, Training Accuracy : 0.80278, Testing Accuracy : 0.7461\n"
          ]
        },
        {
          "output_type": "stream",
          "name": "stderr",
          "text": [
            "\r 65%|██████▌   | 196/300 [2:49:19<1:29:25, 51.59s/it]"
          ]
        },
        {
          "output_type": "stream",
          "name": "stdout",
          "text": [
            "Training Loss : 0.5653926245880126, Testing Loss : 0.7402111252784729, Training Accuracy : 0.8035, Testing Accuracy : 0.747\n"
          ]
        },
        {
          "output_type": "stream",
          "name": "stderr",
          "text": [
            "\r 66%|██████▌   | 197/300 [2:50:10<1:28:20, 51.46s/it]"
          ]
        },
        {
          "output_type": "stream",
          "name": "stdout",
          "text": [
            "Training Loss : 0.566748480758667, Testing Loss : 0.7369751336574555, Training Accuracy : 0.80216, Testing Accuracy : 0.7471\n"
          ]
        },
        {
          "output_type": "stream",
          "name": "stderr",
          "text": [
            "\r 66%|██████▌   | 198/300 [2:51:02<1:27:33, 51.50s/it]"
          ]
        },
        {
          "output_type": "stream",
          "name": "stdout",
          "text": [
            "Training Loss : 0.5636849768066406, Testing Loss : 0.7405192532539367, Training Accuracy : 0.80558, Testing Accuracy : 0.7469\n"
          ]
        },
        {
          "output_type": "stream",
          "name": "stderr",
          "text": [
            "\r 66%|██████▋   | 199/300 [2:51:53<1:26:40, 51.49s/it]"
          ]
        },
        {
          "output_type": "stream",
          "name": "stdout",
          "text": [
            "Training Loss : 0.5632931942749023, Testing Loss : 0.7367521004199982, Training Accuracy : 0.8037, Testing Accuracy : 0.7479\n"
          ]
        },
        {
          "output_type": "stream",
          "name": "stderr",
          "text": [
            "\r 67%|██████▋   | 200/300 [2:52:44<1:25:31, 51.31s/it]"
          ]
        },
        {
          "output_type": "stream",
          "name": "stdout",
          "text": [
            "Training Loss : 0.5643835237884521, Testing Loss : 0.7396342049598694, Training Accuracy : 0.80194, Testing Accuracy : 0.7463\n"
          ]
        },
        {
          "output_type": "stream",
          "name": "stderr",
          "text": [
            "\r 67%|██████▋   | 201/300 [2:53:36<1:24:47, 51.39s/it]"
          ]
        },
        {
          "output_type": "stream",
          "name": "stdout",
          "text": [
            "Training Loss : 0.5617421462249755, Testing Loss : 0.7386535752773284, Training Accuracy : 0.80528, Testing Accuracy : 0.7455\n"
          ]
        },
        {
          "output_type": "stream",
          "name": "stderr",
          "text": [
            "\r 67%|██████▋   | 202/300 [2:54:27<1:24:03, 51.47s/it]"
          ]
        },
        {
          "output_type": "stream",
          "name": "stdout",
          "text": [
            "Training Loss : 0.5609784973907471, Testing Loss : 0.7356376839637756, Training Accuracy : 0.80616, Testing Accuracy : 0.7484\n"
          ]
        },
        {
          "output_type": "stream",
          "name": "stderr",
          "text": [
            "\r 68%|██████▊   | 203/300 [2:55:18<1:22:54, 51.29s/it]"
          ]
        },
        {
          "output_type": "stream",
          "name": "stdout",
          "text": [
            "Training Loss : 0.555689328994751, Testing Loss : 0.7345695200920105, Training Accuracy : 0.80688, Testing Accuracy : 0.748\n"
          ]
        },
        {
          "output_type": "stream",
          "name": "stderr",
          "text": [
            "\r 68%|██████▊   | 204/300 [2:56:10<1:22:21, 51.48s/it]"
          ]
        },
        {
          "output_type": "stream",
          "name": "stdout",
          "text": [
            "Training Loss : 0.5559873395538331, Testing Loss : 0.7370190481662751, Training Accuracy : 0.8063, Testing Accuracy : 0.7468\n"
          ]
        },
        {
          "output_type": "stream",
          "name": "stderr",
          "text": [
            "\r 68%|██████▊   | 205/300 [2:57:02<1:21:36, 51.54s/it]"
          ]
        },
        {
          "output_type": "stream",
          "name": "stdout",
          "text": [
            "Training Loss : 0.558742223892212, Testing Loss : 0.7349719676971436, Training Accuracy : 0.80632, Testing Accuracy : 0.7474\n"
          ]
        },
        {
          "output_type": "stream",
          "name": "stderr",
          "text": [
            "\r 69%|██████▊   | 206/300 [2:57:53<1:20:41, 51.50s/it]"
          ]
        },
        {
          "output_type": "stream",
          "name": "stdout",
          "text": [
            "Training Loss : 0.556509464416504, Testing Loss : 0.7335562657356263, Training Accuracy : 0.80592, Testing Accuracy : 0.7484\n"
          ]
        },
        {
          "output_type": "stream",
          "name": "stderr",
          "text": [
            "\r 69%|██████▉   | 207/300 [2:58:46<1:20:12, 51.75s/it]"
          ]
        },
        {
          "output_type": "stream",
          "name": "stdout",
          "text": [
            "Training Loss : 0.5598419194030761, Testing Loss : 0.7328723646640778, Training Accuracy : 0.80488, Testing Accuracy : 0.7493\n"
          ]
        },
        {
          "output_type": "stream",
          "name": "stderr",
          "text": [
            "\r 69%|██████▉   | 208/300 [2:59:37<1:19:17, 51.71s/it]"
          ]
        },
        {
          "output_type": "stream",
          "name": "stdout",
          "text": [
            "Training Loss : 0.5543358125305176, Testing Loss : 0.7382353961467742, Training Accuracy : 0.80742, Testing Accuracy : 0.747\n"
          ]
        },
        {
          "output_type": "stream",
          "name": "stderr",
          "text": [
            "\r 70%|██████▉   | 209/300 [3:00:29<1:18:26, 51.72s/it]"
          ]
        },
        {
          "output_type": "stream",
          "name": "stdout",
          "text": [
            "Training Loss : 0.5567960133361817, Testing Loss : 0.7339872601509094, Training Accuracy : 0.80654, Testing Accuracy : 0.7484\n"
          ]
        },
        {
          "output_type": "stream",
          "name": "stderr",
          "text": [
            "\r 70%|███████   | 210/300 [3:01:20<1:17:21, 51.58s/it]"
          ]
        },
        {
          "output_type": "stream",
          "name": "stdout",
          "text": [
            "Training Loss : 0.5575109889221191, Testing Loss : 0.7379111841678619, Training Accuracy : 0.80552, Testing Accuracy : 0.7474\n"
          ]
        },
        {
          "output_type": "stream",
          "name": "stderr",
          "text": [
            "\r 70%|███████   | 211/300 [3:02:11<1:16:21, 51.48s/it]"
          ]
        },
        {
          "output_type": "stream",
          "name": "stdout",
          "text": [
            "Training Loss : 0.5535582650756836, Testing Loss : 0.7332428534030915, Training Accuracy : 0.8076, Testing Accuracy : 0.7488\n"
          ]
        },
        {
          "output_type": "stream",
          "name": "stderr",
          "text": [
            "\r 71%|███████   | 212/300 [3:03:02<1:15:14, 51.30s/it]"
          ]
        },
        {
          "output_type": "stream",
          "name": "stdout",
          "text": [
            "Training Loss : 0.5529251174926758, Testing Loss : 0.7331848472118377, Training Accuracy : 0.80656, Testing Accuracy : 0.7499\n"
          ]
        },
        {
          "output_type": "stream",
          "name": "stderr",
          "text": [
            "\r 71%|███████   | 213/300 [3:03:54<1:14:28, 51.36s/it]"
          ]
        },
        {
          "output_type": "stream",
          "name": "stdout",
          "text": [
            "Training Loss : 0.5521344578552246, Testing Loss : 0.7322416175365448, Training Accuracy : 0.80744, Testing Accuracy : 0.7491\n"
          ]
        },
        {
          "output_type": "stream",
          "name": "stderr",
          "text": [
            "\r 71%|███████▏  | 214/300 [3:04:45<1:13:45, 51.46s/it]"
          ]
        },
        {
          "output_type": "stream",
          "name": "stdout",
          "text": [
            "Training Loss : 0.5501396900939941, Testing Loss : 0.7338197490692139, Training Accuracy : 0.80942, Testing Accuracy : 0.7496\n"
          ]
        },
        {
          "output_type": "stream",
          "name": "stderr",
          "text": [
            "\r 72%|███████▏  | 215/300 [3:05:36<1:12:36, 51.26s/it]"
          ]
        },
        {
          "output_type": "stream",
          "name": "stdout",
          "text": [
            "Training Loss : 0.555408772277832, Testing Loss : 0.7315373587608337, Training Accuracy : 0.80728, Testing Accuracy : 0.7503\n"
          ]
        },
        {
          "output_type": "stream",
          "name": "stderr",
          "text": [
            "\r 72%|███████▏  | 216/300 [3:06:28<1:12:02, 51.46s/it]"
          ]
        },
        {
          "output_type": "stream",
          "name": "stdout",
          "text": [
            "Training Loss : 0.5499723013305664, Testing Loss : 0.7289384161949157, Training Accuracy : 0.8087, Testing Accuracy : 0.7498\n"
          ]
        },
        {
          "output_type": "stream",
          "name": "stderr",
          "text": [
            "\r 72%|███████▏  | 217/300 [3:07:20<1:11:20, 51.57s/it]"
          ]
        },
        {
          "output_type": "stream",
          "name": "stdout",
          "text": [
            "Training Loss : 0.5502906803894043, Testing Loss : 0.7323610906600952, Training Accuracy : 0.8099, Testing Accuracy : 0.7487\n"
          ]
        },
        {
          "output_type": "stream",
          "name": "stderr",
          "text": [
            "\r 73%|███████▎  | 218/300 [3:08:11<1:10:11, 51.36s/it]"
          ]
        },
        {
          "output_type": "stream",
          "name": "stdout",
          "text": [
            "Training Loss : 0.5519379167938232, Testing Loss : 0.730635938167572, Training Accuracy : 0.80882, Testing Accuracy : 0.7504\n"
          ]
        },
        {
          "output_type": "stream",
          "name": "stderr",
          "text": [
            "\r 73%|███████▎  | 219/300 [3:09:03<1:09:27, 51.45s/it]"
          ]
        },
        {
          "output_type": "stream",
          "name": "stdout",
          "text": [
            "Training Loss : 0.5495639393615722, Testing Loss : 0.7290821988582611, Training Accuracy : 0.80958, Testing Accuracy : 0.7509\n"
          ]
        },
        {
          "output_type": "stream",
          "name": "stderr",
          "text": [
            "\r 73%|███████▎  | 220/300 [3:09:54<1:08:42, 51.53s/it]"
          ]
        },
        {
          "output_type": "stream",
          "name": "stdout",
          "text": [
            "Training Loss : 0.5493247219085693, Testing Loss : 0.7306615197181702, Training Accuracy : 0.80856, Testing Accuracy : 0.7519\n"
          ]
        },
        {
          "output_type": "stream",
          "name": "stderr",
          "text": [
            "\r 74%|███████▎  | 221/300 [3:10:46<1:07:43, 51.43s/it]"
          ]
        },
        {
          "output_type": "stream",
          "name": "stdout",
          "text": [
            "Training Loss : 0.5508409716796875, Testing Loss : 0.7285486634731293, Training Accuracy : 0.80874, Testing Accuracy : 0.7509\n"
          ]
        },
        {
          "output_type": "stream",
          "name": "stderr",
          "text": [
            "\r 74%|███████▍  | 222/300 [3:11:37<1:07:00, 51.54s/it]"
          ]
        },
        {
          "output_type": "stream",
          "name": "stdout",
          "text": [
            "Training Loss : 0.5453010552978516, Testing Loss : 0.7293187219142914, Training Accuracy : 0.80962, Testing Accuracy : 0.7504\n"
          ]
        },
        {
          "output_type": "stream",
          "name": "stderr",
          "text": [
            "\r 74%|███████▍  | 223/300 [3:12:29<1:06:16, 51.64s/it]"
          ]
        },
        {
          "output_type": "stream",
          "name": "stdout",
          "text": [
            "Training Loss : 0.5439342929077149, Testing Loss : 0.7280285910129547, Training Accuracy : 0.81088, Testing Accuracy : 0.7525\n"
          ]
        },
        {
          "output_type": "stream",
          "name": "stderr",
          "text": [
            "\r 75%|███████▍  | 224/300 [3:13:20<1:05:12, 51.48s/it]"
          ]
        },
        {
          "output_type": "stream",
          "name": "stdout",
          "text": [
            "Training Loss : 0.5465311709594727, Testing Loss : 0.7285967005252838, Training Accuracy : 0.8093, Testing Accuracy : 0.7501\n"
          ]
        },
        {
          "output_type": "stream",
          "name": "stderr",
          "text": [
            "\r 75%|███████▌  | 225/300 [3:14:12<1:04:30, 51.60s/it]"
          ]
        },
        {
          "output_type": "stream",
          "name": "stdout",
          "text": [
            "Training Loss : 0.5437541773986816, Testing Loss : 0.7303741005897522, Training Accuracy : 0.81288, Testing Accuracy : 0.7504\n"
          ]
        },
        {
          "output_type": "stream",
          "name": "stderr",
          "text": [
            "\r 75%|███████▌  | 226/300 [3:15:05<1:04:02, 51.92s/it]"
          ]
        },
        {
          "output_type": "stream",
          "name": "stdout",
          "text": [
            "Training Loss : 0.5420999011230468, Testing Loss : 0.7310445878982544, Training Accuracy : 0.81222, Testing Accuracy : 0.7489\n"
          ]
        },
        {
          "output_type": "stream",
          "name": "stderr",
          "text": [
            "\r 76%|███████▌  | 227/300 [3:15:56<1:03:01, 51.80s/it]"
          ]
        },
        {
          "output_type": "stream",
          "name": "stdout",
          "text": [
            "Training Loss : 0.5452809269714356, Testing Loss : 0.7294026520252228, Training Accuracy : 0.80816, Testing Accuracy : 0.7526\n"
          ]
        },
        {
          "output_type": "stream",
          "name": "stderr",
          "text": [
            "\r 76%|███████▌  | 228/300 [3:16:48<1:02:16, 51.90s/it]"
          ]
        },
        {
          "output_type": "stream",
          "name": "stdout",
          "text": [
            "Training Loss : 0.5415382562255859, Testing Loss : 0.7290093338012695, Training Accuracy : 0.81092, Testing Accuracy : 0.7529\n"
          ]
        },
        {
          "output_type": "stream",
          "name": "stderr",
          "text": [
            "\r 76%|███████▋  | 229/300 [3:17:41<1:01:36, 52.06s/it]"
          ]
        },
        {
          "output_type": "stream",
          "name": "stdout",
          "text": [
            "Training Loss : 0.5388096965026855, Testing Loss : 0.7266996584892272, Training Accuracy : 0.81172, Testing Accuracy : 0.7507\n"
          ]
        },
        {
          "output_type": "stream",
          "name": "stderr",
          "text": [
            "\r 77%|███████▋  | 230/300 [3:18:32<1:00:29, 51.86s/it]"
          ]
        },
        {
          "output_type": "stream",
          "name": "stdout",
          "text": [
            "Training Loss : 0.5391953239440918, Testing Loss : 0.7283105129241944, Training Accuracy : 0.8111, Testing Accuracy : 0.7525\n"
          ]
        },
        {
          "output_type": "stream",
          "name": "stderr",
          "text": [
            "\r 77%|███████▋  | 231/300 [3:19:24<59:43, 51.94s/it]  "
          ]
        },
        {
          "output_type": "stream",
          "name": "stdout",
          "text": [
            "Training Loss : 0.5402540323638916, Testing Loss : 0.7262706237316131, Training Accuracy : 0.81032, Testing Accuracy : 0.7516\n"
          ]
        },
        {
          "output_type": "stream",
          "name": "stderr",
          "text": [
            "\r 77%|███████▋  | 232/300 [3:20:16<58:51, 51.93s/it]"
          ]
        },
        {
          "output_type": "stream",
          "name": "stdout",
          "text": [
            "Training Loss : 0.5395408419036866, Testing Loss : 0.7309688320636749, Training Accuracy : 0.8106, Testing Accuracy : 0.7504\n"
          ]
        },
        {
          "output_type": "stream",
          "name": "stderr",
          "text": [
            "\r 78%|███████▊  | 233/300 [3:21:07<57:43, 51.70s/it]"
          ]
        },
        {
          "output_type": "stream",
          "name": "stdout",
          "text": [
            "Training Loss : 0.5400442029571533, Testing Loss : 0.7255270185470581, Training Accuracy : 0.8119, Testing Accuracy : 0.7504\n"
          ]
        },
        {
          "output_type": "stream",
          "name": "stderr",
          "text": [
            "\r 78%|███████▊  | 234/300 [3:22:00<56:59, 51.82s/it]"
          ]
        },
        {
          "output_type": "stream",
          "name": "stdout",
          "text": [
            "Training Loss : 0.5374506092834472, Testing Loss : 0.7261676687717438, Training Accuracy : 0.81222, Testing Accuracy : 0.7523\n"
          ]
        },
        {
          "output_type": "stream",
          "name": "stderr",
          "text": [
            "\r 78%|███████▊  | 235/300 [3:22:52<56:20, 52.00s/it]"
          ]
        },
        {
          "output_type": "stream",
          "name": "stdout",
          "text": [
            "Training Loss : 0.5392829465103149, Testing Loss : 0.7260795965671539, Training Accuracy : 0.81182, Testing Accuracy : 0.7523\n"
          ]
        },
        {
          "output_type": "stream",
          "name": "stderr",
          "text": [
            "\r 79%|███████▊  | 236/300 [3:23:44<55:18, 51.85s/it]"
          ]
        },
        {
          "output_type": "stream",
          "name": "stdout",
          "text": [
            "Training Loss : 0.5407634764099121, Testing Loss : 0.7277666614055633, Training Accuracy : 0.8115, Testing Accuracy : 0.7508\n"
          ]
        },
        {
          "output_type": "stream",
          "name": "stderr",
          "text": [
            "\r 79%|███████▉  | 237/300 [3:24:36<54:34, 51.97s/it]"
          ]
        },
        {
          "output_type": "stream",
          "name": "stdout",
          "text": [
            "Training Loss : 0.5364729180145263, Testing Loss : 0.7276045772552491, Training Accuracy : 0.81448, Testing Accuracy : 0.7499\n"
          ]
        },
        {
          "output_type": "stream",
          "name": "stderr",
          "text": [
            "\r 79%|███████▉  | 238/300 [3:25:28<53:44, 52.02s/it]"
          ]
        },
        {
          "output_type": "stream",
          "name": "stdout",
          "text": [
            "Training Loss : 0.5378822114562988, Testing Loss : 0.7269744907855987, Training Accuracy : 0.81248, Testing Accuracy : 0.7523\n"
          ]
        },
        {
          "output_type": "stream",
          "name": "stderr",
          "text": [
            "\r 80%|███████▉  | 239/300 [3:26:19<52:34, 51.71s/it]"
          ]
        },
        {
          "output_type": "stream",
          "name": "stdout",
          "text": [
            "Training Loss : 0.5379065439605712, Testing Loss : 0.7264815457344055, Training Accuracy : 0.81146, Testing Accuracy : 0.7521\n"
          ]
        },
        {
          "output_type": "stream",
          "name": "stderr",
          "text": [
            "\r 80%|████████  | 240/300 [3:27:11<51:47, 51.79s/it]"
          ]
        },
        {
          "output_type": "stream",
          "name": "stdout",
          "text": [
            "Training Loss : 0.5354925579833985, Testing Loss : 0.724833454322815, Training Accuracy : 0.81252, Testing Accuracy : 0.7526\n"
          ]
        },
        {
          "output_type": "stream",
          "name": "stderr",
          "text": [
            "\r 80%|████████  | 241/300 [3:28:03<51:01, 51.88s/it]"
          ]
        },
        {
          "output_type": "stream",
          "name": "stdout",
          "text": [
            "Training Loss : 0.5365601551818847, Testing Loss : 0.7240631539344787, Training Accuracy : 0.81334, Testing Accuracy : 0.753\n"
          ]
        },
        {
          "output_type": "stream",
          "name": "stderr",
          "text": [
            "\r 81%|████████  | 242/300 [3:28:54<49:58, 51.69s/it]"
          ]
        },
        {
          "output_type": "stream",
          "name": "stdout",
          "text": [
            "Training Loss : 0.5316081612396241, Testing Loss : 0.7245356646060943, Training Accuracy : 0.81602, Testing Accuracy : 0.754\n"
          ]
        },
        {
          "output_type": "stream",
          "name": "stderr",
          "text": [
            "\r 81%|████████  | 243/300 [3:29:46<49:16, 51.86s/it]"
          ]
        },
        {
          "output_type": "stream",
          "name": "stdout",
          "text": [
            "Training Loss : 0.5367434603118897, Testing Loss : 0.7255007013320923, Training Accuracy : 0.81496, Testing Accuracy : 0.7521\n"
          ]
        },
        {
          "output_type": "stream",
          "name": "stderr",
          "text": [
            "\r 81%|████████▏ | 244/300 [3:30:38<48:26, 51.90s/it]"
          ]
        },
        {
          "output_type": "stream",
          "name": "stdout",
          "text": [
            "Training Loss : 0.5398796863555908, Testing Loss : 0.723655391073227, Training Accuracy : 0.81286, Testing Accuracy : 0.7546\n"
          ]
        },
        {
          "output_type": "stream",
          "name": "stderr",
          "text": [
            "\r 82%|████████▏ | 245/300 [3:31:29<47:18, 51.62s/it]"
          ]
        },
        {
          "output_type": "stream",
          "name": "stdout",
          "text": [
            "Training Loss : 0.5328421145629882, Testing Loss : 0.7244967077732086, Training Accuracy : 0.81532, Testing Accuracy : 0.7527\n"
          ]
        },
        {
          "output_type": "stream",
          "name": "stderr",
          "text": [
            "\r 82%|████████▏ | 246/300 [3:32:21<46:35, 51.76s/it]"
          ]
        },
        {
          "output_type": "stream",
          "name": "stdout",
          "text": [
            "Training Loss : 0.5335491781616211, Testing Loss : 0.7237378364562989, Training Accuracy : 0.81476, Testing Accuracy : 0.7534\n"
          ]
        },
        {
          "output_type": "stream",
          "name": "stderr",
          "text": [
            "\r 82%|████████▏ | 247/300 [3:33:13<45:44, 51.79s/it]"
          ]
        },
        {
          "output_type": "stream",
          "name": "stdout",
          "text": [
            "Training Loss : 0.5288028695678711, Testing Loss : 0.7245239873409272, Training Accuracy : 0.81616, Testing Accuracy : 0.7535\n"
          ]
        },
        {
          "output_type": "stream",
          "name": "stderr",
          "text": [
            "\r 83%|████████▎ | 248/300 [3:34:05<44:44, 51.63s/it]"
          ]
        },
        {
          "output_type": "stream",
          "name": "stdout",
          "text": [
            "Training Loss : 0.5299453258514404, Testing Loss : 0.7234393569946289, Training Accuracy : 0.81684, Testing Accuracy : 0.7541\n"
          ]
        },
        {
          "output_type": "stream",
          "name": "stderr",
          "text": [
            "\r 83%|████████▎ | 249/300 [3:34:57<43:59, 51.76s/it]"
          ]
        },
        {
          "output_type": "stream",
          "name": "stdout",
          "text": [
            "Training Loss : 0.536722269668579, Testing Loss : 0.7237580746173858, Training Accuracy : 0.81352, Testing Accuracy : 0.7544\n"
          ]
        },
        {
          "output_type": "stream",
          "name": "stderr",
          "text": [
            "\r 83%|████████▎ | 250/300 [3:35:49<43:15, 51.91s/it]"
          ]
        },
        {
          "output_type": "stream",
          "name": "stdout",
          "text": [
            "Training Loss : 0.5334728505706787, Testing Loss : 0.7241987561225891, Training Accuracy : 0.81554, Testing Accuracy : 0.7538\n"
          ]
        },
        {
          "output_type": "stream",
          "name": "stderr",
          "text": [
            "\r 84%|████████▎ | 251/300 [3:36:40<42:14, 51.72s/it]"
          ]
        },
        {
          "output_type": "stream",
          "name": "stdout",
          "text": [
            "Training Loss : 0.5315838188171387, Testing Loss : 0.723238652896881, Training Accuracy : 0.81394, Testing Accuracy : 0.7548\n"
          ]
        },
        {
          "output_type": "stream",
          "name": "stderr",
          "text": [
            "\r 84%|████████▍ | 252/300 [3:37:32<41:23, 51.74s/it]"
          ]
        },
        {
          "output_type": "stream",
          "name": "stdout",
          "text": [
            "Training Loss : 0.5303538816833496, Testing Loss : 0.7218820837974549, Training Accuracy : 0.81428, Testing Accuracy : 0.7562\n"
          ]
        },
        {
          "output_type": "stream",
          "name": "stderr",
          "text": [
            "\r 84%|████████▍ | 253/300 [3:38:24<40:33, 51.78s/it]"
          ]
        },
        {
          "output_type": "stream",
          "name": "stdout",
          "text": [
            "Training Loss : 0.530984977722168, Testing Loss : 0.722178482055664, Training Accuracy : 0.81372, Testing Accuracy : 0.7532\n"
          ]
        },
        {
          "output_type": "stream",
          "name": "stderr",
          "text": [
            "\r 85%|████████▍ | 254/300 [3:39:15<39:35, 51.64s/it]"
          ]
        },
        {
          "output_type": "stream",
          "name": "stdout",
          "text": [
            "Training Loss : 0.5296695864105224, Testing Loss : 0.724532053899765, Training Accuracy : 0.8156, Testing Accuracy : 0.754\n"
          ]
        },
        {
          "output_type": "stream",
          "name": "stderr",
          "text": [
            "\r 85%|████████▌ | 255/300 [3:40:07<38:43, 51.63s/it]"
          ]
        },
        {
          "output_type": "stream",
          "name": "stdout",
          "text": [
            "Training Loss : 0.5296282250213623, Testing Loss : 0.7219169945716858, Training Accuracy : 0.81506, Testing Accuracy : 0.754\n"
          ]
        },
        {
          "output_type": "stream",
          "name": "stderr",
          "text": [
            "\r 85%|████████▌ | 256/300 [3:40:58<37:52, 51.65s/it]"
          ]
        },
        {
          "output_type": "stream",
          "name": "stdout",
          "text": [
            "Training Loss : 0.5288636022186279, Testing Loss : 0.722880678844452, Training Accuracy : 0.81686, Testing Accuracy : 0.7526\n"
          ]
        },
        {
          "output_type": "stream",
          "name": "stderr",
          "text": [
            "\r 86%|████████▌ | 257/300 [3:41:50<36:54, 51.50s/it]"
          ]
        },
        {
          "output_type": "stream",
          "name": "stdout",
          "text": [
            "Training Loss : 0.5302314849090576, Testing Loss : 0.7221141076087951, Training Accuracy : 0.81582, Testing Accuracy : 0.7536\n"
          ]
        },
        {
          "output_type": "stream",
          "name": "stderr",
          "text": [
            "\r 86%|████████▌ | 258/300 [3:42:41<36:02, 51.48s/it]"
          ]
        },
        {
          "output_type": "stream",
          "name": "stdout",
          "text": [
            "Training Loss : 0.5269983541107178, Testing Loss : 0.7251783792495727, Training Accuracy : 0.8159, Testing Accuracy : 0.7532\n"
          ]
        },
        {
          "output_type": "stream",
          "name": "stderr",
          "text": [
            "\r 86%|████████▋ | 259/300 [3:43:34<35:27, 51.88s/it]"
          ]
        },
        {
          "output_type": "stream",
          "name": "stdout",
          "text": [
            "Training Loss : 0.5234844978332519, Testing Loss : 0.7243002165317536, Training Accuracy : 0.8185, Testing Accuracy : 0.7527\n"
          ]
        },
        {
          "output_type": "stream",
          "name": "stderr",
          "text": [
            "\r 87%|████████▋ | 260/300 [3:44:27<34:46, 52.15s/it]"
          ]
        },
        {
          "output_type": "stream",
          "name": "stdout",
          "text": [
            "Training Loss : 0.5295895686340332, Testing Loss : 0.7230228434562683, Training Accuracy : 0.81588, Testing Accuracy : 0.7511\n"
          ]
        },
        {
          "output_type": "stream",
          "name": "stderr",
          "text": [
            "\r 87%|████████▋ | 261/300 [3:45:20<34:08, 52.53s/it]"
          ]
        },
        {
          "output_type": "stream",
          "name": "stdout",
          "text": [
            "Training Loss : 0.5242036417388916, Testing Loss : 0.7219674731731415, Training Accuracy : 0.81752, Testing Accuracy : 0.753\n"
          ]
        },
        {
          "output_type": "stream",
          "name": "stderr",
          "text": [
            "\r 87%|████████▋ | 262/300 [3:46:12<33:11, 52.41s/it]"
          ]
        },
        {
          "output_type": "stream",
          "name": "stdout",
          "text": [
            "Training Loss : 0.5295034020233155, Testing Loss : 0.7227299841403961, Training Accuracy : 0.81544, Testing Accuracy : 0.7543\n"
          ]
        },
        {
          "output_type": "stream",
          "name": "stderr",
          "text": [
            "\r 88%|████████▊ | 263/300 [3:47:05<32:24, 52.55s/it]"
          ]
        },
        {
          "output_type": "stream",
          "name": "stdout",
          "text": [
            "Training Loss : 0.5271530016326904, Testing Loss : 0.7224538014888764, Training Accuracy : 0.81472, Testing Accuracy : 0.7523\n"
          ]
        },
        {
          "output_type": "stream",
          "name": "stderr",
          "text": [
            "\r 88%|████████▊ | 264/300 [3:47:57<31:23, 52.31s/it]"
          ]
        },
        {
          "output_type": "stream",
          "name": "stdout",
          "text": [
            "Training Loss : 0.525967679901123, Testing Loss : 0.7269585051059723, Training Accuracy : 0.81788, Testing Accuracy : 0.7531\n"
          ]
        },
        {
          "output_type": "stream",
          "name": "stderr",
          "text": [
            "\r 88%|████████▊ | 265/300 [3:48:49<30:27, 52.22s/it]"
          ]
        },
        {
          "output_type": "stream",
          "name": "stdout",
          "text": [
            "Training Loss : 0.526448166885376, Testing Loss : 0.7226627879142761, Training Accuracy : 0.81658, Testing Accuracy : 0.7522\n"
          ]
        },
        {
          "output_type": "stream",
          "name": "stderr",
          "text": [
            "\r 89%|████████▊ | 266/300 [3:49:41<29:36, 52.24s/it]"
          ]
        },
        {
          "output_type": "stream",
          "name": "stdout",
          "text": [
            "Training Loss : 0.527202204208374, Testing Loss : 0.7226114688873291, Training Accuracy : 0.81742, Testing Accuracy : 0.7534\n"
          ]
        },
        {
          "output_type": "stream",
          "name": "stderr",
          "text": [
            "\r 89%|████████▉ | 267/300 [3:50:32<28:32, 51.90s/it]"
          ]
        },
        {
          "output_type": "stream",
          "name": "stdout",
          "text": [
            "Training Loss : 0.5256145510864257, Testing Loss : 0.7203925126552582, Training Accuracy : 0.81774, Testing Accuracy : 0.7535\n"
          ]
        },
        {
          "output_type": "stream",
          "name": "stderr",
          "text": [
            "\r 89%|████████▉ | 268/300 [3:51:24<27:36, 51.76s/it]"
          ]
        },
        {
          "output_type": "stream",
          "name": "stdout",
          "text": [
            "Training Loss : 0.5238948811340332, Testing Loss : 0.7205493521690368, Training Accuracy : 0.81724, Testing Accuracy : 0.7541\n"
          ]
        },
        {
          "output_type": "stream",
          "name": "stderr",
          "text": [
            "\r 90%|████████▉ | 269/300 [3:52:17<26:57, 52.18s/it]"
          ]
        },
        {
          "output_type": "stream",
          "name": "stdout",
          "text": [
            "Training Loss : 0.5249511246490478, Testing Loss : 0.7228584589004516, Training Accuracy : 0.81632, Testing Accuracy : 0.7534\n"
          ]
        },
        {
          "output_type": "stream",
          "name": "stderr",
          "text": [
            "\r 90%|█████████ | 270/300 [3:53:08<26:00, 52.00s/it]"
          ]
        },
        {
          "output_type": "stream",
          "name": "stdout",
          "text": [
            "Training Loss : 0.5197812713623047, Testing Loss : 0.7204909152507782, Training Accuracy : 0.82112, Testing Accuracy : 0.7539\n"
          ]
        },
        {
          "output_type": "stream",
          "name": "stderr",
          "text": [
            "\r 90%|█████████ | 271/300 [3:54:00<25:06, 51.96s/it]"
          ]
        },
        {
          "output_type": "stream",
          "name": "stdout",
          "text": [
            "Training Loss : 0.5243725959014892, Testing Loss : 0.7207136933326721, Training Accuracy : 0.81768, Testing Accuracy : 0.7557\n"
          ]
        },
        {
          "output_type": "stream",
          "name": "stderr",
          "text": [
            "\r 91%|█████████ | 272/300 [3:54:53<24:24, 52.32s/it]"
          ]
        },
        {
          "output_type": "stream",
          "name": "stdout",
          "text": [
            "Training Loss : 0.5229091888427735, Testing Loss : 0.7201496270179748, Training Accuracy : 0.81958, Testing Accuracy : 0.7531\n"
          ]
        },
        {
          "output_type": "stream",
          "name": "stderr",
          "text": [
            "\r 91%|█████████ | 273/300 [3:55:45<23:27, 52.13s/it]"
          ]
        },
        {
          "output_type": "stream",
          "name": "stdout",
          "text": [
            "Training Loss : 0.5199211405944825, Testing Loss : 0.7208912141323089, Training Accuracy : 0.82028, Testing Accuracy : 0.7525\n"
          ]
        },
        {
          "output_type": "stream",
          "name": "stderr",
          "text": [
            "\r 91%|█████████▏| 274/300 [3:56:37<22:35, 52.14s/it]"
          ]
        },
        {
          "output_type": "stream",
          "name": "stdout",
          "text": [
            "Training Loss : 0.5233039277648925, Testing Loss : 0.7210268091201782, Training Accuracy : 0.81902, Testing Accuracy : 0.7535\n"
          ]
        },
        {
          "output_type": "stream",
          "name": "stderr",
          "text": [
            "\r 92%|█████████▏| 275/300 [3:57:30<21:48, 52.35s/it]"
          ]
        },
        {
          "output_type": "stream",
          "name": "stdout",
          "text": [
            "Training Loss : 0.5201033264160156, Testing Loss : 0.7217312747478485, Training Accuracy : 0.81818, Testing Accuracy : 0.7537\n"
          ]
        },
        {
          "output_type": "stream",
          "name": "stderr",
          "text": [
            "\r 92%|█████████▏| 276/300 [3:58:22<20:50, 52.12s/it]"
          ]
        },
        {
          "output_type": "stream",
          "name": "stdout",
          "text": [
            "Training Loss : 0.5207027841949463, Testing Loss : 0.7199962153911591, Training Accuracy : 0.81842, Testing Accuracy : 0.7537\n"
          ]
        },
        {
          "output_type": "stream",
          "name": "stderr",
          "text": [
            "\r 92%|█████████▏| 277/300 [3:59:14<20:00, 52.19s/it]"
          ]
        },
        {
          "output_type": "stream",
          "name": "stdout",
          "text": [
            "Training Loss : 0.5212011118316651, Testing Loss : 0.7200637726783753, Training Accuracy : 0.81766, Testing Accuracy : 0.7547\n"
          ]
        },
        {
          "output_type": "stream",
          "name": "stderr",
          "text": [
            "\r 93%|█████████▎| 278/300 [4:00:06<19:08, 52.21s/it]"
          ]
        },
        {
          "output_type": "stream",
          "name": "stdout",
          "text": [
            "Training Loss : 0.5189762901306152, Testing Loss : 0.722559945344925, Training Accuracy : 0.82064, Testing Accuracy : 0.7546\n"
          ]
        },
        {
          "output_type": "stream",
          "name": "stderr",
          "text": [
            "\r 93%|█████████▎| 279/300 [4:00:58<18:10, 51.94s/it]"
          ]
        },
        {
          "output_type": "stream",
          "name": "stdout",
          "text": [
            "Training Loss : 0.5175838941192626, Testing Loss : 0.7209029875278473, Training Accuracy : 0.81994, Testing Accuracy : 0.7542\n"
          ]
        },
        {
          "output_type": "stream",
          "name": "stderr",
          "text": [
            "\r 93%|█████████▎| 280/300 [4:01:50<17:21, 52.06s/it]"
          ]
        },
        {
          "output_type": "stream",
          "name": "stdout",
          "text": [
            "Training Loss : 0.5231870544433593, Testing Loss : 0.7232957612991333, Training Accuracy : 0.8184, Testing Accuracy : 0.7557\n"
          ]
        },
        {
          "output_type": "stream",
          "name": "stderr",
          "text": [
            "\r 94%|█████████▎| 281/300 [4:02:42<16:27, 51.96s/it]"
          ]
        },
        {
          "output_type": "stream",
          "name": "stdout",
          "text": [
            "Training Loss : 0.5214292402648926, Testing Loss : 0.7212178409576416, Training Accuracy : 0.81944, Testing Accuracy : 0.7554\n"
          ]
        },
        {
          "output_type": "stream",
          "name": "stderr",
          "text": [
            "\r 94%|█████████▍| 282/300 [4:03:33<15:30, 51.69s/it]"
          ]
        },
        {
          "output_type": "stream",
          "name": "stdout",
          "text": [
            "Training Loss : 0.5190781694793701, Testing Loss : 0.7217596880435944, Training Accuracy : 0.81948, Testing Accuracy : 0.754\n"
          ]
        },
        {
          "output_type": "stream",
          "name": "stderr",
          "text": [
            "\r 94%|█████████▍| 283/300 [4:04:25<14:39, 51.76s/it]"
          ]
        },
        {
          "output_type": "stream",
          "name": "stdout",
          "text": [
            "Training Loss : 0.519767861328125, Testing Loss : 0.7202742505073547, Training Accuracy : 0.8193, Testing Accuracy : 0.7548\n"
          ]
        },
        {
          "output_type": "stream",
          "name": "stderr",
          "text": [
            "\r 95%|█████████▍| 284/300 [4:05:17<13:48, 51.78s/it]"
          ]
        },
        {
          "output_type": "stream",
          "name": "stdout",
          "text": [
            "Training Loss : 0.5196378798675537, Testing Loss : 0.7202192903518677, Training Accuracy : 0.82038, Testing Accuracy : 0.7543\n"
          ]
        },
        {
          "output_type": "stream",
          "name": "stderr",
          "text": [
            "\r 95%|█████████▌| 285/300 [4:06:08<12:54, 51.61s/it]"
          ]
        },
        {
          "output_type": "stream",
          "name": "stdout",
          "text": [
            "Training Loss : 0.5147596120071412, Testing Loss : 0.7199161007881164, Training Accuracy : 0.82108, Testing Accuracy : 0.7551\n"
          ]
        },
        {
          "output_type": "stream",
          "name": "stderr",
          "text": [
            "\r 95%|█████████▌| 286/300 [4:06:59<12:02, 51.63s/it]"
          ]
        },
        {
          "output_type": "stream",
          "name": "stdout",
          "text": [
            "Training Loss : 0.5212698266601562, Testing Loss : 0.7178469490528107, Training Accuracy : 0.81834, Testing Accuracy : 0.7563\n"
          ]
        },
        {
          "output_type": "stream",
          "name": "stderr",
          "text": [
            "\r 96%|█████████▌| 287/300 [4:07:51<11:10, 51.61s/it]"
          ]
        },
        {
          "output_type": "stream",
          "name": "stdout",
          "text": [
            "Training Loss : 0.5191083152770997, Testing Loss : 0.7178165232658387, Training Accuracy : 0.82008, Testing Accuracy : 0.7561\n"
          ]
        },
        {
          "output_type": "stream",
          "name": "stderr",
          "text": [
            "\r 96%|█████████▌| 288/300 [4:08:42<10:17, 51.42s/it]"
          ]
        },
        {
          "output_type": "stream",
          "name": "stdout",
          "text": [
            "Training Loss : 0.5160406899261475, Testing Loss : 0.7191216518402099, Training Accuracy : 0.82094, Testing Accuracy : 0.7532\n"
          ]
        },
        {
          "output_type": "stream",
          "name": "stderr",
          "text": [
            "\r 96%|█████████▋| 289/300 [4:09:33<09:25, 51.44s/it]"
          ]
        },
        {
          "output_type": "stream",
          "name": "stdout",
          "text": [
            "Training Loss : 0.5165945455169678, Testing Loss : 0.7186889680862427, Training Accuracy : 0.82088, Testing Accuracy : 0.7562\n"
          ]
        },
        {
          "output_type": "stream",
          "name": "stderr",
          "text": [
            "\r 97%|█████████▋| 290/300 [4:10:25<08:35, 51.54s/it]"
          ]
        },
        {
          "output_type": "stream",
          "name": "stdout",
          "text": [
            "Training Loss : 0.5188279246520996, Testing Loss : 0.7214446084022522, Training Accuracy : 0.81864, Testing Accuracy : 0.7557\n"
          ]
        },
        {
          "output_type": "stream",
          "name": "stderr",
          "text": [
            "\r 97%|█████████▋| 291/300 [4:11:16<07:42, 51.40s/it]"
          ]
        },
        {
          "output_type": "stream",
          "name": "stdout",
          "text": [
            "Training Loss : 0.5133235363006592, Testing Loss : 0.7200361176013946, Training Accuracy : 0.81986, Testing Accuracy : 0.7572\n"
          ]
        },
        {
          "output_type": "stream",
          "name": "stderr",
          "text": [
            "\r 97%|█████████▋| 292/300 [4:12:08<06:50, 51.36s/it]"
          ]
        },
        {
          "output_type": "stream",
          "name": "stdout",
          "text": [
            "Training Loss : 0.5163669821166992, Testing Loss : 0.719260885477066, Training Accuracy : 0.8212, Testing Accuracy : 0.754\n"
          ]
        },
        {
          "output_type": "stream",
          "name": "stderr",
          "text": [
            "\r 98%|█████████▊| 293/300 [4:12:59<06:00, 51.43s/it]"
          ]
        },
        {
          "output_type": "stream",
          "name": "stdout",
          "text": [
            "Training Loss : 0.5153334563446045, Testing Loss : 0.7188194784641266, Training Accuracy : 0.82098, Testing Accuracy : 0.7563\n"
          ]
        },
        {
          "output_type": "stream",
          "name": "stderr",
          "text": [
            "\r 98%|█████████▊| 294/300 [4:13:50<05:07, 51.25s/it]"
          ]
        },
        {
          "output_type": "stream",
          "name": "stdout",
          "text": [
            "Training Loss : 0.5173708248138428, Testing Loss : 0.7195120042800903, Training Accuracy : 0.8194, Testing Accuracy : 0.7542\n"
          ]
        },
        {
          "output_type": "stream",
          "name": "stderr",
          "text": [
            "\r 98%|█████████▊| 295/300 [4:14:42<04:16, 51.36s/it]"
          ]
        },
        {
          "output_type": "stream",
          "name": "stdout",
          "text": [
            "Training Loss : 0.51390779296875, Testing Loss : 0.7181234461307525, Training Accuracy : 0.82318, Testing Accuracy : 0.7546\n"
          ]
        },
        {
          "output_type": "stream",
          "name": "stderr",
          "text": [
            "\r 99%|█████████▊| 296/300 [4:15:33<03:25, 51.46s/it]"
          ]
        },
        {
          "output_type": "stream",
          "name": "stdout",
          "text": [
            "Training Loss : 0.519036547241211, Testing Loss : 0.7184048498153687, Training Accuracy : 0.81896, Testing Accuracy : 0.7549\n"
          ]
        },
        {
          "output_type": "stream",
          "name": "stderr",
          "text": [
            "\r 99%|█████████▉| 297/300 [4:16:24<02:33, 51.32s/it]"
          ]
        },
        {
          "output_type": "stream",
          "name": "stdout",
          "text": [
            "Training Loss : 0.5149884439849853, Testing Loss : 0.7173306464195252, Training Accuracy : 0.82024, Testing Accuracy : 0.7562\n"
          ]
        },
        {
          "output_type": "stream",
          "name": "stderr",
          "text": [
            "\r 99%|█████████▉| 298/300 [4:17:16<01:42, 51.36s/it]"
          ]
        },
        {
          "output_type": "stream",
          "name": "stdout",
          "text": [
            "Training Loss : 0.5178519683074951, Testing Loss : 0.7184451131343842, Training Accuracy : 0.8202, Testing Accuracy : 0.7554\n"
          ]
        },
        {
          "output_type": "stream",
          "name": "stderr",
          "text": [
            "\r100%|█████████▉| 299/300 [4:18:07<00:51, 51.33s/it]"
          ]
        },
        {
          "output_type": "stream",
          "name": "stdout",
          "text": [
            "Training Loss : 0.5143584937286377, Testing Loss : 0.7163005756855011, Training Accuracy : 0.82052, Testing Accuracy : 0.7552\n"
          ]
        },
        {
          "output_type": "stream",
          "name": "stderr",
          "text": [
            "100%|██████████| 300/300 [4:18:58<00:00, 51.79s/it]"
          ]
        },
        {
          "output_type": "stream",
          "name": "stdout",
          "text": [
            "Training Loss : 0.5170489376068115, Testing Loss : 0.717925022315979, Training Accuracy : 0.8192, Testing Accuracy : 0.7559\n"
          ]
        },
        {
          "output_type": "stream",
          "name": "stderr",
          "text": [
            "\n"
          ]
        }
      ]
    },
    {
      "cell_type": "code",
      "source": [
        "print(\"Maximum Testing Accuracy: %s\"%(max(test_accuracy)))\n",
        "xmax = np.argmax(test_accuracy)\n",
        "ymax = max(test_accuracy)"
      ],
      "metadata": {
        "id": "1_YJ9MmRgS1C",
        "colab": {
          "base_uri": "https://localhost:8080/"
        },
        "outputId": "64c895fa-c75d-478b-df79-d481babc6609"
      },
      "execution_count": null,
      "outputs": [
        {
          "output_type": "stream",
          "name": "stdout",
          "text": [
            "Maximum Testing Accuracy: 0.7572\n"
          ]
        }
      ]
    },
    {
      "cell_type": "markdown",
      "source": [
        "Plotting the graph for train loss vs test loss and also for train accuracy vs test accuracy.\n",
        "\n"
      ],
      "metadata": {
        "id": "sfs_D1c-6jnP"
      }
    },
    {
      "cell_type": "code",
      "source": [
        "# Create a figure object with two subplots, with a size of 20 by 10.\n",
        "f, (fig1, fig2) = plt.subplots(1, 2, figsize=(20, 10))\n",
        "\n",
        "# Set the number of data points in the training data to n.\n",
        "n = len(train_loss)\n",
        "\n",
        "# Plot the training loss and testing loss against the number of epochs on the first subplot.\n",
        "fig1.plot(range(n), train_loss, '-', linewidth='3', label='Train Error')\n",
        "fig1.plot(range(n), test_loss, '-', linewidth='3', label='Test Error')\n",
        "\n",
        "# Plot the training accuracy and testing accuracy against the number of epochs on the second subplot.\n",
        "fig2.plot(range(n), train_accuracy, '-', linewidth='3', label='Train Accuracy')\n",
        "fig2.plot(range(n), test_accuracy, '-', linewidth='3', label='Test Acuracy')\n",
        "\n",
        "# Annotate the maximum accuracy achieved with an arrow on the second subplot.\n",
        "fig2.annotate('max accuracy = %s'%(ymax), xy=(xmax, ymax), xytext=(xmax, ymax+0.15), arrowprops=dict(facecolor='black', shrink=0.05))\n",
        "\n",
        "# Turn on the grid lines for both subplots.\n",
        "fig1.grid(True)\n",
        "fig2.grid(True)\n",
        "\n",
        "# Add legends to both subplots.\n",
        "fig1.legend()\n",
        "fig2.legend()\n",
        "\n",
        "# Save the figure to a file named \"trainTestCurve.png\".\n",
        "f.savefig(\"./trainTestCurve.png\")\n"
      ],
      "metadata": {
        "id": "HtXDsqAXWwjc",
        "colab": {
          "base_uri": "https://localhost:8080/",
          "height": 734
        },
        "outputId": "2debf94b-585c-4583-9280-c43612c0aa67"
      },
      "execution_count": null,
      "outputs": [
        {
          "output_type": "display_data",
          "data": {
            "text/plain": [
              "<Figure size 2000x1000 with 2 Axes>"
            ],
            "image/png": "[encoded data removed]"
          },
          "metadata": {}
        }
      ]
    },
    {
      "cell_type": "code",
      "source": [
        "torch.save(model.state_dict(), '/content/model1.pt')"
      ],
      "metadata": {
        "id": "MgbpPmj8gwyN"
      },
      "execution_count": null,
      "outputs": []
    },
    {
      "cell_type": "markdown",
      "source": [
        "We tried our model with 3 different optimizer, Adam, AdaGrad and AdaDelta, and below is the bar plot with their accuracy."
      ],
      "metadata": {
        "id": "qV7HhVN6-sZQ"
      }
    },
    {
      "cell_type": "markdown",
      "source": [
        "Below we are just converting our pt model into onnx format to build the Resnet Architecture diagram"
      ],
      "metadata": {
        "id": "cynnRRrVpW_k"
      }
    },
    {
      "cell_type": "code",
      "source": [
        "pip install onnx\n"
      ],
      "metadata": {
        "id": "EGVaYDpshUCL",
        "colab": {
          "base_uri": "https://localhost:8080/"
        },
        "outputId": "0b3e34bf-1136-4d92-84b5-8e77d110bf64"
      },
      "execution_count": null,
      "outputs": [
        {
          "output_type": "stream",
          "name": "stdout",
          "text": [
            "Looking in indexes: https://pypi.org/simple, https://us-python.pkg.dev/colab-wheels/public/simple/\n",
            "Collecting onnx\n",
            "  Downloading onnx-1.13.1-cp39-cp39-manylinux_2_17_x86_64.manylinux2014_x86_64.whl (13.5 MB)\n",
            "\u001b[2K     \u001b[90m━━━━━━━━━━━━━━━━━━━━━━━━━━━━━━━━━━━━━━━━\u001b[0m \u001b[32m13.5/13.5 MB\u001b[0m \u001b[31m93.1 MB/s\u001b[0m eta \u001b[36m0:00:00\u001b[0m\n",
            "\u001b[?25hRequirement already satisfied: numpy>=1.16.6 in /usr/local/lib/python3.9/dist-packages (from onnx) (1.22.4)\n",
            "Requirement already satisfied: protobuf<4,>=3.20.2 in /usr/local/lib/python3.9/dist-packages (from onnx) (3.20.3)\n",
            "Requirement already satisfied: typing-extensions>=3.6.2.1 in /usr/local/lib/python3.9/dist-packages (from onnx) (4.5.0)\n",
            "Installing collected packages: onnx\n",
            "Successfully installed onnx-1.13.1\n"
          ]
        }
      ]
    },
    {
      "cell_type": "code",
      "source": [
        "model = resnet_model()\n",
        "model.load_state_dict(torch.load('/content/model1.pt'))\n",
        "# set the model to inference mode\n",
        "model.eval()\n",
        "\n",
        "# Let's create a dummy input tensor  \n",
        "dummy_input = torch.randn(4, 3, 32, 32)\n",
        "# torch.onnx.export(model, dummy_input, \"final_model.onnx\")\n",
        "\n",
        "# Export the model  \n",
        "torch.onnx.export(model,         # model being run\n",
        "      dummy_input,       # model input (or a tuple for multiple inputs)\n",
        "      \"final_model1_0pt1.onnx\",       # where to save the model  \n",
        "      export_params=True,  # store the trained parameter weights inside the model file\n",
        "      opset_version=13,    # the ONNX version to export the model to\n",
        "      do_constant_folding=True,  # whether to execute constant folding for optimization\n",
        "      input_names = ['modelInput'],   # the model's input names\n",
        "      output_names = ['modelOutput'],# the model's output names\n",
        ")\n",
        "\n",
        "torch.save(model.state_dict(), 'final_model1_0pt1.pt')\n"
      ],
      "metadata": {
        "id": "WaCk7KjhyXxX",
        "colab": {
          "base_uri": "https://localhost:8080/"
        },
        "outputId": "b97bb3e6-7221-424c-8514-0da12ce137c4"
      },
      "execution_count": null,
      "outputs": [
        {
          "output_type": "stream",
          "name": "stdout",
          "text": [
            "\n",
            "\n",
            "Model Config: \n",
            "-------------------------------------\n",
            "N (# Layers)\t: 4 \n",
            "B (# Blocks)\t: [3, 3, 2, 3] \n",
            "C (# Channels)\t: [64, 128, 128, 256] \n",
            "F (Conv Kernel)\t: [3, 3, 3, 3] \n",
            "K (Skip Kernel)\t: [1, 1, 1, 1] \n",
            "P (Pool Kernel)\t: 4\n",
            "============= Diagnostic Run torch.onnx.export version 2.0.0+cu118 =============\n",
            "verbose: False, log level: Level.ERROR\n",
            "======================= 0 NONE 0 NOTE 0 WARNING 0 ERROR ========================\n",
            "\n"
          ]
        }
      ]
    },
    {
      "cell_type": "code",
      "source": [
        "from google.colab import files\n",
        "files.download('final_model1_0pt001.onnx')\n"
      ],
      "metadata": {
        "id": "P6KVliuakCNt",
        "colab": {
          "base_uri": "https://localhost:8080/",
          "height": 17
        },
        "outputId": "cc0b5604-8abb-406f-b855-2b5d9376427e"
      },
      "execution_count": null,
      "outputs": [
        {
          "output_type": "display_data",
          "data": {
            "text/plain": [
              "<IPython.core.display.Javascript object>"
            ],
            "application/javascript": [
              "\n",
              "    async function download(id, filename, size) {\n",
              "      if (!google.colab.kernel.accessAllowed) {\n",
              "        return;\n",
              "      }\n",
              "      const div = document.createElement('div');\n",
              "      const label = document.createElement('label');\n",
              "      label.textContent = `Downloading \"${filename}\": `;\n",
              "      div.appendChild(label);\n",
              "      const progress = document.createElement('progress');\n",
              "      progress.max = size;\n",
              "      div.appendChild(progress);\n",
              "      document.body.appendChild(div);\n",
              "\n",
              "      const buffers = [];\n",
              "      let downloaded = 0;\n",
              "\n",
              "      const channel = await google.colab.kernel.comms.open(id);\n",
              "      // Send a message to notify the kernel that we're ready.\n",
              "      channel.send({})\n",
              "\n",
              "      for await (const message of channel.messages) {\n",
              "        // Send a message to notify the kernel that we're ready.\n",
              "        channel.send({})\n",
              "        if (message.buffers) {\n",
              "          for (const buffer of message.buffers) {\n",
              "            buffers.push(buffer);\n",
              "            downloaded += buffer.byteLength;\n",
              "            progress.value = downloaded;\n",
              "          }\n",
              "        }\n",
              "      }\n",
              "      const blob = new Blob(buffers, {type: 'application/binary'});\n",
              "      const a = document.createElement('a');\n",
              "      a.href = window.URL.createObjectURL(blob);\n",
              "      a.download = filename;\n",
              "      div.appendChild(a);\n",
              "      a.click();\n",
              "      div.remove();\n",
              "    }\n",
              "  "
            ]
          },
          "metadata": {}
        },
        {
          "output_type": "display_data",
          "data": {
            "text/plain": [
              "<IPython.core.display.Javascript object>"
            ],
            "application/javascript": [
              "download(\"download_0faea21b-292f-46c9-b47f-16b5289e4987\", \"final_model1_0pt1.onnx\", 19738165)"
            ]
          },
          "metadata": {}
        }
      ]
    },
    {
      "cell_type": "code",
      "source": [
        "import urllib.request\n",
        "from IPython.display import SVG, display\n",
        "\n",
        "# URL of the SVG image we are downloading\n",
        "url = \"https://svgshare.com/i/s0w.svg\"\n",
        "\n",
        "# Download the SVG image\n",
        "svg_data = urllib.request.urlopen(url).read()\n",
        "\n",
        "# Display the SVG image in Colab\n",
        "display(SVG(svg_data))\n"
      ],
      "metadata": {
        "id": "cMPfoaI6lwOL",
        "colab": {
          "base_uri": "https://localhost:8080/",
          "height": 312
        },
        "outputId": "2c2bdb94-84c3-480f-c215-3edab54ce03e"
      },
      "execution_count": null,
      "outputs": [
        {
          "output_type": "display_data",
          "data": {
            "text/plain": [
              "<IPython.core.display.SVG object>"
            ],
            "image/svg+xml": "<svg xmlns=\"http://www.w3.org/2000/svg\" id=\"export\" class=\"canvas\" preserveAspectRatio=\"xMidYMid meet\" style=\"\" width=\"18648\" height=\"271\"><rect id=\"background\" fill=\"#fff\" pointer-events=\"all\" width=\"18648\" height=\"271\"/><g id=\"origin\" transform=\"translate(12.3, 12.3) scale(1)\"><g id=\"clusters\" class=\"clusters\"/><g id=\"edge-paths\" class=\"edge-paths\"><defs><marker id=\"arrowhead-vee\" viewBox=\"0 0 10 10\" refX=\"9\" refY=\"5\" markerUnits=\"strokeWidth\" markerWidth=\"8\" markerHeight=\"6\" orient=\"auto\" style=\"fill: rgb(0, 0, 0);\"><path d=\"M 0 0 L 10 5 L 0 10 L 4 5 z\" style=\"stroke-width: 1;\"/></marker><marker id=\"arrowhead-vee-select\" viewBox=\"0 0 10 10\" refX=\"9\" refY=\"5\" markerUnits=\"strokeWidth\" markerWidth=\"8\" markerHeight=\"6\" orient=\"auto\" style=\"fill: rgb(238, 0, 0);\"><path d=\"M 0 0 L 10 5 L 0 10 L 4 5 z\" style=\"stroke-width: 1;\"/></marker></defs><path id=\"edge-modelInput\" class=\"edge-path\" d=\"M70.658203125,123L72.32486979166667,123C73.99153645833333,123,77.32486979166667,123,84.98079427083333,123C92.63671875,123,104.615234375,123,116.59375,123C128.572265625,123,140.55078125,123,148.20670572916666,123C155.86263020833334,123,159.19596354166666,123,160.86263020833334,123L162.529296875,123\" style=\"stroke: rgb(0, 0, 0); stroke-width: 1px; fill: none; marker-end: url(&quot;#arrowhead-vee&quot;);\"/><path id=\"edge-/conv1/Conv_output_0\" class=\"edge-path\" d=\"M251.400390625,123L261.5458984375,123C271.69140625,123,291.982421875,123,312.2734375,123C332.564453125,123,352.85546875,123,363.0009765625,123L373.146484375,123\" style=\"stroke: rgb(0, 0, 0); stroke-width: 1px; fill: none; marker-end: url(&quot;#arrowhead-vee&quot;);\"/><path id=\"edge-/Relu_output_0\" class=\"edge-path\" d=\"M412.51480162377453,134.5L419.9871882021038,138.95833333333334C427.459574780433,143.41666666666666,442.4043479370915,152.33333333333334,457.2125906352124,156.79166666666666C472.0208333333333,161.25,486.6925455729167,161.25,494.0284016927083,161.25L501.3642578125,161.25\" style=\"stroke: rgb(0, 0, 0); stroke-width: 1px; fill: none; marker-end: url(&quot;#arrowhead-vee&quot;);\"/><path id=\"edge-/Relu_output_0\" class=\"edge-path\" d=\"M412.51480162377453,111.5L419.9871882021038,107.04166666666667C427.459574780433,102.58333333333333,442.4043479370915,93.66666666666667,469.96840932010826,89.20833333333333C497.532470703125,84.75,537.7158203125,84.75,586.3956705729166,84.75C635.0755208333334,84.75,692.2518717447916,84.75,746.2778727213541,84.75C800.3038736979166,84.75,851.1795247395834,84.75,899.2455240885416,84.75C947.3115234375,84.75,992.56787109375,84.75,1040.9745686848958,84.75C1089.3812662760417,84.75,1140.9383138020833,84.75,1195.3050130208333,84.75C1249.6717122395833,84.75,1306.8480631510417,84.75,1353.1760070401858,89.20833333333333C1399.5039509293301,93.66666666666667,1434.9834877961603,102.58333333333333,1452.723256229575,107.04166666666667L1470.4630246629902,111.5\" style=\"stroke: rgb(0, 0, 0); stroke-width: 1px; fill: none; marker-end: url(&quot;#arrowhead-vee&quot;);\"/><path id=\"edge-/layer1/layer1.0/conv1/Conv_output_0\" class=\"edge-path\" d=\"M654.43408203125,161.25L670.2664388020834,161.25C686.0987955729166,161.25,717.7635091145834,161.25,749.42822265625,161.25C781.0929361979166,161.25,812.7576497395834,161.25,828.5900065104166,161.25L844.42236328125,161.25\" style=\"stroke: rgb(0, 0, 0); stroke-width: 1px; fill: none; marker-end: url(&quot;#arrowhead-vee&quot;);\"/><path id=\"edge-/layer1/layer1.0/Relu_output_0\" class=\"edge-path\" d=\"M959.68798828125,161.25L972.710693359375,161.25C985.7333984375,161.25,1011.77880859375,161.25,1037.82421875,161.25C1063.86962890625,161.25,1089.9150390625,161.25,1102.937744140625,161.25L1115.96044921875,161.25\" style=\"stroke: rgb(0, 0, 0); stroke-width: 1px; fill: none; marker-end: url(&quot;#arrowhead-vee&quot;);\"/><path id=\"edge-/layer1/layer1.0/conv2/Conv_output_0\" class=\"edge-path\" d=\"M1269.0302734375,161.25L1284.8626302083333,161.25C1300.6949869791667,161.25,1332.3597005208333,161.25,1365.9318257250816,156.79166666666666C1399.5039509293301,152.33333333333334,1434.9834877961603,143.41666666666666,1452.723256229575,138.95833333333334L1470.4630246629902,134.5\" style=\"stroke: rgb(0, 0, 0); stroke-width: 1px; fill: none; marker-end: url(&quot;#arrowhead-vee&quot;);\"/><path id=\"edge-/layer1/layer1.0/Add_output_0\" class=\"edge-path\" d=\"M1573.4248046875,123L1586.3832194010417,123C1599.3416341145833,123,1625.2584635416667,123,1651.17529296875,123C1677.0921223958333,123,1703.0089518229167,123,1715.9673665364583,123L1728.92578125,123\" style=\"stroke: rgb(0, 0, 0); stroke-width: 1px; fill: none; marker-end: url(&quot;#arrowhead-vee&quot;);\"/><path id=\"edge-/layer1/layer1.0/Relu_1_output_0\" class=\"edge-path\" d=\"M1835.6305849162582,134.5L1852.6225740187567,138.95833333333334C1869.6145631212555,143.41666666666666,1903.5985413262526,152.33333333333334,1934.408320142293,156.79166666666666C1965.2180989583333,161.25,1992.8536783854167,161.25,2006.6714680989583,161.25L2020.4892578125,161.25\" style=\"stroke: rgb(0, 0, 0); stroke-width: 1px; fill: none; marker-end: url(&quot;#arrowhead-vee&quot;);\"/><path id=\"edge-/layer1/layer1.0/Relu_1_output_0\" class=\"edge-path\" d=\"M1835.6305849162582,111.5L1852.6225740187567,107.04166666666667C1869.6145631212555,102.58333333333333,1903.5985413262526,93.66666666666667,1947.164138827189,89.20833333333333C1990.729736328125,84.75,2043.876953125,84.75,2099.0387369791665,84.75C2154.2005208333335,84.75,2211.3768717447915,84.75,2267.948527018229,84.75C2324.5201822916665,84.75,2380.4871419270835,84.75,2433.6444498697915,84.75C2486.8017578125,84.75,2537.1494140625,84.75,2588.101765950521,84.75C2639.0541178385415,84.75,2690.6111653645835,84.75,2744.9778645833335,84.75C2799.3445638020835,84.75,2856.5209147135415,84.75,2902.8488586026856,89.20833333333333C2949.1768024918297,93.66666666666667,2984.6563393586603,102.58333333333333,3002.3961077920753,107.04166666666667L3020.1358762254904,111.5\" style=\"stroke: rgb(0, 0, 0); stroke-width: 1px; fill: none; marker-end: url(&quot;#arrowhead-vee&quot;);\"/><path id=\"edge-/layer1/layer1.1/conv1/Conv_output_0\" class=\"edge-path\" d=\"M2173.55908203125,161.25L2189.3914388020835,161.25C2205.2237955729165,161.25,2236.8885091145835,161.25,2271.098876953125,161.25C2305.3092447916665,161.25,2342.0652669270835,161.25,2360.4432779947915,161.25L2378.8212890625,161.25\" style=\"stroke: rgb(0, 0, 0); stroke-width: 1px; fill: none; marker-end: url(&quot;#arrowhead-vee&quot;);\"/><path id=\"edge-/layer1/layer1.1/Relu_output_0\" class=\"edge-path\" d=\"M2494.0869140625,161.25L2509.6552734375,161.25C2525.2236328125,161.25,2556.3603515625,161.25,2584.951416015625,161.25C2613.54248046875,161.25,2639.587890625,161.25,2652.610595703125,161.25L2665.63330078125,161.25\" style=\"stroke: rgb(0, 0, 0); stroke-width: 1px; fill: none; marker-end: url(&quot;#arrowhead-vee&quot;);\"/><path id=\"edge-/layer1/layer1.1/conv2/Conv_output_0\" class=\"edge-path\" d=\"M2818.703125,161.25L2834.5354817708335,161.25C2850.3678385416665,161.25,2882.0325520833335,161.25,2915.6046772875816,156.79166666666666C2949.1768024918297,152.33333333333334,2984.6563393586603,143.41666666666666,3002.3961077920753,138.95833333333334L3020.1358762254904,134.5\" style=\"stroke: rgb(0, 0, 0); stroke-width: 1px; fill: none; marker-end: url(&quot;#arrowhead-vee&quot;);\"/><path id=\"edge-/layer1/layer1.1/Add_output_0\" class=\"edge-path\" d=\"M3123.09765625,123L3136.0560709635415,123C3149.0144856770835,123,3174.9313151041665,123,3200.84814453125,123C3226.7649739583335,123,3252.6818033854165,123,3265.6402180989585,123L3278.5986328125,123\" style=\"stroke: rgb(0, 0, 0); stroke-width: 1px; fill: none; marker-end: url(&quot;#arrowhead-vee&quot;);\"/><path id=\"edge-/layer1/layer1.1/Relu_1_output_0\" class=\"edge-path\" d=\"M3385.303436478758,134.5L3402.295425581257,138.95833333333334C3419.2874146837553,143.41666666666666,3453.271392888753,152.33333333333334,3484.081171704793,156.79166666666666C3514.8909505208335,161.25,3542.5265299479165,161.25,3556.3443196614585,161.25L3570.162109375,161.25\" style=\"stroke: rgb(0, 0, 0); stroke-width: 1px; fill: none; marker-end: url(&quot;#arrowhead-vee&quot;);\"/><path id=\"edge-/layer1/layer1.1/Relu_1_output_0\" class=\"edge-path\" d=\"M3385.303436478758,111.5L3402.295425581257,107.04166666666667C3419.2874146837553,102.58333333333333,3453.271392888753,93.66666666666667,3496.836990389689,89.20833333333333C3540.402587890625,84.75,3593.5498046875,84.75,3648.7115885416665,84.75C3703.8733723958335,84.75,3761.0497233072915,84.75,3817.621378580729,84.75C3874.1930338541665,84.75,3930.1599934895835,84.75,3983.3173014322915,84.75C4036.474609375,84.75,4086.822265625,84.75,4137.7746175130205,84.75C4188.726969401042,84.75,4240.284016927083,84.75,4294.650716145833,84.75C4349.017415364583,84.75,4406.193766276042,84.75,4452.521710165186,89.20833333333333C4498.84965405433,93.66666666666667,4534.32919092116,102.58333333333333,4552.068959354575,107.04166666666667L4569.80872778799,111.5\" style=\"stroke: rgb(0, 0, 0); stroke-width: 1px; fill: none; marker-end: url(&quot;#arrowhead-vee&quot;);\"/><path id=\"edge-/layer1/layer1.2/conv1/Conv_output_0\" class=\"edge-path\" d=\"M3723.23193359375,161.25L3739.0642903645835,161.25C3754.8966471354165,161.25,3786.5613606770835,161.25,3820.771728515625,161.25C3854.9820963541665,161.25,3891.7381184895835,161.25,3910.1161295572915,161.25L3928.494140625,161.25\" style=\"stroke: rgb(0, 0, 0); stroke-width: 1px; fill: none; marker-end: url(&quot;#arrowhead-vee&quot;);\"/><path id=\"edge-/layer1/layer1.2/Relu_output_0\" class=\"edge-path\" d=\"M4043.759765625,161.25L4059.328125,161.25C4074.896484375,161.25,4106.033203125,161.25,4134.624267578125,161.25C4163.21533203125,161.25,4189.2607421875,161.25,4202.283447265625,161.25L4215.30615234375,161.25\" style=\"stroke: rgb(0, 0, 0); stroke-width: 1px; fill: none; marker-end: url(&quot;#arrowhead-vee&quot;);\"/><path id=\"edge-/layer1/layer1.2/conv2/Conv_output_0\" class=\"edge-path\" d=\"M4368.3759765625,161.25L4384.208333333333,161.25C4400.040690104167,161.25,4431.705403645833,161.25,4465.277528850082,156.79166666666666C4498.84965405433,152.33333333333334,4534.32919092116,143.41666666666666,4552.068959354575,138.95833333333334L4569.80872778799,134.5\" style=\"stroke: rgb(0, 0, 0); stroke-width: 1px; fill: none; marker-end: url(&quot;#arrowhead-vee&quot;);\"/><path id=\"edge-/layer1/layer1.2/Add_output_0\" class=\"edge-path\" d=\"M4672.7705078125,123L4685.728922526042,123C4698.687337239583,123,4724.604166666667,123,4750.52099609375,123C4776.437825520833,123,4802.354654947917,123,4815.313069661458,123L4828.271484375,123\" style=\"stroke: rgb(0, 0, 0); stroke-width: 1px; fill: none; marker-end: url(&quot;#arrowhead-vee&quot;);\"/><path id=\"edge-/layer1/layer1.2/Relu_1_output_0\" class=\"edge-path\" d=\"M4916.356860167998,111.5L4936.452087249373,102.33333333333333C4956.547314330749,93.16666666666667,4996.737768493499,74.83333333333333,5030.650785288416,65.66666666666667C5064.563802083333,56.5,5092.199381510417,56.5,5106.017171223958,56.5L5119.8349609375,56.5\" style=\"stroke: rgb(0, 0, 0); stroke-width: 1px; fill: none; marker-end: url(&quot;#arrowhead-vee&quot;);\"/><path id=\"edge-/layer1/layer1.2/Relu_1_output_0\" class=\"edge-path\" d=\"M4916.356860167998,134.5L4936.452087249373,143.66666666666666C4956.547314330749,152.83333333333334,4996.737768493499,171.16666666666666,5043.4066039733125,180.33333333333334C5090.075439453125,189.5,5143.22265625,189.5,5198.384440104167,189.5C5253.546223958333,189.5,5310.722574869792,189.5,5364.7485758463545,189.5C5418.774576822917,189.5,5469.650227864583,189.5,5517.716227213542,189.5C5565.7822265625,189.5,5611.03857421875,189.5,5646.689453125,189.5C5682.34033203125,189.5,5708.3857421875,189.5,5721.408447265625,189.5L5734.43115234375,189.5\" style=\"stroke: rgb(0, 0, 0); stroke-width: 1px; fill: none; marker-end: url(&quot;#arrowhead-vee&quot;);\"/><path id=\"edge-/layer2/layer2.0/conv1/Conv_output_0\" class=\"edge-path\" d=\"M5272.90478515625,56.5L5288.737141927083,56.5C5304.569498697917,56.5,5336.234212239583,56.5,5367.89892578125,56.5C5399.563639322917,56.5,5431.228352864583,56.5,5447.060709635417,56.5L5462.89306640625,56.5\" style=\"stroke: rgb(0, 0, 0); stroke-width: 1px; fill: none; marker-end: url(&quot;#arrowhead-vee&quot;);\"/><path id=\"edge-/layer2/layer2.0/Relu_output_0\" class=\"edge-path\" d=\"M5578.15869140625,56.5L5591.181396484375,56.5C5604.2041015625,56.5,5630.24951171875,56.5,5661.586344401042,56.5C5692.923177083333,56.5,5729.551432291667,56.5,5747.865559895833,56.5L5766.1796875,56.5\" style=\"stroke: rgb(0, 0, 0); stroke-width: 1px; fill: none; marker-end: url(&quot;#arrowhead-vee&quot;);\"/><path id=\"edge-/layer2/layer2.0/conv2/Conv_output_0\" class=\"edge-path\" d=\"M5919.24951171875,56.5L5945.183675130208,56.5C5971.117838541667,56.5,6022.986165364583,56.5,6073.8784149093435,65.66666666666667C6124.770664454104,74.83333333333333,6174.686836720709,93.16666666666667,6199.6449228540105,102.33333333333333L6224.603008987312,111.5\" style=\"stroke: rgb(0, 0, 0); stroke-width: 1px; fill: none; marker-end: url(&quot;#arrowhead-vee&quot;);\"/><path id=\"edge-/layer2/layer2.0/shortcut/shortcut.0/Conv_output_0\" class=\"edge-path\" d=\"M5950.998046875,189.5L5971.640787760417,189.5C5992.283528645833,189.5,6033.569010416667,189.5,6079.169837435385,180.33333333333334C6124.770664454104,171.16666666666666,6174.686836720709,152.83333333333334,6199.6449228540105,143.66666666666666L6224.603008987312,134.5\" style=\"stroke: rgb(0, 0, 0); stroke-width: 1px; fill: none; marker-end: url(&quot;#arrowhead-vee&quot;);\"/><path id=\"edge-/layer2/layer2.0/Add_output_0\" class=\"edge-path\" d=\"M6313.1171875,123L6326.075602213542,123C6339.034016927083,123,6364.950846354167,123,6390.86767578125,123C6416.784505208333,123,6442.701334635417,123,6455.659749348958,123L6468.6181640625,123\" style=\"stroke: rgb(0, 0, 0); stroke-width: 1px; fill: none; marker-end: url(&quot;#arrowhead-vee&quot;);\"/><path id=\"edge-/layer2/layer2.0/Relu_1_output_0\" class=\"edge-path\" d=\"M6575.322967728758,134.5L6592.314956831257,138.95833333333334C6609.306945933756,143.41666666666666,6643.290924138753,152.33333333333334,6674.100702954794,156.79166666666666C6704.910481770833,161.25,6732.546061197917,161.25,6746.363850911458,161.25L6760.181640625,161.25\" style=\"stroke: rgb(0, 0, 0); stroke-width: 1px; fill: none; marker-end: url(&quot;#arrowhead-vee&quot;);\"/><path id=\"edge-/layer2/layer2.0/Relu_1_output_0\" class=\"edge-path\" d=\"M6575.322967728758,111.5L6592.314956831257,107.04166666666667C6609.306945933756,102.58333333333333,6643.290924138753,93.66666666666667,6686.856521639689,89.20833333333333C6730.422119140625,84.75,6783.5693359375,84.75,6838.731119791667,84.75C6893.892903645833,84.75,6951.069254557292,84.75,7007.6409098307295,84.75C7064.212565104167,84.75,7120.179524739583,84.75,7173.336832682292,84.75C7226.494140625,84.75,7276.841796875,84.75,7327.7941487630205,84.75C7378.746500651042,84.75,7430.303548177083,84.75,7484.670247395833,84.75C7539.036946614583,84.75,7596.213297526042,84.75,7642.541241415186,89.20833333333333C7688.86918530433,93.66666666666667,7724.348722171159,102.58333333333333,7742.088490604575,107.04166666666667L7759.82825903799,111.5\" style=\"stroke: rgb(0, 0, 0); stroke-width: 1px; fill: none; marker-end: url(&quot;#arrowhead-vee&quot;);\"/><path id=\"edge-/layer2/layer2.1/conv1/Conv_output_0\" class=\"edge-path\" d=\"M6913.25146484375,161.25L6929.083821614583,161.25C6944.916178385417,161.25,6976.580891927083,161.25,7010.791259765625,161.25C7045.001627604167,161.25,7081.757649739583,161.25,7100.135660807292,161.25L7118.513671875,161.25\" style=\"stroke: rgb(0, 0, 0); stroke-width: 1px; fill: none; marker-end: url(&quot;#arrowhead-vee&quot;);\"/><path id=\"edge-/layer2/layer2.1/Relu_output_0\" class=\"edge-path\" d=\"M7233.779296875,161.25L7249.34765625,161.25C7264.916015625,161.25,7296.052734375,161.25,7324.643798828125,161.25C7353.23486328125,161.25,7379.2802734375,161.25,7392.302978515625,161.25L7405.32568359375,161.25\" style=\"stroke: rgb(0, 0, 0); stroke-width: 1px; fill: none; marker-end: url(&quot;#arrowhead-vee&quot;);\"/><path id=\"edge-/layer2/layer2.1/conv2/Conv_output_0\" class=\"edge-path\" d=\"M7558.3955078125,161.25L7574.227864583333,161.25C7590.060221354167,161.25,7621.724934895833,161.25,7655.297060100082,156.79166666666666C7688.86918530433,152.33333333333334,7724.348722171159,143.41666666666666,7742.088490604575,138.95833333333334L7759.82825903799,134.5\" style=\"stroke: rgb(0, 0, 0); stroke-width: 1px; fill: none; marker-end: url(&quot;#arrowhead-vee&quot;);\"/><path id=\"edge-/layer2/layer2.1/Add_output_0\" class=\"edge-path\" d=\"M7862.7900390625,123L7875.748453776042,123C7888.706868489583,123,7914.623697916667,123,7940.54052734375,123C7966.457356770833,123,7992.374186197917,123,8005.332600911458,123L8018.291015625,123\" style=\"stroke: rgb(0, 0, 0); stroke-width: 1px; fill: none; marker-end: url(&quot;#arrowhead-vee&quot;);\"/><path id=\"edge-/layer2/layer2.1/Relu_1_output_0\" class=\"edge-path\" d=\"M8124.995819291258,134.5L8141.987808393757,138.95833333333334C8158.979797496256,143.41666666666666,8192.963775701253,152.33333333333334,8223.773554517293,156.79166666666666C8254.583333333334,161.25,8282.218912760416,161.25,8296.036702473959,161.25L8309.8544921875,161.25\" style=\"stroke: rgb(0, 0, 0); stroke-width: 1px; fill: none; marker-end: url(&quot;#arrowhead-vee&quot;);\"/><path id=\"edge-/layer2/layer2.1/Relu_1_output_0\" class=\"edge-path\" d=\"M8124.995819291258,111.5L8141.987808393757,107.04166666666667C8158.979797496256,102.58333333333333,8192.963775701253,93.66666666666667,8236.52937320219,89.20833333333333C8280.094970703125,84.75,8333.2421875,84.75,8388.403971354166,84.75C8443.565755208334,84.75,8500.742106119791,84.75,8557.313761393229,84.75C8613.885416666666,84.75,8669.852376302084,84.75,8723.009684244791,84.75C8776.1669921875,84.75,8826.5146484375,84.75,8877.467000325521,84.75C8928.419352213541,84.75,8979.976399739584,84.75,9034.343098958334,84.75C9088.709798177084,84.75,9145.886149088541,84.75,9192.214092977685,89.20833333333333C9238.54203686683,93.66666666666667,9274.02157373366,102.58333333333333,9291.761342167074,107.04166666666667L9309.50111060049,111.5\" style=\"stroke: rgb(0, 0, 0); stroke-width: 1px; fill: none; marker-end: url(&quot;#arrowhead-vee&quot;);\"/><path id=\"edge-/layer2/layer2.2/conv1/Conv_output_0\" class=\"edge-path\" d=\"M8462.92431640625,161.25L8478.756673177084,161.25C8494.589029947916,161.25,8526.253743489584,161.25,8560.464111328125,161.25C8594.674479166666,161.25,8631.430501302084,161.25,8649.808512369791,161.25L8668.1865234375,161.25\" style=\"stroke: rgb(0, 0, 0); stroke-width: 1px; fill: none; marker-end: url(&quot;#arrowhead-vee&quot;);\"/><path id=\"edge-/layer2/layer2.2/Relu_output_0\" class=\"edge-path\" d=\"M8783.4521484375,161.25L8799.0205078125,161.25C8814.5888671875,161.25,8845.7255859375,161.25,8874.316650390625,161.25C8902.90771484375,161.25,8928.953125,161.25,8941.975830078125,161.25L8954.99853515625,161.25\" style=\"stroke: rgb(0, 0, 0); stroke-width: 1px; fill: none; marker-end: url(&quot;#arrowhead-vee&quot;);\"/><path id=\"edge-/layer2/layer2.2/conv2/Conv_output_0\" class=\"edge-path\" d=\"M9108.068359375,161.25L9123.900716145834,161.25C9139.733072916666,161.25,9171.397786458334,161.25,9204.969911662582,156.79166666666666C9238.54203686683,152.33333333333334,9274.02157373366,143.41666666666666,9291.761342167074,138.95833333333334L9309.50111060049,134.5\" style=\"stroke: rgb(0, 0, 0); stroke-width: 1px; fill: none; marker-end: url(&quot;#arrowhead-vee&quot;);\"/><path id=\"edge-/layer2/layer2.2/Add_output_0\" class=\"edge-path\" d=\"M9412.462890625,123L9425.421305338541,123C9438.379720052084,123,9464.296549479166,123,9490.21337890625,123C9516.130208333334,123,9542.047037760416,123,9555.005452473959,123L9567.9638671875,123\" style=\"stroke: rgb(0, 0, 0); stroke-width: 1px; fill: none; marker-end: url(&quot;#arrowhead-vee&quot;);\"/><path id=\"edge-/layer2/layer2.2/Relu_1_output_0\" class=\"edge-path\" d=\"M9656.049242980498,111.5L9676.144470061874,102.33333333333333C9696.239697143248,93.16666666666667,9736.430151306,74.83333333333333,9770.343168100917,65.66666666666667C9804.256184895834,56.5,9831.891764322916,56.5,9845.709554036459,56.5L9859.52734375,56.5\" style=\"stroke: rgb(0, 0, 0); stroke-width: 1px; fill: none; marker-end: url(&quot;#arrowhead-vee&quot;);\"/><path id=\"edge-/layer2/layer2.2/Relu_1_output_0\" class=\"edge-path\" d=\"M9656.049242980498,134.5L9676.144470061874,143.66666666666666C9696.239697143248,152.83333333333334,9736.430151306,171.16666666666666,9783.098986785813,180.33333333333334C9829.767822265625,189.5,9882.9150390625,189.5,9938.076822916666,189.5C9993.238606770834,189.5,10050.414957682291,189.5,10104.440958658854,189.5C10158.466959635416,189.5,10209.342610677084,189.5,10257.408610026041,189.5C10305.474609375,189.5,10350.73095703125,189.5,10386.3818359375,189.5C10422.03271484375,189.5,10448.078125,189.5,10461.100830078125,189.5L10474.12353515625,189.5\" style=\"stroke: rgb(0, 0, 0); stroke-width: 1px; fill: none; marker-end: url(&quot;#arrowhead-vee&quot;);\"/><path id=\"edge-/layer3/layer3.0/conv1/Conv_output_0\" class=\"edge-path\" d=\"M10012.59716796875,56.5L10028.429524739584,56.5C10044.261881510416,56.5,10075.926595052084,56.5,10107.59130859375,56.5C10139.256022135416,56.5,10170.920735677084,56.5,10186.753092447916,56.5L10202.58544921875,56.5\" style=\"stroke: rgb(0, 0, 0); stroke-width: 1px; fill: none; marker-end: url(&quot;#arrowhead-vee&quot;);\"/><path id=\"edge-/layer3/layer3.0/Relu_output_0\" class=\"edge-path\" d=\"M10317.85107421875,56.5L10330.873779296875,56.5C10343.896484375,56.5,10369.94189453125,56.5,10401.278727213541,56.5C10432.615559895834,56.5,10469.243815104166,56.5,10487.557942708334,56.5L10505.8720703125,56.5\" style=\"stroke: rgb(0, 0, 0); stroke-width: 1px; fill: none; marker-end: url(&quot;#arrowhead-vee&quot;);\"/><path id=\"edge-/layer3/layer3.0/conv2/Conv_output_0\" class=\"edge-path\" d=\"M10658.94189453125,56.5L10684.876057942709,56.5C10710.810221354166,56.5,10762.678548177084,56.5,10813.570797721843,65.66666666666667C10864.463047266605,74.83333333333333,10914.379219533208,93.16666666666667,10939.33730566651,102.33333333333333L10964.295391799813,111.5\" style=\"stroke: rgb(0, 0, 0); stroke-width: 1px; fill: none; marker-end: url(&quot;#arrowhead-vee&quot;);\"/><path id=\"edge-/layer3/layer3.0/shortcut/shortcut.0/Conv_output_0\" class=\"edge-path\" d=\"M10690.6904296875,189.5L10711.333170572916,189.5C10731.975911458334,189.5,10773.261393229166,189.5,10818.862220247885,180.33333333333334C10864.463047266605,171.16666666666666,10914.379219533208,152.83333333333334,10939.33730566651,143.66666666666666L10964.295391799813,134.5\" style=\"stroke: rgb(0, 0, 0); stroke-width: 1px; fill: none; marker-end: url(&quot;#arrowhead-vee&quot;);\"/><path id=\"edge-/layer3/layer3.0/Add_output_0\" class=\"edge-path\" d=\"M11052.8095703125,123L11065.767985026041,123C11078.726399739584,123,11104.643229166666,123,11130.56005859375,123C11156.476888020834,123,11182.393717447916,123,11195.352132161459,123L11208.310546875,123\" style=\"stroke: rgb(0, 0, 0); stroke-width: 1px; fill: none; marker-end: url(&quot;#arrowhead-vee&quot;);\"/><path id=\"edge-/layer3/layer3.0/Relu_1_output_0\" class=\"edge-path\" d=\"M11315.015350541258,134.5L11332.007339643756,138.95833333333334C11348.999328746257,143.41666666666666,11382.983306951253,152.33333333333334,11413.793085767293,156.79166666666666C11444.602864583334,161.25,11472.238444010416,161.25,11486.056233723959,161.25L11499.8740234375,161.25\" style=\"stroke: rgb(0, 0, 0); stroke-width: 1px; fill: none; marker-end: url(&quot;#arrowhead-vee&quot;);\"/><path id=\"edge-/layer3/layer3.0/Relu_1_output_0\" class=\"edge-path\" d=\"M11315.015350541258,111.5L11332.007339643756,107.04166666666667C11348.999328746257,102.58333333333333,11382.983306951253,93.66666666666667,11426.54890445219,89.20833333333333C11470.114501953125,84.75,11523.26171875,84.75,11578.423502604166,84.75C11633.585286458334,84.75,11690.761637369791,84.75,11747.333292643229,84.75C11803.904947916666,84.75,11859.871907552084,84.75,11913.029215494791,84.75C11966.1865234375,84.75,12016.5341796875,84.75,12067.486531575521,84.75C12118.438883463541,84.75,12169.995930989584,84.75,12224.362630208334,84.75C12278.729329427084,84.75,12335.905680338541,84.75,12382.233624227685,89.20833333333333C12428.56156811683,93.66666666666667,12464.04110498366,102.58333333333333,12481.780873417074,107.04166666666667L12499.52064185049,111.5\" style=\"stroke: rgb(0, 0, 0); stroke-width: 1px; fill: none; marker-end: url(&quot;#arrowhead-vee&quot;);\"/><path id=\"edge-/layer3/layer3.1/conv1/Conv_output_0\" class=\"edge-path\" d=\"M11652.94384765625,161.25L11668.776204427084,161.25C11684.608561197916,161.25,11716.273274739584,161.25,11750.483642578125,161.25C11784.694010416666,161.25,11821.450032552084,161.25,11839.828043619791,161.25L11858.2060546875,161.25\" style=\"stroke: rgb(0, 0, 0); stroke-width: 1px; fill: none; marker-end: url(&quot;#arrowhead-vee&quot;);\"/><path id=\"edge-/layer3/layer3.1/Relu_output_0\" class=\"edge-path\" d=\"M11973.4716796875,161.25L11989.0400390625,161.25C12004.6083984375,161.25,12035.7451171875,161.25,12064.336181640625,161.25C12092.92724609375,161.25,12118.97265625,161.25,12131.995361328125,161.25L12145.01806640625,161.25\" style=\"stroke: rgb(0, 0, 0); stroke-width: 1px; fill: none; marker-end: url(&quot;#arrowhead-vee&quot;);\"/><path id=\"edge-/layer3/layer3.1/conv2/Conv_output_0\" class=\"edge-path\" d=\"M12298.087890625,161.25L12313.920247395834,161.25C12329.752604166666,161.25,12361.417317708334,161.25,12394.98944291258,156.79166666666666C12428.56156811683,152.33333333333334,12464.04110498366,143.41666666666666,12481.780873417074,138.95833333333334L12499.52064185049,134.5\" style=\"stroke: rgb(0, 0, 0); stroke-width: 1px; fill: none; marker-end: url(&quot;#arrowhead-vee&quot;);\"/><path id=\"edge-/layer3/layer3.1/Add_output_0\" class=\"edge-path\" d=\"M12602.482421875,123L12615.440836588541,123C12628.399251302084,123,12654.316080729166,123,12680.23291015625,123C12706.149739583334,123,12732.066569010416,123,12745.024983723959,123L12757.9833984375,123\" style=\"stroke: rgb(0, 0, 0); stroke-width: 1px; fill: none; marker-end: url(&quot;#arrowhead-vee&quot;);\"/><path id=\"edge-/layer3/layer3.1/Relu_1_output_0\" class=\"edge-path\" d=\"M12846.068774230498,111.5L12866.164001311874,102.33333333333333C12886.259228393248,93.16666666666667,12926.449682556,74.83333333333333,12960.362699350917,65.66666666666667C12994.275716145834,56.5,13021.911295572916,56.5,13035.729085286459,56.5L13049.546875,56.5\" style=\"stroke: rgb(0, 0, 0); stroke-width: 1px; fill: none; marker-end: url(&quot;#arrowhead-vee&quot;);\"/><path id=\"edge-/layer3/layer3.1/Relu_1_output_0\" class=\"edge-path\" d=\"M12846.068774230498,134.5L12866.164001311874,143.66666666666666C12886.259228393248,152.83333333333334,12926.449682556,171.16666666666666,12973.118518035813,180.33333333333334C13019.787353515625,189.5,13072.9345703125,189.5,13128.096354166666,189.5C13183.258138020834,189.5,13240.434488932291,189.5,13294.460489908854,189.5C13348.486490885416,189.5,13399.362141927084,189.5,13447.428141276041,189.5C13495.494140625,189.5,13540.75048828125,189.5,13576.4013671875,189.5C13612.05224609375,189.5,13638.09765625,189.5,13651.120361328125,189.5L13664.14306640625,189.5\" style=\"stroke: rgb(0, 0, 0); stroke-width: 1px; fill: none; marker-end: url(&quot;#arrowhead-vee&quot;);\"/><path id=\"edge-/layer4/layer4.0/conv1/Conv_output_0\" class=\"edge-path\" d=\"M13202.61669921875,56.5L13218.449055989584,56.5C13234.281412760416,56.5,13265.946126302084,56.5,13297.61083984375,56.5C13329.275553385416,56.5,13360.940266927084,56.5,13376.772623697916,56.5L13392.60498046875,56.5\" style=\"stroke: rgb(0, 0, 0); stroke-width: 1px; fill: none; marker-end: url(&quot;#arrowhead-vee&quot;);\"/><path id=\"edge-/layer4/layer4.0/Relu_output_0\" class=\"edge-path\" d=\"M13507.87060546875,56.5L13520.893310546875,56.5C13533.916015625,56.5,13559.96142578125,56.5,13591.298258463541,56.5C13622.635091145834,56.5,13659.263346354166,56.5,13677.577473958334,56.5L13695.8916015625,56.5\" style=\"stroke: rgb(0, 0, 0); stroke-width: 1px; fill: none; marker-end: url(&quot;#arrowhead-vee&quot;);\"/><path id=\"edge-/layer4/layer4.0/conv2/Conv_output_0\" class=\"edge-path\" d=\"M13848.96142578125,56.5L13874.895589192709,56.5C13900.829752604166,56.5,13952.698079427084,56.5,14003.590328971843,65.66666666666667C14054.482578516603,74.83333333333333,14104.398750783208,93.16666666666667,14129.35683691651,102.33333333333333L14154.314923049813,111.5\" style=\"stroke: rgb(0, 0, 0); stroke-width: 1px; fill: none; marker-end: url(&quot;#arrowhead-vee&quot;);\"/><path id=\"edge-/layer4/layer4.0/shortcut/shortcut.0/Conv_output_0\" class=\"edge-path\" d=\"M13880.7099609375,189.5L13901.352701822916,189.5C13921.995442708334,189.5,13963.280924479166,189.5,14008.881751497885,180.33333333333334C14054.482578516603,171.16666666666666,14104.398750783208,152.83333333333334,14129.35683691651,143.66666666666666L14154.314923049813,134.5\" style=\"stroke: rgb(0, 0, 0); stroke-width: 1px; fill: none; marker-end: url(&quot;#arrowhead-vee&quot;);\"/><path id=\"edge-/layer4/layer4.0/Add_output_0\" class=\"edge-path\" d=\"M14242.8291015625,123L14255.787516276041,123C14268.745930989584,123,14294.662760416666,123,14320.57958984375,123C14346.496419270834,123,14372.413248697916,123,14385.371663411459,123L14398.330078125,123\" style=\"stroke: rgb(0, 0, 0); stroke-width: 1px; fill: none; marker-end: url(&quot;#arrowhead-vee&quot;);\"/><path id=\"edge-/layer4/layer4.0/Relu_1_output_0\" class=\"edge-path\" d=\"M14505.034881791258,134.5L14522.026870893756,138.95833333333334C14539.018859996257,143.41666666666666,14573.002838201253,152.33333333333334,14603.812617017293,156.79166666666666C14634.622395833334,161.25,14662.257975260416,161.25,14676.075764973959,161.25L14689.8935546875,161.25\" style=\"stroke: rgb(0, 0, 0); stroke-width: 1px; fill: none; marker-end: url(&quot;#arrowhead-vee&quot;);\"/><path id=\"edge-/layer4/layer4.0/Relu_1_output_0\" class=\"edge-path\" d=\"M14505.034881791258,111.5L14522.026870893756,107.04166666666667C14539.018859996257,102.58333333333333,14573.002838201253,93.66666666666667,14616.56843570219,89.20833333333333C14660.134033203125,84.75,14713.28125,84.75,14768.443033854166,84.75C14823.604817708334,84.75,14880.781168619791,84.75,14937.352823893229,84.75C14993.924479166666,84.75,15049.891438802084,84.75,15103.048746744791,84.75C15156.2060546875,84.75,15206.5537109375,84.75,15257.506062825521,84.75C15308.458414713541,84.75,15360.015462239584,84.75,15414.382161458334,84.75C15468.748860677084,84.75,15525.925211588541,84.75,15572.253155477685,89.20833333333333C15618.58109936683,93.66666666666667,15654.06063623366,102.58333333333333,15671.800404667074,107.04166666666667L15689.54017310049,111.5\" style=\"stroke: rgb(0, 0, 0); stroke-width: 1px; fill: none; marker-end: url(&quot;#arrowhead-vee&quot;);\"/><path id=\"edge-/layer4/layer4.1/conv1/Conv_output_0\" class=\"edge-path\" d=\"M14842.96337890625,161.25L14858.795735677084,161.25C14874.628092447916,161.25,14906.292805989584,161.25,14940.503173828125,161.25C14974.713541666666,161.25,15011.469563802084,161.25,15029.847574869791,161.25L15048.2255859375,161.25\" style=\"stroke: rgb(0, 0, 0); stroke-width: 1px; fill: none; marker-end: url(&quot;#arrowhead-vee&quot;);\"/><path id=\"edge-/layer4/layer4.1/Relu_output_0\" class=\"edge-path\" d=\"M15163.4912109375,161.25L15179.0595703125,161.25C15194.6279296875,161.25,15225.7646484375,161.25,15254.355712890625,161.25C15282.94677734375,161.25,15308.9921875,161.25,15322.014892578125,161.25L15335.03759765625,161.25\" style=\"stroke: rgb(0, 0, 0); stroke-width: 1px; fill: none; marker-end: url(&quot;#arrowhead-vee&quot;);\"/><path id=\"edge-/layer4/layer4.1/conv2/Conv_output_0\" class=\"edge-path\" d=\"M15488.107421875,161.25L15503.939778645834,161.25C15519.772135416666,161.25,15551.436848958334,161.25,15585.00897416258,156.79166666666666C15618.58109936683,152.33333333333334,15654.06063623366,143.41666666666666,15671.800404667074,138.95833333333334L15689.54017310049,134.5\" style=\"stroke: rgb(0, 0, 0); stroke-width: 1px; fill: none; marker-end: url(&quot;#arrowhead-vee&quot;);\"/><path id=\"edge-/layer4/layer4.1/Add_output_0\" class=\"edge-path\" d=\"M15792.501953125,123L15805.460367838541,123C15818.418782552084,123,15844.335611979166,123,15870.25244140625,123C15896.169270833334,123,15922.086100260416,123,15935.044514973959,123L15948.0029296875,123\" style=\"stroke: rgb(0, 0, 0); stroke-width: 1px; fill: none; marker-end: url(&quot;#arrowhead-vee&quot;);\"/><path id=\"edge-/layer4/layer4.1/Relu_1_output_0\" class=\"edge-path\" d=\"M16054.707733353758,134.5L16071.699722456256,138.95833333333334C16088.691711558757,143.41666666666666,16122.675689763753,152.33333333333334,16153.485468579793,156.79166666666666C16184.295247395834,161.25,16211.930826822916,161.25,16225.748616536459,161.25L16239.56640625,161.25\" style=\"stroke: rgb(0, 0, 0); stroke-width: 1px; fill: none; marker-end: url(&quot;#arrowhead-vee&quot;);\"/><path id=\"edge-/layer4/layer4.1/Relu_1_output_0\" class=\"edge-path\" d=\"M16054.707733353758,111.5L16071.699722456256,107.04166666666667C16088.691711558757,102.58333333333333,16122.675689763753,93.66666666666667,16166.24128726469,89.20833333333333C16209.806884765625,84.75,16262.9541015625,84.75,16318.115885416666,84.75C16373.277669270834,84.75,16430.454020182293,84.75,16487.02567545573,84.75C16543.597330729168,84.75,16599.564290364582,84.75,16652.721598307293,84.75C16705.87890625,84.75,16756.2265625,84.75,16807.17891438802,84.75C16858.131266276043,84.75,16909.688313802082,84.75,16964.055013020832,84.75C17018.421712239582,84.75,17075.598063151043,84.75,17121.926007040183,89.20833333333333C17168.25395092933,93.66666666666667,17203.73348779616,102.58333333333333,17221.473256229572,107.04166666666667L17239.21302466299,111.5\" style=\"stroke: rgb(0, 0, 0); stroke-width: 1px; fill: none; marker-end: url(&quot;#arrowhead-vee&quot;);\"/><path id=\"edge-/layer4/layer4.2/conv1/Conv_output_0\" class=\"edge-path\" d=\"M16392.63623046875,161.25L16408.468587239582,161.25C16424.300944010418,161.25,16455.965657552082,161.25,16490.176025390625,161.25C16524.386393229168,161.25,16561.142415364582,161.25,16579.520426432293,161.25L16597.8984375,161.25\" style=\"stroke: rgb(0, 0, 0); stroke-width: 1px; fill: none; marker-end: url(&quot;#arrowhead-vee&quot;);\"/><path id=\"edge-/layer4/layer4.2/Relu_output_0\" class=\"edge-path\" d=\"M16713.1640625,161.25L16728.732421875,161.25C16744.30078125,161.25,16775.4375,161.25,16804.028564453125,161.25C16832.61962890625,161.25,16858.6650390625,161.25,16871.687744140625,161.25L16884.71044921875,161.25\" style=\"stroke: rgb(0, 0, 0); stroke-width: 1px; fill: none; marker-end: url(&quot;#arrowhead-vee&quot;);\"/><path id=\"edge-/layer4/layer4.2/conv2/Conv_output_0\" class=\"edge-path\" d=\"M17037.7802734375,161.25L17053.612630208332,161.25C17069.444986979168,161.25,17101.109700520832,161.25,17134.68182572508,156.79166666666666C17168.25395092933,152.33333333333334,17203.73348779616,143.41666666666666,17221.473256229572,138.95833333333334L17239.21302466299,134.5\" style=\"stroke: rgb(0, 0, 0); stroke-width: 1px; fill: none; marker-end: url(&quot;#arrowhead-vee&quot;);\"/><path id=\"edge-/layer4/layer4.2/Add_output_0\" class=\"edge-path\" d=\"M17342.1748046875,123L17355.133219401043,123C17368.091634114582,123,17394.008463541668,123,17419.92529296875,123C17445.842122395832,123,17471.758951822918,123,17484.717366536457,123L17497.67578125,123\" style=\"stroke: rgb(0, 0, 0); stroke-width: 1px; fill: none; marker-end: url(&quot;#arrowhead-vee&quot;);\"/><path id=\"edge-/layer4/layer4.2/Relu_1_output_0\" class=\"edge-path\" d=\"M17623.42578125,123L17637.243570963543,123C17651.061360677082,123,17678.696940104168,123,17706.33251953125,123C17733.968098958332,123,17761.603678385418,123,17775.421468098957,123L17789.2392578125,123\" style=\"stroke: rgb(0, 0, 0); stroke-width: 1px; fill: none; marker-end: url(&quot;#arrowhead-vee&quot;);\"/><path id=\"edge-/Pad_output_0\" class=\"edge-path\" d=\"M17901.203132629395,123L17908.3086827596,123C17915.414232889812,123,17929.625333150227,123,17943.836433410645,123C17958.047533671062,123,17972.258633931477,123,17979.364184061687,123L17986.469734191895,123\" style=\"stroke: rgb(0, 0, 0); stroke-width: 1px; fill: none; marker-end: url(&quot;#arrowhead-vee&quot;);\"/><path id=\"edge-/AveragePool_output_0\" class=\"edge-path\" d=\"M18075.340827941895,123L18085.704027811687,123C18096.067227681477,123,18116.793627421062,123,18137.520027160645,123C18158.246426900227,123,18178.972826639812,123,18189.3360265096,123L18199.699226379395,123\" style=\"stroke: rgb(0, 0, 0); stroke-width: 1px; fill: none; marker-end: url(&quot;#arrowhead-vee&quot;);\"/><path id=\"edge-/Reshape_output_0\" class=\"edge-path\" d=\"M18274.699226379395,123L18283.536547342937,123C18292.373868306477,123,18310.048510233562,123,18327.723152160645,123C18345.397794087727,123,18363.072436014812,123,18371.90975697835,123L18380.747077941895,123\" style=\"stroke: rgb(0, 0, 0); stroke-width: 1px; fill: none; marker-end: url(&quot;#arrowhead-vee&quot;);\"/><path id=\"edge-modelOutput\" class=\"edge-path\" d=\"M18463.293952941895,123L18469.972094217937,123C18476.650235493977,123,18490.006518046062,123,18503.362800598145,123C18516.719083150227,123,18530.075365702312,123,18536.75350697835,123L18543.431648254395,123\" style=\"stroke: rgb(0, 0, 0); stroke-width: 1px; fill: none; marker-end: url(&quot;#arrowhead-vee&quot;);\"/></g><g id=\"edge-labels\" class=\"edge-labels\"><text class=\"edge-label\" id=\"edge-label-edge-modelInput\" transform=\"translate(90.658203125,133)\" style=\"opacity: 1; font-family: -apple-system, BlinkMacSystemFont, &quot;Segoe WPC&quot;, &quot;Segoe UI&quot;, Ubuntu, &quot;Droid Sans&quot;, sans-serif, &quot;PingFang SC&quot;; font-size: 10px;\"><tspan xml:space=\"preserve\" dy=\"1em\" x=\"1\">modelInput</tspan></text><text class=\"edge-label\" id=\"edge-label-edge-/conv1/Conv_output_0\" transform=\"translate(261.400390625,133)\" style=\"opacity: 1; font-family: -apple-system, BlinkMacSystemFont, &quot;Segoe WPC&quot;, &quot;Segoe UI&quot;, Ubuntu, &quot;Droid Sans&quot;, sans-serif, &quot;PingFang SC&quot;; font-size: 10px;\"><tspan xml:space=\"preserve\" dy=\"1em\" x=\"1\">/conv1/Conv_output_0</tspan></text><text class=\"edge-label\" id=\"edge-label-edge-/Relu_output_0\" transform=\"translate(423.333984375,171.25)\" style=\"opacity: 1; font-family: -apple-system, BlinkMacSystemFont, &quot;Segoe WPC&quot;, &quot;Segoe UI&quot;, Ubuntu, &quot;Droid Sans&quot;, sans-serif, &quot;PingFang SC&quot;; font-size: 10px;\"><tspan xml:space=\"preserve\" dy=\"1em\" x=\"1\">/Relu_output_0</tspan></text><text class=\"edge-label\" id=\"edge-label-edge-/Relu_output_0\" transform=\"translate(868.0400390625,94.75)\" style=\"opacity: 1; font-family: -apple-system, BlinkMacSystemFont, &quot;Segoe WPC&quot;, &quot;Segoe UI&quot;, Ubuntu, &quot;Droid Sans&quot;, sans-serif, &quot;PingFang SC&quot;; font-size: 10px;\"><tspan xml:space=\"preserve\" dy=\"1em\" x=\"1\">/Relu_output_0</tspan></text><text class=\"edge-label\" id=\"edge-label-edge-/layer1/layer1.0/conv1/Conv_output_0\" transform=\"translate(664.43408203125,171.25)\" style=\"opacity: 1; font-family: -apple-system, BlinkMacSystemFont, &quot;Segoe WPC&quot;, &quot;Segoe UI&quot;, Ubuntu, &quot;Droid Sans&quot;, sans-serif, &quot;PingFang SC&quot;; font-size: 10px;\"><tspan xml:space=\"preserve\" dy=\"1em\" x=\"1\">/layer1/layer1.0/conv1/Conv_output_0</tspan></text><text class=\"edge-label\" id=\"edge-label-edge-/layer1/layer1.0/Relu_output_0\" transform=\"translate(969.68798828125,171.25)\" style=\"opacity: 1; font-family: -apple-system, BlinkMacSystemFont, &quot;Segoe WPC&quot;, &quot;Segoe UI&quot;, Ubuntu, &quot;Droid Sans&quot;, sans-serif, &quot;PingFang SC&quot;; font-size: 10px;\"><tspan xml:space=\"preserve\" dy=\"1em\" x=\"1\">/layer1/layer1.0/Relu_output_0</tspan></text><text class=\"edge-label\" id=\"edge-label-edge-/layer1/layer1.0/conv2/Conv_output_0\" transform=\"translate(1279.0302734375,171.25)\" style=\"opacity: 1; font-family: -apple-system, BlinkMacSystemFont, &quot;Segoe WPC&quot;, &quot;Segoe UI&quot;, Ubuntu, &quot;Droid Sans&quot;, sans-serif, &quot;PingFang SC&quot;; font-size: 10px;\"><tspan xml:space=\"preserve\" dy=\"1em\" x=\"1\">/layer1/layer1.0/conv2/Conv_output_0</tspan></text><text class=\"edge-label\" id=\"edge-label-edge-/layer1/layer1.0/Add_output_0\" transform=\"translate(1583.4248046875,133)\" style=\"opacity: 1; font-family: -apple-system, BlinkMacSystemFont, &quot;Segoe WPC&quot;, &quot;Segoe UI&quot;, Ubuntu, &quot;Droid Sans&quot;, sans-serif, &quot;PingFang SC&quot;; font-size: 10px;\"><tspan xml:space=\"preserve\" dy=\"1em\" x=\"1\">/layer1/layer1.0/Add_output_0</tspan></text><text class=\"edge-label\" id=\"edge-label-edge-/layer1/layer1.0/Relu_1_output_0\" transform=\"translate(1864.67578125,171.25)\" style=\"opacity: 1; font-family: -apple-system, BlinkMacSystemFont, &quot;Segoe WPC&quot;, &quot;Segoe UI&quot;, Ubuntu, &quot;Droid Sans&quot;, sans-serif, &quot;PingFang SC&quot;; font-size: 10px;\"><tspan xml:space=\"preserve\" dy=\"1em\" x=\"1\">/layer1/layer1.0/Relu_1_output_0</tspan></text><text class=\"edge-label\" id=\"edge-label-edge-/layer1/layer1.0/Relu_1_output_0\" transform=\"translate(2363.54736328125,94.75)\" style=\"opacity: 1; font-family: -apple-system, BlinkMacSystemFont, &quot;Segoe WPC&quot;, &quot;Segoe UI&quot;, Ubuntu, &quot;Droid Sans&quot;, sans-serif, &quot;PingFang SC&quot;; font-size: 10px;\"><tspan xml:space=\"preserve\" dy=\"1em\" x=\"1\">/layer1/layer1.0/Relu_1_output_0</tspan></text><text class=\"edge-label\" id=\"edge-label-edge-/layer1/layer1.1/conv1/Conv_output_0\" transform=\"translate(2183.55908203125,171.25)\" style=\"opacity: 1; font-family: -apple-system, BlinkMacSystemFont, &quot;Segoe WPC&quot;, &quot;Segoe UI&quot;, Ubuntu, &quot;Droid Sans&quot;, sans-serif, &quot;PingFang SC&quot;; font-size: 10px;\"><tspan xml:space=\"preserve\" dy=\"1em\" x=\"1\">/layer1/layer1.1/conv1/Conv_output_0</tspan></text><text class=\"edge-label\" id=\"edge-label-edge-/layer1/layer1.1/Relu_output_0\" transform=\"translate(2519.36083984375,171.25)\" style=\"opacity: 1; font-family: -apple-system, BlinkMacSystemFont, &quot;Segoe WPC&quot;, &quot;Segoe UI&quot;, Ubuntu, &quot;Droid Sans&quot;, sans-serif, &quot;PingFang SC&quot;; font-size: 10px;\"><tspan xml:space=\"preserve\" dy=\"1em\" x=\"1\">/layer1/layer1.1/Relu_output_0</tspan></text><text class=\"edge-label\" id=\"edge-label-edge-/layer1/layer1.1/conv2/Conv_output_0\" transform=\"translate(2828.703125,171.25)\" style=\"opacity: 1; font-family: -apple-system, BlinkMacSystemFont, &quot;Segoe WPC&quot;, &quot;Segoe UI&quot;, Ubuntu, &quot;Droid Sans&quot;, sans-serif, &quot;PingFang SC&quot;; font-size: 10px;\"><tspan xml:space=\"preserve\" dy=\"1em\" x=\"1\">/layer1/layer1.1/conv2/Conv_output_0</tspan></text><text class=\"edge-label\" id=\"edge-label-edge-/layer1/layer1.1/Add_output_0\" transform=\"translate(3133.09765625,133)\" style=\"opacity: 1; font-family: -apple-system, BlinkMacSystemFont, &quot;Segoe WPC&quot;, &quot;Segoe UI&quot;, Ubuntu, &quot;Droid Sans&quot;, sans-serif, &quot;PingFang SC&quot;; font-size: 10px;\"><tspan xml:space=\"preserve\" dy=\"1em\" x=\"1\">/layer1/layer1.1/Add_output_0</tspan></text><text class=\"edge-label\" id=\"edge-label-edge-/layer1/layer1.1/Relu_1_output_0\" transform=\"translate(3414.3486328125,171.25)\" style=\"opacity: 1; font-family: -apple-system, BlinkMacSystemFont, &quot;Segoe WPC&quot;, &quot;Segoe UI&quot;, Ubuntu, &quot;Droid Sans&quot;, sans-serif, &quot;PingFang SC&quot;; font-size: 10px;\"><tspan xml:space=\"preserve\" dy=\"1em\" x=\"1\">/layer1/layer1.1/Relu_1_output_0</tspan></text><text class=\"edge-label\" id=\"edge-label-edge-/layer1/layer1.1/Relu_1_output_0\" transform=\"translate(3913.22021484375,94.75)\" style=\"opacity: 1; font-family: -apple-system, BlinkMacSystemFont, &quot;Segoe WPC&quot;, &quot;Segoe UI&quot;, Ubuntu, &quot;Droid Sans&quot;, sans-serif, &quot;PingFang SC&quot;; font-size: 10px;\"><tspan xml:space=\"preserve\" dy=\"1em\" x=\"1\">/layer1/layer1.1/Relu_1_output_0</tspan></text><text class=\"edge-label\" id=\"edge-label-edge-/layer1/layer1.2/conv1/Conv_output_0\" transform=\"translate(3733.23193359375,171.25)\" style=\"opacity: 1; font-family: -apple-system, BlinkMacSystemFont, &quot;Segoe WPC&quot;, &quot;Segoe UI&quot;, Ubuntu, &quot;Droid Sans&quot;, sans-serif, &quot;PingFang SC&quot;; font-size: 10px;\"><tspan xml:space=\"preserve\" dy=\"1em\" x=\"1\">/layer1/layer1.2/conv1/Conv_output_0</tspan></text><text class=\"edge-label\" id=\"edge-label-edge-/layer1/layer1.2/Relu_output_0\" transform=\"translate(4069.03369140625,171.25)\" style=\"opacity: 1; font-family: -apple-system, BlinkMacSystemFont, &quot;Segoe WPC&quot;, &quot;Segoe UI&quot;, Ubuntu, &quot;Droid Sans&quot;, sans-serif, &quot;PingFang SC&quot;; font-size: 10px;\"><tspan xml:space=\"preserve\" dy=\"1em\" x=\"1\">/layer1/layer1.2/Relu_output_0</tspan></text><text class=\"edge-label\" id=\"edge-label-edge-/layer1/layer1.2/conv2/Conv_output_0\" transform=\"translate(4378.3759765625,171.25)\" style=\"opacity: 1; font-family: -apple-system, BlinkMacSystemFont, &quot;Segoe WPC&quot;, &quot;Segoe UI&quot;, Ubuntu, &quot;Droid Sans&quot;, sans-serif, &quot;PingFang SC&quot;; font-size: 10px;\"><tspan xml:space=\"preserve\" dy=\"1em\" x=\"1\">/layer1/layer1.2/conv2/Conv_output_0</tspan></text><text class=\"edge-label\" id=\"edge-label-edge-/layer1/layer1.2/Add_output_0\" transform=\"translate(4682.7705078125,133)\" style=\"opacity: 1; font-family: -apple-system, BlinkMacSystemFont, &quot;Segoe WPC&quot;, &quot;Segoe UI&quot;, Ubuntu, &quot;Droid Sans&quot;, sans-serif, &quot;PingFang SC&quot;; font-size: 10px;\"><tspan xml:space=\"preserve\" dy=\"1em\" x=\"1\">/layer1/layer1.2/Add_output_0</tspan></text><text class=\"edge-label\" id=\"edge-label-edge-/layer1/layer1.2/Relu_1_output_0\" transform=\"translate(4964.021484375,66.5)\" style=\"opacity: 1; font-family: -apple-system, BlinkMacSystemFont, &quot;Segoe WPC&quot;, &quot;Segoe UI&quot;, Ubuntu, &quot;Droid Sans&quot;, sans-serif, &quot;PingFang SC&quot;; font-size: 10px;\"><tspan xml:space=\"preserve\" dy=\"1em\" x=\"1\">/layer1/layer1.2/Relu_1_output_0</tspan></text><text class=\"edge-label\" id=\"edge-label-edge-/layer1/layer1.2/Relu_1_output_0\" transform=\"translate(5294.9921875,199.5)\" style=\"opacity: 1; font-family: -apple-system, BlinkMacSystemFont, &quot;Segoe WPC&quot;, &quot;Segoe UI&quot;, Ubuntu, &quot;Droid Sans&quot;, sans-serif, &quot;PingFang SC&quot;; font-size: 10px;\"><tspan xml:space=\"preserve\" dy=\"1em\" x=\"1\">/layer1/layer1.2/Relu_1_output_0</tspan></text><text class=\"edge-label\" id=\"edge-label-edge-/layer2/layer2.0/conv1/Conv_output_0\" transform=\"translate(5282.90478515625,66.5)\" style=\"opacity: 1; font-family: -apple-system, BlinkMacSystemFont, &quot;Segoe WPC&quot;, &quot;Segoe UI&quot;, Ubuntu, &quot;Droid Sans&quot;, sans-serif, &quot;PingFang SC&quot;; font-size: 10px;\"><tspan xml:space=\"preserve\" dy=\"1em\" x=\"1\">/layer2/layer2.0/conv1/Conv_output_0</tspan></text><text class=\"edge-label\" id=\"edge-label-edge-/layer2/layer2.0/Relu_output_0\" transform=\"translate(5588.15869140625,66.5)\" style=\"opacity: 1; font-family: -apple-system, BlinkMacSystemFont, &quot;Segoe WPC&quot;, &quot;Segoe UI&quot;, Ubuntu, &quot;Droid Sans&quot;, sans-serif, &quot;PingFang SC&quot;; font-size: 10px;\"><tspan xml:space=\"preserve\" dy=\"1em\" x=\"1\">/layer2/layer2.0/Relu_output_0</tspan></text><text class=\"edge-label\" id=\"edge-label-edge-/layer2/layer2.0/conv2/Conv_output_0\" transform=\"translate(5989.8603515625,66.5)\" style=\"opacity: 1; font-family: -apple-system, BlinkMacSystemFont, &quot;Segoe WPC&quot;, &quot;Segoe UI&quot;, Ubuntu, &quot;Droid Sans&quot;, sans-serif, &quot;PingFang SC&quot;; font-size: 10px;\"><tspan xml:space=\"preserve\" dy=\"1em\" x=\"1\">/layer2/layer2.0/conv2/Conv_output_0</tspan></text><text class=\"edge-label\" id=\"edge-label-edge-/layer2/layer2.0/shortcut/shortcut.0/Conv_output_0\" transform=\"translate(5960.998046875,199.5)\" style=\"opacity: 1; font-family: -apple-system, BlinkMacSystemFont, &quot;Segoe WPC&quot;, &quot;Segoe UI&quot;, Ubuntu, &quot;Droid Sans&quot;, sans-serif, &quot;PingFang SC&quot;; font-size: 10px;\"><tspan xml:space=\"preserve\" dy=\"1em\" x=\"1\">/layer2/layer2.0/shortcut/shortcut.0/Conv_output_0</tspan></text><text class=\"edge-label\" id=\"edge-label-edge-/layer2/layer2.0/Add_output_0\" transform=\"translate(6323.1171875,133)\" style=\"opacity: 1; font-family: -apple-system, BlinkMacSystemFont, &quot;Segoe WPC&quot;, &quot;Segoe UI&quot;, Ubuntu, &quot;Droid Sans&quot;, sans-serif, &quot;PingFang SC&quot;; font-size: 10px;\"><tspan xml:space=\"preserve\" dy=\"1em\" x=\"1\">/layer2/layer2.0/Add_output_0</tspan></text><text class=\"edge-label\" id=\"edge-label-edge-/layer2/layer2.0/Relu_1_output_0\" transform=\"translate(6604.3681640625,171.25)\" style=\"opacity: 1; font-family: -apple-system, BlinkMacSystemFont, &quot;Segoe WPC&quot;, &quot;Segoe UI&quot;, Ubuntu, &quot;Droid Sans&quot;, sans-serif, &quot;PingFang SC&quot;; font-size: 10px;\"><tspan xml:space=\"preserve\" dy=\"1em\" x=\"1\">/layer2/layer2.0/Relu_1_output_0</tspan></text><text class=\"edge-label\" id=\"edge-label-edge-/layer2/layer2.0/Relu_1_output_0\" transform=\"translate(7103.23974609375,94.75)\" style=\"opacity: 1; font-family: -apple-system, BlinkMacSystemFont, &quot;Segoe WPC&quot;, &quot;Segoe UI&quot;, Ubuntu, &quot;Droid Sans&quot;, sans-serif, &quot;PingFang SC&quot;; font-size: 10px;\"><tspan xml:space=\"preserve\" dy=\"1em\" x=\"1\">/layer2/layer2.0/Relu_1_output_0</tspan></text><text class=\"edge-label\" id=\"edge-label-edge-/layer2/layer2.1/conv1/Conv_output_0\" transform=\"translate(6923.25146484375,171.25)\" style=\"opacity: 1; font-family: -apple-system, BlinkMacSystemFont, &quot;Segoe WPC&quot;, &quot;Segoe UI&quot;, Ubuntu, &quot;Droid Sans&quot;, sans-serif, &quot;PingFang SC&quot;; font-size: 10px;\"><tspan xml:space=\"preserve\" dy=\"1em\" x=\"1\">/layer2/layer2.1/conv1/Conv_output_0</tspan></text><text class=\"edge-label\" id=\"edge-label-edge-/layer2/layer2.1/Relu_output_0\" transform=\"translate(7259.05322265625,171.25)\" style=\"opacity: 1; font-family: -apple-system, BlinkMacSystemFont, &quot;Segoe WPC&quot;, &quot;Segoe UI&quot;, Ubuntu, &quot;Droid Sans&quot;, sans-serif, &quot;PingFang SC&quot;; font-size: 10px;\"><tspan xml:space=\"preserve\" dy=\"1em\" x=\"1\">/layer2/layer2.1/Relu_output_0</tspan></text><text class=\"edge-label\" id=\"edge-label-edge-/layer2/layer2.1/conv2/Conv_output_0\" transform=\"translate(7568.3955078125,171.25)\" style=\"opacity: 1; font-family: -apple-system, BlinkMacSystemFont, &quot;Segoe WPC&quot;, &quot;Segoe UI&quot;, Ubuntu, &quot;Droid Sans&quot;, sans-serif, &quot;PingFang SC&quot;; font-size: 10px;\"><tspan xml:space=\"preserve\" dy=\"1em\" x=\"1\">/layer2/layer2.1/conv2/Conv_output_0</tspan></text><text class=\"edge-label\" id=\"edge-label-edge-/layer2/layer2.1/Add_output_0\" transform=\"translate(7872.7900390625,133)\" style=\"opacity: 1; font-family: -apple-system, BlinkMacSystemFont, &quot;Segoe WPC&quot;, &quot;Segoe UI&quot;, Ubuntu, &quot;Droid Sans&quot;, sans-serif, &quot;PingFang SC&quot;; font-size: 10px;\"><tspan xml:space=\"preserve\" dy=\"1em\" x=\"1\">/layer2/layer2.1/Add_output_0</tspan></text><text class=\"edge-label\" id=\"edge-label-edge-/layer2/layer2.1/Relu_1_output_0\" transform=\"translate(8154.041015625,171.25)\" style=\"opacity: 1; font-family: -apple-system, BlinkMacSystemFont, &quot;Segoe WPC&quot;, &quot;Segoe UI&quot;, Ubuntu, &quot;Droid Sans&quot;, sans-serif, &quot;PingFang SC&quot;; font-size: 10px;\"><tspan xml:space=\"preserve\" dy=\"1em\" x=\"1\">/layer2/layer2.1/Relu_1_output_0</tspan></text><text class=\"edge-label\" id=\"edge-label-edge-/layer2/layer2.1/Relu_1_output_0\" transform=\"translate(8652.91259765625,94.75)\" style=\"opacity: 1; font-family: -apple-system, BlinkMacSystemFont, &quot;Segoe WPC&quot;, &quot;Segoe UI&quot;, Ubuntu, &quot;Droid Sans&quot;, sans-serif, &quot;PingFang SC&quot;; font-size: 10px;\"><tspan xml:space=\"preserve\" dy=\"1em\" x=\"1\">/layer2/layer2.1/Relu_1_output_0</tspan></text><text class=\"edge-label\" id=\"edge-label-edge-/layer2/layer2.2/conv1/Conv_output_0\" transform=\"translate(8472.92431640625,171.25)\" style=\"opacity: 1; font-family: -apple-system, BlinkMacSystemFont, &quot;Segoe WPC&quot;, &quot;Segoe UI&quot;, Ubuntu, &quot;Droid Sans&quot;, sans-serif, &quot;PingFang SC&quot;; font-size: 10px;\"><tspan xml:space=\"preserve\" dy=\"1em\" x=\"1\">/layer2/layer2.2/conv1/Conv_output_0</tspan></text><text class=\"edge-label\" id=\"edge-label-edge-/layer2/layer2.2/Relu_output_0\" transform=\"translate(8808.72607421875,171.25)\" style=\"opacity: 1; font-family: -apple-system, BlinkMacSystemFont, &quot;Segoe WPC&quot;, &quot;Segoe UI&quot;, Ubuntu, &quot;Droid Sans&quot;, sans-serif, &quot;PingFang SC&quot;; font-size: 10px;\"><tspan xml:space=\"preserve\" dy=\"1em\" x=\"1\">/layer2/layer2.2/Relu_output_0</tspan></text><text class=\"edge-label\" id=\"edge-label-edge-/layer2/layer2.2/conv2/Conv_output_0\" transform=\"translate(9118.068359375,171.25)\" style=\"opacity: 1; font-family: -apple-system, BlinkMacSystemFont, &quot;Segoe WPC&quot;, &quot;Segoe UI&quot;, Ubuntu, &quot;Droid Sans&quot;, sans-serif, &quot;PingFang SC&quot;; font-size: 10px;\"><tspan xml:space=\"preserve\" dy=\"1em\" x=\"1\">/layer2/layer2.2/conv2/Conv_output_0</tspan></text><text class=\"edge-label\" id=\"edge-label-edge-/layer2/layer2.2/Add_output_0\" transform=\"translate(9422.462890625,133)\" style=\"opacity: 1; font-family: -apple-system, BlinkMacSystemFont, &quot;Segoe WPC&quot;, &quot;Segoe UI&quot;, Ubuntu, &quot;Droid Sans&quot;, sans-serif, &quot;PingFang SC&quot;; font-size: 10px;\"><tspan xml:space=\"preserve\" dy=\"1em\" x=\"1\">/layer2/layer2.2/Add_output_0</tspan></text><text class=\"edge-label\" id=\"edge-label-edge-/layer2/layer2.2/Relu_1_output_0\" transform=\"translate(9703.7138671875,66.5)\" style=\"opacity: 1; font-family: -apple-system, BlinkMacSystemFont, &quot;Segoe WPC&quot;, &quot;Segoe UI&quot;, Ubuntu, &quot;Droid Sans&quot;, sans-serif, &quot;PingFang SC&quot;; font-size: 10px;\"><tspan xml:space=\"preserve\" dy=\"1em\" x=\"1\">/layer2/layer2.2/Relu_1_output_0</tspan></text><text class=\"edge-label\" id=\"edge-label-edge-/layer2/layer2.2/Relu_1_output_0\" transform=\"translate(10034.6845703125,199.5)\" style=\"opacity: 1; font-family: -apple-system, BlinkMacSystemFont, &quot;Segoe WPC&quot;, &quot;Segoe UI&quot;, Ubuntu, &quot;Droid Sans&quot;, sans-serif, &quot;PingFang SC&quot;; font-size: 10px;\"><tspan xml:space=\"preserve\" dy=\"1em\" x=\"1\">/layer2/layer2.2/Relu_1_output_0</tspan></text><text class=\"edge-label\" id=\"edge-label-edge-/layer3/layer3.0/conv1/Conv_output_0\" transform=\"translate(10022.59716796875,66.5)\" style=\"opacity: 1; font-family: -apple-system, BlinkMacSystemFont, &quot;Segoe WPC&quot;, &quot;Segoe UI&quot;, Ubuntu, &quot;Droid Sans&quot;, sans-serif, &quot;PingFang SC&quot;; font-size: 10px;\"><tspan xml:space=\"preserve\" dy=\"1em\" x=\"1\">/layer3/layer3.0/conv1/Conv_output_0</tspan></text><text class=\"edge-label\" id=\"edge-label-edge-/layer3/layer3.0/Relu_output_0\" transform=\"translate(10327.85107421875,66.5)\" style=\"opacity: 1; font-family: -apple-system, BlinkMacSystemFont, &quot;Segoe WPC&quot;, &quot;Segoe UI&quot;, Ubuntu, &quot;Droid Sans&quot;, sans-serif, &quot;PingFang SC&quot;; font-size: 10px;\"><tspan xml:space=\"preserve\" dy=\"1em\" x=\"1\">/layer3/layer3.0/Relu_output_0</tspan></text><text class=\"edge-label\" id=\"edge-label-edge-/layer3/layer3.0/conv2/Conv_output_0\" transform=\"translate(10729.552734375,66.5)\" style=\"opacity: 1; font-family: -apple-system, BlinkMacSystemFont, &quot;Segoe WPC&quot;, &quot;Segoe UI&quot;, Ubuntu, &quot;Droid Sans&quot;, sans-serif, &quot;PingFang SC&quot;; font-size: 10px;\"><tspan xml:space=\"preserve\" dy=\"1em\" x=\"1\">/layer3/layer3.0/conv2/Conv_output_0</tspan></text><text class=\"edge-label\" id=\"edge-label-edge-/layer3/layer3.0/shortcut/shortcut.0/Conv_output_0\" transform=\"translate(10700.6904296875,199.5)\" style=\"opacity: 1; font-family: -apple-system, BlinkMacSystemFont, &quot;Segoe WPC&quot;, &quot;Segoe UI&quot;, Ubuntu, &quot;Droid Sans&quot;, sans-serif, &quot;PingFang SC&quot;; font-size: 10px;\"><tspan xml:space=\"preserve\" dy=\"1em\" x=\"1\">/layer3/layer3.0/shortcut/shortcut.0/Conv_output_0</tspan></text><text class=\"edge-label\" id=\"edge-label-edge-/layer3/layer3.0/Add_output_0\" transform=\"translate(11062.8095703125,133)\" style=\"opacity: 1; font-family: -apple-system, BlinkMacSystemFont, &quot;Segoe WPC&quot;, &quot;Segoe UI&quot;, Ubuntu, &quot;Droid Sans&quot;, sans-serif, &quot;PingFang SC&quot;; font-size: 10px;\"><tspan xml:space=\"preserve\" dy=\"1em\" x=\"1\">/layer3/layer3.0/Add_output_0</tspan></text><text class=\"edge-label\" id=\"edge-label-edge-/layer3/layer3.0/Relu_1_output_0\" transform=\"translate(11344.060546875,171.25)\" style=\"opacity: 1; font-family: -apple-system, BlinkMacSystemFont, &quot;Segoe WPC&quot;, &quot;Segoe UI&quot;, Ubuntu, &quot;Droid Sans&quot;, sans-serif, &quot;PingFang SC&quot;; font-size: 10px;\"><tspan xml:space=\"preserve\" dy=\"1em\" x=\"1\">/layer3/layer3.0/Relu_1_output_0</tspan></text><text class=\"edge-label\" id=\"edge-label-edge-/layer3/layer3.0/Relu_1_output_0\" transform=\"translate(11842.93212890625,94.75)\" style=\"opacity: 1; font-family: -apple-system, BlinkMacSystemFont, &quot;Segoe WPC&quot;, &quot;Segoe UI&quot;, Ubuntu, &quot;Droid Sans&quot;, sans-serif, &quot;PingFang SC&quot;; font-size: 10px;\"><tspan xml:space=\"preserve\" dy=\"1em\" x=\"1\">/layer3/layer3.0/Relu_1_output_0</tspan></text><text class=\"edge-label\" id=\"edge-label-edge-/layer3/layer3.1/conv1/Conv_output_0\" transform=\"translate(11662.94384765625,171.25)\" style=\"opacity: 1; font-family: -apple-system, BlinkMacSystemFont, &quot;Segoe WPC&quot;, &quot;Segoe UI&quot;, Ubuntu, &quot;Droid Sans&quot;, sans-serif, &quot;PingFang SC&quot;; font-size: 10px;\"><tspan xml:space=\"preserve\" dy=\"1em\" x=\"1\">/layer3/layer3.1/conv1/Conv_output_0</tspan></text><text class=\"edge-label\" id=\"edge-label-edge-/layer3/layer3.1/Relu_output_0\" transform=\"translate(11998.74560546875,171.25)\" style=\"opacity: 1; font-family: -apple-system, BlinkMacSystemFont, &quot;Segoe WPC&quot;, &quot;Segoe UI&quot;, Ubuntu, &quot;Droid Sans&quot;, sans-serif, &quot;PingFang SC&quot;; font-size: 10px;\"><tspan xml:space=\"preserve\" dy=\"1em\" x=\"1\">/layer3/layer3.1/Relu_output_0</tspan></text><text class=\"edge-label\" id=\"edge-label-edge-/layer3/layer3.1/conv2/Conv_output_0\" transform=\"translate(12308.087890625,171.25)\" style=\"opacity: 1; font-family: -apple-system, BlinkMacSystemFont, &quot;Segoe WPC&quot;, &quot;Segoe UI&quot;, Ubuntu, &quot;Droid Sans&quot;, sans-serif, &quot;PingFang SC&quot;; font-size: 10px;\"><tspan xml:space=\"preserve\" dy=\"1em\" x=\"1\">/layer3/layer3.1/conv2/Conv_output_0</tspan></text><text class=\"edge-label\" id=\"edge-label-edge-/layer3/layer3.1/Add_output_0\" transform=\"translate(12612.482421875,133)\" style=\"opacity: 1; font-family: -apple-system, BlinkMacSystemFont, &quot;Segoe WPC&quot;, &quot;Segoe UI&quot;, Ubuntu, &quot;Droid Sans&quot;, sans-serif, &quot;PingFang SC&quot;; font-size: 10px;\"><tspan xml:space=\"preserve\" dy=\"1em\" x=\"1\">/layer3/layer3.1/Add_output_0</tspan></text><text class=\"edge-label\" id=\"edge-label-edge-/layer3/layer3.1/Relu_1_output_0\" transform=\"translate(12893.7333984375,66.5)\" style=\"opacity: 1; font-family: -apple-system, BlinkMacSystemFont, &quot;Segoe WPC&quot;, &quot;Segoe UI&quot;, Ubuntu, &quot;Droid Sans&quot;, sans-serif, &quot;PingFang SC&quot;; font-size: 10px;\"><tspan xml:space=\"preserve\" dy=\"1em\" x=\"1\">/layer3/layer3.1/Relu_1_output_0</tspan></text><text class=\"edge-label\" id=\"edge-label-edge-/layer3/layer3.1/Relu_1_output_0\" transform=\"translate(13224.7041015625,199.5)\" style=\"opacity: 1; font-family: -apple-system, BlinkMacSystemFont, &quot;Segoe WPC&quot;, &quot;Segoe UI&quot;, Ubuntu, &quot;Droid Sans&quot;, sans-serif, &quot;PingFang SC&quot;; font-size: 10px;\"><tspan xml:space=\"preserve\" dy=\"1em\" x=\"1\">/layer3/layer3.1/Relu_1_output_0</tspan></text><text class=\"edge-label\" id=\"edge-label-edge-/layer4/layer4.0/conv1/Conv_output_0\" transform=\"translate(13212.61669921875,66.5)\" style=\"opacity: 1; font-family: -apple-system, BlinkMacSystemFont, &quot;Segoe WPC&quot;, &quot;Segoe UI&quot;, Ubuntu, &quot;Droid Sans&quot;, sans-serif, &quot;PingFang SC&quot;; font-size: 10px;\"><tspan xml:space=\"preserve\" dy=\"1em\" x=\"1\">/layer4/layer4.0/conv1/Conv_output_0</tspan></text><text class=\"edge-label\" id=\"edge-label-edge-/layer4/layer4.0/Relu_output_0\" transform=\"translate(13517.87060546875,66.5)\" style=\"opacity: 1; font-family: -apple-system, BlinkMacSystemFont, &quot;Segoe WPC&quot;, &quot;Segoe UI&quot;, Ubuntu, &quot;Droid Sans&quot;, sans-serif, &quot;PingFang SC&quot;; font-size: 10px;\"><tspan xml:space=\"preserve\" dy=\"1em\" x=\"1\">/layer4/layer4.0/Relu_output_0</tspan></text><text class=\"edge-label\" id=\"edge-label-edge-/layer4/layer4.0/conv2/Conv_output_0\" transform=\"translate(13919.572265625,66.5)\" style=\"opacity: 1; font-family: -apple-system, BlinkMacSystemFont, &quot;Segoe WPC&quot;, &quot;Segoe UI&quot;, Ubuntu, &quot;Droid Sans&quot;, sans-serif, &quot;PingFang SC&quot;; font-size: 10px;\"><tspan xml:space=\"preserve\" dy=\"1em\" x=\"1\">/layer4/layer4.0/conv2/Conv_output_0</tspan></text><text class=\"edge-label\" id=\"edge-label-edge-/layer4/layer4.0/shortcut/shortcut.0/Conv_output_0\" transform=\"translate(13890.7099609375,199.5)\" style=\"opacity: 1; font-family: -apple-system, BlinkMacSystemFont, &quot;Segoe WPC&quot;, &quot;Segoe UI&quot;, Ubuntu, &quot;Droid Sans&quot;, sans-serif, &quot;PingFang SC&quot;; font-size: 10px;\"><tspan xml:space=\"preserve\" dy=\"1em\" x=\"1\">/layer4/layer4.0/shortcut/shortcut.0/Conv_output_0</tspan></text><text class=\"edge-label\" id=\"edge-label-edge-/layer4/layer4.0/Add_output_0\" transform=\"translate(14252.8291015625,133)\" style=\"opacity: 1; font-family: -apple-system, BlinkMacSystemFont, &quot;Segoe WPC&quot;, &quot;Segoe UI&quot;, Ubuntu, &quot;Droid Sans&quot;, sans-serif, &quot;PingFang SC&quot;; font-size: 10px;\"><tspan xml:space=\"preserve\" dy=\"1em\" x=\"1\">/layer4/layer4.0/Add_output_0</tspan></text><text class=\"edge-label\" id=\"edge-label-edge-/layer4/layer4.0/Relu_1_output_0\" transform=\"translate(14534.080078125,171.25)\" style=\"opacity: 1; font-family: -apple-system, BlinkMacSystemFont, &quot;Segoe WPC&quot;, &quot;Segoe UI&quot;, Ubuntu, &quot;Droid Sans&quot;, sans-serif, &quot;PingFang SC&quot;; font-size: 10px;\"><tspan xml:space=\"preserve\" dy=\"1em\" x=\"1\">/layer4/layer4.0/Relu_1_output_0</tspan></text><text class=\"edge-label\" id=\"edge-label-edge-/layer4/layer4.0/Relu_1_output_0\" transform=\"translate(15032.95166015625,94.75)\" style=\"opacity: 1; font-family: -apple-system, BlinkMacSystemFont, &quot;Segoe WPC&quot;, &quot;Segoe UI&quot;, Ubuntu, &quot;Droid Sans&quot;, sans-serif, &quot;PingFang SC&quot;; font-size: 10px;\"><tspan xml:space=\"preserve\" dy=\"1em\" x=\"1\">/layer4/layer4.0/Relu_1_output_0</tspan></text><text class=\"edge-label\" id=\"edge-label-edge-/layer4/layer4.1/conv1/Conv_output_0\" transform=\"translate(14852.96337890625,171.25)\" style=\"opacity: 1; font-family: -apple-system, BlinkMacSystemFont, &quot;Segoe WPC&quot;, &quot;Segoe UI&quot;, Ubuntu, &quot;Droid Sans&quot;, sans-serif, &quot;PingFang SC&quot;; font-size: 10px;\"><tspan xml:space=\"preserve\" dy=\"1em\" x=\"1\">/layer4/layer4.1/conv1/Conv_output_0</tspan></text><text class=\"edge-label\" id=\"edge-label-edge-/layer4/layer4.1/Relu_output_0\" transform=\"translate(15188.76513671875,171.25)\" style=\"opacity: 1; font-family: -apple-system, BlinkMacSystemFont, &quot;Segoe WPC&quot;, &quot;Segoe UI&quot;, Ubuntu, &quot;Droid Sans&quot;, sans-serif, &quot;PingFang SC&quot;; font-size: 10px;\"><tspan xml:space=\"preserve\" dy=\"1em\" x=\"1\">/layer4/layer4.1/Relu_output_0</tspan></text><text class=\"edge-label\" id=\"edge-label-edge-/layer4/layer4.1/conv2/Conv_output_0\" transform=\"translate(15498.107421875,171.25)\" style=\"opacity: 1; font-family: -apple-system, BlinkMacSystemFont, &quot;Segoe WPC&quot;, &quot;Segoe UI&quot;, Ubuntu, &quot;Droid Sans&quot;, sans-serif, &quot;PingFang SC&quot;; font-size: 10px;\"><tspan xml:space=\"preserve\" dy=\"1em\" x=\"1\">/layer4/layer4.1/conv2/Conv_output_0</tspan></text><text class=\"edge-label\" id=\"edge-label-edge-/layer4/layer4.1/Add_output_0\" transform=\"translate(15802.501953125,133)\" style=\"opacity: 1; font-family: -apple-system, BlinkMacSystemFont, &quot;Segoe WPC&quot;, &quot;Segoe UI&quot;, Ubuntu, &quot;Droid Sans&quot;, sans-serif, &quot;PingFang SC&quot;; font-size: 10px;\"><tspan xml:space=\"preserve\" dy=\"1em\" x=\"1\">/layer4/layer4.1/Add_output_0</tspan></text><text class=\"edge-label\" id=\"edge-label-edge-/layer4/layer4.1/Relu_1_output_0\" transform=\"translate(16083.7529296875,171.25)\" style=\"opacity: 1; font-family: -apple-system, BlinkMacSystemFont, &quot;Segoe WPC&quot;, &quot;Segoe UI&quot;, Ubuntu, &quot;Droid Sans&quot;, sans-serif, &quot;PingFang SC&quot;; font-size: 10px;\"><tspan xml:space=\"preserve\" dy=\"1em\" x=\"1\">/layer4/layer4.1/Relu_1_output_0</tspan></text><text class=\"edge-label\" id=\"edge-label-edge-/layer4/layer4.1/Relu_1_output_0\" transform=\"translate(16582.62451171875,94.75)\" style=\"opacity: 1; font-family: -apple-system, BlinkMacSystemFont, &quot;Segoe WPC&quot;, &quot;Segoe UI&quot;, Ubuntu, &quot;Droid Sans&quot;, sans-serif, &quot;PingFang SC&quot;; font-size: 10px;\"><tspan xml:space=\"preserve\" dy=\"1em\" x=\"1\">/layer4/layer4.1/Relu_1_output_0</tspan></text><text class=\"edge-label\" id=\"edge-label-edge-/layer4/layer4.2/conv1/Conv_output_0\" transform=\"translate(16402.63623046875,171.25)\" style=\"opacity: 1; font-family: -apple-system, BlinkMacSystemFont, &quot;Segoe WPC&quot;, &quot;Segoe UI&quot;, Ubuntu, &quot;Droid Sans&quot;, sans-serif, &quot;PingFang SC&quot;; font-size: 10px;\"><tspan xml:space=\"preserve\" dy=\"1em\" x=\"1\">/layer4/layer4.2/conv1/Conv_output_0</tspan></text><text class=\"edge-label\" id=\"edge-label-edge-/layer4/layer4.2/Relu_output_0\" transform=\"translate(16738.43798828125,171.25)\" style=\"opacity: 1; font-family: -apple-system, BlinkMacSystemFont, &quot;Segoe WPC&quot;, &quot;Segoe UI&quot;, Ubuntu, &quot;Droid Sans&quot;, sans-serif, &quot;PingFang SC&quot;; font-size: 10px;\"><tspan xml:space=\"preserve\" dy=\"1em\" x=\"1\">/layer4/layer4.2/Relu_output_0</tspan></text><text class=\"edge-label\" id=\"edge-label-edge-/layer4/layer4.2/conv2/Conv_output_0\" transform=\"translate(17047.7802734375,171.25)\" style=\"opacity: 1; font-family: -apple-system, BlinkMacSystemFont, &quot;Segoe WPC&quot;, &quot;Segoe UI&quot;, Ubuntu, &quot;Droid Sans&quot;, sans-serif, &quot;PingFang SC&quot;; font-size: 10px;\"><tspan xml:space=\"preserve\" dy=\"1em\" x=\"1\">/layer4/layer4.2/conv2/Conv_output_0</tspan></text><text class=\"edge-label\" id=\"edge-label-edge-/layer4/layer4.2/Add_output_0\" transform=\"translate(17352.1748046875,133)\" style=\"opacity: 1; font-family: -apple-system, BlinkMacSystemFont, &quot;Segoe WPC&quot;, &quot;Segoe UI&quot;, Ubuntu, &quot;Droid Sans&quot;, sans-serif, &quot;PingFang SC&quot;; font-size: 10px;\"><tspan xml:space=\"preserve\" dy=\"1em\" x=\"1\">/layer4/layer4.2/Add_output_0</tspan></text><text class=\"edge-label\" id=\"edge-label-edge-/layer4/layer4.2/Relu_1_output_0\" transform=\"translate(17633.42578125,133)\" style=\"opacity: 1; font-family: -apple-system, BlinkMacSystemFont, &quot;Segoe WPC&quot;, &quot;Segoe UI&quot;, Ubuntu, &quot;Droid Sans&quot;, sans-serif, &quot;PingFang SC&quot;; font-size: 10px;\"><tspan xml:space=\"preserve\" dy=\"1em\" x=\"1\">/layer4/layer4.2/Relu_1_output_0</tspan></text><text class=\"edge-label\" id=\"edge-label-edge-/Pad_output_0\" transform=\"translate(17911.203132629395,133)\" style=\"opacity: 1; font-family: -apple-system, BlinkMacSystemFont, &quot;Segoe WPC&quot;, &quot;Segoe UI&quot;, Ubuntu, &quot;Droid Sans&quot;, sans-serif, &quot;PingFang SC&quot;; font-size: 10px;\"><tspan xml:space=\"preserve\" dy=\"1em\" x=\"1\">/Pad_output_0</tspan></text><text class=\"edge-label\" id=\"edge-label-edge-/AveragePool_output_0\" transform=\"translate(18085.340827941895,133)\" style=\"opacity: 1; font-family: -apple-system, BlinkMacSystemFont, &quot;Segoe WPC&quot;, &quot;Segoe UI&quot;, Ubuntu, &quot;Droid Sans&quot;, sans-serif, &quot;PingFang SC&quot;; font-size: 10px;\"><tspan xml:space=\"preserve\" dy=\"1em\" x=\"1\">/AveragePool_output_0</tspan></text><text class=\"edge-label\" id=\"edge-label-edge-/Reshape_output_0\" transform=\"translate(18284.699226379395,133)\" style=\"opacity: 1; font-family: -apple-system, BlinkMacSystemFont, &quot;Segoe WPC&quot;, &quot;Segoe UI&quot;, Ubuntu, &quot;Droid Sans&quot;, sans-serif, &quot;PingFang SC&quot;; font-size: 10px;\"><tspan xml:space=\"preserve\" dy=\"1em\" x=\"1\">/Reshape_output_0</tspan></text><text class=\"edge-label\" id=\"edge-label-edge-modelOutput\" transform=\"translate(18473.293952941895,133)\" style=\"opacity: 1; font-family: -apple-system, BlinkMacSystemFont, &quot;Segoe WPC&quot;, &quot;Segoe UI&quot;, Ubuntu, &quot;Droid Sans&quot;, sans-serif, &quot;PingFang SC&quot;; font-size: 10px;\"><tspan xml:space=\"preserve\" dy=\"1em\" x=\"1\">modelOutput</tspan></text></g><g id=\"nodes\" class=\"nodes\"><g id=\"input-name-modelInput\" class=\"node graph-input\" transform=\"translate(0,111.5)\" style=\"opacity: 1;\"><g class=\"node-item graph-item-input\" transform=\"translate(0,0)\"><path d=\"M5,0h60.658203125a5,5 0 0 1 5,5v13a5,5 0 0 1 -5,5h-60.658203125a5,5 0 0 1 -5,-5v-13a5,5 0 0 1 5,-5z\" style=\"stroke: rgb(0, 0, 0); fill: rgb(238, 238, 238); stroke-width: 0;\"/><text x=\"6\" y=\"16\" style=\"font-family: -apple-system, BlinkMacSystemFont, &quot;Segoe WPC&quot;, &quot;Segoe UI&quot;, Ubuntu, &quot;Droid Sans&quot;, sans-serif, &quot;PingFang SC&quot;; font-size: 11px; text-rendering: geometricprecision;\">modelInput</text><title>float32[4,3,32,32]</title></g><path class=\"node border\" d=\"M5,0h60.658203125a5,5 0 0 1 5,5v13a5,5 0 0 1 -5,5h-60.658203125a5,5 0 0 1 -5,-5v-13a5,5 0 0 1 5,-5z\" style=\"stroke: rgb(51, 51, 51); fill: none; stroke-width: 1px;\"/></g><g id=\"node-name-/conv1/Conv\" class=\"node graph-node\" transform=\"translate(162.529296875,66.5)\" style=\"opacity: 1;\"><g class=\"node-item node-item-type node-item-type-layer\" transform=\"translate(0,0)\"><path d=\"M5,0h78.87109375a5,5 0 0 1 5,5v18a0,0 0 0 1 0,0h-88.87109375a0,0 0 0 1 0,0v-18a5,5 0 0 1 5,-5z\" style=\"stroke: rgb(0, 0, 0); fill: rgb(51, 85, 136); stroke-width: 0;\"/><text x=\"6\" y=\"16\" style=\"font-family: -apple-system, BlinkMacSystemFont, &quot;Segoe WPC&quot;, &quot;Segoe UI&quot;, Ubuntu, &quot;Droid Sans&quot;, sans-serif, &quot;PingFang SC&quot;; font-size: 11px; text-rendering: geometricprecision; fill: rgb(255, 255, 255);\">/conv1/Conv</text><title>Conv</title></g><g class=\"node-attribute\" transform=\"translate(0,23)\"><path d=\"M0,0h88.87109375a0,0 0 0 1 0,0v85a5,5 0 0 1 -5,5h-78.87109375a5,5 0 0 1 -5,-5v-85a0,0 0 0 1 0,0z\" style=\"stroke: rgb(0, 0, 0); fill: rgb(255, 255, 255); stroke-width: 0;\"/><text id=\"initializer-onnx::Conv_255\" xml:space=\"preserve\" x=\"6\" y=\"14\" style=\"font-family: -apple-system, BlinkMacSystemFont, &quot;Segoe WPC&quot;, &quot;Segoe UI&quot;, Ubuntu, &quot;Droid Sans&quot;, sans-serif, &quot;PingFang SC&quot;; font-size: 9px; font-weight: normal; text-rendering: geometricprecision;\"><title>float32[64,3,3,3]</title><tspan style=\"font-weight: bold;\">W</tspan><tspan>〈64×3×3×3〉</tspan></text><text id=\"initializer-onnx::Conv_256\" xml:space=\"preserve\" x=\"6\" y=\"28\" style=\"font-family: -apple-system, BlinkMacSystemFont, &quot;Segoe WPC&quot;, &quot;Segoe UI&quot;, Ubuntu, &quot;Droid Sans&quot;, sans-serif, &quot;PingFang SC&quot;; font-size: 9px; font-weight: normal; text-rendering: geometricprecision;\"><title>float32[64]</title><tspan style=\"font-weight: bold;\">B</tspan><tspan>〈64〉</tspan></text><text xml:space=\"preserve\" x=\"6\" y=\"42\" style=\"font-family: -apple-system, BlinkMacSystemFont, &quot;Segoe WPC&quot;, &quot;Segoe UI&quot;, Ubuntu, &quot;Droid Sans&quot;, sans-serif, &quot;PingFang SC&quot;; font-size: 9px; font-weight: normal; text-rendering: geometricprecision;\"><title>int64[]</title><tspan>dilations</tspan><tspan> = 1, 1</tspan></text><text xml:space=\"preserve\" x=\"6\" y=\"56\" style=\"font-family: -apple-system, BlinkMacSystemFont, &quot;Segoe WPC&quot;, &quot;Segoe UI&quot;, Ubuntu, &quot;Droid Sans&quot;, sans-serif, &quot;PingFang SC&quot;; font-size: 9px; font-weight: normal; text-rendering: geometricprecision;\"><title>int64[]</title><tspan>kernel_shape</tspan><tspan> = 3, 3</tspan></text><text xml:space=\"preserve\" x=\"6\" y=\"70\" style=\"font-family: -apple-system, BlinkMacSystemFont, &quot;Segoe WPC&quot;, &quot;Segoe UI&quot;, Ubuntu, &quot;Droid Sans&quot;, sans-serif, &quot;PingFang SC&quot;; font-size: 9px; font-weight: normal; text-rendering: geometricprecision;\"><title>int64[]</title><tspan>pads</tspan><tspan> = 1, 1, 1, 1</tspan></text><text xml:space=\"preserve\" x=\"6\" y=\"84\" style=\"font-family: -apple-system, BlinkMacSystemFont, &quot;Segoe WPC&quot;, &quot;Segoe UI&quot;, Ubuntu, &quot;Droid Sans&quot;, sans-serif, &quot;PingFang SC&quot;; font-size: 9px; font-weight: normal; text-rendering: geometricprecision;\"><title>int64[]</title><tspan>strides</tspan><tspan> = 1, 1</tspan></text><line class=\"node\" x1=\"0\" x2=\"88.87109375\" y1=\"0\" y2=\"0\" style=\"stroke: rgb(51, 51, 51); fill: none; stroke-width: 1px;\"/></g><path class=\"node border\" d=\"M5,0h78.87109375a5,5 0 0 1 5,5v103a5,5 0 0 1 -5,5h-78.87109375a5,5 0 0 1 -5,-5v-103a5,5 0 0 1 5,-5z\" style=\"stroke: rgb(51, 51, 51); fill: none; stroke-width: 1px;\"/></g><g id=\"node-name-/Relu\" class=\"node graph-node\" transform=\"translate(373.146484375,111.5)\" style=\"opacity: 1;\"><g class=\"node-item node-item-type node-item-type-activation\" transform=\"translate(0,0)\"><path d=\"M5,0h30.1875a5,5 0 0 1 5,5v13a5,5 0 0 1 -5,5h-30.1875a5,5 0 0 1 -5,-5v-13a5,5 0 0 1 5,-5z\" style=\"stroke: rgb(0, 0, 0); fill: rgb(112, 41, 33); stroke-width: 0;\"/><text x=\"6\" y=\"16\" style=\"font-family: -apple-system, BlinkMacSystemFont, &quot;Segoe WPC&quot;, &quot;Segoe UI&quot;, Ubuntu, &quot;Droid Sans&quot;, sans-serif, &quot;PingFang SC&quot;; font-size: 11px; text-rendering: geometricprecision; fill: rgb(255, 255, 255);\">/Relu</text><title>Relu</title></g><path class=\"node border\" d=\"M5,0h30.1875a5,5 0 0 1 5,5v13a5,5 0 0 1 -5,5h-30.1875a5,5 0 0 1 -5,-5v-13a5,5 0 0 1 5,-5z\" style=\"stroke: rgb(51, 51, 51); fill: none; stroke-width: 1px;\"/></g><g id=\"node-name-/layer1/layer1.0/conv1/Conv\" class=\"node graph-node\" transform=\"translate(501.3642578125,104.75)\" style=\"opacity: 1;\"><g class=\"node-item node-item-type node-item-type-layer\" transform=\"translate(0,0)\"><path d=\"M5,0h143.06982421875a5,5 0 0 1 5,5v18a0,0 0 0 1 0,0h-153.06982421875a0,0 0 0 1 0,0v-18a5,5 0 0 1 5,-5z\" style=\"stroke: rgb(0, 0, 0); fill: rgb(51, 85, 136); stroke-width: 0;\"/><text x=\"6\" y=\"16\" style=\"font-family: -apple-system, BlinkMacSystemFont, &quot;Segoe WPC&quot;, &quot;Segoe UI&quot;, Ubuntu, &quot;Droid Sans&quot;, sans-serif, &quot;PingFang SC&quot;; font-size: 11px; text-rendering: geometricprecision; fill: rgb(255, 255, 255);\">/layer1/layer1.0/conv1/Conv</text><title>Conv</title></g><g class=\"node-attribute\" transform=\"translate(0,23)\"><path d=\"M0,0h153.06982421875a0,0 0 0 1 0,0v85a5,5 0 0 1 -5,5h-143.06982421875a5,5 0 0 1 -5,-5v-85a0,0 0 0 1 0,0z\" style=\"stroke: rgb(0, 0, 0); fill: rgb(255, 255, 255); stroke-width: 0;\"/><text id=\"initializer-onnx::Conv_258\" xml:space=\"preserve\" x=\"6\" y=\"14\" style=\"font-family: -apple-system, BlinkMacSystemFont, &quot;Segoe WPC&quot;, &quot;Segoe UI&quot;, Ubuntu, &quot;Droid Sans&quot;, sans-serif, &quot;PingFang SC&quot;; font-size: 9px; font-weight: normal; text-rendering: geometricprecision;\"><title>float32[64,64,3,3]</title><tspan style=\"font-weight: bold;\">W</tspan><tspan>〈64×64×3×3〉</tspan></text><text id=\"initializer-onnx::Conv_259\" xml:space=\"preserve\" x=\"6\" y=\"28\" style=\"font-family: -apple-system, BlinkMacSystemFont, &quot;Segoe WPC&quot;, &quot;Segoe UI&quot;, Ubuntu, &quot;Droid Sans&quot;, sans-serif, &quot;PingFang SC&quot;; font-size: 9px; font-weight: normal; text-rendering: geometricprecision;\"><title>float32[64]</title><tspan style=\"font-weight: bold;\">B</tspan><tspan>〈64〉</tspan></text><text xml:space=\"preserve\" x=\"6\" y=\"42\" style=\"font-family: -apple-system, BlinkMacSystemFont, &quot;Segoe WPC&quot;, &quot;Segoe UI&quot;, Ubuntu, &quot;Droid Sans&quot;, sans-serif, &quot;PingFang SC&quot;; font-size: 9px; font-weight: normal; text-rendering: geometricprecision;\"><title>int64[]</title><tspan>dilations</tspan><tspan> = 1, 1</tspan></text><text xml:space=\"preserve\" x=\"6\" y=\"56\" style=\"font-family: -apple-system, BlinkMacSystemFont, &quot;Segoe WPC&quot;, &quot;Segoe UI&quot;, Ubuntu, &quot;Droid Sans&quot;, sans-serif, &quot;PingFang SC&quot;; font-size: 9px; font-weight: normal; text-rendering: geometricprecision;\"><title>int64[]</title><tspan>kernel_shape</tspan><tspan> = 3, 3</tspan></text><text xml:space=\"preserve\" x=\"6\" y=\"70\" style=\"font-family: -apple-system, BlinkMacSystemFont, &quot;Segoe WPC&quot;, &quot;Segoe UI&quot;, Ubuntu, &quot;Droid Sans&quot;, sans-serif, &quot;PingFang SC&quot;; font-size: 9px; font-weight: normal; text-rendering: geometricprecision;\"><title>int64[]</title><tspan>pads</tspan><tspan> = 1, 1, 1, 1</tspan></text><text xml:space=\"preserve\" x=\"6\" y=\"84\" style=\"font-family: -apple-system, BlinkMacSystemFont, &quot;Segoe WPC&quot;, &quot;Segoe UI&quot;, Ubuntu, &quot;Droid Sans&quot;, sans-serif, &quot;PingFang SC&quot;; font-size: 9px; font-weight: normal; text-rendering: geometricprecision;\"><title>int64[]</title><tspan>strides</tspan><tspan> = 1, 1</tspan></text><line class=\"node\" x1=\"0\" x2=\"153.06982421875\" y1=\"0\" y2=\"0\" style=\"stroke: rgb(51, 51, 51); fill: none; stroke-width: 1px;\"/></g><path class=\"node border\" d=\"M5,0h143.06982421875a5,5 0 0 1 5,5v103a5,5 0 0 1 -5,5h-143.06982421875a5,5 0 0 1 -5,-5v-103a5,5 0 0 1 5,-5z\" style=\"stroke: rgb(51, 51, 51); fill: none; stroke-width: 1px;\"/></g><g id=\"node-name-/layer1/layer1.0/Relu\" class=\"node graph-node\" transform=\"translate(844.42236328125,149.75)\" style=\"opacity: 1;\"><g class=\"node-item node-item-type node-item-type-activation\" transform=\"translate(0,0)\"><path d=\"M5,0h105.265625a5,5 0 0 1 5,5v13a5,5 0 0 1 -5,5h-105.265625a5,5 0 0 1 -5,-5v-13a5,5 0 0 1 5,-5z\" style=\"stroke: rgb(0, 0, 0); fill: rgb(112, 41, 33); stroke-width: 0;\"/><text x=\"6\" y=\"16\" style=\"font-family: -apple-system, BlinkMacSystemFont, &quot;Segoe WPC&quot;, &quot;Segoe UI&quot;, Ubuntu, &quot;Droid Sans&quot;, sans-serif, &quot;PingFang SC&quot;; font-size: 11px; text-rendering: geometricprecision; fill: rgb(255, 255, 255);\">/layer1/layer1.0/Relu</text><title>Relu</title></g><path class=\"node border\" d=\"M5,0h105.265625a5,5 0 0 1 5,5v13a5,5 0 0 1 -5,5h-105.265625a5,5 0 0 1 -5,-5v-13a5,5 0 0 1 5,-5z\" style=\"stroke: rgb(51, 51, 51); fill: none; stroke-width: 1px;\"/></g><g id=\"node-name-/layer1/layer1.0/conv2/Conv\" class=\"node graph-node\" transform=\"translate(1115.96044921875,104.75)\" style=\"opacity: 1;\"><g class=\"node-item node-item-type node-item-type-layer\" transform=\"translate(0,0)\"><path d=\"M5,0h143.06982421875a5,5 0 0 1 5,5v18a0,0 0 0 1 0,0h-153.06982421875a0,0 0 0 1 0,0v-18a5,5 0 0 1 5,-5z\" style=\"stroke: rgb(0, 0, 0); fill: rgb(51, 85, 136); stroke-width: 0;\"/><text x=\"6\" y=\"16\" style=\"font-family: -apple-system, BlinkMacSystemFont, &quot;Segoe WPC&quot;, &quot;Segoe UI&quot;, Ubuntu, &quot;Droid Sans&quot;, sans-serif, &quot;PingFang SC&quot;; font-size: 11px; text-rendering: geometricprecision; fill: rgb(255, 255, 255);\">/layer1/layer1.0/conv2/Conv</text><title>Conv</title></g><g class=\"node-attribute\" transform=\"translate(0,23)\"><path d=\"M0,0h153.06982421875a0,0 0 0 1 0,0v85a5,5 0 0 1 -5,5h-143.06982421875a5,5 0 0 1 -5,-5v-85a0,0 0 0 1 0,0z\" style=\"stroke: rgb(0, 0, 0); fill: rgb(255, 255, 255); stroke-width: 0;\"/><text id=\"initializer-onnx::Conv_261\" xml:space=\"preserve\" x=\"6\" y=\"14\" style=\"font-family: -apple-system, BlinkMacSystemFont, &quot;Segoe WPC&quot;, &quot;Segoe UI&quot;, Ubuntu, &quot;Droid Sans&quot;, sans-serif, &quot;PingFang SC&quot;; font-size: 9px; font-weight: normal; text-rendering: geometricprecision;\"><title>float32[64,64,3,3]</title><tspan style=\"font-weight: bold;\">W</tspan><tspan>〈64×64×3×3〉</tspan></text><text id=\"initializer-onnx::Conv_262\" xml:space=\"preserve\" x=\"6\" y=\"28\" style=\"font-family: -apple-system, BlinkMacSystemFont, &quot;Segoe WPC&quot;, &quot;Segoe UI&quot;, Ubuntu, &quot;Droid Sans&quot;, sans-serif, &quot;PingFang SC&quot;; font-size: 9px; font-weight: normal; text-rendering: geometricprecision;\"><title>float32[64]</title><tspan style=\"font-weight: bold;\">B</tspan><tspan>〈64〉</tspan></text><text xml:space=\"preserve\" x=\"6\" y=\"42\" style=\"font-family: -apple-system, BlinkMacSystemFont, &quot;Segoe WPC&quot;, &quot;Segoe UI&quot;, Ubuntu, &quot;Droid Sans&quot;, sans-serif, &quot;PingFang SC&quot;; font-size: 9px; font-weight: normal; text-rendering: geometricprecision;\"><title>int64[]</title><tspan>dilations</tspan><tspan> = 1, 1</tspan></text><text xml:space=\"preserve\" x=\"6\" y=\"56\" style=\"font-family: -apple-system, BlinkMacSystemFont, &quot;Segoe WPC&quot;, &quot;Segoe UI&quot;, Ubuntu, &quot;Droid Sans&quot;, sans-serif, &quot;PingFang SC&quot;; font-size: 9px; font-weight: normal; text-rendering: geometricprecision;\"><title>int64[]</title><tspan>kernel_shape</tspan><tspan> = 3, 3</tspan></text><text xml:space=\"preserve\" x=\"6\" y=\"70\" style=\"font-family: -apple-system, BlinkMacSystemFont, &quot;Segoe WPC&quot;, &quot;Segoe UI&quot;, Ubuntu, &quot;Droid Sans&quot;, sans-serif, &quot;PingFang SC&quot;; font-size: 9px; font-weight: normal; text-rendering: geometricprecision;\"><title>int64[]</title><tspan>pads</tspan><tspan> = 1, 1, 1, 1</tspan></text><text xml:space=\"preserve\" x=\"6\" y=\"84\" style=\"font-family: -apple-system, BlinkMacSystemFont, &quot;Segoe WPC&quot;, &quot;Segoe UI&quot;, Ubuntu, &quot;Droid Sans&quot;, sans-serif, &quot;PingFang SC&quot;; font-size: 9px; font-weight: normal; text-rendering: geometricprecision;\"><title>int64[]</title><tspan>strides</tspan><tspan> = 1, 1</tspan></text><line class=\"node\" x1=\"0\" x2=\"153.06982421875\" y1=\"0\" y2=\"0\" style=\"stroke: rgb(51, 51, 51); fill: none; stroke-width: 1px;\"/></g><path class=\"node border\" d=\"M5,0h143.06982421875a5,5 0 0 1 5,5v103a5,5 0 0 1 -5,5h-143.06982421875a5,5 0 0 1 -5,-5v-103a5,5 0 0 1 5,-5z\" style=\"stroke: rgb(51, 51, 51); fill: none; stroke-width: 1px;\"/></g><g id=\"node-name-/layer1/layer1.0/Add\" class=\"node graph-node\" transform=\"translate(1459.0185546875,111.5)\" style=\"opacity: 1;\"><g class=\"node-item node-item-type\" transform=\"translate(0,0)\"><path d=\"M5,0h104.40625a5,5 0 0 1 5,5v13a5,5 0 0 1 -5,5h-104.40625a5,5 0 0 1 -5,-5v-13a5,5 0 0 1 5,-5z\" style=\"stroke: rgb(0, 0, 0); fill: rgb(0, 0, 0); stroke-width: 0;\"/><text x=\"6\" y=\"16\" style=\"font-family: -apple-system, BlinkMacSystemFont, &quot;Segoe WPC&quot;, &quot;Segoe UI&quot;, Ubuntu, &quot;Droid Sans&quot;, sans-serif, &quot;PingFang SC&quot;; font-size: 11px; text-rendering: geometricprecision; fill: rgb(255, 255, 255);\">/layer1/layer1.0/Add</text><title>Add</title></g><path class=\"node border\" d=\"M5,0h104.40625a5,5 0 0 1 5,5v13a5,5 0 0 1 -5,5h-104.40625a5,5 0 0 1 -5,-5v-13a5,5 0 0 1 5,-5z\" style=\"stroke: rgb(51, 51, 51); fill: none; stroke-width: 1px;\"/></g><g id=\"node-name-/layer1/layer1.0/Relu_1\" class=\"node graph-node\" transform=\"translate(1728.92578125,111.5)\" style=\"opacity: 1;\"><g class=\"node-item node-item-type node-item-type-activation\" transform=\"translate(0,0)\"><path d=\"M5,0h115.75a5,5 0 0 1 5,5v13a5,5 0 0 1 -5,5h-115.75a5,5 0 0 1 -5,-5v-13a5,5 0 0 1 5,-5z\" style=\"stroke: rgb(0, 0, 0); fill: rgb(112, 41, 33); stroke-width: 0;\"/><text x=\"6\" y=\"16\" style=\"font-family: -apple-system, BlinkMacSystemFont, &quot;Segoe WPC&quot;, &quot;Segoe UI&quot;, Ubuntu, &quot;Droid Sans&quot;, sans-serif, &quot;PingFang SC&quot;; font-size: 11px; text-rendering: geometricprecision; fill: rgb(255, 255, 255);\">/layer1/layer1.0/Relu_1</text><title>Relu</title></g><path class=\"node border\" d=\"M5,0h115.75a5,5 0 0 1 5,5v13a5,5 0 0 1 -5,5h-115.75a5,5 0 0 1 -5,-5v-13a5,5 0 0 1 5,-5z\" style=\"stroke: rgb(51, 51, 51); fill: none; stroke-width: 1px;\"/></g><g id=\"node-name-/layer1/layer1.1/conv1/Conv\" class=\"node graph-node\" transform=\"translate(2020.4892578125,104.75)\" style=\"opacity: 1;\"><g class=\"node-item node-item-type node-item-type-layer\" transform=\"translate(0,0)\"><path d=\"M5,0h143.06982421875a5,5 0 0 1 5,5v18a0,0 0 0 1 0,0h-153.06982421875a0,0 0 0 1 0,0v-18a5,5 0 0 1 5,-5z\" style=\"stroke: rgb(0, 0, 0); fill: rgb(51, 85, 136); stroke-width: 0;\"/><text x=\"6\" y=\"16\" style=\"font-family: -apple-system, BlinkMacSystemFont, &quot;Segoe WPC&quot;, &quot;Segoe UI&quot;, Ubuntu, &quot;Droid Sans&quot;, sans-serif, &quot;PingFang SC&quot;; font-size: 11px; text-rendering: geometricprecision; fill: rgb(255, 255, 255);\">/layer1/layer1.1/conv1/Conv</text><title>Conv</title></g><g class=\"node-attribute\" transform=\"translate(0,23)\"><path d=\"M0,0h153.06982421875a0,0 0 0 1 0,0v85a5,5 0 0 1 -5,5h-143.06982421875a5,5 0 0 1 -5,-5v-85a0,0 0 0 1 0,0z\" style=\"stroke: rgb(0, 0, 0); fill: rgb(255, 255, 255); stroke-width: 0;\"/><text id=\"initializer-onnx::Conv_264\" xml:space=\"preserve\" x=\"6\" y=\"14\" style=\"font-family: -apple-system, BlinkMacSystemFont, &quot;Segoe WPC&quot;, &quot;Segoe UI&quot;, Ubuntu, &quot;Droid Sans&quot;, sans-serif, &quot;PingFang SC&quot;; font-size: 9px; font-weight: normal; text-rendering: geometricprecision;\"><title>float32[64,64,3,3]</title><tspan style=\"font-weight: bold;\">W</tspan><tspan>〈64×64×3×3〉</tspan></text><text id=\"initializer-onnx::Conv_265\" xml:space=\"preserve\" x=\"6\" y=\"28\" style=\"font-family: -apple-system, BlinkMacSystemFont, &quot;Segoe WPC&quot;, &quot;Segoe UI&quot;, Ubuntu, &quot;Droid Sans&quot;, sans-serif, &quot;PingFang SC&quot;; font-size: 9px; font-weight: normal; text-rendering: geometricprecision;\"><title>float32[64]</title><tspan style=\"font-weight: bold;\">B</tspan><tspan>〈64〉</tspan></text><text xml:space=\"preserve\" x=\"6\" y=\"42\" style=\"font-family: -apple-system, BlinkMacSystemFont, &quot;Segoe WPC&quot;, &quot;Segoe UI&quot;, Ubuntu, &quot;Droid Sans&quot;, sans-serif, &quot;PingFang SC&quot;; font-size: 9px; font-weight: normal; text-rendering: geometricprecision;\"><title>int64[]</title><tspan>dilations</tspan><tspan> = 1, 1</tspan></text><text xml:space=\"preserve\" x=\"6\" y=\"56\" style=\"font-family: -apple-system, BlinkMacSystemFont, &quot;Segoe WPC&quot;, &quot;Segoe UI&quot;, Ubuntu, &quot;Droid Sans&quot;, sans-serif, &quot;PingFang SC&quot;; font-size: 9px; font-weight: normal; text-rendering: geometricprecision;\"><title>int64[]</title><tspan>kernel_shape</tspan><tspan> = 3, 3</tspan></text><text xml:space=\"preserve\" x=\"6\" y=\"70\" style=\"font-family: -apple-system, BlinkMacSystemFont, &quot;Segoe WPC&quot;, &quot;Segoe UI&quot;, Ubuntu, &quot;Droid Sans&quot;, sans-serif, &quot;PingFang SC&quot;; font-size: 9px; font-weight: normal; text-rendering: geometricprecision;\"><title>int64[]</title><tspan>pads</tspan><tspan> = 1, 1, 1, 1</tspan></text><text xml:space=\"preserve\" x=\"6\" y=\"84\" style=\"font-family: -apple-system, BlinkMacSystemFont, &quot;Segoe WPC&quot;, &quot;Segoe UI&quot;, Ubuntu, &quot;Droid Sans&quot;, sans-serif, &quot;PingFang SC&quot;; font-size: 9px; font-weight: normal; text-rendering: geometricprecision;\"><title>int64[]</title><tspan>strides</tspan><tspan> = 1, 1</tspan></text><line class=\"node\" x1=\"0\" x2=\"153.06982421875\" y1=\"0\" y2=\"0\" style=\"stroke: rgb(51, 51, 51); fill: none; stroke-width: 1px;\"/></g><path class=\"node border\" d=\"M5,0h143.06982421875a5,5 0 0 1 5,5v103a5,5 0 0 1 -5,5h-143.06982421875a5,5 0 0 1 -5,-5v-103a5,5 0 0 1 5,-5z\" style=\"stroke: rgb(51, 51, 51); fill: none; stroke-width: 1px;\"/></g><g id=\"node-name-/layer1/layer1.1/Relu\" class=\"node graph-node\" transform=\"translate(2378.8212890625,149.75)\" style=\"opacity: 1;\"><g class=\"node-item node-item-type node-item-type-activation\" transform=\"translate(0,0)\"><path d=\"M5,0h105.265625a5,5 0 0 1 5,5v13a5,5 0 0 1 -5,5h-105.265625a5,5 0 0 1 -5,-5v-13a5,5 0 0 1 5,-5z\" style=\"stroke: rgb(0, 0, 0); fill: rgb(112, 41, 33); stroke-width: 0;\"/><text x=\"6\" y=\"16\" style=\"font-family: -apple-system, BlinkMacSystemFont, &quot;Segoe WPC&quot;, &quot;Segoe UI&quot;, Ubuntu, &quot;Droid Sans&quot;, sans-serif, &quot;PingFang SC&quot;; font-size: 11px; text-rendering: geometricprecision; fill: rgb(255, 255, 255);\">/layer1/layer1.1/Relu</text><title>Relu</title></g><path class=\"node border\" d=\"M5,0h105.265625a5,5 0 0 1 5,5v13a5,5 0 0 1 -5,5h-105.265625a5,5 0 0 1 -5,-5v-13a5,5 0 0 1 5,-5z\" style=\"stroke: rgb(51, 51, 51); fill: none; stroke-width: 1px;\"/></g><g id=\"node-name-/layer1/layer1.1/conv2/Conv\" class=\"node graph-node\" transform=\"translate(2665.63330078125,104.75)\" style=\"opacity: 1;\"><g class=\"node-item node-item-type node-item-type-layer\" transform=\"translate(0,0)\"><path d=\"M5,0h143.06982421875a5,5 0 0 1 5,5v18a0,0 0 0 1 0,0h-153.06982421875a0,0 0 0 1 0,0v-18a5,5 0 0 1 5,-5z\" style=\"stroke: rgb(0, 0, 0); fill: rgb(51, 85, 136); stroke-width: 0;\"/><text x=\"6\" y=\"16\" style=\"font-family: -apple-system, BlinkMacSystemFont, &quot;Segoe WPC&quot;, &quot;Segoe UI&quot;, Ubuntu, &quot;Droid Sans&quot;, sans-serif, &quot;PingFang SC&quot;; font-size: 11px; text-rendering: geometricprecision; fill: rgb(255, 255, 255);\">/layer1/layer1.1/conv2/Conv</text><title>Conv</title></g><g class=\"node-attribute\" transform=\"translate(0,23)\"><path d=\"M0,0h153.06982421875a0,0 0 0 1 0,0v85a5,5 0 0 1 -5,5h-143.06982421875a5,5 0 0 1 -5,-5v-85a0,0 0 0 1 0,0z\" style=\"stroke: rgb(0, 0, 0); fill: rgb(255, 255, 255); stroke-width: 0;\"/><text id=\"initializer-onnx::Conv_267\" xml:space=\"preserve\" x=\"6\" y=\"14\" style=\"font-family: -apple-system, BlinkMacSystemFont, &quot;Segoe WPC&quot;, &quot;Segoe UI&quot;, Ubuntu, &quot;Droid Sans&quot;, sans-serif, &quot;PingFang SC&quot;; font-size: 9px; font-weight: normal; text-rendering: geometricprecision;\"><title>float32[64,64,3,3]</title><tspan style=\"font-weight: bold;\">W</tspan><tspan>〈64×64×3×3〉</tspan></text><text id=\"initializer-onnx::Conv_268\" xml:space=\"preserve\" x=\"6\" y=\"28\" style=\"font-family: -apple-system, BlinkMacSystemFont, &quot;Segoe WPC&quot;, &quot;Segoe UI&quot;, Ubuntu, &quot;Droid Sans&quot;, sans-serif, &quot;PingFang SC&quot;; font-size: 9px; font-weight: normal; text-rendering: geometricprecision;\"><title>float32[64]</title><tspan style=\"font-weight: bold;\">B</tspan><tspan>〈64〉</tspan></text><text xml:space=\"preserve\" x=\"6\" y=\"42\" style=\"font-family: -apple-system, BlinkMacSystemFont, &quot;Segoe WPC&quot;, &quot;Segoe UI&quot;, Ubuntu, &quot;Droid Sans&quot;, sans-serif, &quot;PingFang SC&quot;; font-size: 9px; font-weight: normal; text-rendering: geometricprecision;\"><title>int64[]</title><tspan>dilations</tspan><tspan> = 1, 1</tspan></text><text xml:space=\"preserve\" x=\"6\" y=\"56\" style=\"font-family: -apple-system, BlinkMacSystemFont, &quot;Segoe WPC&quot;, &quot;Segoe UI&quot;, Ubuntu, &quot;Droid Sans&quot;, sans-serif, &quot;PingFang SC&quot;; font-size: 9px; font-weight: normal; text-rendering: geometricprecision;\"><title>int64[]</title><tspan>kernel_shape</tspan><tspan> = 3, 3</tspan></text><text xml:space=\"preserve\" x=\"6\" y=\"70\" style=\"font-family: -apple-system, BlinkMacSystemFont, &quot;Segoe WPC&quot;, &quot;Segoe UI&quot;, Ubuntu, &quot;Droid Sans&quot;, sans-serif, &quot;PingFang SC&quot;; font-size: 9px; font-weight: normal; text-rendering: geometricprecision;\"><title>int64[]</title><tspan>pads</tspan><tspan> = 1, 1, 1, 1</tspan></text><text xml:space=\"preserve\" x=\"6\" y=\"84\" style=\"font-family: -apple-system, BlinkMacSystemFont, &quot;Segoe WPC&quot;, &quot;Segoe UI&quot;, Ubuntu, &quot;Droid Sans&quot;, sans-serif, &quot;PingFang SC&quot;; font-size: 9px; font-weight: normal; text-rendering: geometricprecision;\"><title>int64[]</title><tspan>strides</tspan><tspan> = 1, 1</tspan></text><line class=\"node\" x1=\"0\" x2=\"153.06982421875\" y1=\"0\" y2=\"0\" style=\"stroke: rgb(51, 51, 51); fill: none; stroke-width: 1px;\"/></g><path class=\"node border\" d=\"M5,0h143.06982421875a5,5 0 0 1 5,5v103a5,5 0 0 1 -5,5h-143.06982421875a5,5 0 0 1 -5,-5v-103a5,5 0 0 1 5,-5z\" style=\"stroke: rgb(51, 51, 51); fill: none; stroke-width: 1px;\"/></g><g id=\"node-name-/layer1/layer1.1/Add\" class=\"node graph-node\" transform=\"translate(3008.69140625,111.5)\" style=\"opacity: 1;\"><g class=\"node-item node-item-type\" transform=\"translate(0,0)\"><path d=\"M5,0h104.40625a5,5 0 0 1 5,5v13a5,5 0 0 1 -5,5h-104.40625a5,5 0 0 1 -5,-5v-13a5,5 0 0 1 5,-5z\" style=\"stroke: rgb(0, 0, 0); fill: rgb(0, 0, 0); stroke-width: 0;\"/><text x=\"6\" y=\"16\" style=\"font-family: -apple-system, BlinkMacSystemFont, &quot;Segoe WPC&quot;, &quot;Segoe UI&quot;, Ubuntu, &quot;Droid Sans&quot;, sans-serif, &quot;PingFang SC&quot;; font-size: 11px; text-rendering: geometricprecision; fill: rgb(255, 255, 255);\">/layer1/layer1.1/Add</text><title>Add</title></g><path class=\"node border\" d=\"M5,0h104.40625a5,5 0 0 1 5,5v13a5,5 0 0 1 -5,5h-104.40625a5,5 0 0 1 -5,-5v-13a5,5 0 0 1 5,-5z\" style=\"stroke: rgb(51, 51, 51); fill: none; stroke-width: 1px;\"/></g><g id=\"node-name-/layer1/layer1.1/Relu_1\" class=\"node graph-node\" transform=\"translate(3278.5986328125,111.5)\" style=\"opacity: 1;\"><g class=\"node-item node-item-type node-item-type-activation\" transform=\"translate(0,0)\"><path d=\"M5,0h115.75a5,5 0 0 1 5,5v13a5,5 0 0 1 -5,5h-115.75a5,5 0 0 1 -5,-5v-13a5,5 0 0 1 5,-5z\" style=\"stroke: rgb(0, 0, 0); fill: rgb(112, 41, 33); stroke-width: 0;\"/><text x=\"6\" y=\"16\" style=\"font-family: -apple-system, BlinkMacSystemFont, &quot;Segoe WPC&quot;, &quot;Segoe UI&quot;, Ubuntu, &quot;Droid Sans&quot;, sans-serif, &quot;PingFang SC&quot;; font-size: 11px; text-rendering: geometricprecision; fill: rgb(255, 255, 255);\">/layer1/layer1.1/Relu_1</text><title>Relu</title></g><path class=\"node border\" d=\"M5,0h115.75a5,5 0 0 1 5,5v13a5,5 0 0 1 -5,5h-115.75a5,5 0 0 1 -5,-5v-13a5,5 0 0 1 5,-5z\" style=\"stroke: rgb(51, 51, 51); fill: none; stroke-width: 1px;\"/></g><g id=\"node-name-/layer1/layer1.2/conv1/Conv\" class=\"node graph-node\" transform=\"translate(3570.162109375,104.75)\" style=\"opacity: 1;\"><g class=\"node-item node-item-type node-item-type-layer\" transform=\"translate(0,0)\"><path d=\"M5,0h143.06982421875a5,5 0 0 1 5,5v18a0,0 0 0 1 0,0h-153.06982421875a0,0 0 0 1 0,0v-18a5,5 0 0 1 5,-5z\" style=\"stroke: rgb(0, 0, 0); fill: rgb(51, 85, 136); stroke-width: 0;\"/><text x=\"6\" y=\"16\" style=\"font-family: -apple-system, BlinkMacSystemFont, &quot;Segoe WPC&quot;, &quot;Segoe UI&quot;, Ubuntu, &quot;Droid Sans&quot;, sans-serif, &quot;PingFang SC&quot;; font-size: 11px; text-rendering: geometricprecision; fill: rgb(255, 255, 255);\">/layer1/layer1.2/conv1/Conv</text><title>Conv</title></g><g class=\"node-attribute\" transform=\"translate(0,23)\"><path d=\"M0,0h153.06982421875a0,0 0 0 1 0,0v85a5,5 0 0 1 -5,5h-143.06982421875a5,5 0 0 1 -5,-5v-85a0,0 0 0 1 0,0z\" style=\"stroke: rgb(0, 0, 0); fill: rgb(255, 255, 255); stroke-width: 0;\"/><text id=\"initializer-onnx::Conv_270\" xml:space=\"preserve\" x=\"6\" y=\"14\" style=\"font-family: -apple-system, BlinkMacSystemFont, &quot;Segoe WPC&quot;, &quot;Segoe UI&quot;, Ubuntu, &quot;Droid Sans&quot;, sans-serif, &quot;PingFang SC&quot;; font-size: 9px; font-weight: normal; text-rendering: geometricprecision;\"><title>float32[64,64,3,3]</title><tspan style=\"font-weight: bold;\">W</tspan><tspan>〈64×64×3×3〉</tspan></text><text id=\"initializer-onnx::Conv_271\" xml:space=\"preserve\" x=\"6\" y=\"28\" style=\"font-family: -apple-system, BlinkMacSystemFont, &quot;Segoe WPC&quot;, &quot;Segoe UI&quot;, Ubuntu, &quot;Droid Sans&quot;, sans-serif, &quot;PingFang SC&quot;; font-size: 9px; font-weight: normal; text-rendering: geometricprecision;\"><title>float32[64]</title><tspan style=\"font-weight: bold;\">B</tspan><tspan>〈64〉</tspan></text><text xml:space=\"preserve\" x=\"6\" y=\"42\" style=\"font-family: -apple-system, BlinkMacSystemFont, &quot;Segoe WPC&quot;, &quot;Segoe UI&quot;, Ubuntu, &quot;Droid Sans&quot;, sans-serif, &quot;PingFang SC&quot;; font-size: 9px; font-weight: normal; text-rendering: geometricprecision;\"><title>int64[]</title><tspan>dilations</tspan><tspan> = 1, 1</tspan></text><text xml:space=\"preserve\" x=\"6\" y=\"56\" style=\"font-family: -apple-system, BlinkMacSystemFont, &quot;Segoe WPC&quot;, &quot;Segoe UI&quot;, Ubuntu, &quot;Droid Sans&quot;, sans-serif, &quot;PingFang SC&quot;; font-size: 9px; font-weight: normal; text-rendering: geometricprecision;\"><title>int64[]</title><tspan>kernel_shape</tspan><tspan> = 3, 3</tspan></text><text xml:space=\"preserve\" x=\"6\" y=\"70\" style=\"font-family: -apple-system, BlinkMacSystemFont, &quot;Segoe WPC&quot;, &quot;Segoe UI&quot;, Ubuntu, &quot;Droid Sans&quot;, sans-serif, &quot;PingFang SC&quot;; font-size: 9px; font-weight: normal; text-rendering: geometricprecision;\"><title>int64[]</title><tspan>pads</tspan><tspan> = 1, 1, 1, 1</tspan></text><text xml:space=\"preserve\" x=\"6\" y=\"84\" style=\"font-family: -apple-system, BlinkMacSystemFont, &quot;Segoe WPC&quot;, &quot;Segoe UI&quot;, Ubuntu, &quot;Droid Sans&quot;, sans-serif, &quot;PingFang SC&quot;; font-size: 9px; font-weight: normal; text-rendering: geometricprecision;\"><title>int64[]</title><tspan>strides</tspan><tspan> = 1, 1</tspan></text><line class=\"node\" x1=\"0\" x2=\"153.06982421875\" y1=\"0\" y2=\"0\" style=\"stroke: rgb(51, 51, 51); fill: none; stroke-width: 1px;\"/></g><path class=\"node border\" d=\"M5,0h143.06982421875a5,5 0 0 1 5,5v103a5,5 0 0 1 -5,5h-143.06982421875a5,5 0 0 1 -5,-5v-103a5,5 0 0 1 5,-5z\" style=\"stroke: rgb(51, 51, 51); fill: none; stroke-width: 1px;\"/></g><g id=\"node-name-/layer1/layer1.2/Relu\" class=\"node graph-node\" transform=\"translate(3928.494140625,149.75)\" style=\"opacity: 1;\"><g class=\"node-item node-item-type node-item-type-activation\" transform=\"translate(0,0)\"><path d=\"M5,0h105.265625a5,5 0 0 1 5,5v13a5,5 0 0 1 -5,5h-105.265625a5,5 0 0 1 -5,-5v-13a5,5 0 0 1 5,-5z\" style=\"stroke: rgb(0, 0, 0); fill: rgb(112, 41, 33); stroke-width: 0;\"/><text x=\"6\" y=\"16\" style=\"font-family: -apple-system, BlinkMacSystemFont, &quot;Segoe WPC&quot;, &quot;Segoe UI&quot;, Ubuntu, &quot;Droid Sans&quot;, sans-serif, &quot;PingFang SC&quot;; font-size: 11px; text-rendering: geometricprecision; fill: rgb(255, 255, 255);\">/layer1/layer1.2/Relu</text><title>Relu</title></g><path class=\"node border\" d=\"M5,0h105.265625a5,5 0 0 1 5,5v13a5,5 0 0 1 -5,5h-105.265625a5,5 0 0 1 -5,-5v-13a5,5 0 0 1 5,-5z\" style=\"stroke: rgb(51, 51, 51); fill: none; stroke-width: 1px;\"/></g><g id=\"node-name-/layer1/layer1.2/conv2/Conv\" class=\"node graph-node\" transform=\"translate(4215.30615234375,104.75)\" style=\"opacity: 1;\"><g class=\"node-item node-item-type node-item-type-layer\" transform=\"translate(0,0)\"><path d=\"M5,0h143.06982421875a5,5 0 0 1 5,5v18a0,0 0 0 1 0,0h-153.06982421875a0,0 0 0 1 0,0v-18a5,5 0 0 1 5,-5z\" style=\"stroke: rgb(0, 0, 0); fill: rgb(51, 85, 136); stroke-width: 0;\"/><text x=\"6\" y=\"16\" style=\"font-family: -apple-system, BlinkMacSystemFont, &quot;Segoe WPC&quot;, &quot;Segoe UI&quot;, Ubuntu, &quot;Droid Sans&quot;, sans-serif, &quot;PingFang SC&quot;; font-size: 11px; text-rendering: geometricprecision; fill: rgb(255, 255, 255);\">/layer1/layer1.2/conv2/Conv</text><title>Conv</title></g><g class=\"node-attribute\" transform=\"translate(0,23)\"><path d=\"M0,0h153.06982421875a0,0 0 0 1 0,0v85a5,5 0 0 1 -5,5h-143.06982421875a5,5 0 0 1 -5,-5v-85a0,0 0 0 1 0,0z\" style=\"stroke: rgb(0, 0, 0); fill: rgb(255, 255, 255); stroke-width: 0;\"/><text id=\"initializer-onnx::Conv_273\" xml:space=\"preserve\" x=\"6\" y=\"14\" style=\"font-family: -apple-system, BlinkMacSystemFont, &quot;Segoe WPC&quot;, &quot;Segoe UI&quot;, Ubuntu, &quot;Droid Sans&quot;, sans-serif, &quot;PingFang SC&quot;; font-size: 9px; font-weight: normal; text-rendering: geometricprecision;\"><title>float32[64,64,3,3]</title><tspan style=\"font-weight: bold;\">W</tspan><tspan>〈64×64×3×3〉</tspan></text><text id=\"initializer-onnx::Conv_274\" xml:space=\"preserve\" x=\"6\" y=\"28\" style=\"font-family: -apple-system, BlinkMacSystemFont, &quot;Segoe WPC&quot;, &quot;Segoe UI&quot;, Ubuntu, &quot;Droid Sans&quot;, sans-serif, &quot;PingFang SC&quot;; font-size: 9px; font-weight: normal; text-rendering: geometricprecision;\"><title>float32[64]</title><tspan style=\"font-weight: bold;\">B</tspan><tspan>〈64〉</tspan></text><text xml:space=\"preserve\" x=\"6\" y=\"42\" style=\"font-family: -apple-system, BlinkMacSystemFont, &quot;Segoe WPC&quot;, &quot;Segoe UI&quot;, Ubuntu, &quot;Droid Sans&quot;, sans-serif, &quot;PingFang SC&quot;; font-size: 9px; font-weight: normal; text-rendering: geometricprecision;\"><title>int64[]</title><tspan>dilations</tspan><tspan> = 1, 1</tspan></text><text xml:space=\"preserve\" x=\"6\" y=\"56\" style=\"font-family: -apple-system, BlinkMacSystemFont, &quot;Segoe WPC&quot;, &quot;Segoe UI&quot;, Ubuntu, &quot;Droid Sans&quot;, sans-serif, &quot;PingFang SC&quot;; font-size: 9px; font-weight: normal; text-rendering: geometricprecision;\"><title>int64[]</title><tspan>kernel_shape</tspan><tspan> = 3, 3</tspan></text><text xml:space=\"preserve\" x=\"6\" y=\"70\" style=\"font-family: -apple-system, BlinkMacSystemFont, &quot;Segoe WPC&quot;, &quot;Segoe UI&quot;, Ubuntu, &quot;Droid Sans&quot;, sans-serif, &quot;PingFang SC&quot;; font-size: 9px; font-weight: normal; text-rendering: geometricprecision;\"><title>int64[]</title><tspan>pads</tspan><tspan> = 1, 1, 1, 1</tspan></text><text xml:space=\"preserve\" x=\"6\" y=\"84\" style=\"font-family: -apple-system, BlinkMacSystemFont, &quot;Segoe WPC&quot;, &quot;Segoe UI&quot;, Ubuntu, &quot;Droid Sans&quot;, sans-serif, &quot;PingFang SC&quot;; font-size: 9px; font-weight: normal; text-rendering: geometricprecision;\"><title>int64[]</title><tspan>strides</tspan><tspan> = 1, 1</tspan></text><line class=\"node\" x1=\"0\" x2=\"153.06982421875\" y1=\"0\" y2=\"0\" style=\"stroke: rgb(51, 51, 51); fill: none; stroke-width: 1px;\"/></g><path class=\"node border\" d=\"M5,0h143.06982421875a5,5 0 0 1 5,5v103a5,5 0 0 1 -5,5h-143.06982421875a5,5 0 0 1 -5,-5v-103a5,5 0 0 1 5,-5z\" style=\"stroke: rgb(51, 51, 51); fill: none; stroke-width: 1px;\"/></g><g id=\"node-name-/layer1/layer1.2/Add\" class=\"node graph-node\" transform=\"translate(4558.3642578125,111.5)\" style=\"opacity: 1;\"><g class=\"node-item node-item-type\" transform=\"translate(0,0)\"><path d=\"M5,0h104.40625a5,5 0 0 1 5,5v13a5,5 0 0 1 -5,5h-104.40625a5,5 0 0 1 -5,-5v-13a5,5 0 0 1 5,-5z\" style=\"stroke: rgb(0, 0, 0); fill: rgb(0, 0, 0); stroke-width: 0;\"/><text x=\"6\" y=\"16\" style=\"font-family: -apple-system, BlinkMacSystemFont, &quot;Segoe WPC&quot;, &quot;Segoe UI&quot;, Ubuntu, &quot;Droid Sans&quot;, sans-serif, &quot;PingFang SC&quot;; font-size: 11px; text-rendering: geometricprecision; fill: rgb(255, 255, 255);\">/layer1/layer1.2/Add</text><title>Add</title></g><path class=\"node border\" d=\"M5,0h104.40625a5,5 0 0 1 5,5v13a5,5 0 0 1 -5,5h-104.40625a5,5 0 0 1 -5,-5v-13a5,5 0 0 1 5,-5z\" style=\"stroke: rgb(51, 51, 51); fill: none; stroke-width: 1px;\"/></g><g id=\"node-name-/layer1/layer1.2/Relu_1\" class=\"node graph-node\" transform=\"translate(4828.271484375,111.5)\" style=\"opacity: 1;\"><g class=\"node-item node-item-type node-item-type-activation\" transform=\"translate(0,0)\"><path d=\"M5,0h115.75a5,5 0 0 1 5,5v13a5,5 0 0 1 -5,5h-115.75a5,5 0 0 1 -5,-5v-13a5,5 0 0 1 5,-5z\" style=\"stroke: rgb(0, 0, 0); fill: rgb(112, 41, 33); stroke-width: 0;\"/><text x=\"6\" y=\"16\" style=\"font-family: -apple-system, BlinkMacSystemFont, &quot;Segoe WPC&quot;, &quot;Segoe UI&quot;, Ubuntu, &quot;Droid Sans&quot;, sans-serif, &quot;PingFang SC&quot;; font-size: 11px; text-rendering: geometricprecision; fill: rgb(255, 255, 255);\">/layer1/layer1.2/Relu_1</text><title>Relu</title></g><path class=\"node border\" d=\"M5,0h115.75a5,5 0 0 1 5,5v13a5,5 0 0 1 -5,5h-115.75a5,5 0 0 1 -5,-5v-13a5,5 0 0 1 5,-5z\" style=\"stroke: rgb(51, 51, 51); fill: none; stroke-width: 1px;\"/></g><g id=\"node-name-/layer2/layer2.0/conv1/Conv\" class=\"node graph-node\" transform=\"translate(5119.8349609375,0)\" style=\"opacity: 1;\"><g class=\"node-item node-item-type node-item-type-layer\" transform=\"translate(0,0)\"><path d=\"M5,0h143.06982421875a5,5 0 0 1 5,5v18a0,0 0 0 1 0,0h-153.06982421875a0,0 0 0 1 0,0v-18a5,5 0 0 1 5,-5z\" style=\"stroke: rgb(0, 0, 0); fill: rgb(51, 85, 136); stroke-width: 0;\"/><text x=\"6\" y=\"16\" style=\"font-family: -apple-system, BlinkMacSystemFont, &quot;Segoe WPC&quot;, &quot;Segoe UI&quot;, Ubuntu, &quot;Droid Sans&quot;, sans-serif, &quot;PingFang SC&quot;; font-size: 11px; text-rendering: geometricprecision; fill: rgb(255, 255, 255);\">/layer2/layer2.0/conv1/Conv</text><title>Conv</title></g><g class=\"node-attribute\" transform=\"translate(0,23)\"><path d=\"M0,0h153.06982421875a0,0 0 0 1 0,0v85a5,5 0 0 1 -5,5h-143.06982421875a5,5 0 0 1 -5,-5v-85a0,0 0 0 1 0,0z\" style=\"stroke: rgb(0, 0, 0); fill: rgb(255, 255, 255); stroke-width: 0;\"/><text id=\"initializer-onnx::Conv_276\" xml:space=\"preserve\" x=\"6\" y=\"14\" style=\"font-family: -apple-system, BlinkMacSystemFont, &quot;Segoe WPC&quot;, &quot;Segoe UI&quot;, Ubuntu, &quot;Droid Sans&quot;, sans-serif, &quot;PingFang SC&quot;; font-size: 9px; font-weight: normal; text-rendering: geometricprecision;\"><title>float32[128,64,3,3]</title><tspan style=\"font-weight: bold;\">W</tspan><tspan>〈128×64×3×3〉</tspan></text><text id=\"initializer-onnx::Conv_277\" xml:space=\"preserve\" x=\"6\" y=\"28\" style=\"font-family: -apple-system, BlinkMacSystemFont, &quot;Segoe WPC&quot;, &quot;Segoe UI&quot;, Ubuntu, &quot;Droid Sans&quot;, sans-serif, &quot;PingFang SC&quot;; font-size: 9px; font-weight: normal; text-rendering: geometricprecision;\"><title>float32[128]</title><tspan style=\"font-weight: bold;\">B</tspan><tspan>〈128〉</tspan></text><text xml:space=\"preserve\" x=\"6\" y=\"42\" style=\"font-family: -apple-system, BlinkMacSystemFont, &quot;Segoe WPC&quot;, &quot;Segoe UI&quot;, Ubuntu, &quot;Droid Sans&quot;, sans-serif, &quot;PingFang SC&quot;; font-size: 9px; font-weight: normal; text-rendering: geometricprecision;\"><title>int64[]</title><tspan>dilations</tspan><tspan> = 1, 1</tspan></text><text xml:space=\"preserve\" x=\"6\" y=\"56\" style=\"font-family: -apple-system, BlinkMacSystemFont, &quot;Segoe WPC&quot;, &quot;Segoe UI&quot;, Ubuntu, &quot;Droid Sans&quot;, sans-serif, &quot;PingFang SC&quot;; font-size: 9px; font-weight: normal; text-rendering: geometricprecision;\"><title>int64[]</title><tspan>kernel_shape</tspan><tspan> = 3, 3</tspan></text><text xml:space=\"preserve\" x=\"6\" y=\"70\" style=\"font-family: -apple-system, BlinkMacSystemFont, &quot;Segoe WPC&quot;, &quot;Segoe UI&quot;, Ubuntu, &quot;Droid Sans&quot;, sans-serif, &quot;PingFang SC&quot;; font-size: 9px; font-weight: normal; text-rendering: geometricprecision;\"><title>int64[]</title><tspan>pads</tspan><tspan> = 1, 1, 1, 1</tspan></text><text xml:space=\"preserve\" x=\"6\" y=\"84\" style=\"font-family: -apple-system, BlinkMacSystemFont, &quot;Segoe WPC&quot;, &quot;Segoe UI&quot;, Ubuntu, &quot;Droid Sans&quot;, sans-serif, &quot;PingFang SC&quot;; font-size: 9px; font-weight: normal; text-rendering: geometricprecision;\"><title>int64[]</title><tspan>strides</tspan><tspan> = 2, 2</tspan></text><line class=\"node\" x1=\"0\" x2=\"153.06982421875\" y1=\"0\" y2=\"0\" style=\"stroke: rgb(51, 51, 51); fill: none; stroke-width: 1px;\"/></g><path class=\"node border\" d=\"M5,0h143.06982421875a5,5 0 0 1 5,5v103a5,5 0 0 1 -5,5h-143.06982421875a5,5 0 0 1 -5,-5v-103a5,5 0 0 1 5,-5z\" style=\"stroke: rgb(51, 51, 51); fill: none; stroke-width: 1px;\"/></g><g id=\"node-name-/layer2/layer2.0/Relu\" class=\"node graph-node\" transform=\"translate(5462.89306640625,45)\" style=\"opacity: 1;\"><g class=\"node-item node-item-type node-item-type-activation\" transform=\"translate(0,0)\"><path d=\"M5,0h105.265625a5,5 0 0 1 5,5v13a5,5 0 0 1 -5,5h-105.265625a5,5 0 0 1 -5,-5v-13a5,5 0 0 1 5,-5z\" style=\"stroke: rgb(0, 0, 0); fill: rgb(112, 41, 33); stroke-width: 0;\"/><text x=\"6\" y=\"16\" style=\"font-family: -apple-system, BlinkMacSystemFont, &quot;Segoe WPC&quot;, &quot;Segoe UI&quot;, Ubuntu, &quot;Droid Sans&quot;, sans-serif, &quot;PingFang SC&quot;; font-size: 11px; text-rendering: geometricprecision; fill: rgb(255, 255, 255);\">/layer2/layer2.0/Relu</text><title>Relu</title></g><path class=\"node border\" d=\"M5,0h105.265625a5,5 0 0 1 5,5v13a5,5 0 0 1 -5,5h-105.265625a5,5 0 0 1 -5,-5v-13a5,5 0 0 1 5,-5z\" style=\"stroke: rgb(51, 51, 51); fill: none; stroke-width: 1px;\"/></g><g id=\"node-name-/layer2/layer2.0/conv2/Conv\" class=\"node graph-node\" transform=\"translate(5766.1796875,0)\" style=\"opacity: 1;\"><g class=\"node-item node-item-type node-item-type-layer\" transform=\"translate(0,0)\"><path d=\"M5,0h143.06982421875a5,5 0 0 1 5,5v18a0,0 0 0 1 0,0h-153.06982421875a0,0 0 0 1 0,0v-18a5,5 0 0 1 5,-5z\" style=\"stroke: rgb(0, 0, 0); fill: rgb(51, 85, 136); stroke-width: 0;\"/><text x=\"6\" y=\"16\" style=\"font-family: -apple-system, BlinkMacSystemFont, &quot;Segoe WPC&quot;, &quot;Segoe UI&quot;, Ubuntu, &quot;Droid Sans&quot;, sans-serif, &quot;PingFang SC&quot;; font-size: 11px; text-rendering: geometricprecision; fill: rgb(255, 255, 255);\">/layer2/layer2.0/conv2/Conv</text><title>Conv</title></g><g class=\"node-attribute\" transform=\"translate(0,23)\"><path d=\"M0,0h153.06982421875a0,0 0 0 1 0,0v85a5,5 0 0 1 -5,5h-143.06982421875a5,5 0 0 1 -5,-5v-85a0,0 0 0 1 0,0z\" style=\"stroke: rgb(0, 0, 0); fill: rgb(255, 255, 255); stroke-width: 0;\"/><text id=\"initializer-onnx::Conv_279\" xml:space=\"preserve\" x=\"6\" y=\"14\" style=\"font-family: -apple-system, BlinkMacSystemFont, &quot;Segoe WPC&quot;, &quot;Segoe UI&quot;, Ubuntu, &quot;Droid Sans&quot;, sans-serif, &quot;PingFang SC&quot;; font-size: 9px; font-weight: normal; text-rendering: geometricprecision;\"><title>float32[128,128,3,3]</title><tspan style=\"font-weight: bold;\">W</tspan><tspan>〈128×128×3×3〉</tspan></text><text id=\"initializer-onnx::Conv_280\" xml:space=\"preserve\" x=\"6\" y=\"28\" style=\"font-family: -apple-system, BlinkMacSystemFont, &quot;Segoe WPC&quot;, &quot;Segoe UI&quot;, Ubuntu, &quot;Droid Sans&quot;, sans-serif, &quot;PingFang SC&quot;; font-size: 9px; font-weight: normal; text-rendering: geometricprecision;\"><title>float32[128]</title><tspan style=\"font-weight: bold;\">B</tspan><tspan>〈128〉</tspan></text><text xml:space=\"preserve\" x=\"6\" y=\"42\" style=\"font-family: -apple-system, BlinkMacSystemFont, &quot;Segoe WPC&quot;, &quot;Segoe UI&quot;, Ubuntu, &quot;Droid Sans&quot;, sans-serif, &quot;PingFang SC&quot;; font-size: 9px; font-weight: normal; text-rendering: geometricprecision;\"><title>int64[]</title><tspan>dilations</tspan><tspan> = 1, 1</tspan></text><text xml:space=\"preserve\" x=\"6\" y=\"56\" style=\"font-family: -apple-system, BlinkMacSystemFont, &quot;Segoe WPC&quot;, &quot;Segoe UI&quot;, Ubuntu, &quot;Droid Sans&quot;, sans-serif, &quot;PingFang SC&quot;; font-size: 9px; font-weight: normal; text-rendering: geometricprecision;\"><title>int64[]</title><tspan>kernel_shape</tspan><tspan> = 3, 3</tspan></text><text xml:space=\"preserve\" x=\"6\" y=\"70\" style=\"font-family: -apple-system, BlinkMacSystemFont, &quot;Segoe WPC&quot;, &quot;Segoe UI&quot;, Ubuntu, &quot;Droid Sans&quot;, sans-serif, &quot;PingFang SC&quot;; font-size: 9px; font-weight: normal; text-rendering: geometricprecision;\"><title>int64[]</title><tspan>pads</tspan><tspan> = 1, 1, 1, 1</tspan></text><text xml:space=\"preserve\" x=\"6\" y=\"84\" style=\"font-family: -apple-system, BlinkMacSystemFont, &quot;Segoe WPC&quot;, &quot;Segoe UI&quot;, Ubuntu, &quot;Droid Sans&quot;, sans-serif, &quot;PingFang SC&quot;; font-size: 9px; font-weight: normal; text-rendering: geometricprecision;\"><title>int64[]</title><tspan>strides</tspan><tspan> = 1, 1</tspan></text><line class=\"node\" x1=\"0\" x2=\"153.06982421875\" y1=\"0\" y2=\"0\" style=\"stroke: rgb(51, 51, 51); fill: none; stroke-width: 1px;\"/></g><path class=\"node border\" d=\"M5,0h143.06982421875a5,5 0 0 1 5,5v103a5,5 0 0 1 -5,5h-143.06982421875a5,5 0 0 1 -5,-5v-103a5,5 0 0 1 5,-5z\" style=\"stroke: rgb(51, 51, 51); fill: none; stroke-width: 1px;\"/></g><g id=\"node-name-/layer2/layer2.0/shortcut/shortcut.0/Conv\" class=\"node graph-node\" transform=\"translate(5734.43115234375,133)\" style=\"opacity: 1;\"><g class=\"node-item node-item-type node-item-type-layer\" transform=\"translate(0,0)\"><path d=\"M5,0h206.56689453125a5,5 0 0 1 5,5v18a0,0 0 0 1 0,0h-216.56689453125a0,0 0 0 1 0,0v-18a5,5 0 0 1 5,-5z\" style=\"stroke: rgb(0, 0, 0); fill: rgb(51, 85, 136); stroke-width: 0;\"/><text x=\"6\" y=\"16\" style=\"font-family: -apple-system, BlinkMacSystemFont, &quot;Segoe WPC&quot;, &quot;Segoe UI&quot;, Ubuntu, &quot;Droid Sans&quot;, sans-serif, &quot;PingFang SC&quot;; font-size: 11px; text-rendering: geometricprecision; fill: rgb(255, 255, 255);\">/layer2/layer2.0/shortcut/shortcut.0/Conv</text><title>Conv</title></g><g class=\"node-attribute\" transform=\"translate(0,23)\"><path d=\"M0,0h216.56689453125a0,0 0 0 1 0,0v85a5,5 0 0 1 -5,5h-206.56689453125a5,5 0 0 1 -5,-5v-85a0,0 0 0 1 0,0z\" style=\"stroke: rgb(0, 0, 0); fill: rgb(255, 255, 255); stroke-width: 0;\"/><text id=\"initializer-onnx::Conv_282\" xml:space=\"preserve\" x=\"6\" y=\"14\" style=\"font-family: -apple-system, BlinkMacSystemFont, &quot;Segoe WPC&quot;, &quot;Segoe UI&quot;, Ubuntu, &quot;Droid Sans&quot;, sans-serif, &quot;PingFang SC&quot;; font-size: 9px; font-weight: normal; text-rendering: geometricprecision;\"><title>float32[128,64,1,1]</title><tspan style=\"font-weight: bold;\">W</tspan><tspan>〈128×64×1×1〉</tspan></text><text id=\"initializer-onnx::Conv_283\" xml:space=\"preserve\" x=\"6\" y=\"28\" style=\"font-family: -apple-system, BlinkMacSystemFont, &quot;Segoe WPC&quot;, &quot;Segoe UI&quot;, Ubuntu, &quot;Droid Sans&quot;, sans-serif, &quot;PingFang SC&quot;; font-size: 9px; font-weight: normal; text-rendering: geometricprecision;\"><title>float32[128]</title><tspan style=\"font-weight: bold;\">B</tspan><tspan>〈128〉</tspan></text><text xml:space=\"preserve\" x=\"6\" y=\"42\" style=\"font-family: -apple-system, BlinkMacSystemFont, &quot;Segoe WPC&quot;, &quot;Segoe UI&quot;, Ubuntu, &quot;Droid Sans&quot;, sans-serif, &quot;PingFang SC&quot;; font-size: 9px; font-weight: normal; text-rendering: geometricprecision;\"><title>int64[]</title><tspan>dilations</tspan><tspan> = 1, 1</tspan></text><text xml:space=\"preserve\" x=\"6\" y=\"56\" style=\"font-family: -apple-system, BlinkMacSystemFont, &quot;Segoe WPC&quot;, &quot;Segoe UI&quot;, Ubuntu, &quot;Droid Sans&quot;, sans-serif, &quot;PingFang SC&quot;; font-size: 9px; font-weight: normal; text-rendering: geometricprecision;\"><title>int64[]</title><tspan>kernel_shape</tspan><tspan> = 1, 1</tspan></text><text xml:space=\"preserve\" x=\"6\" y=\"70\" style=\"font-family: -apple-system, BlinkMacSystemFont, &quot;Segoe WPC&quot;, &quot;Segoe UI&quot;, Ubuntu, &quot;Droid Sans&quot;, sans-serif, &quot;PingFang SC&quot;; font-size: 9px; font-weight: normal; text-rendering: geometricprecision;\"><title>int64[]</title><tspan>pads</tspan><tspan> = 0, 0, 0, 0</tspan></text><text xml:space=\"preserve\" x=\"6\" y=\"84\" style=\"font-family: -apple-system, BlinkMacSystemFont, &quot;Segoe WPC&quot;, &quot;Segoe UI&quot;, Ubuntu, &quot;Droid Sans&quot;, sans-serif, &quot;PingFang SC&quot;; font-size: 9px; font-weight: normal; text-rendering: geometricprecision;\"><title>int64[]</title><tspan>strides</tspan><tspan> = 2, 2</tspan></text><line class=\"node\" x1=\"0\" x2=\"216.56689453125\" y1=\"0\" y2=\"0\" style=\"stroke: rgb(51, 51, 51); fill: none; stroke-width: 1px;\"/></g><path class=\"node border\" d=\"M5,0h206.56689453125a5,5 0 0 1 5,5v103a5,5 0 0 1 -5,5h-206.56689453125a5,5 0 0 1 -5,-5v-103a5,5 0 0 1 5,-5z\" style=\"stroke: rgb(51, 51, 51); fill: none; stroke-width: 1px;\"/></g><g id=\"node-name-/layer2/layer2.0/Add\" class=\"node graph-node\" transform=\"translate(6198.7109375,111.5)\" style=\"opacity: 1;\"><g class=\"node-item node-item-type\" transform=\"translate(0,0)\"><path d=\"M5,0h104.40625a5,5 0 0 1 5,5v13a5,5 0 0 1 -5,5h-104.40625a5,5 0 0 1 -5,-5v-13a5,5 0 0 1 5,-5z\" style=\"stroke: rgb(0, 0, 0); fill: rgb(0, 0, 0); stroke-width: 0;\"/><text x=\"6\" y=\"16\" style=\"font-family: -apple-system, BlinkMacSystemFont, &quot;Segoe WPC&quot;, &quot;Segoe UI&quot;, Ubuntu, &quot;Droid Sans&quot;, sans-serif, &quot;PingFang SC&quot;; font-size: 11px; text-rendering: geometricprecision; fill: rgb(255, 255, 255);\">/layer2/layer2.0/Add</text><title>Add</title></g><path class=\"node border\" d=\"M5,0h104.40625a5,5 0 0 1 5,5v13a5,5 0 0 1 -5,5h-104.40625a5,5 0 0 1 -5,-5v-13a5,5 0 0 1 5,-5z\" style=\"stroke: rgb(51, 51, 51); fill: none; stroke-width: 1px;\"/></g><g id=\"node-name-/layer2/layer2.0/Relu_1\" class=\"node graph-node\" transform=\"translate(6468.6181640625,111.5)\" style=\"opacity: 1;\"><g class=\"node-item node-item-type node-item-type-activation\" transform=\"translate(0,0)\"><path d=\"M5,0h115.75a5,5 0 0 1 5,5v13a5,5 0 0 1 -5,5h-115.75a5,5 0 0 1 -5,-5v-13a5,5 0 0 1 5,-5z\" style=\"stroke: rgb(0, 0, 0); fill: rgb(112, 41, 33); stroke-width: 0;\"/><text x=\"6\" y=\"16\" style=\"font-family: -apple-system, BlinkMacSystemFont, &quot;Segoe WPC&quot;, &quot;Segoe UI&quot;, Ubuntu, &quot;Droid Sans&quot;, sans-serif, &quot;PingFang SC&quot;; font-size: 11px; text-rendering: geometricprecision; fill: rgb(255, 255, 255);\">/layer2/layer2.0/Relu_1</text><title>Relu</title></g><path class=\"node border\" d=\"M5,0h115.75a5,5 0 0 1 5,5v13a5,5 0 0 1 -5,5h-115.75a5,5 0 0 1 -5,-5v-13a5,5 0 0 1 5,-5z\" style=\"stroke: rgb(51, 51, 51); fill: none; stroke-width: 1px;\"/></g><g id=\"node-name-/layer2/layer2.1/conv1/Conv\" class=\"node graph-node\" transform=\"translate(6760.181640625,104.75)\" style=\"opacity: 1;\"><g class=\"node-item node-item-type node-item-type-layer\" transform=\"translate(0,0)\"><path d=\"M5,0h143.06982421875a5,5 0 0 1 5,5v18a0,0 0 0 1 0,0h-153.06982421875a0,0 0 0 1 0,0v-18a5,5 0 0 1 5,-5z\" style=\"stroke: rgb(0, 0, 0); fill: rgb(51, 85, 136); stroke-width: 0;\"/><text x=\"6\" y=\"16\" style=\"font-family: -apple-system, BlinkMacSystemFont, &quot;Segoe WPC&quot;, &quot;Segoe UI&quot;, Ubuntu, &quot;Droid Sans&quot;, sans-serif, &quot;PingFang SC&quot;; font-size: 11px; text-rendering: geometricprecision; fill: rgb(255, 255, 255);\">/layer2/layer2.1/conv1/Conv</text><title>Conv</title></g><g class=\"node-attribute\" transform=\"translate(0,23)\"><path d=\"M0,0h153.06982421875a0,0 0 0 1 0,0v85a5,5 0 0 1 -5,5h-143.06982421875a5,5 0 0 1 -5,-5v-85a0,0 0 0 1 0,0z\" style=\"stroke: rgb(0, 0, 0); fill: rgb(255, 255, 255); stroke-width: 0;\"/><text id=\"initializer-onnx::Conv_285\" xml:space=\"preserve\" x=\"6\" y=\"14\" style=\"font-family: -apple-system, BlinkMacSystemFont, &quot;Segoe WPC&quot;, &quot;Segoe UI&quot;, Ubuntu, &quot;Droid Sans&quot;, sans-serif, &quot;PingFang SC&quot;; font-size: 9px; font-weight: normal; text-rendering: geometricprecision;\"><title>float32[128,128,3,3]</title><tspan style=\"font-weight: bold;\">W</tspan><tspan>〈128×128×3×3〉</tspan></text><text id=\"initializer-onnx::Conv_286\" xml:space=\"preserve\" x=\"6\" y=\"28\" style=\"font-family: -apple-system, BlinkMacSystemFont, &quot;Segoe WPC&quot;, &quot;Segoe UI&quot;, Ubuntu, &quot;Droid Sans&quot;, sans-serif, &quot;PingFang SC&quot;; font-size: 9px; font-weight: normal; text-rendering: geometricprecision;\"><title>float32[128]</title><tspan style=\"font-weight: bold;\">B</tspan><tspan>〈128〉</tspan></text><text xml:space=\"preserve\" x=\"6\" y=\"42\" style=\"font-family: -apple-system, BlinkMacSystemFont, &quot;Segoe WPC&quot;, &quot;Segoe UI&quot;, Ubuntu, &quot;Droid Sans&quot;, sans-serif, &quot;PingFang SC&quot;; font-size: 9px; font-weight: normal; text-rendering: geometricprecision;\"><title>int64[]</title><tspan>dilations</tspan><tspan> = 1, 1</tspan></text><text xml:space=\"preserve\" x=\"6\" y=\"56\" style=\"font-family: -apple-system, BlinkMacSystemFont, &quot;Segoe WPC&quot;, &quot;Segoe UI&quot;, Ubuntu, &quot;Droid Sans&quot;, sans-serif, &quot;PingFang SC&quot;; font-size: 9px; font-weight: normal; text-rendering: geometricprecision;\"><title>int64[]</title><tspan>kernel_shape</tspan><tspan> = 3, 3</tspan></text><text xml:space=\"preserve\" x=\"6\" y=\"70\" style=\"font-family: -apple-system, BlinkMacSystemFont, &quot;Segoe WPC&quot;, &quot;Segoe UI&quot;, Ubuntu, &quot;Droid Sans&quot;, sans-serif, &quot;PingFang SC&quot;; font-size: 9px; font-weight: normal; text-rendering: geometricprecision;\"><title>int64[]</title><tspan>pads</tspan><tspan> = 1, 1, 1, 1</tspan></text><text xml:space=\"preserve\" x=\"6\" y=\"84\" style=\"font-family: -apple-system, BlinkMacSystemFont, &quot;Segoe WPC&quot;, &quot;Segoe UI&quot;, Ubuntu, &quot;Droid Sans&quot;, sans-serif, &quot;PingFang SC&quot;; font-size: 9px; font-weight: normal; text-rendering: geometricprecision;\"><title>int64[]</title><tspan>strides</tspan><tspan> = 1, 1</tspan></text><line class=\"node\" x1=\"0\" x2=\"153.06982421875\" y1=\"0\" y2=\"0\" style=\"stroke: rgb(51, 51, 51); fill: none; stroke-width: 1px;\"/></g><path class=\"node border\" d=\"M5,0h143.06982421875a5,5 0 0 1 5,5v103a5,5 0 0 1 -5,5h-143.06982421875a5,5 0 0 1 -5,-5v-103a5,5 0 0 1 5,-5z\" style=\"stroke: rgb(51, 51, 51); fill: none; stroke-width: 1px;\"/></g><g id=\"node-name-/layer2/layer2.1/Relu\" class=\"node graph-node\" transform=\"translate(7118.513671875,149.75)\" style=\"opacity: 1;\"><g class=\"node-item node-item-type node-item-type-activation\" transform=\"translate(0,0)\"><path d=\"M5,0h105.265625a5,5 0 0 1 5,5v13a5,5 0 0 1 -5,5h-105.265625a5,5 0 0 1 -5,-5v-13a5,5 0 0 1 5,-5z\" style=\"stroke: rgb(0, 0, 0); fill: rgb(112, 41, 33); stroke-width: 0;\"/><text x=\"6\" y=\"16\" style=\"font-family: -apple-system, BlinkMacSystemFont, &quot;Segoe WPC&quot;, &quot;Segoe UI&quot;, Ubuntu, &quot;Droid Sans&quot;, sans-serif, &quot;PingFang SC&quot;; font-size: 11px; text-rendering: geometricprecision; fill: rgb(255, 255, 255);\">/layer2/layer2.1/Relu</text><title>Relu</title></g><path class=\"node border\" d=\"M5,0h105.265625a5,5 0 0 1 5,5v13a5,5 0 0 1 -5,5h-105.265625a5,5 0 0 1 -5,-5v-13a5,5 0 0 1 5,-5z\" style=\"stroke: rgb(51, 51, 51); fill: none; stroke-width: 1px;\"/></g><g id=\"node-name-/layer2/layer2.1/conv2/Conv\" class=\"node graph-node\" transform=\"translate(7405.32568359375,104.75)\" style=\"opacity: 1;\"><g class=\"node-item node-item-type node-item-type-layer\" transform=\"translate(0,0)\"><path d=\"M5,0h143.06982421875a5,5 0 0 1 5,5v18a0,0 0 0 1 0,0h-153.06982421875a0,0 0 0 1 0,0v-18a5,5 0 0 1 5,-5z\" style=\"stroke: rgb(0, 0, 0); fill: rgb(51, 85, 136); stroke-width: 0;\"/><text x=\"6\" y=\"16\" style=\"font-family: -apple-system, BlinkMacSystemFont, &quot;Segoe WPC&quot;, &quot;Segoe UI&quot;, Ubuntu, &quot;Droid Sans&quot;, sans-serif, &quot;PingFang SC&quot;; font-size: 11px; text-rendering: geometricprecision; fill: rgb(255, 255, 255);\">/layer2/layer2.1/conv2/Conv</text><title>Conv</title></g><g class=\"node-attribute\" transform=\"translate(0,23)\"><path d=\"M0,0h153.06982421875a0,0 0 0 1 0,0v85a5,5 0 0 1 -5,5h-143.06982421875a5,5 0 0 1 -5,-5v-85a0,0 0 0 1 0,0z\" style=\"stroke: rgb(0, 0, 0); fill: rgb(255, 255, 255); stroke-width: 0;\"/><text id=\"initializer-onnx::Conv_288\" xml:space=\"preserve\" x=\"6\" y=\"14\" style=\"font-family: -apple-system, BlinkMacSystemFont, &quot;Segoe WPC&quot;, &quot;Segoe UI&quot;, Ubuntu, &quot;Droid Sans&quot;, sans-serif, &quot;PingFang SC&quot;; font-size: 9px; font-weight: normal; text-rendering: geometricprecision;\"><title>float32[128,128,3,3]</title><tspan style=\"font-weight: bold;\">W</tspan><tspan>〈128×128×3×3〉</tspan></text><text id=\"initializer-onnx::Conv_289\" xml:space=\"preserve\" x=\"6\" y=\"28\" style=\"font-family: -apple-system, BlinkMacSystemFont, &quot;Segoe WPC&quot;, &quot;Segoe UI&quot;, Ubuntu, &quot;Droid Sans&quot;, sans-serif, &quot;PingFang SC&quot;; font-size: 9px; font-weight: normal; text-rendering: geometricprecision;\"><title>float32[128]</title><tspan style=\"font-weight: bold;\">B</tspan><tspan>〈128〉</tspan></text><text xml:space=\"preserve\" x=\"6\" y=\"42\" style=\"font-family: -apple-system, BlinkMacSystemFont, &quot;Segoe WPC&quot;, &quot;Segoe UI&quot;, Ubuntu, &quot;Droid Sans&quot;, sans-serif, &quot;PingFang SC&quot;; font-size: 9px; font-weight: normal; text-rendering: geometricprecision;\"><title>int64[]</title><tspan>dilations</tspan><tspan> = 1, 1</tspan></text><text xml:space=\"preserve\" x=\"6\" y=\"56\" style=\"font-family: -apple-system, BlinkMacSystemFont, &quot;Segoe WPC&quot;, &quot;Segoe UI&quot;, Ubuntu, &quot;Droid Sans&quot;, sans-serif, &quot;PingFang SC&quot;; font-size: 9px; font-weight: normal; text-rendering: geometricprecision;\"><title>int64[]</title><tspan>kernel_shape</tspan><tspan> = 3, 3</tspan></text><text xml:space=\"preserve\" x=\"6\" y=\"70\" style=\"font-family: -apple-system, BlinkMacSystemFont, &quot;Segoe WPC&quot;, &quot;Segoe UI&quot;, Ubuntu, &quot;Droid Sans&quot;, sans-serif, &quot;PingFang SC&quot;; font-size: 9px; font-weight: normal; text-rendering: geometricprecision;\"><title>int64[]</title><tspan>pads</tspan><tspan> = 1, 1, 1, 1</tspan></text><text xml:space=\"preserve\" x=\"6\" y=\"84\" style=\"font-family: -apple-system, BlinkMacSystemFont, &quot;Segoe WPC&quot;, &quot;Segoe UI&quot;, Ubuntu, &quot;Droid Sans&quot;, sans-serif, &quot;PingFang SC&quot;; font-size: 9px; font-weight: normal; text-rendering: geometricprecision;\"><title>int64[]</title><tspan>strides</tspan><tspan> = 1, 1</tspan></text><line class=\"node\" x1=\"0\" x2=\"153.06982421875\" y1=\"0\" y2=\"0\" style=\"stroke: rgb(51, 51, 51); fill: none; stroke-width: 1px;\"/></g><path class=\"node border\" d=\"M5,0h143.06982421875a5,5 0 0 1 5,5v103a5,5 0 0 1 -5,5h-143.06982421875a5,5 0 0 1 -5,-5v-103a5,5 0 0 1 5,-5z\" style=\"stroke: rgb(51, 51, 51); fill: none; stroke-width: 1px;\"/></g><g id=\"node-name-/layer2/layer2.1/Add\" class=\"node graph-node\" transform=\"translate(7748.3837890625,111.5)\" style=\"opacity: 1;\"><g class=\"node-item node-item-type\" transform=\"translate(0,0)\"><path d=\"M5,0h104.40625a5,5 0 0 1 5,5v13a5,5 0 0 1 -5,5h-104.40625a5,5 0 0 1 -5,-5v-13a5,5 0 0 1 5,-5z\" style=\"stroke: rgb(0, 0, 0); fill: rgb(0, 0, 0); stroke-width: 0;\"/><text x=\"6\" y=\"16\" style=\"font-family: -apple-system, BlinkMacSystemFont, &quot;Segoe WPC&quot;, &quot;Segoe UI&quot;, Ubuntu, &quot;Droid Sans&quot;, sans-serif, &quot;PingFang SC&quot;; font-size: 11px; text-rendering: geometricprecision; fill: rgb(255, 255, 255);\">/layer2/layer2.1/Add</text><title>Add</title></g><path class=\"node border\" d=\"M5,0h104.40625a5,5 0 0 1 5,5v13a5,5 0 0 1 -5,5h-104.40625a5,5 0 0 1 -5,-5v-13a5,5 0 0 1 5,-5z\" style=\"stroke: rgb(51, 51, 51); fill: none; stroke-width: 1px;\"/></g><g id=\"node-name-/layer2/layer2.1/Relu_1\" class=\"node graph-node\" transform=\"translate(8018.291015625,111.5)\" style=\"opacity: 1;\"><g class=\"node-item node-item-type node-item-type-activation\" transform=\"translate(0,0)\"><path d=\"M5,0h115.75a5,5 0 0 1 5,5v13a5,5 0 0 1 -5,5h-115.75a5,5 0 0 1 -5,-5v-13a5,5 0 0 1 5,-5z\" style=\"stroke: rgb(0, 0, 0); fill: rgb(112, 41, 33); stroke-width: 0;\"/><text x=\"6\" y=\"16\" style=\"font-family: -apple-system, BlinkMacSystemFont, &quot;Segoe WPC&quot;, &quot;Segoe UI&quot;, Ubuntu, &quot;Droid Sans&quot;, sans-serif, &quot;PingFang SC&quot;; font-size: 11px; text-rendering: geometricprecision; fill: rgb(255, 255, 255);\">/layer2/layer2.1/Relu_1</text><title>Relu</title></g><path class=\"node border\" d=\"M5,0h115.75a5,5 0 0 1 5,5v13a5,5 0 0 1 -5,5h-115.75a5,5 0 0 1 -5,-5v-13a5,5 0 0 1 5,-5z\" style=\"stroke: rgb(51, 51, 51); fill: none; stroke-width: 1px;\"/></g><g id=\"node-name-/layer2/layer2.2/conv1/Conv\" class=\"node graph-node\" transform=\"translate(8309.8544921875,104.75)\" style=\"opacity: 1;\"><g class=\"node-item node-item-type node-item-type-layer\" transform=\"translate(0,0)\"><path d=\"M5,0h143.06982421875a5,5 0 0 1 5,5v18a0,0 0 0 1 0,0h-153.06982421875a0,0 0 0 1 0,0v-18a5,5 0 0 1 5,-5z\" style=\"stroke: rgb(0, 0, 0); fill: rgb(51, 85, 136); stroke-width: 0;\"/><text x=\"6\" y=\"16\" style=\"font-family: -apple-system, BlinkMacSystemFont, &quot;Segoe WPC&quot;, &quot;Segoe UI&quot;, Ubuntu, &quot;Droid Sans&quot;, sans-serif, &quot;PingFang SC&quot;; font-size: 11px; text-rendering: geometricprecision; fill: rgb(255, 255, 255);\">/layer2/layer2.2/conv1/Conv</text><title>Conv</title></g><g class=\"node-attribute\" transform=\"translate(0,23)\"><path d=\"M0,0h153.06982421875a0,0 0 0 1 0,0v85a5,5 0 0 1 -5,5h-143.06982421875a5,5 0 0 1 -5,-5v-85a0,0 0 0 1 0,0z\" style=\"stroke: rgb(0, 0, 0); fill: rgb(255, 255, 255); stroke-width: 0;\"/><text id=\"initializer-onnx::Conv_291\" xml:space=\"preserve\" x=\"6\" y=\"14\" style=\"font-family: -apple-system, BlinkMacSystemFont, &quot;Segoe WPC&quot;, &quot;Segoe UI&quot;, Ubuntu, &quot;Droid Sans&quot;, sans-serif, &quot;PingFang SC&quot;; font-size: 9px; font-weight: normal; text-rendering: geometricprecision;\"><title>float32[128,128,3,3]</title><tspan style=\"font-weight: bold;\">W</tspan><tspan>〈128×128×3×3〉</tspan></text><text id=\"initializer-onnx::Conv_292\" xml:space=\"preserve\" x=\"6\" y=\"28\" style=\"font-family: -apple-system, BlinkMacSystemFont, &quot;Segoe WPC&quot;, &quot;Segoe UI&quot;, Ubuntu, &quot;Droid Sans&quot;, sans-serif, &quot;PingFang SC&quot;; font-size: 9px; font-weight: normal; text-rendering: geometricprecision;\"><title>float32[128]</title><tspan style=\"font-weight: bold;\">B</tspan><tspan>〈128〉</tspan></text><text xml:space=\"preserve\" x=\"6\" y=\"42\" style=\"font-family: -apple-system, BlinkMacSystemFont, &quot;Segoe WPC&quot;, &quot;Segoe UI&quot;, Ubuntu, &quot;Droid Sans&quot;, sans-serif, &quot;PingFang SC&quot;; font-size: 9px; font-weight: normal; text-rendering: geometricprecision;\"><title>int64[]</title><tspan>dilations</tspan><tspan> = 1, 1</tspan></text><text xml:space=\"preserve\" x=\"6\" y=\"56\" style=\"font-family: -apple-system, BlinkMacSystemFont, &quot;Segoe WPC&quot;, &quot;Segoe UI&quot;, Ubuntu, &quot;Droid Sans&quot;, sans-serif, &quot;PingFang SC&quot;; font-size: 9px; font-weight: normal; text-rendering: geometricprecision;\"><title>int64[]</title><tspan>kernel_shape</tspan><tspan> = 3, 3</tspan></text><text xml:space=\"preserve\" x=\"6\" y=\"70\" style=\"font-family: -apple-system, BlinkMacSystemFont, &quot;Segoe WPC&quot;, &quot;Segoe UI&quot;, Ubuntu, &quot;Droid Sans&quot;, sans-serif, &quot;PingFang SC&quot;; font-size: 9px; font-weight: normal; text-rendering: geometricprecision;\"><title>int64[]</title><tspan>pads</tspan><tspan> = 1, 1, 1, 1</tspan></text><text xml:space=\"preserve\" x=\"6\" y=\"84\" style=\"font-family: -apple-system, BlinkMacSystemFont, &quot;Segoe WPC&quot;, &quot;Segoe UI&quot;, Ubuntu, &quot;Droid Sans&quot;, sans-serif, &quot;PingFang SC&quot;; font-size: 9px; font-weight: normal; text-rendering: geometricprecision;\"><title>int64[]</title><tspan>strides</tspan><tspan> = 1, 1</tspan></text><line class=\"node\" x1=\"0\" x2=\"153.06982421875\" y1=\"0\" y2=\"0\" style=\"stroke: rgb(51, 51, 51); fill: none; stroke-width: 1px;\"/></g><path class=\"node border\" d=\"M5,0h143.06982421875a5,5 0 0 1 5,5v103a5,5 0 0 1 -5,5h-143.06982421875a5,5 0 0 1 -5,-5v-103a5,5 0 0 1 5,-5z\" style=\"stroke: rgb(51, 51, 51); fill: none; stroke-width: 1px;\"/></g><g id=\"node-name-/layer2/layer2.2/Relu\" class=\"node graph-node\" transform=\"translate(8668.1865234375,149.75)\" style=\"opacity: 1;\"><g class=\"node-item node-item-type node-item-type-activation\" transform=\"translate(0,0)\"><path d=\"M5,0h105.265625a5,5 0 0 1 5,5v13a5,5 0 0 1 -5,5h-105.265625a5,5 0 0 1 -5,-5v-13a5,5 0 0 1 5,-5z\" style=\"stroke: rgb(0, 0, 0); fill: rgb(112, 41, 33); stroke-width: 0;\"/><text x=\"6\" y=\"16\" style=\"font-family: -apple-system, BlinkMacSystemFont, &quot;Segoe WPC&quot;, &quot;Segoe UI&quot;, Ubuntu, &quot;Droid Sans&quot;, sans-serif, &quot;PingFang SC&quot;; font-size: 11px; text-rendering: geometricprecision; fill: rgb(255, 255, 255);\">/layer2/layer2.2/Relu</text><title>Relu</title></g><path class=\"node border\" d=\"M5,0h105.265625a5,5 0 0 1 5,5v13a5,5 0 0 1 -5,5h-105.265625a5,5 0 0 1 -5,-5v-13a5,5 0 0 1 5,-5z\" style=\"stroke: rgb(51, 51, 51); fill: none; stroke-width: 1px;\"/></g><g id=\"node-name-/layer2/layer2.2/conv2/Conv\" class=\"node graph-node\" transform=\"translate(8954.99853515625,104.75)\" style=\"opacity: 1;\"><g class=\"node-item node-item-type node-item-type-layer\" transform=\"translate(0,0)\"><path d=\"M5,0h143.06982421875a5,5 0 0 1 5,5v18a0,0 0 0 1 0,0h-153.06982421875a0,0 0 0 1 0,0v-18a5,5 0 0 1 5,-5z\" style=\"stroke: rgb(0, 0, 0); fill: rgb(51, 85, 136); stroke-width: 0;\"/><text x=\"6\" y=\"16\" style=\"font-family: -apple-system, BlinkMacSystemFont, &quot;Segoe WPC&quot;, &quot;Segoe UI&quot;, Ubuntu, &quot;Droid Sans&quot;, sans-serif, &quot;PingFang SC&quot;; font-size: 11px; text-rendering: geometricprecision; fill: rgb(255, 255, 255);\">/layer2/layer2.2/conv2/Conv</text><title>Conv</title></g><g class=\"node-attribute\" transform=\"translate(0,23)\"><path d=\"M0,0h153.06982421875a0,0 0 0 1 0,0v85a5,5 0 0 1 -5,5h-143.06982421875a5,5 0 0 1 -5,-5v-85a0,0 0 0 1 0,0z\" style=\"stroke: rgb(0, 0, 0); fill: rgb(255, 255, 255); stroke-width: 0;\"/><text id=\"initializer-onnx::Conv_294\" xml:space=\"preserve\" x=\"6\" y=\"14\" style=\"font-family: -apple-system, BlinkMacSystemFont, &quot;Segoe WPC&quot;, &quot;Segoe UI&quot;, Ubuntu, &quot;Droid Sans&quot;, sans-serif, &quot;PingFang SC&quot;; font-size: 9px; font-weight: normal; text-rendering: geometricprecision;\"><title>float32[128,128,3,3]</title><tspan style=\"font-weight: bold;\">W</tspan><tspan>〈128×128×3×3〉</tspan></text><text id=\"initializer-onnx::Conv_295\" xml:space=\"preserve\" x=\"6\" y=\"28\" style=\"font-family: -apple-system, BlinkMacSystemFont, &quot;Segoe WPC&quot;, &quot;Segoe UI&quot;, Ubuntu, &quot;Droid Sans&quot;, sans-serif, &quot;PingFang SC&quot;; font-size: 9px; font-weight: normal; text-rendering: geometricprecision;\"><title>float32[128]</title><tspan style=\"font-weight: bold;\">B</tspan><tspan>〈128〉</tspan></text><text xml:space=\"preserve\" x=\"6\" y=\"42\" style=\"font-family: -apple-system, BlinkMacSystemFont, &quot;Segoe WPC&quot;, &quot;Segoe UI&quot;, Ubuntu, &quot;Droid Sans&quot;, sans-serif, &quot;PingFang SC&quot;; font-size: 9px; font-weight: normal; text-rendering: geometricprecision;\"><title>int64[]</title><tspan>dilations</tspan><tspan> = 1, 1</tspan></text><text xml:space=\"preserve\" x=\"6\" y=\"56\" style=\"font-family: -apple-system, BlinkMacSystemFont, &quot;Segoe WPC&quot;, &quot;Segoe UI&quot;, Ubuntu, &quot;Droid Sans&quot;, sans-serif, &quot;PingFang SC&quot;; font-size: 9px; font-weight: normal; text-rendering: geometricprecision;\"><title>int64[]</title><tspan>kernel_shape</tspan><tspan> = 3, 3</tspan></text><text xml:space=\"preserve\" x=\"6\" y=\"70\" style=\"font-family: -apple-system, BlinkMacSystemFont, &quot;Segoe WPC&quot;, &quot;Segoe UI&quot;, Ubuntu, &quot;Droid Sans&quot;, sans-serif, &quot;PingFang SC&quot;; font-size: 9px; font-weight: normal; text-rendering: geometricprecision;\"><title>int64[]</title><tspan>pads</tspan><tspan> = 1, 1, 1, 1</tspan></text><text xml:space=\"preserve\" x=\"6\" y=\"84\" style=\"font-family: -apple-system, BlinkMacSystemFont, &quot;Segoe WPC&quot;, &quot;Segoe UI&quot;, Ubuntu, &quot;Droid Sans&quot;, sans-serif, &quot;PingFang SC&quot;; font-size: 9px; font-weight: normal; text-rendering: geometricprecision;\"><title>int64[]</title><tspan>strides</tspan><tspan> = 1, 1</tspan></text><line class=\"node\" x1=\"0\" x2=\"153.06982421875\" y1=\"0\" y2=\"0\" style=\"stroke: rgb(51, 51, 51); fill: none; stroke-width: 1px;\"/></g><path class=\"node border\" d=\"M5,0h143.06982421875a5,5 0 0 1 5,5v103a5,5 0 0 1 -5,5h-143.06982421875a5,5 0 0 1 -5,-5v-103a5,5 0 0 1 5,-5z\" style=\"stroke: rgb(51, 51, 51); fill: none; stroke-width: 1px;\"/></g><g id=\"node-name-/layer2/layer2.2/Add\" class=\"node graph-node\" transform=\"translate(9298.056640625,111.5)\" style=\"opacity: 1;\"><g class=\"node-item node-item-type\" transform=\"translate(0,0)\"><path d=\"M5,0h104.40625a5,5 0 0 1 5,5v13a5,5 0 0 1 -5,5h-104.40625a5,5 0 0 1 -5,-5v-13a5,5 0 0 1 5,-5z\" style=\"stroke: rgb(0, 0, 0); fill: rgb(0, 0, 0); stroke-width: 0;\"/><text x=\"6\" y=\"16\" style=\"font-family: -apple-system, BlinkMacSystemFont, &quot;Segoe WPC&quot;, &quot;Segoe UI&quot;, Ubuntu, &quot;Droid Sans&quot;, sans-serif, &quot;PingFang SC&quot;; font-size: 11px; text-rendering: geometricprecision; fill: rgb(255, 255, 255);\">/layer2/layer2.2/Add</text><title>Add</title></g><path class=\"node border\" d=\"M5,0h104.40625a5,5 0 0 1 5,5v13a5,5 0 0 1 -5,5h-104.40625a5,5 0 0 1 -5,-5v-13a5,5 0 0 1 5,-5z\" style=\"stroke: rgb(51, 51, 51); fill: none; stroke-width: 1px;\"/></g><g id=\"node-name-/layer2/layer2.2/Relu_1\" class=\"node graph-node\" transform=\"translate(9567.9638671875,111.5)\" style=\"opacity: 1;\"><g class=\"node-item node-item-type node-item-type-activation\" transform=\"translate(0,0)\"><path d=\"M5,0h115.75a5,5 0 0 1 5,5v13a5,5 0 0 1 -5,5h-115.75a5,5 0 0 1 -5,-5v-13a5,5 0 0 1 5,-5z\" style=\"stroke: rgb(0, 0, 0); fill: rgb(112, 41, 33); stroke-width: 0;\"/><text x=\"6\" y=\"16\" style=\"font-family: -apple-system, BlinkMacSystemFont, &quot;Segoe WPC&quot;, &quot;Segoe UI&quot;, Ubuntu, &quot;Droid Sans&quot;, sans-serif, &quot;PingFang SC&quot;; font-size: 11px; text-rendering: geometricprecision; fill: rgb(255, 255, 255);\">/layer2/layer2.2/Relu_1</text><title>Relu</title></g><path class=\"node border\" d=\"M5,0h115.75a5,5 0 0 1 5,5v13a5,5 0 0 1 -5,5h-115.75a5,5 0 0 1 -5,-5v-13a5,5 0 0 1 5,-5z\" style=\"stroke: rgb(51, 51, 51); fill: none; stroke-width: 1px;\"/></g><g id=\"node-name-/layer3/layer3.0/conv1/Conv\" class=\"node graph-node\" transform=\"translate(9859.52734375,0)\" style=\"opacity: 1;\"><g class=\"node-item node-item-type node-item-type-layer\" transform=\"translate(0,0)\"><path d=\"M5,0h143.06982421875a5,5 0 0 1 5,5v18a0,0 0 0 1 0,0h-153.06982421875a0,0 0 0 1 0,0v-18a5,5 0 0 1 5,-5z\" style=\"stroke: rgb(0, 0, 0); fill: rgb(51, 85, 136); stroke-width: 0;\"/><text x=\"6\" y=\"16\" style=\"font-family: -apple-system, BlinkMacSystemFont, &quot;Segoe WPC&quot;, &quot;Segoe UI&quot;, Ubuntu, &quot;Droid Sans&quot;, sans-serif, &quot;PingFang SC&quot;; font-size: 11px; text-rendering: geometricprecision; fill: rgb(255, 255, 255);\">/layer3/layer3.0/conv1/Conv</text><title>Conv</title></g><g class=\"node-attribute\" transform=\"translate(0,23)\"><path d=\"M0,0h153.06982421875a0,0 0 0 1 0,0v85a5,5 0 0 1 -5,5h-143.06982421875a5,5 0 0 1 -5,-5v-85a0,0 0 0 1 0,0z\" style=\"stroke: rgb(0, 0, 0); fill: rgb(255, 255, 255); stroke-width: 0;\"/><text id=\"initializer-onnx::Conv_297\" xml:space=\"preserve\" x=\"6\" y=\"14\" style=\"font-family: -apple-system, BlinkMacSystemFont, &quot;Segoe WPC&quot;, &quot;Segoe UI&quot;, Ubuntu, &quot;Droid Sans&quot;, sans-serif, &quot;PingFang SC&quot;; font-size: 9px; font-weight: normal; text-rendering: geometricprecision;\"><title>float32[128,128,3,3]</title><tspan style=\"font-weight: bold;\">W</tspan><tspan>〈128×128×3×3〉</tspan></text><text id=\"initializer-onnx::Conv_298\" xml:space=\"preserve\" x=\"6\" y=\"28\" style=\"font-family: -apple-system, BlinkMacSystemFont, &quot;Segoe WPC&quot;, &quot;Segoe UI&quot;, Ubuntu, &quot;Droid Sans&quot;, sans-serif, &quot;PingFang SC&quot;; font-size: 9px; font-weight: normal; text-rendering: geometricprecision;\"><title>float32[128]</title><tspan style=\"font-weight: bold;\">B</tspan><tspan>〈128〉</tspan></text><text xml:space=\"preserve\" x=\"6\" y=\"42\" style=\"font-family: -apple-system, BlinkMacSystemFont, &quot;Segoe WPC&quot;, &quot;Segoe UI&quot;, Ubuntu, &quot;Droid Sans&quot;, sans-serif, &quot;PingFang SC&quot;; font-size: 9px; font-weight: normal; text-rendering: geometricprecision;\"><title>int64[]</title><tspan>dilations</tspan><tspan> = 1, 1</tspan></text><text xml:space=\"preserve\" x=\"6\" y=\"56\" style=\"font-family: -apple-system, BlinkMacSystemFont, &quot;Segoe WPC&quot;, &quot;Segoe UI&quot;, Ubuntu, &quot;Droid Sans&quot;, sans-serif, &quot;PingFang SC&quot;; font-size: 9px; font-weight: normal; text-rendering: geometricprecision;\"><title>int64[]</title><tspan>kernel_shape</tspan><tspan> = 3, 3</tspan></text><text xml:space=\"preserve\" x=\"6\" y=\"70\" style=\"font-family: -apple-system, BlinkMacSystemFont, &quot;Segoe WPC&quot;, &quot;Segoe UI&quot;, Ubuntu, &quot;Droid Sans&quot;, sans-serif, &quot;PingFang SC&quot;; font-size: 9px; font-weight: normal; text-rendering: geometricprecision;\"><title>int64[]</title><tspan>pads</tspan><tspan> = 1, 1, 1, 1</tspan></text><text xml:space=\"preserve\" x=\"6\" y=\"84\" style=\"font-family: -apple-system, BlinkMacSystemFont, &quot;Segoe WPC&quot;, &quot;Segoe UI&quot;, Ubuntu, &quot;Droid Sans&quot;, sans-serif, &quot;PingFang SC&quot;; font-size: 9px; font-weight: normal; text-rendering: geometricprecision;\"><title>int64[]</title><tspan>strides</tspan><tspan> = 2, 2</tspan></text><line class=\"node\" x1=\"0\" x2=\"153.06982421875\" y1=\"0\" y2=\"0\" style=\"stroke: rgb(51, 51, 51); fill: none; stroke-width: 1px;\"/></g><path class=\"node border\" d=\"M5,0h143.06982421875a5,5 0 0 1 5,5v103a5,5 0 0 1 -5,5h-143.06982421875a5,5 0 0 1 -5,-5v-103a5,5 0 0 1 5,-5z\" style=\"stroke: rgb(51, 51, 51); fill: none; stroke-width: 1px;\"/></g><g id=\"node-name-/layer3/layer3.0/Relu\" class=\"node graph-node\" transform=\"translate(10202.58544921875,45)\" style=\"opacity: 1;\"><g class=\"node-item node-item-type node-item-type-activation\" transform=\"translate(0,0)\"><path d=\"M5,0h105.265625a5,5 0 0 1 5,5v13a5,5 0 0 1 -5,5h-105.265625a5,5 0 0 1 -5,-5v-13a5,5 0 0 1 5,-5z\" style=\"stroke: rgb(0, 0, 0); fill: rgb(112, 41, 33); stroke-width: 0;\"/><text x=\"6\" y=\"16\" style=\"font-family: -apple-system, BlinkMacSystemFont, &quot;Segoe WPC&quot;, &quot;Segoe UI&quot;, Ubuntu, &quot;Droid Sans&quot;, sans-serif, &quot;PingFang SC&quot;; font-size: 11px; text-rendering: geometricprecision; fill: rgb(255, 255, 255);\">/layer3/layer3.0/Relu</text><title>Relu</title></g><path class=\"node border\" d=\"M5,0h105.265625a5,5 0 0 1 5,5v13a5,5 0 0 1 -5,5h-105.265625a5,5 0 0 1 -5,-5v-13a5,5 0 0 1 5,-5z\" style=\"stroke: rgb(51, 51, 51); fill: none; stroke-width: 1px;\"/></g><g id=\"node-name-/layer3/layer3.0/conv2/Conv\" class=\"node graph-node\" transform=\"translate(10505.8720703125,0)\" style=\"opacity: 1;\"><g class=\"node-item node-item-type node-item-type-layer\" transform=\"translate(0,0)\"><path d=\"M5,0h143.06982421875a5,5 0 0 1 5,5v18a0,0 0 0 1 0,0h-153.06982421875a0,0 0 0 1 0,0v-18a5,5 0 0 1 5,-5z\" style=\"stroke: rgb(0, 0, 0); fill: rgb(51, 85, 136); stroke-width: 0;\"/><text x=\"6\" y=\"16\" style=\"font-family: -apple-system, BlinkMacSystemFont, &quot;Segoe WPC&quot;, &quot;Segoe UI&quot;, Ubuntu, &quot;Droid Sans&quot;, sans-serif, &quot;PingFang SC&quot;; font-size: 11px; text-rendering: geometricprecision; fill: rgb(255, 255, 255);\">/layer3/layer3.0/conv2/Conv</text><title>Conv</title></g><g class=\"node-attribute\" transform=\"translate(0,23)\"><path d=\"M0,0h153.06982421875a0,0 0 0 1 0,0v85a5,5 0 0 1 -5,5h-143.06982421875a5,5 0 0 1 -5,-5v-85a0,0 0 0 1 0,0z\" style=\"stroke: rgb(0, 0, 0); fill: rgb(255, 255, 255); stroke-width: 0;\"/><text id=\"initializer-onnx::Conv_300\" xml:space=\"preserve\" x=\"6\" y=\"14\" style=\"font-family: -apple-system, BlinkMacSystemFont, &quot;Segoe WPC&quot;, &quot;Segoe UI&quot;, Ubuntu, &quot;Droid Sans&quot;, sans-serif, &quot;PingFang SC&quot;; font-size: 9px; font-weight: normal; text-rendering: geometricprecision;\"><title>float32[128,128,3,3]</title><tspan style=\"font-weight: bold;\">W</tspan><tspan>〈128×128×3×3〉</tspan></text><text id=\"initializer-onnx::Conv_301\" xml:space=\"preserve\" x=\"6\" y=\"28\" style=\"font-family: -apple-system, BlinkMacSystemFont, &quot;Segoe WPC&quot;, &quot;Segoe UI&quot;, Ubuntu, &quot;Droid Sans&quot;, sans-serif, &quot;PingFang SC&quot;; font-size: 9px; font-weight: normal; text-rendering: geometricprecision;\"><title>float32[128]</title><tspan style=\"font-weight: bold;\">B</tspan><tspan>〈128〉</tspan></text><text xml:space=\"preserve\" x=\"6\" y=\"42\" style=\"font-family: -apple-system, BlinkMacSystemFont, &quot;Segoe WPC&quot;, &quot;Segoe UI&quot;, Ubuntu, &quot;Droid Sans&quot;, sans-serif, &quot;PingFang SC&quot;; font-size: 9px; font-weight: normal; text-rendering: geometricprecision;\"><title>int64[]</title><tspan>dilations</tspan><tspan> = 1, 1</tspan></text><text xml:space=\"preserve\" x=\"6\" y=\"56\" style=\"font-family: -apple-system, BlinkMacSystemFont, &quot;Segoe WPC&quot;, &quot;Segoe UI&quot;, Ubuntu, &quot;Droid Sans&quot;, sans-serif, &quot;PingFang SC&quot;; font-size: 9px; font-weight: normal; text-rendering: geometricprecision;\"><title>int64[]</title><tspan>kernel_shape</tspan><tspan> = 3, 3</tspan></text><text xml:space=\"preserve\" x=\"6\" y=\"70\" style=\"font-family: -apple-system, BlinkMacSystemFont, &quot;Segoe WPC&quot;, &quot;Segoe UI&quot;, Ubuntu, &quot;Droid Sans&quot;, sans-serif, &quot;PingFang SC&quot;; font-size: 9px; font-weight: normal; text-rendering: geometricprecision;\"><title>int64[]</title><tspan>pads</tspan><tspan> = 1, 1, 1, 1</tspan></text><text xml:space=\"preserve\" x=\"6\" y=\"84\" style=\"font-family: -apple-system, BlinkMacSystemFont, &quot;Segoe WPC&quot;, &quot;Segoe UI&quot;, Ubuntu, &quot;Droid Sans&quot;, sans-serif, &quot;PingFang SC&quot;; font-size: 9px; font-weight: normal; text-rendering: geometricprecision;\"><title>int64[]</title><tspan>strides</tspan><tspan> = 1, 1</tspan></text><line class=\"node\" x1=\"0\" x2=\"153.06982421875\" y1=\"0\" y2=\"0\" style=\"stroke: rgb(51, 51, 51); fill: none; stroke-width: 1px;\"/></g><path class=\"node border\" d=\"M5,0h143.06982421875a5,5 0 0 1 5,5v103a5,5 0 0 1 -5,5h-143.06982421875a5,5 0 0 1 -5,-5v-103a5,5 0 0 1 5,-5z\" style=\"stroke: rgb(51, 51, 51); fill: none; stroke-width: 1px;\"/></g><g id=\"node-name-/layer3/layer3.0/shortcut/shortcut.0/Conv\" class=\"node graph-node\" transform=\"translate(10474.12353515625,133)\" style=\"opacity: 1;\"><g class=\"node-item node-item-type node-item-type-layer\" transform=\"translate(0,0)\"><path d=\"M5,0h206.56689453125a5,5 0 0 1 5,5v18a0,0 0 0 1 0,0h-216.56689453125a0,0 0 0 1 0,0v-18a5,5 0 0 1 5,-5z\" style=\"stroke: rgb(0, 0, 0); fill: rgb(51, 85, 136); stroke-width: 0;\"/><text x=\"6\" y=\"16\" style=\"font-family: -apple-system, BlinkMacSystemFont, &quot;Segoe WPC&quot;, &quot;Segoe UI&quot;, Ubuntu, &quot;Droid Sans&quot;, sans-serif, &quot;PingFang SC&quot;; font-size: 11px; text-rendering: geometricprecision; fill: rgb(255, 255, 255);\">/layer3/layer3.0/shortcut/shortcut.0/Conv</text><title>Conv</title></g><g class=\"node-attribute\" transform=\"translate(0,23)\"><path d=\"M0,0h216.56689453125a0,0 0 0 1 0,0v85a5,5 0 0 1 -5,5h-206.56689453125a5,5 0 0 1 -5,-5v-85a0,0 0 0 1 0,0z\" style=\"stroke: rgb(0, 0, 0); fill: rgb(255, 255, 255); stroke-width: 0;\"/><text id=\"initializer-onnx::Conv_303\" xml:space=\"preserve\" x=\"6\" y=\"14\" style=\"font-family: -apple-system, BlinkMacSystemFont, &quot;Segoe WPC&quot;, &quot;Segoe UI&quot;, Ubuntu, &quot;Droid Sans&quot;, sans-serif, &quot;PingFang SC&quot;; font-size: 9px; font-weight: normal; text-rendering: geometricprecision;\"><title>float32[128,128,1,1]</title><tspan style=\"font-weight: bold;\">W</tspan><tspan>〈128×128×1×1〉</tspan></text><text id=\"initializer-onnx::Conv_304\" xml:space=\"preserve\" x=\"6\" y=\"28\" style=\"font-family: -apple-system, BlinkMacSystemFont, &quot;Segoe WPC&quot;, &quot;Segoe UI&quot;, Ubuntu, &quot;Droid Sans&quot;, sans-serif, &quot;PingFang SC&quot;; font-size: 9px; font-weight: normal; text-rendering: geometricprecision;\"><title>float32[128]</title><tspan style=\"font-weight: bold;\">B</tspan><tspan>〈128〉</tspan></text><text xml:space=\"preserve\" x=\"6\" y=\"42\" style=\"font-family: -apple-system, BlinkMacSystemFont, &quot;Segoe WPC&quot;, &quot;Segoe UI&quot;, Ubuntu, &quot;Droid Sans&quot;, sans-serif, &quot;PingFang SC&quot;; font-size: 9px; font-weight: normal; text-rendering: geometricprecision;\"><title>int64[]</title><tspan>dilations</tspan><tspan> = 1, 1</tspan></text><text xml:space=\"preserve\" x=\"6\" y=\"56\" style=\"font-family: -apple-system, BlinkMacSystemFont, &quot;Segoe WPC&quot;, &quot;Segoe UI&quot;, Ubuntu, &quot;Droid Sans&quot;, sans-serif, &quot;PingFang SC&quot;; font-size: 9px; font-weight: normal; text-rendering: geometricprecision;\"><title>int64[]</title><tspan>kernel_shape</tspan><tspan> = 1, 1</tspan></text><text xml:space=\"preserve\" x=\"6\" y=\"70\" style=\"font-family: -apple-system, BlinkMacSystemFont, &quot;Segoe WPC&quot;, &quot;Segoe UI&quot;, Ubuntu, &quot;Droid Sans&quot;, sans-serif, &quot;PingFang SC&quot;; font-size: 9px; font-weight: normal; text-rendering: geometricprecision;\"><title>int64[]</title><tspan>pads</tspan><tspan> = 0, 0, 0, 0</tspan></text><text xml:space=\"preserve\" x=\"6\" y=\"84\" style=\"font-family: -apple-system, BlinkMacSystemFont, &quot;Segoe WPC&quot;, &quot;Segoe UI&quot;, Ubuntu, &quot;Droid Sans&quot;, sans-serif, &quot;PingFang SC&quot;; font-size: 9px; font-weight: normal; text-rendering: geometricprecision;\"><title>int64[]</title><tspan>strides</tspan><tspan> = 2, 2</tspan></text><line class=\"node\" x1=\"0\" x2=\"216.56689453125\" y1=\"0\" y2=\"0\" style=\"stroke: rgb(51, 51, 51); fill: none; stroke-width: 1px;\"/></g><path class=\"node border\" d=\"M5,0h206.56689453125a5,5 0 0 1 5,5v103a5,5 0 0 1 -5,5h-206.56689453125a5,5 0 0 1 -5,-5v-103a5,5 0 0 1 5,-5z\" style=\"stroke: rgb(51, 51, 51); fill: none; stroke-width: 1px;\"/></g><g id=\"node-name-/layer3/layer3.0/Add\" class=\"node graph-node\" transform=\"translate(10938.4033203125,111.5)\" style=\"opacity: 1;\"><g class=\"node-item node-item-type\" transform=\"translate(0,0)\"><path d=\"M5,0h104.40625a5,5 0 0 1 5,5v13a5,5 0 0 1 -5,5h-104.40625a5,5 0 0 1 -5,-5v-13a5,5 0 0 1 5,-5z\" style=\"stroke: rgb(0, 0, 0); fill: rgb(0, 0, 0); stroke-width: 0;\"/><text x=\"6\" y=\"16\" style=\"font-family: -apple-system, BlinkMacSystemFont, &quot;Segoe WPC&quot;, &quot;Segoe UI&quot;, Ubuntu, &quot;Droid Sans&quot;, sans-serif, &quot;PingFang SC&quot;; font-size: 11px; text-rendering: geometricprecision; fill: rgb(255, 255, 255);\">/layer3/layer3.0/Add</text><title>Add</title></g><path class=\"node border\" d=\"M5,0h104.40625a5,5 0 0 1 5,5v13a5,5 0 0 1 -5,5h-104.40625a5,5 0 0 1 -5,-5v-13a5,5 0 0 1 5,-5z\" style=\"stroke: rgb(51, 51, 51); fill: none; stroke-width: 1px;\"/></g><g id=\"node-name-/layer3/layer3.0/Relu_1\" class=\"node graph-node\" transform=\"translate(11208.310546875,111.5)\" style=\"opacity: 1;\"><g class=\"node-item node-item-type node-item-type-activation\" transform=\"translate(0,0)\"><path d=\"M5,0h115.75a5,5 0 0 1 5,5v13a5,5 0 0 1 -5,5h-115.75a5,5 0 0 1 -5,-5v-13a5,5 0 0 1 5,-5z\" style=\"stroke: rgb(0, 0, 0); fill: rgb(112, 41, 33); stroke-width: 0;\"/><text x=\"6\" y=\"16\" style=\"font-family: -apple-system, BlinkMacSystemFont, &quot;Segoe WPC&quot;, &quot;Segoe UI&quot;, Ubuntu, &quot;Droid Sans&quot;, sans-serif, &quot;PingFang SC&quot;; font-size: 11px; text-rendering: geometricprecision; fill: rgb(255, 255, 255);\">/layer3/layer3.0/Relu_1</text><title>Relu</title></g><path class=\"node border\" d=\"M5,0h115.75a5,5 0 0 1 5,5v13a5,5 0 0 1 -5,5h-115.75a5,5 0 0 1 -5,-5v-13a5,5 0 0 1 5,-5z\" style=\"stroke: rgb(51, 51, 51); fill: none; stroke-width: 1px;\"/></g><g id=\"node-name-/layer3/layer3.1/conv1/Conv\" class=\"node graph-node\" transform=\"translate(11499.8740234375,104.75)\" style=\"opacity: 1;\"><g class=\"node-item node-item-type node-item-type-layer\" transform=\"translate(0,0)\"><path d=\"M5,0h143.06982421875a5,5 0 0 1 5,5v18a0,0 0 0 1 0,0h-153.06982421875a0,0 0 0 1 0,0v-18a5,5 0 0 1 5,-5z\" style=\"stroke: rgb(0, 0, 0); fill: rgb(51, 85, 136); stroke-width: 0;\"/><text x=\"6\" y=\"16\" style=\"font-family: -apple-system, BlinkMacSystemFont, &quot;Segoe WPC&quot;, &quot;Segoe UI&quot;, Ubuntu, &quot;Droid Sans&quot;, sans-serif, &quot;PingFang SC&quot;; font-size: 11px; text-rendering: geometricprecision; fill: rgb(255, 255, 255);\">/layer3/layer3.1/conv1/Conv</text><title>Conv</title></g><g class=\"node-attribute\" transform=\"translate(0,23)\"><path d=\"M0,0h153.06982421875a0,0 0 0 1 0,0v85a5,5 0 0 1 -5,5h-143.06982421875a5,5 0 0 1 -5,-5v-85a0,0 0 0 1 0,0z\" style=\"stroke: rgb(0, 0, 0); fill: rgb(255, 255, 255); stroke-width: 0;\"/><text id=\"initializer-onnx::Conv_306\" xml:space=\"preserve\" x=\"6\" y=\"14\" style=\"font-family: -apple-system, BlinkMacSystemFont, &quot;Segoe WPC&quot;, &quot;Segoe UI&quot;, Ubuntu, &quot;Droid Sans&quot;, sans-serif, &quot;PingFang SC&quot;; font-size: 9px; font-weight: normal; text-rendering: geometricprecision;\"><title>float32[128,128,3,3]</title><tspan style=\"font-weight: bold;\">W</tspan><tspan>〈128×128×3×3〉</tspan></text><text id=\"initializer-onnx::Conv_307\" xml:space=\"preserve\" x=\"6\" y=\"28\" style=\"font-family: -apple-system, BlinkMacSystemFont, &quot;Segoe WPC&quot;, &quot;Segoe UI&quot;, Ubuntu, &quot;Droid Sans&quot;, sans-serif, &quot;PingFang SC&quot;; font-size: 9px; font-weight: normal; text-rendering: geometricprecision;\"><title>float32[128]</title><tspan style=\"font-weight: bold;\">B</tspan><tspan>〈128〉</tspan></text><text xml:space=\"preserve\" x=\"6\" y=\"42\" style=\"font-family: -apple-system, BlinkMacSystemFont, &quot;Segoe WPC&quot;, &quot;Segoe UI&quot;, Ubuntu, &quot;Droid Sans&quot;, sans-serif, &quot;PingFang SC&quot;; font-size: 9px; font-weight: normal; text-rendering: geometricprecision;\"><title>int64[]</title><tspan>dilations</tspan><tspan> = 1, 1</tspan></text><text xml:space=\"preserve\" x=\"6\" y=\"56\" style=\"font-family: -apple-system, BlinkMacSystemFont, &quot;Segoe WPC&quot;, &quot;Segoe UI&quot;, Ubuntu, &quot;Droid Sans&quot;, sans-serif, &quot;PingFang SC&quot;; font-size: 9px; font-weight: normal; text-rendering: geometricprecision;\"><title>int64[]</title><tspan>kernel_shape</tspan><tspan> = 3, 3</tspan></text><text xml:space=\"preserve\" x=\"6\" y=\"70\" style=\"font-family: -apple-system, BlinkMacSystemFont, &quot;Segoe WPC&quot;, &quot;Segoe UI&quot;, Ubuntu, &quot;Droid Sans&quot;, sans-serif, &quot;PingFang SC&quot;; font-size: 9px; font-weight: normal; text-rendering: geometricprecision;\"><title>int64[]</title><tspan>pads</tspan><tspan> = 1, 1, 1, 1</tspan></text><text xml:space=\"preserve\" x=\"6\" y=\"84\" style=\"font-family: -apple-system, BlinkMacSystemFont, &quot;Segoe WPC&quot;, &quot;Segoe UI&quot;, Ubuntu, &quot;Droid Sans&quot;, sans-serif, &quot;PingFang SC&quot;; font-size: 9px; font-weight: normal; text-rendering: geometricprecision;\"><title>int64[]</title><tspan>strides</tspan><tspan> = 1, 1</tspan></text><line class=\"node\" x1=\"0\" x2=\"153.06982421875\" y1=\"0\" y2=\"0\" style=\"stroke: rgb(51, 51, 51); fill: none; stroke-width: 1px;\"/></g><path class=\"node border\" d=\"M5,0h143.06982421875a5,5 0 0 1 5,5v103a5,5 0 0 1 -5,5h-143.06982421875a5,5 0 0 1 -5,-5v-103a5,5 0 0 1 5,-5z\" style=\"stroke: rgb(51, 51, 51); fill: none; stroke-width: 1px;\"/></g><g id=\"node-name-/layer3/layer3.1/Relu\" class=\"node graph-node\" transform=\"translate(11858.2060546875,149.75)\" style=\"opacity: 1;\"><g class=\"node-item node-item-type node-item-type-activation\" transform=\"translate(0,0)\"><path d=\"M5,0h105.265625a5,5 0 0 1 5,5v13a5,5 0 0 1 -5,5h-105.265625a5,5 0 0 1 -5,-5v-13a5,5 0 0 1 5,-5z\" style=\"stroke: rgb(0, 0, 0); fill: rgb(112, 41, 33); stroke-width: 0;\"/><text x=\"6\" y=\"16\" style=\"font-family: -apple-system, BlinkMacSystemFont, &quot;Segoe WPC&quot;, &quot;Segoe UI&quot;, Ubuntu, &quot;Droid Sans&quot;, sans-serif, &quot;PingFang SC&quot;; font-size: 11px; text-rendering: geometricprecision; fill: rgb(255, 255, 255);\">/layer3/layer3.1/Relu</text><title>Relu</title></g><path class=\"node border\" d=\"M5,0h105.265625a5,5 0 0 1 5,5v13a5,5 0 0 1 -5,5h-105.265625a5,5 0 0 1 -5,-5v-13a5,5 0 0 1 5,-5z\" style=\"stroke: rgb(51, 51, 51); fill: none; stroke-width: 1px;\"/></g><g id=\"node-name-/layer3/layer3.1/conv2/Conv\" class=\"node graph-node\" transform=\"translate(12145.01806640625,104.75)\" style=\"opacity: 1;\"><g class=\"node-item node-item-type node-item-type-layer\" transform=\"translate(0,0)\"><path d=\"M5,0h143.06982421875a5,5 0 0 1 5,5v18a0,0 0 0 1 0,0h-153.06982421875a0,0 0 0 1 0,0v-18a5,5 0 0 1 5,-5z\" style=\"stroke: rgb(0, 0, 0); fill: rgb(51, 85, 136); stroke-width: 0;\"/><text x=\"6\" y=\"16\" style=\"font-family: -apple-system, BlinkMacSystemFont, &quot;Segoe WPC&quot;, &quot;Segoe UI&quot;, Ubuntu, &quot;Droid Sans&quot;, sans-serif, &quot;PingFang SC&quot;; font-size: 11px; text-rendering: geometricprecision; fill: rgb(255, 255, 255);\">/layer3/layer3.1/conv2/Conv</text><title>Conv</title></g><g class=\"node-attribute\" transform=\"translate(0,23)\"><path d=\"M0,0h153.06982421875a0,0 0 0 1 0,0v85a5,5 0 0 1 -5,5h-143.06982421875a5,5 0 0 1 -5,-5v-85a0,0 0 0 1 0,0z\" style=\"stroke: rgb(0, 0, 0); fill: rgb(255, 255, 255); stroke-width: 0;\"/><text id=\"initializer-onnx::Conv_309\" xml:space=\"preserve\" x=\"6\" y=\"14\" style=\"font-family: -apple-system, BlinkMacSystemFont, &quot;Segoe WPC&quot;, &quot;Segoe UI&quot;, Ubuntu, &quot;Droid Sans&quot;, sans-serif, &quot;PingFang SC&quot;; font-size: 9px; font-weight: normal; text-rendering: geometricprecision;\"><title>float32[128,128,3,3]</title><tspan style=\"font-weight: bold;\">W</tspan><tspan>〈128×128×3×3〉</tspan></text><text id=\"initializer-onnx::Conv_310\" xml:space=\"preserve\" x=\"6\" y=\"28\" style=\"font-family: -apple-system, BlinkMacSystemFont, &quot;Segoe WPC&quot;, &quot;Segoe UI&quot;, Ubuntu, &quot;Droid Sans&quot;, sans-serif, &quot;PingFang SC&quot;; font-size: 9px; font-weight: normal; text-rendering: geometricprecision;\"><title>float32[128]</title><tspan style=\"font-weight: bold;\">B</tspan><tspan>〈128〉</tspan></text><text xml:space=\"preserve\" x=\"6\" y=\"42\" style=\"font-family: -apple-system, BlinkMacSystemFont, &quot;Segoe WPC&quot;, &quot;Segoe UI&quot;, Ubuntu, &quot;Droid Sans&quot;, sans-serif, &quot;PingFang SC&quot;; font-size: 9px; font-weight: normal; text-rendering: geometricprecision;\"><title>int64[]</title><tspan>dilations</tspan><tspan> = 1, 1</tspan></text><text xml:space=\"preserve\" x=\"6\" y=\"56\" style=\"font-family: -apple-system, BlinkMacSystemFont, &quot;Segoe WPC&quot;, &quot;Segoe UI&quot;, Ubuntu, &quot;Droid Sans&quot;, sans-serif, &quot;PingFang SC&quot;; font-size: 9px; font-weight: normal; text-rendering: geometricprecision;\"><title>int64[]</title><tspan>kernel_shape</tspan><tspan> = 3, 3</tspan></text><text xml:space=\"preserve\" x=\"6\" y=\"70\" style=\"font-family: -apple-system, BlinkMacSystemFont, &quot;Segoe WPC&quot;, &quot;Segoe UI&quot;, Ubuntu, &quot;Droid Sans&quot;, sans-serif, &quot;PingFang SC&quot;; font-size: 9px; font-weight: normal; text-rendering: geometricprecision;\"><title>int64[]</title><tspan>pads</tspan><tspan> = 1, 1, 1, 1</tspan></text><text xml:space=\"preserve\" x=\"6\" y=\"84\" style=\"font-family: -apple-system, BlinkMacSystemFont, &quot;Segoe WPC&quot;, &quot;Segoe UI&quot;, Ubuntu, &quot;Droid Sans&quot;, sans-serif, &quot;PingFang SC&quot;; font-size: 9px; font-weight: normal; text-rendering: geometricprecision;\"><title>int64[]</title><tspan>strides</tspan><tspan> = 1, 1</tspan></text><line class=\"node\" x1=\"0\" x2=\"153.06982421875\" y1=\"0\" y2=\"0\" style=\"stroke: rgb(51, 51, 51); fill: none; stroke-width: 1px;\"/></g><path class=\"node border\" d=\"M5,0h143.06982421875a5,5 0 0 1 5,5v103a5,5 0 0 1 -5,5h-143.06982421875a5,5 0 0 1 -5,-5v-103a5,5 0 0 1 5,-5z\" style=\"stroke: rgb(51, 51, 51); fill: none; stroke-width: 1px;\"/></g><g id=\"node-name-/layer3/layer3.1/Add\" class=\"node graph-node\" transform=\"translate(12488.076171875,111.5)\" style=\"opacity: 1;\"><g class=\"node-item node-item-type\" transform=\"translate(0,0)\"><path d=\"M5,0h104.40625a5,5 0 0 1 5,5v13a5,5 0 0 1 -5,5h-104.40625a5,5 0 0 1 -5,-5v-13a5,5 0 0 1 5,-5z\" style=\"stroke: rgb(0, 0, 0); fill: rgb(0, 0, 0); stroke-width: 0;\"/><text x=\"6\" y=\"16\" style=\"font-family: -apple-system, BlinkMacSystemFont, &quot;Segoe WPC&quot;, &quot;Segoe UI&quot;, Ubuntu, &quot;Droid Sans&quot;, sans-serif, &quot;PingFang SC&quot;; font-size: 11px; text-rendering: geometricprecision; fill: rgb(255, 255, 255);\">/layer3/layer3.1/Add</text><title>Add</title></g><path class=\"node border\" d=\"M5,0h104.40625a5,5 0 0 1 5,5v13a5,5 0 0 1 -5,5h-104.40625a5,5 0 0 1 -5,-5v-13a5,5 0 0 1 5,-5z\" style=\"stroke: rgb(51, 51, 51); fill: none; stroke-width: 1px;\"/></g><g id=\"node-name-/layer3/layer3.1/Relu_1\" class=\"node graph-node\" transform=\"translate(12757.9833984375,111.5)\" style=\"opacity: 1;\"><g class=\"node-item node-item-type node-item-type-activation\" transform=\"translate(0,0)\"><path d=\"M5,0h115.75a5,5 0 0 1 5,5v13a5,5 0 0 1 -5,5h-115.75a5,5 0 0 1 -5,-5v-13a5,5 0 0 1 5,-5z\" style=\"stroke: rgb(0, 0, 0); fill: rgb(112, 41, 33); stroke-width: 0;\"/><text x=\"6\" y=\"16\" style=\"font-family: -apple-system, BlinkMacSystemFont, &quot;Segoe WPC&quot;, &quot;Segoe UI&quot;, Ubuntu, &quot;Droid Sans&quot;, sans-serif, &quot;PingFang SC&quot;; font-size: 11px; text-rendering: geometricprecision; fill: rgb(255, 255, 255);\">/layer3/layer3.1/Relu_1</text><title>Relu</title></g><path class=\"node border\" d=\"M5,0h115.75a5,5 0 0 1 5,5v13a5,5 0 0 1 -5,5h-115.75a5,5 0 0 1 -5,-5v-13a5,5 0 0 1 5,-5z\" style=\"stroke: rgb(51, 51, 51); fill: none; stroke-width: 1px;\"/></g><g id=\"node-name-/layer4/layer4.0/conv1/Conv\" class=\"node graph-node\" transform=\"translate(13049.546875,0)\" style=\"opacity: 1;\"><g class=\"node-item node-item-type node-item-type-layer\" transform=\"translate(0,0)\"><path d=\"M5,0h143.06982421875a5,5 0 0 1 5,5v18a0,0 0 0 1 0,0h-153.06982421875a0,0 0 0 1 0,0v-18a5,5 0 0 1 5,-5z\" style=\"stroke: rgb(0, 0, 0); fill: rgb(51, 85, 136); stroke-width: 0;\"/><text x=\"6\" y=\"16\" style=\"font-family: -apple-system, BlinkMacSystemFont, &quot;Segoe WPC&quot;, &quot;Segoe UI&quot;, Ubuntu, &quot;Droid Sans&quot;, sans-serif, &quot;PingFang SC&quot;; font-size: 11px; text-rendering: geometricprecision; fill: rgb(255, 255, 255);\">/layer4/layer4.0/conv1/Conv</text><title>Conv</title></g><g class=\"node-attribute\" transform=\"translate(0,23)\"><path d=\"M0,0h153.06982421875a0,0 0 0 1 0,0v85a5,5 0 0 1 -5,5h-143.06982421875a5,5 0 0 1 -5,-5v-85a0,0 0 0 1 0,0z\" style=\"stroke: rgb(0, 0, 0); fill: rgb(255, 255, 255); stroke-width: 0;\"/><text id=\"initializer-onnx::Conv_312\" xml:space=\"preserve\" x=\"6\" y=\"14\" style=\"font-family: -apple-system, BlinkMacSystemFont, &quot;Segoe WPC&quot;, &quot;Segoe UI&quot;, Ubuntu, &quot;Droid Sans&quot;, sans-serif, &quot;PingFang SC&quot;; font-size: 9px; font-weight: normal; text-rendering: geometricprecision;\"><title>float32[256,128,3,3]</title><tspan style=\"font-weight: bold;\">W</tspan><tspan>〈256×128×3×3〉</tspan></text><text id=\"initializer-onnx::Conv_313\" xml:space=\"preserve\" x=\"6\" y=\"28\" style=\"font-family: -apple-system, BlinkMacSystemFont, &quot;Segoe WPC&quot;, &quot;Segoe UI&quot;, Ubuntu, &quot;Droid Sans&quot;, sans-serif, &quot;PingFang SC&quot;; font-size: 9px; font-weight: normal; text-rendering: geometricprecision;\"><title>float32[256]</title><tspan style=\"font-weight: bold;\">B</tspan><tspan>〈256〉</tspan></text><text xml:space=\"preserve\" x=\"6\" y=\"42\" style=\"font-family: -apple-system, BlinkMacSystemFont, &quot;Segoe WPC&quot;, &quot;Segoe UI&quot;, Ubuntu, &quot;Droid Sans&quot;, sans-serif, &quot;PingFang SC&quot;; font-size: 9px; font-weight: normal; text-rendering: geometricprecision;\"><title>int64[]</title><tspan>dilations</tspan><tspan> = 1, 1</tspan></text><text xml:space=\"preserve\" x=\"6\" y=\"56\" style=\"font-family: -apple-system, BlinkMacSystemFont, &quot;Segoe WPC&quot;, &quot;Segoe UI&quot;, Ubuntu, &quot;Droid Sans&quot;, sans-serif, &quot;PingFang SC&quot;; font-size: 9px; font-weight: normal; text-rendering: geometricprecision;\"><title>int64[]</title><tspan>kernel_shape</tspan><tspan> = 3, 3</tspan></text><text xml:space=\"preserve\" x=\"6\" y=\"70\" style=\"font-family: -apple-system, BlinkMacSystemFont, &quot;Segoe WPC&quot;, &quot;Segoe UI&quot;, Ubuntu, &quot;Droid Sans&quot;, sans-serif, &quot;PingFang SC&quot;; font-size: 9px; font-weight: normal; text-rendering: geometricprecision;\"><title>int64[]</title><tspan>pads</tspan><tspan> = 1, 1, 1, 1</tspan></text><text xml:space=\"preserve\" x=\"6\" y=\"84\" style=\"font-family: -apple-system, BlinkMacSystemFont, &quot;Segoe WPC&quot;, &quot;Segoe UI&quot;, Ubuntu, &quot;Droid Sans&quot;, sans-serif, &quot;PingFang SC&quot;; font-size: 9px; font-weight: normal; text-rendering: geometricprecision;\"><title>int64[]</title><tspan>strides</tspan><tspan> = 2, 2</tspan></text><line class=\"node\" x1=\"0\" x2=\"153.06982421875\" y1=\"0\" y2=\"0\" style=\"stroke: rgb(51, 51, 51); fill: none; stroke-width: 1px;\"/></g><path class=\"node border\" d=\"M5,0h143.06982421875a5,5 0 0 1 5,5v103a5,5 0 0 1 -5,5h-143.06982421875a5,5 0 0 1 -5,-5v-103a5,5 0 0 1 5,-5z\" style=\"stroke: rgb(51, 51, 51); fill: none; stroke-width: 1px;\"/></g><g id=\"node-name-/layer4/layer4.0/Relu\" class=\"node graph-node\" transform=\"translate(13392.60498046875,45)\" style=\"opacity: 1;\"><g class=\"node-item node-item-type node-item-type-activation\" transform=\"translate(0,0)\"><path d=\"M5,0h105.265625a5,5 0 0 1 5,5v13a5,5 0 0 1 -5,5h-105.265625a5,5 0 0 1 -5,-5v-13a5,5 0 0 1 5,-5z\" style=\"stroke: rgb(0, 0, 0); fill: rgb(112, 41, 33); stroke-width: 0;\"/><text x=\"6\" y=\"16\" style=\"font-family: -apple-system, BlinkMacSystemFont, &quot;Segoe WPC&quot;, &quot;Segoe UI&quot;, Ubuntu, &quot;Droid Sans&quot;, sans-serif, &quot;PingFang SC&quot;; font-size: 11px; text-rendering: geometricprecision; fill: rgb(255, 255, 255);\">/layer4/layer4.0/Relu</text><title>Relu</title></g><path class=\"node border\" d=\"M5,0h105.265625a5,5 0 0 1 5,5v13a5,5 0 0 1 -5,5h-105.265625a5,5 0 0 1 -5,-5v-13a5,5 0 0 1 5,-5z\" style=\"stroke: rgb(51, 51, 51); fill: none; stroke-width: 1px;\"/></g><g id=\"node-name-/layer4/layer4.0/conv2/Conv\" class=\"node graph-node\" transform=\"translate(13695.8916015625,0)\" style=\"opacity: 1;\"><g class=\"node-item node-item-type node-item-type-layer\" transform=\"translate(0,0)\"><path d=\"M5,0h143.06982421875a5,5 0 0 1 5,5v18a0,0 0 0 1 0,0h-153.06982421875a0,0 0 0 1 0,0v-18a5,5 0 0 1 5,-5z\" style=\"stroke: rgb(0, 0, 0); fill: rgb(51, 85, 136); stroke-width: 0;\"/><text x=\"6\" y=\"16\" style=\"font-family: -apple-system, BlinkMacSystemFont, &quot;Segoe WPC&quot;, &quot;Segoe UI&quot;, Ubuntu, &quot;Droid Sans&quot;, sans-serif, &quot;PingFang SC&quot;; font-size: 11px; text-rendering: geometricprecision; fill: rgb(255, 255, 255);\">/layer4/layer4.0/conv2/Conv</text><title>Conv</title></g><g class=\"node-attribute\" transform=\"translate(0,23)\"><path d=\"M0,0h153.06982421875a0,0 0 0 1 0,0v85a5,5 0 0 1 -5,5h-143.06982421875a5,5 0 0 1 -5,-5v-85a0,0 0 0 1 0,0z\" style=\"stroke: rgb(0, 0, 0); fill: rgb(255, 255, 255); stroke-width: 0;\"/><text id=\"initializer-onnx::Conv_315\" xml:space=\"preserve\" x=\"6\" y=\"14\" style=\"font-family: -apple-system, BlinkMacSystemFont, &quot;Segoe WPC&quot;, &quot;Segoe UI&quot;, Ubuntu, &quot;Droid Sans&quot;, sans-serif, &quot;PingFang SC&quot;; font-size: 9px; font-weight: normal; text-rendering: geometricprecision;\"><title>float32[256,256,3,3]</title><tspan style=\"font-weight: bold;\">W</tspan><tspan>〈256×256×3×3〉</tspan></text><text id=\"initializer-onnx::Conv_316\" xml:space=\"preserve\" x=\"6\" y=\"28\" style=\"font-family: -apple-system, BlinkMacSystemFont, &quot;Segoe WPC&quot;, &quot;Segoe UI&quot;, Ubuntu, &quot;Droid Sans&quot;, sans-serif, &quot;PingFang SC&quot;; font-size: 9px; font-weight: normal; text-rendering: geometricprecision;\"><title>float32[256]</title><tspan style=\"font-weight: bold;\">B</tspan><tspan>〈256〉</tspan></text><text xml:space=\"preserve\" x=\"6\" y=\"42\" style=\"font-family: -apple-system, BlinkMacSystemFont, &quot;Segoe WPC&quot;, &quot;Segoe UI&quot;, Ubuntu, &quot;Droid Sans&quot;, sans-serif, &quot;PingFang SC&quot;; font-size: 9px; font-weight: normal; text-rendering: geometricprecision;\"><title>int64[]</title><tspan>dilations</tspan><tspan> = 1, 1</tspan></text><text xml:space=\"preserve\" x=\"6\" y=\"56\" style=\"font-family: -apple-system, BlinkMacSystemFont, &quot;Segoe WPC&quot;, &quot;Segoe UI&quot;, Ubuntu, &quot;Droid Sans&quot;, sans-serif, &quot;PingFang SC&quot;; font-size: 9px; font-weight: normal; text-rendering: geometricprecision;\"><title>int64[]</title><tspan>kernel_shape</tspan><tspan> = 3, 3</tspan></text><text xml:space=\"preserve\" x=\"6\" y=\"70\" style=\"font-family: -apple-system, BlinkMacSystemFont, &quot;Segoe WPC&quot;, &quot;Segoe UI&quot;, Ubuntu, &quot;Droid Sans&quot;, sans-serif, &quot;PingFang SC&quot;; font-size: 9px; font-weight: normal; text-rendering: geometricprecision;\"><title>int64[]</title><tspan>pads</tspan><tspan> = 1, 1, 1, 1</tspan></text><text xml:space=\"preserve\" x=\"6\" y=\"84\" style=\"font-family: -apple-system, BlinkMacSystemFont, &quot;Segoe WPC&quot;, &quot;Segoe UI&quot;, Ubuntu, &quot;Droid Sans&quot;, sans-serif, &quot;PingFang SC&quot;; font-size: 9px; font-weight: normal; text-rendering: geometricprecision;\"><title>int64[]</title><tspan>strides</tspan><tspan> = 1, 1</tspan></text><line class=\"node\" x1=\"0\" x2=\"153.06982421875\" y1=\"0\" y2=\"0\" style=\"stroke: rgb(51, 51, 51); fill: none; stroke-width: 1px;\"/></g><path class=\"node border\" d=\"M5,0h143.06982421875a5,5 0 0 1 5,5v103a5,5 0 0 1 -5,5h-143.06982421875a5,5 0 0 1 -5,-5v-103a5,5 0 0 1 5,-5z\" style=\"stroke: rgb(51, 51, 51); fill: none; stroke-width: 1px;\"/></g><g id=\"node-name-/layer4/layer4.0/shortcut/shortcut.0/Conv\" class=\"node graph-node\" transform=\"translate(13664.14306640625,133)\" style=\"opacity: 1;\"><g class=\"node-item node-item-type node-item-type-layer\" transform=\"translate(0,0)\"><path d=\"M5,0h206.56689453125a5,5 0 0 1 5,5v18a0,0 0 0 1 0,0h-216.56689453125a0,0 0 0 1 0,0v-18a5,5 0 0 1 5,-5z\" style=\"stroke: rgb(0, 0, 0); fill: rgb(51, 85, 136); stroke-width: 0;\"/><text x=\"6\" y=\"16\" style=\"font-family: -apple-system, BlinkMacSystemFont, &quot;Segoe WPC&quot;, &quot;Segoe UI&quot;, Ubuntu, &quot;Droid Sans&quot;, sans-serif, &quot;PingFang SC&quot;; font-size: 11px; text-rendering: geometricprecision; fill: rgb(255, 255, 255);\">/layer4/layer4.0/shortcut/shortcut.0/Conv</text><title>Conv</title></g><g class=\"node-attribute\" transform=\"translate(0,23)\"><path d=\"M0,0h216.56689453125a0,0 0 0 1 0,0v85a5,5 0 0 1 -5,5h-206.56689453125a5,5 0 0 1 -5,-5v-85a0,0 0 0 1 0,0z\" style=\"stroke: rgb(0, 0, 0); fill: rgb(255, 255, 255); stroke-width: 0;\"/><text id=\"initializer-onnx::Conv_318\" xml:space=\"preserve\" x=\"6\" y=\"14\" style=\"font-family: -apple-system, BlinkMacSystemFont, &quot;Segoe WPC&quot;, &quot;Segoe UI&quot;, Ubuntu, &quot;Droid Sans&quot;, sans-serif, &quot;PingFang SC&quot;; font-size: 9px; font-weight: normal; text-rendering: geometricprecision;\"><title>float32[256,128,1,1]</title><tspan style=\"font-weight: bold;\">W</tspan><tspan>〈256×128×1×1〉</tspan></text><text id=\"initializer-onnx::Conv_319\" xml:space=\"preserve\" x=\"6\" y=\"28\" style=\"font-family: -apple-system, BlinkMacSystemFont, &quot;Segoe WPC&quot;, &quot;Segoe UI&quot;, Ubuntu, &quot;Droid Sans&quot;, sans-serif, &quot;PingFang SC&quot;; font-size: 9px; font-weight: normal; text-rendering: geometricprecision;\"><title>float32[256]</title><tspan style=\"font-weight: bold;\">B</tspan><tspan>〈256〉</tspan></text><text xml:space=\"preserve\" x=\"6\" y=\"42\" style=\"font-family: -apple-system, BlinkMacSystemFont, &quot;Segoe WPC&quot;, &quot;Segoe UI&quot;, Ubuntu, &quot;Droid Sans&quot;, sans-serif, &quot;PingFang SC&quot;; font-size: 9px; font-weight: normal; text-rendering: geometricprecision;\"><title>int64[]</title><tspan>dilations</tspan><tspan> = 1, 1</tspan></text><text xml:space=\"preserve\" x=\"6\" y=\"56\" style=\"font-family: -apple-system, BlinkMacSystemFont, &quot;Segoe WPC&quot;, &quot;Segoe UI&quot;, Ubuntu, &quot;Droid Sans&quot;, sans-serif, &quot;PingFang SC&quot;; font-size: 9px; font-weight: normal; text-rendering: geometricprecision;\"><title>int64[]</title><tspan>kernel_shape</tspan><tspan> = 1, 1</tspan></text><text xml:space=\"preserve\" x=\"6\" y=\"70\" style=\"font-family: -apple-system, BlinkMacSystemFont, &quot;Segoe WPC&quot;, &quot;Segoe UI&quot;, Ubuntu, &quot;Droid Sans&quot;, sans-serif, &quot;PingFang SC&quot;; font-size: 9px; font-weight: normal; text-rendering: geometricprecision;\"><title>int64[]</title><tspan>pads</tspan><tspan> = 0, 0, 0, 0</tspan></text><text xml:space=\"preserve\" x=\"6\" y=\"84\" style=\"font-family: -apple-system, BlinkMacSystemFont, &quot;Segoe WPC&quot;, &quot;Segoe UI&quot;, Ubuntu, &quot;Droid Sans&quot;, sans-serif, &quot;PingFang SC&quot;; font-size: 9px; font-weight: normal; text-rendering: geometricprecision;\"><title>int64[]</title><tspan>strides</tspan><tspan> = 2, 2</tspan></text><line class=\"node\" x1=\"0\" x2=\"216.56689453125\" y1=\"0\" y2=\"0\" style=\"stroke: rgb(51, 51, 51); fill: none; stroke-width: 1px;\"/></g><path class=\"node border\" d=\"M5,0h206.56689453125a5,5 0 0 1 5,5v103a5,5 0 0 1 -5,5h-206.56689453125a5,5 0 0 1 -5,-5v-103a5,5 0 0 1 5,-5z\" style=\"stroke: rgb(51, 51, 51); fill: none; stroke-width: 1px;\"/></g><g id=\"node-name-/layer4/layer4.0/Add\" class=\"node graph-node\" transform=\"translate(14128.4228515625,111.5)\" style=\"opacity: 1;\"><g class=\"node-item node-item-type\" transform=\"translate(0,0)\"><path d=\"M5,0h104.40625a5,5 0 0 1 5,5v13a5,5 0 0 1 -5,5h-104.40625a5,5 0 0 1 -5,-5v-13a5,5 0 0 1 5,-5z\" style=\"stroke: rgb(0, 0, 0); fill: rgb(0, 0, 0); stroke-width: 0;\"/><text x=\"6\" y=\"16\" style=\"font-family: -apple-system, BlinkMacSystemFont, &quot;Segoe WPC&quot;, &quot;Segoe UI&quot;, Ubuntu, &quot;Droid Sans&quot;, sans-serif, &quot;PingFang SC&quot;; font-size: 11px; text-rendering: geometricprecision; fill: rgb(255, 255, 255);\">/layer4/layer4.0/Add</text><title>Add</title></g><path class=\"node border\" d=\"M5,0h104.40625a5,5 0 0 1 5,5v13a5,5 0 0 1 -5,5h-104.40625a5,5 0 0 1 -5,-5v-13a5,5 0 0 1 5,-5z\" style=\"stroke: rgb(51, 51, 51); fill: none; stroke-width: 1px;\"/></g><g id=\"node-name-/layer4/layer4.0/Relu_1\" class=\"node graph-node\" transform=\"translate(14398.330078125,111.5)\" style=\"opacity: 1;\"><g class=\"node-item node-item-type node-item-type-activation\" transform=\"translate(0,0)\"><path d=\"M5,0h115.75a5,5 0 0 1 5,5v13a5,5 0 0 1 -5,5h-115.75a5,5 0 0 1 -5,-5v-13a5,5 0 0 1 5,-5z\" style=\"stroke: rgb(0, 0, 0); fill: rgb(112, 41, 33); stroke-width: 0;\"/><text x=\"6\" y=\"16\" style=\"font-family: -apple-system, BlinkMacSystemFont, &quot;Segoe WPC&quot;, &quot;Segoe UI&quot;, Ubuntu, &quot;Droid Sans&quot;, sans-serif, &quot;PingFang SC&quot;; font-size: 11px; text-rendering: geometricprecision; fill: rgb(255, 255, 255);\">/layer4/layer4.0/Relu_1</text><title>Relu</title></g><path class=\"node border\" d=\"M5,0h115.75a5,5 0 0 1 5,5v13a5,5 0 0 1 -5,5h-115.75a5,5 0 0 1 -5,-5v-13a5,5 0 0 1 5,-5z\" style=\"stroke: rgb(51, 51, 51); fill: none; stroke-width: 1px;\"/></g><g id=\"node-name-/layer4/layer4.1/conv1/Conv\" class=\"node graph-node\" transform=\"translate(14689.8935546875,104.75)\" style=\"opacity: 1;\"><g class=\"node-item node-item-type node-item-type-layer\" transform=\"translate(0,0)\"><path d=\"M5,0h143.06982421875a5,5 0 0 1 5,5v18a0,0 0 0 1 0,0h-153.06982421875a0,0 0 0 1 0,0v-18a5,5 0 0 1 5,-5z\" style=\"stroke: rgb(0, 0, 0); fill: rgb(51, 85, 136); stroke-width: 0;\"/><text x=\"6\" y=\"16\" style=\"font-family: -apple-system, BlinkMacSystemFont, &quot;Segoe WPC&quot;, &quot;Segoe UI&quot;, Ubuntu, &quot;Droid Sans&quot;, sans-serif, &quot;PingFang SC&quot;; font-size: 11px; text-rendering: geometricprecision; fill: rgb(255, 255, 255);\">/layer4/layer4.1/conv1/Conv</text><title>Conv</title></g><g class=\"node-attribute\" transform=\"translate(0,23)\"><path d=\"M0,0h153.06982421875a0,0 0 0 1 0,0v85a5,5 0 0 1 -5,5h-143.06982421875a5,5 0 0 1 -5,-5v-85a0,0 0 0 1 0,0z\" style=\"stroke: rgb(0, 0, 0); fill: rgb(255, 255, 255); stroke-width: 0;\"/><text id=\"initializer-onnx::Conv_321\" xml:space=\"preserve\" x=\"6\" y=\"14\" style=\"font-family: -apple-system, BlinkMacSystemFont, &quot;Segoe WPC&quot;, &quot;Segoe UI&quot;, Ubuntu, &quot;Droid Sans&quot;, sans-serif, &quot;PingFang SC&quot;; font-size: 9px; font-weight: normal; text-rendering: geometricprecision;\"><title>float32[256,256,3,3]</title><tspan style=\"font-weight: bold;\">W</tspan><tspan>〈256×256×3×3〉</tspan></text><text id=\"initializer-onnx::Conv_322\" xml:space=\"preserve\" x=\"6\" y=\"28\" style=\"font-family: -apple-system, BlinkMacSystemFont, &quot;Segoe WPC&quot;, &quot;Segoe UI&quot;, Ubuntu, &quot;Droid Sans&quot;, sans-serif, &quot;PingFang SC&quot;; font-size: 9px; font-weight: normal; text-rendering: geometricprecision;\"><title>float32[256]</title><tspan style=\"font-weight: bold;\">B</tspan><tspan>〈256〉</tspan></text><text xml:space=\"preserve\" x=\"6\" y=\"42\" style=\"font-family: -apple-system, BlinkMacSystemFont, &quot;Segoe WPC&quot;, &quot;Segoe UI&quot;, Ubuntu, &quot;Droid Sans&quot;, sans-serif, &quot;PingFang SC&quot;; font-size: 9px; font-weight: normal; text-rendering: geometricprecision;\"><title>int64[]</title><tspan>dilations</tspan><tspan> = 1, 1</tspan></text><text xml:space=\"preserve\" x=\"6\" y=\"56\" style=\"font-family: -apple-system, BlinkMacSystemFont, &quot;Segoe WPC&quot;, &quot;Segoe UI&quot;, Ubuntu, &quot;Droid Sans&quot;, sans-serif, &quot;PingFang SC&quot;; font-size: 9px; font-weight: normal; text-rendering: geometricprecision;\"><title>int64[]</title><tspan>kernel_shape</tspan><tspan> = 3, 3</tspan></text><text xml:space=\"preserve\" x=\"6\" y=\"70\" style=\"font-family: -apple-system, BlinkMacSystemFont, &quot;Segoe WPC&quot;, &quot;Segoe UI&quot;, Ubuntu, &quot;Droid Sans&quot;, sans-serif, &quot;PingFang SC&quot;; font-size: 9px; font-weight: normal; text-rendering: geometricprecision;\"><title>int64[]</title><tspan>pads</tspan><tspan> = 1, 1, 1, 1</tspan></text><text xml:space=\"preserve\" x=\"6\" y=\"84\" style=\"font-family: -apple-system, BlinkMacSystemFont, &quot;Segoe WPC&quot;, &quot;Segoe UI&quot;, Ubuntu, &quot;Droid Sans&quot;, sans-serif, &quot;PingFang SC&quot;; font-size: 9px; font-weight: normal; text-rendering: geometricprecision;\"><title>int64[]</title><tspan>strides</tspan><tspan> = 1, 1</tspan></text><line class=\"node\" x1=\"0\" x2=\"153.06982421875\" y1=\"0\" y2=\"0\" style=\"stroke: rgb(51, 51, 51); fill: none; stroke-width: 1px;\"/></g><path class=\"node border\" d=\"M5,0h143.06982421875a5,5 0 0 1 5,5v103a5,5 0 0 1 -5,5h-143.06982421875a5,5 0 0 1 -5,-5v-103a5,5 0 0 1 5,-5z\" style=\"stroke: rgb(51, 51, 51); fill: none; stroke-width: 1px;\"/></g><g id=\"node-name-/layer4/layer4.1/Relu\" class=\"node graph-node\" transform=\"translate(15048.2255859375,149.75)\" style=\"opacity: 1;\"><g class=\"node-item node-item-type node-item-type-activation\" transform=\"translate(0,0)\"><path d=\"M5,0h105.265625a5,5 0 0 1 5,5v13a5,5 0 0 1 -5,5h-105.265625a5,5 0 0 1 -5,-5v-13a5,5 0 0 1 5,-5z\" style=\"stroke: rgb(0, 0, 0); fill: rgb(112, 41, 33); stroke-width: 0;\"/><text x=\"6\" y=\"16\" style=\"font-family: -apple-system, BlinkMacSystemFont, &quot;Segoe WPC&quot;, &quot;Segoe UI&quot;, Ubuntu, &quot;Droid Sans&quot;, sans-serif, &quot;PingFang SC&quot;; font-size: 11px; text-rendering: geometricprecision; fill: rgb(255, 255, 255);\">/layer4/layer4.1/Relu</text><title>Relu</title></g><path class=\"node border\" d=\"M5,0h105.265625a5,5 0 0 1 5,5v13a5,5 0 0 1 -5,5h-105.265625a5,5 0 0 1 -5,-5v-13a5,5 0 0 1 5,-5z\" style=\"stroke: rgb(51, 51, 51); fill: none; stroke-width: 1px;\"/></g><g id=\"node-name-/layer4/layer4.1/conv2/Conv\" class=\"node graph-node\" transform=\"translate(15335.03759765625,104.75)\" style=\"opacity: 1;\"><g class=\"node-item node-item-type node-item-type-layer\" transform=\"translate(0,0)\"><path d=\"M5,0h143.06982421875a5,5 0 0 1 5,5v18a0,0 0 0 1 0,0h-153.06982421875a0,0 0 0 1 0,0v-18a5,5 0 0 1 5,-5z\" style=\"stroke: rgb(0, 0, 0); fill: rgb(51, 85, 136); stroke-width: 0;\"/><text x=\"6\" y=\"16\" style=\"font-family: -apple-system, BlinkMacSystemFont, &quot;Segoe WPC&quot;, &quot;Segoe UI&quot;, Ubuntu, &quot;Droid Sans&quot;, sans-serif, &quot;PingFang SC&quot;; font-size: 11px; text-rendering: geometricprecision; fill: rgb(255, 255, 255);\">/layer4/layer4.1/conv2/Conv</text><title>Conv</title></g><g class=\"node-attribute\" transform=\"translate(0,23)\"><path d=\"M0,0h153.06982421875a0,0 0 0 1 0,0v85a5,5 0 0 1 -5,5h-143.06982421875a5,5 0 0 1 -5,-5v-85a0,0 0 0 1 0,0z\" style=\"stroke: rgb(0, 0, 0); fill: rgb(255, 255, 255); stroke-width: 0;\"/><text id=\"initializer-onnx::Conv_324\" xml:space=\"preserve\" x=\"6\" y=\"14\" style=\"font-family: -apple-system, BlinkMacSystemFont, &quot;Segoe WPC&quot;, &quot;Segoe UI&quot;, Ubuntu, &quot;Droid Sans&quot;, sans-serif, &quot;PingFang SC&quot;; font-size: 9px; font-weight: normal; text-rendering: geometricprecision;\"><title>float32[256,256,3,3]</title><tspan style=\"font-weight: bold;\">W</tspan><tspan>〈256×256×3×3〉</tspan></text><text id=\"initializer-onnx::Conv_325\" xml:space=\"preserve\" x=\"6\" y=\"28\" style=\"font-family: -apple-system, BlinkMacSystemFont, &quot;Segoe WPC&quot;, &quot;Segoe UI&quot;, Ubuntu, &quot;Droid Sans&quot;, sans-serif, &quot;PingFang SC&quot;; font-size: 9px; font-weight: normal; text-rendering: geometricprecision;\"><title>float32[256]</title><tspan style=\"font-weight: bold;\">B</tspan><tspan>〈256〉</tspan></text><text xml:space=\"preserve\" x=\"6\" y=\"42\" style=\"font-family: -apple-system, BlinkMacSystemFont, &quot;Segoe WPC&quot;, &quot;Segoe UI&quot;, Ubuntu, &quot;Droid Sans&quot;, sans-serif, &quot;PingFang SC&quot;; font-size: 9px; font-weight: normal; text-rendering: geometricprecision;\"><title>int64[]</title><tspan>dilations</tspan><tspan> = 1, 1</tspan></text><text xml:space=\"preserve\" x=\"6\" y=\"56\" style=\"font-family: -apple-system, BlinkMacSystemFont, &quot;Segoe WPC&quot;, &quot;Segoe UI&quot;, Ubuntu, &quot;Droid Sans&quot;, sans-serif, &quot;PingFang SC&quot;; font-size: 9px; font-weight: normal; text-rendering: geometricprecision;\"><title>int64[]</title><tspan>kernel_shape</tspan><tspan> = 3, 3</tspan></text><text xml:space=\"preserve\" x=\"6\" y=\"70\" style=\"font-family: -apple-system, BlinkMacSystemFont, &quot;Segoe WPC&quot;, &quot;Segoe UI&quot;, Ubuntu, &quot;Droid Sans&quot;, sans-serif, &quot;PingFang SC&quot;; font-size: 9px; font-weight: normal; text-rendering: geometricprecision;\"><title>int64[]</title><tspan>pads</tspan><tspan> = 1, 1, 1, 1</tspan></text><text xml:space=\"preserve\" x=\"6\" y=\"84\" style=\"font-family: -apple-system, BlinkMacSystemFont, &quot;Segoe WPC&quot;, &quot;Segoe UI&quot;, Ubuntu, &quot;Droid Sans&quot;, sans-serif, &quot;PingFang SC&quot;; font-size: 9px; font-weight: normal; text-rendering: geometricprecision;\"><title>int64[]</title><tspan>strides</tspan><tspan> = 1, 1</tspan></text><line class=\"node\" x1=\"0\" x2=\"153.06982421875\" y1=\"0\" y2=\"0\" style=\"stroke: rgb(51, 51, 51); fill: none; stroke-width: 1px;\"/></g><path class=\"node border\" d=\"M5,0h143.06982421875a5,5 0 0 1 5,5v103a5,5 0 0 1 -5,5h-143.06982421875a5,5 0 0 1 -5,-5v-103a5,5 0 0 1 5,-5z\" style=\"stroke: rgb(51, 51, 51); fill: none; stroke-width: 1px;\"/></g><g id=\"node-name-/layer4/layer4.1/Add\" class=\"node graph-node\" transform=\"translate(15678.095703125,111.5)\" style=\"opacity: 1;\"><g class=\"node-item node-item-type\" transform=\"translate(0,0)\"><path d=\"M5,0h104.40625a5,5 0 0 1 5,5v13a5,5 0 0 1 -5,5h-104.40625a5,5 0 0 1 -5,-5v-13a5,5 0 0 1 5,-5z\" style=\"stroke: rgb(0, 0, 0); fill: rgb(0, 0, 0); stroke-width: 0;\"/><text x=\"6\" y=\"16\" style=\"font-family: -apple-system, BlinkMacSystemFont, &quot;Segoe WPC&quot;, &quot;Segoe UI&quot;, Ubuntu, &quot;Droid Sans&quot;, sans-serif, &quot;PingFang SC&quot;; font-size: 11px; text-rendering: geometricprecision; fill: rgb(255, 255, 255);\">/layer4/layer4.1/Add</text><title>Add</title></g><path class=\"node border\" d=\"M5,0h104.40625a5,5 0 0 1 5,5v13a5,5 0 0 1 -5,5h-104.40625a5,5 0 0 1 -5,-5v-13a5,5 0 0 1 5,-5z\" style=\"stroke: rgb(51, 51, 51); fill: none; stroke-width: 1px;\"/></g><g id=\"node-name-/layer4/layer4.1/Relu_1\" class=\"node graph-node\" transform=\"translate(15948.0029296875,111.5)\" style=\"opacity: 1;\"><g class=\"node-item node-item-type node-item-type-activation\" transform=\"translate(0,0)\"><path d=\"M5,0h115.75a5,5 0 0 1 5,5v13a5,5 0 0 1 -5,5h-115.75a5,5 0 0 1 -5,-5v-13a5,5 0 0 1 5,-5z\" style=\"stroke: rgb(0, 0, 0); fill: rgb(112, 41, 33); stroke-width: 0;\"/><text x=\"6\" y=\"16\" style=\"font-family: -apple-system, BlinkMacSystemFont, &quot;Segoe WPC&quot;, &quot;Segoe UI&quot;, Ubuntu, &quot;Droid Sans&quot;, sans-serif, &quot;PingFang SC&quot;; font-size: 11px; text-rendering: geometricprecision; fill: rgb(255, 255, 255);\">/layer4/layer4.1/Relu_1</text><title>Relu</title></g><path class=\"node border\" d=\"M5,0h115.75a5,5 0 0 1 5,5v13a5,5 0 0 1 -5,5h-115.75a5,5 0 0 1 -5,-5v-13a5,5 0 0 1 5,-5z\" style=\"stroke: rgb(51, 51, 51); fill: none; stroke-width: 1px;\"/></g><g id=\"node-name-/layer4/layer4.2/conv1/Conv\" class=\"node graph-node\" transform=\"translate(16239.56640625,104.75)\" style=\"opacity: 1;\"><g class=\"node-item node-item-type node-item-type-layer\" transform=\"translate(0,0)\"><path d=\"M5,0h143.06982421875a5,5 0 0 1 5,5v18a0,0 0 0 1 0,0h-153.06982421875a0,0 0 0 1 0,0v-18a5,5 0 0 1 5,-5z\" style=\"stroke: rgb(0, 0, 0); fill: rgb(51, 85, 136); stroke-width: 0;\"/><text x=\"6\" y=\"16\" style=\"font-family: -apple-system, BlinkMacSystemFont, &quot;Segoe WPC&quot;, &quot;Segoe UI&quot;, Ubuntu, &quot;Droid Sans&quot;, sans-serif, &quot;PingFang SC&quot;; font-size: 11px; text-rendering: geometricprecision; fill: rgb(255, 255, 255);\">/layer4/layer4.2/conv1/Conv</text><title>Conv</title></g><g class=\"node-attribute\" transform=\"translate(0,23)\"><path d=\"M0,0h153.06982421875a0,0 0 0 1 0,0v85a5,5 0 0 1 -5,5h-143.06982421875a5,5 0 0 1 -5,-5v-85a0,0 0 0 1 0,0z\" style=\"stroke: rgb(0, 0, 0); fill: rgb(255, 255, 255); stroke-width: 0;\"/><text id=\"initializer-onnx::Conv_327\" xml:space=\"preserve\" x=\"6\" y=\"14\" style=\"font-family: -apple-system, BlinkMacSystemFont, &quot;Segoe WPC&quot;, &quot;Segoe UI&quot;, Ubuntu, &quot;Droid Sans&quot;, sans-serif, &quot;PingFang SC&quot;; font-size: 9px; font-weight: normal; text-rendering: geometricprecision;\"><title>float32[256,256,3,3]</title><tspan style=\"font-weight: bold;\">W</tspan><tspan>〈256×256×3×3〉</tspan></text><text id=\"initializer-onnx::Conv_328\" xml:space=\"preserve\" x=\"6\" y=\"28\" style=\"font-family: -apple-system, BlinkMacSystemFont, &quot;Segoe WPC&quot;, &quot;Segoe UI&quot;, Ubuntu, &quot;Droid Sans&quot;, sans-serif, &quot;PingFang SC&quot;; font-size: 9px; font-weight: normal; text-rendering: geometricprecision;\"><title>float32[256]</title><tspan style=\"font-weight: bold;\">B</tspan><tspan>〈256〉</tspan></text><text xml:space=\"preserve\" x=\"6\" y=\"42\" style=\"font-family: -apple-system, BlinkMacSystemFont, &quot;Segoe WPC&quot;, &quot;Segoe UI&quot;, Ubuntu, &quot;Droid Sans&quot;, sans-serif, &quot;PingFang SC&quot;; font-size: 9px; font-weight: normal; text-rendering: geometricprecision;\"><title>int64[]</title><tspan>dilations</tspan><tspan> = 1, 1</tspan></text><text xml:space=\"preserve\" x=\"6\" y=\"56\" style=\"font-family: -apple-system, BlinkMacSystemFont, &quot;Segoe WPC&quot;, &quot;Segoe UI&quot;, Ubuntu, &quot;Droid Sans&quot;, sans-serif, &quot;PingFang SC&quot;; font-size: 9px; font-weight: normal; text-rendering: geometricprecision;\"><title>int64[]</title><tspan>kernel_shape</tspan><tspan> = 3, 3</tspan></text><text xml:space=\"preserve\" x=\"6\" y=\"70\" style=\"font-family: -apple-system, BlinkMacSystemFont, &quot;Segoe WPC&quot;, &quot;Segoe UI&quot;, Ubuntu, &quot;Droid Sans&quot;, sans-serif, &quot;PingFang SC&quot;; font-size: 9px; font-weight: normal; text-rendering: geometricprecision;\"><title>int64[]</title><tspan>pads</tspan><tspan> = 1, 1, 1, 1</tspan></text><text xml:space=\"preserve\" x=\"6\" y=\"84\" style=\"font-family: -apple-system, BlinkMacSystemFont, &quot;Segoe WPC&quot;, &quot;Segoe UI&quot;, Ubuntu, &quot;Droid Sans&quot;, sans-serif, &quot;PingFang SC&quot;; font-size: 9px; font-weight: normal; text-rendering: geometricprecision;\"><title>int64[]</title><tspan>strides</tspan><tspan> = 1, 1</tspan></text><line class=\"node\" x1=\"0\" x2=\"153.06982421875\" y1=\"0\" y2=\"0\" style=\"stroke: rgb(51, 51, 51); fill: none; stroke-width: 1px;\"/></g><path class=\"node border\" d=\"M5,0h143.06982421875a5,5 0 0 1 5,5v103a5,5 0 0 1 -5,5h-143.06982421875a5,5 0 0 1 -5,-5v-103a5,5 0 0 1 5,-5z\" style=\"stroke: rgb(51, 51, 51); fill: none; stroke-width: 1px;\"/></g><g id=\"node-name-/layer4/layer4.2/Relu\" class=\"node graph-node\" transform=\"translate(16597.8984375,149.75)\" style=\"opacity: 1;\"><g class=\"node-item node-item-type node-item-type-activation\" transform=\"translate(0,0)\"><path d=\"M5,0h105.265625a5,5 0 0 1 5,5v13a5,5 0 0 1 -5,5h-105.265625a5,5 0 0 1 -5,-5v-13a5,5 0 0 1 5,-5z\" style=\"stroke: rgb(0, 0, 0); fill: rgb(112, 41, 33); stroke-width: 0;\"/><text x=\"6\" y=\"16\" style=\"font-family: -apple-system, BlinkMacSystemFont, &quot;Segoe WPC&quot;, &quot;Segoe UI&quot;, Ubuntu, &quot;Droid Sans&quot;, sans-serif, &quot;PingFang SC&quot;; font-size: 11px; text-rendering: geometricprecision; fill: rgb(255, 255, 255);\">/layer4/layer4.2/Relu</text><title>Relu</title></g><path class=\"node border\" d=\"M5,0h105.265625a5,5 0 0 1 5,5v13a5,5 0 0 1 -5,5h-105.265625a5,5 0 0 1 -5,-5v-13a5,5 0 0 1 5,-5z\" style=\"stroke: rgb(51, 51, 51); fill: none; stroke-width: 1px;\"/></g><g id=\"node-name-/layer4/layer4.2/conv2/Conv\" class=\"node graph-node\" transform=\"translate(16884.71044921875,104.75)\" style=\"opacity: 1;\"><g class=\"node-item node-item-type node-item-type-layer\" transform=\"translate(0,0)\"><path d=\"M5,0h143.06982421875a5,5 0 0 1 5,5v18a0,0 0 0 1 0,0h-153.06982421875a0,0 0 0 1 0,0v-18a5,5 0 0 1 5,-5z\" style=\"stroke: rgb(0, 0, 0); fill: rgb(51, 85, 136); stroke-width: 0;\"/><text x=\"6\" y=\"16\" style=\"font-family: -apple-system, BlinkMacSystemFont, &quot;Segoe WPC&quot;, &quot;Segoe UI&quot;, Ubuntu, &quot;Droid Sans&quot;, sans-serif, &quot;PingFang SC&quot;; font-size: 11px; text-rendering: geometricprecision; fill: rgb(255, 255, 255);\">/layer4/layer4.2/conv2/Conv</text><title>Conv</title></g><g class=\"node-attribute\" transform=\"translate(0,23)\"><path d=\"M0,0h153.06982421875a0,0 0 0 1 0,0v85a5,5 0 0 1 -5,5h-143.06982421875a5,5 0 0 1 -5,-5v-85a0,0 0 0 1 0,0z\" style=\"stroke: rgb(0, 0, 0); fill: rgb(255, 255, 255); stroke-width: 0;\"/><text id=\"initializer-onnx::Conv_330\" xml:space=\"preserve\" x=\"6\" y=\"14\" style=\"font-family: -apple-system, BlinkMacSystemFont, &quot;Segoe WPC&quot;, &quot;Segoe UI&quot;, Ubuntu, &quot;Droid Sans&quot;, sans-serif, &quot;PingFang SC&quot;; font-size: 9px; font-weight: normal; text-rendering: geometricprecision;\"><title>float32[256,256,3,3]</title><tspan style=\"font-weight: bold;\">W</tspan><tspan>〈256×256×3×3〉</tspan></text><text id=\"initializer-onnx::Conv_331\" xml:space=\"preserve\" x=\"6\" y=\"28\" style=\"font-family: -apple-system, BlinkMacSystemFont, &quot;Segoe WPC&quot;, &quot;Segoe UI&quot;, Ubuntu, &quot;Droid Sans&quot;, sans-serif, &quot;PingFang SC&quot;; font-size: 9px; font-weight: normal; text-rendering: geometricprecision;\"><title>float32[256]</title><tspan style=\"font-weight: bold;\">B</tspan><tspan>〈256〉</tspan></text><text xml:space=\"preserve\" x=\"6\" y=\"42\" style=\"font-family: -apple-system, BlinkMacSystemFont, &quot;Segoe WPC&quot;, &quot;Segoe UI&quot;, Ubuntu, &quot;Droid Sans&quot;, sans-serif, &quot;PingFang SC&quot;; font-size: 9px; font-weight: normal; text-rendering: geometricprecision;\"><title>int64[]</title><tspan>dilations</tspan><tspan> = 1, 1</tspan></text><text xml:space=\"preserve\" x=\"6\" y=\"56\" style=\"font-family: -apple-system, BlinkMacSystemFont, &quot;Segoe WPC&quot;, &quot;Segoe UI&quot;, Ubuntu, &quot;Droid Sans&quot;, sans-serif, &quot;PingFang SC&quot;; font-size: 9px; font-weight: normal; text-rendering: geometricprecision;\"><title>int64[]</title><tspan>kernel_shape</tspan><tspan> = 3, 3</tspan></text><text xml:space=\"preserve\" x=\"6\" y=\"70\" style=\"font-family: -apple-system, BlinkMacSystemFont, &quot;Segoe WPC&quot;, &quot;Segoe UI&quot;, Ubuntu, &quot;Droid Sans&quot;, sans-serif, &quot;PingFang SC&quot;; font-size: 9px; font-weight: normal; text-rendering: geometricprecision;\"><title>int64[]</title><tspan>pads</tspan><tspan> = 1, 1, 1, 1</tspan></text><text xml:space=\"preserve\" x=\"6\" y=\"84\" style=\"font-family: -apple-system, BlinkMacSystemFont, &quot;Segoe WPC&quot;, &quot;Segoe UI&quot;, Ubuntu, &quot;Droid Sans&quot;, sans-serif, &quot;PingFang SC&quot;; font-size: 9px; font-weight: normal; text-rendering: geometricprecision;\"><title>int64[]</title><tspan>strides</tspan><tspan> = 1, 1</tspan></text><line class=\"node\" x1=\"0\" x2=\"153.06982421875\" y1=\"0\" y2=\"0\" style=\"stroke: rgb(51, 51, 51); fill: none; stroke-width: 1px;\"/></g><path class=\"node border\" d=\"M5,0h143.06982421875a5,5 0 0 1 5,5v103a5,5 0 0 1 -5,5h-143.06982421875a5,5 0 0 1 -5,-5v-103a5,5 0 0 1 5,-5z\" style=\"stroke: rgb(51, 51, 51); fill: none; stroke-width: 1px;\"/></g><g id=\"node-name-/layer4/layer4.2/Add\" class=\"node graph-node\" transform=\"translate(17227.7685546875,111.5)\" style=\"opacity: 1;\"><g class=\"node-item node-item-type\" transform=\"translate(0,0)\"><path d=\"M5,0h104.40625a5,5 0 0 1 5,5v13a5,5 0 0 1 -5,5h-104.40625a5,5 0 0 1 -5,-5v-13a5,5 0 0 1 5,-5z\" style=\"stroke: rgb(0, 0, 0); fill: rgb(0, 0, 0); stroke-width: 0;\"/><text x=\"6\" y=\"16\" style=\"font-family: -apple-system, BlinkMacSystemFont, &quot;Segoe WPC&quot;, &quot;Segoe UI&quot;, Ubuntu, &quot;Droid Sans&quot;, sans-serif, &quot;PingFang SC&quot;; font-size: 11px; text-rendering: geometricprecision; fill: rgb(255, 255, 255);\">/layer4/layer4.2/Add</text><title>Add</title></g><path class=\"node border\" d=\"M5,0h104.40625a5,5 0 0 1 5,5v13a5,5 0 0 1 -5,5h-104.40625a5,5 0 0 1 -5,-5v-13a5,5 0 0 1 5,-5z\" style=\"stroke: rgb(51, 51, 51); fill: none; stroke-width: 1px;\"/></g><g id=\"node-name-/layer4/layer4.2/Relu_1\" class=\"node graph-node\" transform=\"translate(17497.67578125,111.5)\" style=\"opacity: 1;\"><g class=\"node-item node-item-type node-item-type-activation\" transform=\"translate(0,0)\"><path d=\"M5,0h115.75a5,5 0 0 1 5,5v13a5,5 0 0 1 -5,5h-115.75a5,5 0 0 1 -5,-5v-13a5,5 0 0 1 5,-5z\" style=\"stroke: rgb(0, 0, 0); fill: rgb(112, 41, 33); stroke-width: 0;\"/><text x=\"6\" y=\"16\" style=\"font-family: -apple-system, BlinkMacSystemFont, &quot;Segoe WPC&quot;, &quot;Segoe UI&quot;, Ubuntu, &quot;Droid Sans&quot;, sans-serif, &quot;PingFang SC&quot;; font-size: 11px; text-rendering: geometricprecision; fill: rgb(255, 255, 255);\">/layer4/layer4.2/Relu_1</text><title>Relu</title></g><path class=\"node border\" d=\"M5,0h115.75a5,5 0 0 1 5,5v13a5,5 0 0 1 -5,5h-115.75a5,5 0 0 1 -5,-5v-13a5,5 0 0 1 5,-5z\" style=\"stroke: rgb(51, 51, 51); fill: none; stroke-width: 1px;\"/></g><g id=\"node-name-/Pad\" class=\"node graph-node\" transform=\"translate(17789.2392578125,94.5)\" style=\"opacity: 1;\"><g class=\"node-item node-item-type node-item-type-tensor\" transform=\"translate(0,0)\"><path d=\"M5,0h101.9638671875a5,5 0 0 1 5,5v18a0,0 0 0 1 0,0h-111.9638671875a0,0 0 0 1 0,0v-18a5,5 0 0 1 5,-5z\" style=\"stroke: rgb(0, 0, 0); fill: rgb(89, 66, 59); stroke-width: 0;\"/><text x=\"6\" y=\"16\" style=\"font-family: -apple-system, BlinkMacSystemFont, &quot;Segoe WPC&quot;, &quot;Segoe UI&quot;, Ubuntu, &quot;Droid Sans&quot;, sans-serif, &quot;PingFang SC&quot;; font-size: 11px; text-rendering: geometricprecision; fill: rgb(255, 255, 255);\">/Pad</text><title>Pad</title></g><g class=\"node-attribute\" transform=\"translate(0,23)\"><path d=\"M0,0h111.9638671875a0,0 0 0 1 0,0v29a5,5 0 0 1 -5,5h-101.9638671875a5,5 0 0 1 -5,-5v-29a0,0 0 0 1 0,0z\" style=\"stroke: rgb(0, 0, 0); fill: rgb(255, 255, 255); stroke-width: 0;\"/><text xml:space=\"preserve\" x=\"6\" y=\"14\" style=\"font-family: -apple-system, BlinkMacSystemFont, &quot;Segoe WPC&quot;, &quot;Segoe UI&quot;, Ubuntu, &quot;Droid Sans&quot;, sans-serif, &quot;PingFang SC&quot;; font-size: 9px; font-weight: normal; text-rendering: geometricprecision;\"><title>int64[]</title><tspan>pads</tspan><tspan> = 0, 0, 0, 0, 0, 0, 0, 0</tspan></text><text xml:space=\"preserve\" x=\"6\" y=\"28\" style=\"font-family: -apple-system, BlinkMacSystemFont, &quot;Segoe WPC&quot;, &quot;Segoe UI&quot;, Ubuntu, &quot;Droid Sans&quot;, sans-serif, &quot;PingFang SC&quot;; font-size: 9px; font-weight: normal; text-rendering: geometricprecision;\"><title>float32</title><tspan>value</tspan><tspan> = 0</tspan></text><line class=\"node\" x1=\"0\" x2=\"111.9638671875\" y1=\"0\" y2=\"0\" style=\"stroke: rgb(51, 51, 51); fill: none; stroke-width: 1px;\"/></g><path class=\"node border\" d=\"M5,0h101.9638671875a5,5 0 0 1 5,5v47a5,5 0 0 1 -5,5h-101.9638671875a5,5 0 0 1 -5,-5v-47a5,5 0 0 1 5,-5z\" style=\"stroke: rgb(51, 51, 51); fill: none; stroke-width: 1px;\"/></g><g id=\"node-name-/AveragePool\" class=\"node graph-node\" transform=\"translate(17986.469734191895,87.5)\" style=\"opacity: 1;\"><g class=\"node-item node-item-type node-item-type-pool\" transform=\"translate(0,0)\"><path d=\"M5,0h78.87109375a5,5 0 0 1 5,5v18a0,0 0 0 1 0,0h-88.87109375a0,0 0 0 1 0,0v-18a5,5 0 0 1 5,-5z\" style=\"stroke: rgb(0, 0, 0); fill: rgb(51, 85, 51); stroke-width: 0;\"/><text x=\"6\" y=\"16\" style=\"font-family: -apple-system, BlinkMacSystemFont, &quot;Segoe WPC&quot;, &quot;Segoe UI&quot;, Ubuntu, &quot;Droid Sans&quot;, sans-serif, &quot;PingFang SC&quot;; font-size: 11px; text-rendering: geometricprecision; fill: rgb(255, 255, 255);\">/AveragePool</text><title>AveragePool</title></g><g class=\"node-attribute\" transform=\"translate(0,23)\"><path d=\"M0,0h88.87109375a0,0 0 0 1 0,0v43a5,5 0 0 1 -5,5h-78.87109375a5,5 0 0 1 -5,-5v-43a0,0 0 0 1 0,0z\" style=\"stroke: rgb(0, 0, 0); fill: rgb(255, 255, 255); stroke-width: 0;\"/><text xml:space=\"preserve\" x=\"6\" y=\"14\" style=\"font-family: -apple-system, BlinkMacSystemFont, &quot;Segoe WPC&quot;, &quot;Segoe UI&quot;, Ubuntu, &quot;Droid Sans&quot;, sans-serif, &quot;PingFang SC&quot;; font-size: 9px; font-weight: normal; text-rendering: geometricprecision;\"><title>int64[]</title><tspan>kernel_shape</tspan><tspan> = 4, 4</tspan></text><text xml:space=\"preserve\" x=\"6\" y=\"28\" style=\"font-family: -apple-system, BlinkMacSystemFont, &quot;Segoe WPC&quot;, &quot;Segoe UI&quot;, Ubuntu, &quot;Droid Sans&quot;, sans-serif, &quot;PingFang SC&quot;; font-size: 9px; font-weight: normal; text-rendering: geometricprecision;\"><title>int64[]</title><tspan>pads</tspan><tspan> = 0, 0, 0, 0</tspan></text><text xml:space=\"preserve\" x=\"6\" y=\"42\" style=\"font-family: -apple-system, BlinkMacSystemFont, &quot;Segoe WPC&quot;, &quot;Segoe UI&quot;, Ubuntu, &quot;Droid Sans&quot;, sans-serif, &quot;PingFang SC&quot;; font-size: 9px; font-weight: normal; text-rendering: geometricprecision;\"><title>int64[]</title><tspan>strides</tspan><tspan> = 4, 4</tspan></text><line class=\"node\" x1=\"0\" x2=\"88.87109375\" y1=\"0\" y2=\"0\" style=\"stroke: rgb(51, 51, 51); fill: none; stroke-width: 1px;\"/></g><path class=\"node border\" d=\"M5,0h78.87109375a5,5 0 0 1 5,5v61a5,5 0 0 1 -5,5h-78.87109375a5,5 0 0 1 -5,-5v-61a5,5 0 0 1 5,-5z\" style=\"stroke: rgb(51, 51, 51); fill: none; stroke-width: 1px;\"/></g><g id=\"node-name-/Reshape\" class=\"node graph-node\" transform=\"translate(18199.699226379395,101.5)\" style=\"opacity: 1;\"><g class=\"node-item node-item-type node-item-type-shape\" transform=\"translate(0,0)\"><path d=\"M5,0h65a5,5 0 0 1 5,5v18a0,0 0 0 1 0,0h-75a0,0 0 0 1 0,0v-18a5,5 0 0 1 5,-5z\" style=\"stroke: rgb(0, 0, 0); fill: rgb(108, 79, 71); stroke-width: 0;\"/><text x=\"6\" y=\"16\" style=\"font-family: -apple-system, BlinkMacSystemFont, &quot;Segoe WPC&quot;, &quot;Segoe UI&quot;, Ubuntu, &quot;Droid Sans&quot;, sans-serif, &quot;PingFang SC&quot;; font-size: 11px; text-rendering: geometricprecision; fill: rgb(255, 255, 255);\">/Reshape</text><title>Reshape</title></g><g class=\"node-attribute\" transform=\"translate(0,23)\"><path d=\"M0,0h75a0,0 0 0 1 0,0v15a5,5 0 0 1 -5,5h-65a5,5 0 0 1 -5,-5v-15a0,0 0 0 1 0,0z\" style=\"stroke: rgb(0, 0, 0); fill: rgb(255, 255, 255); stroke-width: 0;\"/><text id=\"initializer-/Constant_output_0\" xml:space=\"preserve\" x=\"6\" y=\"14\" style=\"font-family: -apple-system, BlinkMacSystemFont, &quot;Segoe WPC&quot;, &quot;Segoe UI&quot;, Ubuntu, &quot;Droid Sans&quot;, sans-serif, &quot;PingFang SC&quot;; font-size: 9px; font-weight: normal; text-rendering: geometricprecision;\"><title>int64[2]</title><tspan style=\"font-weight: bold;\">shape</tspan><tspan>〈2〉</tspan></text><line class=\"node\" x1=\"0\" x2=\"75\" y1=\"0\" y2=\"0\" style=\"stroke: rgb(51, 51, 51); fill: none; stroke-width: 1px;\"/></g><path class=\"node border\" d=\"M5,0h65a5,5 0 0 1 5,5v33a5,5 0 0 1 -5,5h-65a5,5 0 0 1 -5,-5v-33a5,5 0 0 1 5,-5z\" style=\"stroke: rgb(51, 51, 51); fill: none; stroke-width: 1px;\"/></g><g id=\"node-name-/linear/Gemm\" class=\"node graph-node\" transform=\"translate(18380.747077941895,87.5)\" style=\"opacity: 1;\"><g class=\"node-item node-item-type node-item-type-layer\" transform=\"translate(0,0)\"><path d=\"M5,0h72.546875a5,5 0 0 1 5,5v18a0,0 0 0 1 0,0h-82.546875a0,0 0 0 1 0,0v-18a5,5 0 0 1 5,-5z\" style=\"stroke: rgb(0, 0, 0); fill: rgb(51, 85, 136); stroke-width: 0;\"/><text x=\"6\" y=\"16\" style=\"font-family: -apple-system, BlinkMacSystemFont, &quot;Segoe WPC&quot;, &quot;Segoe UI&quot;, Ubuntu, &quot;Droid Sans&quot;, sans-serif, &quot;PingFang SC&quot;; font-size: 11px; text-rendering: geometricprecision; fill: rgb(255, 255, 255);\">/linear/Gemm</text><title>Gemm</title></g><g class=\"node-attribute\" transform=\"translate(0,23)\"><path d=\"M0,0h82.546875a0,0 0 0 1 0,0v43a5,5 0 0 1 -5,5h-72.546875a5,5 0 0 1 -5,-5v-43a0,0 0 0 1 0,0z\" style=\"stroke: rgb(0, 0, 0); fill: rgb(255, 255, 255); stroke-width: 0;\"/><text id=\"initializer-linear.weight\" xml:space=\"preserve\" x=\"6\" y=\"14\" style=\"font-family: -apple-system, BlinkMacSystemFont, &quot;Segoe WPC&quot;, &quot;Segoe UI&quot;, Ubuntu, &quot;Droid Sans&quot;, sans-serif, &quot;PingFang SC&quot;; font-size: 9px; font-weight: normal; text-rendering: geometricprecision;\"><title>float32[10,256]</title><tspan style=\"font-weight: bold;\">B</tspan><tspan>〈10×256〉</tspan></text><text id=\"initializer-linear.bias\" xml:space=\"preserve\" x=\"6\" y=\"28\" style=\"font-family: -apple-system, BlinkMacSystemFont, &quot;Segoe WPC&quot;, &quot;Segoe UI&quot;, Ubuntu, &quot;Droid Sans&quot;, sans-serif, &quot;PingFang SC&quot;; font-size: 9px; font-weight: normal; text-rendering: geometricprecision;\"><title>float32[10]</title><tspan style=\"font-weight: bold;\">C</tspan><tspan>〈10〉</tspan></text><text xml:space=\"preserve\" x=\"6\" y=\"42\" style=\"font-family: -apple-system, BlinkMacSystemFont, &quot;Segoe WPC&quot;, &quot;Segoe UI&quot;, Ubuntu, &quot;Droid Sans&quot;, sans-serif, &quot;PingFang SC&quot;; font-size: 9px; font-weight: normal; text-rendering: geometricprecision;\"><title>int64</title><tspan>transB</tspan><tspan> = 1</tspan></text><line class=\"node\" x1=\"0\" x2=\"82.546875\" y1=\"0\" y2=\"0\" style=\"stroke: rgb(51, 51, 51); fill: none; stroke-width: 1px;\"/></g><path class=\"node border\" d=\"M5,0h72.546875a5,5 0 0 1 5,5v61a5,5 0 0 1 -5,5h-72.546875a5,5 0 0 1 -5,-5v-61a5,5 0 0 1 5,-5z\" style=\"stroke: rgb(51, 51, 51); fill: none; stroke-width: 1px;\"/></g><g class=\"node\" transform=\"translate(18543.431648254395,111.5)\" style=\"opacity: 1;\"><g class=\"node-item graph-item-output\" transform=\"translate(0,0)\"><path d=\"M5,0h69.75146484375a5,5 0 0 1 5,5v13a5,5 0 0 1 -5,5h-69.75146484375a5,5 0 0 1 -5,-5v-13a5,5 0 0 1 5,-5z\" style=\"stroke: rgb(0, 0, 0); fill: rgb(238, 238, 238); stroke-width: 0;\"/><text x=\"6\" y=\"16\" style=\"font-family: -apple-system, BlinkMacSystemFont, &quot;Segoe WPC&quot;, &quot;Segoe UI&quot;, Ubuntu, &quot;Droid Sans&quot;, sans-serif, &quot;PingFang SC&quot;; font-size: 11px; text-rendering: geometricprecision;\">modelOutput</text><title>float32[4,10]</title></g><path class=\"node border\" d=\"M5,0h69.75146484375a5,5 0 0 1 5,5v13a5,5 0 0 1 -5,5h-69.75146484375a5,5 0 0 1 -5,-5v-13a5,5 0 0 1 5,-5z\" style=\"stroke: rgb(51, 51, 51); fill: none; stroke-width: 1px;\"/></g></g></g></svg>"
          },
          "metadata": {}
        }
      ]
    },
    {
      "cell_type": "code",
      "source": [
        "import urllib.request\n",
        "from IPython.display import Image, display\n",
        "\n",
        "# URL of the PNG image\n",
        "url = \"https://i.postimg.cc/hP7v0zPk/final-model1-1-onnx.png\"\n",
        "\n",
        "# Download the PNG image\n",
        "png_data = urllib.request.urlopen(url).read()\n",
        "\n",
        "# Display the PNG image in Colab\n",
        "display(Image(png_data))\n"
      ],
      "metadata": {
        "id": "yObqu6V9mPMR",
        "colab": {
          "base_uri": "https://localhost:8080/",
          "height": 817
        },
        "outputId": "79422e6f-2194-41bc-85e8-1bde02871b5b"
      },
      "execution_count": null,
      "outputs": [
        {
          "output_type": "display_data",
          "data": {
            "image/png": "[encoded data removed]",
            "text/plain": [
              "<IPython.core.display.Image object>"
            ]
          },
          "metadata": {}
        }
      ]
    }
  ]
}